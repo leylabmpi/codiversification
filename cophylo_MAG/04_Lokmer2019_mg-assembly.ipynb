{
 "cells": [
  {
   "cell_type": "markdown",
   "metadata": {
    "toc": true
   },
   "source": [
    "<h1>Table of Contents<span class=\"tocSkip\"></span></h1>\n",
    "<div class=\"toc\"><ul class=\"toc-item\"><li><span><a href=\"#Goal\" data-toc-modified-id=\"Goal-1\"><span class=\"toc-item-num\">1&nbsp;&nbsp;</span>Goal</a></span></li><li><span><a href=\"#Var\" data-toc-modified-id=\"Var-2\"><span class=\"toc-item-num\">2&nbsp;&nbsp;</span>Var</a></span></li><li><span><a href=\"#Init\" data-toc-modified-id=\"Init-3\"><span class=\"toc-item-num\">3&nbsp;&nbsp;</span>Init</a></span></li><li><span><a href=\"#Load\" data-toc-modified-id=\"Load-4\"><span class=\"toc-item-num\">4&nbsp;&nbsp;</span>Load</a></span></li><li><span><a href=\"#LLG-summary\" data-toc-modified-id=\"LLG-summary-5\"><span class=\"toc-item-num\">5&nbsp;&nbsp;</span>LLG summary</a></span><ul class=\"toc-item\"><li><ul class=\"toc-item\"><li><ul class=\"toc-item\"><li><span><a href=\"#Writing-table\" data-toc-modified-id=\"Writing-table-5.0.0.1\"><span class=\"toc-item-num\">5.0.0.1&nbsp;&nbsp;</span>Writing table</a></span></li></ul></li></ul></li></ul></li><li><span><a href=\"#target-species\" data-toc-modified-id=\"target-species-6\"><span class=\"toc-item-num\">6&nbsp;&nbsp;</span>target species</a></span><ul class=\"toc-item\"><li><ul class=\"toc-item\"><li><span><a href=\"#Summary\" data-toc-modified-id=\"Summary-6.0.1\"><span class=\"toc-item-num\">6.0.1&nbsp;&nbsp;</span>Summary</a></span></li></ul></li></ul></li><li><span><a href=\"#sessionInfo\" data-toc-modified-id=\"sessionInfo-7\"><span class=\"toc-item-num\">7&nbsp;&nbsp;</span>sessionInfo</a></span></li></ul></div>"
   ]
  },
  {
   "cell_type": "markdown",
   "metadata": {},
   "source": [
    "# Goal\n",
    "\n",
    "* Summarize Liam's metagenome assembly of the `Lokmer et al 2019` dataset (Cameroon)"
   ]
  },
  {
   "cell_type": "markdown",
   "metadata": {},
   "source": [
    "# Var"
   ]
  },
  {
   "cell_type": "code",
   "execution_count": 45,
   "metadata": {
    "ExecuteTime": {
     "end_time": "2021-07-30T10:47:04.193559Z",
     "start_time": "2021-07-30T10:47:04.161Z"
    }
   },
   "outputs": [],
   "source": [
    "work_dir = '/ebio/abt3_projects/HUBIF_metagenomics/data/pipelines/llg/cophyverttrans/lokmeretal2019/round1/llg_output/'\n",
    "\n",
    "# target cophylogeny species\n",
    "cophy_dir = '/ebio/abt3_projects/HUBIF_metagenomics/data/pipelines/llg/cophyverttrans/batch2_clusters1-3/round6/'\n",
    "cophylo_adult_spec_file = file.path(cophy_dir, 'cophylo_species', 'AdultBetweenPop_species.tsv')\n",
    "cophylo_infant_spec_file = file.path(cophy_dir, 'cophylo_species', 'InfantResults_species.txt')\n",
    "\n",
    "# params\n",
    "threads = 4"
   ]
  },
  {
   "cell_type": "markdown",
   "metadata": {},
   "source": [
    "# Init"
   ]
  },
  {
   "cell_type": "code",
   "execution_count": 46,
   "metadata": {
    "ExecuteTime": {
     "end_time": "2021-07-30T10:47:04.449550Z",
     "start_time": "2021-07-30T10:47:04.423Z"
    }
   },
   "outputs": [],
   "source": [
    "library(dplyr)\n",
    "library(tidyr)\n",
    "library(ggplot2)\n",
    "library(data.table)\n",
    "library(tidytable)\n",
    "library(LeyLabRMisc)"
   ]
  },
  {
   "cell_type": "code",
   "execution_count": 47,
   "metadata": {
    "ExecuteTime": {
     "end_time": "2021-07-30T10:47:04.561696Z",
     "start_time": "2021-07-30T10:47:04.543Z"
    }
   },
   "outputs": [],
   "source": [
    "df.dims()\n",
    "setDTthreads(threads)"
   ]
  },
  {
   "cell_type": "markdown",
   "metadata": {},
   "source": [
    "# Load"
   ]
  },
  {
   "cell_type": "code",
   "execution_count": 48,
   "metadata": {
    "ExecuteTime": {
     "end_time": "2021-07-30T10:47:04.842816Z",
     "start_time": "2021-07-30T10:47:04.793Z"
    }
   },
   "outputs": [
    {
     "data": {
      "text/html": [
       "<table class=\"dataframe\">\n",
       "<caption>A tidytable: 67 × 12</caption>\n",
       "<thead>\n",
       "\t<tr><th scope=col>ncbi_taxonomy</th><th scope=col>gtdb_taxonomy</th><th scope=col>lca_frac</th><th scope=col>target_tax_level</th><th scope=col>age_group</th><th scope=col>Domain</th><th scope=col>Phylum</th><th scope=col>Class</th><th scope=col>Order</th><th scope=col>Family</th><th scope=col>Genus</th><th scope=col>Species</th></tr>\n",
       "\t<tr><th scope=col>&lt;chr&gt;</th><th scope=col>&lt;chr&gt;</th><th scope=col>&lt;dbl&gt;</th><th scope=col>&lt;chr&gt;</th><th scope=col>&lt;chr&gt;</th><th scope=col>&lt;chr&gt;</th><th scope=col>&lt;chr&gt;</th><th scope=col>&lt;chr&gt;</th><th scope=col>&lt;chr&gt;</th><th scope=col>&lt;chr&gt;</th><th scope=col>&lt;chr&gt;</th><th scope=col>&lt;chr&gt;</th></tr>\n",
       "</thead>\n",
       "<tbody>\n",
       "\t<tr><td>s__Catenibacterium_mitsuokai</td><td>s__Catenibacterium mitsuokai</td><td>1</td><td>species</td><td>adult</td><td>d__bacteria</td><td>p__firmicutes  </td><td>c__bacilli   </td><td>o__erysipelotrichales</td><td>f__erysipelatoclostridiaceae</td><td>g__catenibacterium</td><td>catenibacterium mitsuokai</td></tr>\n",
       "\t<tr><td>s__Eubacterium_sp_CAG_251   </td><td>s__Eubacterium_R sp000436835</td><td>1</td><td>species</td><td>adult</td><td>d__Bacteria</td><td>p__Firmicutes_A</td><td>c__Clostridia</td><td>o__Oscillospirales   </td><td>f__Acutalibacteraceae       </td><td>g__Eubacterium_R  </td><td>Eubacterium_R sp000436835</td></tr>\n",
       "\t<tr><td>⋮</td><td>⋮</td><td>⋮</td><td>⋮</td><td>⋮</td><td>⋮</td><td>⋮</td><td>⋮</td><td>⋮</td><td>⋮</td><td>⋮</td><td>⋮</td></tr>\n",
       "\t<tr><td>s__Escherichia_coli        </td><td>g__Escherichia  </td><td>0.99</td><td>genus</td><td>infant</td><td>d__bacteria</td><td>p__proteobacteria</td><td>c__gammaproteobacteria</td><td>o__enterobacterales</td><td>f__enterobacteriaceae</td><td>g__escherichia  </td><td>NA</td></tr>\n",
       "\t<tr><td>s__Streptococcus_salivarius</td><td>g__Streptococcus</td><td>1.00</td><td>genus</td><td>infant</td><td>d__bacteria</td><td>p__firmicutes    </td><td>c__bacilli            </td><td>o__lactobacillales </td><td>f__streptococcaceae  </td><td>g__streptococcus</td><td>NA</td></tr>\n",
       "</tbody>\n",
       "</table>\n"
      ],
      "text/latex": [
       "A tidytable: 67 × 12\n",
       "\\begin{tabular}{llllllllllll}\n",
       " ncbi\\_taxonomy & gtdb\\_taxonomy & lca\\_frac & target\\_tax\\_level & age\\_group & Domain & Phylum & Class & Order & Family & Genus & Species\\\\\n",
       " <chr> & <chr> & <dbl> & <chr> & <chr> & <chr> & <chr> & <chr> & <chr> & <chr> & <chr> & <chr>\\\\\n",
       "\\hline\n",
       "\t s\\_\\_Catenibacterium\\_mitsuokai & s\\_\\_Catenibacterium mitsuokai & 1 & species & adult & d\\_\\_bacteria & p\\_\\_firmicutes   & c\\_\\_bacilli    & o\\_\\_erysipelotrichales & f\\_\\_erysipelatoclostridiaceae & g\\_\\_catenibacterium & catenibacterium mitsuokai\\\\\n",
       "\t s\\_\\_Eubacterium\\_sp\\_CAG\\_251    & s\\_\\_Eubacterium\\_R sp000436835 & 1 & species & adult & d\\_\\_Bacteria & p\\_\\_Firmicutes\\_A & c\\_\\_Clostridia & o\\_\\_Oscillospirales    & f\\_\\_Acutalibacteraceae        & g\\_\\_Eubacterium\\_R   & Eubacterium\\_R sp000436835\\\\\n",
       "\t ⋮ & ⋮ & ⋮ & ⋮ & ⋮ & ⋮ & ⋮ & ⋮ & ⋮ & ⋮ & ⋮ & ⋮\\\\\n",
       "\t s\\_\\_Escherichia\\_coli         & g\\_\\_Escherichia   & 0.99 & genus & infant & d\\_\\_bacteria & p\\_\\_proteobacteria & c\\_\\_gammaproteobacteria & o\\_\\_enterobacterales & f\\_\\_enterobacteriaceae & g\\_\\_escherichia   & NA\\\\\n",
       "\t s\\_\\_Streptococcus\\_salivarius & g\\_\\_Streptococcus & 1.00 & genus & infant & d\\_\\_bacteria & p\\_\\_firmicutes     & c\\_\\_bacilli             & o\\_\\_lactobacillales  & f\\_\\_streptococcaceae   & g\\_\\_streptococcus & NA\\\\\n",
       "\\end{tabular}\n"
      ],
      "text/markdown": [
       "\n",
       "A tidytable: 67 × 12\n",
       "\n",
       "| ncbi_taxonomy &lt;chr&gt; | gtdb_taxonomy &lt;chr&gt; | lca_frac &lt;dbl&gt; | target_tax_level &lt;chr&gt; | age_group &lt;chr&gt; | Domain &lt;chr&gt; | Phylum &lt;chr&gt; | Class &lt;chr&gt; | Order &lt;chr&gt; | Family &lt;chr&gt; | Genus &lt;chr&gt; | Species &lt;chr&gt; |\n",
       "|---|---|---|---|---|---|---|---|---|---|---|---|\n",
       "| s__Catenibacterium_mitsuokai | s__Catenibacterium mitsuokai | 1 | species | adult | d__bacteria | p__firmicutes   | c__bacilli    | o__erysipelotrichales | f__erysipelatoclostridiaceae | g__catenibacterium | catenibacterium mitsuokai |\n",
       "| s__Eubacterium_sp_CAG_251    | s__Eubacterium_R sp000436835 | 1 | species | adult | d__Bacteria | p__Firmicutes_A | c__Clostridia | o__Oscillospirales    | f__Acutalibacteraceae        | g__Eubacterium_R   | Eubacterium_R sp000436835 |\n",
       "| ⋮ | ⋮ | ⋮ | ⋮ | ⋮ | ⋮ | ⋮ | ⋮ | ⋮ | ⋮ | ⋮ | ⋮ |\n",
       "| s__Escherichia_coli         | g__Escherichia   | 0.99 | genus | infant | d__bacteria | p__proteobacteria | c__gammaproteobacteria | o__enterobacterales | f__enterobacteriaceae | g__escherichia   | NA |\n",
       "| s__Streptococcus_salivarius | g__Streptococcus | 1.00 | genus | infant | d__bacteria | p__firmicutes     | c__bacilli             | o__lactobacillales  | f__streptococcaceae   | g__streptococcus | NA |\n",
       "\n"
      ],
      "text/plain": [
       "   ncbi_taxonomy                gtdb_taxonomy                lca_frac\n",
       "1  s__Catenibacterium_mitsuokai s__Catenibacterium mitsuokai 1       \n",
       "2  s__Eubacterium_sp_CAG_251    s__Eubacterium_R sp000436835 1       \n",
       "⋮  ⋮                            ⋮                            ⋮       \n",
       "66 s__Escherichia_coli          g__Escherichia               0.99    \n",
       "67 s__Streptococcus_salivarius  g__Streptococcus             1.00    \n",
       "   target_tax_level age_group Domain      Phylum           \n",
       "1  species          adult     d__bacteria p__firmicutes    \n",
       "2  species          adult     d__Bacteria p__Firmicutes_A  \n",
       "⋮  ⋮                ⋮         ⋮           ⋮                \n",
       "66 genus            infant    d__bacteria p__proteobacteria\n",
       "67 genus            infant    d__bacteria p__firmicutes    \n",
       "   Class                  Order                 Family                      \n",
       "1  c__bacilli             o__erysipelotrichales f__erysipelatoclostridiaceae\n",
       "2  c__Clostridia          o__Oscillospirales    f__Acutalibacteraceae       \n",
       "⋮  ⋮                      ⋮                     ⋮                           \n",
       "66 c__gammaproteobacteria o__enterobacterales   f__enterobacteriaceae       \n",
       "67 c__bacilli             o__lactobacillales    f__streptococcaceae         \n",
       "   Genus              Species                  \n",
       "1  g__catenibacterium catenibacterium mitsuokai\n",
       "2  g__Eubacterium_R   Eubacterium_R sp000436835\n",
       "⋮  ⋮                  ⋮                        \n",
       "66 g__escherichia     NA                       \n",
       "67 g__streptococcus   NA                       "
      ]
     },
     "metadata": {},
     "output_type": "display_data"
    }
   ],
   "source": [
    "# species\n",
    "cophylo_spec = list(\n",
    "    Fread(cophylo_adult_spec_file) %>%\n",
    "        mutate.(age_group = 'adult'),\n",
    "    Fread(cophylo_infant_spec_file) %>%\n",
    "        mutate.(age_group = 'infant')\n",
    "    ) %>%\n",
    "    rbindlist(use.names=TRUE) %>%\n",
    "    separate.(lineage, taxonomy_levels(), sep=';') %>%\n",
    "    mutate.(Species = gsub('^s__', '', Species))\n",
    "cophylo_spec"
   ]
  },
  {
   "cell_type": "markdown",
   "metadata": {},
   "source": [
    "# LLG summary\n",
    "\n",
    "* Summary of MAG QC & dRep"
   ]
  },
  {
   "cell_type": "code",
   "execution_count": 49,
   "metadata": {
    "ExecuteTime": {
     "end_time": "2021-07-30T10:47:05.115132Z",
     "start_time": "2021-07-30T10:47:05.050Z"
    }
   },
   "outputs": [
    {
     "name": "stdout",
     "output_type": "stream",
     "text": [
      "No. of unique MAGs: 1437 \n"
     ]
    },
    {
     "data": {
      "text/html": [
       "<table class=\"dataframe\">\n",
       "<caption>A tidytable: 1437 × 33</caption>\n",
       "<thead>\n",
       "\t<tr><th scope=col>Bin.Id</th><th scope=col>Marker.lineage</th><th scope=col>X..genomes</th><th scope=col>X..markers</th><th scope=col>X..marker.sets</th><th scope=col>Completeness</th><th scope=col>Contamination</th><th scope=col>Strain.heterogeneity</th><th scope=col>Genome.size..bp.</th><th scope=col>X..ambiguous.bases</th><th scope=col>⋯</th><th scope=col>X0</th><th scope=col>X1</th><th scope=col>X2</th><th scope=col>X3</th><th scope=col>X4</th><th scope=col>X5.</th><th scope=col>assembly.Id</th><th scope=col>assembler.Id</th><th scope=col>taxon.Id</th><th scope=col>File</th></tr>\n",
       "\t<tr><th scope=col>&lt;chr&gt;</th><th scope=col>&lt;chr&gt;</th><th scope=col>&lt;int&gt;</th><th scope=col>&lt;int&gt;</th><th scope=col>&lt;int&gt;</th><th scope=col>&lt;dbl&gt;</th><th scope=col>&lt;dbl&gt;</th><th scope=col>&lt;dbl&gt;</th><th scope=col>&lt;int&gt;</th><th scope=col>&lt;int&gt;</th><th scope=col>⋯</th><th scope=col>&lt;int&gt;</th><th scope=col>&lt;int&gt;</th><th scope=col>&lt;int&gt;</th><th scope=col>&lt;int&gt;</th><th scope=col>&lt;int&gt;</th><th scope=col>&lt;int&gt;</th><th scope=col>&lt;chr&gt;</th><th scope=col>&lt;chr&gt;</th><th scope=col>&lt;lgl&gt;</th><th scope=col>&lt;chr&gt;</th></tr>\n",
       "</thead>\n",
       "<tbody>\n",
       "\t<tr><td>ERR2619707__metabat2__High_015_sub</td><td>o__Clostridiales (UID1212)</td><td>172</td><td>263</td><td>149</td><td>91.68</td><td>4.38</td><td>77.78</td><td>2074345</td><td>0</td><td>⋯</td><td>22</td><td>232</td><td> 9</td><td>0</td><td>0</td><td>0</td><td>|ebio|abt3_projects|HUBIF_metagenomics|data|pipelines|llg|cophyverttrans|lokmeretal2019|round1|llg_output|checkM|1|checkm|markers_qa_summary.tsv.1</td><td>markers_qa_summary.tsv.1</td><td>NA</td><td>/ebio/abt3_projects/HUBIF_metagenomics/data/pipelines/llg/cophyverttrans/lokmeretal2019/round1/llg_output/checkM/1/checkm/markers_qa_summary.tsv.1</td></tr>\n",
       "\t<tr><td>ERR2619707__metabat2__High_017_sub</td><td>c__Clostridia (UID1118)   </td><td>387</td><td>223</td><td>124</td><td>85.61</td><td>9.01</td><td> 6.25</td><td>3144949</td><td>0</td><td>⋯</td><td>27</td><td>180</td><td>16</td><td>0</td><td>0</td><td>0</td><td>|ebio|abt3_projects|HUBIF_metagenomics|data|pipelines|llg|cophyverttrans|lokmeretal2019|round1|llg_output|checkM|1|checkm|markers_qa_summary.tsv.2</td><td>markers_qa_summary.tsv.2</td><td>NA</td><td>/ebio/abt3_projects/HUBIF_metagenomics/data/pipelines/llg/cophyverttrans/lokmeretal2019/round1/llg_output/checkM/1/checkm/markers_qa_summary.tsv.2</td></tr>\n",
       "\t<tr><td>⋮</td><td>⋮</td><td>⋮</td><td>⋮</td><td>⋮</td><td>⋮</td><td>⋮</td><td>⋮</td><td>⋮</td><td>⋮</td><td>⋱</td><td>⋮</td><td>⋮</td><td>⋮</td><td>⋮</td><td>⋮</td><td>⋮</td><td>⋮</td><td>⋮</td><td>⋮</td><td>⋮</td></tr>\n",
       "\t<tr><td>ERR2619763__metabat2__High_001    </td><td>o__Clostridiales (UID1226)  </td><td>155</td><td>278</td><td>158</td><td>95.57</td><td>0.00</td><td> 0.00</td><td>3461362</td><td>0</td><td>⋯</td><td>12</td><td>266</td><td>0</td><td>0</td><td>0</td><td>0</td><td>|ebio|abt3_projects|HUBIF_metagenomics|data|pipelines|llg|cophyverttrans|lokmeretal2019|round1|llg_output|checkM|4|checkm|markers_qa_summary.tsv.358</td><td>markers_qa_summary.tsv.358</td><td>NA</td><td>/ebio/abt3_projects/HUBIF_metagenomics/data/pipelines/llg/cophyverttrans/lokmeretal2019/round1/llg_output/checkM/4/checkm/markers_qa_summary.tsv.358</td></tr>\n",
       "\t<tr><td>ERR2619763__metabat2__High_020_sub</td><td>o__Selenomonadales (UID1024)</td><td> 64</td><td>334</td><td>167</td><td>90.70</td><td>3.19</td><td>85.71</td><td>1818868</td><td>0</td><td>⋯</td><td>27</td><td>300</td><td>7</td><td>0</td><td>0</td><td>0</td><td>|ebio|abt3_projects|HUBIF_metagenomics|data|pipelines|llg|cophyverttrans|lokmeretal2019|round1|llg_output|checkM|4|checkm|markers_qa_summary.tsv.359</td><td>markers_qa_summary.tsv.359</td><td>NA</td><td>/ebio/abt3_projects/HUBIF_metagenomics/data/pipelines/llg/cophyverttrans/lokmeretal2019/round1/llg_output/checkM/4/checkm/markers_qa_summary.tsv.359</td></tr>\n",
       "</tbody>\n",
       "</table>\n"
      ],
      "text/latex": [
       "A tidytable: 1437 × 33\n",
       "\\begin{tabular}{lllllllllllllllllllll}\n",
       " Bin.Id & Marker.lineage & X..genomes & X..markers & X..marker.sets & Completeness & Contamination & Strain.heterogeneity & Genome.size..bp. & X..ambiguous.bases & ⋯ & X0 & X1 & X2 & X3 & X4 & X5. & assembly.Id & assembler.Id & taxon.Id & File\\\\\n",
       " <chr> & <chr> & <int> & <int> & <int> & <dbl> & <dbl> & <dbl> & <int> & <int> & ⋯ & <int> & <int> & <int> & <int> & <int> & <int> & <chr> & <chr> & <lgl> & <chr>\\\\\n",
       "\\hline\n",
       "\t ERR2619707\\_\\_metabat2\\_\\_High\\_015\\_sub & o\\_\\_Clostridiales (UID1212) & 172 & 263 & 149 & 91.68 & 4.38 & 77.78 & 2074345 & 0 & ⋯ & 22 & 232 &  9 & 0 & 0 & 0 & \\textbar{}ebio\\textbar{}abt3\\_projects\\textbar{}HUBIF\\_metagenomics\\textbar{}data\\textbar{}pipelines\\textbar{}llg\\textbar{}cophyverttrans\\textbar{}lokmeretal2019\\textbar{}round1\\textbar{}llg\\_output\\textbar{}checkM\\textbar{}1\\textbar{}checkm\\textbar{}markers\\_qa\\_summary.tsv.1 & markers\\_qa\\_summary.tsv.1 & NA & /ebio/abt3\\_projects/HUBIF\\_metagenomics/data/pipelines/llg/cophyverttrans/lokmeretal2019/round1/llg\\_output/checkM/1/checkm/markers\\_qa\\_summary.tsv.1\\\\\n",
       "\t ERR2619707\\_\\_metabat2\\_\\_High\\_017\\_sub & c\\_\\_Clostridia (UID1118)    & 387 & 223 & 124 & 85.61 & 9.01 &  6.25 & 3144949 & 0 & ⋯ & 27 & 180 & 16 & 0 & 0 & 0 & \\textbar{}ebio\\textbar{}abt3\\_projects\\textbar{}HUBIF\\_metagenomics\\textbar{}data\\textbar{}pipelines\\textbar{}llg\\textbar{}cophyverttrans\\textbar{}lokmeretal2019\\textbar{}round1\\textbar{}llg\\_output\\textbar{}checkM\\textbar{}1\\textbar{}checkm\\textbar{}markers\\_qa\\_summary.tsv.2 & markers\\_qa\\_summary.tsv.2 & NA & /ebio/abt3\\_projects/HUBIF\\_metagenomics/data/pipelines/llg/cophyverttrans/lokmeretal2019/round1/llg\\_output/checkM/1/checkm/markers\\_qa\\_summary.tsv.2\\\\\n",
       "\t ⋮ & ⋮ & ⋮ & ⋮ & ⋮ & ⋮ & ⋮ & ⋮ & ⋮ & ⋮ & ⋱ & ⋮ & ⋮ & ⋮ & ⋮ & ⋮ & ⋮ & ⋮ & ⋮ & ⋮ & ⋮\\\\\n",
       "\t ERR2619763\\_\\_metabat2\\_\\_High\\_001     & o\\_\\_Clostridiales (UID1226)   & 155 & 278 & 158 & 95.57 & 0.00 &  0.00 & 3461362 & 0 & ⋯ & 12 & 266 & 0 & 0 & 0 & 0 & \\textbar{}ebio\\textbar{}abt3\\_projects\\textbar{}HUBIF\\_metagenomics\\textbar{}data\\textbar{}pipelines\\textbar{}llg\\textbar{}cophyverttrans\\textbar{}lokmeretal2019\\textbar{}round1\\textbar{}llg\\_output\\textbar{}checkM\\textbar{}4\\textbar{}checkm\\textbar{}markers\\_qa\\_summary.tsv.358 & markers\\_qa\\_summary.tsv.358 & NA & /ebio/abt3\\_projects/HUBIF\\_metagenomics/data/pipelines/llg/cophyverttrans/lokmeretal2019/round1/llg\\_output/checkM/4/checkm/markers\\_qa\\_summary.tsv.358\\\\\n",
       "\t ERR2619763\\_\\_metabat2\\_\\_High\\_020\\_sub & o\\_\\_Selenomonadales (UID1024) &  64 & 334 & 167 & 90.70 & 3.19 & 85.71 & 1818868 & 0 & ⋯ & 27 & 300 & 7 & 0 & 0 & 0 & \\textbar{}ebio\\textbar{}abt3\\_projects\\textbar{}HUBIF\\_metagenomics\\textbar{}data\\textbar{}pipelines\\textbar{}llg\\textbar{}cophyverttrans\\textbar{}lokmeretal2019\\textbar{}round1\\textbar{}llg\\_output\\textbar{}checkM\\textbar{}4\\textbar{}checkm\\textbar{}markers\\_qa\\_summary.tsv.359 & markers\\_qa\\_summary.tsv.359 & NA & /ebio/abt3\\_projects/HUBIF\\_metagenomics/data/pipelines/llg/cophyverttrans/lokmeretal2019/round1/llg\\_output/checkM/4/checkm/markers\\_qa\\_summary.tsv.359\\\\\n",
       "\\end{tabular}\n"
      ],
      "text/markdown": [
       "\n",
       "A tidytable: 1437 × 33\n",
       "\n",
       "| Bin.Id &lt;chr&gt; | Marker.lineage &lt;chr&gt; | X..genomes &lt;int&gt; | X..markers &lt;int&gt; | X..marker.sets &lt;int&gt; | Completeness &lt;dbl&gt; | Contamination &lt;dbl&gt; | Strain.heterogeneity &lt;dbl&gt; | Genome.size..bp. &lt;int&gt; | X..ambiguous.bases &lt;int&gt; | ⋯ ⋯ | X0 &lt;int&gt; | X1 &lt;int&gt; | X2 &lt;int&gt; | X3 &lt;int&gt; | X4 &lt;int&gt; | X5. &lt;int&gt; | assembly.Id &lt;chr&gt; | assembler.Id &lt;chr&gt; | taxon.Id &lt;lgl&gt; | File &lt;chr&gt; |\n",
       "|---|---|---|---|---|---|---|---|---|---|---|---|---|---|---|---|---|---|---|---|---|\n",
       "| ERR2619707__metabat2__High_015_sub | o__Clostridiales (UID1212) | 172 | 263 | 149 | 91.68 | 4.38 | 77.78 | 2074345 | 0 | ⋯ | 22 | 232 |  9 | 0 | 0 | 0 | |ebio|abt3_projects|HUBIF_metagenomics|data|pipelines|llg|cophyverttrans|lokmeretal2019|round1|llg_output|checkM|1|checkm|markers_qa_summary.tsv.1 | markers_qa_summary.tsv.1 | NA | /ebio/abt3_projects/HUBIF_metagenomics/data/pipelines/llg/cophyverttrans/lokmeretal2019/round1/llg_output/checkM/1/checkm/markers_qa_summary.tsv.1 |\n",
       "| ERR2619707__metabat2__High_017_sub | c__Clostridia (UID1118)    | 387 | 223 | 124 | 85.61 | 9.01 |  6.25 | 3144949 | 0 | ⋯ | 27 | 180 | 16 | 0 | 0 | 0 | |ebio|abt3_projects|HUBIF_metagenomics|data|pipelines|llg|cophyverttrans|lokmeretal2019|round1|llg_output|checkM|1|checkm|markers_qa_summary.tsv.2 | markers_qa_summary.tsv.2 | NA | /ebio/abt3_projects/HUBIF_metagenomics/data/pipelines/llg/cophyverttrans/lokmeretal2019/round1/llg_output/checkM/1/checkm/markers_qa_summary.tsv.2 |\n",
       "| ⋮ | ⋮ | ⋮ | ⋮ | ⋮ | ⋮ | ⋮ | ⋮ | ⋮ | ⋮ | ⋱ | ⋮ | ⋮ | ⋮ | ⋮ | ⋮ | ⋮ | ⋮ | ⋮ | ⋮ | ⋮ |\n",
       "| ERR2619763__metabat2__High_001     | o__Clostridiales (UID1226)   | 155 | 278 | 158 | 95.57 | 0.00 |  0.00 | 3461362 | 0 | ⋯ | 12 | 266 | 0 | 0 | 0 | 0 | |ebio|abt3_projects|HUBIF_metagenomics|data|pipelines|llg|cophyverttrans|lokmeretal2019|round1|llg_output|checkM|4|checkm|markers_qa_summary.tsv.358 | markers_qa_summary.tsv.358 | NA | /ebio/abt3_projects/HUBIF_metagenomics/data/pipelines/llg/cophyverttrans/lokmeretal2019/round1/llg_output/checkM/4/checkm/markers_qa_summary.tsv.358 |\n",
       "| ERR2619763__metabat2__High_020_sub | o__Selenomonadales (UID1024) |  64 | 334 | 167 | 90.70 | 3.19 | 85.71 | 1818868 | 0 | ⋯ | 27 | 300 | 7 | 0 | 0 | 0 | |ebio|abt3_projects|HUBIF_metagenomics|data|pipelines|llg|cophyverttrans|lokmeretal2019|round1|llg_output|checkM|4|checkm|markers_qa_summary.tsv.359 | markers_qa_summary.tsv.359 | NA | /ebio/abt3_projects/HUBIF_metagenomics/data/pipelines/llg/cophyverttrans/lokmeretal2019/round1/llg_output/checkM/4/checkm/markers_qa_summary.tsv.359 |\n",
       "\n"
      ],
      "text/plain": [
       "     Bin.Id                             Marker.lineage               X..genomes\n",
       "1    ERR2619707__metabat2__High_015_sub o__Clostridiales (UID1212)   172       \n",
       "2    ERR2619707__metabat2__High_017_sub c__Clostridia (UID1118)      387       \n",
       "⋮    ⋮                                  ⋮                            ⋮         \n",
       "1436 ERR2619763__metabat2__High_001     o__Clostridiales (UID1226)   155       \n",
       "1437 ERR2619763__metabat2__High_020_sub o__Selenomonadales (UID1024)  64       \n",
       "     X..markers X..marker.sets Completeness Contamination Strain.heterogeneity\n",
       "1    263        149            91.68        4.38          77.78               \n",
       "2    223        124            85.61        9.01           6.25               \n",
       "⋮    ⋮          ⋮              ⋮            ⋮             ⋮                   \n",
       "1436 278        158            95.57        0.00           0.00               \n",
       "1437 334        167            90.70        3.19          85.71               \n",
       "     Genome.size..bp. X..ambiguous.bases ⋯ X0 X1  X2 X3 X4 X5.\n",
       "1    2074345          0                  ⋯ 22 232  9 0  0  0  \n",
       "2    3144949          0                  ⋯ 27 180 16 0  0  0  \n",
       "⋮    ⋮                ⋮                  ⋱ ⋮  ⋮   ⋮  ⋮  ⋮  ⋮  \n",
       "1436 3461362          0                  ⋯ 12 266 0  0  0  0  \n",
       "1437 1818868          0                  ⋯ 27 300 7  0  0  0  \n",
       "     assembly.Id                                                                                                                                         \n",
       "1    |ebio|abt3_projects|HUBIF_metagenomics|data|pipelines|llg|cophyverttrans|lokmeretal2019|round1|llg_output|checkM|1|checkm|markers_qa_summary.tsv.1  \n",
       "2    |ebio|abt3_projects|HUBIF_metagenomics|data|pipelines|llg|cophyverttrans|lokmeretal2019|round1|llg_output|checkM|1|checkm|markers_qa_summary.tsv.2  \n",
       "⋮    ⋮                                                                                                                                                   \n",
       "1436 |ebio|abt3_projects|HUBIF_metagenomics|data|pipelines|llg|cophyverttrans|lokmeretal2019|round1|llg_output|checkM|4|checkm|markers_qa_summary.tsv.358\n",
       "1437 |ebio|abt3_projects|HUBIF_metagenomics|data|pipelines|llg|cophyverttrans|lokmeretal2019|round1|llg_output|checkM|4|checkm|markers_qa_summary.tsv.359\n",
       "     assembler.Id               taxon.Id\n",
       "1    markers_qa_summary.tsv.1   NA      \n",
       "2    markers_qa_summary.tsv.2   NA      \n",
       "⋮    ⋮                          ⋮       \n",
       "1436 markers_qa_summary.tsv.358 NA      \n",
       "1437 markers_qa_summary.tsv.359 NA      \n",
       "     File                                                                                                                                                \n",
       "1    /ebio/abt3_projects/HUBIF_metagenomics/data/pipelines/llg/cophyverttrans/lokmeretal2019/round1/llg_output/checkM/1/checkm/markers_qa_summary.tsv.1  \n",
       "2    /ebio/abt3_projects/HUBIF_metagenomics/data/pipelines/llg/cophyverttrans/lokmeretal2019/round1/llg_output/checkM/1/checkm/markers_qa_summary.tsv.2  \n",
       "⋮    ⋮                                                                                                                                                   \n",
       "1436 /ebio/abt3_projects/HUBIF_metagenomics/data/pipelines/llg/cophyverttrans/lokmeretal2019/round1/llg_output/checkM/4/checkm/markers_qa_summary.tsv.358\n",
       "1437 /ebio/abt3_projects/HUBIF_metagenomics/data/pipelines/llg/cophyverttrans/lokmeretal2019/round1/llg_output/checkM/4/checkm/markers_qa_summary.tsv.359"
      ]
     },
     "metadata": {},
     "output_type": "display_data"
    }
   ],
   "source": [
    "# checkM output\n",
    "F = file.path(work_dir, 'checkM', 'checkm_qa_summary.tsv')\n",
    "checkm = Fread(F) %>%\n",
    "    mutate.(Bin.Id = gsub('\\\\.', '_', Bin.Id))\n",
    "checkm$Bin.Id %>% unique_n('MAGs')\n",
    "checkm"
   ]
  },
  {
   "cell_type": "code",
   "execution_count": 50,
   "metadata": {
    "ExecuteTime": {
     "end_time": "2021-07-30T10:47:05.240956Z",
     "start_time": "2021-07-30T10:47:05.197Z"
    }
   },
   "outputs": [
    {
     "name": "stdout",
     "output_type": "stream",
     "text": [
      "No. of unique MAGs: 1097 \n"
     ]
    },
    {
     "data": {
      "text/html": [
       "<table class=\"dataframe\">\n",
       "<caption>A tidytable: 1097 × 2</caption>\n",
       "<thead>\n",
       "\t<tr><th scope=col>Name</th><th scope=col>Fasta</th></tr>\n",
       "\t<tr><th scope=col>&lt;chr&gt;</th><th scope=col>&lt;chr&gt;</th></tr>\n",
       "</thead>\n",
       "<tbody>\n",
       "\t<tr><td>ERR2619725__maxbin2__High_042</td><td>/ebio/abt3_projects/HUBIF_metagenomics/data/pipelines/llg/cophyverttrans/lokmeretal2019/round1/llg_output/drep/drep/dereplicated_genomes/ERR2619725__maxbin2__High.042.fna</td></tr>\n",
       "\t<tr><td>ERR2619747__maxbin2__Low_044 </td><td>/ebio/abt3_projects/HUBIF_metagenomics/data/pipelines/llg/cophyverttrans/lokmeretal2019/round1/llg_output/drep/drep/dereplicated_genomes/ERR2619747__maxbin2__Low.044.fna </td></tr>\n",
       "\t<tr><td>⋮</td><td>⋮</td></tr>\n",
       "\t<tr><td>ERR2619746__metabat2__Med_027</td><td>/ebio/abt3_projects/HUBIF_metagenomics/data/pipelines/llg/cophyverttrans/lokmeretal2019/round1/llg_output/drep/drep/dereplicated_genomes/ERR2619746__metabat2__Med.027.fna</td></tr>\n",
       "\t<tr><td>ERR2619724__vamb__Low_122_sub</td><td>/ebio/abt3_projects/HUBIF_metagenomics/data/pipelines/llg/cophyverttrans/lokmeretal2019/round1/llg_output/drep/drep/dereplicated_genomes/ERR2619724__vamb__Low.122_sub.fna</td></tr>\n",
       "</tbody>\n",
       "</table>\n"
      ],
      "text/latex": [
       "A tidytable: 1097 × 2\n",
       "\\begin{tabular}{ll}\n",
       " Name & Fasta\\\\\n",
       " <chr> & <chr>\\\\\n",
       "\\hline\n",
       "\t ERR2619725\\_\\_maxbin2\\_\\_High\\_042 & /ebio/abt3\\_projects/HUBIF\\_metagenomics/data/pipelines/llg/cophyverttrans/lokmeretal2019/round1/llg\\_output/drep/drep/dereplicated\\_genomes/ERR2619725\\_\\_maxbin2\\_\\_High.042.fna\\\\\n",
       "\t ERR2619747\\_\\_maxbin2\\_\\_Low\\_044  & /ebio/abt3\\_projects/HUBIF\\_metagenomics/data/pipelines/llg/cophyverttrans/lokmeretal2019/round1/llg\\_output/drep/drep/dereplicated\\_genomes/ERR2619747\\_\\_maxbin2\\_\\_Low.044.fna \\\\\n",
       "\t ⋮ & ⋮\\\\\n",
       "\t ERR2619746\\_\\_metabat2\\_\\_Med\\_027 & /ebio/abt3\\_projects/HUBIF\\_metagenomics/data/pipelines/llg/cophyverttrans/lokmeretal2019/round1/llg\\_output/drep/drep/dereplicated\\_genomes/ERR2619746\\_\\_metabat2\\_\\_Med.027.fna\\\\\n",
       "\t ERR2619724\\_\\_vamb\\_\\_Low\\_122\\_sub & /ebio/abt3\\_projects/HUBIF\\_metagenomics/data/pipelines/llg/cophyverttrans/lokmeretal2019/round1/llg\\_output/drep/drep/dereplicated\\_genomes/ERR2619724\\_\\_vamb\\_\\_Low.122\\_sub.fna\\\\\n",
       "\\end{tabular}\n"
      ],
      "text/markdown": [
       "\n",
       "A tidytable: 1097 × 2\n",
       "\n",
       "| Name &lt;chr&gt; | Fasta &lt;chr&gt; |\n",
       "|---|---|\n",
       "| ERR2619725__maxbin2__High_042 | /ebio/abt3_projects/HUBIF_metagenomics/data/pipelines/llg/cophyverttrans/lokmeretal2019/round1/llg_output/drep/drep/dereplicated_genomes/ERR2619725__maxbin2__High.042.fna |\n",
       "| ERR2619747__maxbin2__Low_044  | /ebio/abt3_projects/HUBIF_metagenomics/data/pipelines/llg/cophyverttrans/lokmeretal2019/round1/llg_output/drep/drep/dereplicated_genomes/ERR2619747__maxbin2__Low.044.fna  |\n",
       "| ⋮ | ⋮ |\n",
       "| ERR2619746__metabat2__Med_027 | /ebio/abt3_projects/HUBIF_metagenomics/data/pipelines/llg/cophyverttrans/lokmeretal2019/round1/llg_output/drep/drep/dereplicated_genomes/ERR2619746__metabat2__Med.027.fna |\n",
       "| ERR2619724__vamb__Low_122_sub | /ebio/abt3_projects/HUBIF_metagenomics/data/pipelines/llg/cophyverttrans/lokmeretal2019/round1/llg_output/drep/drep/dereplicated_genomes/ERR2619724__vamb__Low.122_sub.fna |\n",
       "\n"
      ],
      "text/plain": [
       "     Name                         \n",
       "1    ERR2619725__maxbin2__High_042\n",
       "2    ERR2619747__maxbin2__Low_044 \n",
       "⋮    ⋮                            \n",
       "1096 ERR2619746__metabat2__Med_027\n",
       "1097 ERR2619724__vamb__Low_122_sub\n",
       "     Fasta                                                                                                                                                                     \n",
       "1    /ebio/abt3_projects/HUBIF_metagenomics/data/pipelines/llg/cophyverttrans/lokmeretal2019/round1/llg_output/drep/drep/dereplicated_genomes/ERR2619725__maxbin2__High.042.fna\n",
       "2    /ebio/abt3_projects/HUBIF_metagenomics/data/pipelines/llg/cophyverttrans/lokmeretal2019/round1/llg_output/drep/drep/dereplicated_genomes/ERR2619747__maxbin2__Low.044.fna \n",
       "⋮    ⋮                                                                                                                                                                         \n",
       "1096 /ebio/abt3_projects/HUBIF_metagenomics/data/pipelines/llg/cophyverttrans/lokmeretal2019/round1/llg_output/drep/drep/dereplicated_genomes/ERR2619746__metabat2__Med.027.fna\n",
       "1097 /ebio/abt3_projects/HUBIF_metagenomics/data/pipelines/llg/cophyverttrans/lokmeretal2019/round1/llg_output/drep/drep/dereplicated_genomes/ERR2619724__vamb__Low.122_sub.fna"
      ]
     },
     "metadata": {},
     "output_type": "display_data"
    }
   ],
   "source": [
    "# dRep output\n",
    "F = file.path(work_dir, 'drep', 'dereplicated_genomes.tsv')\n",
    "drep = Fread(F) %>%\n",
    "    mutate.(Name = gsub('\\\\.', '_', Name))\n",
    "drep$Name %>% unique_n('MAGs')\n",
    "drep"
   ]
  },
  {
   "cell_type": "code",
   "execution_count": 51,
   "metadata": {
    "ExecuteTime": {
     "end_time": "2021-07-30T10:47:05.658142Z",
     "start_time": "2021-07-30T10:47:05.591Z"
    }
   },
   "outputs": [
    {
     "data": {
      "text/html": [
       "<table class=\"dataframe\">\n",
       "<caption>A tidytable: 1097 × 8</caption>\n",
       "<thead>\n",
       "\t<tr><th scope=col>user_genome</th><th scope=col>Domain</th><th scope=col>Phylum</th><th scope=col>Class</th><th scope=col>Order</th><th scope=col>Family</th><th scope=col>Genus</th><th scope=col>Species</th></tr>\n",
       "\t<tr><th scope=col>&lt;chr&gt;</th><th scope=col>&lt;chr&gt;</th><th scope=col>&lt;chr&gt;</th><th scope=col>&lt;chr&gt;</th><th scope=col>&lt;chr&gt;</th><th scope=col>&lt;chr&gt;</th><th scope=col>&lt;chr&gt;</th><th scope=col>&lt;chr&gt;</th></tr>\n",
       "</thead>\n",
       "<tbody>\n",
       "\t<tr><td>ERR2619709__metabat2__HighNoCov_056</td><td>d__Bacteria</td><td>p__Proteobacteria</td><td>c__Gammaproteobacteria</td><td>o__Enterobacterales</td><td>f__Enterobacteriaceae</td><td>g__Escherichia</td><td>s__Escherichia flexneri</td></tr>\n",
       "\t<tr><td>ERR2619709__metabat2__Low_054_sub  </td><td>d__Bacteria</td><td>p__Firmicutes_A  </td><td>c__Clostridia         </td><td>o__Oscillospirales </td><td>f__CAG-272           </td><td>g__CAG-448    </td><td>s__CAG-448 sp003150135 </td></tr>\n",
       "\t<tr><td>⋮</td><td>⋮</td><td>⋮</td><td>⋮</td><td>⋮</td><td>⋮</td><td>⋮</td><td>⋮</td></tr>\n",
       "\t<tr><td>ERR2619740__metabat2__Low_012      </td><td>d__Archaea</td><td>p__Thermoplasmatota</td><td>c__Thermoplasmata</td><td>o__Methanomassiliicoccales</td><td>f__Methanomethylophilaceae</td><td>g__UBA71</td><td>s__UBA71 sp006954465</td></tr>\n",
       "\t<tr><td>ERR2619721__metabat2__HighNoCov_018</td><td>d__Archaea</td><td>p__Thermoplasmatota</td><td>c__Thermoplasmata</td><td>o__Methanomassiliicoccales</td><td>f__Methanomethylophilaceae</td><td>g__UBA71</td><td>s__UBA71 sp006954465</td></tr>\n",
       "</tbody>\n",
       "</table>\n"
      ],
      "text/latex": [
       "A tidytable: 1097 × 8\n",
       "\\begin{tabular}{llllllll}\n",
       " user\\_genome & Domain & Phylum & Class & Order & Family & Genus & Species\\\\\n",
       " <chr> & <chr> & <chr> & <chr> & <chr> & <chr> & <chr> & <chr>\\\\\n",
       "\\hline\n",
       "\t ERR2619709\\_\\_metabat2\\_\\_HighNoCov\\_056 & d\\_\\_Bacteria & p\\_\\_Proteobacteria & c\\_\\_Gammaproteobacteria & o\\_\\_Enterobacterales & f\\_\\_Enterobacteriaceae & g\\_\\_Escherichia & s\\_\\_Escherichia flexneri\\\\\n",
       "\t ERR2619709\\_\\_metabat2\\_\\_Low\\_054\\_sub   & d\\_\\_Bacteria & p\\_\\_Firmicutes\\_A   & c\\_\\_Clostridia          & o\\_\\_Oscillospirales  & f\\_\\_CAG-272            & g\\_\\_CAG-448     & s\\_\\_CAG-448 sp003150135 \\\\\n",
       "\t ⋮ & ⋮ & ⋮ & ⋮ & ⋮ & ⋮ & ⋮ & ⋮\\\\\n",
       "\t ERR2619740\\_\\_metabat2\\_\\_Low\\_012       & d\\_\\_Archaea & p\\_\\_Thermoplasmatota & c\\_\\_Thermoplasmata & o\\_\\_Methanomassiliicoccales & f\\_\\_Methanomethylophilaceae & g\\_\\_UBA71 & s\\_\\_UBA71 sp006954465\\\\\n",
       "\t ERR2619721\\_\\_metabat2\\_\\_HighNoCov\\_018 & d\\_\\_Archaea & p\\_\\_Thermoplasmatota & c\\_\\_Thermoplasmata & o\\_\\_Methanomassiliicoccales & f\\_\\_Methanomethylophilaceae & g\\_\\_UBA71 & s\\_\\_UBA71 sp006954465\\\\\n",
       "\\end{tabular}\n"
      ],
      "text/markdown": [
       "\n",
       "A tidytable: 1097 × 8\n",
       "\n",
       "| user_genome &lt;chr&gt; | Domain &lt;chr&gt; | Phylum &lt;chr&gt; | Class &lt;chr&gt; | Order &lt;chr&gt; | Family &lt;chr&gt; | Genus &lt;chr&gt; | Species &lt;chr&gt; |\n",
       "|---|---|---|---|---|---|---|---|\n",
       "| ERR2619709__metabat2__HighNoCov_056 | d__Bacteria | p__Proteobacteria | c__Gammaproteobacteria | o__Enterobacterales | f__Enterobacteriaceae | g__Escherichia | s__Escherichia flexneri |\n",
       "| ERR2619709__metabat2__Low_054_sub   | d__Bacteria | p__Firmicutes_A   | c__Clostridia          | o__Oscillospirales  | f__CAG-272            | g__CAG-448     | s__CAG-448 sp003150135  |\n",
       "| ⋮ | ⋮ | ⋮ | ⋮ | ⋮ | ⋮ | ⋮ | ⋮ |\n",
       "| ERR2619740__metabat2__Low_012       | d__Archaea | p__Thermoplasmatota | c__Thermoplasmata | o__Methanomassiliicoccales | f__Methanomethylophilaceae | g__UBA71 | s__UBA71 sp006954465 |\n",
       "| ERR2619721__metabat2__HighNoCov_018 | d__Archaea | p__Thermoplasmatota | c__Thermoplasmata | o__Methanomassiliicoccales | f__Methanomethylophilaceae | g__UBA71 | s__UBA71 sp006954465 |\n",
       "\n"
      ],
      "text/plain": [
       "     user_genome                         Domain      Phylum             \n",
       "1    ERR2619709__metabat2__HighNoCov_056 d__Bacteria p__Proteobacteria  \n",
       "2    ERR2619709__metabat2__Low_054_sub   d__Bacteria p__Firmicutes_A    \n",
       "⋮    ⋮                                   ⋮           ⋮                  \n",
       "1096 ERR2619740__metabat2__Low_012       d__Archaea  p__Thermoplasmatota\n",
       "1097 ERR2619721__metabat2__HighNoCov_018 d__Archaea  p__Thermoplasmatota\n",
       "     Class                  Order                     \n",
       "1    c__Gammaproteobacteria o__Enterobacterales       \n",
       "2    c__Clostridia          o__Oscillospirales        \n",
       "⋮    ⋮                      ⋮                         \n",
       "1096 c__Thermoplasmata      o__Methanomassiliicoccales\n",
       "1097 c__Thermoplasmata      o__Methanomassiliicoccales\n",
       "     Family                     Genus          Species                \n",
       "1    f__Enterobacteriaceae      g__Escherichia s__Escherichia flexneri\n",
       "2    f__CAG-272                 g__CAG-448     s__CAG-448 sp003150135 \n",
       "⋮    ⋮                          ⋮              ⋮                      \n",
       "1096 f__Methanomethylophilaceae g__UBA71       s__UBA71 sp006954465   \n",
       "1097 f__Methanomethylophilaceae g__UBA71       s__UBA71 sp006954465   "
      ]
     },
     "metadata": {},
     "output_type": "display_data"
    }
   ],
   "source": [
    "# GTDB-Tk output\n",
    "D = file.path('/ebio/abt3_projects/HUBIF_metagenomics/data/pipelines/llg/cophyverttrans/lokmeretal2019',\n",
    "              'round2', 'llg_output')\n",
    "F = file.path(D, 'gtdbtk', 'gtdbtk_summary.tsv') \n",
    "tax = Fread(F) %>%\n",
    "    mutate.(user_genome = gsub('\\\\.', '_', user_genome)) %>%\n",
    "    select.(user_genome, classification) %>%\n",
    "    separate.(classification, taxonomy_levels(), sep=';')\n",
    "tax"
   ]
  },
  {
   "cell_type": "code",
   "execution_count": 52,
   "metadata": {
    "ExecuteTime": {
     "end_time": "2021-07-30T10:47:06.082547Z",
     "start_time": "2021-07-30T10:47:06.055Z"
    }
   },
   "outputs": [
    {
     "name": "stdout",
     "output_type": "stream",
     "text": [
      "intersect(x,y): 1097 \n",
      "setdiff(x,y): 0 \n",
      "setdiff(y,x): 340 \n",
      "union(x,y): 1437 \n",
      "---\n",
      "intersect(x,y): 1097 \n",
      "setdiff(x,y): 0 \n",
      "setdiff(y,x): 0 \n",
      "union(x,y): 1097 \n"
     ]
    }
   ],
   "source": [
    "# merging\n",
    "overlap(drep$Name, checkm$Bin.Id)\n",
    "cat('---\\n')\n",
    "overlap(drep$Name, tax$user_genome)"
   ]
  },
  {
   "cell_type": "code",
   "execution_count": 53,
   "metadata": {
    "ExecuteTime": {
     "end_time": "2021-07-30T10:47:06.800099Z",
     "start_time": "2021-07-30T10:47:06.738Z"
    }
   },
   "outputs": [
    {
     "data": {
      "text/html": [
       "<table class=\"dataframe\">\n",
       "<caption>A tidytable: 1097 × 41</caption>\n",
       "<thead>\n",
       "\t<tr><th scope=col>Name</th><th scope=col>Fasta</th><th scope=col>Marker.lineage</th><th scope=col>X..genomes</th><th scope=col>X..markers</th><th scope=col>X..marker.sets</th><th scope=col>Completeness</th><th scope=col>Contamination</th><th scope=col>Strain.heterogeneity</th><th scope=col>Genome.size..bp.</th><th scope=col>⋯</th><th scope=col>assembler.Id</th><th scope=col>taxon.Id</th><th scope=col>File</th><th scope=col>Domain</th><th scope=col>Phylum</th><th scope=col>Class</th><th scope=col>Order</th><th scope=col>Family</th><th scope=col>Genus</th><th scope=col>Species</th></tr>\n",
       "\t<tr><th scope=col>&lt;chr&gt;</th><th scope=col>&lt;chr&gt;</th><th scope=col>&lt;chr&gt;</th><th scope=col>&lt;int&gt;</th><th scope=col>&lt;int&gt;</th><th scope=col>&lt;int&gt;</th><th scope=col>&lt;dbl&gt;</th><th scope=col>&lt;dbl&gt;</th><th scope=col>&lt;dbl&gt;</th><th scope=col>&lt;int&gt;</th><th scope=col>⋯</th><th scope=col>&lt;chr&gt;</th><th scope=col>&lt;lgl&gt;</th><th scope=col>&lt;chr&gt;</th><th scope=col>&lt;chr&gt;</th><th scope=col>&lt;chr&gt;</th><th scope=col>&lt;chr&gt;</th><th scope=col>&lt;chr&gt;</th><th scope=col>&lt;chr&gt;</th><th scope=col>&lt;chr&gt;</th><th scope=col>&lt;chr&gt;</th></tr>\n",
       "</thead>\n",
       "<tbody>\n",
       "\t<tr><td>ERR2619709__metabat2__HighNoCov_056</td><td>/ebio/abt3_projects/HUBIF_metagenomics/data/pipelines/llg/cophyverttrans/lokmeretal2019/round1/llg_output/drep/drep/dereplicated_genomes/ERR2619709__metabat2__HighNoCov.056.fna</td><td>f__Enterobacteriaceae (UID5124)</td><td>134</td><td>1173</td><td>336</td><td>99.05</td><td>0.04</td><td> 0</td><td>4384873</td><td>⋯</td><td>markers_qa_summary.tsv.12</td><td>NA</td><td>/ebio/abt3_projects/HUBIF_metagenomics/data/pipelines/llg/cophyverttrans/lokmeretal2019/round1/llg_output/checkM/4/checkm/markers_qa_summary.tsv.12</td><td>d__Bacteria</td><td>p__Proteobacteria</td><td>c__Gammaproteobacteria</td><td>o__Enterobacterales</td><td>f__Enterobacteriaceae</td><td>g__Escherichia</td><td>s__Escherichia flexneri</td></tr>\n",
       "\t<tr><td>ERR2619709__metabat2__Low_054_sub  </td><td>/ebio/abt3_projects/HUBIF_metagenomics/data/pipelines/llg/cophyverttrans/lokmeretal2019/round1/llg_output/drep/drep/dereplicated_genomes/ERR2619709__metabat2__Low.054_sub.fna  </td><td>o__Clostridiales (UID1212)     </td><td>172</td><td> 263</td><td>149</td><td>68.77</td><td>1.12</td><td>50</td><td>1869417</td><td>⋯</td><td>markers_qa_summary.tsv.15</td><td>NA</td><td>/ebio/abt3_projects/HUBIF_metagenomics/data/pipelines/llg/cophyverttrans/lokmeretal2019/round1/llg_output/checkM/4/checkm/markers_qa_summary.tsv.15</td><td>d__Bacteria</td><td>p__Firmicutes_A  </td><td>c__Clostridia         </td><td>o__Oscillospirales </td><td>f__CAG-272           </td><td>g__CAG-448    </td><td>s__CAG-448 sp003150135 </td></tr>\n",
       "\t<tr><td>⋮</td><td>⋮</td><td>⋮</td><td>⋮</td><td>⋮</td><td>⋮</td><td>⋮</td><td>⋮</td><td>⋮</td><td>⋮</td><td>⋱</td><td>⋮</td><td>⋮</td><td>⋮</td><td>⋮</td><td>⋮</td><td>⋮</td><td>⋮</td><td>⋮</td><td>⋮</td><td>⋮</td></tr>\n",
       "\t<tr><td>ERR2619740__metabat2__Low_012      </td><td>/ebio/abt3_projects/HUBIF_metagenomics/data/pipelines/llg/cophyverttrans/lokmeretal2019/round1/llg_output/drep/drep/dereplicated_genomes/ERR2619740__metabat2__Low.012.fna      </td><td>p__Euryarchaeota (UID3)</td><td>148</td><td>187</td><td>124</td><td>96.91</td><td>0.81</td><td>0</td><td>1979317</td><td>⋯</td><td>markers_qa_summary.tsv.218</td><td>NA</td><td>/ebio/abt3_projects/HUBIF_metagenomics/data/pipelines/llg/cophyverttrans/lokmeretal2019/round1/llg_output/checkM/1/checkm/markers_qa_summary.tsv.218</td><td>d__Archaea</td><td>p__Thermoplasmatota</td><td>c__Thermoplasmata</td><td>o__Methanomassiliicoccales</td><td>f__Methanomethylophilaceae</td><td>g__UBA71</td><td>s__UBA71 sp006954465</td></tr>\n",
       "\t<tr><td>ERR2619721__metabat2__HighNoCov_018</td><td>/ebio/abt3_projects/HUBIF_metagenomics/data/pipelines/llg/cophyverttrans/lokmeretal2019/round1/llg_output/drep/drep/dereplicated_genomes/ERR2619721__metabat2__HighNoCov.018.fna</td><td>p__Euryarchaeota (UID3)</td><td>148</td><td>187</td><td>124</td><td>96.37</td><td>0.81</td><td>0</td><td>2017977</td><td>⋯</td><td>markers_qa_summary.tsv.79 </td><td>NA</td><td>/ebio/abt3_projects/HUBIF_metagenomics/data/pipelines/llg/cophyverttrans/lokmeretal2019/round1/llg_output/checkM/2/checkm/markers_qa_summary.tsv.79 </td><td>d__Archaea</td><td>p__Thermoplasmatota</td><td>c__Thermoplasmata</td><td>o__Methanomassiliicoccales</td><td>f__Methanomethylophilaceae</td><td>g__UBA71</td><td>s__UBA71 sp006954465</td></tr>\n",
       "</tbody>\n",
       "</table>\n"
      ],
      "text/latex": [
       "A tidytable: 1097 × 41\n",
       "\\begin{tabular}{lllllllllllllllllllll}\n",
       " Name & Fasta & Marker.lineage & X..genomes & X..markers & X..marker.sets & Completeness & Contamination & Strain.heterogeneity & Genome.size..bp. & ⋯ & assembler.Id & taxon.Id & File & Domain & Phylum & Class & Order & Family & Genus & Species\\\\\n",
       " <chr> & <chr> & <chr> & <int> & <int> & <int> & <dbl> & <dbl> & <dbl> & <int> & ⋯ & <chr> & <lgl> & <chr> & <chr> & <chr> & <chr> & <chr> & <chr> & <chr> & <chr>\\\\\n",
       "\\hline\n",
       "\t ERR2619709\\_\\_metabat2\\_\\_HighNoCov\\_056 & /ebio/abt3\\_projects/HUBIF\\_metagenomics/data/pipelines/llg/cophyverttrans/lokmeretal2019/round1/llg\\_output/drep/drep/dereplicated\\_genomes/ERR2619709\\_\\_metabat2\\_\\_HighNoCov.056.fna & f\\_\\_Enterobacteriaceae (UID5124) & 134 & 1173 & 336 & 99.05 & 0.04 &  0 & 4384873 & ⋯ & markers\\_qa\\_summary.tsv.12 & NA & /ebio/abt3\\_projects/HUBIF\\_metagenomics/data/pipelines/llg/cophyverttrans/lokmeretal2019/round1/llg\\_output/checkM/4/checkm/markers\\_qa\\_summary.tsv.12 & d\\_\\_Bacteria & p\\_\\_Proteobacteria & c\\_\\_Gammaproteobacteria & o\\_\\_Enterobacterales & f\\_\\_Enterobacteriaceae & g\\_\\_Escherichia & s\\_\\_Escherichia flexneri\\\\\n",
       "\t ERR2619709\\_\\_metabat2\\_\\_Low\\_054\\_sub   & /ebio/abt3\\_projects/HUBIF\\_metagenomics/data/pipelines/llg/cophyverttrans/lokmeretal2019/round1/llg\\_output/drep/drep/dereplicated\\_genomes/ERR2619709\\_\\_metabat2\\_\\_Low.054\\_sub.fna   & o\\_\\_Clostridiales (UID1212)      & 172 &  263 & 149 & 68.77 & 1.12 & 50 & 1869417 & ⋯ & markers\\_qa\\_summary.tsv.15 & NA & /ebio/abt3\\_projects/HUBIF\\_metagenomics/data/pipelines/llg/cophyverttrans/lokmeretal2019/round1/llg\\_output/checkM/4/checkm/markers\\_qa\\_summary.tsv.15 & d\\_\\_Bacteria & p\\_\\_Firmicutes\\_A   & c\\_\\_Clostridia          & o\\_\\_Oscillospirales  & f\\_\\_CAG-272            & g\\_\\_CAG-448     & s\\_\\_CAG-448 sp003150135 \\\\\n",
       "\t ⋮ & ⋮ & ⋮ & ⋮ & ⋮ & ⋮ & ⋮ & ⋮ & ⋮ & ⋮ & ⋱ & ⋮ & ⋮ & ⋮ & ⋮ & ⋮ & ⋮ & ⋮ & ⋮ & ⋮ & ⋮\\\\\n",
       "\t ERR2619740\\_\\_metabat2\\_\\_Low\\_012       & /ebio/abt3\\_projects/HUBIF\\_metagenomics/data/pipelines/llg/cophyverttrans/lokmeretal2019/round1/llg\\_output/drep/drep/dereplicated\\_genomes/ERR2619740\\_\\_metabat2\\_\\_Low.012.fna       & p\\_\\_Euryarchaeota (UID3) & 148 & 187 & 124 & 96.91 & 0.81 & 0 & 1979317 & ⋯ & markers\\_qa\\_summary.tsv.218 & NA & /ebio/abt3\\_projects/HUBIF\\_metagenomics/data/pipelines/llg/cophyverttrans/lokmeretal2019/round1/llg\\_output/checkM/1/checkm/markers\\_qa\\_summary.tsv.218 & d\\_\\_Archaea & p\\_\\_Thermoplasmatota & c\\_\\_Thermoplasmata & o\\_\\_Methanomassiliicoccales & f\\_\\_Methanomethylophilaceae & g\\_\\_UBA71 & s\\_\\_UBA71 sp006954465\\\\\n",
       "\t ERR2619721\\_\\_metabat2\\_\\_HighNoCov\\_018 & /ebio/abt3\\_projects/HUBIF\\_metagenomics/data/pipelines/llg/cophyverttrans/lokmeretal2019/round1/llg\\_output/drep/drep/dereplicated\\_genomes/ERR2619721\\_\\_metabat2\\_\\_HighNoCov.018.fna & p\\_\\_Euryarchaeota (UID3) & 148 & 187 & 124 & 96.37 & 0.81 & 0 & 2017977 & ⋯ & markers\\_qa\\_summary.tsv.79  & NA & /ebio/abt3\\_projects/HUBIF\\_metagenomics/data/pipelines/llg/cophyverttrans/lokmeretal2019/round1/llg\\_output/checkM/2/checkm/markers\\_qa\\_summary.tsv.79  & d\\_\\_Archaea & p\\_\\_Thermoplasmatota & c\\_\\_Thermoplasmata & o\\_\\_Methanomassiliicoccales & f\\_\\_Methanomethylophilaceae & g\\_\\_UBA71 & s\\_\\_UBA71 sp006954465\\\\\n",
       "\\end{tabular}\n"
      ],
      "text/markdown": [
       "\n",
       "A tidytable: 1097 × 41\n",
       "\n",
       "| Name &lt;chr&gt; | Fasta &lt;chr&gt; | Marker.lineage &lt;chr&gt; | X..genomes &lt;int&gt; | X..markers &lt;int&gt; | X..marker.sets &lt;int&gt; | Completeness &lt;dbl&gt; | Contamination &lt;dbl&gt; | Strain.heterogeneity &lt;dbl&gt; | Genome.size..bp. &lt;int&gt; | ⋯ ⋯ | assembler.Id &lt;chr&gt; | taxon.Id &lt;lgl&gt; | File &lt;chr&gt; | Domain &lt;chr&gt; | Phylum &lt;chr&gt; | Class &lt;chr&gt; | Order &lt;chr&gt; | Family &lt;chr&gt; | Genus &lt;chr&gt; | Species &lt;chr&gt; |\n",
       "|---|---|---|---|---|---|---|---|---|---|---|---|---|---|---|---|---|---|---|---|---|\n",
       "| ERR2619709__metabat2__HighNoCov_056 | /ebio/abt3_projects/HUBIF_metagenomics/data/pipelines/llg/cophyverttrans/lokmeretal2019/round1/llg_output/drep/drep/dereplicated_genomes/ERR2619709__metabat2__HighNoCov.056.fna | f__Enterobacteriaceae (UID5124) | 134 | 1173 | 336 | 99.05 | 0.04 |  0 | 4384873 | ⋯ | markers_qa_summary.tsv.12 | NA | /ebio/abt3_projects/HUBIF_metagenomics/data/pipelines/llg/cophyverttrans/lokmeretal2019/round1/llg_output/checkM/4/checkm/markers_qa_summary.tsv.12 | d__Bacteria | p__Proteobacteria | c__Gammaproteobacteria | o__Enterobacterales | f__Enterobacteriaceae | g__Escherichia | s__Escherichia flexneri |\n",
       "| ERR2619709__metabat2__Low_054_sub   | /ebio/abt3_projects/HUBIF_metagenomics/data/pipelines/llg/cophyverttrans/lokmeretal2019/round1/llg_output/drep/drep/dereplicated_genomes/ERR2619709__metabat2__Low.054_sub.fna   | o__Clostridiales (UID1212)      | 172 |  263 | 149 | 68.77 | 1.12 | 50 | 1869417 | ⋯ | markers_qa_summary.tsv.15 | NA | /ebio/abt3_projects/HUBIF_metagenomics/data/pipelines/llg/cophyverttrans/lokmeretal2019/round1/llg_output/checkM/4/checkm/markers_qa_summary.tsv.15 | d__Bacteria | p__Firmicutes_A   | c__Clostridia          | o__Oscillospirales  | f__CAG-272            | g__CAG-448     | s__CAG-448 sp003150135  |\n",
       "| ⋮ | ⋮ | ⋮ | ⋮ | ⋮ | ⋮ | ⋮ | ⋮ | ⋮ | ⋮ | ⋱ | ⋮ | ⋮ | ⋮ | ⋮ | ⋮ | ⋮ | ⋮ | ⋮ | ⋮ | ⋮ |\n",
       "| ERR2619740__metabat2__Low_012       | /ebio/abt3_projects/HUBIF_metagenomics/data/pipelines/llg/cophyverttrans/lokmeretal2019/round1/llg_output/drep/drep/dereplicated_genomes/ERR2619740__metabat2__Low.012.fna       | p__Euryarchaeota (UID3) | 148 | 187 | 124 | 96.91 | 0.81 | 0 | 1979317 | ⋯ | markers_qa_summary.tsv.218 | NA | /ebio/abt3_projects/HUBIF_metagenomics/data/pipelines/llg/cophyverttrans/lokmeretal2019/round1/llg_output/checkM/1/checkm/markers_qa_summary.tsv.218 | d__Archaea | p__Thermoplasmatota | c__Thermoplasmata | o__Methanomassiliicoccales | f__Methanomethylophilaceae | g__UBA71 | s__UBA71 sp006954465 |\n",
       "| ERR2619721__metabat2__HighNoCov_018 | /ebio/abt3_projects/HUBIF_metagenomics/data/pipelines/llg/cophyverttrans/lokmeretal2019/round1/llg_output/drep/drep/dereplicated_genomes/ERR2619721__metabat2__HighNoCov.018.fna | p__Euryarchaeota (UID3) | 148 | 187 | 124 | 96.37 | 0.81 | 0 | 2017977 | ⋯ | markers_qa_summary.tsv.79  | NA | /ebio/abt3_projects/HUBIF_metagenomics/data/pipelines/llg/cophyverttrans/lokmeretal2019/round1/llg_output/checkM/2/checkm/markers_qa_summary.tsv.79  | d__Archaea | p__Thermoplasmatota | c__Thermoplasmata | o__Methanomassiliicoccales | f__Methanomethylophilaceae | g__UBA71 | s__UBA71 sp006954465 |\n",
       "\n"
      ],
      "text/plain": [
       "     Name                               \n",
       "1    ERR2619709__metabat2__HighNoCov_056\n",
       "2    ERR2619709__metabat2__Low_054_sub  \n",
       "⋮    ⋮                                  \n",
       "1096 ERR2619740__metabat2__Low_012      \n",
       "1097 ERR2619721__metabat2__HighNoCov_018\n",
       "     Fasta                                                                                                                                                                           \n",
       "1    /ebio/abt3_projects/HUBIF_metagenomics/data/pipelines/llg/cophyverttrans/lokmeretal2019/round1/llg_output/drep/drep/dereplicated_genomes/ERR2619709__metabat2__HighNoCov.056.fna\n",
       "2    /ebio/abt3_projects/HUBIF_metagenomics/data/pipelines/llg/cophyverttrans/lokmeretal2019/round1/llg_output/drep/drep/dereplicated_genomes/ERR2619709__metabat2__Low.054_sub.fna  \n",
       "⋮    ⋮                                                                                                                                                                               \n",
       "1096 /ebio/abt3_projects/HUBIF_metagenomics/data/pipelines/llg/cophyverttrans/lokmeretal2019/round1/llg_output/drep/drep/dereplicated_genomes/ERR2619740__metabat2__Low.012.fna      \n",
       "1097 /ebio/abt3_projects/HUBIF_metagenomics/data/pipelines/llg/cophyverttrans/lokmeretal2019/round1/llg_output/drep/drep/dereplicated_genomes/ERR2619721__metabat2__HighNoCov.018.fna\n",
       "     Marker.lineage                  X..genomes X..markers X..marker.sets\n",
       "1    f__Enterobacteriaceae (UID5124) 134        1173       336           \n",
       "2    o__Clostridiales (UID1212)      172         263       149           \n",
       "⋮    ⋮                               ⋮          ⋮          ⋮             \n",
       "1096 p__Euryarchaeota (UID3)         148        187        124           \n",
       "1097 p__Euryarchaeota (UID3)         148        187        124           \n",
       "     Completeness Contamination Strain.heterogeneity Genome.size..bp. ⋯\n",
       "1    99.05        0.04           0                   4384873          ⋯\n",
       "2    68.77        1.12          50                   1869417          ⋯\n",
       "⋮    ⋮            ⋮             ⋮                    ⋮                ⋱\n",
       "1096 96.91        0.81          0                    1979317          ⋯\n",
       "1097 96.37        0.81          0                    2017977          ⋯\n",
       "     assembler.Id               taxon.Id\n",
       "1    markers_qa_summary.tsv.12  NA      \n",
       "2    markers_qa_summary.tsv.15  NA      \n",
       "⋮    ⋮                          ⋮       \n",
       "1096 markers_qa_summary.tsv.218 NA      \n",
       "1097 markers_qa_summary.tsv.79  NA      \n",
       "     File                                                                                                                                                \n",
       "1    /ebio/abt3_projects/HUBIF_metagenomics/data/pipelines/llg/cophyverttrans/lokmeretal2019/round1/llg_output/checkM/4/checkm/markers_qa_summary.tsv.12 \n",
       "2    /ebio/abt3_projects/HUBIF_metagenomics/data/pipelines/llg/cophyverttrans/lokmeretal2019/round1/llg_output/checkM/4/checkm/markers_qa_summary.tsv.15 \n",
       "⋮    ⋮                                                                                                                                                   \n",
       "1096 /ebio/abt3_projects/HUBIF_metagenomics/data/pipelines/llg/cophyverttrans/lokmeretal2019/round1/llg_output/checkM/1/checkm/markers_qa_summary.tsv.218\n",
       "1097 /ebio/abt3_projects/HUBIF_metagenomics/data/pipelines/llg/cophyverttrans/lokmeretal2019/round1/llg_output/checkM/2/checkm/markers_qa_summary.tsv.79 \n",
       "     Domain      Phylum              Class                 \n",
       "1    d__Bacteria p__Proteobacteria   c__Gammaproteobacteria\n",
       "2    d__Bacteria p__Firmicutes_A     c__Clostridia         \n",
       "⋮    ⋮           ⋮                   ⋮                     \n",
       "1096 d__Archaea  p__Thermoplasmatota c__Thermoplasmata     \n",
       "1097 d__Archaea  p__Thermoplasmatota c__Thermoplasmata     \n",
       "     Order                      Family                     Genus         \n",
       "1    o__Enterobacterales        f__Enterobacteriaceae      g__Escherichia\n",
       "2    o__Oscillospirales         f__CAG-272                 g__CAG-448    \n",
       "⋮    ⋮                          ⋮                          ⋮             \n",
       "1096 o__Methanomassiliicoccales f__Methanomethylophilaceae g__UBA71      \n",
       "1097 o__Methanomassiliicoccales f__Methanomethylophilaceae g__UBA71      \n",
       "     Species                \n",
       "1    s__Escherichia flexneri\n",
       "2    s__CAG-448 sp003150135 \n",
       "⋮    ⋮                      \n",
       "1096 s__UBA71 sp006954465   \n",
       "1097 s__UBA71 sp006954465   "
      ]
     },
     "metadata": {},
     "output_type": "display_data"
    }
   ],
   "source": [
    "# merging\n",
    "drep = drep %>%\n",
    "    inner_join.(checkm, c('Name'='Bin.Id')) %>%\n",
    "    inner_join.(tax, c('Name'='user_genome'))\n",
    "drep"
   ]
  },
  {
   "cell_type": "markdown",
   "metadata": {},
   "source": [
    "#### Writing table"
   ]
  },
  {
   "cell_type": "code",
   "execution_count": 57,
   "metadata": {
    "ExecuteTime": {
     "end_time": "2021-07-30T10:49:29.265945Z",
     "start_time": "2021-07-30T10:49:29.231Z"
    }
   },
   "outputs": [
    {
     "name": "stdout",
     "output_type": "stream",
     "text": [
      "File written: /ebio/abt3_projects/HUBIF_metagenomics/data/pipelines/llg/cophyverttrans/batch2_clusters1-3/round6/HUBIF-TUK-CAM//Lokmer2019_MAG_meta.tsv \n"
     ]
    }
   ],
   "source": [
    "D = '/ebio/abt3_projects/HUBIF_metagenomics/data/pipelines/llg/cophyverttrans/batch2_clusters1-3/round6/HUBIF-TUK-CAM/'\n",
    "F = file.path(D, 'Lokmer2019_MAG_meta.tsv')\n",
    "write_table(drep, F)"
   ]
  },
  {
   "cell_type": "markdown",
   "metadata": {},
   "source": [
    "# target species"
   ]
  },
  {
   "cell_type": "code",
   "execution_count": 23,
   "metadata": {
    "ExecuteTime": {
     "end_time": "2021-07-30T10:31:39.456844Z",
     "start_time": "2021-07-30T10:31:39.160Z"
    }
   },
   "outputs": [
    {
     "name": "stdout",
     "output_type": "stream",
     "text": [
      "intersect(x,y): 19 \n",
      "setdiff(x,y): 22 \n",
      "setdiff(y,x): 257 \n",
      "union(x,y): 298 \n"
     ]
    }
   ],
   "source": [
    "# checking overlap\n",
    "overlap(stringr::str_to_lower(cophylo_spec$Species), \n",
    "        stringr::str_to_lower(drep$Species) %>% gsub('^s__', '', .))"
   ]
  },
  {
   "cell_type": "code",
   "execution_count": 27,
   "metadata": {
    "ExecuteTime": {
     "end_time": "2021-07-30T10:32:04.475226Z",
     "start_time": "2021-07-30T10:32:04.450Z"
    }
   },
   "outputs": [
    {
     "data": {
      "text/html": [
       "<style>\n",
       ".list-inline {list-style: none; margin:0; padding: 0}\n",
       ".list-inline>li {display: inline-block}\n",
       ".list-inline>li:not(:last-child)::after {content: \"\\00b7\"; padding: 0 .5ex}\n",
       "</style>\n",
       "<ol class=list-inline><li>'bacteroides caccae'</li><li>'bacteroides ovatus'</li><li>'bacteroides thetaiotaomicron'</li><li>'bacteroides uniformis'</li><li>'bacteroides xylanisolvens'</li><li>'bariatricus comes'</li><li>'barnesiella intestinihominis'</li><li>'bifidobacterium bifidum'</li><li>'bifidobacterium breve'</li><li>'bifidobacterium kashiwanohense'</li><li>'dorea formicigenerans'</li><li>'dysosmobacter sp001916835'</li><li>'mediterraneibacter torques'</li><li>'odoribacter splanchnicus'</li><li>'parabacteroides distasonis'</li><li>'parabacteroides merdae'</li><li>'phocaeicola dorei'</li><li>'prevotella copri'</li><li>'ruminococcus_b gnavus'</li><li>'ruminococcus_d bicirculans'</li><li>'veillonella atypica'</li></ol>\n"
      ],
      "text/latex": [
       "\\begin{enumerate*}\n",
       "\\item 'bacteroides caccae'\n",
       "\\item 'bacteroides ovatus'\n",
       "\\item 'bacteroides thetaiotaomicron'\n",
       "\\item 'bacteroides uniformis'\n",
       "\\item 'bacteroides xylanisolvens'\n",
       "\\item 'bariatricus comes'\n",
       "\\item 'barnesiella intestinihominis'\n",
       "\\item 'bifidobacterium bifidum'\n",
       "\\item 'bifidobacterium breve'\n",
       "\\item 'bifidobacterium kashiwanohense'\n",
       "\\item 'dorea formicigenerans'\n",
       "\\item 'dysosmobacter sp001916835'\n",
       "\\item 'mediterraneibacter torques'\n",
       "\\item 'odoribacter splanchnicus'\n",
       "\\item 'parabacteroides distasonis'\n",
       "\\item 'parabacteroides merdae'\n",
       "\\item 'phocaeicola dorei'\n",
       "\\item 'prevotella copri'\n",
       "\\item 'ruminococcus\\_b gnavus'\n",
       "\\item 'ruminococcus\\_d bicirculans'\n",
       "\\item 'veillonella atypica'\n",
       "\\end{enumerate*}\n"
      ],
      "text/markdown": [
       "1. 'bacteroides caccae'\n",
       "2. 'bacteroides ovatus'\n",
       "3. 'bacteroides thetaiotaomicron'\n",
       "4. 'bacteroides uniformis'\n",
       "5. 'bacteroides xylanisolvens'\n",
       "6. 'bariatricus comes'\n",
       "7. 'barnesiella intestinihominis'\n",
       "8. 'bifidobacterium bifidum'\n",
       "9. 'bifidobacterium breve'\n",
       "10. 'bifidobacterium kashiwanohense'\n",
       "11. 'dorea formicigenerans'\n",
       "12. 'dysosmobacter sp001916835'\n",
       "13. 'mediterraneibacter torques'\n",
       "14. 'odoribacter splanchnicus'\n",
       "15. 'parabacteroides distasonis'\n",
       "16. 'parabacteroides merdae'\n",
       "17. 'phocaeicola dorei'\n",
       "18. 'prevotella copri'\n",
       "19. 'ruminococcus_b gnavus'\n",
       "20. 'ruminococcus_d bicirculans'\n",
       "21. 'veillonella atypica'\n",
       "\n",
       "\n"
      ],
      "text/plain": [
       " [1] \"bacteroides caccae\"             \"bacteroides ovatus\"            \n",
       " [3] \"bacteroides thetaiotaomicron\"   \"bacteroides uniformis\"         \n",
       " [5] \"bacteroides xylanisolvens\"      \"bariatricus comes\"             \n",
       " [7] \"barnesiella intestinihominis\"   \"bifidobacterium bifidum\"       \n",
       " [9] \"bifidobacterium breve\"          \"bifidobacterium kashiwanohense\"\n",
       "[11] \"dorea formicigenerans\"          \"dysosmobacter sp001916835\"     \n",
       "[13] \"mediterraneibacter torques\"     \"odoribacter splanchnicus\"      \n",
       "[15] \"parabacteroides distasonis\"     \"parabacteroides merdae\"        \n",
       "[17] \"phocaeicola dorei\"              \"prevotella copri\"              \n",
       "[19] \"ruminococcus_b gnavus\"          \"ruminococcus_d bicirculans\"    \n",
       "[21] \"veillonella atypica\"           "
      ]
     },
     "metadata": {},
     "output_type": "display_data"
    }
   ],
   "source": [
    "# which target species not found?\n",
    "overlap(stringr::str_to_lower(cophylo_spec$Species), \n",
    "        stringr::str_to_lower(drep$Species) %>% gsub('^s__', '', .),\n",
    "        diff='x') %>% sort"
   ]
  },
  {
   "cell_type": "code",
   "execution_count": 29,
   "metadata": {
    "ExecuteTime": {
     "end_time": "2021-07-30T10:32:49.974304Z",
     "start_time": "2021-07-30T10:32:49.906Z"
    }
   },
   "outputs": [
    {
     "name": "stdout",
     "output_type": "stream",
     "text": [
      "No. of unique MAGs: 87 \n"
     ]
    },
    {
     "data": {
      "text/html": [
       "<table class=\"dataframe\">\n",
       "<caption>A tidytable: 92 × 43</caption>\n",
       "<thead>\n",
       "\t<tr><th scope=col>genome</th><th scope=col>Fasta</th><th scope=col>Marker.lineage</th><th scope=col>X..genomes</th><th scope=col>X..markers</th><th scope=col>X..marker.sets</th><th scope=col>Completeness</th><th scope=col>Contamination</th><th scope=col>Strain.heterogeneity</th><th scope=col>Genome.size..bp.</th><th scope=col>⋯</th><th scope=col>File</th><th scope=col>Domain</th><th scope=col>Phylum</th><th scope=col>Class</th><th scope=col>Order</th><th scope=col>Family</th><th scope=col>Genus</th><th scope=col>Species</th><th scope=col>spec</th><th scope=col>age_group</th></tr>\n",
       "\t<tr><th scope=col>&lt;chr&gt;</th><th scope=col>&lt;chr&gt;</th><th scope=col>&lt;chr&gt;</th><th scope=col>&lt;int&gt;</th><th scope=col>&lt;int&gt;</th><th scope=col>&lt;int&gt;</th><th scope=col>&lt;dbl&gt;</th><th scope=col>&lt;dbl&gt;</th><th scope=col>&lt;dbl&gt;</th><th scope=col>&lt;int&gt;</th><th scope=col>⋯</th><th scope=col>&lt;chr&gt;</th><th scope=col>&lt;chr&gt;</th><th scope=col>&lt;chr&gt;</th><th scope=col>&lt;chr&gt;</th><th scope=col>&lt;chr&gt;</th><th scope=col>&lt;chr&gt;</th><th scope=col>&lt;chr&gt;</th><th scope=col>&lt;chr&gt;</th><th scope=col>&lt;chr&gt;</th><th scope=col>&lt;chr&gt;</th></tr>\n",
       "</thead>\n",
       "<tbody>\n",
       "\t<tr><td>ERR2619754__maxbin2__High_041 </td><td>/ebio/abt3_projects/HUBIF_metagenomics/data/pipelines/llg/cophyverttrans/lokmeretal2019/round1/llg_output/drep/drep/dereplicated_genomes/ERR2619754__maxbin2__High.041.fna </td><td>k__Bacteria (UID2372)</td><td>131</td><td>177</td><td>106</td><td>93.08</td><td>2.97</td><td>0</td><td>1945713</td><td>⋯</td><td>/ebio/abt3_projects/HUBIF_metagenomics/data/pipelines/llg/cophyverttrans/lokmeretal2019/round1/llg_output/checkM/2/checkm/markers_qa_summary.tsv.309</td><td>d__Bacteria</td><td>p__Firmicutes</td><td>c__Bacilli</td><td>o__Erysipelotrichales</td><td>f__Erysipelatoclostridiaceae</td><td>g__Catenibacterium</td><td>s__Catenibacterium mitsuokai</td><td>catenibacterium mitsuokai</td><td>adult</td></tr>\n",
       "\t<tr><td>ERR2619757__metabat2__High_030</td><td>/ebio/abt3_projects/HUBIF_metagenomics/data/pipelines/llg/cophyverttrans/lokmeretal2019/round1/llg_output/drep/drep/dereplicated_genomes/ERR2619757__metabat2__High.030.fna</td><td>k__Bacteria (UID2372)</td><td>131</td><td>177</td><td>106</td><td>69.81</td><td>0.00</td><td>0</td><td>1264398</td><td>⋯</td><td>/ebio/abt3_projects/HUBIF_metagenomics/data/pipelines/llg/cophyverttrans/lokmeretal2019/round1/llg_output/checkM/4/checkm/markers_qa_summary.tsv.331</td><td>d__Bacteria</td><td>p__Firmicutes</td><td>c__Bacilli</td><td>o__Erysipelotrichales</td><td>f__Erysipelatoclostridiaceae</td><td>g__Catenibacterium</td><td>s__Catenibacterium mitsuokai</td><td>catenibacterium mitsuokai</td><td>adult</td></tr>\n",
       "\t<tr><td>⋮</td><td>⋮</td><td>⋮</td><td>⋮</td><td>⋮</td><td>⋮</td><td>⋮</td><td>⋮</td><td>⋮</td><td>⋮</td><td>⋱</td><td>⋮</td><td>⋮</td><td>⋮</td><td>⋮</td><td>⋮</td><td>⋮</td><td>⋮</td><td>⋮</td><td>⋮</td><td>⋮</td></tr>\n",
       "\t<tr><td>ERR2619737__maxbin2__Med_018  </td><td>/ebio/abt3_projects/HUBIF_metagenomics/data/pipelines/llg/cophyverttrans/lokmeretal2019/round1/llg_output/drep/drep/dereplicated_genomes/ERR2619737__maxbin2__Med.018.fna  </td><td>o__Bacteroidales (UID2654)</td><td>163</td><td>486</td><td>266</td><td>90.43</td><td>0.94</td><td>0</td><td>4184342</td><td>⋯</td><td>/ebio/abt3_projects/HUBIF_metagenomics/data/pipelines/llg/cophyverttrans/lokmeretal2019/round1/llg_output/checkM/4/checkm/markers_qa_summary.tsv.196</td><td>d__Bacteria</td><td>p__Bacteroidota</td><td>c__Bacteroidia</td><td>o__Bacteroidales </td><td>f__Bacteroidaceae </td><td>g__Phocaeicola</td><td>s__Phocaeicola vulgatus</td><td>phocaeicola vulgatus</td><td>infant</td></tr>\n",
       "\t<tr><td>ERR2619763__metabat2__High_001</td><td>/ebio/abt3_projects/HUBIF_metagenomics/data/pipelines/llg/cophyverttrans/lokmeretal2019/round1/llg_output/drep/drep/dereplicated_genomes/ERR2619763__metabat2__High.001.fna</td><td>o__Clostridiales (UID1226)</td><td>155</td><td>278</td><td>158</td><td>95.57</td><td>0.00</td><td>0</td><td>3461362</td><td>⋯</td><td>/ebio/abt3_projects/HUBIF_metagenomics/data/pipelines/llg/cophyverttrans/lokmeretal2019/round1/llg_output/checkM/4/checkm/markers_qa_summary.tsv.358</td><td>d__Bacteria</td><td>p__Firmicutes_A</td><td>c__Clostridia </td><td>o__Lachnospirales</td><td>f__Lachnospiraceae</td><td>g__Blautia_A  </td><td>s__Blautia_A wexlerae  </td><td>blautia_a wexlerae  </td><td>infant</td></tr>\n",
       "</tbody>\n",
       "</table>\n"
      ],
      "text/latex": [
       "A tidytable: 92 × 43\n",
       "\\begin{tabular}{lllllllllllllllllllll}\n",
       " genome & Fasta & Marker.lineage & X..genomes & X..markers & X..marker.sets & Completeness & Contamination & Strain.heterogeneity & Genome.size..bp. & ⋯ & File & Domain & Phylum & Class & Order & Family & Genus & Species & spec & age\\_group\\\\\n",
       " <chr> & <chr> & <chr> & <int> & <int> & <int> & <dbl> & <dbl> & <dbl> & <int> & ⋯ & <chr> & <chr> & <chr> & <chr> & <chr> & <chr> & <chr> & <chr> & <chr> & <chr>\\\\\n",
       "\\hline\n",
       "\t ERR2619754\\_\\_maxbin2\\_\\_High\\_041  & /ebio/abt3\\_projects/HUBIF\\_metagenomics/data/pipelines/llg/cophyverttrans/lokmeretal2019/round1/llg\\_output/drep/drep/dereplicated\\_genomes/ERR2619754\\_\\_maxbin2\\_\\_High.041.fna  & k\\_\\_Bacteria (UID2372) & 131 & 177 & 106 & 93.08 & 2.97 & 0 & 1945713 & ⋯ & /ebio/abt3\\_projects/HUBIF\\_metagenomics/data/pipelines/llg/cophyverttrans/lokmeretal2019/round1/llg\\_output/checkM/2/checkm/markers\\_qa\\_summary.tsv.309 & d\\_\\_Bacteria & p\\_\\_Firmicutes & c\\_\\_Bacilli & o\\_\\_Erysipelotrichales & f\\_\\_Erysipelatoclostridiaceae & g\\_\\_Catenibacterium & s\\_\\_Catenibacterium mitsuokai & catenibacterium mitsuokai & adult\\\\\n",
       "\t ERR2619757\\_\\_metabat2\\_\\_High\\_030 & /ebio/abt3\\_projects/HUBIF\\_metagenomics/data/pipelines/llg/cophyverttrans/lokmeretal2019/round1/llg\\_output/drep/drep/dereplicated\\_genomes/ERR2619757\\_\\_metabat2\\_\\_High.030.fna & k\\_\\_Bacteria (UID2372) & 131 & 177 & 106 & 69.81 & 0.00 & 0 & 1264398 & ⋯ & /ebio/abt3\\_projects/HUBIF\\_metagenomics/data/pipelines/llg/cophyverttrans/lokmeretal2019/round1/llg\\_output/checkM/4/checkm/markers\\_qa\\_summary.tsv.331 & d\\_\\_Bacteria & p\\_\\_Firmicutes & c\\_\\_Bacilli & o\\_\\_Erysipelotrichales & f\\_\\_Erysipelatoclostridiaceae & g\\_\\_Catenibacterium & s\\_\\_Catenibacterium mitsuokai & catenibacterium mitsuokai & adult\\\\\n",
       "\t ⋮ & ⋮ & ⋮ & ⋮ & ⋮ & ⋮ & ⋮ & ⋮ & ⋮ & ⋮ & ⋱ & ⋮ & ⋮ & ⋮ & ⋮ & ⋮ & ⋮ & ⋮ & ⋮ & ⋮ & ⋮\\\\\n",
       "\t ERR2619737\\_\\_maxbin2\\_\\_Med\\_018   & /ebio/abt3\\_projects/HUBIF\\_metagenomics/data/pipelines/llg/cophyverttrans/lokmeretal2019/round1/llg\\_output/drep/drep/dereplicated\\_genomes/ERR2619737\\_\\_maxbin2\\_\\_Med.018.fna   & o\\_\\_Bacteroidales (UID2654) & 163 & 486 & 266 & 90.43 & 0.94 & 0 & 4184342 & ⋯ & /ebio/abt3\\_projects/HUBIF\\_metagenomics/data/pipelines/llg/cophyverttrans/lokmeretal2019/round1/llg\\_output/checkM/4/checkm/markers\\_qa\\_summary.tsv.196 & d\\_\\_Bacteria & p\\_\\_Bacteroidota & c\\_\\_Bacteroidia & o\\_\\_Bacteroidales  & f\\_\\_Bacteroidaceae  & g\\_\\_Phocaeicola & s\\_\\_Phocaeicola vulgatus & phocaeicola vulgatus & infant\\\\\n",
       "\t ERR2619763\\_\\_metabat2\\_\\_High\\_001 & /ebio/abt3\\_projects/HUBIF\\_metagenomics/data/pipelines/llg/cophyverttrans/lokmeretal2019/round1/llg\\_output/drep/drep/dereplicated\\_genomes/ERR2619763\\_\\_metabat2\\_\\_High.001.fna & o\\_\\_Clostridiales (UID1226) & 155 & 278 & 158 & 95.57 & 0.00 & 0 & 3461362 & ⋯ & /ebio/abt3\\_projects/HUBIF\\_metagenomics/data/pipelines/llg/cophyverttrans/lokmeretal2019/round1/llg\\_output/checkM/4/checkm/markers\\_qa\\_summary.tsv.358 & d\\_\\_Bacteria & p\\_\\_Firmicutes\\_A & c\\_\\_Clostridia  & o\\_\\_Lachnospirales & f\\_\\_Lachnospiraceae & g\\_\\_Blautia\\_A   & s\\_\\_Blautia\\_A wexlerae   & blautia\\_a wexlerae   & infant\\\\\n",
       "\\end{tabular}\n"
      ],
      "text/markdown": [
       "\n",
       "A tidytable: 92 × 43\n",
       "\n",
       "| genome &lt;chr&gt; | Fasta &lt;chr&gt; | Marker.lineage &lt;chr&gt; | X..genomes &lt;int&gt; | X..markers &lt;int&gt; | X..marker.sets &lt;int&gt; | Completeness &lt;dbl&gt; | Contamination &lt;dbl&gt; | Strain.heterogeneity &lt;dbl&gt; | Genome.size..bp. &lt;int&gt; | ⋯ ⋯ | File &lt;chr&gt; | Domain &lt;chr&gt; | Phylum &lt;chr&gt; | Class &lt;chr&gt; | Order &lt;chr&gt; | Family &lt;chr&gt; | Genus &lt;chr&gt; | Species &lt;chr&gt; | spec &lt;chr&gt; | age_group &lt;chr&gt; |\n",
       "|---|---|---|---|---|---|---|---|---|---|---|---|---|---|---|---|---|---|---|---|---|\n",
       "| ERR2619754__maxbin2__High_041  | /ebio/abt3_projects/HUBIF_metagenomics/data/pipelines/llg/cophyverttrans/lokmeretal2019/round1/llg_output/drep/drep/dereplicated_genomes/ERR2619754__maxbin2__High.041.fna  | k__Bacteria (UID2372) | 131 | 177 | 106 | 93.08 | 2.97 | 0 | 1945713 | ⋯ | /ebio/abt3_projects/HUBIF_metagenomics/data/pipelines/llg/cophyverttrans/lokmeretal2019/round1/llg_output/checkM/2/checkm/markers_qa_summary.tsv.309 | d__Bacteria | p__Firmicutes | c__Bacilli | o__Erysipelotrichales | f__Erysipelatoclostridiaceae | g__Catenibacterium | s__Catenibacterium mitsuokai | catenibacterium mitsuokai | adult |\n",
       "| ERR2619757__metabat2__High_030 | /ebio/abt3_projects/HUBIF_metagenomics/data/pipelines/llg/cophyverttrans/lokmeretal2019/round1/llg_output/drep/drep/dereplicated_genomes/ERR2619757__metabat2__High.030.fna | k__Bacteria (UID2372) | 131 | 177 | 106 | 69.81 | 0.00 | 0 | 1264398 | ⋯ | /ebio/abt3_projects/HUBIF_metagenomics/data/pipelines/llg/cophyverttrans/lokmeretal2019/round1/llg_output/checkM/4/checkm/markers_qa_summary.tsv.331 | d__Bacteria | p__Firmicutes | c__Bacilli | o__Erysipelotrichales | f__Erysipelatoclostridiaceae | g__Catenibacterium | s__Catenibacterium mitsuokai | catenibacterium mitsuokai | adult |\n",
       "| ⋮ | ⋮ | ⋮ | ⋮ | ⋮ | ⋮ | ⋮ | ⋮ | ⋮ | ⋮ | ⋱ | ⋮ | ⋮ | ⋮ | ⋮ | ⋮ | ⋮ | ⋮ | ⋮ | ⋮ | ⋮ |\n",
       "| ERR2619737__maxbin2__Med_018   | /ebio/abt3_projects/HUBIF_metagenomics/data/pipelines/llg/cophyverttrans/lokmeretal2019/round1/llg_output/drep/drep/dereplicated_genomes/ERR2619737__maxbin2__Med.018.fna   | o__Bacteroidales (UID2654) | 163 | 486 | 266 | 90.43 | 0.94 | 0 | 4184342 | ⋯ | /ebio/abt3_projects/HUBIF_metagenomics/data/pipelines/llg/cophyverttrans/lokmeretal2019/round1/llg_output/checkM/4/checkm/markers_qa_summary.tsv.196 | d__Bacteria | p__Bacteroidota | c__Bacteroidia | o__Bacteroidales  | f__Bacteroidaceae  | g__Phocaeicola | s__Phocaeicola vulgatus | phocaeicola vulgatus | infant |\n",
       "| ERR2619763__metabat2__High_001 | /ebio/abt3_projects/HUBIF_metagenomics/data/pipelines/llg/cophyverttrans/lokmeretal2019/round1/llg_output/drep/drep/dereplicated_genomes/ERR2619763__metabat2__High.001.fna | o__Clostridiales (UID1226) | 155 | 278 | 158 | 95.57 | 0.00 | 0 | 3461362 | ⋯ | /ebio/abt3_projects/HUBIF_metagenomics/data/pipelines/llg/cophyverttrans/lokmeretal2019/round1/llg_output/checkM/4/checkm/markers_qa_summary.tsv.358 | d__Bacteria | p__Firmicutes_A | c__Clostridia  | o__Lachnospirales | f__Lachnospiraceae | g__Blautia_A   | s__Blautia_A wexlerae   | blautia_a wexlerae   | infant |\n",
       "\n"
      ],
      "text/plain": [
       "   genome                        \n",
       "1  ERR2619754__maxbin2__High_041 \n",
       "2  ERR2619757__metabat2__High_030\n",
       "⋮  ⋮                             \n",
       "91 ERR2619737__maxbin2__Med_018  \n",
       "92 ERR2619763__metabat2__High_001\n",
       "   Fasta                                                                                                                                                                      \n",
       "1  /ebio/abt3_projects/HUBIF_metagenomics/data/pipelines/llg/cophyverttrans/lokmeretal2019/round1/llg_output/drep/drep/dereplicated_genomes/ERR2619754__maxbin2__High.041.fna \n",
       "2  /ebio/abt3_projects/HUBIF_metagenomics/data/pipelines/llg/cophyverttrans/lokmeretal2019/round1/llg_output/drep/drep/dereplicated_genomes/ERR2619757__metabat2__High.030.fna\n",
       "⋮  ⋮                                                                                                                                                                          \n",
       "91 /ebio/abt3_projects/HUBIF_metagenomics/data/pipelines/llg/cophyverttrans/lokmeretal2019/round1/llg_output/drep/drep/dereplicated_genomes/ERR2619737__maxbin2__Med.018.fna  \n",
       "92 /ebio/abt3_projects/HUBIF_metagenomics/data/pipelines/llg/cophyverttrans/lokmeretal2019/round1/llg_output/drep/drep/dereplicated_genomes/ERR2619763__metabat2__High.001.fna\n",
       "   Marker.lineage             X..genomes X..markers X..marker.sets Completeness\n",
       "1  k__Bacteria (UID2372)      131        177        106            93.08       \n",
       "2  k__Bacteria (UID2372)      131        177        106            69.81       \n",
       "⋮  ⋮                          ⋮          ⋮          ⋮              ⋮           \n",
       "91 o__Bacteroidales (UID2654) 163        486        266            90.43       \n",
       "92 o__Clostridiales (UID1226) 155        278        158            95.57       \n",
       "   Contamination Strain.heterogeneity Genome.size..bp. ⋯\n",
       "1  2.97          0                    1945713          ⋯\n",
       "2  0.00          0                    1264398          ⋯\n",
       "⋮  ⋮             ⋮                    ⋮                ⋱\n",
       "91 0.94          0                    4184342          ⋯\n",
       "92 0.00          0                    3461362          ⋯\n",
       "   File                                                                                                                                                \n",
       "1  /ebio/abt3_projects/HUBIF_metagenomics/data/pipelines/llg/cophyverttrans/lokmeretal2019/round1/llg_output/checkM/2/checkm/markers_qa_summary.tsv.309\n",
       "2  /ebio/abt3_projects/HUBIF_metagenomics/data/pipelines/llg/cophyverttrans/lokmeretal2019/round1/llg_output/checkM/4/checkm/markers_qa_summary.tsv.331\n",
       "⋮  ⋮                                                                                                                                                   \n",
       "91 /ebio/abt3_projects/HUBIF_metagenomics/data/pipelines/llg/cophyverttrans/lokmeretal2019/round1/llg_output/checkM/4/checkm/markers_qa_summary.tsv.196\n",
       "92 /ebio/abt3_projects/HUBIF_metagenomics/data/pipelines/llg/cophyverttrans/lokmeretal2019/round1/llg_output/checkM/4/checkm/markers_qa_summary.tsv.358\n",
       "   Domain      Phylum          Class          Order                \n",
       "1  d__Bacteria p__Firmicutes   c__Bacilli     o__Erysipelotrichales\n",
       "2  d__Bacteria p__Firmicutes   c__Bacilli     o__Erysipelotrichales\n",
       "⋮  ⋮           ⋮               ⋮              ⋮                    \n",
       "91 d__Bacteria p__Bacteroidota c__Bacteroidia o__Bacteroidales     \n",
       "92 d__Bacteria p__Firmicutes_A c__Clostridia  o__Lachnospirales    \n",
       "   Family                       Genus              Species                     \n",
       "1  f__Erysipelatoclostridiaceae g__Catenibacterium s__Catenibacterium mitsuokai\n",
       "2  f__Erysipelatoclostridiaceae g__Catenibacterium s__Catenibacterium mitsuokai\n",
       "⋮  ⋮                            ⋮                  ⋮                           \n",
       "91 f__Bacteroidaceae            g__Phocaeicola     s__Phocaeicola vulgatus     \n",
       "92 f__Lachnospiraceae           g__Blautia_A       s__Blautia_A wexlerae       \n",
       "   spec                      age_group\n",
       "1  catenibacterium mitsuokai adult    \n",
       "2  catenibacterium mitsuokai adult    \n",
       "⋮  ⋮                         ⋮        \n",
       "91 phocaeicola vulgatus      infant   \n",
       "92 blautia_a wexlerae        infant   "
      ]
     },
     "metadata": {},
     "output_type": "display_data"
    }
   ],
   "source": [
    "# filtering to just co-phylo species\n",
    "drep_f = drep %>%\n",
    "    mutate.(spec = stringr::str_to_lower(gsub('^s__', '', Species))) %>%\n",
    "    inner_join.(cophylo_spec %>%\n",
    "                    mutate.(spec = stringr::str_to_lower(Species)) %>%\n",
    "                    distinct.(spec, age_group),\n",
    "               by=c('spec')) %>%\n",
    "    rename.('genome' = Name)\n",
    "drep_f$genome %>% unique_n('MAGs')\n",
    "drep_f"
   ]
  },
  {
   "cell_type": "markdown",
   "metadata": {},
   "source": [
    "### Summary"
   ]
  },
  {
   "cell_type": "code",
   "execution_count": 30,
   "metadata": {
    "ExecuteTime": {
     "end_time": "2021-07-30T10:33:25.456077Z",
     "start_time": "2021-07-30T10:33:25.400Z"
    }
   },
   "outputs": [
    {
     "data": {
      "text/html": [
       "<table class=\"dataframe\">\n",
       "<caption>A matrix: 1 × 8 of type dbl</caption>\n",
       "<thead>\n",
       "\t<tr><th></th><th scope=col>Min.</th><th scope=col>1st Qu.</th><th scope=col>Median</th><th scope=col>Mean</th><th scope=col>3rd Qu.</th><th scope=col>Max.</th><th scope=col>sd</th><th scope=col>sd_err_of_mean</th></tr>\n",
       "</thead>\n",
       "<tbody>\n",
       "\t<tr><th scope=row>Completeness</th><td>54.94</td><td>88.6025</td><td>95.78</td><td>89.77663</td><td>98.4325</td><td>99.87</td><td>16.773</td><td>6.848</td></tr>\n",
       "</tbody>\n",
       "</table>\n"
      ],
      "text/latex": [
       "A matrix: 1 × 8 of type dbl\n",
       "\\begin{tabular}{r|llllllll}\n",
       "  & Min. & 1st Qu. & Median & Mean & 3rd Qu. & Max. & sd & sd\\_err\\_of\\_mean\\\\\n",
       "\\hline\n",
       "\tCompleteness & 54.94 & 88.6025 & 95.78 & 89.77663 & 98.4325 & 99.87 & 16.773 & 6.848\\\\\n",
       "\\end{tabular}\n"
      ],
      "text/markdown": [
       "\n",
       "A matrix: 1 × 8 of type dbl\n",
       "\n",
       "| <!--/--> | Min. | 1st Qu. | Median | Mean | 3rd Qu. | Max. | sd | sd_err_of_mean |\n",
       "|---|---|---|---|---|---|---|---|---|\n",
       "| Completeness | 54.94 | 88.6025 | 95.78 | 89.77663 | 98.4325 | 99.87 | 16.773 | 6.848 |\n",
       "\n"
      ],
      "text/plain": [
       "             Min.  1st Qu. Median Mean     3rd Qu. Max.  sd     sd_err_of_mean\n",
       "Completeness 54.94 88.6025 95.78  89.77663 98.4325 99.87 16.773 6.848         "
      ]
     },
     "metadata": {},
     "output_type": "display_data"
    },
    {
     "data": {
      "text/html": [
       "<table class=\"dataframe\">\n",
       "<caption>A matrix: 1 × 8 of type dbl</caption>\n",
       "<thead>\n",
       "\t<tr><th></th><th scope=col>Min.</th><th scope=col>1st Qu.</th><th scope=col>Median</th><th scope=col>Mean</th><th scope=col>3rd Qu.</th><th scope=col>Max.</th><th scope=col>sd</th><th scope=col>sd_err_of_mean</th></tr>\n",
       "</thead>\n",
       "<tbody>\n",
       "\t<tr><th scope=row>Contamination</th><td>0</td><td>0.06</td><td>0.85</td><td>1.149457</td><td>1.8425</td><td>4.75</td><td>1.762</td><td>0.719</td></tr>\n",
       "</tbody>\n",
       "</table>\n"
      ],
      "text/latex": [
       "A matrix: 1 × 8 of type dbl\n",
       "\\begin{tabular}{r|llllllll}\n",
       "  & Min. & 1st Qu. & Median & Mean & 3rd Qu. & Max. & sd & sd\\_err\\_of\\_mean\\\\\n",
       "\\hline\n",
       "\tContamination & 0 & 0.06 & 0.85 & 1.149457 & 1.8425 & 4.75 & 1.762 & 0.719\\\\\n",
       "\\end{tabular}\n"
      ],
      "text/markdown": [
       "\n",
       "A matrix: 1 × 8 of type dbl\n",
       "\n",
       "| <!--/--> | Min. | 1st Qu. | Median | Mean | 3rd Qu. | Max. | sd | sd_err_of_mean |\n",
       "|---|---|---|---|---|---|---|---|---|\n",
       "| Contamination | 0 | 0.06 | 0.85 | 1.149457 | 1.8425 | 4.75 | 1.762 | 0.719 |\n",
       "\n"
      ],
      "text/plain": [
       "              Min. 1st Qu. Median Mean     3rd Qu. Max. sd    sd_err_of_mean\n",
       "Contamination 0    0.06    0.85   1.149457 1.8425  4.75 1.762 0.719         "
      ]
     },
     "metadata": {},
     "output_type": "display_data"
    },
    {
     "data": {
      "text/html": [
       "<table class=\"dataframe\">\n",
       "<caption>A matrix: 1 × 8 of type dbl</caption>\n",
       "<thead>\n",
       "\t<tr><th></th><th scope=col>Min.</th><th scope=col>1st Qu.</th><th scope=col>Median</th><th scope=col>Mean</th><th scope=col>3rd Qu.</th><th scope=col>Max.</th><th scope=col>sd</th><th scope=col>sd_err_of_mean</th></tr>\n",
       "</thead>\n",
       "<tbody>\n",
       "\t<tr><th scope=row>X..contigs</th><td>27</td><td>127.5</td><td>283.5</td><td>288.0761</td><td>408.5</td><td>961</td><td>328.278</td><td>134.019</td></tr>\n",
       "</tbody>\n",
       "</table>\n"
      ],
      "text/latex": [
       "A matrix: 1 × 8 of type dbl\n",
       "\\begin{tabular}{r|llllllll}\n",
       "  & Min. & 1st Qu. & Median & Mean & 3rd Qu. & Max. & sd & sd\\_err\\_of\\_mean\\\\\n",
       "\\hline\n",
       "\tX..contigs & 27 & 127.5 & 283.5 & 288.0761 & 408.5 & 961 & 328.278 & 134.019\\\\\n",
       "\\end{tabular}\n"
      ],
      "text/markdown": [
       "\n",
       "A matrix: 1 × 8 of type dbl\n",
       "\n",
       "| <!--/--> | Min. | 1st Qu. | Median | Mean | 3rd Qu. | Max. | sd | sd_err_of_mean |\n",
       "|---|---|---|---|---|---|---|---|---|\n",
       "| X..contigs | 27 | 127.5 | 283.5 | 288.0761 | 408.5 | 961 | 328.278 | 134.019 |\n",
       "\n"
      ],
      "text/plain": [
       "           Min. 1st Qu. Median Mean     3rd Qu. Max. sd      sd_err_of_mean\n",
       "X..contigs 27   127.5   283.5  288.0761 408.5   961  328.278 134.019       "
      ]
     },
     "metadata": {},
     "output_type": "display_data"
    },
    {
     "data": {
      "text/html": [
       "<table class=\"dataframe\">\n",
       "<caption>A matrix: 1 × 8 of type dbl</caption>\n",
       "<thead>\n",
       "\t<tr><th></th><th scope=col>Min.</th><th scope=col>1st Qu.</th><th scope=col>Median</th><th scope=col>Mean</th><th scope=col>3rd Qu.</th><th scope=col>Max.</th><th scope=col>sd</th><th scope=col>sd_err_of_mean</th></tr>\n",
       "</thead>\n",
       "<tbody>\n",
       "\t<tr><th scope=row>N50..contigs.</th><td>2615</td><td>5325</td><td>13791</td><td>30794.62</td><td>37872</td><td>237339</td><td>90593.49</td><td>36984.64</td></tr>\n",
       "</tbody>\n",
       "</table>\n"
      ],
      "text/latex": [
       "A matrix: 1 × 8 of type dbl\n",
       "\\begin{tabular}{r|llllllll}\n",
       "  & Min. & 1st Qu. & Median & Mean & 3rd Qu. & Max. & sd & sd\\_err\\_of\\_mean\\\\\n",
       "\\hline\n",
       "\tN50..contigs. & 2615 & 5325 & 13791 & 30794.62 & 37872 & 237339 & 90593.49 & 36984.64\\\\\n",
       "\\end{tabular}\n"
      ],
      "text/markdown": [
       "\n",
       "A matrix: 1 × 8 of type dbl\n",
       "\n",
       "| <!--/--> | Min. | 1st Qu. | Median | Mean | 3rd Qu. | Max. | sd | sd_err_of_mean |\n",
       "|---|---|---|---|---|---|---|---|---|\n",
       "| N50..contigs. | 2615 | 5325 | 13791 | 30794.62 | 37872 | 237339 | 90593.49 | 36984.64 |\n",
       "\n"
      ],
      "text/plain": [
       "              Min. 1st Qu. Median Mean     3rd Qu. Max.   sd      \n",
       "N50..contigs. 2615 5325    13791  30794.62 37872   237339 90593.49\n",
       "              sd_err_of_mean\n",
       "N50..contigs. 36984.64      "
      ]
     },
     "metadata": {},
     "output_type": "display_data"
    }
   ],
   "source": [
    "summary_x(drep_f$Completeness)\n",
    "summary_x(drep_f$Contamination)\n",
    "summary_x(drep_f$X..contigs)\n",
    "summary_x(drep_f$N50..contigs.)"
   ]
  },
  {
   "cell_type": "code",
   "execution_count": 31,
   "metadata": {
    "ExecuteTime": {
     "end_time": "2021-07-30T10:33:29.957110Z",
     "start_time": "2021-07-30T10:33:29.919Z"
    }
   },
   "outputs": [
    {
     "data": {
      "text/html": [
       "<table class=\"dataframe\">\n",
       "<caption>A tidytable: 4 × 2</caption>\n",
       "<thead>\n",
       "\t<tr><th scope=col>taxonomy</th><th scope=col>n</th></tr>\n",
       "\t<tr><th scope=col>&lt;chr&gt;</th><th scope=col>&lt;int&gt;</th></tr>\n",
       "</thead>\n",
       "<tbody>\n",
       "\t<tr><td>p__Firmicutes_A;c__Clostridia       </td><td>74</td></tr>\n",
       "\t<tr><td>p__Bacteroidota;c__Bacteroidia      </td><td> 7</td></tr>\n",
       "\t<tr><td>p__Actinobacteriota;c__Actinomycetia</td><td> 6</td></tr>\n",
       "\t<tr><td>p__Firmicutes;c__Bacilli            </td><td> 5</td></tr>\n",
       "</tbody>\n",
       "</table>\n"
      ],
      "text/latex": [
       "A tidytable: 4 × 2\n",
       "\\begin{tabular}{ll}\n",
       " taxonomy & n\\\\\n",
       " <chr> & <int>\\\\\n",
       "\\hline\n",
       "\t p\\_\\_Firmicutes\\_A;c\\_\\_Clostridia        & 74\\\\\n",
       "\t p\\_\\_Bacteroidota;c\\_\\_Bacteroidia       &  7\\\\\n",
       "\t p\\_\\_Actinobacteriota;c\\_\\_Actinomycetia &  6\\\\\n",
       "\t p\\_\\_Firmicutes;c\\_\\_Bacilli             &  5\\\\\n",
       "\\end{tabular}\n"
      ],
      "text/markdown": [
       "\n",
       "A tidytable: 4 × 2\n",
       "\n",
       "| taxonomy &lt;chr&gt; | n &lt;int&gt; |\n",
       "|---|---|\n",
       "| p__Firmicutes_A;c__Clostridia        | 74 |\n",
       "| p__Bacteroidota;c__Bacteroidia       |  7 |\n",
       "| p__Actinobacteriota;c__Actinomycetia |  6 |\n",
       "| p__Firmicutes;c__Bacilli             |  5 |\n",
       "\n"
      ],
      "text/plain": [
       "  taxonomy                             n \n",
       "1 p__Firmicutes_A;c__Clostridia        74\n",
       "2 p__Bacteroidota;c__Bacteroidia        7\n",
       "3 p__Actinobacteriota;c__Actinomycetia  6\n",
       "4 p__Firmicutes;c__Bacilli              5"
      ]
     },
     "metadata": {},
     "output_type": "display_data"
    }
   ],
   "source": [
    "# by class\n",
    "df.dims(50)\n",
    "drep_f %>%\n",
    "    mutate.(taxonomy = paste(Phylum, Class, sep=';')) %>%\n",
    "    summarize.(n = n.(),\n",
    "               .by=c(taxonomy)) %>%\n",
    "    arrange.(-n)\n",
    "df.dims()"
   ]
  },
  {
   "cell_type": "code",
   "execution_count": 32,
   "metadata": {
    "ExecuteTime": {
     "end_time": "2021-07-30T10:33:33.763143Z",
     "start_time": "2021-07-30T10:33:33.680Z"
    }
   },
   "outputs": [
    {
     "data": {
      "text/html": [
       "<table class=\"dataframe\">\n",
       "<caption>A tidytable: 22 × 8</caption>\n",
       "<thead>\n",
       "\t<tr><th scope=col>Phylum</th><th scope=col>Class</th><th scope=col>Order</th><th scope=col>Family</th><th scope=col>Genus</th><th scope=col>Species</th><th scope=col>age_group</th><th scope=col>n</th></tr>\n",
       "\t<tr><th scope=col>&lt;chr&gt;</th><th scope=col>&lt;chr&gt;</th><th scope=col>&lt;chr&gt;</th><th scope=col>&lt;chr&gt;</th><th scope=col>&lt;chr&gt;</th><th scope=col>&lt;chr&gt;</th><th scope=col>&lt;chr&gt;</th><th scope=col>&lt;int&gt;</th></tr>\n",
       "</thead>\n",
       "<tbody>\n",
       "\t<tr><td>p__Firmicutes_A    </td><td>c__Clostridia   </td><td>o__Lachnospirales    </td><td>f__Lachnospiraceae          </td><td>g__Agathobacter       </td><td>s__Agathobacter rectalis          </td><td>adult </td><td>16</td></tr>\n",
       "\t<tr><td>p__Firmicutes_A    </td><td>c__Clostridia   </td><td>o__Oscillospirales   </td><td>f__Acutalibacteraceae       </td><td>g__Eubacterium_R      </td><td>s__Eubacterium_R sp000436835      </td><td>adult </td><td>14</td></tr>\n",
       "\t<tr><td>p__Firmicutes_A    </td><td>c__Clostridia   </td><td>o__Lachnospirales    </td><td>f__Lachnospiraceae          </td><td>g__Agathobacter       </td><td>s__Agathobacter faecis            </td><td>adult </td><td>13</td></tr>\n",
       "\t<tr><td>p__Firmicutes_A    </td><td>c__Clostridia   </td><td>o__Oscillospirales   </td><td>f__Acutalibacteraceae       </td><td>g__CAG-180            </td><td>s__CAG-180 sp000432435            </td><td>adult </td><td> 8</td></tr>\n",
       "\t<tr><td>p__Firmicutes_A    </td><td>c__Clostridia   </td><td>o__Oscillospirales   </td><td>f__Ruminococcaceae          </td><td>g__Ruminiclostridium_E</td><td>s__Ruminiclostridium_E siraeum    </td><td>adult </td><td> 6</td></tr>\n",
       "\t<tr><td>p__Firmicutes_A    </td><td>c__Clostridia   </td><td>o__Lachnospirales    </td><td>f__Lachnospiraceae          </td><td>g__Lachnospira        </td><td>s__Lachnospira rogosae            </td><td>adult </td><td> 5</td></tr>\n",
       "\t<tr><td>p__Firmicutes      </td><td>c__Bacilli      </td><td>o__Erysipelotrichales</td><td>f__Erysipelatoclostridiaceae</td><td>g__Catenibacterium    </td><td>s__Catenibacterium mitsuokai      </td><td>adult </td><td> 4</td></tr>\n",
       "\t<tr><td>p__Firmicutes_A    </td><td>c__Clostridia   </td><td>o__Lachnospirales    </td><td>f__Lachnospiraceae          </td><td>g__Lachnospira        </td><td>s__Lachnospira eligens_B          </td><td>adult </td><td> 4</td></tr>\n",
       "\t<tr><td>p__Actinobacteriota</td><td>c__Actinomycetia</td><td>o__Actinomycetales   </td><td>f__Bifidobacteriaceae       </td><td>g__Bifidobacterium    </td><td>s__Bifidobacterium adolescentis   </td><td>adult </td><td> 4</td></tr>\n",
       "\t<tr><td>p__Bacteroidota    </td><td>c__Bacteroidia  </td><td>o__Bacteroidales     </td><td>f__Bacteroidaceae           </td><td>g__Phocaeicola        </td><td>s__Phocaeicola vulgatus           </td><td>adult </td><td> 3</td></tr>\n",
       "\t<tr><td>p__Firmicutes_A    </td><td>c__Clostridia   </td><td>o__Lachnospirales    </td><td>f__Lachnospiraceae          </td><td>g__Fusicatenibacter   </td><td>s__Fusicatenibacter saccharivorans</td><td>adult </td><td> 2</td></tr>\n",
       "\t<tr><td>p__Firmicutes_A    </td><td>c__Clostridia   </td><td>o__Lachnospirales    </td><td>f__Lachnospiraceae          </td><td>g__Blautia_A          </td><td>s__Blautia_A wexlerae             </td><td>adult </td><td> 1</td></tr>\n",
       "\t<tr><td>p__Firmicutes_A    </td><td>c__Clostridia   </td><td>o__Oscillospirales   </td><td>f__Oscillospiraceae         </td><td>g__CAG-83             </td><td>s__CAG-83 sp000435975             </td><td>adult </td><td> 1</td></tr>\n",
       "\t<tr><td>p__Firmicutes      </td><td>c__Bacilli      </td><td>o__Erysipelotrichales</td><td>f__Erysipelotrichaceae      </td><td>g__Holdemanella       </td><td>s__Holdemanella biformis          </td><td>adult </td><td> 1</td></tr>\n",
       "\t<tr><td>p__Firmicutes_A    </td><td>c__Clostridia   </td><td>o__Lachnospirales    </td><td>f__Lachnospiraceae          </td><td>g__Anaerostipes       </td><td>s__Anaerostipes hadrus            </td><td>adult </td><td> 1</td></tr>\n",
       "\t<tr><td>p__Firmicutes_A    </td><td>c__Clostridia   </td><td>o__Lachnospirales    </td><td>f__Lachnospiraceae          </td><td>g__Anaerobutyricum    </td><td>s__Anaerobutyricum hallii         </td><td>adult </td><td> 1</td></tr>\n",
       "\t<tr><td>p__Firmicutes_A    </td><td>c__Clostridia   </td><td>o__Lachnospirales    </td><td>f__Lachnospiraceae          </td><td>g__Roseburia          </td><td>s__Roseburia intestinalis         </td><td>adult </td><td> 1</td></tr>\n",
       "\t<tr><td>p__Bacteroidota    </td><td>c__Bacteroidia  </td><td>o__Bacteroidales     </td><td>f__Rikenellaceae            </td><td>g__Alistipes          </td><td>s__Alistipes putredinis           </td><td>adult </td><td> 1</td></tr>\n",
       "\t<tr><td>p__Actinobacteriota</td><td>c__Actinomycetia</td><td>o__Actinomycetales   </td><td>f__Bifidobacteriaceae       </td><td>g__Bifidobacterium    </td><td>s__Bifidobacterium longum         </td><td>adult </td><td> 1</td></tr>\n",
       "\t<tr><td>p__Bacteroidota    </td><td>c__Bacteroidia  </td><td>o__Bacteroidales     </td><td>f__Bacteroidaceae           </td><td>g__Phocaeicola        </td><td>s__Phocaeicola vulgatus           </td><td>infant</td><td> 3</td></tr>\n",
       "\t<tr><td>p__Actinobacteriota</td><td>c__Actinomycetia</td><td>o__Actinomycetales   </td><td>f__Bifidobacteriaceae       </td><td>g__Bifidobacterium    </td><td>s__Bifidobacterium longum         </td><td>infant</td><td> 1</td></tr>\n",
       "\t<tr><td>p__Firmicutes_A    </td><td>c__Clostridia   </td><td>o__Lachnospirales    </td><td>f__Lachnospiraceae          </td><td>g__Blautia_A          </td><td>s__Blautia_A wexlerae             </td><td>infant</td><td> 1</td></tr>\n",
       "</tbody>\n",
       "</table>\n"
      ],
      "text/latex": [
       "A tidytable: 22 × 8\n",
       "\\begin{tabular}{llllllll}\n",
       " Phylum & Class & Order & Family & Genus & Species & age\\_group & n\\\\\n",
       " <chr> & <chr> & <chr> & <chr> & <chr> & <chr> & <chr> & <int>\\\\\n",
       "\\hline\n",
       "\t p\\_\\_Firmicutes\\_A     & c\\_\\_Clostridia    & o\\_\\_Lachnospirales     & f\\_\\_Lachnospiraceae           & g\\_\\_Agathobacter        & s\\_\\_Agathobacter rectalis           & adult  & 16\\\\\n",
       "\t p\\_\\_Firmicutes\\_A     & c\\_\\_Clostridia    & o\\_\\_Oscillospirales    & f\\_\\_Acutalibacteraceae        & g\\_\\_Eubacterium\\_R       & s\\_\\_Eubacterium\\_R sp000436835       & adult  & 14\\\\\n",
       "\t p\\_\\_Firmicutes\\_A     & c\\_\\_Clostridia    & o\\_\\_Lachnospirales     & f\\_\\_Lachnospiraceae           & g\\_\\_Agathobacter        & s\\_\\_Agathobacter faecis             & adult  & 13\\\\\n",
       "\t p\\_\\_Firmicutes\\_A     & c\\_\\_Clostridia    & o\\_\\_Oscillospirales    & f\\_\\_Acutalibacteraceae        & g\\_\\_CAG-180             & s\\_\\_CAG-180 sp000432435             & adult  &  8\\\\\n",
       "\t p\\_\\_Firmicutes\\_A     & c\\_\\_Clostridia    & o\\_\\_Oscillospirales    & f\\_\\_Ruminococcaceae           & g\\_\\_Ruminiclostridium\\_E & s\\_\\_Ruminiclostridium\\_E siraeum     & adult  &  6\\\\\n",
       "\t p\\_\\_Firmicutes\\_A     & c\\_\\_Clostridia    & o\\_\\_Lachnospirales     & f\\_\\_Lachnospiraceae           & g\\_\\_Lachnospira         & s\\_\\_Lachnospira rogosae             & adult  &  5\\\\\n",
       "\t p\\_\\_Firmicutes       & c\\_\\_Bacilli       & o\\_\\_Erysipelotrichales & f\\_\\_Erysipelatoclostridiaceae & g\\_\\_Catenibacterium     & s\\_\\_Catenibacterium mitsuokai       & adult  &  4\\\\\n",
       "\t p\\_\\_Firmicutes\\_A     & c\\_\\_Clostridia    & o\\_\\_Lachnospirales     & f\\_\\_Lachnospiraceae           & g\\_\\_Lachnospira         & s\\_\\_Lachnospira eligens\\_B           & adult  &  4\\\\\n",
       "\t p\\_\\_Actinobacteriota & c\\_\\_Actinomycetia & o\\_\\_Actinomycetales    & f\\_\\_Bifidobacteriaceae        & g\\_\\_Bifidobacterium     & s\\_\\_Bifidobacterium adolescentis    & adult  &  4\\\\\n",
       "\t p\\_\\_Bacteroidota     & c\\_\\_Bacteroidia   & o\\_\\_Bacteroidales      & f\\_\\_Bacteroidaceae            & g\\_\\_Phocaeicola         & s\\_\\_Phocaeicola vulgatus            & adult  &  3\\\\\n",
       "\t p\\_\\_Firmicutes\\_A     & c\\_\\_Clostridia    & o\\_\\_Lachnospirales     & f\\_\\_Lachnospiraceae           & g\\_\\_Fusicatenibacter    & s\\_\\_Fusicatenibacter saccharivorans & adult  &  2\\\\\n",
       "\t p\\_\\_Firmicutes\\_A     & c\\_\\_Clostridia    & o\\_\\_Lachnospirales     & f\\_\\_Lachnospiraceae           & g\\_\\_Blautia\\_A           & s\\_\\_Blautia\\_A wexlerae              & adult  &  1\\\\\n",
       "\t p\\_\\_Firmicutes\\_A     & c\\_\\_Clostridia    & o\\_\\_Oscillospirales    & f\\_\\_Oscillospiraceae          & g\\_\\_CAG-83              & s\\_\\_CAG-83 sp000435975              & adult  &  1\\\\\n",
       "\t p\\_\\_Firmicutes       & c\\_\\_Bacilli       & o\\_\\_Erysipelotrichales & f\\_\\_Erysipelotrichaceae       & g\\_\\_Holdemanella        & s\\_\\_Holdemanella biformis           & adult  &  1\\\\\n",
       "\t p\\_\\_Firmicutes\\_A     & c\\_\\_Clostridia    & o\\_\\_Lachnospirales     & f\\_\\_Lachnospiraceae           & g\\_\\_Anaerostipes        & s\\_\\_Anaerostipes hadrus             & adult  &  1\\\\\n",
       "\t p\\_\\_Firmicutes\\_A     & c\\_\\_Clostridia    & o\\_\\_Lachnospirales     & f\\_\\_Lachnospiraceae           & g\\_\\_Anaerobutyricum     & s\\_\\_Anaerobutyricum hallii          & adult  &  1\\\\\n",
       "\t p\\_\\_Firmicutes\\_A     & c\\_\\_Clostridia    & o\\_\\_Lachnospirales     & f\\_\\_Lachnospiraceae           & g\\_\\_Roseburia           & s\\_\\_Roseburia intestinalis          & adult  &  1\\\\\n",
       "\t p\\_\\_Bacteroidota     & c\\_\\_Bacteroidia   & o\\_\\_Bacteroidales      & f\\_\\_Rikenellaceae             & g\\_\\_Alistipes           & s\\_\\_Alistipes putredinis            & adult  &  1\\\\\n",
       "\t p\\_\\_Actinobacteriota & c\\_\\_Actinomycetia & o\\_\\_Actinomycetales    & f\\_\\_Bifidobacteriaceae        & g\\_\\_Bifidobacterium     & s\\_\\_Bifidobacterium longum          & adult  &  1\\\\\n",
       "\t p\\_\\_Bacteroidota     & c\\_\\_Bacteroidia   & o\\_\\_Bacteroidales      & f\\_\\_Bacteroidaceae            & g\\_\\_Phocaeicola         & s\\_\\_Phocaeicola vulgatus            & infant &  3\\\\\n",
       "\t p\\_\\_Actinobacteriota & c\\_\\_Actinomycetia & o\\_\\_Actinomycetales    & f\\_\\_Bifidobacteriaceae        & g\\_\\_Bifidobacterium     & s\\_\\_Bifidobacterium longum          & infant &  1\\\\\n",
       "\t p\\_\\_Firmicutes\\_A     & c\\_\\_Clostridia    & o\\_\\_Lachnospirales     & f\\_\\_Lachnospiraceae           & g\\_\\_Blautia\\_A           & s\\_\\_Blautia\\_A wexlerae              & infant &  1\\\\\n",
       "\\end{tabular}\n"
      ],
      "text/markdown": [
       "\n",
       "A tidytable: 22 × 8\n",
       "\n",
       "| Phylum &lt;chr&gt; | Class &lt;chr&gt; | Order &lt;chr&gt; | Family &lt;chr&gt; | Genus &lt;chr&gt; | Species &lt;chr&gt; | age_group &lt;chr&gt; | n &lt;int&gt; |\n",
       "|---|---|---|---|---|---|---|---|\n",
       "| p__Firmicutes_A     | c__Clostridia    | o__Lachnospirales     | f__Lachnospiraceae           | g__Agathobacter        | s__Agathobacter rectalis           | adult  | 16 |\n",
       "| p__Firmicutes_A     | c__Clostridia    | o__Oscillospirales    | f__Acutalibacteraceae        | g__Eubacterium_R       | s__Eubacterium_R sp000436835       | adult  | 14 |\n",
       "| p__Firmicutes_A     | c__Clostridia    | o__Lachnospirales     | f__Lachnospiraceae           | g__Agathobacter        | s__Agathobacter faecis             | adult  | 13 |\n",
       "| p__Firmicutes_A     | c__Clostridia    | o__Oscillospirales    | f__Acutalibacteraceae        | g__CAG-180             | s__CAG-180 sp000432435             | adult  |  8 |\n",
       "| p__Firmicutes_A     | c__Clostridia    | o__Oscillospirales    | f__Ruminococcaceae           | g__Ruminiclostridium_E | s__Ruminiclostridium_E siraeum     | adult  |  6 |\n",
       "| p__Firmicutes_A     | c__Clostridia    | o__Lachnospirales     | f__Lachnospiraceae           | g__Lachnospira         | s__Lachnospira rogosae             | adult  |  5 |\n",
       "| p__Firmicutes       | c__Bacilli       | o__Erysipelotrichales | f__Erysipelatoclostridiaceae | g__Catenibacterium     | s__Catenibacterium mitsuokai       | adult  |  4 |\n",
       "| p__Firmicutes_A     | c__Clostridia    | o__Lachnospirales     | f__Lachnospiraceae           | g__Lachnospira         | s__Lachnospira eligens_B           | adult  |  4 |\n",
       "| p__Actinobacteriota | c__Actinomycetia | o__Actinomycetales    | f__Bifidobacteriaceae        | g__Bifidobacterium     | s__Bifidobacterium adolescentis    | adult  |  4 |\n",
       "| p__Bacteroidota     | c__Bacteroidia   | o__Bacteroidales      | f__Bacteroidaceae            | g__Phocaeicola         | s__Phocaeicola vulgatus            | adult  |  3 |\n",
       "| p__Firmicutes_A     | c__Clostridia    | o__Lachnospirales     | f__Lachnospiraceae           | g__Fusicatenibacter    | s__Fusicatenibacter saccharivorans | adult  |  2 |\n",
       "| p__Firmicutes_A     | c__Clostridia    | o__Lachnospirales     | f__Lachnospiraceae           | g__Blautia_A           | s__Blautia_A wexlerae              | adult  |  1 |\n",
       "| p__Firmicutes_A     | c__Clostridia    | o__Oscillospirales    | f__Oscillospiraceae          | g__CAG-83              | s__CAG-83 sp000435975              | adult  |  1 |\n",
       "| p__Firmicutes       | c__Bacilli       | o__Erysipelotrichales | f__Erysipelotrichaceae       | g__Holdemanella        | s__Holdemanella biformis           | adult  |  1 |\n",
       "| p__Firmicutes_A     | c__Clostridia    | o__Lachnospirales     | f__Lachnospiraceae           | g__Anaerostipes        | s__Anaerostipes hadrus             | adult  |  1 |\n",
       "| p__Firmicutes_A     | c__Clostridia    | o__Lachnospirales     | f__Lachnospiraceae           | g__Anaerobutyricum     | s__Anaerobutyricum hallii          | adult  |  1 |\n",
       "| p__Firmicutes_A     | c__Clostridia    | o__Lachnospirales     | f__Lachnospiraceae           | g__Roseburia           | s__Roseburia intestinalis          | adult  |  1 |\n",
       "| p__Bacteroidota     | c__Bacteroidia   | o__Bacteroidales      | f__Rikenellaceae             | g__Alistipes           | s__Alistipes putredinis            | adult  |  1 |\n",
       "| p__Actinobacteriota | c__Actinomycetia | o__Actinomycetales    | f__Bifidobacteriaceae        | g__Bifidobacterium     | s__Bifidobacterium longum          | adult  |  1 |\n",
       "| p__Bacteroidota     | c__Bacteroidia   | o__Bacteroidales      | f__Bacteroidaceae            | g__Phocaeicola         | s__Phocaeicola vulgatus            | infant |  3 |\n",
       "| p__Actinobacteriota | c__Actinomycetia | o__Actinomycetales    | f__Bifidobacteriaceae        | g__Bifidobacterium     | s__Bifidobacterium longum          | infant |  1 |\n",
       "| p__Firmicutes_A     | c__Clostridia    | o__Lachnospirales     | f__Lachnospiraceae           | g__Blautia_A           | s__Blautia_A wexlerae              | infant |  1 |\n",
       "\n"
      ],
      "text/plain": [
       "   Phylum              Class            Order                \n",
       "1  p__Firmicutes_A     c__Clostridia    o__Lachnospirales    \n",
       "2  p__Firmicutes_A     c__Clostridia    o__Oscillospirales   \n",
       "3  p__Firmicutes_A     c__Clostridia    o__Lachnospirales    \n",
       "4  p__Firmicutes_A     c__Clostridia    o__Oscillospirales   \n",
       "5  p__Firmicutes_A     c__Clostridia    o__Oscillospirales   \n",
       "6  p__Firmicutes_A     c__Clostridia    o__Lachnospirales    \n",
       "7  p__Firmicutes       c__Bacilli       o__Erysipelotrichales\n",
       "8  p__Firmicutes_A     c__Clostridia    o__Lachnospirales    \n",
       "9  p__Actinobacteriota c__Actinomycetia o__Actinomycetales   \n",
       "10 p__Bacteroidota     c__Bacteroidia   o__Bacteroidales     \n",
       "11 p__Firmicutes_A     c__Clostridia    o__Lachnospirales    \n",
       "12 p__Firmicutes_A     c__Clostridia    o__Lachnospirales    \n",
       "13 p__Firmicutes_A     c__Clostridia    o__Oscillospirales   \n",
       "14 p__Firmicutes       c__Bacilli       o__Erysipelotrichales\n",
       "15 p__Firmicutes_A     c__Clostridia    o__Lachnospirales    \n",
       "16 p__Firmicutes_A     c__Clostridia    o__Lachnospirales    \n",
       "17 p__Firmicutes_A     c__Clostridia    o__Lachnospirales    \n",
       "18 p__Bacteroidota     c__Bacteroidia   o__Bacteroidales     \n",
       "19 p__Actinobacteriota c__Actinomycetia o__Actinomycetales   \n",
       "20 p__Bacteroidota     c__Bacteroidia   o__Bacteroidales     \n",
       "21 p__Actinobacteriota c__Actinomycetia o__Actinomycetales   \n",
       "22 p__Firmicutes_A     c__Clostridia    o__Lachnospirales    \n",
       "   Family                       Genus                 \n",
       "1  f__Lachnospiraceae           g__Agathobacter       \n",
       "2  f__Acutalibacteraceae        g__Eubacterium_R      \n",
       "3  f__Lachnospiraceae           g__Agathobacter       \n",
       "4  f__Acutalibacteraceae        g__CAG-180            \n",
       "5  f__Ruminococcaceae           g__Ruminiclostridium_E\n",
       "6  f__Lachnospiraceae           g__Lachnospira        \n",
       "7  f__Erysipelatoclostridiaceae g__Catenibacterium    \n",
       "8  f__Lachnospiraceae           g__Lachnospira        \n",
       "9  f__Bifidobacteriaceae        g__Bifidobacterium    \n",
       "10 f__Bacteroidaceae            g__Phocaeicola        \n",
       "11 f__Lachnospiraceae           g__Fusicatenibacter   \n",
       "12 f__Lachnospiraceae           g__Blautia_A          \n",
       "13 f__Oscillospiraceae          g__CAG-83             \n",
       "14 f__Erysipelotrichaceae       g__Holdemanella       \n",
       "15 f__Lachnospiraceae           g__Anaerostipes       \n",
       "16 f__Lachnospiraceae           g__Anaerobutyricum    \n",
       "17 f__Lachnospiraceae           g__Roseburia          \n",
       "18 f__Rikenellaceae             g__Alistipes          \n",
       "19 f__Bifidobacteriaceae        g__Bifidobacterium    \n",
       "20 f__Bacteroidaceae            g__Phocaeicola        \n",
       "21 f__Bifidobacteriaceae        g__Bifidobacterium    \n",
       "22 f__Lachnospiraceae           g__Blautia_A          \n",
       "   Species                            age_group n \n",
       "1  s__Agathobacter rectalis           adult     16\n",
       "2  s__Eubacterium_R sp000436835       adult     14\n",
       "3  s__Agathobacter faecis             adult     13\n",
       "4  s__CAG-180 sp000432435             adult      8\n",
       "5  s__Ruminiclostridium_E siraeum     adult      6\n",
       "6  s__Lachnospira rogosae             adult      5\n",
       "7  s__Catenibacterium mitsuokai       adult      4\n",
       "8  s__Lachnospira eligens_B           adult      4\n",
       "9  s__Bifidobacterium adolescentis    adult      4\n",
       "10 s__Phocaeicola vulgatus            adult      3\n",
       "11 s__Fusicatenibacter saccharivorans adult      2\n",
       "12 s__Blautia_A wexlerae              adult      1\n",
       "13 s__CAG-83 sp000435975              adult      1\n",
       "14 s__Holdemanella biformis           adult      1\n",
       "15 s__Anaerostipes hadrus             adult      1\n",
       "16 s__Anaerobutyricum hallii          adult      1\n",
       "17 s__Roseburia intestinalis          adult      1\n",
       "18 s__Alistipes putredinis            adult      1\n",
       "19 s__Bifidobacterium longum          adult      1\n",
       "20 s__Phocaeicola vulgatus            infant     3\n",
       "21 s__Bifidobacterium longum          infant     1\n",
       "22 s__Blautia_A wexlerae              infant     1"
      ]
     },
     "metadata": {},
     "output_type": "display_data"
    }
   ],
   "source": [
    "# by species\n",
    "df.dims(50)\n",
    "drep_f %>%\n",
    "    mutate.(taxonomy = paste(Phylum, Species, sep=';')) %>%\n",
    "    summarize.(n = n.(),\n",
    "               .by=c(Phylum, Class, Order, Family, Genus, Species, age_group)) %>%\n",
    "    arrange.(age_group, -n)\n",
    "df.dims()"
   ]
  },
  {
   "cell_type": "markdown",
   "metadata": {},
   "source": [
    "# sessionInfo"
   ]
  },
  {
   "cell_type": "code",
   "execution_count": 33,
   "metadata": {
    "ExecuteTime": {
     "end_time": "2021-07-30T10:33:46.532110Z",
     "start_time": "2021-07-30T10:33:46.384Z"
    }
   },
   "outputs": [
    {
     "data": {
      "text/plain": [
       "R version 4.1.0 (2021-05-18)\n",
       "Platform: x86_64-conda-linux-gnu (64-bit)\n",
       "Running under: Ubuntu 18.04.5 LTS\n",
       "\n",
       "Matrix products: default\n",
       "BLAS/LAPACK: /ebio/abt3_projects/Anxiety_Twins_Metagenomes/envs/tidyverse2/lib/libopenblasp-r0.3.12.so\n",
       "\n",
       "locale:\n",
       " [1] LC_CTYPE=en_US.UTF-8       LC_NUMERIC=C              \n",
       " [3] LC_TIME=en_US.UTF-8        LC_COLLATE=en_US.UTF-8    \n",
       " [5] LC_MONETARY=en_US.UTF-8    LC_MESSAGES=en_US.UTF-8   \n",
       " [7] LC_PAPER=en_US.UTF-8       LC_NAME=C                 \n",
       " [9] LC_ADDRESS=C               LC_TELEPHONE=C            \n",
       "[11] LC_MEASUREMENT=en_US.UTF-8 LC_IDENTIFICATION=C       \n",
       "\n",
       "attached base packages:\n",
       "[1] stats     graphics  grDevices utils     datasets  methods   base     \n",
       "\n",
       "other attached packages:\n",
       "[1] LeyLabRMisc_0.1.9 tidytable_0.6.3   data.table_1.14.0 ggplot2_3.3.5    \n",
       "[5] tidyr_1.1.3       dplyr_1.0.7      \n",
       "\n",
       "loaded via a namespace (and not attached):\n",
       " [1] pillar_1.6.1      compiler_4.1.0    base64enc_0.1-3   tools_4.1.0      \n",
       " [5] digest_0.6.27     uuid_0.1-4        jsonlite_1.7.2    evaluate_0.14    \n",
       " [9] lifecycle_1.0.0   tibble_3.1.2      gtable_0.3.0      pkgconfig_2.0.3  \n",
       "[13] rlang_0.4.11      IRdisplay_1.0     IRkernel_1.2      repr_1.1.3       \n",
       "[17] withr_2.4.2       stringr_1.4.0     generics_0.1.0    vctrs_0.3.8      \n",
       "[21] grid_4.1.0        tidyselect_1.1.1  glue_1.4.2        R6_2.5.0         \n",
       "[25] fansi_0.4.2       pbdZMQ_0.3-5      purrr_0.3.4       magrittr_2.0.1   \n",
       "[29] scales_1.1.1      ellipsis_0.3.2    htmltools_0.5.1.1 colorspace_2.0-2 \n",
       "[33] utf8_1.2.1        stringi_1.6.2     munsell_0.5.0     crayon_1.4.1     "
      ]
     },
     "metadata": {},
     "output_type": "display_data"
    }
   ],
   "source": [
    "sessionInfo()"
   ]
  }
 ],
 "metadata": {
  "kernelspec": {
   "display_name": "R [conda env:Anxiety_Twins_Metagenomes-tidyverse2]",
   "language": "R",
   "name": "conda-env-Anxiety_Twins_Metagenomes-tidyverse2-r"
  },
  "language_info": {
   "codemirror_mode": "r",
   "file_extension": ".r",
   "mimetype": "text/x-r-source",
   "name": "R",
   "pygments_lexer": "r",
   "version": "4.1.0"
  },
  "notify_time": "30",
  "toc": {
   "base_numbering": 1,
   "nav_menu": {},
   "number_sections": true,
   "sideBar": true,
   "skip_h1_title": false,
   "title_cell": "Table of Contents",
   "title_sidebar": "Contents",
   "toc_cell": true,
   "toc_position": {},
   "toc_section_display": true,
   "toc_window_display": true
  }
 },
 "nbformat": 4,
 "nbformat_minor": 4
}
