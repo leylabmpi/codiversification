{
 "cells": [
  {
   "cell_type": "markdown",
   "metadata": {
    "toc": true
   },
   "source": [
    "<h1>Table of Contents<span class=\"tocSkip\"></span></h1>\n",
    "<div class=\"toc\"><ul class=\"toc-item\"><li><span><a href=\"#Goal\" data-toc-modified-id=\"Goal-1\"><span class=\"toc-item-num\">1&nbsp;&nbsp;</span>Goal</a></span></li><li><span><a href=\"#Var\" data-toc-modified-id=\"Var-2\"><span class=\"toc-item-num\">2&nbsp;&nbsp;</span>Var</a></span></li><li><span><a href=\"#Init\" data-toc-modified-id=\"Init-3\"><span class=\"toc-item-num\">3&nbsp;&nbsp;</span>Init</a></span></li><li><span><a href=\"#Load\" data-toc-modified-id=\"Load-4\"><span class=\"toc-item-num\">4&nbsp;&nbsp;</span>Load</a></span><ul class=\"toc-item\"><li><ul class=\"toc-item\"><li><span><a href=\"#Target-cophylo-species\" data-toc-modified-id=\"Target-cophylo-species-4.0.1\"><span class=\"toc-item-num\">4.0.1&nbsp;&nbsp;</span>Target cophylo species</a></span></li></ul></li></ul></li><li><span><a href=\"#Selecting-samples\" data-toc-modified-id=\"Selecting-samples-5\"><span class=\"toc-item-num\">5&nbsp;&nbsp;</span>Selecting samples</a></span></li><li><span><a href=\"#Formatting-read-data\" data-toc-modified-id=\"Formatting-read-data-6\"><span class=\"toc-item-num\">6&nbsp;&nbsp;</span>Formatting read data</a></span></li><li><span><a href=\"#uncompressing\" data-toc-modified-id=\"uncompressing-7\"><span class=\"toc-item-num\">7&nbsp;&nbsp;</span>uncompressing</a></span><ul class=\"toc-item\"><li><ul class=\"toc-item\"><li><span><a href=\"#Config\" data-toc-modified-id=\"Config-7.0.1\"><span class=\"toc-item-num\">7.0.1&nbsp;&nbsp;</span>Config</a></span></li><li><span><a href=\"#Run\" data-toc-modified-id=\"Run-7.0.2\"><span class=\"toc-item-num\">7.0.2&nbsp;&nbsp;</span>Run</a></span></li></ul></li><li><span><a href=\"#Summary\" data-toc-modified-id=\"Summary-7.1\"><span class=\"toc-item-num\">7.1&nbsp;&nbsp;</span>Summary</a></span></li></ul></li><li><span><a href=\"#LLMGA\" data-toc-modified-id=\"LLMGA-8\"><span class=\"toc-item-num\">8&nbsp;&nbsp;</span>LLMGA</a></span><ul class=\"toc-item\"><li><ul class=\"toc-item\"><li><span><a href=\"#Config\" data-toc-modified-id=\"Config-8.0.1\"><span class=\"toc-item-num\">8.0.1&nbsp;&nbsp;</span>Config</a></span></li><li><span><a href=\"#Run\" data-toc-modified-id=\"Run-8.0.2\"><span class=\"toc-item-num\">8.0.2&nbsp;&nbsp;</span>Run</a></span></li><li><span><a href=\"#Summary\" data-toc-modified-id=\"Summary-8.0.3\"><span class=\"toc-item-num\">8.0.3&nbsp;&nbsp;</span>Summary</a></span></li></ul></li></ul></li><li><span><a href=\"#LLG\" data-toc-modified-id=\"LLG-9\"><span class=\"toc-item-num\">9&nbsp;&nbsp;</span>LLG</a></span><ul class=\"toc-item\"><li><span><a href=\"#MAG-QC\" data-toc-modified-id=\"MAG-QC-9.1\"><span class=\"toc-item-num\">9.1&nbsp;&nbsp;</span>MAG QC</a></span><ul class=\"toc-item\"><li><span><a href=\"#Config\" data-toc-modified-id=\"Config-9.1.1\"><span class=\"toc-item-num\">9.1.1&nbsp;&nbsp;</span>Config</a></span></li><li><span><a href=\"#Run\" data-toc-modified-id=\"Run-9.1.2\"><span class=\"toc-item-num\">9.1.2&nbsp;&nbsp;</span>Run</a></span></li></ul></li><li><span><a href=\"#Summary\" data-toc-modified-id=\"Summary-9.2\"><span class=\"toc-item-num\">9.2&nbsp;&nbsp;</span>Summary</a></span></li></ul></li><li><span><a href=\"#target-species\" data-toc-modified-id=\"target-species-10\"><span class=\"toc-item-num\">10&nbsp;&nbsp;</span>target species</a></span><ul class=\"toc-item\"><li><ul class=\"toc-item\"><li><span><a href=\"#Summary\" data-toc-modified-id=\"Summary-10.0.1\"><span class=\"toc-item-num\">10.0.1&nbsp;&nbsp;</span>Summary</a></span></li></ul></li></ul></li><li><span><a href=\"#SessionInfo\" data-toc-modified-id=\"SessionInfo-11\"><span class=\"toc-item-num\">11&nbsp;&nbsp;</span>SessionInfo</a></span></li></ul></div>"
   ]
  },
  {
   "cell_type": "markdown",
   "metadata": {},
   "source": [
    "# Goal\n",
    "\n",
    "* Metagenome assembly of the 118 TUK samples used by Taichi for the co-phylo analyses\n",
    "  * The 118 included host genetic data\n",
    "  * all 118 samples from the Xie et al., 2016 study"
   ]
  },
  {
   "cell_type": "markdown",
   "metadata": {},
   "source": [
    "# Var"
   ]
  },
  {
   "cell_type": "code",
   "execution_count": 79,
   "metadata": {
    "ExecuteTime": {
     "end_time": "2021-07-06T07:27:17.830021Z",
     "start_time": "2021-07-06T07:27:17.795Z"
    }
   },
   "outputs": [],
   "source": [
    "work_dir = '/ebio/abt3_projects/HUBIF_metagenomics/data/pipelines/llmga_tuk/Cluster1/'\n",
    "\n",
    "# cophylogeny info\n",
    "D = '/ebio/abt3_projects/HUBIF_metagenomics/data/pipelines/llg/cophyverttrans/batch2_clusters1-3/round6/'\n",
    "cophylo_file = file.path(D, 'SampleInfoAdults.tsv')\n",
    "\n",
    "# TUK metagenomes\n",
    "tuk_mg_file = '/ebio/abt3_projects/TwinsUK/Dataset_summary/metadata_db/metagenomes.tsv'\n",
    "\n",
    "# target cophylogeny species\n",
    "cophy_dir = '/ebio/abt3_projects/HUBIF_metagenomics/data/pipelines/llg/cophyverttrans/batch2_clusters1-3/round6/'\n",
    "cophylo_adult_spec_file = file.path(cophy_dir, 'cophylo_species', 'AdultBetweenPop_species.tsv')\n",
    "cophylo_infant_spec_file = file.path(cophy_dir, 'cophylo_species', 'InfantResults_species.txt')"
   ]
  },
  {
   "cell_type": "markdown",
   "metadata": {},
   "source": [
    "# Init"
   ]
  },
  {
   "cell_type": "code",
   "execution_count": 56,
   "metadata": {
    "ExecuteTime": {
     "end_time": "2021-07-05T14:30:34.260236Z",
     "start_time": "2021-07-05T14:30:34.230Z"
    }
   },
   "outputs": [],
   "source": [
    "library(dplyr)\n",
    "library(tidyr)\n",
    "library(ggplot2)\n",
    "library(data.table)\n",
    "library(tidytable)\n",
    "library(LeyLabRMisc)"
   ]
  },
  {
   "cell_type": "code",
   "execution_count": 57,
   "metadata": {
    "ExecuteTime": {
     "end_time": "2021-07-05T14:30:34.471746Z",
     "start_time": "2021-07-05T14:30:34.446Z"
    }
   },
   "outputs": [],
   "source": [
    "df.dims()\n",
    "data.table::setDTthreads(4)"
   ]
  },
  {
   "cell_type": "markdown",
   "metadata": {},
   "source": [
    "# Load"
   ]
  },
  {
   "cell_type": "code",
   "execution_count": 58,
   "metadata": {
    "ExecuteTime": {
     "end_time": "2021-07-05T14:30:36.577750Z",
     "start_time": "2021-07-05T14:30:36.513Z"
    }
   },
   "outputs": [
    {
     "name": "stdout",
     "output_type": "stream",
     "text": [
      "Created directory: /ebio/abt3_scratch/nyoungblut/R_tmp \n"
     ]
    },
    {
     "data": {
      "text/html": [
       "<table class=\"dataframe\">\n",
       "<caption>A data.table: 631 × 9</caption>\n",
       "<thead>\n",
       "\t<tr><th scope=col>dataset_name</th><th scope=col>subjectID</th><th scope=col>country</th><th scope=col>age..years.</th><th scope=col>age_category</th><th scope=col>gender</th><th scope=col>body_site</th><th scope=col>sequencing_platform</th><th scope=col>number_reads</th></tr>\n",
       "\t<tr><th scope=col>&lt;chr&gt;</th><th scope=col>&lt;chr&gt;</th><th scope=col>&lt;chr&gt;</th><th scope=col>&lt;int&gt;</th><th scope=col>&lt;chr&gt;</th><th scope=col>&lt;chr&gt;</th><th scope=col>&lt;chr&gt;</th><th scope=col>&lt;chr&gt;</th><th scope=col>&lt;int&gt;</th></tr>\n",
       "</thead>\n",
       "<tbody>\n",
       "\t<tr><td>current_study</td><td>G0004</td><td>Gabon</td><td>32</td><td>adult</td><td>female</td><td>stool</td><td>Illumina HiSeq</td><td>19128484</td></tr>\n",
       "\t<tr><td>current_study</td><td>G0006</td><td>Gabon</td><td>18</td><td>adult</td><td>female</td><td>stool</td><td>Illumina HiSeq</td><td> 1469853</td></tr>\n",
       "\t<tr><td>⋮</td><td>⋮</td><td>⋮</td><td>⋮</td><td>⋮</td><td>⋮</td><td>⋮</td><td>⋮</td><td>⋮</td></tr>\n",
       "\t<tr><td>Xie et al. 2016</td><td>1006356</td><td>UK</td><td>59</td><td>adult</td><td>female</td><td>stool</td><td>Illumina HiSeq</td><td>37602465</td></tr>\n",
       "\t<tr><td>Xie et al. 2016</td><td>1006357</td><td>UK</td><td>59</td><td>adult</td><td>female</td><td>stool</td><td>Illumina HiSeq</td><td>33454184</td></tr>\n",
       "</tbody>\n",
       "</table>\n"
      ],
      "text/latex": [
       "A data.table: 631 × 9\n",
       "\\begin{tabular}{lllllllll}\n",
       " dataset\\_name & subjectID & country & age..years. & age\\_category & gender & body\\_site & sequencing\\_platform & number\\_reads\\\\\n",
       " <chr> & <chr> & <chr> & <int> & <chr> & <chr> & <chr> & <chr> & <int>\\\\\n",
       "\\hline\n",
       "\t current\\_study & G0004 & Gabon & 32 & adult & female & stool & Illumina HiSeq & 19128484\\\\\n",
       "\t current\\_study & G0006 & Gabon & 18 & adult & female & stool & Illumina HiSeq &  1469853\\\\\n",
       "\t ⋮ & ⋮ & ⋮ & ⋮ & ⋮ & ⋮ & ⋮ & ⋮ & ⋮\\\\\n",
       "\t Xie et al. 2016 & 1006356 & UK & 59 & adult & female & stool & Illumina HiSeq & 37602465\\\\\n",
       "\t Xie et al. 2016 & 1006357 & UK & 59 & adult & female & stool & Illumina HiSeq & 33454184\\\\\n",
       "\\end{tabular}\n"
      ],
      "text/markdown": [
       "\n",
       "A data.table: 631 × 9\n",
       "\n",
       "| dataset_name &lt;chr&gt; | subjectID &lt;chr&gt; | country &lt;chr&gt; | age..years. &lt;int&gt; | age_category &lt;chr&gt; | gender &lt;chr&gt; | body_site &lt;chr&gt; | sequencing_platform &lt;chr&gt; | number_reads &lt;int&gt; |\n",
       "|---|---|---|---|---|---|---|---|---|\n",
       "| current_study | G0004 | Gabon | 32 | adult | female | stool | Illumina HiSeq | 19128484 |\n",
       "| current_study | G0006 | Gabon | 18 | adult | female | stool | Illumina HiSeq |  1469853 |\n",
       "| ⋮ | ⋮ | ⋮ | ⋮ | ⋮ | ⋮ | ⋮ | ⋮ | ⋮ |\n",
       "| Xie et al. 2016 | 1006356 | UK | 59 | adult | female | stool | Illumina HiSeq | 37602465 |\n",
       "| Xie et al. 2016 | 1006357 | UK | 59 | adult | female | stool | Illumina HiSeq | 33454184 |\n",
       "\n"
      ],
      "text/plain": [
       "    dataset_name    subjectID country age..years. age_category gender body_site\n",
       "1   current_study   G0004     Gabon   32          adult        female stool    \n",
       "2   current_study   G0006     Gabon   18          adult        female stool    \n",
       "⋮   ⋮               ⋮         ⋮       ⋮           ⋮            ⋮      ⋮        \n",
       "630 Xie et al. 2016 1006356   UK      59          adult        female stool    \n",
       "631 Xie et al. 2016 1006357   UK      59          adult        female stool    \n",
       "    sequencing_platform number_reads\n",
       "1   Illumina HiSeq      19128484    \n",
       "2   Illumina HiSeq       1469853    \n",
       "⋮   ⋮                   ⋮           \n",
       "630 Illumina HiSeq      37602465    \n",
       "631 Illumina HiSeq      33454184    "
      ]
     },
     "metadata": {},
     "output_type": "display_data"
    }
   ],
   "source": [
    "# cophylogeny samples\n",
    "cophylo = Fread(cophylo_file)\n",
    "cophylo"
   ]
  },
  {
   "cell_type": "code",
   "execution_count": 59,
   "metadata": {
    "ExecuteTime": {
     "end_time": "2021-07-05T14:30:36.724338Z",
     "start_time": "2021-07-05T14:30:36.621Z"
    }
   },
   "outputs": [
    {
     "data": {
      "text/html": [
       "<table class=\"dataframe\">\n",
       "<caption>A data.table: 1432 × 8</caption>\n",
       "<thead>\n",
       "\t<tr><th scope=col>MG_read1</th><th scope=col>MG_read2</th><th scope=col>Sample</th><th scope=col>MG_dataset</th><th scope=col>MG_num_paired_end_postQC_reads</th><th scope=col>MG_QC_method</th><th scope=col>MG_read12</th><th scope=col>Sample_accession</th></tr>\n",
       "\t<tr><th scope=col>&lt;chr&gt;</th><th scope=col>&lt;chr&gt;</th><th scope=col>&lt;chr&gt;</th><th scope=col>&lt;chr&gt;</th><th scope=col>&lt;int&gt;</th><th scope=col>&lt;chr&gt;</th><th scope=col>&lt;chr&gt;</th><th scope=col>&lt;chr&gt;</th></tr>\n",
       "</thead>\n",
       "<tbody>\n",
       "\t<tr><td>/ebio/abt3_projects/databases_no-backup/TUK/metagenome/anxiety-discordant/LLMGQC/final/1006109/R1_final.fq.gz</td><td>/ebio/abt3_projects/databases_no-backup/TUK/metagenome/anxiety-discordant/LLMGQC/final/1006109/R2_final.fq.gz</td><td>1006109</td><td>anx</td><td>34151375</td><td>LLMGQC</td><td>/ebio/abt3_projects/databases_no-backup/TUK/metagenome/anxiety-discordant/LLMGQC/final/1006109/R1-R2_final.spring</td><td></td></tr>\n",
       "\t<tr><td>/ebio/abt3_projects/databases_no-backup/TUK/metagenome/anxiety-discordant/LLMGQC/final/1006179/R1_final.fq.gz</td><td>/ebio/abt3_projects/databases_no-backup/TUK/metagenome/anxiety-discordant/LLMGQC/final/1006179/R2_final.fq.gz</td><td>1006179</td><td>anx</td><td>30026421</td><td>LLMGQC</td><td>/ebio/abt3_projects/databases_no-backup/TUK/metagenome/anxiety-discordant/LLMGQC/final/1006179/R1-R2_final.spring</td><td></td></tr>\n",
       "\t<tr><td>⋮</td><td>⋮</td><td>⋮</td><td>⋮</td><td>⋮</td><td>⋮</td><td>⋮</td><td>⋮</td></tr>\n",
       "\t<tr><td>/ebio/abt3_projects/databases_no-backup/TUK/metagenome/Visconti2019/LLMGQC/final/SAMEA5814848/R1_final.fq.gz</td><td>/ebio/abt3_projects/databases_no-backup/TUK/metagenome/Visconti2019/LLMGQC/final/SAMEA5814848/R2_final.fq.gz</td><td>SAMEA5814848</td><td>Visconti2019</td><td>15906022</td><td>LLMGQC</td><td>/ebio/abt3_projects/databases_no-backup/TUK/metagenome/Visconti2019/LLMGQC/final/SAMEA5814848/R1-R2_final.spring</td><td>SAMEA5814848</td></tr>\n",
       "\t<tr><td>/ebio/abt3_projects/databases_no-backup/TUK/metagenome/Visconti2019/LLMGQC/final/SAMEA5814849/R1_final.fq.gz</td><td>/ebio/abt3_projects/databases_no-backup/TUK/metagenome/Visconti2019/LLMGQC/final/SAMEA5814849/R2_final.fq.gz</td><td>SAMEA5814849</td><td>Visconti2019</td><td>19266533</td><td>LLMGQC</td><td>/ebio/abt3_projects/databases_no-backup/TUK/metagenome/Visconti2019/LLMGQC/final/SAMEA5814849/R1-R2_final.spring</td><td>SAMEA5814849</td></tr>\n",
       "</tbody>\n",
       "</table>\n"
      ],
      "text/latex": [
       "A data.table: 1432 × 8\n",
       "\\begin{tabular}{llllllll}\n",
       " MG\\_read1 & MG\\_read2 & Sample & MG\\_dataset & MG\\_num\\_paired\\_end\\_postQC\\_reads & MG\\_QC\\_method & MG\\_read12 & Sample\\_accession\\\\\n",
       " <chr> & <chr> & <chr> & <chr> & <int> & <chr> & <chr> & <chr>\\\\\n",
       "\\hline\n",
       "\t /ebio/abt3\\_projects/databases\\_no-backup/TUK/metagenome/anxiety-discordant/LLMGQC/final/1006109/R1\\_final.fq.gz & /ebio/abt3\\_projects/databases\\_no-backup/TUK/metagenome/anxiety-discordant/LLMGQC/final/1006109/R2\\_final.fq.gz & 1006109 & anx & 34151375 & LLMGQC & /ebio/abt3\\_projects/databases\\_no-backup/TUK/metagenome/anxiety-discordant/LLMGQC/final/1006109/R1-R2\\_final.spring & \\\\\n",
       "\t /ebio/abt3\\_projects/databases\\_no-backup/TUK/metagenome/anxiety-discordant/LLMGQC/final/1006179/R1\\_final.fq.gz & /ebio/abt3\\_projects/databases\\_no-backup/TUK/metagenome/anxiety-discordant/LLMGQC/final/1006179/R2\\_final.fq.gz & 1006179 & anx & 30026421 & LLMGQC & /ebio/abt3\\_projects/databases\\_no-backup/TUK/metagenome/anxiety-discordant/LLMGQC/final/1006179/R1-R2\\_final.spring & \\\\\n",
       "\t ⋮ & ⋮ & ⋮ & ⋮ & ⋮ & ⋮ & ⋮ & ⋮\\\\\n",
       "\t /ebio/abt3\\_projects/databases\\_no-backup/TUK/metagenome/Visconti2019/LLMGQC/final/SAMEA5814848/R1\\_final.fq.gz & /ebio/abt3\\_projects/databases\\_no-backup/TUK/metagenome/Visconti2019/LLMGQC/final/SAMEA5814848/R2\\_final.fq.gz & SAMEA5814848 & Visconti2019 & 15906022 & LLMGQC & /ebio/abt3\\_projects/databases\\_no-backup/TUK/metagenome/Visconti2019/LLMGQC/final/SAMEA5814848/R1-R2\\_final.spring & SAMEA5814848\\\\\n",
       "\t /ebio/abt3\\_projects/databases\\_no-backup/TUK/metagenome/Visconti2019/LLMGQC/final/SAMEA5814849/R1\\_final.fq.gz & /ebio/abt3\\_projects/databases\\_no-backup/TUK/metagenome/Visconti2019/LLMGQC/final/SAMEA5814849/R2\\_final.fq.gz & SAMEA5814849 & Visconti2019 & 19266533 & LLMGQC & /ebio/abt3\\_projects/databases\\_no-backup/TUK/metagenome/Visconti2019/LLMGQC/final/SAMEA5814849/R1-R2\\_final.spring & SAMEA5814849\\\\\n",
       "\\end{tabular}\n"
      ],
      "text/markdown": [
       "\n",
       "A data.table: 1432 × 8\n",
       "\n",
       "| MG_read1 &lt;chr&gt; | MG_read2 &lt;chr&gt; | Sample &lt;chr&gt; | MG_dataset &lt;chr&gt; | MG_num_paired_end_postQC_reads &lt;int&gt; | MG_QC_method &lt;chr&gt; | MG_read12 &lt;chr&gt; | Sample_accession &lt;chr&gt; |\n",
       "|---|---|---|---|---|---|---|---|\n",
       "| /ebio/abt3_projects/databases_no-backup/TUK/metagenome/anxiety-discordant/LLMGQC/final/1006109/R1_final.fq.gz | /ebio/abt3_projects/databases_no-backup/TUK/metagenome/anxiety-discordant/LLMGQC/final/1006109/R2_final.fq.gz | 1006109 | anx | 34151375 | LLMGQC | /ebio/abt3_projects/databases_no-backup/TUK/metagenome/anxiety-discordant/LLMGQC/final/1006109/R1-R2_final.spring | <!----> |\n",
       "| /ebio/abt3_projects/databases_no-backup/TUK/metagenome/anxiety-discordant/LLMGQC/final/1006179/R1_final.fq.gz | /ebio/abt3_projects/databases_no-backup/TUK/metagenome/anxiety-discordant/LLMGQC/final/1006179/R2_final.fq.gz | 1006179 | anx | 30026421 | LLMGQC | /ebio/abt3_projects/databases_no-backup/TUK/metagenome/anxiety-discordant/LLMGQC/final/1006179/R1-R2_final.spring | <!----> |\n",
       "| ⋮ | ⋮ | ⋮ | ⋮ | ⋮ | ⋮ | ⋮ | ⋮ |\n",
       "| /ebio/abt3_projects/databases_no-backup/TUK/metagenome/Visconti2019/LLMGQC/final/SAMEA5814848/R1_final.fq.gz | /ebio/abt3_projects/databases_no-backup/TUK/metagenome/Visconti2019/LLMGQC/final/SAMEA5814848/R2_final.fq.gz | SAMEA5814848 | Visconti2019 | 15906022 | LLMGQC | /ebio/abt3_projects/databases_no-backup/TUK/metagenome/Visconti2019/LLMGQC/final/SAMEA5814848/R1-R2_final.spring | SAMEA5814848 |\n",
       "| /ebio/abt3_projects/databases_no-backup/TUK/metagenome/Visconti2019/LLMGQC/final/SAMEA5814849/R1_final.fq.gz | /ebio/abt3_projects/databases_no-backup/TUK/metagenome/Visconti2019/LLMGQC/final/SAMEA5814849/R2_final.fq.gz | SAMEA5814849 | Visconti2019 | 19266533 | LLMGQC | /ebio/abt3_projects/databases_no-backup/TUK/metagenome/Visconti2019/LLMGQC/final/SAMEA5814849/R1-R2_final.spring | SAMEA5814849 |\n",
       "\n"
      ],
      "text/plain": [
       "     MG_read1                                                                                                     \n",
       "1    /ebio/abt3_projects/databases_no-backup/TUK/metagenome/anxiety-discordant/LLMGQC/final/1006109/R1_final.fq.gz\n",
       "2    /ebio/abt3_projects/databases_no-backup/TUK/metagenome/anxiety-discordant/LLMGQC/final/1006179/R1_final.fq.gz\n",
       "⋮    ⋮                                                                                                            \n",
       "1431 /ebio/abt3_projects/databases_no-backup/TUK/metagenome/Visconti2019/LLMGQC/final/SAMEA5814848/R1_final.fq.gz \n",
       "1432 /ebio/abt3_projects/databases_no-backup/TUK/metagenome/Visconti2019/LLMGQC/final/SAMEA5814849/R1_final.fq.gz \n",
       "     MG_read2                                                                                                     \n",
       "1    /ebio/abt3_projects/databases_no-backup/TUK/metagenome/anxiety-discordant/LLMGQC/final/1006109/R2_final.fq.gz\n",
       "2    /ebio/abt3_projects/databases_no-backup/TUK/metagenome/anxiety-discordant/LLMGQC/final/1006179/R2_final.fq.gz\n",
       "⋮    ⋮                                                                                                            \n",
       "1431 /ebio/abt3_projects/databases_no-backup/TUK/metagenome/Visconti2019/LLMGQC/final/SAMEA5814848/R2_final.fq.gz \n",
       "1432 /ebio/abt3_projects/databases_no-backup/TUK/metagenome/Visconti2019/LLMGQC/final/SAMEA5814849/R2_final.fq.gz \n",
       "     Sample       MG_dataset   MG_num_paired_end_postQC_reads MG_QC_method\n",
       "1    1006109      anx          34151375                       LLMGQC      \n",
       "2    1006179      anx          30026421                       LLMGQC      \n",
       "⋮    ⋮            ⋮            ⋮                              ⋮           \n",
       "1431 SAMEA5814848 Visconti2019 15906022                       LLMGQC      \n",
       "1432 SAMEA5814849 Visconti2019 19266533                       LLMGQC      \n",
       "     MG_read12                                                                                                        \n",
       "1    /ebio/abt3_projects/databases_no-backup/TUK/metagenome/anxiety-discordant/LLMGQC/final/1006109/R1-R2_final.spring\n",
       "2    /ebio/abt3_projects/databases_no-backup/TUK/metagenome/anxiety-discordant/LLMGQC/final/1006179/R1-R2_final.spring\n",
       "⋮    ⋮                                                                                                                \n",
       "1431 /ebio/abt3_projects/databases_no-backup/TUK/metagenome/Visconti2019/LLMGQC/final/SAMEA5814848/R1-R2_final.spring \n",
       "1432 /ebio/abt3_projects/databases_no-backup/TUK/metagenome/Visconti2019/LLMGQC/final/SAMEA5814849/R1-R2_final.spring \n",
       "     Sample_accession\n",
       "1                    \n",
       "2                    \n",
       "⋮    ⋮               \n",
       "1431 SAMEA5814848    \n",
       "1432 SAMEA5814849    "
      ]
     },
     "metadata": {},
     "output_type": "display_data"
    }
   ],
   "source": [
    "# TUK metagenomes\n",
    "tuk_mg = Fread(tuk_mg_file) \n",
    "tuk_mg"
   ]
  },
  {
   "cell_type": "markdown",
   "metadata": {},
   "source": [
    "### Target cophylo species"
   ]
  },
  {
   "cell_type": "code",
   "execution_count": 80,
   "metadata": {
    "ExecuteTime": {
     "end_time": "2021-07-06T07:27:37.030037Z",
     "start_time": "2021-07-06T07:27:36.942Z"
    }
   },
   "outputs": [
    {
     "data": {
      "text/html": [
       "<table class=\"dataframe\">\n",
       "<caption>A tidytable: 67 × 12</caption>\n",
       "<thead>\n",
       "\t<tr><th scope=col>ncbi_taxonomy</th><th scope=col>gtdb_taxonomy</th><th scope=col>lca_frac</th><th scope=col>target_tax_level</th><th scope=col>age_group</th><th scope=col>Domain</th><th scope=col>Phylum</th><th scope=col>Class</th><th scope=col>Order</th><th scope=col>Family</th><th scope=col>Genus</th><th scope=col>Species</th></tr>\n",
       "\t<tr><th scope=col>&lt;chr&gt;</th><th scope=col>&lt;chr&gt;</th><th scope=col>&lt;dbl&gt;</th><th scope=col>&lt;chr&gt;</th><th scope=col>&lt;chr&gt;</th><th scope=col>&lt;chr&gt;</th><th scope=col>&lt;chr&gt;</th><th scope=col>&lt;chr&gt;</th><th scope=col>&lt;chr&gt;</th><th scope=col>&lt;chr&gt;</th><th scope=col>&lt;chr&gt;</th><th scope=col>&lt;chr&gt;</th></tr>\n",
       "</thead>\n",
       "<tbody>\n",
       "\t<tr><td>s__Catenibacterium_mitsuokai</td><td>s__Catenibacterium mitsuokai</td><td>1</td><td>species</td><td>adult</td><td>d__bacteria</td><td>p__firmicutes  </td><td>c__bacilli   </td><td>o__erysipelotrichales</td><td>f__erysipelatoclostridiaceae</td><td>g__catenibacterium</td><td>catenibacterium mitsuokai</td></tr>\n",
       "\t<tr><td>s__Eubacterium_sp_CAG_251   </td><td>s__Eubacterium_R sp000436835</td><td>1</td><td>species</td><td>adult</td><td>d__Bacteria</td><td>p__Firmicutes_A</td><td>c__Clostridia</td><td>o__Oscillospirales   </td><td>f__Acutalibacteraceae       </td><td>g__Eubacterium_R  </td><td>Eubacterium_R sp000436835</td></tr>\n",
       "\t<tr><td>⋮</td><td>⋮</td><td>⋮</td><td>⋮</td><td>⋮</td><td>⋮</td><td>⋮</td><td>⋮</td><td>⋮</td><td>⋮</td><td>⋮</td><td>⋮</td></tr>\n",
       "\t<tr><td>s__Escherichia_coli        </td><td>g__Escherichia  </td><td>0.99</td><td>genus</td><td>infant</td><td>d__bacteria</td><td>p__proteobacteria</td><td>c__gammaproteobacteria</td><td>o__enterobacterales</td><td>f__enterobacteriaceae</td><td>g__escherichia  </td><td>NA</td></tr>\n",
       "\t<tr><td>s__Streptococcus_salivarius</td><td>g__Streptococcus</td><td>1.00</td><td>genus</td><td>infant</td><td>d__bacteria</td><td>p__firmicutes    </td><td>c__bacilli            </td><td>o__lactobacillales </td><td>f__streptococcaceae  </td><td>g__streptococcus</td><td>NA</td></tr>\n",
       "</tbody>\n",
       "</table>\n"
      ],
      "text/latex": [
       "A tidytable: 67 × 12\n",
       "\\begin{tabular}{llllllllllll}\n",
       " ncbi\\_taxonomy & gtdb\\_taxonomy & lca\\_frac & target\\_tax\\_level & age\\_group & Domain & Phylum & Class & Order & Family & Genus & Species\\\\\n",
       " <chr> & <chr> & <dbl> & <chr> & <chr> & <chr> & <chr> & <chr> & <chr> & <chr> & <chr> & <chr>\\\\\n",
       "\\hline\n",
       "\t s\\_\\_Catenibacterium\\_mitsuokai & s\\_\\_Catenibacterium mitsuokai & 1 & species & adult & d\\_\\_bacteria & p\\_\\_firmicutes   & c\\_\\_bacilli    & o\\_\\_erysipelotrichales & f\\_\\_erysipelatoclostridiaceae & g\\_\\_catenibacterium & catenibacterium mitsuokai\\\\\n",
       "\t s\\_\\_Eubacterium\\_sp\\_CAG\\_251    & s\\_\\_Eubacterium\\_R sp000436835 & 1 & species & adult & d\\_\\_Bacteria & p\\_\\_Firmicutes\\_A & c\\_\\_Clostridia & o\\_\\_Oscillospirales    & f\\_\\_Acutalibacteraceae        & g\\_\\_Eubacterium\\_R   & Eubacterium\\_R sp000436835\\\\\n",
       "\t ⋮ & ⋮ & ⋮ & ⋮ & ⋮ & ⋮ & ⋮ & ⋮ & ⋮ & ⋮ & ⋮ & ⋮\\\\\n",
       "\t s\\_\\_Escherichia\\_coli         & g\\_\\_Escherichia   & 0.99 & genus & infant & d\\_\\_bacteria & p\\_\\_proteobacteria & c\\_\\_gammaproteobacteria & o\\_\\_enterobacterales & f\\_\\_enterobacteriaceae & g\\_\\_escherichia   & NA\\\\\n",
       "\t s\\_\\_Streptococcus\\_salivarius & g\\_\\_Streptococcus & 1.00 & genus & infant & d\\_\\_bacteria & p\\_\\_firmicutes     & c\\_\\_bacilli             & o\\_\\_lactobacillales  & f\\_\\_streptococcaceae   & g\\_\\_streptococcus & NA\\\\\n",
       "\\end{tabular}\n"
      ],
      "text/markdown": [
       "\n",
       "A tidytable: 67 × 12\n",
       "\n",
       "| ncbi_taxonomy &lt;chr&gt; | gtdb_taxonomy &lt;chr&gt; | lca_frac &lt;dbl&gt; | target_tax_level &lt;chr&gt; | age_group &lt;chr&gt; | Domain &lt;chr&gt; | Phylum &lt;chr&gt; | Class &lt;chr&gt; | Order &lt;chr&gt; | Family &lt;chr&gt; | Genus &lt;chr&gt; | Species &lt;chr&gt; |\n",
       "|---|---|---|---|---|---|---|---|---|---|---|---|\n",
       "| s__Catenibacterium_mitsuokai | s__Catenibacterium mitsuokai | 1 | species | adult | d__bacteria | p__firmicutes   | c__bacilli    | o__erysipelotrichales | f__erysipelatoclostridiaceae | g__catenibacterium | catenibacterium mitsuokai |\n",
       "| s__Eubacterium_sp_CAG_251    | s__Eubacterium_R sp000436835 | 1 | species | adult | d__Bacteria | p__Firmicutes_A | c__Clostridia | o__Oscillospirales    | f__Acutalibacteraceae        | g__Eubacterium_R   | Eubacterium_R sp000436835 |\n",
       "| ⋮ | ⋮ | ⋮ | ⋮ | ⋮ | ⋮ | ⋮ | ⋮ | ⋮ | ⋮ | ⋮ | ⋮ |\n",
       "| s__Escherichia_coli         | g__Escherichia   | 0.99 | genus | infant | d__bacteria | p__proteobacteria | c__gammaproteobacteria | o__enterobacterales | f__enterobacteriaceae | g__escherichia   | NA |\n",
       "| s__Streptococcus_salivarius | g__Streptococcus | 1.00 | genus | infant | d__bacteria | p__firmicutes     | c__bacilli             | o__lactobacillales  | f__streptococcaceae   | g__streptococcus | NA |\n",
       "\n"
      ],
      "text/plain": [
       "   ncbi_taxonomy                gtdb_taxonomy                lca_frac\n",
       "1  s__Catenibacterium_mitsuokai s__Catenibacterium mitsuokai 1       \n",
       "2  s__Eubacterium_sp_CAG_251    s__Eubacterium_R sp000436835 1       \n",
       "⋮  ⋮                            ⋮                            ⋮       \n",
       "66 s__Escherichia_coli          g__Escherichia               0.99    \n",
       "67 s__Streptococcus_salivarius  g__Streptococcus             1.00    \n",
       "   target_tax_level age_group Domain      Phylum           \n",
       "1  species          adult     d__bacteria p__firmicutes    \n",
       "2  species          adult     d__Bacteria p__Firmicutes_A  \n",
       "⋮  ⋮                ⋮         ⋮           ⋮                \n",
       "66 genus            infant    d__bacteria p__proteobacteria\n",
       "67 genus            infant    d__bacteria p__firmicutes    \n",
       "   Class                  Order                 Family                      \n",
       "1  c__bacilli             o__erysipelotrichales f__erysipelatoclostridiaceae\n",
       "2  c__Clostridia          o__Oscillospirales    f__Acutalibacteraceae       \n",
       "⋮  ⋮                      ⋮                     ⋮                           \n",
       "66 c__gammaproteobacteria o__enterobacterales   f__enterobacteriaceae       \n",
       "67 c__bacilli             o__lactobacillales    f__streptococcaceae         \n",
       "   Genus              Species                  \n",
       "1  g__catenibacterium catenibacterium mitsuokai\n",
       "2  g__Eubacterium_R   Eubacterium_R sp000436835\n",
       "⋮  ⋮                  ⋮                        \n",
       "66 g__escherichia     NA                       \n",
       "67 g__streptococcus   NA                       "
      ]
     },
     "metadata": {},
     "output_type": "display_data"
    }
   ],
   "source": [
    "# species\n",
    "cophylo_spec = list(\n",
    "    Fread(cophylo_adult_spec_file) %>%\n",
    "        mutate.(age_group = 'adult'),\n",
    "    Fread(cophylo_infant_spec_file) %>%\n",
    "        mutate.(age_group = 'infant')\n",
    "    ) %>%\n",
    "    rbindlist(use.names=TRUE) %>%\n",
    "    separate.(lineage, taxonomy_levels(), sep=';') %>%\n",
    "    mutate.(Species = gsub('^s__', '', Species))\n",
    "cophylo_spec"
   ]
  },
  {
   "cell_type": "markdown",
   "metadata": {},
   "source": [
    "# Selecting samples"
   ]
  },
  {
   "cell_type": "code",
   "execution_count": 22,
   "metadata": {
    "ExecuteTime": {
     "end_time": "2021-07-01T11:27:12.861654Z",
     "start_time": "2021-07-01T11:27:12.835Z"
    }
   },
   "outputs": [
    {
     "name": "stdout",
     "output_type": "stream",
     "text": [
      "intersect(x,y): 118 \n",
      "setdiff(x,y): 0 \n",
      "setdiff(y,x): 1302 \n",
      "union(x,y): 1420 \n"
     ]
    }
   ],
   "source": [
    "overlap(cophylo %>% filter.(country == 'UK') %>% .$subjectID, \n",
    "        tuk_mg$Sample)"
   ]
  },
  {
   "cell_type": "code",
   "execution_count": 27,
   "metadata": {
    "ExecuteTime": {
     "end_time": "2021-07-01T11:28:53.072324Z",
     "start_time": "2021-07-01T11:28:53.016Z"
    }
   },
   "outputs": [
    {
     "data": {
      "text/plain": [
       ".\n",
       "   BGI250 flagellin vadinCA11 \n",
       "      115         5         5 "
      ]
     },
     "metadata": {},
     "output_type": "display_data"
    },
    {
     "name": "stdout",
     "output_type": "stream",
     "text": [
      "No. of unique Samples: 118 \n"
     ]
    },
    {
     "data": {
      "text/html": [
       "<table class=\"dataframe\">\n",
       "<caption>A tidytable: 125 × 16</caption>\n",
       "<thead>\n",
       "\t<tr><th scope=col>MG_read1</th><th scope=col>MG_read2</th><th scope=col>Sample</th><th scope=col>MG_dataset</th><th scope=col>MG_num_paired_end_postQC_reads</th><th scope=col>MG_QC_method</th><th scope=col>MG_read12</th><th scope=col>Sample_accession</th><th scope=col>dataset_name</th><th scope=col>country</th><th scope=col>age..years.</th><th scope=col>age_category</th><th scope=col>gender</th><th scope=col>body_site</th><th scope=col>sequencing_platform</th><th scope=col>number_reads</th></tr>\n",
       "\t<tr><th scope=col>&lt;chr&gt;</th><th scope=col>&lt;chr&gt;</th><th scope=col>&lt;chr&gt;</th><th scope=col>&lt;chr&gt;</th><th scope=col>&lt;int&gt;</th><th scope=col>&lt;chr&gt;</th><th scope=col>&lt;chr&gt;</th><th scope=col>&lt;chr&gt;</th><th scope=col>&lt;chr&gt;</th><th scope=col>&lt;chr&gt;</th><th scope=col>&lt;int&gt;</th><th scope=col>&lt;chr&gt;</th><th scope=col>&lt;chr&gt;</th><th scope=col>&lt;chr&gt;</th><th scope=col>&lt;chr&gt;</th><th scope=col>&lt;int&gt;</th></tr>\n",
       "</thead>\n",
       "<tbody>\n",
       "\t<tr><td>/ebio/abt3_projects/databases_no-backup/curatedMetagenomicData/LLMGQC/XieH_2016/final/YSZC12003_35366/R1_final.fq.gz</td><td>/ebio/abt3_projects/databases_no-backup/curatedMetagenomicData/LLMGQC/XieH_2016/final/YSZC12003_35366/R2_final.fq.gz</td><td>1002325</td><td>BGI250</td><td>32758605</td><td>LLMGQC</td><td>/ebio/abt3_projects/databases_no-backup/curatedMetagenomicData/LLMGQC/XieH_2016/final/YSZC12003_35366/R1-R2_final.spring</td><td></td><td>Xie et al. 2016</td><td>UK</td><td>61</td><td>adult</td><td>female</td><td>stool</td><td>Illumina HiSeq</td><td>32758605</td></tr>\n",
       "\t<tr><td>/ebio/abt3_projects/databases_no-backup/curatedMetagenomicData/LLMGQC/XieH_2016/final/YSZC12003_35388/R1_final.fq.gz</td><td>/ebio/abt3_projects/databases_no-backup/curatedMetagenomicData/LLMGQC/XieH_2016/final/YSZC12003_35388/R2_final.fq.gz</td><td>1002331</td><td>BGI250</td><td>37263270</td><td>LLMGQC</td><td>/ebio/abt3_projects/databases_no-backup/curatedMetagenomicData/LLMGQC/XieH_2016/final/YSZC12003_35388/R1-R2_final.spring</td><td></td><td>Xie et al. 2016</td><td>UK</td><td>49</td><td>adult</td><td>female</td><td>stool</td><td>Illumina HiSeq</td><td>37263270</td></tr>\n",
       "\t<tr><td>⋮</td><td>⋮</td><td>⋮</td><td>⋮</td><td>⋮</td><td>⋮</td><td>⋮</td><td>⋮</td><td>⋮</td><td>⋮</td><td>⋮</td><td>⋮</td><td>⋮</td><td>⋮</td><td>⋮</td><td>⋮</td></tr>\n",
       "\t<tr><td>/ebio/abt3_projects/databases_no-backup/curatedMetagenomicData/LLMGQC/XieH_2016/final/YSZC12003_37196/R1_final.fq.gz</td><td>/ebio/abt3_projects/databases_no-backup/curatedMetagenomicData/LLMGQC/XieH_2016/final/YSZC12003_37196/R2_final.fq.gz</td><td>1006356</td><td>BGI250</td><td>37602465</td><td>LLMGQC</td><td>/ebio/abt3_projects/databases_no-backup/curatedMetagenomicData/LLMGQC/XieH_2016/final/YSZC12003_37196/R1-R2_final.spring</td><td></td><td>Xie et al. 2016</td><td>UK</td><td>59</td><td>adult</td><td>female</td><td>stool</td><td>Illumina HiSeq</td><td>37602465</td></tr>\n",
       "\t<tr><td>/ebio/abt3_projects/databases_no-backup/curatedMetagenomicData/LLMGQC/XieH_2016/final/YSZC12003_37172/R1_final.fq.gz</td><td>/ebio/abt3_projects/databases_no-backup/curatedMetagenomicData/LLMGQC/XieH_2016/final/YSZC12003_37172/R2_final.fq.gz</td><td>1006357</td><td>BGI250</td><td>33454184</td><td>LLMGQC</td><td>/ebio/abt3_projects/databases_no-backup/curatedMetagenomicData/LLMGQC/XieH_2016/final/YSZC12003_37172/R1-R2_final.spring</td><td></td><td>Xie et al. 2016</td><td>UK</td><td>59</td><td>adult</td><td>female</td><td>stool</td><td>Illumina HiSeq</td><td>33454184</td></tr>\n",
       "</tbody>\n",
       "</table>\n"
      ],
      "text/latex": [
       "A tidytable: 125 × 16\n",
       "\\begin{tabular}{llllllllllllllll}\n",
       " MG\\_read1 & MG\\_read2 & Sample & MG\\_dataset & MG\\_num\\_paired\\_end\\_postQC\\_reads & MG\\_QC\\_method & MG\\_read12 & Sample\\_accession & dataset\\_name & country & age..years. & age\\_category & gender & body\\_site & sequencing\\_platform & number\\_reads\\\\\n",
       " <chr> & <chr> & <chr> & <chr> & <int> & <chr> & <chr> & <chr> & <chr> & <chr> & <int> & <chr> & <chr> & <chr> & <chr> & <int>\\\\\n",
       "\\hline\n",
       "\t /ebio/abt3\\_projects/databases\\_no-backup/curatedMetagenomicData/LLMGQC/XieH\\_2016/final/YSZC12003\\_35366/R1\\_final.fq.gz & /ebio/abt3\\_projects/databases\\_no-backup/curatedMetagenomicData/LLMGQC/XieH\\_2016/final/YSZC12003\\_35366/R2\\_final.fq.gz & 1002325 & BGI250 & 32758605 & LLMGQC & /ebio/abt3\\_projects/databases\\_no-backup/curatedMetagenomicData/LLMGQC/XieH\\_2016/final/YSZC12003\\_35366/R1-R2\\_final.spring &  & Xie et al. 2016 & UK & 61 & adult & female & stool & Illumina HiSeq & 32758605\\\\\n",
       "\t /ebio/abt3\\_projects/databases\\_no-backup/curatedMetagenomicData/LLMGQC/XieH\\_2016/final/YSZC12003\\_35388/R1\\_final.fq.gz & /ebio/abt3\\_projects/databases\\_no-backup/curatedMetagenomicData/LLMGQC/XieH\\_2016/final/YSZC12003\\_35388/R2\\_final.fq.gz & 1002331 & BGI250 & 37263270 & LLMGQC & /ebio/abt3\\_projects/databases\\_no-backup/curatedMetagenomicData/LLMGQC/XieH\\_2016/final/YSZC12003\\_35388/R1-R2\\_final.spring &  & Xie et al. 2016 & UK & 49 & adult & female & stool & Illumina HiSeq & 37263270\\\\\n",
       "\t ⋮ & ⋮ & ⋮ & ⋮ & ⋮ & ⋮ & ⋮ & ⋮ & ⋮ & ⋮ & ⋮ & ⋮ & ⋮ & ⋮ & ⋮ & ⋮\\\\\n",
       "\t /ebio/abt3\\_projects/databases\\_no-backup/curatedMetagenomicData/LLMGQC/XieH\\_2016/final/YSZC12003\\_37196/R1\\_final.fq.gz & /ebio/abt3\\_projects/databases\\_no-backup/curatedMetagenomicData/LLMGQC/XieH\\_2016/final/YSZC12003\\_37196/R2\\_final.fq.gz & 1006356 & BGI250 & 37602465 & LLMGQC & /ebio/abt3\\_projects/databases\\_no-backup/curatedMetagenomicData/LLMGQC/XieH\\_2016/final/YSZC12003\\_37196/R1-R2\\_final.spring &  & Xie et al. 2016 & UK & 59 & adult & female & stool & Illumina HiSeq & 37602465\\\\\n",
       "\t /ebio/abt3\\_projects/databases\\_no-backup/curatedMetagenomicData/LLMGQC/XieH\\_2016/final/YSZC12003\\_37172/R1\\_final.fq.gz & /ebio/abt3\\_projects/databases\\_no-backup/curatedMetagenomicData/LLMGQC/XieH\\_2016/final/YSZC12003\\_37172/R2\\_final.fq.gz & 1006357 & BGI250 & 33454184 & LLMGQC & /ebio/abt3\\_projects/databases\\_no-backup/curatedMetagenomicData/LLMGQC/XieH\\_2016/final/YSZC12003\\_37172/R1-R2\\_final.spring &  & Xie et al. 2016 & UK & 59 & adult & female & stool & Illumina HiSeq & 33454184\\\\\n",
       "\\end{tabular}\n"
      ],
      "text/markdown": [
       "\n",
       "A tidytable: 125 × 16\n",
       "\n",
       "| MG_read1 &lt;chr&gt; | MG_read2 &lt;chr&gt; | Sample &lt;chr&gt; | MG_dataset &lt;chr&gt; | MG_num_paired_end_postQC_reads &lt;int&gt; | MG_QC_method &lt;chr&gt; | MG_read12 &lt;chr&gt; | Sample_accession &lt;chr&gt; | dataset_name &lt;chr&gt; | country &lt;chr&gt; | age..years. &lt;int&gt; | age_category &lt;chr&gt; | gender &lt;chr&gt; | body_site &lt;chr&gt; | sequencing_platform &lt;chr&gt; | number_reads &lt;int&gt; |\n",
       "|---|---|---|---|---|---|---|---|---|---|---|---|---|---|---|---|\n",
       "| /ebio/abt3_projects/databases_no-backup/curatedMetagenomicData/LLMGQC/XieH_2016/final/YSZC12003_35366/R1_final.fq.gz | /ebio/abt3_projects/databases_no-backup/curatedMetagenomicData/LLMGQC/XieH_2016/final/YSZC12003_35366/R2_final.fq.gz | 1002325 | BGI250 | 32758605 | LLMGQC | /ebio/abt3_projects/databases_no-backup/curatedMetagenomicData/LLMGQC/XieH_2016/final/YSZC12003_35366/R1-R2_final.spring | <!----> | Xie et al. 2016 | UK | 61 | adult | female | stool | Illumina HiSeq | 32758605 |\n",
       "| /ebio/abt3_projects/databases_no-backup/curatedMetagenomicData/LLMGQC/XieH_2016/final/YSZC12003_35388/R1_final.fq.gz | /ebio/abt3_projects/databases_no-backup/curatedMetagenomicData/LLMGQC/XieH_2016/final/YSZC12003_35388/R2_final.fq.gz | 1002331 | BGI250 | 37263270 | LLMGQC | /ebio/abt3_projects/databases_no-backup/curatedMetagenomicData/LLMGQC/XieH_2016/final/YSZC12003_35388/R1-R2_final.spring | <!----> | Xie et al. 2016 | UK | 49 | adult | female | stool | Illumina HiSeq | 37263270 |\n",
       "| ⋮ | ⋮ | ⋮ | ⋮ | ⋮ | ⋮ | ⋮ | ⋮ | ⋮ | ⋮ | ⋮ | ⋮ | ⋮ | ⋮ | ⋮ | ⋮ |\n",
       "| /ebio/abt3_projects/databases_no-backup/curatedMetagenomicData/LLMGQC/XieH_2016/final/YSZC12003_37196/R1_final.fq.gz | /ebio/abt3_projects/databases_no-backup/curatedMetagenomicData/LLMGQC/XieH_2016/final/YSZC12003_37196/R2_final.fq.gz | 1006356 | BGI250 | 37602465 | LLMGQC | /ebio/abt3_projects/databases_no-backup/curatedMetagenomicData/LLMGQC/XieH_2016/final/YSZC12003_37196/R1-R2_final.spring | <!----> | Xie et al. 2016 | UK | 59 | adult | female | stool | Illumina HiSeq | 37602465 |\n",
       "| /ebio/abt3_projects/databases_no-backup/curatedMetagenomicData/LLMGQC/XieH_2016/final/YSZC12003_37172/R1_final.fq.gz | /ebio/abt3_projects/databases_no-backup/curatedMetagenomicData/LLMGQC/XieH_2016/final/YSZC12003_37172/R2_final.fq.gz | 1006357 | BGI250 | 33454184 | LLMGQC | /ebio/abt3_projects/databases_no-backup/curatedMetagenomicData/LLMGQC/XieH_2016/final/YSZC12003_37172/R1-R2_final.spring | <!----> | Xie et al. 2016 | UK | 59 | adult | female | stool | Illumina HiSeq | 33454184 |\n",
       "\n"
      ],
      "text/plain": [
       "    MG_read1                                                                                                            \n",
       "1   /ebio/abt3_projects/databases_no-backup/curatedMetagenomicData/LLMGQC/XieH_2016/final/YSZC12003_35366/R1_final.fq.gz\n",
       "2   /ebio/abt3_projects/databases_no-backup/curatedMetagenomicData/LLMGQC/XieH_2016/final/YSZC12003_35388/R1_final.fq.gz\n",
       "⋮   ⋮                                                                                                                   \n",
       "124 /ebio/abt3_projects/databases_no-backup/curatedMetagenomicData/LLMGQC/XieH_2016/final/YSZC12003_37196/R1_final.fq.gz\n",
       "125 /ebio/abt3_projects/databases_no-backup/curatedMetagenomicData/LLMGQC/XieH_2016/final/YSZC12003_37172/R1_final.fq.gz\n",
       "    MG_read2                                                                                                            \n",
       "1   /ebio/abt3_projects/databases_no-backup/curatedMetagenomicData/LLMGQC/XieH_2016/final/YSZC12003_35366/R2_final.fq.gz\n",
       "2   /ebio/abt3_projects/databases_no-backup/curatedMetagenomicData/LLMGQC/XieH_2016/final/YSZC12003_35388/R2_final.fq.gz\n",
       "⋮   ⋮                                                                                                                   \n",
       "124 /ebio/abt3_projects/databases_no-backup/curatedMetagenomicData/LLMGQC/XieH_2016/final/YSZC12003_37196/R2_final.fq.gz\n",
       "125 /ebio/abt3_projects/databases_no-backup/curatedMetagenomicData/LLMGQC/XieH_2016/final/YSZC12003_37172/R2_final.fq.gz\n",
       "    Sample  MG_dataset MG_num_paired_end_postQC_reads MG_QC_method\n",
       "1   1002325 BGI250     32758605                       LLMGQC      \n",
       "2   1002331 BGI250     37263270                       LLMGQC      \n",
       "⋮   ⋮       ⋮          ⋮                              ⋮           \n",
       "124 1006356 BGI250     37602465                       LLMGQC      \n",
       "125 1006357 BGI250     33454184                       LLMGQC      \n",
       "    MG_read12                                                                                                               \n",
       "1   /ebio/abt3_projects/databases_no-backup/curatedMetagenomicData/LLMGQC/XieH_2016/final/YSZC12003_35366/R1-R2_final.spring\n",
       "2   /ebio/abt3_projects/databases_no-backup/curatedMetagenomicData/LLMGQC/XieH_2016/final/YSZC12003_35388/R1-R2_final.spring\n",
       "⋮   ⋮                                                                                                                       \n",
       "124 /ebio/abt3_projects/databases_no-backup/curatedMetagenomicData/LLMGQC/XieH_2016/final/YSZC12003_37196/R1-R2_final.spring\n",
       "125 /ebio/abt3_projects/databases_no-backup/curatedMetagenomicData/LLMGQC/XieH_2016/final/YSZC12003_37172/R1-R2_final.spring\n",
       "    Sample_accession dataset_name    country age..years. age_category gender\n",
       "1                    Xie et al. 2016 UK      61          adult        female\n",
       "2                    Xie et al. 2016 UK      49          adult        female\n",
       "⋮   ⋮                ⋮               ⋮       ⋮           ⋮            ⋮     \n",
       "124                  Xie et al. 2016 UK      59          adult        female\n",
       "125                  Xie et al. 2016 UK      59          adult        female\n",
       "    body_site sequencing_platform number_reads\n",
       "1   stool     Illumina HiSeq      32758605    \n",
       "2   stool     Illumina HiSeq      37263270    \n",
       "⋮   ⋮         ⋮                   ⋮           \n",
       "124 stool     Illumina HiSeq      37602465    \n",
       "125 stool     Illumina HiSeq      33454184    "
      ]
     },
     "metadata": {},
     "output_type": "display_data"
    }
   ],
   "source": [
    "tuk_mg_j = tuk_mg %>%\n",
    "    inner_join.(cophylo %>% filter.(country == 'UK'),\n",
    "                c('Sample'='subjectID')) \n",
    "tuk_mg_j$MG_dataset %>% table\n",
    "tuk_mg_j$Sample %>% unique_n('Samples')\n",
    "tuk_mg_j"
   ]
  },
  {
   "cell_type": "code",
   "execution_count": 45,
   "metadata": {
    "ExecuteTime": {
     "end_time": "2021-07-01T14:18:43.061198Z",
     "start_time": "2021-07-01T14:18:42.991Z"
    }
   },
   "outputs": [
    {
     "data": {
      "text/plain": [
       ".\n",
       "   BGI250 flagellin \n",
       "      115         3 "
      ]
     },
     "metadata": {},
     "output_type": "display_data"
    },
    {
     "name": "stdout",
     "output_type": "stream",
     "text": [
      "No. of unique Samples: 118 \n"
     ]
    },
    {
     "data": {
      "text/html": [
       "<table class=\"dataframe\">\n",
       "<caption>A tidytable: 118 × 16</caption>\n",
       "<thead>\n",
       "\t<tr><th scope=col>MG_read1</th><th scope=col>MG_read2</th><th scope=col>Sample</th><th scope=col>MG_dataset</th><th scope=col>MG_num_paired_end_postQC_reads</th><th scope=col>MG_QC_method</th><th scope=col>MG_read12</th><th scope=col>Sample_accession</th><th scope=col>dataset_name</th><th scope=col>country</th><th scope=col>age..years.</th><th scope=col>age_category</th><th scope=col>gender</th><th scope=col>body_site</th><th scope=col>sequencing_platform</th><th scope=col>number_reads</th></tr>\n",
       "\t<tr><th scope=col>&lt;chr&gt;</th><th scope=col>&lt;chr&gt;</th><th scope=col>&lt;chr&gt;</th><th scope=col>&lt;chr&gt;</th><th scope=col>&lt;int&gt;</th><th scope=col>&lt;chr&gt;</th><th scope=col>&lt;chr&gt;</th><th scope=col>&lt;chr&gt;</th><th scope=col>&lt;chr&gt;</th><th scope=col>&lt;chr&gt;</th><th scope=col>&lt;int&gt;</th><th scope=col>&lt;chr&gt;</th><th scope=col>&lt;chr&gt;</th><th scope=col>&lt;chr&gt;</th><th scope=col>&lt;chr&gt;</th><th scope=col>&lt;int&gt;</th></tr>\n",
       "</thead>\n",
       "<tbody>\n",
       "\t<tr><td>/ebio/abt3_projects/databases_no-backup/curatedMetagenomicData/LLMGQC/XieH_2016/final/YSZC12003_35366/R1_final.fq.gz</td><td>/ebio/abt3_projects/databases_no-backup/curatedMetagenomicData/LLMGQC/XieH_2016/final/YSZC12003_35366/R2_final.fq.gz</td><td>1002325</td><td>BGI250</td><td>32758605</td><td>LLMGQC</td><td>/ebio/abt3_projects/databases_no-backup/curatedMetagenomicData/LLMGQC/XieH_2016/final/YSZC12003_35366/R1-R2_final.spring</td><td></td><td>Xie et al. 2016</td><td>UK</td><td>61</td><td>adult</td><td>female</td><td>stool</td><td>Illumina HiSeq</td><td>32758605</td></tr>\n",
       "\t<tr><td>/ebio/abt3_projects/databases_no-backup/curatedMetagenomicData/LLMGQC/XieH_2016/final/YSZC12003_35388/R1_final.fq.gz</td><td>/ebio/abt3_projects/databases_no-backup/curatedMetagenomicData/LLMGQC/XieH_2016/final/YSZC12003_35388/R2_final.fq.gz</td><td>1002331</td><td>BGI250</td><td>37263270</td><td>LLMGQC</td><td>/ebio/abt3_projects/databases_no-backup/curatedMetagenomicData/LLMGQC/XieH_2016/final/YSZC12003_35388/R1-R2_final.spring</td><td></td><td>Xie et al. 2016</td><td>UK</td><td>49</td><td>adult</td><td>female</td><td>stool</td><td>Illumina HiSeq</td><td>37263270</td></tr>\n",
       "\t<tr><td>⋮</td><td>⋮</td><td>⋮</td><td>⋮</td><td>⋮</td><td>⋮</td><td>⋮</td><td>⋮</td><td>⋮</td><td>⋮</td><td>⋮</td><td>⋮</td><td>⋮</td><td>⋮</td><td>⋮</td><td>⋮</td></tr>\n",
       "\t<tr><td>/ebio/abt3_projects/databases_no-backup/curatedMetagenomicData/LLMGQC/XieH_2016/final/YSZC12003_37196/R1_final.fq.gz</td><td>/ebio/abt3_projects/databases_no-backup/curatedMetagenomicData/LLMGQC/XieH_2016/final/YSZC12003_37196/R2_final.fq.gz</td><td>1006356</td><td>BGI250</td><td>37602465</td><td>LLMGQC</td><td>/ebio/abt3_projects/databases_no-backup/curatedMetagenomicData/LLMGQC/XieH_2016/final/YSZC12003_37196/R1-R2_final.spring</td><td></td><td>Xie et al. 2016</td><td>UK</td><td>59</td><td>adult</td><td>female</td><td>stool</td><td>Illumina HiSeq</td><td>37602465</td></tr>\n",
       "\t<tr><td>/ebio/abt3_projects/databases_no-backup/curatedMetagenomicData/LLMGQC/XieH_2016/final/YSZC12003_37172/R1_final.fq.gz</td><td>/ebio/abt3_projects/databases_no-backup/curatedMetagenomicData/LLMGQC/XieH_2016/final/YSZC12003_37172/R2_final.fq.gz</td><td>1006357</td><td>BGI250</td><td>33454184</td><td>LLMGQC</td><td>/ebio/abt3_projects/databases_no-backup/curatedMetagenomicData/LLMGQC/XieH_2016/final/YSZC12003_37172/R1-R2_final.spring</td><td></td><td>Xie et al. 2016</td><td>UK</td><td>59</td><td>adult</td><td>female</td><td>stool</td><td>Illumina HiSeq</td><td>33454184</td></tr>\n",
       "</tbody>\n",
       "</table>\n"
      ],
      "text/latex": [
       "A tidytable: 118 × 16\n",
       "\\begin{tabular}{llllllllllllllll}\n",
       " MG\\_read1 & MG\\_read2 & Sample & MG\\_dataset & MG\\_num\\_paired\\_end\\_postQC\\_reads & MG\\_QC\\_method & MG\\_read12 & Sample\\_accession & dataset\\_name & country & age..years. & age\\_category & gender & body\\_site & sequencing\\_platform & number\\_reads\\\\\n",
       " <chr> & <chr> & <chr> & <chr> & <int> & <chr> & <chr> & <chr> & <chr> & <chr> & <int> & <chr> & <chr> & <chr> & <chr> & <int>\\\\\n",
       "\\hline\n",
       "\t /ebio/abt3\\_projects/databases\\_no-backup/curatedMetagenomicData/LLMGQC/XieH\\_2016/final/YSZC12003\\_35366/R1\\_final.fq.gz & /ebio/abt3\\_projects/databases\\_no-backup/curatedMetagenomicData/LLMGQC/XieH\\_2016/final/YSZC12003\\_35366/R2\\_final.fq.gz & 1002325 & BGI250 & 32758605 & LLMGQC & /ebio/abt3\\_projects/databases\\_no-backup/curatedMetagenomicData/LLMGQC/XieH\\_2016/final/YSZC12003\\_35366/R1-R2\\_final.spring &  & Xie et al. 2016 & UK & 61 & adult & female & stool & Illumina HiSeq & 32758605\\\\\n",
       "\t /ebio/abt3\\_projects/databases\\_no-backup/curatedMetagenomicData/LLMGQC/XieH\\_2016/final/YSZC12003\\_35388/R1\\_final.fq.gz & /ebio/abt3\\_projects/databases\\_no-backup/curatedMetagenomicData/LLMGQC/XieH\\_2016/final/YSZC12003\\_35388/R2\\_final.fq.gz & 1002331 & BGI250 & 37263270 & LLMGQC & /ebio/abt3\\_projects/databases\\_no-backup/curatedMetagenomicData/LLMGQC/XieH\\_2016/final/YSZC12003\\_35388/R1-R2\\_final.spring &  & Xie et al. 2016 & UK & 49 & adult & female & stool & Illumina HiSeq & 37263270\\\\\n",
       "\t ⋮ & ⋮ & ⋮ & ⋮ & ⋮ & ⋮ & ⋮ & ⋮ & ⋮ & ⋮ & ⋮ & ⋮ & ⋮ & ⋮ & ⋮ & ⋮\\\\\n",
       "\t /ebio/abt3\\_projects/databases\\_no-backup/curatedMetagenomicData/LLMGQC/XieH\\_2016/final/YSZC12003\\_37196/R1\\_final.fq.gz & /ebio/abt3\\_projects/databases\\_no-backup/curatedMetagenomicData/LLMGQC/XieH\\_2016/final/YSZC12003\\_37196/R2\\_final.fq.gz & 1006356 & BGI250 & 37602465 & LLMGQC & /ebio/abt3\\_projects/databases\\_no-backup/curatedMetagenomicData/LLMGQC/XieH\\_2016/final/YSZC12003\\_37196/R1-R2\\_final.spring &  & Xie et al. 2016 & UK & 59 & adult & female & stool & Illumina HiSeq & 37602465\\\\\n",
       "\t /ebio/abt3\\_projects/databases\\_no-backup/curatedMetagenomicData/LLMGQC/XieH\\_2016/final/YSZC12003\\_37172/R1\\_final.fq.gz & /ebio/abt3\\_projects/databases\\_no-backup/curatedMetagenomicData/LLMGQC/XieH\\_2016/final/YSZC12003\\_37172/R2\\_final.fq.gz & 1006357 & BGI250 & 33454184 & LLMGQC & /ebio/abt3\\_projects/databases\\_no-backup/curatedMetagenomicData/LLMGQC/XieH\\_2016/final/YSZC12003\\_37172/R1-R2\\_final.spring &  & Xie et al. 2016 & UK & 59 & adult & female & stool & Illumina HiSeq & 33454184\\\\\n",
       "\\end{tabular}\n"
      ],
      "text/markdown": [
       "\n",
       "A tidytable: 118 × 16\n",
       "\n",
       "| MG_read1 &lt;chr&gt; | MG_read2 &lt;chr&gt; | Sample &lt;chr&gt; | MG_dataset &lt;chr&gt; | MG_num_paired_end_postQC_reads &lt;int&gt; | MG_QC_method &lt;chr&gt; | MG_read12 &lt;chr&gt; | Sample_accession &lt;chr&gt; | dataset_name &lt;chr&gt; | country &lt;chr&gt; | age..years. &lt;int&gt; | age_category &lt;chr&gt; | gender &lt;chr&gt; | body_site &lt;chr&gt; | sequencing_platform &lt;chr&gt; | number_reads &lt;int&gt; |\n",
       "|---|---|---|---|---|---|---|---|---|---|---|---|---|---|---|---|\n",
       "| /ebio/abt3_projects/databases_no-backup/curatedMetagenomicData/LLMGQC/XieH_2016/final/YSZC12003_35366/R1_final.fq.gz | /ebio/abt3_projects/databases_no-backup/curatedMetagenomicData/LLMGQC/XieH_2016/final/YSZC12003_35366/R2_final.fq.gz | 1002325 | BGI250 | 32758605 | LLMGQC | /ebio/abt3_projects/databases_no-backup/curatedMetagenomicData/LLMGQC/XieH_2016/final/YSZC12003_35366/R1-R2_final.spring | <!----> | Xie et al. 2016 | UK | 61 | adult | female | stool | Illumina HiSeq | 32758605 |\n",
       "| /ebio/abt3_projects/databases_no-backup/curatedMetagenomicData/LLMGQC/XieH_2016/final/YSZC12003_35388/R1_final.fq.gz | /ebio/abt3_projects/databases_no-backup/curatedMetagenomicData/LLMGQC/XieH_2016/final/YSZC12003_35388/R2_final.fq.gz | 1002331 | BGI250 | 37263270 | LLMGQC | /ebio/abt3_projects/databases_no-backup/curatedMetagenomicData/LLMGQC/XieH_2016/final/YSZC12003_35388/R1-R2_final.spring | <!----> | Xie et al. 2016 | UK | 49 | adult | female | stool | Illumina HiSeq | 37263270 |\n",
       "| ⋮ | ⋮ | ⋮ | ⋮ | ⋮ | ⋮ | ⋮ | ⋮ | ⋮ | ⋮ | ⋮ | ⋮ | ⋮ | ⋮ | ⋮ | ⋮ |\n",
       "| /ebio/abt3_projects/databases_no-backup/curatedMetagenomicData/LLMGQC/XieH_2016/final/YSZC12003_37196/R1_final.fq.gz | /ebio/abt3_projects/databases_no-backup/curatedMetagenomicData/LLMGQC/XieH_2016/final/YSZC12003_37196/R2_final.fq.gz | 1006356 | BGI250 | 37602465 | LLMGQC | /ebio/abt3_projects/databases_no-backup/curatedMetagenomicData/LLMGQC/XieH_2016/final/YSZC12003_37196/R1-R2_final.spring | <!----> | Xie et al. 2016 | UK | 59 | adult | female | stool | Illumina HiSeq | 37602465 |\n",
       "| /ebio/abt3_projects/databases_no-backup/curatedMetagenomicData/LLMGQC/XieH_2016/final/YSZC12003_37172/R1_final.fq.gz | /ebio/abt3_projects/databases_no-backup/curatedMetagenomicData/LLMGQC/XieH_2016/final/YSZC12003_37172/R2_final.fq.gz | 1006357 | BGI250 | 33454184 | LLMGQC | /ebio/abt3_projects/databases_no-backup/curatedMetagenomicData/LLMGQC/XieH_2016/final/YSZC12003_37172/R1-R2_final.spring | <!----> | Xie et al. 2016 | UK | 59 | adult | female | stool | Illumina HiSeq | 33454184 |\n",
       "\n"
      ],
      "text/plain": [
       "    MG_read1                                                                                                            \n",
       "1   /ebio/abt3_projects/databases_no-backup/curatedMetagenomicData/LLMGQC/XieH_2016/final/YSZC12003_35366/R1_final.fq.gz\n",
       "2   /ebio/abt3_projects/databases_no-backup/curatedMetagenomicData/LLMGQC/XieH_2016/final/YSZC12003_35388/R1_final.fq.gz\n",
       "⋮   ⋮                                                                                                                   \n",
       "117 /ebio/abt3_projects/databases_no-backup/curatedMetagenomicData/LLMGQC/XieH_2016/final/YSZC12003_37196/R1_final.fq.gz\n",
       "118 /ebio/abt3_projects/databases_no-backup/curatedMetagenomicData/LLMGQC/XieH_2016/final/YSZC12003_37172/R1_final.fq.gz\n",
       "    MG_read2                                                                                                            \n",
       "1   /ebio/abt3_projects/databases_no-backup/curatedMetagenomicData/LLMGQC/XieH_2016/final/YSZC12003_35366/R2_final.fq.gz\n",
       "2   /ebio/abt3_projects/databases_no-backup/curatedMetagenomicData/LLMGQC/XieH_2016/final/YSZC12003_35388/R2_final.fq.gz\n",
       "⋮   ⋮                                                                                                                   \n",
       "117 /ebio/abt3_projects/databases_no-backup/curatedMetagenomicData/LLMGQC/XieH_2016/final/YSZC12003_37196/R2_final.fq.gz\n",
       "118 /ebio/abt3_projects/databases_no-backup/curatedMetagenomicData/LLMGQC/XieH_2016/final/YSZC12003_37172/R2_final.fq.gz\n",
       "    Sample  MG_dataset MG_num_paired_end_postQC_reads MG_QC_method\n",
       "1   1002325 BGI250     32758605                       LLMGQC      \n",
       "2   1002331 BGI250     37263270                       LLMGQC      \n",
       "⋮   ⋮       ⋮          ⋮                              ⋮           \n",
       "117 1006356 BGI250     37602465                       LLMGQC      \n",
       "118 1006357 BGI250     33454184                       LLMGQC      \n",
       "    MG_read12                                                                                                               \n",
       "1   /ebio/abt3_projects/databases_no-backup/curatedMetagenomicData/LLMGQC/XieH_2016/final/YSZC12003_35366/R1-R2_final.spring\n",
       "2   /ebio/abt3_projects/databases_no-backup/curatedMetagenomicData/LLMGQC/XieH_2016/final/YSZC12003_35388/R1-R2_final.spring\n",
       "⋮   ⋮                                                                                                                       \n",
       "117 /ebio/abt3_projects/databases_no-backup/curatedMetagenomicData/LLMGQC/XieH_2016/final/YSZC12003_37196/R1-R2_final.spring\n",
       "118 /ebio/abt3_projects/databases_no-backup/curatedMetagenomicData/LLMGQC/XieH_2016/final/YSZC12003_37172/R1-R2_final.spring\n",
       "    Sample_accession dataset_name    country age..years. age_category gender\n",
       "1                    Xie et al. 2016 UK      61          adult        female\n",
       "2                    Xie et al. 2016 UK      49          adult        female\n",
       "⋮   ⋮                ⋮               ⋮       ⋮           ⋮            ⋮     \n",
       "117                  Xie et al. 2016 UK      59          adult        female\n",
       "118                  Xie et al. 2016 UK      59          adult        female\n",
       "    body_site sequencing_platform number_reads\n",
       "1   stool     Illumina HiSeq      32758605    \n",
       "2   stool     Illumina HiSeq      37263270    \n",
       "⋮   ⋮         ⋮                   ⋮           \n",
       "117 stool     Illumina HiSeq      37602465    \n",
       "118 stool     Illumina HiSeq      33454184    "
      ]
     },
     "metadata": {},
     "output_type": "display_data"
    }
   ],
   "source": [
    "# for duplicate samples, selecting with most reads\n",
    "tuk_mg_j = tuk_mg_j %>%\n",
    "    mutate.(rank = row_number(-MG_num_paired_end_postQC_reads),\n",
    "            .by=c(Sample)) %>%\n",
    "    filter.(rank == 1) %>%\n",
    "    select.(-rank)\n",
    "tuk_mg_j$MG_dataset %>% table\n",
    "tuk_mg_j$Sample %>% unique_n('Samples')\n",
    "tuk_mg_j"
   ]
  },
  {
   "cell_type": "code",
   "execution_count": 47,
   "metadata": {
    "ExecuteTime": {
     "end_time": "2021-07-01T14:19:08.908301Z",
     "start_time": "2021-07-01T14:19:08.872Z"
    }
   },
   "outputs": [
    {
     "data": {
      "text/html": [
       "<table class=\"dataframe\">\n",
       "<caption>A matrix: 1 × 8 of type dbl</caption>\n",
       "<thead>\n",
       "\t<tr><th></th><th scope=col>Min.</th><th scope=col>1st Qu.</th><th scope=col>Median</th><th scope=col>Mean</th><th scope=col>3rd Qu.</th><th scope=col>Max.</th><th scope=col>sd</th><th scope=col>sd_err_of_mean</th></tr>\n",
       "</thead>\n",
       "<tbody>\n",
       "\t<tr><th scope=row>MG_num_paired_end_postQC_reads</th><td>2623593</td><td>31681470</td><td>33881576</td><td>33682071</td><td>36160168</td><td>46657610</td><td>14782979</td><td>6035126</td></tr>\n",
       "</tbody>\n",
       "</table>\n"
      ],
      "text/latex": [
       "A matrix: 1 × 8 of type dbl\n",
       "\\begin{tabular}{r|llllllll}\n",
       "  & Min. & 1st Qu. & Median & Mean & 3rd Qu. & Max. & sd & sd\\_err\\_of\\_mean\\\\\n",
       "\\hline\n",
       "\tMG\\_num\\_paired\\_end\\_postQC\\_reads & 2623593 & 31681470 & 33881576 & 33682071 & 36160168 & 46657610 & 14782979 & 6035126\\\\\n",
       "\\end{tabular}\n"
      ],
      "text/markdown": [
       "\n",
       "A matrix: 1 × 8 of type dbl\n",
       "\n",
       "| <!--/--> | Min. | 1st Qu. | Median | Mean | 3rd Qu. | Max. | sd | sd_err_of_mean |\n",
       "|---|---|---|---|---|---|---|---|---|\n",
       "| MG_num_paired_end_postQC_reads | 2623593 | 31681470 | 33881576 | 33682071 | 36160168 | 46657610 | 14782979 | 6035126 |\n",
       "\n"
      ],
      "text/plain": [
       "                               Min.    1st Qu.  Median   Mean     3rd Qu. \n",
       "MG_num_paired_end_postQC_reads 2623593 31681470 33881576 33682071 36160168\n",
       "                               Max.     sd       sd_err_of_mean\n",
       "MG_num_paired_end_postQC_reads 46657610 14782979 6035126       "
      ]
     },
     "metadata": {},
     "output_type": "display_data"
    }
   ],
   "source": [
    "summary_x(tuk_mg_j$MG_num_paired_end_postQC_reads)"
   ]
  },
  {
   "cell_type": "markdown",
   "metadata": {},
   "source": [
    "# Formatting read data\n",
    "\n",
    "* uncompressing spring files"
   ]
  },
  {
   "cell_type": "code",
   "execution_count": 50,
   "metadata": {
    "ExecuteTime": {
     "end_time": "2021-07-01T14:20:00.006911Z",
     "start_time": "2021-07-01T14:19:59.964Z"
    }
   },
   "outputs": [
    {
     "data": {
      "text/plain": [
       ".\n",
       "TRUE \n",
       " 118 "
      ]
     },
     "metadata": {},
     "output_type": "display_data"
    }
   ],
   "source": [
    "# checking to see if the spring files exist\n",
    "tuk_mg_j %>%\n",
    "    mutate.(is_file = file.exists(MG_read12)) %>%\n",
    "    .$is_file %>% table"
   ]
  },
  {
   "cell_type": "code",
   "execution_count": 51,
   "metadata": {
    "ExecuteTime": {
     "end_time": "2021-07-01T14:20:01.644419Z",
     "start_time": "2021-07-01T14:20:01.610Z"
    }
   },
   "outputs": [
    {
     "name": "stdout",
     "output_type": "stream",
     "text": [
      "File written: /ebio/abt3_projects/software/dev/ll_pipelines/llcomp/TUK_cophylo.tsv \n"
     ]
    }
   ],
   "source": [
    "# writing table for uncompression pipeline\n",
    "outF = file.path('/ebio/abt3_projects/software/dev/ll_pipelines/llcomp', 'TUK_cophylo.tsv')\n",
    "tuk_mg_j %>%\n",
    "    select.(-MG_read1, -MG_read2) %>%\n",
    "    rename.('Reads' = MG_read12) %>%\n",
    "    mutate.(Paired = 'True') %>%\n",
    "    write_table(outF)"
   ]
  },
  {
   "cell_type": "markdown",
   "metadata": {},
   "source": [
    "# uncompressing"
   ]
  },
  {
   "cell_type": "markdown",
   "metadata": {},
   "source": [
    "### Config"
   ]
  },
  {
   "cell_type": "code",
   "execution_count": 53,
   "metadata": {
    "ExecuteTime": {
     "end_time": "2021-07-01T14:38:40.264393Z",
     "start_time": "2021-07-01T14:38:40.228Z"
    }
   },
   "outputs": [
    {
     "name": "stdout",
     "output_type": "stream",
     "text": [
      "# Input table with sample <-> read_file information\n",
      "samples_file: /ebio/abt3_projects/software/dev/ll_pipelines/llcomp/TUK_cophylo.tsv\n",
      "\n",
      "# Output location (can be the same as input)\n",
      "output_dir: /ebio/abt3_scratch/nyoungblut/TUK_cophylo/\n",
      "\n",
      "# temporary file directory (your username will be added automatically)\n",
      "tmp_dir: /ebio/abt3_scratch/\n",
      "\n",
      "# If input are *.spring, are they paired-end reads (or single)?\n",
      "spring_files_paired: True\n",
      "\n",
      "# Remove input read files?\n",
      "rm_input_reads: False\n",
      "\n",
      "# ionice for reducing I/O loads (use \"-c 2\" for normal usage)\n",
      "ionice: -c 3\n",
      "\n",
      "# pipeline params\n",
      "pipeline:\n",
      "  snakemake_folder: ./\n",
      "  script_folder: ./bin/scripts/\n",
      "  name: LLCOMP"
     ]
    }
   ],
   "source": [
    "F = file.path('/ebio/abt3_projects/software/dev/ll_pipelines/llcomp/', 'config_uncomp.yaml')\n",
    "cat_file(F)"
   ]
  },
  {
   "cell_type": "markdown",
   "metadata": {},
   "source": [
    "### Run"
   ]
  },
  {
   "cell_type": "markdown",
   "metadata": {},
   "source": [
    "```\n",
    "(snakemake) @ rick:/ebio/abt3_projects/software/dev/ll_pipelines/llcomp\n",
    "$ screen -L -S llcomp-tuk ./snakemake_sge.sh config_uncomp.yaml 20\n",
    "```"
   ]
  },
  {
   "cell_type": "markdown",
   "metadata": {},
   "source": [
    "## Summary"
   ]
  },
  {
   "cell_type": "code",
   "execution_count": 60,
   "metadata": {
    "ExecuteTime": {
     "end_time": "2021-07-05T14:30:52.935606Z",
     "start_time": "2021-07-05T14:30:52.895Z"
    }
   },
   "outputs": [
    {
     "data": {
      "text/html": [
       "<table class=\"dataframe\">\n",
       "<caption>A data.table: 118 × 5</caption>\n",
       "<thead>\n",
       "\t<tr><th scope=col>Sample</th><th scope=col>Read1</th><th scope=col>Read2</th><th scope=col>Paired</th><th scope=col>Notes</th></tr>\n",
       "\t<tr><th scope=col>&lt;int&gt;</th><th scope=col>&lt;chr&gt;</th><th scope=col>&lt;chr&gt;</th><th scope=col>&lt;lgl&gt;</th><th scope=col>&lt;lgl&gt;</th></tr>\n",
       "</thead>\n",
       "<tbody>\n",
       "\t<tr><td>1002325</td><td>/ebio/abt3_scratch/nyoungblut/TUK_cophylo/1002325/R1_final.fq.gz</td><td>/ebio/abt3_scratch/nyoungblut/TUK_cophylo/1002325/R2_final.fq.gz</td><td>TRUE</td><td>NA</td></tr>\n",
       "\t<tr><td>1002331</td><td>/ebio/abt3_scratch/nyoungblut/TUK_cophylo/1002331/R1_final.fq.gz</td><td>/ebio/abt3_scratch/nyoungblut/TUK_cophylo/1002331/R2_final.fq.gz</td><td>TRUE</td><td>NA</td></tr>\n",
       "\t<tr><td>⋮</td><td>⋮</td><td>⋮</td><td>⋮</td><td>⋮</td></tr>\n",
       "\t<tr><td>1006356</td><td>/ebio/abt3_scratch/nyoungblut/TUK_cophylo/1006356/R1_final.fq.gz</td><td>/ebio/abt3_scratch/nyoungblut/TUK_cophylo/1006356/R2_final.fq.gz</td><td>TRUE</td><td>NA</td></tr>\n",
       "\t<tr><td>1006357</td><td>/ebio/abt3_scratch/nyoungblut/TUK_cophylo/1006357/R1_final.fq.gz</td><td>/ebio/abt3_scratch/nyoungblut/TUK_cophylo/1006357/R2_final.fq.gz</td><td>TRUE</td><td>NA</td></tr>\n",
       "</tbody>\n",
       "</table>\n"
      ],
      "text/latex": [
       "A data.table: 118 × 5\n",
       "\\begin{tabular}{lllll}\n",
       " Sample & Read1 & Read2 & Paired & Notes\\\\\n",
       " <int> & <chr> & <chr> & <lgl> & <lgl>\\\\\n",
       "\\hline\n",
       "\t 1002325 & /ebio/abt3\\_scratch/nyoungblut/TUK\\_cophylo/1002325/R1\\_final.fq.gz & /ebio/abt3\\_scratch/nyoungblut/TUK\\_cophylo/1002325/R2\\_final.fq.gz & TRUE & NA\\\\\n",
       "\t 1002331 & /ebio/abt3\\_scratch/nyoungblut/TUK\\_cophylo/1002331/R1\\_final.fq.gz & /ebio/abt3\\_scratch/nyoungblut/TUK\\_cophylo/1002331/R2\\_final.fq.gz & TRUE & NA\\\\\n",
       "\t ⋮ & ⋮ & ⋮ & ⋮ & ⋮\\\\\n",
       "\t 1006356 & /ebio/abt3\\_scratch/nyoungblut/TUK\\_cophylo/1006356/R1\\_final.fq.gz & /ebio/abt3\\_scratch/nyoungblut/TUK\\_cophylo/1006356/R2\\_final.fq.gz & TRUE & NA\\\\\n",
       "\t 1006357 & /ebio/abt3\\_scratch/nyoungblut/TUK\\_cophylo/1006357/R1\\_final.fq.gz & /ebio/abt3\\_scratch/nyoungblut/TUK\\_cophylo/1006357/R2\\_final.fq.gz & TRUE & NA\\\\\n",
       "\\end{tabular}\n"
      ],
      "text/markdown": [
       "\n",
       "A data.table: 118 × 5\n",
       "\n",
       "| Sample &lt;int&gt; | Read1 &lt;chr&gt; | Read2 &lt;chr&gt; | Paired &lt;lgl&gt; | Notes &lt;lgl&gt; |\n",
       "|---|---|---|---|---|\n",
       "| 1002325 | /ebio/abt3_scratch/nyoungblut/TUK_cophylo/1002325/R1_final.fq.gz | /ebio/abt3_scratch/nyoungblut/TUK_cophylo/1002325/R2_final.fq.gz | TRUE | NA |\n",
       "| 1002331 | /ebio/abt3_scratch/nyoungblut/TUK_cophylo/1002331/R1_final.fq.gz | /ebio/abt3_scratch/nyoungblut/TUK_cophylo/1002331/R2_final.fq.gz | TRUE | NA |\n",
       "| ⋮ | ⋮ | ⋮ | ⋮ | ⋮ |\n",
       "| 1006356 | /ebio/abt3_scratch/nyoungblut/TUK_cophylo/1006356/R1_final.fq.gz | /ebio/abt3_scratch/nyoungblut/TUK_cophylo/1006356/R2_final.fq.gz | TRUE | NA |\n",
       "| 1006357 | /ebio/abt3_scratch/nyoungblut/TUK_cophylo/1006357/R1_final.fq.gz | /ebio/abt3_scratch/nyoungblut/TUK_cophylo/1006357/R2_final.fq.gz | TRUE | NA |\n",
       "\n"
      ],
      "text/plain": [
       "    Sample  Read1                                                           \n",
       "1   1002325 /ebio/abt3_scratch/nyoungblut/TUK_cophylo/1002325/R1_final.fq.gz\n",
       "2   1002331 /ebio/abt3_scratch/nyoungblut/TUK_cophylo/1002331/R1_final.fq.gz\n",
       "⋮   ⋮       ⋮                                                               \n",
       "117 1006356 /ebio/abt3_scratch/nyoungblut/TUK_cophylo/1006356/R1_final.fq.gz\n",
       "118 1006357 /ebio/abt3_scratch/nyoungblut/TUK_cophylo/1006357/R1_final.fq.gz\n",
       "    Read2                                                            Paired\n",
       "1   /ebio/abt3_scratch/nyoungblut/TUK_cophylo/1002325/R2_final.fq.gz TRUE  \n",
       "2   /ebio/abt3_scratch/nyoungblut/TUK_cophylo/1002331/R2_final.fq.gz TRUE  \n",
       "⋮   ⋮                                                                ⋮     \n",
       "117 /ebio/abt3_scratch/nyoungblut/TUK_cophylo/1006356/R2_final.fq.gz TRUE  \n",
       "118 /ebio/abt3_scratch/nyoungblut/TUK_cophylo/1006357/R2_final.fq.gz TRUE  \n",
       "    Notes\n",
       "1   NA   \n",
       "2   NA   \n",
       "⋮   ⋮    \n",
       "117 NA   \n",
       "118 NA   "
      ]
     },
     "metadata": {},
     "output_type": "display_data"
    }
   ],
   "source": [
    "F = file.path('/ebio/abt3_scratch/nyoungblut/TUK_cophylo/', 'samples.txt')\n",
    "reads = Fread(F)\n",
    "reads"
   ]
  },
  {
   "cell_type": "markdown",
   "metadata": {},
   "source": [
    "# LLMGA"
   ]
  },
  {
   "cell_type": "code",
   "execution_count": 65,
   "metadata": {
    "ExecuteTime": {
     "end_time": "2021-07-05T14:41:03.975060Z",
     "start_time": "2021-07-05T14:41:03.955Z"
    }
   },
   "outputs": [],
   "source": [
    "D = '/ebio/abt3_projects/HUBIF_metagenomics/data/pipelines/llmga_tuk/Cluster1/'"
   ]
  },
  {
   "cell_type": "markdown",
   "metadata": {},
   "source": [
    "### Config"
   ]
  },
  {
   "cell_type": "code",
   "execution_count": 66,
   "metadata": {
    "ExecuteTime": {
     "end_time": "2021-07-05T14:41:04.249701Z",
     "start_time": "2021-07-05T14:41:04.216Z"
    }
   },
   "outputs": [
    {
     "name": "stdout",
     "output_type": "stream",
     "text": [
      "#-- I/O --#\n",
      "# table with sample --> read_file information\n",
      "samples_file: /ebio/abt3_scratch/nyoungblut/TUK_cophylo/samples.txt\n",
      "\n",
      "# output location\n",
      "output_dir: /ebio/abt3_projects/HUBIF_metagenomics/data/pipelines/llmga_tuk/Cluster1/\n",
      "\n",
      "# temporary file directory (your username will be added automatically)\n",
      "tmp_dir: /ebio/abt3_scratch/\n",
      "\n",
      "#-- reference genomes for metacompass --#\n",
      "metacompass_ref: /ebio/abt3_projects/Anxiety_Twins_Metagenomes/data/metagenome/TUKMZ-BGI250/llmga-find-refs/references/drep/dereplicated_genomes.fna\n",
      "\n",
      "#-- master control --#\n",
      "# which major parts of the pipline to run \n",
      "run_assembly: True\n",
      "run_binning: True\n",
      "run_other_assembly: False\n",
      "\n",
      "#-- software parameters --#\n",
      "# Notes:\n",
      "## see \"Notes on the `config.yaml` file\" in the README\n",
      "params:\n",
      "  # raw reads\n",
      "  ionice: -c 3\n",
      "  reads:\n",
      "    subsample: Skip \n",
      "    fastqc: \"\"  \n",
      "  # metacompass (per-sample ref-based assembly); skipped if using graphbin2\n",
      "  metacompass:\n",
      "    buildcontig: Skip #--pickref breadth --mincov 3 -l 1000 -n T -b F -u F\n",
      "    pilon: \"\"\n",
      "  # denovo per-sample assembly (unmapped if metacompass used, else all reads)\n",
      "  denovo_assembly:\n",
      "    metaspades: -k auto --only-assembler\n",
      "    megahit: Skip #--min-count 3 --min-contig-len 500 --presets meta-sensitive\n",
      "  # combined, final contigs\n",
      "  final_contigs:\n",
      "    derep_contigs: minidentity=100 minscaf=1000 minoverlappercent=95\n",
      "    contig_rename: \"\"\n",
      "    min_contig_len: 1500            # min contig length retained\n",
      "    metaquast: --max-ref-number 0   # job run on rick to use internet if `--max-ref-number` > 0\n",
      "  # contig binning\n",
      "  binning:\n",
      "    subsample: 10000000       # how many reads per sample to use for dif-cov binning?\n",
      "    # mapping\n",
      "    map:\n",
      "      num_map_samples: 40    # how many samples to use for dif-cov. binning ('all' = all samples)\n",
      "      minimap2:\n",
      "        index: -k 15 -w 10 -I 12G\n",
      "        map: -N 5 -F 800\n",
      "      samtools_view: -q 0 -F 3584                 # -q = MAPQ cutoff\n",
      "      bam_to_depth: --percentIdentity 97\n",
      "      keep_bam: False                       # keep all BAM files?\n",
      "    # binning\n",
      "    binners:\n",
      "      maxbin2:\n",
      "        Low: -min_contig_length 1500 -markerset 40 -prob_threshold 0.6\n",
      "        Med: -min_contig_length 1500 -markerset 40 -prob_threshold 0.7\n",
      "        High: -min_contig_length 1500 -markerset 40 -prob_threshold 0.8\n",
      "      metabat2:\n",
      "        Low: --minContig 1500 --minCV 0.5 --minCVSum 0.5 --maxP 92\n",
      "             --maxEdges 150 --seed 8394\n",
      "        Med: --minContig 1500 --minCV 0.5 --minCVSum 0.5 --maxP 94\n",
      "             --maxEdges 325 --seed 8394\n",
      "        High: --minContig 1500 --minCV 0.5 --minCVSum 0.5 --maxP 97\n",
      "              --maxEdges 500 --seed 8394\n",
      "        LowNoCov: --minContig 1500 --minCV 0.5 --minCVSum 0.5 --maxP 92\n",
      "                  --maxEdges 150 --seed 8394 NOCOV\n",
      "        MedNoCov: --minContig 1500 --minCV 0.5 --minCVSum 0.5 --maxP 94\n",
      "                  --maxEdges 325 --seed 8394 NOCOV\n",
      "        HighNoCov: --minContig 1500 --minCV 0.5 --minCVSum 0.5 --maxP 97\n",
      "                   --maxEdges 500 --seed 8394 NOCOV\n",
      "      vamb:\n",
      "        Low: -c 10000 -m 1500 -l 24 -n 384 384\n",
      "        Med: -c 10000 -m 1500 -l 32 -n 512 512\n",
      "        High: -c 10000 -m 1500 -l 40 -n 768 768\n",
      "    # selecting final bins (MAGs)\n",
      "    select:\n",
      "      das_tool: --search_engine diamond\n",
      "      genome_table: \"\"\n",
      "  # denovo assembly of other genetic components\n",
      "  denovo_other_assembly:\n",
      "    min_contig_len: 1000\n",
      "    metaplasmidspades: -k auto --only-assembler\n",
      "    metabiosyntheticspades: -k auto --only-assembler\n",
      "  \n",
      "#-- snakemake pipeline --#\n",
      "pipeline:\n",
      "  snakemake_folder: ./\n",
      "  script_folder: bin/scripts/\n",
      "  random_number_seed: 83421\n",
      "  name: LLMGA\n"
     ]
    }
   ],
   "source": [
    "F = file.path(D, 'config.yaml')\n",
    "cat_file(F)"
   ]
  },
  {
   "cell_type": "markdown",
   "metadata": {},
   "source": [
    "### Run"
   ]
  },
  {
   "cell_type": "markdown",
   "metadata": {},
   "source": [
    "```\n",
    "screen -L -S llmga-cophylo-tuk ./snakemake_sge.sh /ebio/abt3_projects/HUBIF_metagenomics/data/pipelines/llmga_tuk/Cluster1/config.yaml 80 -F\n",
    "```"
   ]
  },
  {
   "cell_type": "markdown",
   "metadata": {},
   "source": [
    "### Summary"
   ]
  },
  {
   "cell_type": "code",
   "execution_count": 67,
   "metadata": {
    "ExecuteTime": {
     "end_time": "2021-07-05T14:41:57.599953Z",
     "start_time": "2021-07-05T14:41:57.535Z"
    }
   },
   "outputs": [
    {
     "data": {
      "text/html": [
       "<table class=\"dataframe\">\n",
       "<caption>A data.table: 6370 × 14</caption>\n",
       "<thead>\n",
       "\t<tr><th scope=col>Name</th><th scope=col>Fasta</th><th scope=col>uniqueBacSCGs</th><th scope=col>redundantBacSCGs</th><th scope=col>uniqueArcSCGs</th><th scope=col>redundantArcSCGs</th><th scope=col>bacRatio</th><th scope=col>arcRatio</th><th scope=col>size</th><th scope=col>contigs</th><th scope=col>N50</th><th scope=col>binScore</th><th scope=col>SCG_completeness</th><th scope=col>SCG_redundancy</th></tr>\n",
       "\t<tr><th scope=col>&lt;chr&gt;</th><th scope=col>&lt;chr&gt;</th><th scope=col>&lt;int&gt;</th><th scope=col>&lt;int&gt;</th><th scope=col>&lt;int&gt;</th><th scope=col>&lt;int&gt;</th><th scope=col>&lt;dbl&gt;</th><th scope=col>&lt;dbl&gt;</th><th scope=col>&lt;int&gt;</th><th scope=col>&lt;int&gt;</th><th scope=col>&lt;int&gt;</th><th scope=col>&lt;dbl&gt;</th><th scope=col>&lt;dbl&gt;</th><th scope=col>&lt;dbl&gt;</th></tr>\n",
       "</thead>\n",
       "<tbody>\n",
       "\t<tr><td>1003436__vamb__High.3101</td><td>/ebio/abt3_projects/HUBIF_metagenomics/data/pipelines/llmga_tuk/Cluster1/final_MAGs/MAGs/1003436__vamb__High.3101.fna.gz</td><td>44</td><td>3</td><td>13</td><td>0</td><td>0.8627451</td><td>0.3421053</td><td>2099604</td><td>283</td><td>10485</td><td>0.7826</td><td>86.27</td><td>5.88</td></tr>\n",
       "\t<tr><td>1003355__vamb__High.116 </td><td>/ebio/abt3_projects/HUBIF_metagenomics/data/pipelines/llmga_tuk/Cluster1/final_MAGs/MAGs/1003355__vamb__High.116.fna.gz </td><td>46</td><td>3</td><td>14</td><td>0</td><td>0.9019608</td><td>0.3684211</td><td>1862290</td><td>184</td><td>14719</td><td>0.8334</td><td>90.20</td><td>5.88</td></tr>\n",
       "\t<tr><td>⋮</td><td>⋮</td><td>⋮</td><td>⋮</td><td>⋮</td><td>⋮</td><td>⋮</td><td>⋮</td><td>⋮</td><td>⋮</td><td>⋮</td><td>⋮</td><td>⋮</td><td>⋮</td></tr>\n",
       "\t<tr><td>1002445__metabat2__High.036</td><td>/ebio/abt3_projects/HUBIF_metagenomics/data/pipelines/llmga_tuk/Cluster1/final_MAGs/MAGs/1002445__metabat2__High.036.fna.gz</td><td>49</td><td>5</td><td>18</td><td>1</td><td>0.9607843</td><td>0.4736842</td><td>2404160</td><td>310</td><td>12286</td><td>0.8309</td><td> 96.08</td><td>9.8</td></tr>\n",
       "\t<tr><td>1003311__metabat2__Med.031 </td><td>/ebio/abt3_projects/HUBIF_metagenomics/data/pipelines/llmga_tuk/Cluster1/final_MAGs/MAGs/1003311__metabat2__Med.031.fna.gz </td><td>51</td><td>0</td><td>17</td><td>0</td><td>1.0000000</td><td>0.4473684</td><td>2133122</td><td> 48</td><td>86438</td><td>1.0000</td><td>100.00</td><td>0.0</td></tr>\n",
       "</tbody>\n",
       "</table>\n"
      ],
      "text/latex": [
       "A data.table: 6370 × 14\n",
       "\\begin{tabular}{llllllllllllll}\n",
       " Name & Fasta & uniqueBacSCGs & redundantBacSCGs & uniqueArcSCGs & redundantArcSCGs & bacRatio & arcRatio & size & contigs & N50 & binScore & SCG\\_completeness & SCG\\_redundancy\\\\\n",
       " <chr> & <chr> & <int> & <int> & <int> & <int> & <dbl> & <dbl> & <int> & <int> & <int> & <dbl> & <dbl> & <dbl>\\\\\n",
       "\\hline\n",
       "\t 1003436\\_\\_vamb\\_\\_High.3101 & /ebio/abt3\\_projects/HUBIF\\_metagenomics/data/pipelines/llmga\\_tuk/Cluster1/final\\_MAGs/MAGs/1003436\\_\\_vamb\\_\\_High.3101.fna.gz & 44 & 3 & 13 & 0 & 0.8627451 & 0.3421053 & 2099604 & 283 & 10485 & 0.7826 & 86.27 & 5.88\\\\\n",
       "\t 1003355\\_\\_vamb\\_\\_High.116  & /ebio/abt3\\_projects/HUBIF\\_metagenomics/data/pipelines/llmga\\_tuk/Cluster1/final\\_MAGs/MAGs/1003355\\_\\_vamb\\_\\_High.116.fna.gz  & 46 & 3 & 14 & 0 & 0.9019608 & 0.3684211 & 1862290 & 184 & 14719 & 0.8334 & 90.20 & 5.88\\\\\n",
       "\t ⋮ & ⋮ & ⋮ & ⋮ & ⋮ & ⋮ & ⋮ & ⋮ & ⋮ & ⋮ & ⋮ & ⋮ & ⋮ & ⋮\\\\\n",
       "\t 1002445\\_\\_metabat2\\_\\_High.036 & /ebio/abt3\\_projects/HUBIF\\_metagenomics/data/pipelines/llmga\\_tuk/Cluster1/final\\_MAGs/MAGs/1002445\\_\\_metabat2\\_\\_High.036.fna.gz & 49 & 5 & 18 & 1 & 0.9607843 & 0.4736842 & 2404160 & 310 & 12286 & 0.8309 &  96.08 & 9.8\\\\\n",
       "\t 1003311\\_\\_metabat2\\_\\_Med.031  & /ebio/abt3\\_projects/HUBIF\\_metagenomics/data/pipelines/llmga\\_tuk/Cluster1/final\\_MAGs/MAGs/1003311\\_\\_metabat2\\_\\_Med.031.fna.gz  & 51 & 0 & 17 & 0 & 1.0000000 & 0.4473684 & 2133122 &  48 & 86438 & 1.0000 & 100.00 & 0.0\\\\\n",
       "\\end{tabular}\n"
      ],
      "text/markdown": [
       "\n",
       "A data.table: 6370 × 14\n",
       "\n",
       "| Name &lt;chr&gt; | Fasta &lt;chr&gt; | uniqueBacSCGs &lt;int&gt; | redundantBacSCGs &lt;int&gt; | uniqueArcSCGs &lt;int&gt; | redundantArcSCGs &lt;int&gt; | bacRatio &lt;dbl&gt; | arcRatio &lt;dbl&gt; | size &lt;int&gt; | contigs &lt;int&gt; | N50 &lt;int&gt; | binScore &lt;dbl&gt; | SCG_completeness &lt;dbl&gt; | SCG_redundancy &lt;dbl&gt; |\n",
       "|---|---|---|---|---|---|---|---|---|---|---|---|---|---|\n",
       "| 1003436__vamb__High.3101 | /ebio/abt3_projects/HUBIF_metagenomics/data/pipelines/llmga_tuk/Cluster1/final_MAGs/MAGs/1003436__vamb__High.3101.fna.gz | 44 | 3 | 13 | 0 | 0.8627451 | 0.3421053 | 2099604 | 283 | 10485 | 0.7826 | 86.27 | 5.88 |\n",
       "| 1003355__vamb__High.116  | /ebio/abt3_projects/HUBIF_metagenomics/data/pipelines/llmga_tuk/Cluster1/final_MAGs/MAGs/1003355__vamb__High.116.fna.gz  | 46 | 3 | 14 | 0 | 0.9019608 | 0.3684211 | 1862290 | 184 | 14719 | 0.8334 | 90.20 | 5.88 |\n",
       "| ⋮ | ⋮ | ⋮ | ⋮ | ⋮ | ⋮ | ⋮ | ⋮ | ⋮ | ⋮ | ⋮ | ⋮ | ⋮ | ⋮ |\n",
       "| 1002445__metabat2__High.036 | /ebio/abt3_projects/HUBIF_metagenomics/data/pipelines/llmga_tuk/Cluster1/final_MAGs/MAGs/1002445__metabat2__High.036.fna.gz | 49 | 5 | 18 | 1 | 0.9607843 | 0.4736842 | 2404160 | 310 | 12286 | 0.8309 |  96.08 | 9.8 |\n",
       "| 1003311__metabat2__Med.031  | /ebio/abt3_projects/HUBIF_metagenomics/data/pipelines/llmga_tuk/Cluster1/final_MAGs/MAGs/1003311__metabat2__Med.031.fna.gz  | 51 | 0 | 17 | 0 | 1.0000000 | 0.4473684 | 2133122 |  48 | 86438 | 1.0000 | 100.00 | 0.0 |\n",
       "\n"
      ],
      "text/plain": [
       "     Name                       \n",
       "1    1003436__vamb__High.3101   \n",
       "2    1003355__vamb__High.116    \n",
       "⋮    ⋮                          \n",
       "6369 1002445__metabat2__High.036\n",
       "6370 1003311__metabat2__Med.031 \n",
       "     Fasta                                                                                                                      \n",
       "1    /ebio/abt3_projects/HUBIF_metagenomics/data/pipelines/llmga_tuk/Cluster1/final_MAGs/MAGs/1003436__vamb__High.3101.fna.gz   \n",
       "2    /ebio/abt3_projects/HUBIF_metagenomics/data/pipelines/llmga_tuk/Cluster1/final_MAGs/MAGs/1003355__vamb__High.116.fna.gz    \n",
       "⋮    ⋮                                                                                                                          \n",
       "6369 /ebio/abt3_projects/HUBIF_metagenomics/data/pipelines/llmga_tuk/Cluster1/final_MAGs/MAGs/1002445__metabat2__High.036.fna.gz\n",
       "6370 /ebio/abt3_projects/HUBIF_metagenomics/data/pipelines/llmga_tuk/Cluster1/final_MAGs/MAGs/1003311__metabat2__Med.031.fna.gz \n",
       "     uniqueBacSCGs redundantBacSCGs uniqueArcSCGs redundantArcSCGs bacRatio \n",
       "1    44            3                13            0                0.8627451\n",
       "2    46            3                14            0                0.9019608\n",
       "⋮    ⋮             ⋮                ⋮             ⋮                ⋮        \n",
       "6369 49            5                18            1                0.9607843\n",
       "6370 51            0                17            0                1.0000000\n",
       "     arcRatio  size    contigs N50   binScore SCG_completeness SCG_redundancy\n",
       "1    0.3421053 2099604 283     10485 0.7826   86.27            5.88          \n",
       "2    0.3684211 1862290 184     14719 0.8334   90.20            5.88          \n",
       "⋮    ⋮         ⋮       ⋮       ⋮     ⋮        ⋮                ⋮             \n",
       "6369 0.4736842 2404160 310     12286 0.8309    96.08           9.8           \n",
       "6370 0.4473684 2133122  48     86438 1.0000   100.00           0.0           "
      ]
     },
     "metadata": {},
     "output_type": "display_data"
    }
   ],
   "source": [
    "F = file.path(D, 'final_MAGs', 'final_MAGs.tsv')\n",
    "MAGs = Fread(F)\n",
    "MAGs"
   ]
  },
  {
   "cell_type": "code",
   "execution_count": 69,
   "metadata": {
    "ExecuteTime": {
     "end_time": "2021-07-05T14:43:31.539663Z",
     "start_time": "2021-07-05T14:43:31.470Z"
    }
   },
   "outputs": [
    {
     "data": {
      "text/html": [
       "<table class=\"dataframe\">\n",
       "<caption>A matrix: 1 × 8 of type dbl</caption>\n",
       "<thead>\n",
       "\t<tr><th></th><th scope=col>Min.</th><th scope=col>1st Qu.</th><th scope=col>Median</th><th scope=col>Mean</th><th scope=col>3rd Qu.</th><th scope=col>Max.</th><th scope=col>sd</th><th scope=col>sd_err_of_mean</th></tr>\n",
       "</thead>\n",
       "<tbody>\n",
       "\t<tr><th scope=row>size</th><td>21027</td><td>1787579</td><td>2230203</td><td>2378697</td><td>2784526</td><td>13106905</td><td>4699454</td><td>1918544</td></tr>\n",
       "</tbody>\n",
       "</table>\n"
      ],
      "text/latex": [
       "A matrix: 1 × 8 of type dbl\n",
       "\\begin{tabular}{r|llllllll}\n",
       "  & Min. & 1st Qu. & Median & Mean & 3rd Qu. & Max. & sd & sd\\_err\\_of\\_mean\\\\\n",
       "\\hline\n",
       "\tsize & 21027 & 1787579 & 2230203 & 2378697 & 2784526 & 13106905 & 4699454 & 1918544\\\\\n",
       "\\end{tabular}\n"
      ],
      "text/markdown": [
       "\n",
       "A matrix: 1 × 8 of type dbl\n",
       "\n",
       "| <!--/--> | Min. | 1st Qu. | Median | Mean | 3rd Qu. | Max. | sd | sd_err_of_mean |\n",
       "|---|---|---|---|---|---|---|---|---|\n",
       "| size | 21027 | 1787579 | 2230203 | 2378697 | 2784526 | 13106905 | 4699454 | 1918544 |\n",
       "\n"
      ],
      "text/plain": [
       "     Min.  1st Qu. Median  Mean    3rd Qu. Max.     sd      sd_err_of_mean\n",
       "size 21027 1787579 2230203 2378697 2784526 13106905 4699454 1918544       "
      ]
     },
     "metadata": {},
     "output_type": "display_data"
    },
    {
     "data": {
      "text/html": [
       "<table class=\"dataframe\">\n",
       "<caption>A matrix: 1 × 8 of type dbl</caption>\n",
       "<thead>\n",
       "\t<tr><th></th><th scope=col>Min.</th><th scope=col>1st Qu.</th><th scope=col>Median</th><th scope=col>Mean</th><th scope=col>3rd Qu.</th><th scope=col>Max.</th><th scope=col>sd</th><th scope=col>sd_err_of_mean</th></tr>\n",
       "</thead>\n",
       "<tbody>\n",
       "\t<tr><th scope=row>contigs</th><td>1</td><td>54</td><td>144</td><td>226.6929</td><td>374</td><td>2324</td><td>893.269</td><td>364.676</td></tr>\n",
       "</tbody>\n",
       "</table>\n"
      ],
      "text/latex": [
       "A matrix: 1 × 8 of type dbl\n",
       "\\begin{tabular}{r|llllllll}\n",
       "  & Min. & 1st Qu. & Median & Mean & 3rd Qu. & Max. & sd & sd\\_err\\_of\\_mean\\\\\n",
       "\\hline\n",
       "\tcontigs & 1 & 54 & 144 & 226.6929 & 374 & 2324 & 893.269 & 364.676\\\\\n",
       "\\end{tabular}\n"
      ],
      "text/markdown": [
       "\n",
       "A matrix: 1 × 8 of type dbl\n",
       "\n",
       "| <!--/--> | Min. | 1st Qu. | Median | Mean | 3rd Qu. | Max. | sd | sd_err_of_mean |\n",
       "|---|---|---|---|---|---|---|---|---|\n",
       "| contigs | 1 | 54 | 144 | 226.6929 | 374 | 2324 | 893.269 | 364.676 |\n",
       "\n"
      ],
      "text/plain": [
       "        Min. 1st Qu. Median Mean     3rd Qu. Max. sd      sd_err_of_mean\n",
       "contigs 1    54      144    226.6929 374     2324 893.269 364.676       "
      ]
     },
     "metadata": {},
     "output_type": "display_data"
    },
    {
     "data": {
      "text/html": [
       "<table class=\"dataframe\">\n",
       "<caption>A matrix: 1 × 8 of type dbl</caption>\n",
       "<thead>\n",
       "\t<tr><th></th><th scope=col>Min.</th><th scope=col>1st Qu.</th><th scope=col>Median</th><th scope=col>Mean</th><th scope=col>3rd Qu.</th><th scope=col>Max.</th><th scope=col>sd</th><th scope=col>sd_err_of_mean</th></tr>\n",
       "</thead>\n",
       "<tbody>\n",
       "\t<tr><th scope=row>N50</th><td>1903</td><td>7224.25</td><td>28643</td><td>64696.99</td><td>84975.25</td><td>1421805</td><td>566074.1</td><td>231098.8</td></tr>\n",
       "</tbody>\n",
       "</table>\n"
      ],
      "text/latex": [
       "A matrix: 1 × 8 of type dbl\n",
       "\\begin{tabular}{r|llllllll}\n",
       "  & Min. & 1st Qu. & Median & Mean & 3rd Qu. & Max. & sd & sd\\_err\\_of\\_mean\\\\\n",
       "\\hline\n",
       "\tN50 & 1903 & 7224.25 & 28643 & 64696.99 & 84975.25 & 1421805 & 566074.1 & 231098.8\\\\\n",
       "\\end{tabular}\n"
      ],
      "text/markdown": [
       "\n",
       "A matrix: 1 × 8 of type dbl\n",
       "\n",
       "| <!--/--> | Min. | 1st Qu. | Median | Mean | 3rd Qu. | Max. | sd | sd_err_of_mean |\n",
       "|---|---|---|---|---|---|---|---|---|\n",
       "| N50 | 1903 | 7224.25 | 28643 | 64696.99 | 84975.25 | 1421805 | 566074.1 | 231098.8 |\n",
       "\n"
      ],
      "text/plain": [
       "    Min. 1st Qu. Median Mean     3rd Qu.  Max.    sd       sd_err_of_mean\n",
       "N50 1903 7224.25 28643  64696.99 84975.25 1421805 566074.1 231098.8      "
      ]
     },
     "metadata": {},
     "output_type": "display_data"
    },
    {
     "data": {
      "text/html": [
       "<table class=\"dataframe\">\n",
       "<caption>A matrix: 1 × 8 of type dbl</caption>\n",
       "<thead>\n",
       "\t<tr><th></th><th scope=col>Min.</th><th scope=col>1st Qu.</th><th scope=col>Median</th><th scope=col>Mean</th><th scope=col>3rd Qu.</th><th scope=col>Max.</th><th scope=col>sd</th><th scope=col>sd_err_of_mean</th></tr>\n",
       "</thead>\n",
       "<tbody>\n",
       "\t<tr><th scope=row>SCG_completeness</th><td>50.98</td><td>86.27</td><td>96.08</td><td>90.71897</td><td>98.04</td><td>100</td><td>18.358</td><td>7.495</td></tr>\n",
       "</tbody>\n",
       "</table>\n"
      ],
      "text/latex": [
       "A matrix: 1 × 8 of type dbl\n",
       "\\begin{tabular}{r|llllllll}\n",
       "  & Min. & 1st Qu. & Median & Mean & 3rd Qu. & Max. & sd & sd\\_err\\_of\\_mean\\\\\n",
       "\\hline\n",
       "\tSCG\\_completeness & 50.98 & 86.27 & 96.08 & 90.71897 & 98.04 & 100 & 18.358 & 7.495\\\\\n",
       "\\end{tabular}\n"
      ],
      "text/markdown": [
       "\n",
       "A matrix: 1 × 8 of type dbl\n",
       "\n",
       "| <!--/--> | Min. | 1st Qu. | Median | Mean | 3rd Qu. | Max. | sd | sd_err_of_mean |\n",
       "|---|---|---|---|---|---|---|---|---|\n",
       "| SCG_completeness | 50.98 | 86.27 | 96.08 | 90.71897 | 98.04 | 100 | 18.358 | 7.495 |\n",
       "\n"
      ],
      "text/plain": [
       "                 Min.  1st Qu. Median Mean     3rd Qu. Max. sd    \n",
       "SCG_completeness 50.98 86.27   96.08  90.71897 98.04   100  18.358\n",
       "                 sd_err_of_mean\n",
       "SCG_completeness 7.495         "
      ]
     },
     "metadata": {},
     "output_type": "display_data"
    },
    {
     "data": {
      "text/html": [
       "<table class=\"dataframe\">\n",
       "<caption>A matrix: 1 × 8 of type dbl</caption>\n",
       "<thead>\n",
       "\t<tr><th></th><th scope=col>Min.</th><th scope=col>1st Qu.</th><th scope=col>Median</th><th scope=col>Mean</th><th scope=col>3rd Qu.</th><th scope=col>Max.</th><th scope=col>sd</th><th scope=col>sd_err_of_mean</th></tr>\n",
       "</thead>\n",
       "<tbody>\n",
       "\t<tr><th scope=row>binScore</th><td>0.5008</td><td>0.7719</td><td>0.902</td><td>0.8509963</td><td>0.9569</td><td>1</td><td>0.18</td><td>0.074</td></tr>\n",
       "</tbody>\n",
       "</table>\n"
      ],
      "text/latex": [
       "A matrix: 1 × 8 of type dbl\n",
       "\\begin{tabular}{r|llllllll}\n",
       "  & Min. & 1st Qu. & Median & Mean & 3rd Qu. & Max. & sd & sd\\_err\\_of\\_mean\\\\\n",
       "\\hline\n",
       "\tbinScore & 0.5008 & 0.7719 & 0.902 & 0.8509963 & 0.9569 & 1 & 0.18 & 0.074\\\\\n",
       "\\end{tabular}\n"
      ],
      "text/markdown": [
       "\n",
       "A matrix: 1 × 8 of type dbl\n",
       "\n",
       "| <!--/--> | Min. | 1st Qu. | Median | Mean | 3rd Qu. | Max. | sd | sd_err_of_mean |\n",
       "|---|---|---|---|---|---|---|---|---|\n",
       "| binScore | 0.5008 | 0.7719 | 0.902 | 0.8509963 | 0.9569 | 1 | 0.18 | 0.074 |\n",
       "\n"
      ],
      "text/plain": [
       "         Min.   1st Qu. Median Mean      3rd Qu. Max. sd   sd_err_of_mean\n",
       "binScore 0.5008 0.7719  0.902  0.8509963 0.9569  1    0.18 0.074         "
      ]
     },
     "metadata": {},
     "output_type": "display_data"
    }
   ],
   "source": [
    "# summary stats\n",
    "summary_x(MAGs$size)\n",
    "summary_x(MAGs$contigs)\n",
    "summary_x(MAGs$N50)\n",
    "summary_x(MAGs$SCG_completeness)\n",
    "summary_x(MAGs$binScore)"
   ]
  },
  {
   "cell_type": "markdown",
   "metadata": {},
   "source": [
    "# LLG"
   ]
  },
  {
   "cell_type": "code",
   "execution_count": 86,
   "metadata": {
    "ExecuteTime": {
     "end_time": "2021-07-06T14:57:37.689775Z",
     "start_time": "2021-07-06T14:57:37.663Z"
    }
   },
   "outputs": [
    {
     "data": {
      "text/html": [
       "'/ebio/abt3_projects/HUBIF_metagenomics/data/pipelines/llmga_tuk/Cluster1/LLG/round1/'"
      ],
      "text/latex": [
       "'/ebio/abt3\\_projects/HUBIF\\_metagenomics/data/pipelines/llmga\\_tuk/Cluster1/LLG/round1/'"
      ],
      "text/markdown": [
       "'/ebio/abt3_projects/HUBIF_metagenomics/data/pipelines/llmga_tuk/Cluster1/LLG/round1/'"
      ],
      "text/plain": [
       "[1] \"/ebio/abt3_projects/HUBIF_metagenomics/data/pipelines/llmga_tuk/Cluster1/LLG/round1/\""
      ]
     },
     "metadata": {},
     "output_type": "display_data"
    }
   ],
   "source": [
    "D = '/ebio/abt3_projects/HUBIF_metagenomics/data/pipelines/llmga_tuk/Cluster1/LLG/round1/'\n",
    "D"
   ]
  },
  {
   "cell_type": "markdown",
   "metadata": {},
   "source": [
    "## MAG QC"
   ]
  },
  {
   "cell_type": "markdown",
   "metadata": {},
   "source": [
    "### Config"
   ]
  },
  {
   "cell_type": "code",
   "execution_count": 62,
   "metadata": {
    "ExecuteTime": {
     "end_time": "2021-07-05T14:40:06.176778Z",
     "start_time": "2021-07-05T14:40:06.139Z"
    }
   },
   "outputs": [
    {
     "name": "stdout",
     "output_type": "stream",
     "text": [
      "# table with genome --> fasta_file information\n",
      "samples_file: /ebio/abt3_projects/HUBIF_metagenomics/data/pipelines/llmga_tuk/Cluster1/final_MAGs/final_MAGs.tsv\n",
      "\n",
      "# output location\n",
      "output_dir: /ebio/abt3_projects/HUBIF_metagenomics/data/pipelines/llmga_tuk/Cluster1/LLG/round1/\n",
      "\n",
      "# temporary file directory (your username will be added automatically)\n",
      "tmp_dir: /ebio/abt3_scratch/\n",
      "\n",
      "# batch processing of genomes for certain steps\n",
      "## increase to better parallelize\n",
      "batches: 50\n",
      "\n",
      "# Domain of genomes ('Archaea' or 'Bacteria)\n",
      "## Use \"Skip\" if provided as a \"Domain\" column in the genome table\n",
      "Domain: Bacteria\n",
      "\n",
      "# Just run certain major pipeline steps?\n",
      "run_pipeline_steps:\n",
      "  assembly_assessment: True\n",
      "  dereplication: True\n",
      "  taxonomy: True\n",
      "  ANI: FTrue\n",
      "  rRNA: FTrue\n",
      "  annotation: FTrue\n",
      "  genome_phylogeny: FTrue\n",
      "  phenotype: FTrue\n",
      "  BGC: FTrue\n",
      "  AMR_virulence: FTrue\n",
      "  plasmids: FTrue\n",
      "  CRISPR: FTrue\n",
      "\n",
      "# software parameters\n",
      "# Use \"Skip\" to skip any of these steps. If no params for rule, use \"\"\n",
      "# dRep MAGs are not further analyzed, but you can de-rep & then use the de-rep genome table as input.\n",
      "params:\n",
      "  ionice: -c 3\n",
      "  # assembly assessment\n",
      "  seqkit: \"\"\n",
      "  quast: Skip #\"\"\n",
      "  multiqc_on_quast: \"\" \n",
      "  checkm: \"\"\n",
      "  # de-replication (unskipped CheckM or genomeInfo file recommended)\n",
      "  drep:\n",
      "    algorithm: auto\n",
      "    params: -comp 50 -con 5 -sa 0.999\n",
      "    genomeInfo: Skip # e.g., tests/output_bac9/checkM/genomeInfo.csv\n",
      "  # taxonomy\n",
      "  sourmash:\n",
      "    compute: Skip #--scaled 10000 -k 31\n",
      "    gather: Skip #-k 31\n",
      "  gtdbtk:\n",
      "    classify_wf: --min_perc_aa 10\n",
      "  minimap2:\n",
      "    index: Skip #-k 15\n",
      "    run: -x sr -N 5\n",
      "    taxonomy: --min-coverage 0.5\n",
      "    keep_bam: True\n",
      "  # genome pairwise ANI  \n",
      "  fastani: --fragLen 3000 --minFraction 0.2 -k 16\n",
      "  dashing: -k 31 --full-tsv\n",
      "  comparem_aai: --evalue 0.001\n",
      "  # rRNA (16S alignment & phylogeny)\n",
      "  rRNA:\n",
      "    barrnap: --lencutoff 0.8\n",
      "    vsearch_per_genome_drep: --id 0.95\n",
      "    qiime2_fasttree: \"\"\n",
      "    qiime2_iqtree: --p-alrt 1000 --p-abayes --p-lbp 1000 \n",
      "                   --p-substitution-model 'GTR+I+G'\n",
      "  # gene annotation\n",
      "  gene_call:\n",
      "    prokka: \"\"\n",
      "    multiqc_on_prokka: \"\"\n",
      "    prodigal: \"\"\n",
      "  eggnog_mapper:\n",
      "    map: \"\"\n",
      "    annot: \"\"\n",
      "  # genome phylogeny (requires annotation)\n",
      "  phylophlan:\n",
      "    config: --map_dna diamond --db_aa diamond --map_aa diamond\n",
      "            --msa mafft --trim trimal --tree1 fasttree --tree2 raxml\n",
      "    accuracy: --auto \n",
      "    other_params: --diversity high --min_num_markers 50\n",
      "  # phenotype (requires annotation)\n",
      "  traitar: \"\"\n",
      "  # biosynthetic gene clusters (BGCs)\n",
      "  antismash: --cb-knownclusters --cb-subclusters --asf  \n",
      "  DeepBGC: --score 0.5 --classifier-score 0.5\n",
      "  bigscape: --cutoffs 0.3 --mibig\n",
      "  # antimicrobial resistance (AMR) & virulence \n",
      "  abricate: --minid 75 --mincov 80\n",
      "  RGI: --alignment_tool BLAST\n",
      "  pathofact_virulence: -E 1e-10\n",
      "  pathofact_toxin: -T 40\n",
      "  # plasmids\n",
      "  platon: --mode accuracy\n",
      "  plasflow: --threshold 0.7\n",
      "  # CRISPRs\n",
      "  cctyper: --prodigal meta\n",
      "  \n",
      "# databases\n",
      "databases:\n",
      "  checkM_data: /ebio/abt3_projects/databases_no-backup/checkM/\n",
      "  sourmash: /ebio/abt3_projects/databases_no-backup/sourmash/genbank-k31.sbt.json\n",
      "  sourmash_lca: /ebio/abt3_projects/databases_no-backup/sourmash/genbank-k31.lca.json.gz\n",
      "  gtdbtk: /ebio/abt3_projects/databases_no-backup/GTDB/release95/gtdbtk/db_info.md\n",
      "  minimap2: /ebio/abt3_projects/databases_no-backup/minimap2/GTDBr95_refGenomes.fna.gz\n",
      "  phylophlan: /ebio/abt3_projects/databases_no-backup/phylophlan/PhyloPhlan/phylophlan.faa.bz2\n",
      "  eggnog: /ebio/abt3_projects/databases_no-backup/Eggnog/v2/eggnog.db\n",
      "  eggnog_diamond: /ebio/abt3_projects/databases_no-backup/Eggnog/v2/eggnog_proteins.dmnd\n",
      "  antismash: /ebio/abt3_projects/databases_no-backup/antismash/v5/  \n",
      "  deepbgc: /ebio/abt3_projects/databases_no-backup/DeepBGC/\n",
      "  bigscape: /ebio/abt3_projects/databases_no-backup/BiGSCAPE/2021-04-03/Pfam-A.hmm\n",
      "  traitar: /ebio/abt3_projects/databases_no-backup/pfam/traitar/\n",
      "  platon: /ebio/abt3_projects/databases_no-backup/platon/2021-04/README.md\n",
      "  taxdump: \n",
      "    names: /ebio/abt3_projects/databases_no-backup/GTDB/release95/taxdump/names.dmp\n",
      "    nodes: /ebio/abt3_projects/databases_no-backup/GTDB/release95/taxdump/nodes.dmp\n",
      "  abricate:\n",
      "    ncbi: /ebio/abt3_projects/databases_no-backup/abricate/ncbi/sequences\n",
      "    card: /ebio/abt3_projects/databases_no-backup/abricate/card/sequences\n",
      "    resfinder: /ebio/abt3_projects/databases_no-backup/abricate/resfinder/sequences\n",
      "    argannot: /ebio/abt3_projects/databases_no-backup/abricate/argannot/sequences\n",
      "    bacmet2: /ebio/abt3_projects/databases_no-backup/abricate/bacmet2/sequences\n",
      "    vfdb: /ebio/abt3_projects/databases_no-backup/abricate/vfdb/sequences\n",
      "    megares: /ebio/abt3_projects/databases_no-backup/abricate/megares/sequences\n",
      "    plasmidfinder: /ebio/abt3_projects/databases_no-backup/abricate/plasmidfinder/sequences\n",
      "  RGI:\n",
      "    card:\n",
      "      json: /ebio/abt3_projects/databases_no-backup/CARD/v3.0.9/card.json\n",
      "      fasta: /ebio/abt3_projects/databases_no-backup/CARD/v3.0.9/card_database_v3.0.9.fasta\n",
      "  pathofact:\n",
      "    vir_hmm: /ebio/abt3_projects/databases_no-backup/PathoFact/v1.0/virulence/Virulence_factor.hmm\n",
      "    pos_dom: /ebio/abt3_projects/databases_no-backup/PathoFact/v1.0/models_and_domains/positive_domains.tsv\n",
      "    neg_dom: /ebio/abt3_projects/databases_no-backup/PathoFact/v1.0/models_and_domains/negative_domains.tsv\n",
      "    shared_dom: /ebio/abt3_projects/databases_no-backup/PathoFact/v1.0/models_and_domains/shared_domains.tsv\n",
      "    model: /ebio/abt3_projects/databases_no-backup/PathoFact/v1.0/virulence/Virulence_factor_model.sav\n",
      "    toxin_hmm: /ebio/abt3_projects/databases_no-backup/PathoFact/v1.0/toxins/combined_Toxin.hmm\n",
      "    toxin_names: /ebio/abt3_projects/databases_no-backup/PathoFact/v1.0/toxins/library_HMM_Toxins.tsv\n",
      "    \n",
      "# snakemake pipeline\n",
      "pipeline:\n",
      "  snakemake_folder: ./\n",
      "  script_folder: ./bin/scripts/\n",
      "  use_shared_mem: True\n",
      "  name: LLG"
     ]
    }
   ],
   "source": [
    "F = file.path(D, 'config.yaml')\n",
    "cat_file(F)"
   ]
  },
  {
   "cell_type": "markdown",
   "metadata": {},
   "source": [
    "### Run"
   ]
  },
  {
   "cell_type": "markdown",
   "metadata": {},
   "source": [
    "```\n",
    "screen -L -S llg-cophylo-tuk ./snakemake_sge.sh /ebio/abt3_projects/HUBIF_metagenomics/data/pipelines/llmga_tuk/Cluster1/LLG/round1/config.yaml 80 -F\n",
    "```"
   ]
  },
  {
   "cell_type": "markdown",
   "metadata": {},
   "source": [
    "## Summary"
   ]
  },
  {
   "cell_type": "code",
   "execution_count": 84,
   "metadata": {
    "ExecuteTime": {
     "end_time": "2021-07-06T14:57:28.678975Z",
     "start_time": "2021-07-06T14:57:28.551Z"
    }
   },
   "outputs": [
    {
     "name": "stdout",
     "output_type": "stream",
     "text": [
      "No. of unique MAGs: 6370 \n"
     ]
    },
    {
     "data": {
      "text/html": [
       "<table class=\"dataframe\">\n",
       "<caption>A data.table: 6370 × 33</caption>\n",
       "<thead>\n",
       "\t<tr><th scope=col>Bin.Id</th><th scope=col>Marker.lineage</th><th scope=col>X..genomes</th><th scope=col>X..markers</th><th scope=col>X..marker.sets</th><th scope=col>Completeness</th><th scope=col>Contamination</th><th scope=col>Strain.heterogeneity</th><th scope=col>Genome.size..bp.</th><th scope=col>X..ambiguous.bases</th><th scope=col>⋯</th><th scope=col>X0</th><th scope=col>X1</th><th scope=col>X2</th><th scope=col>X3</th><th scope=col>X4</th><th scope=col>X5.</th><th scope=col>assembly.Id</th><th scope=col>assembler.Id</th><th scope=col>taxon.Id</th><th scope=col>File</th></tr>\n",
       "\t<tr><th scope=col>&lt;chr&gt;</th><th scope=col>&lt;chr&gt;</th><th scope=col>&lt;int&gt;</th><th scope=col>&lt;int&gt;</th><th scope=col>&lt;int&gt;</th><th scope=col>&lt;dbl&gt;</th><th scope=col>&lt;dbl&gt;</th><th scope=col>&lt;dbl&gt;</th><th scope=col>&lt;int&gt;</th><th scope=col>&lt;int&gt;</th><th scope=col>⋯</th><th scope=col>&lt;int&gt;</th><th scope=col>&lt;int&gt;</th><th scope=col>&lt;int&gt;</th><th scope=col>&lt;int&gt;</th><th scope=col>&lt;int&gt;</th><th scope=col>&lt;int&gt;</th><th scope=col>&lt;chr&gt;</th><th scope=col>&lt;chr&gt;</th><th scope=col>&lt;lgl&gt;</th><th scope=col>&lt;chr&gt;</th></tr>\n",
       "</thead>\n",
       "<tbody>\n",
       "\t<tr><td>1002325__vamb__Med.516     </td><td>o__Clostridiales (UID1212)</td><td>172</td><td>263</td><td>149</td><td>89.21</td><td>2.97</td><td> 0.00</td><td>2113678</td><td>0</td><td>⋯</td><td>24</td><td>234</td><td>4</td><td>1</td><td>0</td><td>0</td><td>|ebio|abt3_projects|HUBIF_metagenomics|data|pipelines|llmga_tuk|Cluster1|LLG|round1|checkM|1|checkm|markers_qa_summary.tsv.1</td><td>markers_qa_summary.tsv.1</td><td>NA</td><td>/ebio/abt3_projects/HUBIF_metagenomics/data/pipelines/llmga_tuk/Cluster1/LLG/round1/checkM/1/checkm/markers_qa_summary.tsv.1</td></tr>\n",
       "\t<tr><td>1002331__metabat2__High.086</td><td>p__Bacteroidetes (UID2605)</td><td>350</td><td>314</td><td>208</td><td>99.44</td><td>3.07</td><td>77.78</td><td>2725983</td><td>0</td><td>⋯</td><td> 6</td><td>299</td><td>9</td><td>0</td><td>0</td><td>0</td><td>|ebio|abt3_projects|HUBIF_metagenomics|data|pipelines|llmga_tuk|Cluster1|LLG|round1|checkM|1|checkm|markers_qa_summary.tsv.2</td><td>markers_qa_summary.tsv.2</td><td>NA</td><td>/ebio/abt3_projects/HUBIF_metagenomics/data/pipelines/llmga_tuk/Cluster1/LLG/round1/checkM/1/checkm/markers_qa_summary.tsv.2</td></tr>\n",
       "\t<tr><td>⋮</td><td>⋮</td><td>⋮</td><td>⋮</td><td>⋮</td><td>⋮</td><td>⋮</td><td>⋮</td><td>⋮</td><td>⋮</td><td>⋱</td><td>⋮</td><td>⋮</td><td>⋮</td><td>⋮</td><td>⋮</td><td>⋮</td><td>⋮</td><td>⋮</td><td>⋮</td><td>⋮</td></tr>\n",
       "\t<tr><td>1006357__metabat2__Low.027</td><td>o__Clostridiales (UID1120)</td><td>304</td><td>250</td><td>143</td><td>33.11</td><td>0.00</td><td>  0</td><td> 714842</td><td>0</td><td>⋯</td><td>158</td><td> 92</td><td>0</td><td>0</td><td>0</td><td>0</td><td>|ebio|abt3_projects|HUBIF_metagenomics|data|pipelines|llmga_tuk|Cluster1|LLG|round1|checkM|50|checkm|markers_qa_summary.tsv.126</td><td>markers_qa_summary.tsv.126</td><td>NA</td><td>/ebio/abt3_projects/HUBIF_metagenomics/data/pipelines/llmga_tuk/Cluster1/LLG/round1/checkM/50/checkm/markers_qa_summary.tsv.126</td></tr>\n",
       "\t<tr><td>1006357__vamb__High.2781  </td><td>o__Clostridiales (UID1212)</td><td>172</td><td>261</td><td>147</td><td>95.34</td><td>1.76</td><td>100</td><td>2697548</td><td>0</td><td>⋯</td><td> 11</td><td>246</td><td>4</td><td>0</td><td>0</td><td>0</td><td>|ebio|abt3_projects|HUBIF_metagenomics|data|pipelines|llmga_tuk|Cluster1|LLG|round1|checkM|50|checkm|markers_qa_summary.tsv.127</td><td>markers_qa_summary.tsv.127</td><td>NA</td><td>/ebio/abt3_projects/HUBIF_metagenomics/data/pipelines/llmga_tuk/Cluster1/LLG/round1/checkM/50/checkm/markers_qa_summary.tsv.127</td></tr>\n",
       "</tbody>\n",
       "</table>\n"
      ],
      "text/latex": [
       "A data.table: 6370 × 33\n",
       "\\begin{tabular}{lllllllllllllllllllll}\n",
       " Bin.Id & Marker.lineage & X..genomes & X..markers & X..marker.sets & Completeness & Contamination & Strain.heterogeneity & Genome.size..bp. & X..ambiguous.bases & ⋯ & X0 & X1 & X2 & X3 & X4 & X5. & assembly.Id & assembler.Id & taxon.Id & File\\\\\n",
       " <chr> & <chr> & <int> & <int> & <int> & <dbl> & <dbl> & <dbl> & <int> & <int> & ⋯ & <int> & <int> & <int> & <int> & <int> & <int> & <chr> & <chr> & <lgl> & <chr>\\\\\n",
       "\\hline\n",
       "\t 1002325\\_\\_vamb\\_\\_Med.516      & o\\_\\_Clostridiales (UID1212) & 172 & 263 & 149 & 89.21 & 2.97 &  0.00 & 2113678 & 0 & ⋯ & 24 & 234 & 4 & 1 & 0 & 0 & \\textbar{}ebio\\textbar{}abt3\\_projects\\textbar{}HUBIF\\_metagenomics\\textbar{}data\\textbar{}pipelines\\textbar{}llmga\\_tuk\\textbar{}Cluster1\\textbar{}LLG\\textbar{}round1\\textbar{}checkM\\textbar{}1\\textbar{}checkm\\textbar{}markers\\_qa\\_summary.tsv.1 & markers\\_qa\\_summary.tsv.1 & NA & /ebio/abt3\\_projects/HUBIF\\_metagenomics/data/pipelines/llmga\\_tuk/Cluster1/LLG/round1/checkM/1/checkm/markers\\_qa\\_summary.tsv.1\\\\\n",
       "\t 1002331\\_\\_metabat2\\_\\_High.086 & p\\_\\_Bacteroidetes (UID2605) & 350 & 314 & 208 & 99.44 & 3.07 & 77.78 & 2725983 & 0 & ⋯ &  6 & 299 & 9 & 0 & 0 & 0 & \\textbar{}ebio\\textbar{}abt3\\_projects\\textbar{}HUBIF\\_metagenomics\\textbar{}data\\textbar{}pipelines\\textbar{}llmga\\_tuk\\textbar{}Cluster1\\textbar{}LLG\\textbar{}round1\\textbar{}checkM\\textbar{}1\\textbar{}checkm\\textbar{}markers\\_qa\\_summary.tsv.2 & markers\\_qa\\_summary.tsv.2 & NA & /ebio/abt3\\_projects/HUBIF\\_metagenomics/data/pipelines/llmga\\_tuk/Cluster1/LLG/round1/checkM/1/checkm/markers\\_qa\\_summary.tsv.2\\\\\n",
       "\t ⋮ & ⋮ & ⋮ & ⋮ & ⋮ & ⋮ & ⋮ & ⋮ & ⋮ & ⋮ & ⋱ & ⋮ & ⋮ & ⋮ & ⋮ & ⋮ & ⋮ & ⋮ & ⋮ & ⋮ & ⋮\\\\\n",
       "\t 1006357\\_\\_metabat2\\_\\_Low.027 & o\\_\\_Clostridiales (UID1120) & 304 & 250 & 143 & 33.11 & 0.00 &   0 &  714842 & 0 & ⋯ & 158 &  92 & 0 & 0 & 0 & 0 & \\textbar{}ebio\\textbar{}abt3\\_projects\\textbar{}HUBIF\\_metagenomics\\textbar{}data\\textbar{}pipelines\\textbar{}llmga\\_tuk\\textbar{}Cluster1\\textbar{}LLG\\textbar{}round1\\textbar{}checkM\\textbar{}50\\textbar{}checkm\\textbar{}markers\\_qa\\_summary.tsv.126 & markers\\_qa\\_summary.tsv.126 & NA & /ebio/abt3\\_projects/HUBIF\\_metagenomics/data/pipelines/llmga\\_tuk/Cluster1/LLG/round1/checkM/50/checkm/markers\\_qa\\_summary.tsv.126\\\\\n",
       "\t 1006357\\_\\_vamb\\_\\_High.2781   & o\\_\\_Clostridiales (UID1212) & 172 & 261 & 147 & 95.34 & 1.76 & 100 & 2697548 & 0 & ⋯ &  11 & 246 & 4 & 0 & 0 & 0 & \\textbar{}ebio\\textbar{}abt3\\_projects\\textbar{}HUBIF\\_metagenomics\\textbar{}data\\textbar{}pipelines\\textbar{}llmga\\_tuk\\textbar{}Cluster1\\textbar{}LLG\\textbar{}round1\\textbar{}checkM\\textbar{}50\\textbar{}checkm\\textbar{}markers\\_qa\\_summary.tsv.127 & markers\\_qa\\_summary.tsv.127 & NA & /ebio/abt3\\_projects/HUBIF\\_metagenomics/data/pipelines/llmga\\_tuk/Cluster1/LLG/round1/checkM/50/checkm/markers\\_qa\\_summary.tsv.127\\\\\n",
       "\\end{tabular}\n"
      ],
      "text/markdown": [
       "\n",
       "A data.table: 6370 × 33\n",
       "\n",
       "| Bin.Id &lt;chr&gt; | Marker.lineage &lt;chr&gt; | X..genomes &lt;int&gt; | X..markers &lt;int&gt; | X..marker.sets &lt;int&gt; | Completeness &lt;dbl&gt; | Contamination &lt;dbl&gt; | Strain.heterogeneity &lt;dbl&gt; | Genome.size..bp. &lt;int&gt; | X..ambiguous.bases &lt;int&gt; | ⋯ ⋯ | X0 &lt;int&gt; | X1 &lt;int&gt; | X2 &lt;int&gt; | X3 &lt;int&gt; | X4 &lt;int&gt; | X5. &lt;int&gt; | assembly.Id &lt;chr&gt; | assembler.Id &lt;chr&gt; | taxon.Id &lt;lgl&gt; | File &lt;chr&gt; |\n",
       "|---|---|---|---|---|---|---|---|---|---|---|---|---|---|---|---|---|---|---|---|---|\n",
       "| 1002325__vamb__Med.516      | o__Clostridiales (UID1212) | 172 | 263 | 149 | 89.21 | 2.97 |  0.00 | 2113678 | 0 | ⋯ | 24 | 234 | 4 | 1 | 0 | 0 | |ebio|abt3_projects|HUBIF_metagenomics|data|pipelines|llmga_tuk|Cluster1|LLG|round1|checkM|1|checkm|markers_qa_summary.tsv.1 | markers_qa_summary.tsv.1 | NA | /ebio/abt3_projects/HUBIF_metagenomics/data/pipelines/llmga_tuk/Cluster1/LLG/round1/checkM/1/checkm/markers_qa_summary.tsv.1 |\n",
       "| 1002331__metabat2__High.086 | p__Bacteroidetes (UID2605) | 350 | 314 | 208 | 99.44 | 3.07 | 77.78 | 2725983 | 0 | ⋯ |  6 | 299 | 9 | 0 | 0 | 0 | |ebio|abt3_projects|HUBIF_metagenomics|data|pipelines|llmga_tuk|Cluster1|LLG|round1|checkM|1|checkm|markers_qa_summary.tsv.2 | markers_qa_summary.tsv.2 | NA | /ebio/abt3_projects/HUBIF_metagenomics/data/pipelines/llmga_tuk/Cluster1/LLG/round1/checkM/1/checkm/markers_qa_summary.tsv.2 |\n",
       "| ⋮ | ⋮ | ⋮ | ⋮ | ⋮ | ⋮ | ⋮ | ⋮ | ⋮ | ⋮ | ⋱ | ⋮ | ⋮ | ⋮ | ⋮ | ⋮ | ⋮ | ⋮ | ⋮ | ⋮ | ⋮ |\n",
       "| 1006357__metabat2__Low.027 | o__Clostridiales (UID1120) | 304 | 250 | 143 | 33.11 | 0.00 |   0 |  714842 | 0 | ⋯ | 158 |  92 | 0 | 0 | 0 | 0 | |ebio|abt3_projects|HUBIF_metagenomics|data|pipelines|llmga_tuk|Cluster1|LLG|round1|checkM|50|checkm|markers_qa_summary.tsv.126 | markers_qa_summary.tsv.126 | NA | /ebio/abt3_projects/HUBIF_metagenomics/data/pipelines/llmga_tuk/Cluster1/LLG/round1/checkM/50/checkm/markers_qa_summary.tsv.126 |\n",
       "| 1006357__vamb__High.2781   | o__Clostridiales (UID1212) | 172 | 261 | 147 | 95.34 | 1.76 | 100 | 2697548 | 0 | ⋯ |  11 | 246 | 4 | 0 | 0 | 0 | |ebio|abt3_projects|HUBIF_metagenomics|data|pipelines|llmga_tuk|Cluster1|LLG|round1|checkM|50|checkm|markers_qa_summary.tsv.127 | markers_qa_summary.tsv.127 | NA | /ebio/abt3_projects/HUBIF_metagenomics/data/pipelines/llmga_tuk/Cluster1/LLG/round1/checkM/50/checkm/markers_qa_summary.tsv.127 |\n",
       "\n"
      ],
      "text/plain": [
       "     Bin.Id                      Marker.lineage             X..genomes\n",
       "1    1002325__vamb__Med.516      o__Clostridiales (UID1212) 172       \n",
       "2    1002331__metabat2__High.086 p__Bacteroidetes (UID2605) 350       \n",
       "⋮    ⋮                           ⋮                          ⋮         \n",
       "6369 1006357__metabat2__Low.027  o__Clostridiales (UID1120) 304       \n",
       "6370 1006357__vamb__High.2781    o__Clostridiales (UID1212) 172       \n",
       "     X..markers X..marker.sets Completeness Contamination Strain.heterogeneity\n",
       "1    263        149            89.21        2.97           0.00               \n",
       "2    314        208            99.44        3.07          77.78               \n",
       "⋮    ⋮          ⋮              ⋮            ⋮             ⋮                   \n",
       "6369 250        143            33.11        0.00            0                 \n",
       "6370 261        147            95.34        1.76          100                 \n",
       "     Genome.size..bp. X..ambiguous.bases ⋯ X0  X1  X2 X3 X4 X5.\n",
       "1    2113678          0                  ⋯ 24  234 4  1  0  0  \n",
       "2    2725983          0                  ⋯  6  299 9  0  0  0  \n",
       "⋮    ⋮                ⋮                  ⋱ ⋮   ⋮   ⋮  ⋮  ⋮  ⋮  \n",
       "6369  714842          0                  ⋯ 158  92 0  0  0  0  \n",
       "6370 2697548          0                  ⋯  11 246 4  0  0  0  \n",
       "     assembly.Id                                                                                                                    \n",
       "1    |ebio|abt3_projects|HUBIF_metagenomics|data|pipelines|llmga_tuk|Cluster1|LLG|round1|checkM|1|checkm|markers_qa_summary.tsv.1   \n",
       "2    |ebio|abt3_projects|HUBIF_metagenomics|data|pipelines|llmga_tuk|Cluster1|LLG|round1|checkM|1|checkm|markers_qa_summary.tsv.2   \n",
       "⋮    ⋮                                                                                                                              \n",
       "6369 |ebio|abt3_projects|HUBIF_metagenomics|data|pipelines|llmga_tuk|Cluster1|LLG|round1|checkM|50|checkm|markers_qa_summary.tsv.126\n",
       "6370 |ebio|abt3_projects|HUBIF_metagenomics|data|pipelines|llmga_tuk|Cluster1|LLG|round1|checkM|50|checkm|markers_qa_summary.tsv.127\n",
       "     assembler.Id               taxon.Id\n",
       "1    markers_qa_summary.tsv.1   NA      \n",
       "2    markers_qa_summary.tsv.2   NA      \n",
       "⋮    ⋮                          ⋮       \n",
       "6369 markers_qa_summary.tsv.126 NA      \n",
       "6370 markers_qa_summary.tsv.127 NA      \n",
       "     File                                                                                                                           \n",
       "1    /ebio/abt3_projects/HUBIF_metagenomics/data/pipelines/llmga_tuk/Cluster1/LLG/round1/checkM/1/checkm/markers_qa_summary.tsv.1   \n",
       "2    /ebio/abt3_projects/HUBIF_metagenomics/data/pipelines/llmga_tuk/Cluster1/LLG/round1/checkM/1/checkm/markers_qa_summary.tsv.2   \n",
       "⋮    ⋮                                                                                                                              \n",
       "6369 /ebio/abt3_projects/HUBIF_metagenomics/data/pipelines/llmga_tuk/Cluster1/LLG/round1/checkM/50/checkm/markers_qa_summary.tsv.126\n",
       "6370 /ebio/abt3_projects/HUBIF_metagenomics/data/pipelines/llmga_tuk/Cluster1/LLG/round1/checkM/50/checkm/markers_qa_summary.tsv.127"
      ]
     },
     "metadata": {},
     "output_type": "display_data"
    }
   ],
   "source": [
    "# checkM output\n",
    "F = file.path(D, 'checkM', 'checkm_qa_summary.tsv')\n",
    "checkm = Fread(F)\n",
    "checkm$Bin.Id %>% unique_n('MAGs')\n",
    "checkm"
   ]
  },
  {
   "cell_type": "code",
   "execution_count": 85,
   "metadata": {
    "ExecuteTime": {
     "end_time": "2021-07-06T14:57:29.112883Z",
     "start_time": "2021-07-06T14:57:29.048Z"
    }
   },
   "outputs": [
    {
     "name": "stdout",
     "output_type": "stream",
     "text": [
      "No. of unique MAGs: 5731 \n"
     ]
    },
    {
     "data": {
      "text/html": [
       "<table class=\"dataframe\">\n",
       "<caption>A data.table: 5731 × 2</caption>\n",
       "<thead>\n",
       "\t<tr><th scope=col>Name</th><th scope=col>Fasta</th></tr>\n",
       "\t<tr><th scope=col>&lt;chr&gt;</th><th scope=col>&lt;chr&gt;</th></tr>\n",
       "</thead>\n",
       "<tbody>\n",
       "\t<tr><td>1002612__metabat2__Low.081</td><td>/ebio/abt3_projects/HUBIF_metagenomics/data/pipelines/llmga_tuk/Cluster1/LLG/round1/drep/drep/dereplicated_genomes/1002612__metabat2__Low.081.fna</td></tr>\n",
       "\t<tr><td>1003472__vamb__Med.888    </td><td>/ebio/abt3_projects/HUBIF_metagenomics/data/pipelines/llmga_tuk/Cluster1/LLG/round1/drep/drep/dereplicated_genomes/1003472__vamb__Med.888.fna    </td></tr>\n",
       "\t<tr><td>⋮</td><td>⋮</td></tr>\n",
       "\t<tr><td>1003427__metabat2__LowNoCov.062</td><td>/ebio/abt3_projects/HUBIF_metagenomics/data/pipelines/llmga_tuk/Cluster1/LLG/round1/drep/drep/dereplicated_genomes/1003427__metabat2__LowNoCov.062.fna</td></tr>\n",
       "\t<tr><td>1003366__vamb__High.630        </td><td>/ebio/abt3_projects/HUBIF_metagenomics/data/pipelines/llmga_tuk/Cluster1/LLG/round1/drep/drep/dereplicated_genomes/1003366__vamb__High.630.fna        </td></tr>\n",
       "</tbody>\n",
       "</table>\n"
      ],
      "text/latex": [
       "A data.table: 5731 × 2\n",
       "\\begin{tabular}{ll}\n",
       " Name & Fasta\\\\\n",
       " <chr> & <chr>\\\\\n",
       "\\hline\n",
       "\t 1002612\\_\\_metabat2\\_\\_Low.081 & /ebio/abt3\\_projects/HUBIF\\_metagenomics/data/pipelines/llmga\\_tuk/Cluster1/LLG/round1/drep/drep/dereplicated\\_genomes/1002612\\_\\_metabat2\\_\\_Low.081.fna\\\\\n",
       "\t 1003472\\_\\_vamb\\_\\_Med.888     & /ebio/abt3\\_projects/HUBIF\\_metagenomics/data/pipelines/llmga\\_tuk/Cluster1/LLG/round1/drep/drep/dereplicated\\_genomes/1003472\\_\\_vamb\\_\\_Med.888.fna    \\\\\n",
       "\t ⋮ & ⋮\\\\\n",
       "\t 1003427\\_\\_metabat2\\_\\_LowNoCov.062 & /ebio/abt3\\_projects/HUBIF\\_metagenomics/data/pipelines/llmga\\_tuk/Cluster1/LLG/round1/drep/drep/dereplicated\\_genomes/1003427\\_\\_metabat2\\_\\_LowNoCov.062.fna\\\\\n",
       "\t 1003366\\_\\_vamb\\_\\_High.630         & /ebio/abt3\\_projects/HUBIF\\_metagenomics/data/pipelines/llmga\\_tuk/Cluster1/LLG/round1/drep/drep/dereplicated\\_genomes/1003366\\_\\_vamb\\_\\_High.630.fna        \\\\\n",
       "\\end{tabular}\n"
      ],
      "text/markdown": [
       "\n",
       "A data.table: 5731 × 2\n",
       "\n",
       "| Name &lt;chr&gt; | Fasta &lt;chr&gt; |\n",
       "|---|---|\n",
       "| 1002612__metabat2__Low.081 | /ebio/abt3_projects/HUBIF_metagenomics/data/pipelines/llmga_tuk/Cluster1/LLG/round1/drep/drep/dereplicated_genomes/1002612__metabat2__Low.081.fna |\n",
       "| 1003472__vamb__Med.888     | /ebio/abt3_projects/HUBIF_metagenomics/data/pipelines/llmga_tuk/Cluster1/LLG/round1/drep/drep/dereplicated_genomes/1003472__vamb__Med.888.fna     |\n",
       "| ⋮ | ⋮ |\n",
       "| 1003427__metabat2__LowNoCov.062 | /ebio/abt3_projects/HUBIF_metagenomics/data/pipelines/llmga_tuk/Cluster1/LLG/round1/drep/drep/dereplicated_genomes/1003427__metabat2__LowNoCov.062.fna |\n",
       "| 1003366__vamb__High.630         | /ebio/abt3_projects/HUBIF_metagenomics/data/pipelines/llmga_tuk/Cluster1/LLG/round1/drep/drep/dereplicated_genomes/1003366__vamb__High.630.fna         |\n",
       "\n"
      ],
      "text/plain": [
       "     Name                           \n",
       "1    1002612__metabat2__Low.081     \n",
       "2    1003472__vamb__Med.888         \n",
       "⋮    ⋮                              \n",
       "5730 1003427__metabat2__LowNoCov.062\n",
       "5731 1003366__vamb__High.630        \n",
       "     Fasta                                                                                                                                                 \n",
       "1    /ebio/abt3_projects/HUBIF_metagenomics/data/pipelines/llmga_tuk/Cluster1/LLG/round1/drep/drep/dereplicated_genomes/1002612__metabat2__Low.081.fna     \n",
       "2    /ebio/abt3_projects/HUBIF_metagenomics/data/pipelines/llmga_tuk/Cluster1/LLG/round1/drep/drep/dereplicated_genomes/1003472__vamb__Med.888.fna         \n",
       "⋮    ⋮                                                                                                                                                     \n",
       "5730 /ebio/abt3_projects/HUBIF_metagenomics/data/pipelines/llmga_tuk/Cluster1/LLG/round1/drep/drep/dereplicated_genomes/1003427__metabat2__LowNoCov.062.fna\n",
       "5731 /ebio/abt3_projects/HUBIF_metagenomics/data/pipelines/llmga_tuk/Cluster1/LLG/round1/drep/drep/dereplicated_genomes/1003366__vamb__High.630.fna        "
      ]
     },
     "metadata": {},
     "output_type": "display_data"
    }
   ],
   "source": [
    "# dRep output\n",
    "F = file.path(D, 'drep', 'dereplicated_genomes.tsv')\n",
    "drep = Fread(F)\n",
    "drep$Name %>% unique_n('MAGs')\n",
    "drep"
   ]
  },
  {
   "cell_type": "code",
   "execution_count": 90,
   "metadata": {
    "ExecuteTime": {
     "end_time": "2021-07-06T14:59:07.637948Z",
     "start_time": "2021-07-06T14:59:07.515Z"
    },
    "scrolled": true
   },
   "outputs": [
    {
     "data": {
      "text/html": [
       "<table class=\"dataframe\">\n",
       "<caption>A tidytable: 6370 × 8</caption>\n",
       "<thead>\n",
       "\t<tr><th scope=col>user_genome</th><th scope=col>Domain</th><th scope=col>Phylum</th><th scope=col>Class</th><th scope=col>Order</th><th scope=col>Family</th><th scope=col>Genus</th><th scope=col>Species</th></tr>\n",
       "\t<tr><th scope=col>&lt;chr&gt;</th><th scope=col>&lt;chr&gt;</th><th scope=col>&lt;chr&gt;</th><th scope=col>&lt;chr&gt;</th><th scope=col>&lt;chr&gt;</th><th scope=col>&lt;chr&gt;</th><th scope=col>&lt;chr&gt;</th><th scope=col>&lt;chr&gt;</th></tr>\n",
       "</thead>\n",
       "<tbody>\n",
       "\t<tr><td>1002325__vamb__Med.516     </td><td>d__Bacteria</td><td>p__Firmicutes_A</td><td>c__Clostridia </td><td>o__Lachnospirales</td><td>f__Lachnospiraceae</td><td>g__Anaerostipes</td><td>s__Anaerostipes hadrus</td></tr>\n",
       "\t<tr><td>1002331__metabat2__High.086</td><td>d__Bacteria</td><td>p__Bacteroidota</td><td>c__Bacteroidia</td><td>o__Bacteroidales </td><td>f__Rikenellaceae  </td><td>g__Alistipes   </td><td>s__Alistipes obesi    </td></tr>\n",
       "\t<tr><td>⋮</td><td>⋮</td><td>⋮</td><td>⋮</td><td>⋮</td><td>⋮</td><td>⋮</td><td>⋮</td></tr>\n",
       "\t<tr><td>1003430__maxbin2__High.037 </td><td>d__Archaea</td><td>p__Methanobacteriota</td><td>c__Methanobacteria</td><td>o__Methanobacteriales</td><td>f__Methanobacteriaceae</td><td>g__Methanobrevibacter_A</td><td>s__Methanobrevibacter_A smithii_A</td></tr>\n",
       "\t<tr><td>1002749__metabat2__High.097</td><td>d__Archaea</td><td>p__Methanobacteriota</td><td>c__Methanobacteria</td><td>o__Methanobacteriales</td><td>f__Methanobacteriaceae</td><td>g__Methanobrevibacter_A</td><td>s__Methanobrevibacter_A smithii  </td></tr>\n",
       "</tbody>\n",
       "</table>\n"
      ],
      "text/latex": [
       "A tidytable: 6370 × 8\n",
       "\\begin{tabular}{llllllll}\n",
       " user\\_genome & Domain & Phylum & Class & Order & Family & Genus & Species\\\\\n",
       " <chr> & <chr> & <chr> & <chr> & <chr> & <chr> & <chr> & <chr>\\\\\n",
       "\\hline\n",
       "\t 1002325\\_\\_vamb\\_\\_Med.516      & d\\_\\_Bacteria & p\\_\\_Firmicutes\\_A & c\\_\\_Clostridia  & o\\_\\_Lachnospirales & f\\_\\_Lachnospiraceae & g\\_\\_Anaerostipes & s\\_\\_Anaerostipes hadrus\\\\\n",
       "\t 1002331\\_\\_metabat2\\_\\_High.086 & d\\_\\_Bacteria & p\\_\\_Bacteroidota & c\\_\\_Bacteroidia & o\\_\\_Bacteroidales  & f\\_\\_Rikenellaceae   & g\\_\\_Alistipes    & s\\_\\_Alistipes obesi    \\\\\n",
       "\t ⋮ & ⋮ & ⋮ & ⋮ & ⋮ & ⋮ & ⋮ & ⋮\\\\\n",
       "\t 1003430\\_\\_maxbin2\\_\\_High.037  & d\\_\\_Archaea & p\\_\\_Methanobacteriota & c\\_\\_Methanobacteria & o\\_\\_Methanobacteriales & f\\_\\_Methanobacteriaceae & g\\_\\_Methanobrevibacter\\_A & s\\_\\_Methanobrevibacter\\_A smithii\\_A\\\\\n",
       "\t 1002749\\_\\_metabat2\\_\\_High.097 & d\\_\\_Archaea & p\\_\\_Methanobacteriota & c\\_\\_Methanobacteria & o\\_\\_Methanobacteriales & f\\_\\_Methanobacteriaceae & g\\_\\_Methanobrevibacter\\_A & s\\_\\_Methanobrevibacter\\_A smithii  \\\\\n",
       "\\end{tabular}\n"
      ],
      "text/markdown": [
       "\n",
       "A tidytable: 6370 × 8\n",
       "\n",
       "| user_genome &lt;chr&gt; | Domain &lt;chr&gt; | Phylum &lt;chr&gt; | Class &lt;chr&gt; | Order &lt;chr&gt; | Family &lt;chr&gt; | Genus &lt;chr&gt; | Species &lt;chr&gt; |\n",
       "|---|---|---|---|---|---|---|---|\n",
       "| 1002325__vamb__Med.516      | d__Bacteria | p__Firmicutes_A | c__Clostridia  | o__Lachnospirales | f__Lachnospiraceae | g__Anaerostipes | s__Anaerostipes hadrus |\n",
       "| 1002331__metabat2__High.086 | d__Bacteria | p__Bacteroidota | c__Bacteroidia | o__Bacteroidales  | f__Rikenellaceae   | g__Alistipes    | s__Alistipes obesi     |\n",
       "| ⋮ | ⋮ | ⋮ | ⋮ | ⋮ | ⋮ | ⋮ | ⋮ |\n",
       "| 1003430__maxbin2__High.037  | d__Archaea | p__Methanobacteriota | c__Methanobacteria | o__Methanobacteriales | f__Methanobacteriaceae | g__Methanobrevibacter_A | s__Methanobrevibacter_A smithii_A |\n",
       "| 1002749__metabat2__High.097 | d__Archaea | p__Methanobacteriota | c__Methanobacteria | o__Methanobacteriales | f__Methanobacteriaceae | g__Methanobrevibacter_A | s__Methanobrevibacter_A smithii   |\n",
       "\n"
      ],
      "text/plain": [
       "     user_genome                 Domain      Phylum              \n",
       "1    1002325__vamb__Med.516      d__Bacteria p__Firmicutes_A     \n",
       "2    1002331__metabat2__High.086 d__Bacteria p__Bacteroidota     \n",
       "⋮    ⋮                           ⋮           ⋮                   \n",
       "6369 1003430__maxbin2__High.037  d__Archaea  p__Methanobacteriota\n",
       "6370 1002749__metabat2__High.097 d__Archaea  p__Methanobacteriota\n",
       "     Class              Order                 Family                \n",
       "1    c__Clostridia      o__Lachnospirales     f__Lachnospiraceae    \n",
       "2    c__Bacteroidia     o__Bacteroidales      f__Rikenellaceae      \n",
       "⋮    ⋮                  ⋮                     ⋮                     \n",
       "6369 c__Methanobacteria o__Methanobacteriales f__Methanobacteriaceae\n",
       "6370 c__Methanobacteria o__Methanobacteriales f__Methanobacteriaceae\n",
       "     Genus                   Species                          \n",
       "1    g__Anaerostipes         s__Anaerostipes hadrus           \n",
       "2    g__Alistipes            s__Alistipes obesi               \n",
       "⋮    ⋮                       ⋮                                \n",
       "6369 g__Methanobrevibacter_A s__Methanobrevibacter_A smithii_A\n",
       "6370 g__Methanobrevibacter_A s__Methanobrevibacter_A smithii  "
      ]
     },
     "metadata": {},
     "output_type": "display_data"
    }
   ],
   "source": [
    "# GTDB-Tk output\n",
    "F = file.path(D, 'gtdbtk', 'gtdbtk_summary.tsv') \n",
    "tax = Fread(F) %>%\n",
    "    select.(user_genome, classification) %>%\n",
    "    separate.(classification, taxonomy_levels(), sep=';')\n",
    "tax"
   ]
  },
  {
   "cell_type": "code",
   "execution_count": 93,
   "metadata": {
    "ExecuteTime": {
     "end_time": "2021-07-06T15:02:05.659027Z",
     "start_time": "2021-07-06T15:02:05.613Z"
    }
   },
   "outputs": [
    {
     "data": {
      "text/plain": [
       ".\n",
       " d__Archaea d__Bacteria \n",
       "         44        6326 "
      ]
     },
     "metadata": {},
     "output_type": "display_data"
    },
    {
     "data": {
      "text/html": [
       "<table class=\"dataframe\">\n",
       "<caption>A tidytable: 4 × 3</caption>\n",
       "<thead>\n",
       "\t<tr><th scope=col>Family</th><th scope=col>Species</th><th scope=col>n</th></tr>\n",
       "\t<tr><th scope=col>&lt;chr&gt;</th><th scope=col>&lt;chr&gt;</th><th scope=col>&lt;int&gt;</th></tr>\n",
       "</thead>\n",
       "<tbody>\n",
       "\t<tr><td>f__Methanobacteriaceae    </td><td>s__Methanobrevibacter_A smithii  </td><td>30</td></tr>\n",
       "\t<tr><td>f__Methanobacteriaceae    </td><td>s__Methanobrevibacter_A smithii_A</td><td>12</td></tr>\n",
       "\t<tr><td>f__Methanomethylophilaceae</td><td>s__Methanomethylophilus alvus    </td><td> 1</td></tr>\n",
       "\t<tr><td>f__Methanomethylophilaceae</td><td>s__UBA71 sp006954465             </td><td> 1</td></tr>\n",
       "</tbody>\n",
       "</table>\n"
      ],
      "text/latex": [
       "A tidytable: 4 × 3\n",
       "\\begin{tabular}{lll}\n",
       " Family & Species & n\\\\\n",
       " <chr> & <chr> & <int>\\\\\n",
       "\\hline\n",
       "\t f\\_\\_Methanobacteriaceae     & s\\_\\_Methanobrevibacter\\_A smithii   & 30\\\\\n",
       "\t f\\_\\_Methanobacteriaceae     & s\\_\\_Methanobrevibacter\\_A smithii\\_A & 12\\\\\n",
       "\t f\\_\\_Methanomethylophilaceae & s\\_\\_Methanomethylophilus alvus     &  1\\\\\n",
       "\t f\\_\\_Methanomethylophilaceae & s\\_\\_UBA71 sp006954465              &  1\\\\\n",
       "\\end{tabular}\n"
      ],
      "text/markdown": [
       "\n",
       "A tidytable: 4 × 3\n",
       "\n",
       "| Family &lt;chr&gt; | Species &lt;chr&gt; | n &lt;int&gt; |\n",
       "|---|---|---|\n",
       "| f__Methanobacteriaceae     | s__Methanobrevibacter_A smithii   | 30 |\n",
       "| f__Methanobacteriaceae     | s__Methanobrevibacter_A smithii_A | 12 |\n",
       "| f__Methanomethylophilaceae | s__Methanomethylophilus alvus     |  1 |\n",
       "| f__Methanomethylophilaceae | s__UBA71 sp006954465              |  1 |\n",
       "\n"
      ],
      "text/plain": [
       "  Family                     Species                           n \n",
       "1 f__Methanobacteriaceae     s__Methanobrevibacter_A smithii   30\n",
       "2 f__Methanobacteriaceae     s__Methanobrevibacter_A smithii_A 12\n",
       "3 f__Methanomethylophilaceae s__Methanomethylophilus alvus      1\n",
       "4 f__Methanomethylophilaceae s__UBA71 sp006954465               1"
      ]
     },
     "metadata": {},
     "output_type": "display_data"
    }
   ],
   "source": [
    "# summary: archaea\n",
    "tax$Domain %>% table\n",
    "tax %>%\n",
    "    filter.(Domain == 'd__Archaea') %>%\n",
    "    summarize.(n = n.(),\n",
    "               .by=c(Family, Species)) "
   ]
  },
  {
   "cell_type": "code",
   "execution_count": 95,
   "metadata": {
    "ExecuteTime": {
     "end_time": "2021-07-06T15:04:41.142954Z",
     "start_time": "2021-07-06T15:04:41.110Z"
    }
   },
   "outputs": [
    {
     "name": "stdout",
     "output_type": "stream",
     "text": [
      "intersect(x,y): 5731 \n",
      "setdiff(x,y): 0 \n",
      "setdiff(y,x): 639 \n",
      "union(x,y): 6370 \n",
      "---\n",
      "intersect(x,y): 5731 \n",
      "setdiff(x,y): 0 \n",
      "setdiff(y,x): 639 \n",
      "union(x,y): 6370 \n"
     ]
    }
   ],
   "source": [
    "# merging\n",
    "overlap(drep$Name, checkm$Bin.Id)\n",
    "cat('---\\n')\n",
    "overlap(drep$Name, tax$user_genome)"
   ]
  },
  {
   "cell_type": "code",
   "execution_count": 96,
   "metadata": {
    "ExecuteTime": {
     "end_time": "2021-07-06T15:05:22.462572Z",
     "start_time": "2021-07-06T15:05:22.376Z"
    }
   },
   "outputs": [
    {
     "data": {
      "text/html": [
       "<table class=\"dataframe\">\n",
       "<caption>A tidytable: 5731 × 41</caption>\n",
       "<thead>\n",
       "\t<tr><th scope=col>Name</th><th scope=col>Fasta</th><th scope=col>Marker.lineage</th><th scope=col>X..genomes</th><th scope=col>X..markers</th><th scope=col>X..marker.sets</th><th scope=col>Completeness</th><th scope=col>Contamination</th><th scope=col>Strain.heterogeneity</th><th scope=col>Genome.size..bp.</th><th scope=col>⋯</th><th scope=col>assembler.Id</th><th scope=col>taxon.Id</th><th scope=col>File</th><th scope=col>Domain</th><th scope=col>Phylum</th><th scope=col>Class</th><th scope=col>Order</th><th scope=col>Family</th><th scope=col>Genus</th><th scope=col>Species</th></tr>\n",
       "\t<tr><th scope=col>&lt;chr&gt;</th><th scope=col>&lt;chr&gt;</th><th scope=col>&lt;chr&gt;</th><th scope=col>&lt;int&gt;</th><th scope=col>&lt;int&gt;</th><th scope=col>&lt;int&gt;</th><th scope=col>&lt;dbl&gt;</th><th scope=col>&lt;dbl&gt;</th><th scope=col>&lt;dbl&gt;</th><th scope=col>&lt;int&gt;</th><th scope=col>⋯</th><th scope=col>&lt;chr&gt;</th><th scope=col>&lt;lgl&gt;</th><th scope=col>&lt;chr&gt;</th><th scope=col>&lt;chr&gt;</th><th scope=col>&lt;chr&gt;</th><th scope=col>&lt;chr&gt;</th><th scope=col>&lt;chr&gt;</th><th scope=col>&lt;chr&gt;</th><th scope=col>&lt;chr&gt;</th><th scope=col>&lt;chr&gt;</th></tr>\n",
       "</thead>\n",
       "<tbody>\n",
       "\t<tr><td>1002325__vamb__Med.516     </td><td>/ebio/abt3_projects/HUBIF_metagenomics/data/pipelines/llmga_tuk/Cluster1/LLG/round1/drep/drep/dereplicated_genomes/1002325__vamb__Med.516.fna     </td><td>o__Clostridiales (UID1212)</td><td>172</td><td>263</td><td>149</td><td>89.21</td><td>2.97</td><td> 0.00</td><td>2113678</td><td>⋯</td><td>markers_qa_summary.tsv.1</td><td>NA</td><td>/ebio/abt3_projects/HUBIF_metagenomics/data/pipelines/llmga_tuk/Cluster1/LLG/round1/checkM/1/checkm/markers_qa_summary.tsv.1</td><td>d__Bacteria</td><td>p__Firmicutes_A</td><td>c__Clostridia </td><td>o__Lachnospirales</td><td>f__Lachnospiraceae</td><td>g__Anaerostipes</td><td>s__Anaerostipes hadrus</td></tr>\n",
       "\t<tr><td>1002331__metabat2__High.086</td><td>/ebio/abt3_projects/HUBIF_metagenomics/data/pipelines/llmga_tuk/Cluster1/LLG/round1/drep/drep/dereplicated_genomes/1002331__metabat2__High.086.fna</td><td>p__Bacteroidetes (UID2605)</td><td>350</td><td>314</td><td>208</td><td>99.44</td><td>3.07</td><td>77.78</td><td>2725983</td><td>⋯</td><td>markers_qa_summary.tsv.2</td><td>NA</td><td>/ebio/abt3_projects/HUBIF_metagenomics/data/pipelines/llmga_tuk/Cluster1/LLG/round1/checkM/1/checkm/markers_qa_summary.tsv.2</td><td>d__Bacteria</td><td>p__Bacteroidota</td><td>c__Bacteroidia</td><td>o__Bacteroidales </td><td>f__Rikenellaceae  </td><td>g__Alistipes   </td><td>s__Alistipes obesi    </td></tr>\n",
       "\t<tr><td>⋮</td><td>⋮</td><td>⋮</td><td>⋮</td><td>⋮</td><td>⋮</td><td>⋮</td><td>⋮</td><td>⋮</td><td>⋮</td><td>⋱</td><td>⋮</td><td>⋮</td><td>⋮</td><td>⋮</td><td>⋮</td><td>⋮</td><td>⋮</td><td>⋮</td><td>⋮</td><td>⋮</td></tr>\n",
       "\t<tr><td>1003430__maxbin2__High.037 </td><td>/ebio/abt3_projects/HUBIF_metagenomics/data/pipelines/llmga_tuk/Cluster1/LLG/round1/drep/drep/dereplicated_genomes/1003430__maxbin2__High.037.fna </td><td>p__Euryarchaeota (UID3)</td><td>148</td><td>188</td><td>125</td><td>100.00</td><td>0.00</td><td>0</td><td>1915799</td><td>⋯</td><td>markers_qa_summary.tsv.102</td><td>NA</td><td>/ebio/abt3_projects/HUBIF_metagenomics/data/pipelines/llmga_tuk/Cluster1/LLG/round1/checkM/46/checkm/markers_qa_summary.tsv.102</td><td>d__Archaea</td><td>p__Methanobacteriota</td><td>c__Methanobacteria</td><td>o__Methanobacteriales</td><td>f__Methanobacteriaceae</td><td>g__Methanobrevibacter_A</td><td>s__Methanobrevibacter_A smithii_A</td></tr>\n",
       "\t<tr><td>1002749__metabat2__High.097</td><td>/ebio/abt3_projects/HUBIF_metagenomics/data/pipelines/llmga_tuk/Cluster1/LLG/round1/drep/drep/dereplicated_genomes/1002749__metabat2__High.097.fna</td><td>p__Euryarchaeota (UID3)</td><td>148</td><td>188</td><td>125</td><td> 84.32</td><td>0.86</td><td>0</td><td>1412917</td><td>⋯</td><td>markers_qa_summary.tsv.42 </td><td>NA</td><td>/ebio/abt3_projects/HUBIF_metagenomics/data/pipelines/llmga_tuk/Cluster1/LLG/round1/checkM/47/checkm/markers_qa_summary.tsv.42 </td><td>d__Archaea</td><td>p__Methanobacteriota</td><td>c__Methanobacteria</td><td>o__Methanobacteriales</td><td>f__Methanobacteriaceae</td><td>g__Methanobrevibacter_A</td><td>s__Methanobrevibacter_A smithii  </td></tr>\n",
       "</tbody>\n",
       "</table>\n"
      ],
      "text/latex": [
       "A tidytable: 5731 × 41\n",
       "\\begin{tabular}{lllllllllllllllllllll}\n",
       " Name & Fasta & Marker.lineage & X..genomes & X..markers & X..marker.sets & Completeness & Contamination & Strain.heterogeneity & Genome.size..bp. & ⋯ & assembler.Id & taxon.Id & File & Domain & Phylum & Class & Order & Family & Genus & Species\\\\\n",
       " <chr> & <chr> & <chr> & <int> & <int> & <int> & <dbl> & <dbl> & <dbl> & <int> & ⋯ & <chr> & <lgl> & <chr> & <chr> & <chr> & <chr> & <chr> & <chr> & <chr> & <chr>\\\\\n",
       "\\hline\n",
       "\t 1002325\\_\\_vamb\\_\\_Med.516      & /ebio/abt3\\_projects/HUBIF\\_metagenomics/data/pipelines/llmga\\_tuk/Cluster1/LLG/round1/drep/drep/dereplicated\\_genomes/1002325\\_\\_vamb\\_\\_Med.516.fna      & o\\_\\_Clostridiales (UID1212) & 172 & 263 & 149 & 89.21 & 2.97 &  0.00 & 2113678 & ⋯ & markers\\_qa\\_summary.tsv.1 & NA & /ebio/abt3\\_projects/HUBIF\\_metagenomics/data/pipelines/llmga\\_tuk/Cluster1/LLG/round1/checkM/1/checkm/markers\\_qa\\_summary.tsv.1 & d\\_\\_Bacteria & p\\_\\_Firmicutes\\_A & c\\_\\_Clostridia  & o\\_\\_Lachnospirales & f\\_\\_Lachnospiraceae & g\\_\\_Anaerostipes & s\\_\\_Anaerostipes hadrus\\\\\n",
       "\t 1002331\\_\\_metabat2\\_\\_High.086 & /ebio/abt3\\_projects/HUBIF\\_metagenomics/data/pipelines/llmga\\_tuk/Cluster1/LLG/round1/drep/drep/dereplicated\\_genomes/1002331\\_\\_metabat2\\_\\_High.086.fna & p\\_\\_Bacteroidetes (UID2605) & 350 & 314 & 208 & 99.44 & 3.07 & 77.78 & 2725983 & ⋯ & markers\\_qa\\_summary.tsv.2 & NA & /ebio/abt3\\_projects/HUBIF\\_metagenomics/data/pipelines/llmga\\_tuk/Cluster1/LLG/round1/checkM/1/checkm/markers\\_qa\\_summary.tsv.2 & d\\_\\_Bacteria & p\\_\\_Bacteroidota & c\\_\\_Bacteroidia & o\\_\\_Bacteroidales  & f\\_\\_Rikenellaceae   & g\\_\\_Alistipes    & s\\_\\_Alistipes obesi    \\\\\n",
       "\t ⋮ & ⋮ & ⋮ & ⋮ & ⋮ & ⋮ & ⋮ & ⋮ & ⋮ & ⋮ & ⋱ & ⋮ & ⋮ & ⋮ & ⋮ & ⋮ & ⋮ & ⋮ & ⋮ & ⋮ & ⋮\\\\\n",
       "\t 1003430\\_\\_maxbin2\\_\\_High.037  & /ebio/abt3\\_projects/HUBIF\\_metagenomics/data/pipelines/llmga\\_tuk/Cluster1/LLG/round1/drep/drep/dereplicated\\_genomes/1003430\\_\\_maxbin2\\_\\_High.037.fna  & p\\_\\_Euryarchaeota (UID3) & 148 & 188 & 125 & 100.00 & 0.00 & 0 & 1915799 & ⋯ & markers\\_qa\\_summary.tsv.102 & NA & /ebio/abt3\\_projects/HUBIF\\_metagenomics/data/pipelines/llmga\\_tuk/Cluster1/LLG/round1/checkM/46/checkm/markers\\_qa\\_summary.tsv.102 & d\\_\\_Archaea & p\\_\\_Methanobacteriota & c\\_\\_Methanobacteria & o\\_\\_Methanobacteriales & f\\_\\_Methanobacteriaceae & g\\_\\_Methanobrevibacter\\_A & s\\_\\_Methanobrevibacter\\_A smithii\\_A\\\\\n",
       "\t 1002749\\_\\_metabat2\\_\\_High.097 & /ebio/abt3\\_projects/HUBIF\\_metagenomics/data/pipelines/llmga\\_tuk/Cluster1/LLG/round1/drep/drep/dereplicated\\_genomes/1002749\\_\\_metabat2\\_\\_High.097.fna & p\\_\\_Euryarchaeota (UID3) & 148 & 188 & 125 &  84.32 & 0.86 & 0 & 1412917 & ⋯ & markers\\_qa\\_summary.tsv.42  & NA & /ebio/abt3\\_projects/HUBIF\\_metagenomics/data/pipelines/llmga\\_tuk/Cluster1/LLG/round1/checkM/47/checkm/markers\\_qa\\_summary.tsv.42  & d\\_\\_Archaea & p\\_\\_Methanobacteriota & c\\_\\_Methanobacteria & o\\_\\_Methanobacteriales & f\\_\\_Methanobacteriaceae & g\\_\\_Methanobrevibacter\\_A & s\\_\\_Methanobrevibacter\\_A smithii  \\\\\n",
       "\\end{tabular}\n"
      ],
      "text/markdown": [
       "\n",
       "A tidytable: 5731 × 41\n",
       "\n",
       "| Name &lt;chr&gt; | Fasta &lt;chr&gt; | Marker.lineage &lt;chr&gt; | X..genomes &lt;int&gt; | X..markers &lt;int&gt; | X..marker.sets &lt;int&gt; | Completeness &lt;dbl&gt; | Contamination &lt;dbl&gt; | Strain.heterogeneity &lt;dbl&gt; | Genome.size..bp. &lt;int&gt; | ⋯ ⋯ | assembler.Id &lt;chr&gt; | taxon.Id &lt;lgl&gt; | File &lt;chr&gt; | Domain &lt;chr&gt; | Phylum &lt;chr&gt; | Class &lt;chr&gt; | Order &lt;chr&gt; | Family &lt;chr&gt; | Genus &lt;chr&gt; | Species &lt;chr&gt; |\n",
       "|---|---|---|---|---|---|---|---|---|---|---|---|---|---|---|---|---|---|---|---|---|\n",
       "| 1002325__vamb__Med.516      | /ebio/abt3_projects/HUBIF_metagenomics/data/pipelines/llmga_tuk/Cluster1/LLG/round1/drep/drep/dereplicated_genomes/1002325__vamb__Med.516.fna      | o__Clostridiales (UID1212) | 172 | 263 | 149 | 89.21 | 2.97 |  0.00 | 2113678 | ⋯ | markers_qa_summary.tsv.1 | NA | /ebio/abt3_projects/HUBIF_metagenomics/data/pipelines/llmga_tuk/Cluster1/LLG/round1/checkM/1/checkm/markers_qa_summary.tsv.1 | d__Bacteria | p__Firmicutes_A | c__Clostridia  | o__Lachnospirales | f__Lachnospiraceae | g__Anaerostipes | s__Anaerostipes hadrus |\n",
       "| 1002331__metabat2__High.086 | /ebio/abt3_projects/HUBIF_metagenomics/data/pipelines/llmga_tuk/Cluster1/LLG/round1/drep/drep/dereplicated_genomes/1002331__metabat2__High.086.fna | p__Bacteroidetes (UID2605) | 350 | 314 | 208 | 99.44 | 3.07 | 77.78 | 2725983 | ⋯ | markers_qa_summary.tsv.2 | NA | /ebio/abt3_projects/HUBIF_metagenomics/data/pipelines/llmga_tuk/Cluster1/LLG/round1/checkM/1/checkm/markers_qa_summary.tsv.2 | d__Bacteria | p__Bacteroidota | c__Bacteroidia | o__Bacteroidales  | f__Rikenellaceae   | g__Alistipes    | s__Alistipes obesi     |\n",
       "| ⋮ | ⋮ | ⋮ | ⋮ | ⋮ | ⋮ | ⋮ | ⋮ | ⋮ | ⋮ | ⋱ | ⋮ | ⋮ | ⋮ | ⋮ | ⋮ | ⋮ | ⋮ | ⋮ | ⋮ | ⋮ |\n",
       "| 1003430__maxbin2__High.037  | /ebio/abt3_projects/HUBIF_metagenomics/data/pipelines/llmga_tuk/Cluster1/LLG/round1/drep/drep/dereplicated_genomes/1003430__maxbin2__High.037.fna  | p__Euryarchaeota (UID3) | 148 | 188 | 125 | 100.00 | 0.00 | 0 | 1915799 | ⋯ | markers_qa_summary.tsv.102 | NA | /ebio/abt3_projects/HUBIF_metagenomics/data/pipelines/llmga_tuk/Cluster1/LLG/round1/checkM/46/checkm/markers_qa_summary.tsv.102 | d__Archaea | p__Methanobacteriota | c__Methanobacteria | o__Methanobacteriales | f__Methanobacteriaceae | g__Methanobrevibacter_A | s__Methanobrevibacter_A smithii_A |\n",
       "| 1002749__metabat2__High.097 | /ebio/abt3_projects/HUBIF_metagenomics/data/pipelines/llmga_tuk/Cluster1/LLG/round1/drep/drep/dereplicated_genomes/1002749__metabat2__High.097.fna | p__Euryarchaeota (UID3) | 148 | 188 | 125 |  84.32 | 0.86 | 0 | 1412917 | ⋯ | markers_qa_summary.tsv.42  | NA | /ebio/abt3_projects/HUBIF_metagenomics/data/pipelines/llmga_tuk/Cluster1/LLG/round1/checkM/47/checkm/markers_qa_summary.tsv.42  | d__Archaea | p__Methanobacteriota | c__Methanobacteria | o__Methanobacteriales | f__Methanobacteriaceae | g__Methanobrevibacter_A | s__Methanobrevibacter_A smithii   |\n",
       "\n"
      ],
      "text/plain": [
       "     Name                       \n",
       "1    1002325__vamb__Med.516     \n",
       "2    1002331__metabat2__High.086\n",
       "⋮    ⋮                          \n",
       "5730 1003430__maxbin2__High.037 \n",
       "5731 1002749__metabat2__High.097\n",
       "     Fasta                                                                                                                                             \n",
       "1    /ebio/abt3_projects/HUBIF_metagenomics/data/pipelines/llmga_tuk/Cluster1/LLG/round1/drep/drep/dereplicated_genomes/1002325__vamb__Med.516.fna     \n",
       "2    /ebio/abt3_projects/HUBIF_metagenomics/data/pipelines/llmga_tuk/Cluster1/LLG/round1/drep/drep/dereplicated_genomes/1002331__metabat2__High.086.fna\n",
       "⋮    ⋮                                                                                                                                                 \n",
       "5730 /ebio/abt3_projects/HUBIF_metagenomics/data/pipelines/llmga_tuk/Cluster1/LLG/round1/drep/drep/dereplicated_genomes/1003430__maxbin2__High.037.fna \n",
       "5731 /ebio/abt3_projects/HUBIF_metagenomics/data/pipelines/llmga_tuk/Cluster1/LLG/round1/drep/drep/dereplicated_genomes/1002749__metabat2__High.097.fna\n",
       "     Marker.lineage             X..genomes X..markers X..marker.sets\n",
       "1    o__Clostridiales (UID1212) 172        263        149           \n",
       "2    p__Bacteroidetes (UID2605) 350        314        208           \n",
       "⋮    ⋮                          ⋮          ⋮          ⋮             \n",
       "5730 p__Euryarchaeota (UID3)    148        188        125           \n",
       "5731 p__Euryarchaeota (UID3)    148        188        125           \n",
       "     Completeness Contamination Strain.heterogeneity Genome.size..bp. ⋯\n",
       "1    89.21        2.97           0.00                2113678          ⋯\n",
       "2    99.44        3.07          77.78                2725983          ⋯\n",
       "⋮    ⋮            ⋮             ⋮                    ⋮                ⋱\n",
       "5730 100.00       0.00          0                    1915799          ⋯\n",
       "5731  84.32       0.86          0                    1412917          ⋯\n",
       "     assembler.Id               taxon.Id\n",
       "1    markers_qa_summary.tsv.1   NA      \n",
       "2    markers_qa_summary.tsv.2   NA      \n",
       "⋮    ⋮                          ⋮       \n",
       "5730 markers_qa_summary.tsv.102 NA      \n",
       "5731 markers_qa_summary.tsv.42  NA      \n",
       "     File                                                                                                                           \n",
       "1    /ebio/abt3_projects/HUBIF_metagenomics/data/pipelines/llmga_tuk/Cluster1/LLG/round1/checkM/1/checkm/markers_qa_summary.tsv.1   \n",
       "2    /ebio/abt3_projects/HUBIF_metagenomics/data/pipelines/llmga_tuk/Cluster1/LLG/round1/checkM/1/checkm/markers_qa_summary.tsv.2   \n",
       "⋮    ⋮                                                                                                                              \n",
       "5730 /ebio/abt3_projects/HUBIF_metagenomics/data/pipelines/llmga_tuk/Cluster1/LLG/round1/checkM/46/checkm/markers_qa_summary.tsv.102\n",
       "5731 /ebio/abt3_projects/HUBIF_metagenomics/data/pipelines/llmga_tuk/Cluster1/LLG/round1/checkM/47/checkm/markers_qa_summary.tsv.42 \n",
       "     Domain      Phylum               Class              Order                \n",
       "1    d__Bacteria p__Firmicutes_A      c__Clostridia      o__Lachnospirales    \n",
       "2    d__Bacteria p__Bacteroidota      c__Bacteroidia     o__Bacteroidales     \n",
       "⋮    ⋮           ⋮                    ⋮                  ⋮                    \n",
       "5730 d__Archaea  p__Methanobacteriota c__Methanobacteria o__Methanobacteriales\n",
       "5731 d__Archaea  p__Methanobacteriota c__Methanobacteria o__Methanobacteriales\n",
       "     Family                 Genus                  \n",
       "1    f__Lachnospiraceae     g__Anaerostipes        \n",
       "2    f__Rikenellaceae       g__Alistipes           \n",
       "⋮    ⋮                      ⋮                      \n",
       "5730 f__Methanobacteriaceae g__Methanobrevibacter_A\n",
       "5731 f__Methanobacteriaceae g__Methanobrevibacter_A\n",
       "     Species                          \n",
       "1    s__Anaerostipes hadrus           \n",
       "2    s__Alistipes obesi               \n",
       "⋮    ⋮                                \n",
       "5730 s__Methanobrevibacter_A smithii_A\n",
       "5731 s__Methanobrevibacter_A smithii  "
      ]
     },
     "metadata": {},
     "output_type": "display_data"
    }
   ],
   "source": [
    "# merging\n",
    "drep = drep %>%\n",
    "    inner_join.(checkm, c('Name'='Bin.Id')) %>%\n",
    "    inner_join.(tax, c('Name'='user_genome'))\n",
    "drep"
   ]
  },
  {
   "cell_type": "markdown",
   "metadata": {},
   "source": [
    "# target species\n",
    "\n",
    "* Which MAGs have taxonomic classification for the target species?"
   ]
  },
  {
   "cell_type": "code",
   "execution_count": 97,
   "metadata": {
    "ExecuteTime": {
     "end_time": "2021-07-06T15:05:51.103624Z",
     "start_time": "2021-07-06T15:05:50.829Z"
    }
   },
   "outputs": [
    {
     "name": "stdout",
     "output_type": "stream",
     "text": [
      "intersect(x,y): 36 \n",
      "setdiff(x,y): 5 \n",
      "setdiff(y,x): 661 \n",
      "union(x,y): 702 \n"
     ]
    }
   ],
   "source": [
    "# checking overlap\n",
    "overlap(stringr::str_to_lower(cophylo_spec$Species), \n",
    "        stringr::str_to_lower(drep$Species) %>% gsub('^s__', '', .))"
   ]
  },
  {
   "cell_type": "code",
   "execution_count": 98,
   "metadata": {
    "ExecuteTime": {
     "end_time": "2021-07-06T15:06:03.217893Z",
     "start_time": "2021-07-06T15:06:03.188Z"
    }
   },
   "outputs": [
    {
     "data": {
      "text/html": [
       "<style>\n",
       ".list-inline {list-style: none; margin:0; padding: 0}\n",
       ".list-inline>li {display: inline-block}\n",
       ".list-inline>li:not(:last-child)::after {content: \"\\00b7\"; padding: 0 .5ex}\n",
       "</style>\n",
       "<ol class=list-inline><li>NA</li><li>'holdemanella biformis'</li><li>'dysosmobacter sp001916835'</li><li>'bifidobacterium kashiwanohense'</li><li>'veillonella atypica'</li></ol>\n"
      ],
      "text/latex": [
       "\\begin{enumerate*}\n",
       "\\item NA\n",
       "\\item 'holdemanella biformis'\n",
       "\\item 'dysosmobacter sp001916835'\n",
       "\\item 'bifidobacterium kashiwanohense'\n",
       "\\item 'veillonella atypica'\n",
       "\\end{enumerate*}\n"
      ],
      "text/markdown": [
       "1. NA\n",
       "2. 'holdemanella biformis'\n",
       "3. 'dysosmobacter sp001916835'\n",
       "4. 'bifidobacterium kashiwanohense'\n",
       "5. 'veillonella atypica'\n",
       "\n",
       "\n"
      ],
      "text/plain": [
       "[1] NA                               \"holdemanella biformis\"         \n",
       "[3] \"dysosmobacter sp001916835\"      \"bifidobacterium kashiwanohense\"\n",
       "[5] \"veillonella atypica\"           "
      ]
     },
     "metadata": {},
     "output_type": "display_data"
    }
   ],
   "source": [
    "# which target species not found?\n",
    "overlap(stringr::str_to_lower(cophylo_spec$Species), \n",
    "        stringr::str_to_lower(drep$Species) %>% gsub('^s__', '', .),\n",
    "        diff='x')"
   ]
  },
  {
   "cell_type": "code",
   "execution_count": 101,
   "metadata": {
    "ExecuteTime": {
     "end_time": "2021-07-06T15:06:49.531560Z",
     "start_time": "2021-07-06T15:06:49.457Z"
    }
   },
   "outputs": [
    {
     "name": "stdout",
     "output_type": "stream",
     "text": [
      "No. of unique MAGs: 1376 \n"
     ]
    },
    {
     "data": {
      "text/html": [
       "<table class=\"dataframe\">\n",
       "<caption>A tidytable: 1793 × 43</caption>\n",
       "<thead>\n",
       "\t<tr><th scope=col>genome</th><th scope=col>Fasta</th><th scope=col>Marker.lineage</th><th scope=col>X..genomes</th><th scope=col>X..markers</th><th scope=col>X..marker.sets</th><th scope=col>Completeness</th><th scope=col>Contamination</th><th scope=col>Strain.heterogeneity</th><th scope=col>Genome.size..bp.</th><th scope=col>⋯</th><th scope=col>File</th><th scope=col>Domain</th><th scope=col>Phylum</th><th scope=col>Class</th><th scope=col>Order</th><th scope=col>Family</th><th scope=col>Genus</th><th scope=col>Species</th><th scope=col>spec</th><th scope=col>age_group</th></tr>\n",
       "\t<tr><th scope=col>&lt;chr&gt;</th><th scope=col>&lt;chr&gt;</th><th scope=col>&lt;chr&gt;</th><th scope=col>&lt;int&gt;</th><th scope=col>&lt;int&gt;</th><th scope=col>&lt;int&gt;</th><th scope=col>&lt;dbl&gt;</th><th scope=col>&lt;dbl&gt;</th><th scope=col>&lt;dbl&gt;</th><th scope=col>&lt;int&gt;</th><th scope=col>⋯</th><th scope=col>&lt;chr&gt;</th><th scope=col>&lt;chr&gt;</th><th scope=col>&lt;chr&gt;</th><th scope=col>&lt;chr&gt;</th><th scope=col>&lt;chr&gt;</th><th scope=col>&lt;chr&gt;</th><th scope=col>&lt;chr&gt;</th><th scope=col>&lt;chr&gt;</th><th scope=col>&lt;chr&gt;</th><th scope=col>&lt;chr&gt;</th></tr>\n",
       "</thead>\n",
       "<tbody>\n",
       "\t<tr><td>1002525__metabat2__Med.011</td><td>/ebio/abt3_projects/HUBIF_metagenomics/data/pipelines/llmga_tuk/Cluster1/LLG/round1/drep/drep/dereplicated_genomes/1002525__metabat2__Med.011.fna</td><td>k__Bacteria (UID2372)</td><td>131</td><td>177</td><td>106</td><td>99.06</td><td>0.94</td><td>0</td><td>2213587</td><td>⋯</td><td>/ebio/abt3_projects/HUBIF_metagenomics/data/pipelines/llmga_tuk/Cluster1/LLG/round1/checkM/19/checkm/markers_qa_summary.tsv.34 </td><td>d__Bacteria</td><td>p__Firmicutes</td><td>c__Bacilli</td><td>o__Erysipelotrichales</td><td>f__Erysipelatoclostridiaceae</td><td>g__Catenibacterium</td><td>s__Catenibacterium mitsuokai</td><td>catenibacterium mitsuokai</td><td>adult</td></tr>\n",
       "\t<tr><td>1003472__vamb__Low.143    </td><td>/ebio/abt3_projects/HUBIF_metagenomics/data/pipelines/llmga_tuk/Cluster1/LLG/round1/drep/drep/dereplicated_genomes/1003472__vamb__Low.143.fna    </td><td>k__Bacteria (UID2372)</td><td>131</td><td>177</td><td>106</td><td>98.11</td><td>0.00</td><td>0</td><td>2162235</td><td>⋯</td><td>/ebio/abt3_projects/HUBIF_metagenomics/data/pipelines/llmga_tuk/Cluster1/LLG/round1/checkM/23/checkm/markers_qa_summary.tsv.111</td><td>d__Bacteria</td><td>p__Firmicutes</td><td>c__Bacilli</td><td>o__Erysipelotrichales</td><td>f__Erysipelatoclostridiaceae</td><td>g__Catenibacterium</td><td>s__Catenibacterium mitsuokai</td><td>catenibacterium mitsuokai</td><td>adult</td></tr>\n",
       "\t<tr><td>⋮</td><td>⋮</td><td>⋮</td><td>⋮</td><td>⋮</td><td>⋮</td><td>⋮</td><td>⋮</td><td>⋮</td><td>⋮</td><td>⋱</td><td>⋮</td><td>⋮</td><td>⋮</td><td>⋮</td><td>⋮</td><td>⋮</td><td>⋮</td><td>⋮</td><td>⋮</td><td>⋮</td></tr>\n",
       "\t<tr><td>1003424__vamb__High.7617     </td><td>/ebio/abt3_projects/HUBIF_metagenomics/data/pipelines/llmga_tuk/Cluster1/LLG/round1/drep/drep/dereplicated_genomes/1003424__vamb__High.7617.fna     </td><td>o__Clostridiales (UID1226)</td><td>155</td><td>278</td><td>158</td><td>91.79</td><td>0.63</td><td>0</td><td>2297931</td><td>⋯</td><td>/ebio/abt3_projects/HUBIF_metagenomics/data/pipelines/llmga_tuk/Cluster1/LLG/round1/checkM/48/checkm/markers_qa_summary.tsv.93</td><td>d__Bacteria</td><td>p__Firmicutes_A</td><td>c__Clostridia</td><td>o__Lachnospirales</td><td>f__Lachnospiraceae</td><td>g__Blautia_A</td><td>s__Blautia_A wexlerae</td><td>blautia_a wexlerae</td><td>infant</td></tr>\n",
       "\t<tr><td>1002730__maxbin2__Low.106_sub</td><td>/ebio/abt3_projects/HUBIF_metagenomics/data/pipelines/llmga_tuk/Cluster1/LLG/round1/drep/drep/dereplicated_genomes/1002730__maxbin2__Low.106_sub.fna</td><td>o__Clostridiales (UID1226)</td><td>155</td><td>278</td><td>158</td><td>77.82</td><td>0.06</td><td>0</td><td>2190857</td><td>⋯</td><td>/ebio/abt3_projects/HUBIF_metagenomics/data/pipelines/llmga_tuk/Cluster1/LLG/round1/checkM/50/checkm/markers_qa_summary.tsv.41</td><td>d__Bacteria</td><td>p__Firmicutes_A</td><td>c__Clostridia</td><td>o__Lachnospirales</td><td>f__Lachnospiraceae</td><td>g__Blautia_A</td><td>s__Blautia_A wexlerae</td><td>blautia_a wexlerae</td><td>infant</td></tr>\n",
       "</tbody>\n",
       "</table>\n"
      ],
      "text/latex": [
       "A tidytable: 1793 × 43\n",
       "\\begin{tabular}{lllllllllllllllllllll}\n",
       " genome & Fasta & Marker.lineage & X..genomes & X..markers & X..marker.sets & Completeness & Contamination & Strain.heterogeneity & Genome.size..bp. & ⋯ & File & Domain & Phylum & Class & Order & Family & Genus & Species & spec & age\\_group\\\\\n",
       " <chr> & <chr> & <chr> & <int> & <int> & <int> & <dbl> & <dbl> & <dbl> & <int> & ⋯ & <chr> & <chr> & <chr> & <chr> & <chr> & <chr> & <chr> & <chr> & <chr> & <chr>\\\\\n",
       "\\hline\n",
       "\t 1002525\\_\\_metabat2\\_\\_Med.011 & /ebio/abt3\\_projects/HUBIF\\_metagenomics/data/pipelines/llmga\\_tuk/Cluster1/LLG/round1/drep/drep/dereplicated\\_genomes/1002525\\_\\_metabat2\\_\\_Med.011.fna & k\\_\\_Bacteria (UID2372) & 131 & 177 & 106 & 99.06 & 0.94 & 0 & 2213587 & ⋯ & /ebio/abt3\\_projects/HUBIF\\_metagenomics/data/pipelines/llmga\\_tuk/Cluster1/LLG/round1/checkM/19/checkm/markers\\_qa\\_summary.tsv.34  & d\\_\\_Bacteria & p\\_\\_Firmicutes & c\\_\\_Bacilli & o\\_\\_Erysipelotrichales & f\\_\\_Erysipelatoclostridiaceae & g\\_\\_Catenibacterium & s\\_\\_Catenibacterium mitsuokai & catenibacterium mitsuokai & adult\\\\\n",
       "\t 1003472\\_\\_vamb\\_\\_Low.143     & /ebio/abt3\\_projects/HUBIF\\_metagenomics/data/pipelines/llmga\\_tuk/Cluster1/LLG/round1/drep/drep/dereplicated\\_genomes/1003472\\_\\_vamb\\_\\_Low.143.fna     & k\\_\\_Bacteria (UID2372) & 131 & 177 & 106 & 98.11 & 0.00 & 0 & 2162235 & ⋯ & /ebio/abt3\\_projects/HUBIF\\_metagenomics/data/pipelines/llmga\\_tuk/Cluster1/LLG/round1/checkM/23/checkm/markers\\_qa\\_summary.tsv.111 & d\\_\\_Bacteria & p\\_\\_Firmicutes & c\\_\\_Bacilli & o\\_\\_Erysipelotrichales & f\\_\\_Erysipelatoclostridiaceae & g\\_\\_Catenibacterium & s\\_\\_Catenibacterium mitsuokai & catenibacterium mitsuokai & adult\\\\\n",
       "\t ⋮ & ⋮ & ⋮ & ⋮ & ⋮ & ⋮ & ⋮ & ⋮ & ⋮ & ⋮ & ⋱ & ⋮ & ⋮ & ⋮ & ⋮ & ⋮ & ⋮ & ⋮ & ⋮ & ⋮ & ⋮\\\\\n",
       "\t 1003424\\_\\_vamb\\_\\_High.7617      & /ebio/abt3\\_projects/HUBIF\\_metagenomics/data/pipelines/llmga\\_tuk/Cluster1/LLG/round1/drep/drep/dereplicated\\_genomes/1003424\\_\\_vamb\\_\\_High.7617.fna      & o\\_\\_Clostridiales (UID1226) & 155 & 278 & 158 & 91.79 & 0.63 & 0 & 2297931 & ⋯ & /ebio/abt3\\_projects/HUBIF\\_metagenomics/data/pipelines/llmga\\_tuk/Cluster1/LLG/round1/checkM/48/checkm/markers\\_qa\\_summary.tsv.93 & d\\_\\_Bacteria & p\\_\\_Firmicutes\\_A & c\\_\\_Clostridia & o\\_\\_Lachnospirales & f\\_\\_Lachnospiraceae & g\\_\\_Blautia\\_A & s\\_\\_Blautia\\_A wexlerae & blautia\\_a wexlerae & infant\\\\\n",
       "\t 1002730\\_\\_maxbin2\\_\\_Low.106\\_sub & /ebio/abt3\\_projects/HUBIF\\_metagenomics/data/pipelines/llmga\\_tuk/Cluster1/LLG/round1/drep/drep/dereplicated\\_genomes/1002730\\_\\_maxbin2\\_\\_Low.106\\_sub.fna & o\\_\\_Clostridiales (UID1226) & 155 & 278 & 158 & 77.82 & 0.06 & 0 & 2190857 & ⋯ & /ebio/abt3\\_projects/HUBIF\\_metagenomics/data/pipelines/llmga\\_tuk/Cluster1/LLG/round1/checkM/50/checkm/markers\\_qa\\_summary.tsv.41 & d\\_\\_Bacteria & p\\_\\_Firmicutes\\_A & c\\_\\_Clostridia & o\\_\\_Lachnospirales & f\\_\\_Lachnospiraceae & g\\_\\_Blautia\\_A & s\\_\\_Blautia\\_A wexlerae & blautia\\_a wexlerae & infant\\\\\n",
       "\\end{tabular}\n"
      ],
      "text/markdown": [
       "\n",
       "A tidytable: 1793 × 43\n",
       "\n",
       "| genome &lt;chr&gt; | Fasta &lt;chr&gt; | Marker.lineage &lt;chr&gt; | X..genomes &lt;int&gt; | X..markers &lt;int&gt; | X..marker.sets &lt;int&gt; | Completeness &lt;dbl&gt; | Contamination &lt;dbl&gt; | Strain.heterogeneity &lt;dbl&gt; | Genome.size..bp. &lt;int&gt; | ⋯ ⋯ | File &lt;chr&gt; | Domain &lt;chr&gt; | Phylum &lt;chr&gt; | Class &lt;chr&gt; | Order &lt;chr&gt; | Family &lt;chr&gt; | Genus &lt;chr&gt; | Species &lt;chr&gt; | spec &lt;chr&gt; | age_group &lt;chr&gt; |\n",
       "|---|---|---|---|---|---|---|---|---|---|---|---|---|---|---|---|---|---|---|---|---|\n",
       "| 1002525__metabat2__Med.011 | /ebio/abt3_projects/HUBIF_metagenomics/data/pipelines/llmga_tuk/Cluster1/LLG/round1/drep/drep/dereplicated_genomes/1002525__metabat2__Med.011.fna | k__Bacteria (UID2372) | 131 | 177 | 106 | 99.06 | 0.94 | 0 | 2213587 | ⋯ | /ebio/abt3_projects/HUBIF_metagenomics/data/pipelines/llmga_tuk/Cluster1/LLG/round1/checkM/19/checkm/markers_qa_summary.tsv.34  | d__Bacteria | p__Firmicutes | c__Bacilli | o__Erysipelotrichales | f__Erysipelatoclostridiaceae | g__Catenibacterium | s__Catenibacterium mitsuokai | catenibacterium mitsuokai | adult |\n",
       "| 1003472__vamb__Low.143     | /ebio/abt3_projects/HUBIF_metagenomics/data/pipelines/llmga_tuk/Cluster1/LLG/round1/drep/drep/dereplicated_genomes/1003472__vamb__Low.143.fna     | k__Bacteria (UID2372) | 131 | 177 | 106 | 98.11 | 0.00 | 0 | 2162235 | ⋯ | /ebio/abt3_projects/HUBIF_metagenomics/data/pipelines/llmga_tuk/Cluster1/LLG/round1/checkM/23/checkm/markers_qa_summary.tsv.111 | d__Bacteria | p__Firmicutes | c__Bacilli | o__Erysipelotrichales | f__Erysipelatoclostridiaceae | g__Catenibacterium | s__Catenibacterium mitsuokai | catenibacterium mitsuokai | adult |\n",
       "| ⋮ | ⋮ | ⋮ | ⋮ | ⋮ | ⋮ | ⋮ | ⋮ | ⋮ | ⋮ | ⋱ | ⋮ | ⋮ | ⋮ | ⋮ | ⋮ | ⋮ | ⋮ | ⋮ | ⋮ | ⋮ |\n",
       "| 1003424__vamb__High.7617      | /ebio/abt3_projects/HUBIF_metagenomics/data/pipelines/llmga_tuk/Cluster1/LLG/round1/drep/drep/dereplicated_genomes/1003424__vamb__High.7617.fna      | o__Clostridiales (UID1226) | 155 | 278 | 158 | 91.79 | 0.63 | 0 | 2297931 | ⋯ | /ebio/abt3_projects/HUBIF_metagenomics/data/pipelines/llmga_tuk/Cluster1/LLG/round1/checkM/48/checkm/markers_qa_summary.tsv.93 | d__Bacteria | p__Firmicutes_A | c__Clostridia | o__Lachnospirales | f__Lachnospiraceae | g__Blautia_A | s__Blautia_A wexlerae | blautia_a wexlerae | infant |\n",
       "| 1002730__maxbin2__Low.106_sub | /ebio/abt3_projects/HUBIF_metagenomics/data/pipelines/llmga_tuk/Cluster1/LLG/round1/drep/drep/dereplicated_genomes/1002730__maxbin2__Low.106_sub.fna | o__Clostridiales (UID1226) | 155 | 278 | 158 | 77.82 | 0.06 | 0 | 2190857 | ⋯ | /ebio/abt3_projects/HUBIF_metagenomics/data/pipelines/llmga_tuk/Cluster1/LLG/round1/checkM/50/checkm/markers_qa_summary.tsv.41 | d__Bacteria | p__Firmicutes_A | c__Clostridia | o__Lachnospirales | f__Lachnospiraceae | g__Blautia_A | s__Blautia_A wexlerae | blautia_a wexlerae | infant |\n",
       "\n"
      ],
      "text/plain": [
       "     genome                       \n",
       "1    1002525__metabat2__Med.011   \n",
       "2    1003472__vamb__Low.143       \n",
       "⋮    ⋮                            \n",
       "1792 1003424__vamb__High.7617     \n",
       "1793 1002730__maxbin2__Low.106_sub\n",
       "     Fasta                                                                                                                                               \n",
       "1    /ebio/abt3_projects/HUBIF_metagenomics/data/pipelines/llmga_tuk/Cluster1/LLG/round1/drep/drep/dereplicated_genomes/1002525__metabat2__Med.011.fna   \n",
       "2    /ebio/abt3_projects/HUBIF_metagenomics/data/pipelines/llmga_tuk/Cluster1/LLG/round1/drep/drep/dereplicated_genomes/1003472__vamb__Low.143.fna       \n",
       "⋮    ⋮                                                                                                                                                   \n",
       "1792 /ebio/abt3_projects/HUBIF_metagenomics/data/pipelines/llmga_tuk/Cluster1/LLG/round1/drep/drep/dereplicated_genomes/1003424__vamb__High.7617.fna     \n",
       "1793 /ebio/abt3_projects/HUBIF_metagenomics/data/pipelines/llmga_tuk/Cluster1/LLG/round1/drep/drep/dereplicated_genomes/1002730__maxbin2__Low.106_sub.fna\n",
       "     Marker.lineage             X..genomes X..markers X..marker.sets\n",
       "1    k__Bacteria (UID2372)      131        177        106           \n",
       "2    k__Bacteria (UID2372)      131        177        106           \n",
       "⋮    ⋮                          ⋮          ⋮          ⋮             \n",
       "1792 o__Clostridiales (UID1226) 155        278        158           \n",
       "1793 o__Clostridiales (UID1226) 155        278        158           \n",
       "     Completeness Contamination Strain.heterogeneity Genome.size..bp. ⋯\n",
       "1    99.06        0.94          0                    2213587          ⋯\n",
       "2    98.11        0.00          0                    2162235          ⋯\n",
       "⋮    ⋮            ⋮             ⋮                    ⋮                ⋱\n",
       "1792 91.79        0.63          0                    2297931          ⋯\n",
       "1793 77.82        0.06          0                    2190857          ⋯\n",
       "     File                                                                                                                           \n",
       "1    /ebio/abt3_projects/HUBIF_metagenomics/data/pipelines/llmga_tuk/Cluster1/LLG/round1/checkM/19/checkm/markers_qa_summary.tsv.34 \n",
       "2    /ebio/abt3_projects/HUBIF_metagenomics/data/pipelines/llmga_tuk/Cluster1/LLG/round1/checkM/23/checkm/markers_qa_summary.tsv.111\n",
       "⋮    ⋮                                                                                                                              \n",
       "1792 /ebio/abt3_projects/HUBIF_metagenomics/data/pipelines/llmga_tuk/Cluster1/LLG/round1/checkM/48/checkm/markers_qa_summary.tsv.93 \n",
       "1793 /ebio/abt3_projects/HUBIF_metagenomics/data/pipelines/llmga_tuk/Cluster1/LLG/round1/checkM/50/checkm/markers_qa_summary.tsv.41 \n",
       "     Domain      Phylum          Class         Order                \n",
       "1    d__Bacteria p__Firmicutes   c__Bacilli    o__Erysipelotrichales\n",
       "2    d__Bacteria p__Firmicutes   c__Bacilli    o__Erysipelotrichales\n",
       "⋮    ⋮           ⋮               ⋮             ⋮                    \n",
       "1792 d__Bacteria p__Firmicutes_A c__Clostridia o__Lachnospirales    \n",
       "1793 d__Bacteria p__Firmicutes_A c__Clostridia o__Lachnospirales    \n",
       "     Family                       Genus             \n",
       "1    f__Erysipelatoclostridiaceae g__Catenibacterium\n",
       "2    f__Erysipelatoclostridiaceae g__Catenibacterium\n",
       "⋮    ⋮                            ⋮                 \n",
       "1792 f__Lachnospiraceae           g__Blautia_A      \n",
       "1793 f__Lachnospiraceae           g__Blautia_A      \n",
       "     Species                      spec                      age_group\n",
       "1    s__Catenibacterium mitsuokai catenibacterium mitsuokai adult    \n",
       "2    s__Catenibacterium mitsuokai catenibacterium mitsuokai adult    \n",
       "⋮    ⋮                            ⋮                         ⋮        \n",
       "1792 s__Blautia_A wexlerae        blautia_a wexlerae        infant   \n",
       "1793 s__Blautia_A wexlerae        blautia_a wexlerae        infant   "
      ]
     },
     "metadata": {},
     "output_type": "display_data"
    }
   ],
   "source": [
    "# filtering to just co-phylo species\n",
    "drep_f = drep %>%\n",
    "    mutate.(spec = stringr::str_to_lower(gsub('^s__', '', Species))) %>%\n",
    "    inner_join.(cophylo_spec %>%\n",
    "                    mutate.(spec = stringr::str_to_lower(Species)) %>%\n",
    "                    distinct.(spec, age_group),\n",
    "               by=c('spec')) %>%\n",
    "    rename.('genome' = Name)\n",
    "drep_f$genome %>% unique_n('MAGs')\n",
    "drep_f"
   ]
  },
  {
   "cell_type": "markdown",
   "metadata": {},
   "source": [
    "### Summary"
   ]
  },
  {
   "cell_type": "code",
   "execution_count": 102,
   "metadata": {
    "ExecuteTime": {
     "end_time": "2021-07-06T15:07:18.099809Z",
     "start_time": "2021-07-06T15:07:18.042Z"
    }
   },
   "outputs": [
    {
     "data": {
      "text/html": [
       "<table class=\"dataframe\">\n",
       "<caption>A matrix: 1 × 8 of type dbl</caption>\n",
       "<thead>\n",
       "\t<tr><th></th><th scope=col>Min.</th><th scope=col>1st Qu.</th><th scope=col>Median</th><th scope=col>Mean</th><th scope=col>3rd Qu.</th><th scope=col>Max.</th><th scope=col>sd</th><th scope=col>sd_err_of_mean</th></tr>\n",
       "</thead>\n",
       "<tbody>\n",
       "\t<tr><th scope=row>Completeness</th><td>50.22</td><td>93.35</td><td>97.47</td><td>94.33024</td><td>98.87</td><td>100</td><td>19.19</td><td>7.834</td></tr>\n",
       "</tbody>\n",
       "</table>\n"
      ],
      "text/latex": [
       "A matrix: 1 × 8 of type dbl\n",
       "\\begin{tabular}{r|llllllll}\n",
       "  & Min. & 1st Qu. & Median & Mean & 3rd Qu. & Max. & sd & sd\\_err\\_of\\_mean\\\\\n",
       "\\hline\n",
       "\tCompleteness & 50.22 & 93.35 & 97.47 & 94.33024 & 98.87 & 100 & 19.19 & 7.834\\\\\n",
       "\\end{tabular}\n"
      ],
      "text/markdown": [
       "\n",
       "A matrix: 1 × 8 of type dbl\n",
       "\n",
       "| <!--/--> | Min. | 1st Qu. | Median | Mean | 3rd Qu. | Max. | sd | sd_err_of_mean |\n",
       "|---|---|---|---|---|---|---|---|---|\n",
       "| Completeness | 50.22 | 93.35 | 97.47 | 94.33024 | 98.87 | 100 | 19.19 | 7.834 |\n",
       "\n"
      ],
      "text/plain": [
       "             Min.  1st Qu. Median Mean     3rd Qu. Max. sd    sd_err_of_mean\n",
       "Completeness 50.22 93.35   97.47  94.33024 98.87   100  19.19 7.834         "
      ]
     },
     "metadata": {},
     "output_type": "display_data"
    },
    {
     "data": {
      "text/html": [
       "<table class=\"dataframe\">\n",
       "<caption>A matrix: 1 × 8 of type dbl</caption>\n",
       "<thead>\n",
       "\t<tr><th></th><th scope=col>Min.</th><th scope=col>1st Qu.</th><th scope=col>Median</th><th scope=col>Mean</th><th scope=col>3rd Qu.</th><th scope=col>Max.</th><th scope=col>sd</th><th scope=col>sd_err_of_mean</th></tr>\n",
       "</thead>\n",
       "<tbody>\n",
       "\t<tr><th scope=row>Contamination</th><td>0</td><td>0.16</td><td>0.75</td><td>1.058784</td><td>1.61</td><td>4.92</td><td>1.815</td><td>0.741</td></tr>\n",
       "</tbody>\n",
       "</table>\n"
      ],
      "text/latex": [
       "A matrix: 1 × 8 of type dbl\n",
       "\\begin{tabular}{r|llllllll}\n",
       "  & Min. & 1st Qu. & Median & Mean & 3rd Qu. & Max. & sd & sd\\_err\\_of\\_mean\\\\\n",
       "\\hline\n",
       "\tContamination & 0 & 0.16 & 0.75 & 1.058784 & 1.61 & 4.92 & 1.815 & 0.741\\\\\n",
       "\\end{tabular}\n"
      ],
      "text/markdown": [
       "\n",
       "A matrix: 1 × 8 of type dbl\n",
       "\n",
       "| <!--/--> | Min. | 1st Qu. | Median | Mean | 3rd Qu. | Max. | sd | sd_err_of_mean |\n",
       "|---|---|---|---|---|---|---|---|---|\n",
       "| Contamination | 0 | 0.16 | 0.75 | 1.058784 | 1.61 | 4.92 | 1.815 | 0.741 |\n",
       "\n"
      ],
      "text/plain": [
       "              Min. 1st Qu. Median Mean     3rd Qu. Max. sd    sd_err_of_mean\n",
       "Contamination 0    0.16    0.75   1.058784 1.61    4.92 1.815 0.741         "
      ]
     },
     "metadata": {},
     "output_type": "display_data"
    },
    {
     "data": {
      "text/html": [
       "<table class=\"dataframe\">\n",
       "<caption>A matrix: 1 × 8 of type dbl</caption>\n",
       "<thead>\n",
       "\t<tr><th></th><th scope=col>Min.</th><th scope=col>1st Qu.</th><th scope=col>Median</th><th scope=col>Mean</th><th scope=col>3rd Qu.</th><th scope=col>Max.</th><th scope=col>sd</th><th scope=col>sd_err_of_mean</th></tr>\n",
       "</thead>\n",
       "<tbody>\n",
       "\t<tr><th scope=row>X..contigs</th><td>7</td><td>64</td><td>142</td><td>223.3898</td><td>361</td><td>1134</td><td>416.84</td><td>170.174</td></tr>\n",
       "</tbody>\n",
       "</table>\n"
      ],
      "text/latex": [
       "A matrix: 1 × 8 of type dbl\n",
       "\\begin{tabular}{r|llllllll}\n",
       "  & Min. & 1st Qu. & Median & Mean & 3rd Qu. & Max. & sd & sd\\_err\\_of\\_mean\\\\\n",
       "\\hline\n",
       "\tX..contigs & 7 & 64 & 142 & 223.3898 & 361 & 1134 & 416.84 & 170.174\\\\\n",
       "\\end{tabular}\n"
      ],
      "text/markdown": [
       "\n",
       "A matrix: 1 × 8 of type dbl\n",
       "\n",
       "| <!--/--> | Min. | 1st Qu. | Median | Mean | 3rd Qu. | Max. | sd | sd_err_of_mean |\n",
       "|---|---|---|---|---|---|---|---|---|\n",
       "| X..contigs | 7 | 64 | 142 | 223.3898 | 361 | 1134 | 416.84 | 170.174 |\n",
       "\n"
      ],
      "text/plain": [
       "           Min. 1st Qu. Median Mean     3rd Qu. Max. sd     sd_err_of_mean\n",
       "X..contigs 7    64      142    223.3898 361     1134 416.84 170.174       "
      ]
     },
     "metadata": {},
     "output_type": "display_data"
    },
    {
     "data": {
      "text/html": [
       "<table class=\"dataframe\">\n",
       "<caption>A matrix: 1 × 8 of type dbl</caption>\n",
       "<thead>\n",
       "\t<tr><th></th><th scope=col>Min.</th><th scope=col>1st Qu.</th><th scope=col>Median</th><th scope=col>Mean</th><th scope=col>3rd Qu.</th><th scope=col>Max.</th><th scope=col>sd</th><th scope=col>sd_err_of_mean</th></tr>\n",
       "</thead>\n",
       "<tbody>\n",
       "\t<tr><th scope=row>N50..contigs.</th><td>2483</td><td>12875</td><td>44099</td><td>68039.05</td><td>98036</td><td>749295</td><td>289626.9</td><td>118239.7</td></tr>\n",
       "</tbody>\n",
       "</table>\n"
      ],
      "text/latex": [
       "A matrix: 1 × 8 of type dbl\n",
       "\\begin{tabular}{r|llllllll}\n",
       "  & Min. & 1st Qu. & Median & Mean & 3rd Qu. & Max. & sd & sd\\_err\\_of\\_mean\\\\\n",
       "\\hline\n",
       "\tN50..contigs. & 2483 & 12875 & 44099 & 68039.05 & 98036 & 749295 & 289626.9 & 118239.7\\\\\n",
       "\\end{tabular}\n"
      ],
      "text/markdown": [
       "\n",
       "A matrix: 1 × 8 of type dbl\n",
       "\n",
       "| <!--/--> | Min. | 1st Qu. | Median | Mean | 3rd Qu. | Max. | sd | sd_err_of_mean |\n",
       "|---|---|---|---|---|---|---|---|---|\n",
       "| N50..contigs. | 2483 | 12875 | 44099 | 68039.05 | 98036 | 749295 | 289626.9 | 118239.7 |\n",
       "\n"
      ],
      "text/plain": [
       "              Min. 1st Qu. Median Mean     3rd Qu. Max.   sd      \n",
       "N50..contigs. 2483 12875   44099  68039.05 98036   749295 289626.9\n",
       "              sd_err_of_mean\n",
       "N50..contigs. 118239.7      "
      ]
     },
     "metadata": {},
     "output_type": "display_data"
    }
   ],
   "source": [
    "summary_x(drep_f$Completeness)\n",
    "summary_x(drep_f$Contamination)\n",
    "summary_x(drep_f$X..contigs)\n",
    "summary_x(drep_f$N50..contigs.)"
   ]
  },
  {
   "cell_type": "code",
   "execution_count": 103,
   "metadata": {
    "ExecuteTime": {
     "end_time": "2021-07-06T15:07:29.295186Z",
     "start_time": "2021-07-06T15:07:29.257Z"
    }
   },
   "outputs": [
    {
     "data": {
      "text/html": [
       "<table class=\"dataframe\">\n",
       "<caption>A tidytable: 4 × 2</caption>\n",
       "<thead>\n",
       "\t<tr><th scope=col>taxonomy</th><th scope=col>n</th></tr>\n",
       "\t<tr><th scope=col>&lt;chr&gt;</th><th scope=col>&lt;int&gt;</th></tr>\n",
       "</thead>\n",
       "<tbody>\n",
       "\t<tr><td>p__Bacteroidota;c__Bacteroidia      </td><td>888</td></tr>\n",
       "\t<tr><td>p__Firmicutes_A;c__Clostridia       </td><td>732</td></tr>\n",
       "\t<tr><td>p__Actinobacteriota;c__Actinomycetia</td><td>171</td></tr>\n",
       "\t<tr><td>p__Firmicutes;c__Bacilli            </td><td>  2</td></tr>\n",
       "</tbody>\n",
       "</table>\n"
      ],
      "text/latex": [
       "A tidytable: 4 × 2\n",
       "\\begin{tabular}{ll}\n",
       " taxonomy & n\\\\\n",
       " <chr> & <int>\\\\\n",
       "\\hline\n",
       "\t p\\_\\_Bacteroidota;c\\_\\_Bacteroidia       & 888\\\\\n",
       "\t p\\_\\_Firmicutes\\_A;c\\_\\_Clostridia        & 732\\\\\n",
       "\t p\\_\\_Actinobacteriota;c\\_\\_Actinomycetia & 171\\\\\n",
       "\t p\\_\\_Firmicutes;c\\_\\_Bacilli             &   2\\\\\n",
       "\\end{tabular}\n"
      ],
      "text/markdown": [
       "\n",
       "A tidytable: 4 × 2\n",
       "\n",
       "| taxonomy &lt;chr&gt; | n &lt;int&gt; |\n",
       "|---|---|\n",
       "| p__Bacteroidota;c__Bacteroidia       | 888 |\n",
       "| p__Firmicutes_A;c__Clostridia        | 732 |\n",
       "| p__Actinobacteriota;c__Actinomycetia | 171 |\n",
       "| p__Firmicutes;c__Bacilli             |   2 |\n",
       "\n"
      ],
      "text/plain": [
       "  taxonomy                             n  \n",
       "1 p__Bacteroidota;c__Bacteroidia       888\n",
       "2 p__Firmicutes_A;c__Clostridia        732\n",
       "3 p__Actinobacteriota;c__Actinomycetia 171\n",
       "4 p__Firmicutes;c__Bacilli               2"
      ]
     },
     "metadata": {},
     "output_type": "display_data"
    }
   ],
   "source": [
    "# by class\n",
    "df.dims(50)\n",
    "drep_f %>%\n",
    "    mutate.(taxonomy = paste(Phylum, Class, sep=';')) %>%\n",
    "    summarize.(n = n.(),\n",
    "               .by=c(taxonomy)) %>%\n",
    "    arrange.(-n)\n",
    "df.dims()"
   ]
  },
  {
   "cell_type": "code",
   "execution_count": 104,
   "metadata": {
    "ExecuteTime": {
     "end_time": "2021-07-06T15:07:40.859285Z",
     "start_time": "2021-07-06T15:07:40.761Z"
    }
   },
   "outputs": [
    {
     "data": {
      "text/html": [
       "<table class=\"dataframe\">\n",
       "<caption>A tidytable: 46 × 8</caption>\n",
       "<thead>\n",
       "\t<tr><th scope=col>Phylum</th><th scope=col>Class</th><th scope=col>Order</th><th scope=col>Family</th><th scope=col>Genus</th><th scope=col>Species</th><th scope=col>age_group</th><th scope=col>n</th></tr>\n",
       "\t<tr><th scope=col>&lt;chr&gt;</th><th scope=col>&lt;chr&gt;</th><th scope=col>&lt;chr&gt;</th><th scope=col>&lt;chr&gt;</th><th scope=col>&lt;chr&gt;</th><th scope=col>&lt;chr&gt;</th><th scope=col>&lt;chr&gt;</th><th scope=col>&lt;int&gt;</th></tr>\n",
       "</thead>\n",
       "<tbody>\n",
       "\t<tr><td>p__Bacteroidota    </td><td>c__Bacteroidia  </td><td>o__Bacteroidales     </td><td>f__Bacteroidaceae           </td><td>g__Bacteroides        </td><td>s__Bacteroides uniformis          </td><td>adult </td><td>98</td></tr>\n",
       "\t<tr><td>p__Bacteroidota    </td><td>c__Bacteroidia  </td><td>o__Bacteroidales     </td><td>f__Rikenellaceae            </td><td>g__Alistipes          </td><td>s__Alistipes putredinis           </td><td>adult </td><td>85</td></tr>\n",
       "\t<tr><td>p__Firmicutes_A    </td><td>c__Clostridia   </td><td>o__Lachnospirales    </td><td>f__Lachnospiraceae          </td><td>g__Agathobacter       </td><td>s__Agathobacter rectalis          </td><td>adult </td><td>73</td></tr>\n",
       "\t<tr><td>p__Bacteroidota    </td><td>c__Bacteroidia  </td><td>o__Bacteroidales     </td><td>f__Bacteroidaceae           </td><td>g__Phocaeicola        </td><td>s__Phocaeicola vulgatus           </td><td>adult </td><td>73</td></tr>\n",
       "\t<tr><td>p__Firmicutes_A    </td><td>c__Clostridia   </td><td>o__Lachnospirales    </td><td>f__Lachnospiraceae          </td><td>g__Anaerostipes       </td><td>s__Anaerostipes hadrus            </td><td>adult </td><td>71</td></tr>\n",
       "\t<tr><td>p__Firmicutes_A    </td><td>c__Clostridia   </td><td>o__Lachnospirales    </td><td>f__Lachnospiraceae          </td><td>g__Fusicatenibacter   </td><td>s__Fusicatenibacter saccharivorans</td><td>adult </td><td>70</td></tr>\n",
       "\t<tr><td>p__Bacteroidota    </td><td>c__Bacteroidia  </td><td>o__Bacteroidales     </td><td>f__Barnesiellaceae          </td><td>g__Barnesiella        </td><td>s__Barnesiella intestinihominis   </td><td>adult </td><td>70</td></tr>\n",
       "\t<tr><td>p__Bacteroidota    </td><td>c__Bacteroidia  </td><td>o__Bacteroidales     </td><td>f__Tannerellaceae           </td><td>g__Parabacteroides    </td><td>s__Parabacteroides distasonis     </td><td>adult </td><td>62</td></tr>\n",
       "\t<tr><td>p__Firmicutes_A    </td><td>c__Clostridia   </td><td>o__Lachnospirales    </td><td>f__Lachnospiraceae          </td><td>g__Blautia_A          </td><td>s__Blautia_A wexlerae             </td><td>adult </td><td>55</td></tr>\n",
       "\t<tr><td>p__Firmicutes_A    </td><td>c__Clostridia   </td><td>o__Lachnospirales    </td><td>f__Lachnospiraceae          </td><td>g__Anaerobutyricum    </td><td>s__Anaerobutyricum hallii         </td><td>adult </td><td>55</td></tr>\n",
       "\t<tr><td>p__Actinobacteriota</td><td>c__Actinomycetia</td><td>o__Actinomycetales   </td><td>f__Bifidobacteriaceae       </td><td>g__Bifidobacterium    </td><td>s__Bifidobacterium adolescentis   </td><td>adult </td><td>51</td></tr>\n",
       "\t<tr><td>p__Actinobacteriota</td><td>c__Actinomycetia</td><td>o__Actinomycetales   </td><td>f__Bifidobacteriaceae       </td><td>g__Bifidobacterium    </td><td>s__Bifidobacterium longum         </td><td>adult </td><td>51</td></tr>\n",
       "\t<tr><td>p__Bacteroidota    </td><td>c__Bacteroidia  </td><td>o__Bacteroidales     </td><td>f__Tannerellaceae           </td><td>g__Parabacteroides    </td><td>s__Parabacteroides merdae         </td><td>adult </td><td>49</td></tr>\n",
       "\t<tr><td>p__Firmicutes_A    </td><td>c__Clostridia   </td><td>o__Lachnospirales    </td><td>f__Lachnospiraceae          </td><td>g__Agathobacter       </td><td>s__Agathobacter faecis            </td><td>adult </td><td>47</td></tr>\n",
       "\t<tr><td>p__Firmicutes_A    </td><td>c__Clostridia   </td><td>o__Oscillospirales   </td><td>f__Ruminococcaceae          </td><td>g__Ruminococcus_D     </td><td>s__Ruminococcus_D bicirculans     </td><td>adult </td><td>47</td></tr>\n",
       "\t<tr><td>p__Bacteroidota    </td><td>c__Bacteroidia  </td><td>o__Bacteroidales     </td><td>f__Marinifilaceae           </td><td>g__Odoribacter        </td><td>s__Odoribacter splanchnicus       </td><td>adult </td><td>42</td></tr>\n",
       "\t<tr><td>p__Firmicutes_A    </td><td>c__Clostridia   </td><td>o__Lachnospirales    </td><td>f__Lachnospiraceae          </td><td>g__Lachnospira        </td><td>s__Lachnospira eligens_B          </td><td>adult </td><td>41</td></tr>\n",
       "\t<tr><td>p__Firmicutes_A    </td><td>c__Clostridia   </td><td>o__Oscillospirales   </td><td>f__Acutalibacteraceae       </td><td>g__CAG-180            </td><td>s__CAG-180 sp000432435            </td><td>adult </td><td>35</td></tr>\n",
       "\t<tr><td>p__Firmicutes_A    </td><td>c__Clostridia   </td><td>o__Lachnospirales    </td><td>f__Lachnospiraceae          </td><td>g__Bariatricus        </td><td>s__Bariatricus comes              </td><td>adult </td><td>35</td></tr>\n",
       "\t<tr><td>p__Firmicutes_A    </td><td>c__Clostridia   </td><td>o__Oscillospirales   </td><td>f__Ruminococcaceae          </td><td>g__Ruminiclostridium_E</td><td>s__Ruminiclostridium_E siraeum    </td><td>adult </td><td>31</td></tr>\n",
       "\t<tr><td>p__Firmicutes_A    </td><td>c__Clostridia   </td><td>o__Lachnospirales    </td><td>f__Lachnospiraceae          </td><td>g__Mediterraneibacter </td><td>s__Mediterraneibacter torques     </td><td>adult </td><td>30</td></tr>\n",
       "\t<tr><td>p__Firmicutes_A    </td><td>c__Clostridia   </td><td>o__Oscillospirales   </td><td>f__Acutalibacteraceae       </td><td>g__Eubacterium_R      </td><td>s__Eubacterium_R sp000436835      </td><td>adult </td><td>26</td></tr>\n",
       "\t<tr><td>p__Bacteroidota    </td><td>c__Bacteroidia  </td><td>o__Bacteroidales     </td><td>f__Bacteroidaceae           </td><td>g__Phocaeicola        </td><td>s__Phocaeicola dorei              </td><td>adult </td><td>25</td></tr>\n",
       "\t<tr><td>p__Bacteroidota    </td><td>c__Bacteroidia  </td><td>o__Bacteroidales     </td><td>f__Bacteroidaceae           </td><td>g__Prevotella         </td><td>s__Prevotella copri               </td><td>adult </td><td>21</td></tr>\n",
       "\t<tr><td>p__Bacteroidota    </td><td>c__Bacteroidia  </td><td>o__Bacteroidales     </td><td>f__Bacteroidaceae           </td><td>g__Bacteroides        </td><td>s__Bacteroides caccae             </td><td>adult </td><td>20</td></tr>\n",
       "\t<tr><td>p__Firmicutes_A    </td><td>c__Clostridia   </td><td>o__Lachnospirales    </td><td>f__Lachnospiraceae          </td><td>g__Lachnospira        </td><td>s__Lachnospira rogosae            </td><td>adult </td><td>20</td></tr>\n",
       "\t<tr><td>p__Bacteroidota    </td><td>c__Bacteroidia  </td><td>o__Bacteroidales     </td><td>f__Bacteroidaceae           </td><td>g__Bacteroides        </td><td>s__Bacteroides ovatus             </td><td>adult </td><td>19</td></tr>\n",
       "\t<tr><td>p__Firmicutes_A    </td><td>c__Clostridia   </td><td>o__Oscillospirales   </td><td>f__Oscillospiraceae         </td><td>g__CAG-83             </td><td>s__CAG-83 sp000435975             </td><td>adult </td><td>16</td></tr>\n",
       "\t<tr><td>p__Firmicutes_A    </td><td>c__Clostridia   </td><td>o__Lachnospirales    </td><td>f__Lachnospiraceae          </td><td>g__Roseburia          </td><td>s__Roseburia intestinalis         </td><td>adult </td><td>12</td></tr>\n",
       "\t<tr><td>p__Bacteroidota    </td><td>c__Bacteroidia  </td><td>o__Bacteroidales     </td><td>f__Bacteroidaceae           </td><td>g__Bacteroides        </td><td>s__Bacteroides xylanisolvens      </td><td>adult </td><td> 9</td></tr>\n",
       "\t<tr><td>p__Bacteroidota    </td><td>c__Bacteroidia  </td><td>o__Bacteroidales     </td><td>f__Bacteroidaceae           </td><td>g__Bacteroides        </td><td>s__Bacteroides thetaiotaomicron   </td><td>adult </td><td> 4</td></tr>\n",
       "\t<tr><td>p__Firmicutes_A    </td><td>c__Clostridia   </td><td>o__Lachnospirales    </td><td>f__Lachnospiraceae          </td><td>g__Dorea              </td><td>s__Dorea formicigenerans          </td><td>adult </td><td> 4</td></tr>\n",
       "\t<tr><td>p__Firmicutes      </td><td>c__Bacilli      </td><td>o__Erysipelotrichales</td><td>f__Erysipelatoclostridiaceae</td><td>g__Catenibacterium    </td><td>s__Catenibacterium mitsuokai      </td><td>adult </td><td> 2</td></tr>\n",
       "\t<tr><td>p__Bacteroidota    </td><td>c__Bacteroidia  </td><td>o__Bacteroidales     </td><td>f__Bacteroidaceae           </td><td>g__Bacteroides        </td><td>s__Bacteroides uniformis          </td><td>infant</td><td>98</td></tr>\n",
       "\t<tr><td>p__Bacteroidota    </td><td>c__Bacteroidia  </td><td>o__Bacteroidales     </td><td>f__Bacteroidaceae           </td><td>g__Phocaeicola        </td><td>s__Phocaeicola vulgatus           </td><td>infant</td><td>73</td></tr>\n",
       "\t<tr><td>p__Bacteroidota    </td><td>c__Bacteroidia  </td><td>o__Bacteroidales     </td><td>f__Tannerellaceae           </td><td>g__Parabacteroides    </td><td>s__Parabacteroides distasonis     </td><td>infant</td><td>62</td></tr>\n",
       "\t<tr><td>p__Firmicutes_A    </td><td>c__Clostridia   </td><td>o__Lachnospirales    </td><td>f__Lachnospiraceae          </td><td>g__Blautia_A          </td><td>s__Blautia_A wexlerae             </td><td>infant</td><td>55</td></tr>\n",
       "\t<tr><td>p__Actinobacteriota</td><td>c__Actinomycetia</td><td>o__Actinomycetales   </td><td>f__Bifidobacteriaceae       </td><td>g__Bifidobacterium    </td><td>s__Bifidobacterium longum         </td><td>infant</td><td>51</td></tr>\n",
       "\t<tr><td>p__Bacteroidota    </td><td>c__Bacteroidia  </td><td>o__Bacteroidales     </td><td>f__Bacteroidaceae           </td><td>g__Phocaeicola        </td><td>s__Phocaeicola dorei              </td><td>infant</td><td>25</td></tr>\n",
       "\t<tr><td>p__Bacteroidota    </td><td>c__Bacteroidia  </td><td>o__Bacteroidales     </td><td>f__Bacteroidaceae           </td><td>g__Prevotella         </td><td>s__Prevotella copri               </td><td>infant</td><td>21</td></tr>\n",
       "\t<tr><td>p__Bacteroidota    </td><td>c__Bacteroidia  </td><td>o__Bacteroidales     </td><td>f__Bacteroidaceae           </td><td>g__Bacteroides        </td><td>s__Bacteroides ovatus             </td><td>infant</td><td>19</td></tr>\n",
       "\t<tr><td>p__Actinobacteriota</td><td>c__Actinomycetia</td><td>o__Actinomycetales   </td><td>f__Bifidobacteriaceae       </td><td>g__Bifidobacterium    </td><td>s__Bifidobacterium bifidum        </td><td>infant</td><td>17</td></tr>\n",
       "\t<tr><td>p__Bacteroidota    </td><td>c__Bacteroidia  </td><td>o__Bacteroidales     </td><td>f__Bacteroidaceae           </td><td>g__Bacteroides        </td><td>s__Bacteroides xylanisolvens      </td><td>infant</td><td> 9</td></tr>\n",
       "\t<tr><td>p__Firmicutes_A    </td><td>c__Clostridia   </td><td>o__Lachnospirales    </td><td>f__Lachnospiraceae          </td><td>g__Ruminococcus_B     </td><td>s__Ruminococcus_B gnavus          </td><td>infant</td><td> 9</td></tr>\n",
       "\t<tr><td>p__Bacteroidota    </td><td>c__Bacteroidia  </td><td>o__Bacteroidales     </td><td>f__Bacteroidaceae           </td><td>g__Bacteroides        </td><td>s__Bacteroides thetaiotaomicron   </td><td>infant</td><td> 4</td></tr>\n",
       "\t<tr><td>p__Actinobacteriota</td><td>c__Actinomycetia</td><td>o__Actinomycetales   </td><td>f__Bifidobacteriaceae       </td><td>g__Bifidobacterium    </td><td>s__Bifidobacterium breve          </td><td>infant</td><td> 1</td></tr>\n",
       "</tbody>\n",
       "</table>\n"
      ],
      "text/latex": [
       "A tidytable: 46 × 8\n",
       "\\begin{tabular}{llllllll}\n",
       " Phylum & Class & Order & Family & Genus & Species & age\\_group & n\\\\\n",
       " <chr> & <chr> & <chr> & <chr> & <chr> & <chr> & <chr> & <int>\\\\\n",
       "\\hline\n",
       "\t p\\_\\_Bacteroidota     & c\\_\\_Bacteroidia   & o\\_\\_Bacteroidales      & f\\_\\_Bacteroidaceae            & g\\_\\_Bacteroides         & s\\_\\_Bacteroides uniformis           & adult  & 98\\\\\n",
       "\t p\\_\\_Bacteroidota     & c\\_\\_Bacteroidia   & o\\_\\_Bacteroidales      & f\\_\\_Rikenellaceae             & g\\_\\_Alistipes           & s\\_\\_Alistipes putredinis            & adult  & 85\\\\\n",
       "\t p\\_\\_Firmicutes\\_A     & c\\_\\_Clostridia    & o\\_\\_Lachnospirales     & f\\_\\_Lachnospiraceae           & g\\_\\_Agathobacter        & s\\_\\_Agathobacter rectalis           & adult  & 73\\\\\n",
       "\t p\\_\\_Bacteroidota     & c\\_\\_Bacteroidia   & o\\_\\_Bacteroidales      & f\\_\\_Bacteroidaceae            & g\\_\\_Phocaeicola         & s\\_\\_Phocaeicola vulgatus            & adult  & 73\\\\\n",
       "\t p\\_\\_Firmicutes\\_A     & c\\_\\_Clostridia    & o\\_\\_Lachnospirales     & f\\_\\_Lachnospiraceae           & g\\_\\_Anaerostipes        & s\\_\\_Anaerostipes hadrus             & adult  & 71\\\\\n",
       "\t p\\_\\_Firmicutes\\_A     & c\\_\\_Clostridia    & o\\_\\_Lachnospirales     & f\\_\\_Lachnospiraceae           & g\\_\\_Fusicatenibacter    & s\\_\\_Fusicatenibacter saccharivorans & adult  & 70\\\\\n",
       "\t p\\_\\_Bacteroidota     & c\\_\\_Bacteroidia   & o\\_\\_Bacteroidales      & f\\_\\_Barnesiellaceae           & g\\_\\_Barnesiella         & s\\_\\_Barnesiella intestinihominis    & adult  & 70\\\\\n",
       "\t p\\_\\_Bacteroidota     & c\\_\\_Bacteroidia   & o\\_\\_Bacteroidales      & f\\_\\_Tannerellaceae            & g\\_\\_Parabacteroides     & s\\_\\_Parabacteroides distasonis      & adult  & 62\\\\\n",
       "\t p\\_\\_Firmicutes\\_A     & c\\_\\_Clostridia    & o\\_\\_Lachnospirales     & f\\_\\_Lachnospiraceae           & g\\_\\_Blautia\\_A           & s\\_\\_Blautia\\_A wexlerae              & adult  & 55\\\\\n",
       "\t p\\_\\_Firmicutes\\_A     & c\\_\\_Clostridia    & o\\_\\_Lachnospirales     & f\\_\\_Lachnospiraceae           & g\\_\\_Anaerobutyricum     & s\\_\\_Anaerobutyricum hallii          & adult  & 55\\\\\n",
       "\t p\\_\\_Actinobacteriota & c\\_\\_Actinomycetia & o\\_\\_Actinomycetales    & f\\_\\_Bifidobacteriaceae        & g\\_\\_Bifidobacterium     & s\\_\\_Bifidobacterium adolescentis    & adult  & 51\\\\\n",
       "\t p\\_\\_Actinobacteriota & c\\_\\_Actinomycetia & o\\_\\_Actinomycetales    & f\\_\\_Bifidobacteriaceae        & g\\_\\_Bifidobacterium     & s\\_\\_Bifidobacterium longum          & adult  & 51\\\\\n",
       "\t p\\_\\_Bacteroidota     & c\\_\\_Bacteroidia   & o\\_\\_Bacteroidales      & f\\_\\_Tannerellaceae            & g\\_\\_Parabacteroides     & s\\_\\_Parabacteroides merdae          & adult  & 49\\\\\n",
       "\t p\\_\\_Firmicutes\\_A     & c\\_\\_Clostridia    & o\\_\\_Lachnospirales     & f\\_\\_Lachnospiraceae           & g\\_\\_Agathobacter        & s\\_\\_Agathobacter faecis             & adult  & 47\\\\\n",
       "\t p\\_\\_Firmicutes\\_A     & c\\_\\_Clostridia    & o\\_\\_Oscillospirales    & f\\_\\_Ruminococcaceae           & g\\_\\_Ruminococcus\\_D      & s\\_\\_Ruminococcus\\_D bicirculans      & adult  & 47\\\\\n",
       "\t p\\_\\_Bacteroidota     & c\\_\\_Bacteroidia   & o\\_\\_Bacteroidales      & f\\_\\_Marinifilaceae            & g\\_\\_Odoribacter         & s\\_\\_Odoribacter splanchnicus        & adult  & 42\\\\\n",
       "\t p\\_\\_Firmicutes\\_A     & c\\_\\_Clostridia    & o\\_\\_Lachnospirales     & f\\_\\_Lachnospiraceae           & g\\_\\_Lachnospira         & s\\_\\_Lachnospira eligens\\_B           & adult  & 41\\\\\n",
       "\t p\\_\\_Firmicutes\\_A     & c\\_\\_Clostridia    & o\\_\\_Oscillospirales    & f\\_\\_Acutalibacteraceae        & g\\_\\_CAG-180             & s\\_\\_CAG-180 sp000432435             & adult  & 35\\\\\n",
       "\t p\\_\\_Firmicutes\\_A     & c\\_\\_Clostridia    & o\\_\\_Lachnospirales     & f\\_\\_Lachnospiraceae           & g\\_\\_Bariatricus         & s\\_\\_Bariatricus comes               & adult  & 35\\\\\n",
       "\t p\\_\\_Firmicutes\\_A     & c\\_\\_Clostridia    & o\\_\\_Oscillospirales    & f\\_\\_Ruminococcaceae           & g\\_\\_Ruminiclostridium\\_E & s\\_\\_Ruminiclostridium\\_E siraeum     & adult  & 31\\\\\n",
       "\t p\\_\\_Firmicutes\\_A     & c\\_\\_Clostridia    & o\\_\\_Lachnospirales     & f\\_\\_Lachnospiraceae           & g\\_\\_Mediterraneibacter  & s\\_\\_Mediterraneibacter torques      & adult  & 30\\\\\n",
       "\t p\\_\\_Firmicutes\\_A     & c\\_\\_Clostridia    & o\\_\\_Oscillospirales    & f\\_\\_Acutalibacteraceae        & g\\_\\_Eubacterium\\_R       & s\\_\\_Eubacterium\\_R sp000436835       & adult  & 26\\\\\n",
       "\t p\\_\\_Bacteroidota     & c\\_\\_Bacteroidia   & o\\_\\_Bacteroidales      & f\\_\\_Bacteroidaceae            & g\\_\\_Phocaeicola         & s\\_\\_Phocaeicola dorei               & adult  & 25\\\\\n",
       "\t p\\_\\_Bacteroidota     & c\\_\\_Bacteroidia   & o\\_\\_Bacteroidales      & f\\_\\_Bacteroidaceae            & g\\_\\_Prevotella          & s\\_\\_Prevotella copri                & adult  & 21\\\\\n",
       "\t p\\_\\_Bacteroidota     & c\\_\\_Bacteroidia   & o\\_\\_Bacteroidales      & f\\_\\_Bacteroidaceae            & g\\_\\_Bacteroides         & s\\_\\_Bacteroides caccae              & adult  & 20\\\\\n",
       "\t p\\_\\_Firmicutes\\_A     & c\\_\\_Clostridia    & o\\_\\_Lachnospirales     & f\\_\\_Lachnospiraceae           & g\\_\\_Lachnospira         & s\\_\\_Lachnospira rogosae             & adult  & 20\\\\\n",
       "\t p\\_\\_Bacteroidota     & c\\_\\_Bacteroidia   & o\\_\\_Bacteroidales      & f\\_\\_Bacteroidaceae            & g\\_\\_Bacteroides         & s\\_\\_Bacteroides ovatus              & adult  & 19\\\\\n",
       "\t p\\_\\_Firmicutes\\_A     & c\\_\\_Clostridia    & o\\_\\_Oscillospirales    & f\\_\\_Oscillospiraceae          & g\\_\\_CAG-83              & s\\_\\_CAG-83 sp000435975              & adult  & 16\\\\\n",
       "\t p\\_\\_Firmicutes\\_A     & c\\_\\_Clostridia    & o\\_\\_Lachnospirales     & f\\_\\_Lachnospiraceae           & g\\_\\_Roseburia           & s\\_\\_Roseburia intestinalis          & adult  & 12\\\\\n",
       "\t p\\_\\_Bacteroidota     & c\\_\\_Bacteroidia   & o\\_\\_Bacteroidales      & f\\_\\_Bacteroidaceae            & g\\_\\_Bacteroides         & s\\_\\_Bacteroides xylanisolvens       & adult  &  9\\\\\n",
       "\t p\\_\\_Bacteroidota     & c\\_\\_Bacteroidia   & o\\_\\_Bacteroidales      & f\\_\\_Bacteroidaceae            & g\\_\\_Bacteroides         & s\\_\\_Bacteroides thetaiotaomicron    & adult  &  4\\\\\n",
       "\t p\\_\\_Firmicutes\\_A     & c\\_\\_Clostridia    & o\\_\\_Lachnospirales     & f\\_\\_Lachnospiraceae           & g\\_\\_Dorea               & s\\_\\_Dorea formicigenerans           & adult  &  4\\\\\n",
       "\t p\\_\\_Firmicutes       & c\\_\\_Bacilli       & o\\_\\_Erysipelotrichales & f\\_\\_Erysipelatoclostridiaceae & g\\_\\_Catenibacterium     & s\\_\\_Catenibacterium mitsuokai       & adult  &  2\\\\\n",
       "\t p\\_\\_Bacteroidota     & c\\_\\_Bacteroidia   & o\\_\\_Bacteroidales      & f\\_\\_Bacteroidaceae            & g\\_\\_Bacteroides         & s\\_\\_Bacteroides uniformis           & infant & 98\\\\\n",
       "\t p\\_\\_Bacteroidota     & c\\_\\_Bacteroidia   & o\\_\\_Bacteroidales      & f\\_\\_Bacteroidaceae            & g\\_\\_Phocaeicola         & s\\_\\_Phocaeicola vulgatus            & infant & 73\\\\\n",
       "\t p\\_\\_Bacteroidota     & c\\_\\_Bacteroidia   & o\\_\\_Bacteroidales      & f\\_\\_Tannerellaceae            & g\\_\\_Parabacteroides     & s\\_\\_Parabacteroides distasonis      & infant & 62\\\\\n",
       "\t p\\_\\_Firmicutes\\_A     & c\\_\\_Clostridia    & o\\_\\_Lachnospirales     & f\\_\\_Lachnospiraceae           & g\\_\\_Blautia\\_A           & s\\_\\_Blautia\\_A wexlerae              & infant & 55\\\\\n",
       "\t p\\_\\_Actinobacteriota & c\\_\\_Actinomycetia & o\\_\\_Actinomycetales    & f\\_\\_Bifidobacteriaceae        & g\\_\\_Bifidobacterium     & s\\_\\_Bifidobacterium longum          & infant & 51\\\\\n",
       "\t p\\_\\_Bacteroidota     & c\\_\\_Bacteroidia   & o\\_\\_Bacteroidales      & f\\_\\_Bacteroidaceae            & g\\_\\_Phocaeicola         & s\\_\\_Phocaeicola dorei               & infant & 25\\\\\n",
       "\t p\\_\\_Bacteroidota     & c\\_\\_Bacteroidia   & o\\_\\_Bacteroidales      & f\\_\\_Bacteroidaceae            & g\\_\\_Prevotella          & s\\_\\_Prevotella copri                & infant & 21\\\\\n",
       "\t p\\_\\_Bacteroidota     & c\\_\\_Bacteroidia   & o\\_\\_Bacteroidales      & f\\_\\_Bacteroidaceae            & g\\_\\_Bacteroides         & s\\_\\_Bacteroides ovatus              & infant & 19\\\\\n",
       "\t p\\_\\_Actinobacteriota & c\\_\\_Actinomycetia & o\\_\\_Actinomycetales    & f\\_\\_Bifidobacteriaceae        & g\\_\\_Bifidobacterium     & s\\_\\_Bifidobacterium bifidum         & infant & 17\\\\\n",
       "\t p\\_\\_Bacteroidota     & c\\_\\_Bacteroidia   & o\\_\\_Bacteroidales      & f\\_\\_Bacteroidaceae            & g\\_\\_Bacteroides         & s\\_\\_Bacteroides xylanisolvens       & infant &  9\\\\\n",
       "\t p\\_\\_Firmicutes\\_A     & c\\_\\_Clostridia    & o\\_\\_Lachnospirales     & f\\_\\_Lachnospiraceae           & g\\_\\_Ruminococcus\\_B      & s\\_\\_Ruminococcus\\_B gnavus           & infant &  9\\\\\n",
       "\t p\\_\\_Bacteroidota     & c\\_\\_Bacteroidia   & o\\_\\_Bacteroidales      & f\\_\\_Bacteroidaceae            & g\\_\\_Bacteroides         & s\\_\\_Bacteroides thetaiotaomicron    & infant &  4\\\\\n",
       "\t p\\_\\_Actinobacteriota & c\\_\\_Actinomycetia & o\\_\\_Actinomycetales    & f\\_\\_Bifidobacteriaceae        & g\\_\\_Bifidobacterium     & s\\_\\_Bifidobacterium breve           & infant &  1\\\\\n",
       "\\end{tabular}\n"
      ],
      "text/markdown": [
       "\n",
       "A tidytable: 46 × 8\n",
       "\n",
       "| Phylum &lt;chr&gt; | Class &lt;chr&gt; | Order &lt;chr&gt; | Family &lt;chr&gt; | Genus &lt;chr&gt; | Species &lt;chr&gt; | age_group &lt;chr&gt; | n &lt;int&gt; |\n",
       "|---|---|---|---|---|---|---|---|\n",
       "| p__Bacteroidota     | c__Bacteroidia   | o__Bacteroidales      | f__Bacteroidaceae            | g__Bacteroides         | s__Bacteroides uniformis           | adult  | 98 |\n",
       "| p__Bacteroidota     | c__Bacteroidia   | o__Bacteroidales      | f__Rikenellaceae             | g__Alistipes           | s__Alistipes putredinis            | adult  | 85 |\n",
       "| p__Firmicutes_A     | c__Clostridia    | o__Lachnospirales     | f__Lachnospiraceae           | g__Agathobacter        | s__Agathobacter rectalis           | adult  | 73 |\n",
       "| p__Bacteroidota     | c__Bacteroidia   | o__Bacteroidales      | f__Bacteroidaceae            | g__Phocaeicola         | s__Phocaeicola vulgatus            | adult  | 73 |\n",
       "| p__Firmicutes_A     | c__Clostridia    | o__Lachnospirales     | f__Lachnospiraceae           | g__Anaerostipes        | s__Anaerostipes hadrus             | adult  | 71 |\n",
       "| p__Firmicutes_A     | c__Clostridia    | o__Lachnospirales     | f__Lachnospiraceae           | g__Fusicatenibacter    | s__Fusicatenibacter saccharivorans | adult  | 70 |\n",
       "| p__Bacteroidota     | c__Bacteroidia   | o__Bacteroidales      | f__Barnesiellaceae           | g__Barnesiella         | s__Barnesiella intestinihominis    | adult  | 70 |\n",
       "| p__Bacteroidota     | c__Bacteroidia   | o__Bacteroidales      | f__Tannerellaceae            | g__Parabacteroides     | s__Parabacteroides distasonis      | adult  | 62 |\n",
       "| p__Firmicutes_A     | c__Clostridia    | o__Lachnospirales     | f__Lachnospiraceae           | g__Blautia_A           | s__Blautia_A wexlerae              | adult  | 55 |\n",
       "| p__Firmicutes_A     | c__Clostridia    | o__Lachnospirales     | f__Lachnospiraceae           | g__Anaerobutyricum     | s__Anaerobutyricum hallii          | adult  | 55 |\n",
       "| p__Actinobacteriota | c__Actinomycetia | o__Actinomycetales    | f__Bifidobacteriaceae        | g__Bifidobacterium     | s__Bifidobacterium adolescentis    | adult  | 51 |\n",
       "| p__Actinobacteriota | c__Actinomycetia | o__Actinomycetales    | f__Bifidobacteriaceae        | g__Bifidobacterium     | s__Bifidobacterium longum          | adult  | 51 |\n",
       "| p__Bacteroidota     | c__Bacteroidia   | o__Bacteroidales      | f__Tannerellaceae            | g__Parabacteroides     | s__Parabacteroides merdae          | adult  | 49 |\n",
       "| p__Firmicutes_A     | c__Clostridia    | o__Lachnospirales     | f__Lachnospiraceae           | g__Agathobacter        | s__Agathobacter faecis             | adult  | 47 |\n",
       "| p__Firmicutes_A     | c__Clostridia    | o__Oscillospirales    | f__Ruminococcaceae           | g__Ruminococcus_D      | s__Ruminococcus_D bicirculans      | adult  | 47 |\n",
       "| p__Bacteroidota     | c__Bacteroidia   | o__Bacteroidales      | f__Marinifilaceae            | g__Odoribacter         | s__Odoribacter splanchnicus        | adult  | 42 |\n",
       "| p__Firmicutes_A     | c__Clostridia    | o__Lachnospirales     | f__Lachnospiraceae           | g__Lachnospira         | s__Lachnospira eligens_B           | adult  | 41 |\n",
       "| p__Firmicutes_A     | c__Clostridia    | o__Oscillospirales    | f__Acutalibacteraceae        | g__CAG-180             | s__CAG-180 sp000432435             | adult  | 35 |\n",
       "| p__Firmicutes_A     | c__Clostridia    | o__Lachnospirales     | f__Lachnospiraceae           | g__Bariatricus         | s__Bariatricus comes               | adult  | 35 |\n",
       "| p__Firmicutes_A     | c__Clostridia    | o__Oscillospirales    | f__Ruminococcaceae           | g__Ruminiclostridium_E | s__Ruminiclostridium_E siraeum     | adult  | 31 |\n",
       "| p__Firmicutes_A     | c__Clostridia    | o__Lachnospirales     | f__Lachnospiraceae           | g__Mediterraneibacter  | s__Mediterraneibacter torques      | adult  | 30 |\n",
       "| p__Firmicutes_A     | c__Clostridia    | o__Oscillospirales    | f__Acutalibacteraceae        | g__Eubacterium_R       | s__Eubacterium_R sp000436835       | adult  | 26 |\n",
       "| p__Bacteroidota     | c__Bacteroidia   | o__Bacteroidales      | f__Bacteroidaceae            | g__Phocaeicola         | s__Phocaeicola dorei               | adult  | 25 |\n",
       "| p__Bacteroidota     | c__Bacteroidia   | o__Bacteroidales      | f__Bacteroidaceae            | g__Prevotella          | s__Prevotella copri                | adult  | 21 |\n",
       "| p__Bacteroidota     | c__Bacteroidia   | o__Bacteroidales      | f__Bacteroidaceae            | g__Bacteroides         | s__Bacteroides caccae              | adult  | 20 |\n",
       "| p__Firmicutes_A     | c__Clostridia    | o__Lachnospirales     | f__Lachnospiraceae           | g__Lachnospira         | s__Lachnospira rogosae             | adult  | 20 |\n",
       "| p__Bacteroidota     | c__Bacteroidia   | o__Bacteroidales      | f__Bacteroidaceae            | g__Bacteroides         | s__Bacteroides ovatus              | adult  | 19 |\n",
       "| p__Firmicutes_A     | c__Clostridia    | o__Oscillospirales    | f__Oscillospiraceae          | g__CAG-83              | s__CAG-83 sp000435975              | adult  | 16 |\n",
       "| p__Firmicutes_A     | c__Clostridia    | o__Lachnospirales     | f__Lachnospiraceae           | g__Roseburia           | s__Roseburia intestinalis          | adult  | 12 |\n",
       "| p__Bacteroidota     | c__Bacteroidia   | o__Bacteroidales      | f__Bacteroidaceae            | g__Bacteroides         | s__Bacteroides xylanisolvens       | adult  |  9 |\n",
       "| p__Bacteroidota     | c__Bacteroidia   | o__Bacteroidales      | f__Bacteroidaceae            | g__Bacteroides         | s__Bacteroides thetaiotaomicron    | adult  |  4 |\n",
       "| p__Firmicutes_A     | c__Clostridia    | o__Lachnospirales     | f__Lachnospiraceae           | g__Dorea               | s__Dorea formicigenerans           | adult  |  4 |\n",
       "| p__Firmicutes       | c__Bacilli       | o__Erysipelotrichales | f__Erysipelatoclostridiaceae | g__Catenibacterium     | s__Catenibacterium mitsuokai       | adult  |  2 |\n",
       "| p__Bacteroidota     | c__Bacteroidia   | o__Bacteroidales      | f__Bacteroidaceae            | g__Bacteroides         | s__Bacteroides uniformis           | infant | 98 |\n",
       "| p__Bacteroidota     | c__Bacteroidia   | o__Bacteroidales      | f__Bacteroidaceae            | g__Phocaeicola         | s__Phocaeicola vulgatus            | infant | 73 |\n",
       "| p__Bacteroidota     | c__Bacteroidia   | o__Bacteroidales      | f__Tannerellaceae            | g__Parabacteroides     | s__Parabacteroides distasonis      | infant | 62 |\n",
       "| p__Firmicutes_A     | c__Clostridia    | o__Lachnospirales     | f__Lachnospiraceae           | g__Blautia_A           | s__Blautia_A wexlerae              | infant | 55 |\n",
       "| p__Actinobacteriota | c__Actinomycetia | o__Actinomycetales    | f__Bifidobacteriaceae        | g__Bifidobacterium     | s__Bifidobacterium longum          | infant | 51 |\n",
       "| p__Bacteroidota     | c__Bacteroidia   | o__Bacteroidales      | f__Bacteroidaceae            | g__Phocaeicola         | s__Phocaeicola dorei               | infant | 25 |\n",
       "| p__Bacteroidota     | c__Bacteroidia   | o__Bacteroidales      | f__Bacteroidaceae            | g__Prevotella          | s__Prevotella copri                | infant | 21 |\n",
       "| p__Bacteroidota     | c__Bacteroidia   | o__Bacteroidales      | f__Bacteroidaceae            | g__Bacteroides         | s__Bacteroides ovatus              | infant | 19 |\n",
       "| p__Actinobacteriota | c__Actinomycetia | o__Actinomycetales    | f__Bifidobacteriaceae        | g__Bifidobacterium     | s__Bifidobacterium bifidum         | infant | 17 |\n",
       "| p__Bacteroidota     | c__Bacteroidia   | o__Bacteroidales      | f__Bacteroidaceae            | g__Bacteroides         | s__Bacteroides xylanisolvens       | infant |  9 |\n",
       "| p__Firmicutes_A     | c__Clostridia    | o__Lachnospirales     | f__Lachnospiraceae           | g__Ruminococcus_B      | s__Ruminococcus_B gnavus           | infant |  9 |\n",
       "| p__Bacteroidota     | c__Bacteroidia   | o__Bacteroidales      | f__Bacteroidaceae            | g__Bacteroides         | s__Bacteroides thetaiotaomicron    | infant |  4 |\n",
       "| p__Actinobacteriota | c__Actinomycetia | o__Actinomycetales    | f__Bifidobacteriaceae        | g__Bifidobacterium     | s__Bifidobacterium breve           | infant |  1 |\n",
       "\n"
      ],
      "text/plain": [
       "   Phylum              Class            Order                \n",
       "1  p__Bacteroidota     c__Bacteroidia   o__Bacteroidales     \n",
       "2  p__Bacteroidota     c__Bacteroidia   o__Bacteroidales     \n",
       "3  p__Firmicutes_A     c__Clostridia    o__Lachnospirales    \n",
       "4  p__Bacteroidota     c__Bacteroidia   o__Bacteroidales     \n",
       "5  p__Firmicutes_A     c__Clostridia    o__Lachnospirales    \n",
       "6  p__Firmicutes_A     c__Clostridia    o__Lachnospirales    \n",
       "7  p__Bacteroidota     c__Bacteroidia   o__Bacteroidales     \n",
       "8  p__Bacteroidota     c__Bacteroidia   o__Bacteroidales     \n",
       "9  p__Firmicutes_A     c__Clostridia    o__Lachnospirales    \n",
       "10 p__Firmicutes_A     c__Clostridia    o__Lachnospirales    \n",
       "11 p__Actinobacteriota c__Actinomycetia o__Actinomycetales   \n",
       "12 p__Actinobacteriota c__Actinomycetia o__Actinomycetales   \n",
       "13 p__Bacteroidota     c__Bacteroidia   o__Bacteroidales     \n",
       "14 p__Firmicutes_A     c__Clostridia    o__Lachnospirales    \n",
       "15 p__Firmicutes_A     c__Clostridia    o__Oscillospirales   \n",
       "16 p__Bacteroidota     c__Bacteroidia   o__Bacteroidales     \n",
       "17 p__Firmicutes_A     c__Clostridia    o__Lachnospirales    \n",
       "18 p__Firmicutes_A     c__Clostridia    o__Oscillospirales   \n",
       "19 p__Firmicutes_A     c__Clostridia    o__Lachnospirales    \n",
       "20 p__Firmicutes_A     c__Clostridia    o__Oscillospirales   \n",
       "21 p__Firmicutes_A     c__Clostridia    o__Lachnospirales    \n",
       "22 p__Firmicutes_A     c__Clostridia    o__Oscillospirales   \n",
       "23 p__Bacteroidota     c__Bacteroidia   o__Bacteroidales     \n",
       "24 p__Bacteroidota     c__Bacteroidia   o__Bacteroidales     \n",
       "25 p__Bacteroidota     c__Bacteroidia   o__Bacteroidales     \n",
       "26 p__Firmicutes_A     c__Clostridia    o__Lachnospirales    \n",
       "27 p__Bacteroidota     c__Bacteroidia   o__Bacteroidales     \n",
       "28 p__Firmicutes_A     c__Clostridia    o__Oscillospirales   \n",
       "29 p__Firmicutes_A     c__Clostridia    o__Lachnospirales    \n",
       "30 p__Bacteroidota     c__Bacteroidia   o__Bacteroidales     \n",
       "31 p__Bacteroidota     c__Bacteroidia   o__Bacteroidales     \n",
       "32 p__Firmicutes_A     c__Clostridia    o__Lachnospirales    \n",
       "33 p__Firmicutes       c__Bacilli       o__Erysipelotrichales\n",
       "34 p__Bacteroidota     c__Bacteroidia   o__Bacteroidales     \n",
       "35 p__Bacteroidota     c__Bacteroidia   o__Bacteroidales     \n",
       "36 p__Bacteroidota     c__Bacteroidia   o__Bacteroidales     \n",
       "37 p__Firmicutes_A     c__Clostridia    o__Lachnospirales    \n",
       "38 p__Actinobacteriota c__Actinomycetia o__Actinomycetales   \n",
       "39 p__Bacteroidota     c__Bacteroidia   o__Bacteroidales     \n",
       "40 p__Bacteroidota     c__Bacteroidia   o__Bacteroidales     \n",
       "41 p__Bacteroidota     c__Bacteroidia   o__Bacteroidales     \n",
       "42 p__Actinobacteriota c__Actinomycetia o__Actinomycetales   \n",
       "43 p__Bacteroidota     c__Bacteroidia   o__Bacteroidales     \n",
       "44 p__Firmicutes_A     c__Clostridia    o__Lachnospirales    \n",
       "45 p__Bacteroidota     c__Bacteroidia   o__Bacteroidales     \n",
       "46 p__Actinobacteriota c__Actinomycetia o__Actinomycetales   \n",
       "   Family                       Genus                 \n",
       "1  f__Bacteroidaceae            g__Bacteroides        \n",
       "2  f__Rikenellaceae             g__Alistipes          \n",
       "3  f__Lachnospiraceae           g__Agathobacter       \n",
       "4  f__Bacteroidaceae            g__Phocaeicola        \n",
       "5  f__Lachnospiraceae           g__Anaerostipes       \n",
       "6  f__Lachnospiraceae           g__Fusicatenibacter   \n",
       "7  f__Barnesiellaceae           g__Barnesiella        \n",
       "8  f__Tannerellaceae            g__Parabacteroides    \n",
       "9  f__Lachnospiraceae           g__Blautia_A          \n",
       "10 f__Lachnospiraceae           g__Anaerobutyricum    \n",
       "11 f__Bifidobacteriaceae        g__Bifidobacterium    \n",
       "12 f__Bifidobacteriaceae        g__Bifidobacterium    \n",
       "13 f__Tannerellaceae            g__Parabacteroides    \n",
       "14 f__Lachnospiraceae           g__Agathobacter       \n",
       "15 f__Ruminococcaceae           g__Ruminococcus_D     \n",
       "16 f__Marinifilaceae            g__Odoribacter        \n",
       "17 f__Lachnospiraceae           g__Lachnospira        \n",
       "18 f__Acutalibacteraceae        g__CAG-180            \n",
       "19 f__Lachnospiraceae           g__Bariatricus        \n",
       "20 f__Ruminococcaceae           g__Ruminiclostridium_E\n",
       "21 f__Lachnospiraceae           g__Mediterraneibacter \n",
       "22 f__Acutalibacteraceae        g__Eubacterium_R      \n",
       "23 f__Bacteroidaceae            g__Phocaeicola        \n",
       "24 f__Bacteroidaceae            g__Prevotella         \n",
       "25 f__Bacteroidaceae            g__Bacteroides        \n",
       "26 f__Lachnospiraceae           g__Lachnospira        \n",
       "27 f__Bacteroidaceae            g__Bacteroides        \n",
       "28 f__Oscillospiraceae          g__CAG-83             \n",
       "29 f__Lachnospiraceae           g__Roseburia          \n",
       "30 f__Bacteroidaceae            g__Bacteroides        \n",
       "31 f__Bacteroidaceae            g__Bacteroides        \n",
       "32 f__Lachnospiraceae           g__Dorea              \n",
       "33 f__Erysipelatoclostridiaceae g__Catenibacterium    \n",
       "34 f__Bacteroidaceae            g__Bacteroides        \n",
       "35 f__Bacteroidaceae            g__Phocaeicola        \n",
       "36 f__Tannerellaceae            g__Parabacteroides    \n",
       "37 f__Lachnospiraceae           g__Blautia_A          \n",
       "38 f__Bifidobacteriaceae        g__Bifidobacterium    \n",
       "39 f__Bacteroidaceae            g__Phocaeicola        \n",
       "40 f__Bacteroidaceae            g__Prevotella         \n",
       "41 f__Bacteroidaceae            g__Bacteroides        \n",
       "42 f__Bifidobacteriaceae        g__Bifidobacterium    \n",
       "43 f__Bacteroidaceae            g__Bacteroides        \n",
       "44 f__Lachnospiraceae           g__Ruminococcus_B     \n",
       "45 f__Bacteroidaceae            g__Bacteroides        \n",
       "46 f__Bifidobacteriaceae        g__Bifidobacterium    \n",
       "   Species                            age_group n \n",
       "1  s__Bacteroides uniformis           adult     98\n",
       "2  s__Alistipes putredinis            adult     85\n",
       "3  s__Agathobacter rectalis           adult     73\n",
       "4  s__Phocaeicola vulgatus            adult     73\n",
       "5  s__Anaerostipes hadrus             adult     71\n",
       "6  s__Fusicatenibacter saccharivorans adult     70\n",
       "7  s__Barnesiella intestinihominis    adult     70\n",
       "8  s__Parabacteroides distasonis      adult     62\n",
       "9  s__Blautia_A wexlerae              adult     55\n",
       "10 s__Anaerobutyricum hallii          adult     55\n",
       "11 s__Bifidobacterium adolescentis    adult     51\n",
       "12 s__Bifidobacterium longum          adult     51\n",
       "13 s__Parabacteroides merdae          adult     49\n",
       "14 s__Agathobacter faecis             adult     47\n",
       "15 s__Ruminococcus_D bicirculans      adult     47\n",
       "16 s__Odoribacter splanchnicus        adult     42\n",
       "17 s__Lachnospira eligens_B           adult     41\n",
       "18 s__CAG-180 sp000432435             adult     35\n",
       "19 s__Bariatricus comes               adult     35\n",
       "20 s__Ruminiclostridium_E siraeum     adult     31\n",
       "21 s__Mediterraneibacter torques      adult     30\n",
       "22 s__Eubacterium_R sp000436835       adult     26\n",
       "23 s__Phocaeicola dorei               adult     25\n",
       "24 s__Prevotella copri                adult     21\n",
       "25 s__Bacteroides caccae              adult     20\n",
       "26 s__Lachnospira rogosae             adult     20\n",
       "27 s__Bacteroides ovatus              adult     19\n",
       "28 s__CAG-83 sp000435975              adult     16\n",
       "29 s__Roseburia intestinalis          adult     12\n",
       "30 s__Bacteroides xylanisolvens       adult      9\n",
       "31 s__Bacteroides thetaiotaomicron    adult      4\n",
       "32 s__Dorea formicigenerans           adult      4\n",
       "33 s__Catenibacterium mitsuokai       adult      2\n",
       "34 s__Bacteroides uniformis           infant    98\n",
       "35 s__Phocaeicola vulgatus            infant    73\n",
       "36 s__Parabacteroides distasonis      infant    62\n",
       "37 s__Blautia_A wexlerae              infant    55\n",
       "38 s__Bifidobacterium longum          infant    51\n",
       "39 s__Phocaeicola dorei               infant    25\n",
       "40 s__Prevotella copri                infant    21\n",
       "41 s__Bacteroides ovatus              infant    19\n",
       "42 s__Bifidobacterium bifidum         infant    17\n",
       "43 s__Bacteroides xylanisolvens       infant     9\n",
       "44 s__Ruminococcus_B gnavus           infant     9\n",
       "45 s__Bacteroides thetaiotaomicron    infant     4\n",
       "46 s__Bifidobacterium breve           infant     1"
      ]
     },
     "metadata": {},
     "output_type": "display_data"
    }
   ],
   "source": [
    "# by species\n",
    "df.dims(50)\n",
    "drep_f %>%\n",
    "    mutate.(taxonomy = paste(Phylum, Species, sep=';')) %>%\n",
    "    summarize.(n = n.(),\n",
    "               .by=c(Phylum, Class, Order, Family, Genus, Species, age_group)) %>%\n",
    "    arrange.(age_group, -n)\n",
    "df.dims()"
   ]
  },
  {
   "cell_type": "markdown",
   "metadata": {},
   "source": [
    "# SessionInfo"
   ]
  },
  {
   "cell_type": "code",
   "execution_count": 77,
   "metadata": {
    "ExecuteTime": {
     "end_time": "2021-07-06T07:24:23.352789Z",
     "start_time": "2021-07-06T07:24:23.042Z"
    }
   },
   "outputs": [
    {
     "data": {
      "text/plain": [
       "R version 4.0.3 (2020-10-10)\n",
       "Platform: x86_64-conda-linux-gnu (64-bit)\n",
       "Running under: Ubuntu 18.04.5 LTS\n",
       "\n",
       "Matrix products: default\n",
       "BLAS/LAPACK: /ebio/abt3_projects/Anxiety_Twins_Metagenomes/envs/tidyverse2/lib/libopenblasp-r0.3.12.so\n",
       "\n",
       "locale:\n",
       " [1] LC_CTYPE=en_US.UTF-8       LC_NUMERIC=C              \n",
       " [3] LC_TIME=en_US.UTF-8        LC_COLLATE=en_US.UTF-8    \n",
       " [5] LC_MONETARY=en_US.UTF-8    LC_MESSAGES=en_US.UTF-8   \n",
       " [7] LC_PAPER=en_US.UTF-8       LC_NAME=C                 \n",
       " [9] LC_ADDRESS=C               LC_TELEPHONE=C            \n",
       "[11] LC_MEASUREMENT=en_US.UTF-8 LC_IDENTIFICATION=C       \n",
       "\n",
       "attached base packages:\n",
       "[1] stats     graphics  grDevices utils     datasets  methods   base     \n",
       "\n",
       "other attached packages:\n",
       "[1] LeyLabRMisc_0.1.9 tidytable_0.5.8   data.table_1.13.6 ggplot2_3.3.3    \n",
       "[5] tidyr_1.1.2       dplyr_1.0.3      \n",
       "\n",
       "loaded via a namespace (and not attached):\n",
       " [1] magrittr_2.0.1    munsell_0.5.0     tidyselect_1.1.0  uuid_0.1-4       \n",
       " [5] colorspace_2.0-0  R6_2.5.0          rlang_0.4.10      tools_4.0.3      \n",
       " [9] grid_4.0.3        gtable_0.3.0      withr_2.4.1       htmltools_0.5.1.1\n",
       "[13] ellipsis_0.3.1    digest_0.6.27     tibble_3.0.6      lifecycle_0.2.0  \n",
       "[17] crayon_1.4.0      IRdisplay_1.0     purrr_0.3.4       repr_1.1.3       \n",
       "[21] base64enc_0.1-3   vctrs_0.3.6       IRkernel_1.1.1    glue_1.4.2       \n",
       "[25] evaluate_0.14     pbdZMQ_0.3-4      compiler_4.0.3    pillar_1.4.7     \n",
       "[29] scales_1.1.1      generics_0.1.0    jsonlite_1.7.2    pkgconfig_2.0.3  "
      ]
     },
     "metadata": {},
     "output_type": "display_data"
    }
   ],
   "source": [
    "sessionInfo()"
   ]
  },
  {
   "cell_type": "code",
   "execution_count": null,
   "metadata": {},
   "outputs": [],
   "source": []
  }
 ],
 "metadata": {
  "kernelspec": {
   "display_name": "R [conda env:Anxiety_Twins_Metagenomes-tidyverse2]",
   "language": "R",
   "name": "conda-env-Anxiety_Twins_Metagenomes-tidyverse2-r"
  },
  "language_info": {
   "codemirror_mode": "r",
   "file_extension": ".r",
   "mimetype": "text/x-r-source",
   "name": "R",
   "pygments_lexer": "r",
   "version": "4.0.3"
  },
  "notify_time": "30",
  "toc": {
   "base_numbering": 1,
   "nav_menu": {},
   "number_sections": true,
   "sideBar": true,
   "skip_h1_title": false,
   "title_cell": "Table of Contents",
   "title_sidebar": "Contents",
   "toc_cell": true,
   "toc_position": {},
   "toc_section_display": true,
   "toc_window_display": true
  }
 },
 "nbformat": 4,
 "nbformat_minor": 4
}
