{
 "cells": [
  {
   "cell_type": "markdown",
   "metadata": {
    "toc": true
   },
   "source": [
    "<h1>Table of Contents<span class=\"tocSkip\"></span></h1>\n",
    "<div class=\"toc\"><ul class=\"toc-item\"><li><span><a href=\"#Goal\" data-toc-modified-id=\"Goal-1\"><span class=\"toc-item-num\">1&nbsp;&nbsp;</span>Goal</a></span></li><li><span><a href=\"#Var\" data-toc-modified-id=\"Var-2\"><span class=\"toc-item-num\">2&nbsp;&nbsp;</span>Var</a></span></li><li><span><a href=\"#Init\" data-toc-modified-id=\"Init-3\"><span class=\"toc-item-num\">3&nbsp;&nbsp;</span>Init</a></span></li><li><span><a href=\"#Load\" data-toc-modified-id=\"Load-4\"><span class=\"toc-item-num\">4&nbsp;&nbsp;</span>Load</a></span><ul class=\"toc-item\"><li><span><a href=\"#Checks\" data-toc-modified-id=\"Checks-4.1\"><span class=\"toc-item-num\">4.1&nbsp;&nbsp;</span>Checks</a></span></li></ul></li><li><span><a href=\"#Preprocessing\" data-toc-modified-id=\"Preprocessing-5\"><span class=\"toc-item-num\">5&nbsp;&nbsp;</span>Preprocessing</a></span></li><li><span><a href=\"#MLR\" data-toc-modified-id=\"MLR-6\"><span class=\"toc-item-num\">6&nbsp;&nbsp;</span>MLR</a></span><ul class=\"toc-item\"><li><ul class=\"toc-item\"><li><span><a href=\"#Performance\" data-toc-modified-id=\"Performance-6.0.1\"><span class=\"toc-item-num\">6.0.1&nbsp;&nbsp;</span>Performance</a></span></li></ul></li></ul></li><li><span><a href=\"#sessionInfo\" data-toc-modified-id=\"sessionInfo-7\"><span class=\"toc-item-num\">7&nbsp;&nbsp;</span>sessionInfo</a></span></li></ul></div>"
   ]
  },
  {
   "cell_type": "markdown",
   "metadata": {},
   "source": [
    "# Goal\n",
    "\n",
    "* Prepocessing of ML data"
   ]
  },
  {
   "cell_type": "markdown",
   "metadata": {},
   "source": [
    "# Var"
   ]
  },
  {
   "cell_type": "code",
   "execution_count": 1,
   "metadata": {
    "ExecuteTime": {
     "end_time": "2022-05-25T14:12:43.200089Z",
     "start_time": "2022-05-25T14:12:43.071Z"
    }
   },
   "outputs": [],
   "source": [
    "base_dir = '/ebio/abt3_projects/HUBIF_metagenomics/data/pipelines/llg/cophyverttrans/batch2_clusters1-3/round6/HUBIF-TUK-CAM-KOR/function_db-ref/'\n",
    "work_dir = file.path(base_dir, 'ML')\n",
    "cophylo_eff_file = file.path(base_dir, 'cophylo_effect-size.tsv')\n",
    "feat_file = file.path(base_dir, 'cophylo_genome_features.tsv')\n",
    "\n",
    "# params\n",
    "threads = 12\n",
    "seed = 9382"
   ]
  },
  {
   "cell_type": "markdown",
   "metadata": {},
   "source": [
    "# Init"
   ]
  },
  {
   "cell_type": "code",
   "execution_count": 5,
   "metadata": {
    "ExecuteTime": {
     "end_time": "2022-05-25T14:12:45.549613Z",
     "start_time": "2022-05-25T14:12:45.460Z"
    }
   },
   "outputs": [],
   "source": [
    "library(dplyr)\n",
    "library(tidyr)\n",
    "library(ggplot2)\n",
    "library(data.table)\n",
    "library(tidytable)\n",
    "library(LeyLabRMisc)\n",
    "Init()"
   ]
  },
  {
   "cell_type": "code",
   "execution_count": 6,
   "metadata": {
    "ExecuteTime": {
     "end_time": "2022-05-25T14:12:45.693046Z",
     "start_time": "2022-05-25T14:12:45.596Z"
    }
   },
   "outputs": [],
   "source": [
    "library(Boruta)\n",
    "library(mlr)\n",
    "library(randomForest)\n",
    "library(parallelMap)"
   ]
  },
  {
   "cell_type": "code",
   "execution_count": 7,
   "metadata": {
    "ExecuteTime": {
     "end_time": "2022-05-25T14:12:45.815772Z",
     "start_time": "2022-05-25T14:12:45.736Z"
    }
   },
   "outputs": [
    {
     "name": "stdout",
     "output_type": "stream",
     "text": [
      "Directory already exists: /ebio/abt3_projects/HUBIF_metagenomics/data/pipelines/llg/cophyverttrans/batch2_clusters1-3/round6/HUBIF-TUK-CAM-KOR/function_db-ref//ML \n"
     ]
    }
   ],
   "source": [
    "setDTthreads(threads)\n",
    "set.seed(seed)\n",
    "make_dir(work_dir)\n",
    "df.dims()"
   ]
  },
  {
   "cell_type": "code",
   "execution_count": 8,
   "metadata": {
    "ExecuteTime": {
     "end_time": "2022-05-25T14:12:45.970172Z",
     "start_time": "2022-05-25T14:12:45.885Z"
    }
   },
   "outputs": [
    {
     "data": {
      "text/plain": [
       "Filter: 'boruta.filter'\n",
       "Packages: ''\n",
       "Supported tasks: classif,regr\n",
       "Supported features: numerics,factors,ordered"
      ]
     },
     "metadata": {},
     "output_type": "display_data"
    }
   ],
   "source": [
    "# custom boruta filter\n",
    "mlr_boruta_filter()"
   ]
  },
  {
   "cell_type": "markdown",
   "metadata": {},
   "source": [
    "# Load"
   ]
  },
  {
   "cell_type": "code",
   "execution_count": 9,
   "metadata": {
    "ExecuteTime": {
     "end_time": "2022-05-25T14:12:49.025643Z",
     "start_time": "2022-05-25T14:12:48.875Z"
    }
   },
   "outputs": [
    {
     "data": {
      "text/html": [
       "<table class=\"dataframe\">\n",
       "<caption>A tidytable: 59 × 19</caption>\n",
       "<thead>\n",
       "\t<tr><th scope=col>Species</th><th scope=col>Paco_Cons_effectsize</th><th scope=col>Paco_Best_effectsize</th><th scope=col>Parafit_Cons_effectsize</th><th scope=col>Parafit_Best_effectsize</th><th scope=col>Phytools_Cons_effectsize</th><th scope=col>Phytools_Best_effectsize</th><th scope=col>Paco_Cons_effectsize_zscore</th><th scope=col>Paco_Best_effectsize_zscore</th><th scope=col>Parafit_Cons_effectsize_zscore</th><th scope=col>Parafit_Best_effectsize_zscore</th><th scope=col>Phytools_Cons_effectsize_zscore</th><th scope=col>Phytools_Best_effectsize_zscore</th><th scope=col>Paco_Cons_pvalue</th><th scope=col>Paco_Best_pvalue</th><th scope=col>Parafit_Cons_pvalue</th><th scope=col>Parafit_Best_pvalue</th><th scope=col>Phytools_Cons_pvalue</th><th scope=col>Phytools_Best_pvalue</th></tr>\n",
       "\t<tr><th scope=col>&lt;chr&gt;</th><th scope=col>&lt;dbl&gt;</th><th scope=col>&lt;dbl&gt;</th><th scope=col>&lt;dbl&gt;</th><th scope=col>&lt;dbl&gt;</th><th scope=col>&lt;dbl&gt;</th><th scope=col>&lt;dbl&gt;</th><th scope=col>&lt;dbl&gt;</th><th scope=col>&lt;dbl&gt;</th><th scope=col>&lt;dbl&gt;</th><th scope=col>&lt;dbl&gt;</th><th scope=col>&lt;dbl&gt;</th><th scope=col>&lt;dbl&gt;</th><th scope=col>&lt;dbl&gt;</th><th scope=col>&lt;dbl&gt;</th><th scope=col>&lt;dbl&gt;</th><th scope=col>&lt;dbl&gt;</th><th scope=col>&lt;dbl&gt;</th><th scope=col>&lt;dbl&gt;</th></tr>\n",
       "</thead>\n",
       "<tbody>\n",
       "\t<tr><td>Akkermansia_muciniphila</td><td>0.002735124</td><td> 0.002151911</td><td>0.5943670</td><td> 0.3121917</td><td>-1.80632e-04</td><td> 0.006012140</td><td>-0.6174458</td><td>-0.8097915</td><td>1.31175574</td><td>-0.3046682</td><td>-0.4514548</td><td> 0.4304204</td><td>0.127</td><td>0.196</td><td>0.035</td><td>0.130</td><td>1</td><td>0.206</td></tr>\n",
       "\t<tr><td>Alistipes_finegoldii   </td><td>0.011100678</td><td>-0.001015532</td><td>0.2509558</td><td>-0.1314011</td><td>-7.50778e-05</td><td>-0.000829298</td><td> 2.1990449</td><td>-1.0364729</td><td>0.07619135</td><td>-1.6507953</td><td>-0.4431177</td><td>-1.1607124</td><td>0.001</td><td>0.608</td><td>0.048</td><td>0.803</td><td>1</td><td>1.000</td></tr>\n",
       "\t<tr><td>⋮</td><td>⋮</td><td>⋮</td><td>⋮</td><td>⋮</td><td>⋮</td><td>⋮</td><td>⋮</td><td>⋮</td><td>⋮</td><td>⋮</td><td>⋮</td><td>⋮</td><td>⋮</td><td>⋮</td><td>⋮</td><td>⋮</td><td>⋮</td><td>⋮</td></tr>\n",
       "\t<tr><td>Ruminococcus_lactaris</td><td>0.007456366</td><td>0.01752171</td><td>0.4954050</td><td>0.6095306</td><td>-0.000122711</td><td>-0.001852365</td><td> 0.9720884</td><td>0.2901641</td><td>0.95569876</td><td> 0.5976364</td><td>-0.4468799</td><td>-1.3986501</td><td>0.003</td><td>0.018</td><td>0.025</td><td>0.001</td><td>1</td><td>1.000</td></tr>\n",
       "\t<tr><td>Ruminococcus_torques </td><td>0.003375716</td><td>0.01867796</td><td>0.2363205</td><td>0.3292434</td><td>-0.000269984</td><td> 0.001976354</td><td>-0.4017731</td><td>0.3729124</td><td>0.02353484</td><td>-0.2529231</td><td>-0.4585122</td><td>-0.5081939</td><td>0.091</td><td>0.001</td><td>0.014</td><td>0.009</td><td>1</td><td>0.228</td></tr>\n",
       "</tbody>\n",
       "</table>\n"
      ],
      "text/latex": [
       "A tidytable: 59 × 19\n",
       "\\begin{tabular}{lllllllllllllllllll}\n",
       " Species & Paco\\_Cons\\_effectsize & Paco\\_Best\\_effectsize & Parafit\\_Cons\\_effectsize & Parafit\\_Best\\_effectsize & Phytools\\_Cons\\_effectsize & Phytools\\_Best\\_effectsize & Paco\\_Cons\\_effectsize\\_zscore & Paco\\_Best\\_effectsize\\_zscore & Parafit\\_Cons\\_effectsize\\_zscore & Parafit\\_Best\\_effectsize\\_zscore & Phytools\\_Cons\\_effectsize\\_zscore & Phytools\\_Best\\_effectsize\\_zscore & Paco\\_Cons\\_pvalue & Paco\\_Best\\_pvalue & Parafit\\_Cons\\_pvalue & Parafit\\_Best\\_pvalue & Phytools\\_Cons\\_pvalue & Phytools\\_Best\\_pvalue\\\\\n",
       " <chr> & <dbl> & <dbl> & <dbl> & <dbl> & <dbl> & <dbl> & <dbl> & <dbl> & <dbl> & <dbl> & <dbl> & <dbl> & <dbl> & <dbl> & <dbl> & <dbl> & <dbl> & <dbl>\\\\\n",
       "\\hline\n",
       "\t Akkermansia\\_muciniphila & 0.002735124 &  0.002151911 & 0.5943670 &  0.3121917 & -1.80632e-04 &  0.006012140 & -0.6174458 & -0.8097915 & 1.31175574 & -0.3046682 & -0.4514548 &  0.4304204 & 0.127 & 0.196 & 0.035 & 0.130 & 1 & 0.206\\\\\n",
       "\t Alistipes\\_finegoldii    & 0.011100678 & -0.001015532 & 0.2509558 & -0.1314011 & -7.50778e-05 & -0.000829298 &  2.1990449 & -1.0364729 & 0.07619135 & -1.6507953 & -0.4431177 & -1.1607124 & 0.001 & 0.608 & 0.048 & 0.803 & 1 & 1.000\\\\\n",
       "\t ⋮ & ⋮ & ⋮ & ⋮ & ⋮ & ⋮ & ⋮ & ⋮ & ⋮ & ⋮ & ⋮ & ⋮ & ⋮ & ⋮ & ⋮ & ⋮ & ⋮ & ⋮ & ⋮\\\\\n",
       "\t Ruminococcus\\_lactaris & 0.007456366 & 0.01752171 & 0.4954050 & 0.6095306 & -0.000122711 & -0.001852365 &  0.9720884 & 0.2901641 & 0.95569876 &  0.5976364 & -0.4468799 & -1.3986501 & 0.003 & 0.018 & 0.025 & 0.001 & 1 & 1.000\\\\\n",
       "\t Ruminococcus\\_torques  & 0.003375716 & 0.01867796 & 0.2363205 & 0.3292434 & -0.000269984 &  0.001976354 & -0.4017731 & 0.3729124 & 0.02353484 & -0.2529231 & -0.4585122 & -0.5081939 & 0.091 & 0.001 & 0.014 & 0.009 & 1 & 0.228\\\\\n",
       "\\end{tabular}\n"
      ],
      "text/markdown": [
       "\n",
       "A tidytable: 59 × 19\n",
       "\n",
       "| Species &lt;chr&gt; | Paco_Cons_effectsize &lt;dbl&gt; | Paco_Best_effectsize &lt;dbl&gt; | Parafit_Cons_effectsize &lt;dbl&gt; | Parafit_Best_effectsize &lt;dbl&gt; | Phytools_Cons_effectsize &lt;dbl&gt; | Phytools_Best_effectsize &lt;dbl&gt; | Paco_Cons_effectsize_zscore &lt;dbl&gt; | Paco_Best_effectsize_zscore &lt;dbl&gt; | Parafit_Cons_effectsize_zscore &lt;dbl&gt; | Parafit_Best_effectsize_zscore &lt;dbl&gt; | Phytools_Cons_effectsize_zscore &lt;dbl&gt; | Phytools_Best_effectsize_zscore &lt;dbl&gt; | Paco_Cons_pvalue &lt;dbl&gt; | Paco_Best_pvalue &lt;dbl&gt; | Parafit_Cons_pvalue &lt;dbl&gt; | Parafit_Best_pvalue &lt;dbl&gt; | Phytools_Cons_pvalue &lt;dbl&gt; | Phytools_Best_pvalue &lt;dbl&gt; |\n",
       "|---|---|---|---|---|---|---|---|---|---|---|---|---|---|---|---|---|---|---|\n",
       "| Akkermansia_muciniphila | 0.002735124 |  0.002151911 | 0.5943670 |  0.3121917 | -1.80632e-04 |  0.006012140 | -0.6174458 | -0.8097915 | 1.31175574 | -0.3046682 | -0.4514548 |  0.4304204 | 0.127 | 0.196 | 0.035 | 0.130 | 1 | 0.206 |\n",
       "| Alistipes_finegoldii    | 0.011100678 | -0.001015532 | 0.2509558 | -0.1314011 | -7.50778e-05 | -0.000829298 |  2.1990449 | -1.0364729 | 0.07619135 | -1.6507953 | -0.4431177 | -1.1607124 | 0.001 | 0.608 | 0.048 | 0.803 | 1 | 1.000 |\n",
       "| ⋮ | ⋮ | ⋮ | ⋮ | ⋮ | ⋮ | ⋮ | ⋮ | ⋮ | ⋮ | ⋮ | ⋮ | ⋮ | ⋮ | ⋮ | ⋮ | ⋮ | ⋮ | ⋮ |\n",
       "| Ruminococcus_lactaris | 0.007456366 | 0.01752171 | 0.4954050 | 0.6095306 | -0.000122711 | -0.001852365 |  0.9720884 | 0.2901641 | 0.95569876 |  0.5976364 | -0.4468799 | -1.3986501 | 0.003 | 0.018 | 0.025 | 0.001 | 1 | 1.000 |\n",
       "| Ruminococcus_torques  | 0.003375716 | 0.01867796 | 0.2363205 | 0.3292434 | -0.000269984 |  0.001976354 | -0.4017731 | 0.3729124 | 0.02353484 | -0.2529231 | -0.4585122 | -0.5081939 | 0.091 | 0.001 | 0.014 | 0.009 | 1 | 0.228 |\n",
       "\n"
      ],
      "text/plain": [
       "   Species                 Paco_Cons_effectsize Paco_Best_effectsize\n",
       "1  Akkermansia_muciniphila 0.002735124           0.002151911        \n",
       "2  Alistipes_finegoldii    0.011100678          -0.001015532        \n",
       "⋮  ⋮                       ⋮                    ⋮                   \n",
       "58 Ruminococcus_lactaris   0.007456366          0.01752171          \n",
       "59 Ruminococcus_torques    0.003375716          0.01867796          \n",
       "   Parafit_Cons_effectsize Parafit_Best_effectsize Phytools_Cons_effectsize\n",
       "1  0.5943670                0.3121917              -1.80632e-04            \n",
       "2  0.2509558               -0.1314011              -7.50778e-05            \n",
       "⋮  ⋮                       ⋮                       ⋮                       \n",
       "58 0.4954050               0.6095306               -0.000122711            \n",
       "59 0.2363205               0.3292434               -0.000269984            \n",
       "   Phytools_Best_effectsize Paco_Cons_effectsize_zscore\n",
       "1   0.006012140             -0.6174458                 \n",
       "2  -0.000829298              2.1990449                 \n",
       "⋮  ⋮                        ⋮                          \n",
       "58 -0.001852365              0.9720884                 \n",
       "59  0.001976354             -0.4017731                 \n",
       "   Paco_Best_effectsize_zscore Parafit_Cons_effectsize_zscore\n",
       "1  -0.8097915                  1.31175574                    \n",
       "2  -1.0364729                  0.07619135                    \n",
       "⋮  ⋮                           ⋮                             \n",
       "58 0.2901641                   0.95569876                    \n",
       "59 0.3729124                   0.02353484                    \n",
       "   Parafit_Best_effectsize_zscore Phytools_Cons_effectsize_zscore\n",
       "1  -0.3046682                     -0.4514548                     \n",
       "2  -1.6507953                     -0.4431177                     \n",
       "⋮  ⋮                              ⋮                              \n",
       "58  0.5976364                     -0.4468799                     \n",
       "59 -0.2529231                     -0.4585122                     \n",
       "   Phytools_Best_effectsize_zscore Paco_Cons_pvalue Paco_Best_pvalue\n",
       "1   0.4304204                      0.127            0.196           \n",
       "2  -1.1607124                      0.001            0.608           \n",
       "⋮  ⋮                               ⋮                ⋮               \n",
       "58 -1.3986501                      0.003            0.018           \n",
       "59 -0.5081939                      0.091            0.001           \n",
       "   Parafit_Cons_pvalue Parafit_Best_pvalue Phytools_Cons_pvalue\n",
       "1  0.035               0.130               1                   \n",
       "2  0.048               0.803               1                   \n",
       "⋮  ⋮                   ⋮                   ⋮                   \n",
       "58 0.025               0.001               1                   \n",
       "59 0.014               0.009               1                   \n",
       "   Phytools_Best_pvalue\n",
       "1  0.206               \n",
       "2  1.000               \n",
       "⋮  ⋮                   \n",
       "58 1.000               \n",
       "59 0.228               "
      ]
     },
     "metadata": {},
     "output_type": "display_data"
    }
   ],
   "source": [
    "cophylo_eff = Fread(cophylo_eff_file) %>%\n",
    "    mutate.(Taxa = gsub('^s__', '', Taxa)) %>%\n",
    "    rename.('Species' = Taxa)\n",
    "cophylo_eff"
   ]
  },
  {
   "cell_type": "code",
   "execution_count": 10,
   "metadata": {
    "ExecuteTime": {
     "end_time": "2022-05-25T14:12:49.327095Z",
     "start_time": "2022-05-25T14:12:49.024Z"
    }
   },
   "outputs": [
    {
     "data": {
      "text/html": [
       "<table class=\"dataframe\">\n",
       "<caption>A data.frame: 495 × 847</caption>\n",
       "<thead>\n",
       "\t<tr><th scope=col>Genome</th><th scope=col>species</th><th scope=col>ncbi_taxid</th><th scope=col>strain</th><th scope=col>dl_species</th><th scope=col>Fasta</th><th scope=col>Completeness</th><th scope=col>Contamination</th><th scope=col>Strain_heterogeneity</th><th scope=col>Genome_size__bp</th><th scope=col>⋯</th><th scope=col>num_genes_KO.K17686</th><th scope=col>num_genes_KO.K17758</th><th scope=col>num_genes_KO.K17759</th><th scope=col>num_genes_KO.K17828</th><th scope=col>num_genes_KO.K18682</th><th scope=col>num_genes_KO.K18707</th><th scope=col>num_genes_KO.K19302</th><th scope=col>num_genes_KO.K21071</th><th scope=col>num_genes_KO.K21636</th><th scope=col>num_genes_KO.K22132</th></tr>\n",
       "\t<tr><th scope=col>&lt;chr&gt;</th><th scope=col>&lt;chr&gt;</th><th scope=col>&lt;int&gt;</th><th scope=col>&lt;chr&gt;</th><th scope=col>&lt;chr&gt;</th><th scope=col>&lt;chr&gt;</th><th scope=col>&lt;dbl&gt;</th><th scope=col>&lt;dbl&gt;</th><th scope=col>&lt;dbl&gt;</th><th scope=col>&lt;int&gt;</th><th scope=col>⋯</th><th scope=col>&lt;int&gt;</th><th scope=col>&lt;int&gt;</th><th scope=col>&lt;int&gt;</th><th scope=col>&lt;int&gt;</th><th scope=col>&lt;int&gt;</th><th scope=col>&lt;int&gt;</th><th scope=col>&lt;int&gt;</th><th scope=col>&lt;int&gt;</th><th scope=col>&lt;int&gt;</th><th scope=col>&lt;int&gt;</th></tr>\n",
       "</thead>\n",
       "<tbody>\n",
       "\t<tr><td>GCA_000431575_1</td><td>Firmicutes_bacterium_CAG_83</td><td>1262992</td><td>CAG:83 </td><td>Firmicutes bacterium CAG:83</td><td>/ebio/abt3_projects/temp_data/nyoungblut/cophylo_genomes//genome_dl/human_readable/genbank/bacteria/Firmicutes/bacterium/CAG:83/GCA_000431575.1_MGS83_genomic.fna.gz</td><td>91.23</td><td>0.67</td><td>0</td><td>1866939</td><td>⋯</td><td>1</td><td>1</td><td>1</td><td>1</td><td>1</td><td>1</td><td>1</td><td>1</td><td>1</td><td>1</td></tr>\n",
       "\t<tr><td>GCA_000432435_1</td><td>Eubacterium_sp_CAG_180     </td><td>1262882</td><td>CAG:180</td><td>Eubacterium sp. CAG:180    </td><td>/ebio/abt3_projects/temp_data/nyoungblut/cophylo_genomes//genome_dl/human_readable/genbank/bacteria/Eubacterium/sp./CAG:180/GCA_000432435.1_MGS180_genomic.fna.gz   </td><td>97.99</td><td>0.34</td><td>0</td><td>1882175</td><td>⋯</td><td>1</td><td>1</td><td>1</td><td>1</td><td>1</td><td>1</td><td>0</td><td>0</td><td>1</td><td>1</td></tr>\n",
       "\t<tr><td>⋮</td><td>⋮</td><td>⋮</td><td>⋮</td><td>⋮</td><td>⋮</td><td>⋮</td><td>⋮</td><td>⋮</td><td>⋮</td><td>⋱</td><td>⋮</td><td>⋮</td><td>⋮</td><td>⋮</td><td>⋮</td><td>⋮</td><td>⋮</td><td>⋮</td><td>⋮</td><td>⋮</td></tr>\n",
       "\t<tr><td>GCF_019645995_1</td><td>Escherichia_coli</td><td>562</td><td>XL1-Blue           </td><td>Escherichia coli</td><td>/ebio/abt3_projects/temp_data/nyoungblut/cophylo_genomes//genome_dl/human_readable/refseq/bacteria/Escherichia/coli/XL1-Blue/GCF_019645995.1_ASM1964599v1_genomic.fna.gz           </td><td>99.97</td><td>0.04</td><td>0</td><td>4663358</td><td>⋯</td><td>1</td><td>1</td><td>1</td><td>0</td><td>0</td><td>0</td><td>1</td><td>0</td><td>1</td><td>1</td></tr>\n",
       "\t<tr><td>GCF_904711265_1</td><td>Escherichia_coli</td><td>562</td><td>Quinolone resistant</td><td>Escherichia coli</td><td>/ebio/abt3_projects/temp_data/nyoungblut/cophylo_genomes//genome_dl/human_readable/refseq/bacteria/Escherichia/coli/Quinolone_resistant/GCF_904711265.1_2014-01-7375_genomic.fna.gz</td><td>99.97</td><td>0.04</td><td>0</td><td>5270466</td><td>⋯</td><td>1</td><td>1</td><td>1</td><td>0</td><td>0</td><td>0</td><td>1</td><td>0</td><td>2</td><td>1</td></tr>\n",
       "</tbody>\n",
       "</table>\n"
      ],
      "text/latex": [
       "A data.frame: 495 × 847\n",
       "\\begin{tabular}{lllllllllllllllllllll}\n",
       " Genome & species & ncbi\\_taxid & strain & dl\\_species & Fasta & Completeness & Contamination & Strain\\_heterogeneity & Genome\\_size\\_\\_bp & ⋯ & num\\_genes\\_KO.K17686 & num\\_genes\\_KO.K17758 & num\\_genes\\_KO.K17759 & num\\_genes\\_KO.K17828 & num\\_genes\\_KO.K18682 & num\\_genes\\_KO.K18707 & num\\_genes\\_KO.K19302 & num\\_genes\\_KO.K21071 & num\\_genes\\_KO.K21636 & num\\_genes\\_KO.K22132\\\\\n",
       " <chr> & <chr> & <int> & <chr> & <chr> & <chr> & <dbl> & <dbl> & <dbl> & <int> & ⋯ & <int> & <int> & <int> & <int> & <int> & <int> & <int> & <int> & <int> & <int>\\\\\n",
       "\\hline\n",
       "\t GCA\\_000431575\\_1 & Firmicutes\\_bacterium\\_CAG\\_83 & 1262992 & CAG:83  & Firmicutes bacterium CAG:83 & /ebio/abt3\\_projects/temp\\_data/nyoungblut/cophylo\\_genomes//genome\\_dl/human\\_readable/genbank/bacteria/Firmicutes/bacterium/CAG:83/GCA\\_000431575.1\\_MGS83\\_genomic.fna.gz & 91.23 & 0.67 & 0 & 1866939 & ⋯ & 1 & 1 & 1 & 1 & 1 & 1 & 1 & 1 & 1 & 1\\\\\n",
       "\t GCA\\_000432435\\_1 & Eubacterium\\_sp\\_CAG\\_180      & 1262882 & CAG:180 & Eubacterium sp. CAG:180     & /ebio/abt3\\_projects/temp\\_data/nyoungblut/cophylo\\_genomes//genome\\_dl/human\\_readable/genbank/bacteria/Eubacterium/sp./CAG:180/GCA\\_000432435.1\\_MGS180\\_genomic.fna.gz    & 97.99 & 0.34 & 0 & 1882175 & ⋯ & 1 & 1 & 1 & 1 & 1 & 1 & 0 & 0 & 1 & 1\\\\\n",
       "\t ⋮ & ⋮ & ⋮ & ⋮ & ⋮ & ⋮ & ⋮ & ⋮ & ⋮ & ⋮ & ⋱ & ⋮ & ⋮ & ⋮ & ⋮ & ⋮ & ⋮ & ⋮ & ⋮ & ⋮ & ⋮\\\\\n",
       "\t GCF\\_019645995\\_1 & Escherichia\\_coli & 562 & XL1-Blue            & Escherichia coli & /ebio/abt3\\_projects/temp\\_data/nyoungblut/cophylo\\_genomes//genome\\_dl/human\\_readable/refseq/bacteria/Escherichia/coli/XL1-Blue/GCF\\_019645995.1\\_ASM1964599v1\\_genomic.fna.gz            & 99.97 & 0.04 & 0 & 4663358 & ⋯ & 1 & 1 & 1 & 0 & 0 & 0 & 1 & 0 & 1 & 1\\\\\n",
       "\t GCF\\_904711265\\_1 & Escherichia\\_coli & 562 & Quinolone resistant & Escherichia coli & /ebio/abt3\\_projects/temp\\_data/nyoungblut/cophylo\\_genomes//genome\\_dl/human\\_readable/refseq/bacteria/Escherichia/coli/Quinolone\\_resistant/GCF\\_904711265.1\\_2014-01-7375\\_genomic.fna.gz & 99.97 & 0.04 & 0 & 5270466 & ⋯ & 1 & 1 & 1 & 0 & 0 & 0 & 1 & 0 & 2 & 1\\\\\n",
       "\\end{tabular}\n"
      ],
      "text/markdown": [
       "\n",
       "A data.frame: 495 × 847\n",
       "\n",
       "| Genome &lt;chr&gt; | species &lt;chr&gt; | ncbi_taxid &lt;int&gt; | strain &lt;chr&gt; | dl_species &lt;chr&gt; | Fasta &lt;chr&gt; | Completeness &lt;dbl&gt; | Contamination &lt;dbl&gt; | Strain_heterogeneity &lt;dbl&gt; | Genome_size__bp &lt;int&gt; | ⋯ ⋯ | num_genes_KO.K17686 &lt;int&gt; | num_genes_KO.K17758 &lt;int&gt; | num_genes_KO.K17759 &lt;int&gt; | num_genes_KO.K17828 &lt;int&gt; | num_genes_KO.K18682 &lt;int&gt; | num_genes_KO.K18707 &lt;int&gt; | num_genes_KO.K19302 &lt;int&gt; | num_genes_KO.K21071 &lt;int&gt; | num_genes_KO.K21636 &lt;int&gt; | num_genes_KO.K22132 &lt;int&gt; |\n",
       "|---|---|---|---|---|---|---|---|---|---|---|---|---|---|---|---|---|---|---|---|---|\n",
       "| GCA_000431575_1 | Firmicutes_bacterium_CAG_83 | 1262992 | CAG:83  | Firmicutes bacterium CAG:83 | /ebio/abt3_projects/temp_data/nyoungblut/cophylo_genomes//genome_dl/human_readable/genbank/bacteria/Firmicutes/bacterium/CAG:83/GCA_000431575.1_MGS83_genomic.fna.gz | 91.23 | 0.67 | 0 | 1866939 | ⋯ | 1 | 1 | 1 | 1 | 1 | 1 | 1 | 1 | 1 | 1 |\n",
       "| GCA_000432435_1 | Eubacterium_sp_CAG_180      | 1262882 | CAG:180 | Eubacterium sp. CAG:180     | /ebio/abt3_projects/temp_data/nyoungblut/cophylo_genomes//genome_dl/human_readable/genbank/bacteria/Eubacterium/sp./CAG:180/GCA_000432435.1_MGS180_genomic.fna.gz    | 97.99 | 0.34 | 0 | 1882175 | ⋯ | 1 | 1 | 1 | 1 | 1 | 1 | 0 | 0 | 1 | 1 |\n",
       "| ⋮ | ⋮ | ⋮ | ⋮ | ⋮ | ⋮ | ⋮ | ⋮ | ⋮ | ⋮ | ⋱ | ⋮ | ⋮ | ⋮ | ⋮ | ⋮ | ⋮ | ⋮ | ⋮ | ⋮ | ⋮ |\n",
       "| GCF_019645995_1 | Escherichia_coli | 562 | XL1-Blue            | Escherichia coli | /ebio/abt3_projects/temp_data/nyoungblut/cophylo_genomes//genome_dl/human_readable/refseq/bacteria/Escherichia/coli/XL1-Blue/GCF_019645995.1_ASM1964599v1_genomic.fna.gz            | 99.97 | 0.04 | 0 | 4663358 | ⋯ | 1 | 1 | 1 | 0 | 0 | 0 | 1 | 0 | 1 | 1 |\n",
       "| GCF_904711265_1 | Escherichia_coli | 562 | Quinolone resistant | Escherichia coli | /ebio/abt3_projects/temp_data/nyoungblut/cophylo_genomes//genome_dl/human_readable/refseq/bacteria/Escherichia/coli/Quinolone_resistant/GCF_904711265.1_2014-01-7375_genomic.fna.gz | 99.97 | 0.04 | 0 | 5270466 | ⋯ | 1 | 1 | 1 | 0 | 0 | 0 | 1 | 0 | 2 | 1 |\n",
       "\n"
      ],
      "text/plain": [
       "    Genome          species                     ncbi_taxid strain             \n",
       "1   GCA_000431575_1 Firmicutes_bacterium_CAG_83 1262992    CAG:83             \n",
       "2   GCA_000432435_1 Eubacterium_sp_CAG_180      1262882    CAG:180            \n",
       "⋮   ⋮               ⋮                           ⋮          ⋮                  \n",
       "494 GCF_019645995_1 Escherichia_coli            562        XL1-Blue           \n",
       "495 GCF_904711265_1 Escherichia_coli            562        Quinolone resistant\n",
       "    dl_species                 \n",
       "1   Firmicutes bacterium CAG:83\n",
       "2   Eubacterium sp. CAG:180    \n",
       "⋮   ⋮                          \n",
       "494 Escherichia coli           \n",
       "495 Escherichia coli           \n",
       "    Fasta                                                                                                                                                                              \n",
       "1   /ebio/abt3_projects/temp_data/nyoungblut/cophylo_genomes//genome_dl/human_readable/genbank/bacteria/Firmicutes/bacterium/CAG:83/GCA_000431575.1_MGS83_genomic.fna.gz               \n",
       "2   /ebio/abt3_projects/temp_data/nyoungblut/cophylo_genomes//genome_dl/human_readable/genbank/bacteria/Eubacterium/sp./CAG:180/GCA_000432435.1_MGS180_genomic.fna.gz                  \n",
       "⋮   ⋮                                                                                                                                                                                  \n",
       "494 /ebio/abt3_projects/temp_data/nyoungblut/cophylo_genomes//genome_dl/human_readable/refseq/bacteria/Escherichia/coli/XL1-Blue/GCF_019645995.1_ASM1964599v1_genomic.fna.gz           \n",
       "495 /ebio/abt3_projects/temp_data/nyoungblut/cophylo_genomes//genome_dl/human_readable/refseq/bacteria/Escherichia/coli/Quinolone_resistant/GCF_904711265.1_2014-01-7375_genomic.fna.gz\n",
       "    Completeness Contamination Strain_heterogeneity Genome_size__bp ⋯\n",
       "1   91.23        0.67          0                    1866939         ⋯\n",
       "2   97.99        0.34          0                    1882175         ⋯\n",
       "⋮   ⋮            ⋮             ⋮                    ⋮               ⋱\n",
       "494 99.97        0.04          0                    4663358         ⋯\n",
       "495 99.97        0.04          0                    5270466         ⋯\n",
       "    num_genes_KO.K17686 num_genes_KO.K17758 num_genes_KO.K17759\n",
       "1   1                   1                   1                  \n",
       "2   1                   1                   1                  \n",
       "⋮   ⋮                   ⋮                   ⋮                  \n",
       "494 1                   1                   1                  \n",
       "495 1                   1                   1                  \n",
       "    num_genes_KO.K17828 num_genes_KO.K18682 num_genes_KO.K18707\n",
       "1   1                   1                   1                  \n",
       "2   1                   1                   1                  \n",
       "⋮   ⋮                   ⋮                   ⋮                  \n",
       "494 0                   0                   0                  \n",
       "495 0                   0                   0                  \n",
       "    num_genes_KO.K19302 num_genes_KO.K21071 num_genes_KO.K21636\n",
       "1   1                   1                   1                  \n",
       "2   0                   0                   1                  \n",
       "⋮   ⋮                   ⋮                   ⋮                  \n",
       "494 1                   0                   1                  \n",
       "495 1                   0                   2                  \n",
       "    num_genes_KO.K22132\n",
       "1   1                  \n",
       "2   1                  \n",
       "⋮   ⋮                  \n",
       "494 1                  \n",
       "495 1                  "
      ]
     },
     "metadata": {},
     "output_type": "display_data"
    }
   ],
   "source": [
    "# features\n",
    "feats = Fread(feat_file) %>%\n",
    "    as.data.frame\n",
    "feats"
   ]
  },
  {
   "cell_type": "code",
   "execution_count": 11,
   "metadata": {
    "ExecuteTime": {
     "end_time": "2022-05-25T14:12:49.748639Z",
     "start_time": "2022-05-25T14:12:49.158Z"
    }
   },
   "outputs": [
    {
     "data": {
      "text/html": [
       "<table class=\"dataframe\">\n",
       "<caption>A data.frame: 495 × 677</caption>\n",
       "<thead>\n",
       "\t<tr><th scope=col>Genome</th><th scope=col>species</th><th scope=col>ncbi_taxid</th><th scope=col>strain</th><th scope=col>dl_species</th><th scope=col>Fasta</th><th scope=col>Completeness</th><th scope=col>Contamination</th><th scope=col>Strain_heterogeneity</th><th scope=col>Genome_size__bp</th><th scope=col>⋯</th><th scope=col>num_genes_KO.K17686</th><th scope=col>num_genes_KO.K17758</th><th scope=col>num_genes_KO.K17759</th><th scope=col>num_genes_KO.K17828</th><th scope=col>num_genes_KO.K18682</th><th scope=col>num_genes_KO.K18707</th><th scope=col>num_genes_KO.K19302</th><th scope=col>num_genes_KO.K21071</th><th scope=col>num_genes_KO.K21636</th><th scope=col>num_genes_KO.K22132</th></tr>\n",
       "\t<tr><th scope=col>&lt;chr&gt;</th><th scope=col>&lt;chr&gt;</th><th scope=col>&lt;int&gt;</th><th scope=col>&lt;chr&gt;</th><th scope=col>&lt;chr&gt;</th><th scope=col>&lt;chr&gt;</th><th scope=col>&lt;dbl&gt;</th><th scope=col>&lt;dbl&gt;</th><th scope=col>&lt;dbl&gt;</th><th scope=col>&lt;int&gt;</th><th scope=col>⋯</th><th scope=col>&lt;int&gt;</th><th scope=col>&lt;int&gt;</th><th scope=col>&lt;int&gt;</th><th scope=col>&lt;int&gt;</th><th scope=col>&lt;int&gt;</th><th scope=col>&lt;int&gt;</th><th scope=col>&lt;int&gt;</th><th scope=col>&lt;int&gt;</th><th scope=col>&lt;int&gt;</th><th scope=col>&lt;int&gt;</th></tr>\n",
       "</thead>\n",
       "<tbody>\n",
       "\t<tr><td>GCA_000431575_1</td><td>Firmicutes_bacterium_CAG_83</td><td>1262992</td><td>CAG:83 </td><td>Firmicutes bacterium CAG:83</td><td>/ebio/abt3_projects/temp_data/nyoungblut/cophylo_genomes//genome_dl/human_readable/genbank/bacteria/Firmicutes/bacterium/CAG:83/GCA_000431575.1_MGS83_genomic.fna.gz</td><td>91.23</td><td>0.67</td><td>0</td><td>1866939</td><td>⋯</td><td>1</td><td>1</td><td>1</td><td>1</td><td>1</td><td>1</td><td>1</td><td>1</td><td>1</td><td>1</td></tr>\n",
       "\t<tr><td>GCA_000432435_1</td><td>Eubacterium_sp_CAG_180     </td><td>1262882</td><td>CAG:180</td><td>Eubacterium sp. CAG:180    </td><td>/ebio/abt3_projects/temp_data/nyoungblut/cophylo_genomes//genome_dl/human_readable/genbank/bacteria/Eubacterium/sp./CAG:180/GCA_000432435.1_MGS180_genomic.fna.gz   </td><td>97.99</td><td>0.34</td><td>0</td><td>1882175</td><td>⋯</td><td>1</td><td>1</td><td>1</td><td>1</td><td>1</td><td>1</td><td>0</td><td>0</td><td>1</td><td>1</td></tr>\n",
       "\t<tr><td>⋮</td><td>⋮</td><td>⋮</td><td>⋮</td><td>⋮</td><td>⋮</td><td>⋮</td><td>⋮</td><td>⋮</td><td>⋮</td><td>⋱</td><td>⋮</td><td>⋮</td><td>⋮</td><td>⋮</td><td>⋮</td><td>⋮</td><td>⋮</td><td>⋮</td><td>⋮</td><td>⋮</td></tr>\n",
       "\t<tr><td>GCF_019645995_1</td><td>Escherichia_coli</td><td>562</td><td>XL1-Blue           </td><td>Escherichia coli</td><td>/ebio/abt3_projects/temp_data/nyoungblut/cophylo_genomes//genome_dl/human_readable/refseq/bacteria/Escherichia/coli/XL1-Blue/GCF_019645995.1_ASM1964599v1_genomic.fna.gz           </td><td>99.97</td><td>0.04</td><td>0</td><td>4663358</td><td>⋯</td><td>1</td><td>1</td><td>1</td><td>0</td><td>0</td><td>0</td><td>1</td><td>0</td><td>1</td><td>1</td></tr>\n",
       "\t<tr><td>GCF_904711265_1</td><td>Escherichia_coli</td><td>562</td><td>Quinolone resistant</td><td>Escherichia coli</td><td>/ebio/abt3_projects/temp_data/nyoungblut/cophylo_genomes//genome_dl/human_readable/refseq/bacteria/Escherichia/coli/Quinolone_resistant/GCF_904711265.1_2014-01-7375_genomic.fna.gz</td><td>99.97</td><td>0.04</td><td>0</td><td>5270466</td><td>⋯</td><td>1</td><td>1</td><td>1</td><td>0</td><td>0</td><td>0</td><td>1</td><td>0</td><td>2</td><td>1</td></tr>\n",
       "</tbody>\n",
       "</table>\n"
      ],
      "text/latex": [
       "A data.frame: 495 × 677\n",
       "\\begin{tabular}{lllllllllllllllllllll}\n",
       " Genome & species & ncbi\\_taxid & strain & dl\\_species & Fasta & Completeness & Contamination & Strain\\_heterogeneity & Genome\\_size\\_\\_bp & ⋯ & num\\_genes\\_KO.K17686 & num\\_genes\\_KO.K17758 & num\\_genes\\_KO.K17759 & num\\_genes\\_KO.K17828 & num\\_genes\\_KO.K18682 & num\\_genes\\_KO.K18707 & num\\_genes\\_KO.K19302 & num\\_genes\\_KO.K21071 & num\\_genes\\_KO.K21636 & num\\_genes\\_KO.K22132\\\\\n",
       " <chr> & <chr> & <int> & <chr> & <chr> & <chr> & <dbl> & <dbl> & <dbl> & <int> & ⋯ & <int> & <int> & <int> & <int> & <int> & <int> & <int> & <int> & <int> & <int>\\\\\n",
       "\\hline\n",
       "\t GCA\\_000431575\\_1 & Firmicutes\\_bacterium\\_CAG\\_83 & 1262992 & CAG:83  & Firmicutes bacterium CAG:83 & /ebio/abt3\\_projects/temp\\_data/nyoungblut/cophylo\\_genomes//genome\\_dl/human\\_readable/genbank/bacteria/Firmicutes/bacterium/CAG:83/GCA\\_000431575.1\\_MGS83\\_genomic.fna.gz & 91.23 & 0.67 & 0 & 1866939 & ⋯ & 1 & 1 & 1 & 1 & 1 & 1 & 1 & 1 & 1 & 1\\\\\n",
       "\t GCA\\_000432435\\_1 & Eubacterium\\_sp\\_CAG\\_180      & 1262882 & CAG:180 & Eubacterium sp. CAG:180     & /ebio/abt3\\_projects/temp\\_data/nyoungblut/cophylo\\_genomes//genome\\_dl/human\\_readable/genbank/bacteria/Eubacterium/sp./CAG:180/GCA\\_000432435.1\\_MGS180\\_genomic.fna.gz    & 97.99 & 0.34 & 0 & 1882175 & ⋯ & 1 & 1 & 1 & 1 & 1 & 1 & 0 & 0 & 1 & 1\\\\\n",
       "\t ⋮ & ⋮ & ⋮ & ⋮ & ⋮ & ⋮ & ⋮ & ⋮ & ⋮ & ⋮ & ⋱ & ⋮ & ⋮ & ⋮ & ⋮ & ⋮ & ⋮ & ⋮ & ⋮ & ⋮ & ⋮\\\\\n",
       "\t GCF\\_019645995\\_1 & Escherichia\\_coli & 562 & XL1-Blue            & Escherichia coli & /ebio/abt3\\_projects/temp\\_data/nyoungblut/cophylo\\_genomes//genome\\_dl/human\\_readable/refseq/bacteria/Escherichia/coli/XL1-Blue/GCF\\_019645995.1\\_ASM1964599v1\\_genomic.fna.gz            & 99.97 & 0.04 & 0 & 4663358 & ⋯ & 1 & 1 & 1 & 0 & 0 & 0 & 1 & 0 & 1 & 1\\\\\n",
       "\t GCF\\_904711265\\_1 & Escherichia\\_coli & 562 & Quinolone resistant & Escherichia coli & /ebio/abt3\\_projects/temp\\_data/nyoungblut/cophylo\\_genomes//genome\\_dl/human\\_readable/refseq/bacteria/Escherichia/coli/Quinolone\\_resistant/GCF\\_904711265.1\\_2014-01-7375\\_genomic.fna.gz & 99.97 & 0.04 & 0 & 5270466 & ⋯ & 1 & 1 & 1 & 0 & 0 & 0 & 1 & 0 & 2 & 1\\\\\n",
       "\\end{tabular}\n"
      ],
      "text/markdown": [
       "\n",
       "A data.frame: 495 × 677\n",
       "\n",
       "| Genome &lt;chr&gt; | species &lt;chr&gt; | ncbi_taxid &lt;int&gt; | strain &lt;chr&gt; | dl_species &lt;chr&gt; | Fasta &lt;chr&gt; | Completeness &lt;dbl&gt; | Contamination &lt;dbl&gt; | Strain_heterogeneity &lt;dbl&gt; | Genome_size__bp &lt;int&gt; | ⋯ ⋯ | num_genes_KO.K17686 &lt;int&gt; | num_genes_KO.K17758 &lt;int&gt; | num_genes_KO.K17759 &lt;int&gt; | num_genes_KO.K17828 &lt;int&gt; | num_genes_KO.K18682 &lt;int&gt; | num_genes_KO.K18707 &lt;int&gt; | num_genes_KO.K19302 &lt;int&gt; | num_genes_KO.K21071 &lt;int&gt; | num_genes_KO.K21636 &lt;int&gt; | num_genes_KO.K22132 &lt;int&gt; |\n",
       "|---|---|---|---|---|---|---|---|---|---|---|---|---|---|---|---|---|---|---|---|---|\n",
       "| GCA_000431575_1 | Firmicutes_bacterium_CAG_83 | 1262992 | CAG:83  | Firmicutes bacterium CAG:83 | /ebio/abt3_projects/temp_data/nyoungblut/cophylo_genomes//genome_dl/human_readable/genbank/bacteria/Firmicutes/bacterium/CAG:83/GCA_000431575.1_MGS83_genomic.fna.gz | 91.23 | 0.67 | 0 | 1866939 | ⋯ | 1 | 1 | 1 | 1 | 1 | 1 | 1 | 1 | 1 | 1 |\n",
       "| GCA_000432435_1 | Eubacterium_sp_CAG_180      | 1262882 | CAG:180 | Eubacterium sp. CAG:180     | /ebio/abt3_projects/temp_data/nyoungblut/cophylo_genomes//genome_dl/human_readable/genbank/bacteria/Eubacterium/sp./CAG:180/GCA_000432435.1_MGS180_genomic.fna.gz    | 97.99 | 0.34 | 0 | 1882175 | ⋯ | 1 | 1 | 1 | 1 | 1 | 1 | 0 | 0 | 1 | 1 |\n",
       "| ⋮ | ⋮ | ⋮ | ⋮ | ⋮ | ⋮ | ⋮ | ⋮ | ⋮ | ⋮ | ⋱ | ⋮ | ⋮ | ⋮ | ⋮ | ⋮ | ⋮ | ⋮ | ⋮ | ⋮ | ⋮ |\n",
       "| GCF_019645995_1 | Escherichia_coli | 562 | XL1-Blue            | Escherichia coli | /ebio/abt3_projects/temp_data/nyoungblut/cophylo_genomes//genome_dl/human_readable/refseq/bacteria/Escherichia/coli/XL1-Blue/GCF_019645995.1_ASM1964599v1_genomic.fna.gz            | 99.97 | 0.04 | 0 | 4663358 | ⋯ | 1 | 1 | 1 | 0 | 0 | 0 | 1 | 0 | 1 | 1 |\n",
       "| GCF_904711265_1 | Escherichia_coli | 562 | Quinolone resistant | Escherichia coli | /ebio/abt3_projects/temp_data/nyoungblut/cophylo_genomes//genome_dl/human_readable/refseq/bacteria/Escherichia/coli/Quinolone_resistant/GCF_904711265.1_2014-01-7375_genomic.fna.gz | 99.97 | 0.04 | 0 | 5270466 | ⋯ | 1 | 1 | 1 | 0 | 0 | 0 | 1 | 0 | 2 | 1 |\n",
       "\n"
      ],
      "text/plain": [
       "    Genome          species                     ncbi_taxid strain             \n",
       "1   GCA_000431575_1 Firmicutes_bacterium_CAG_83 1262992    CAG:83             \n",
       "2   GCA_000432435_1 Eubacterium_sp_CAG_180      1262882    CAG:180            \n",
       "⋮   ⋮               ⋮                           ⋮          ⋮                  \n",
       "494 GCF_019645995_1 Escherichia_coli            562        XL1-Blue           \n",
       "495 GCF_904711265_1 Escherichia_coli            562        Quinolone resistant\n",
       "    dl_species                 \n",
       "1   Firmicutes bacterium CAG:83\n",
       "2   Eubacterium sp. CAG:180    \n",
       "⋮   ⋮                          \n",
       "494 Escherichia coli           \n",
       "495 Escherichia coli           \n",
       "    Fasta                                                                                                                                                                              \n",
       "1   /ebio/abt3_projects/temp_data/nyoungblut/cophylo_genomes//genome_dl/human_readable/genbank/bacteria/Firmicutes/bacterium/CAG:83/GCA_000431575.1_MGS83_genomic.fna.gz               \n",
       "2   /ebio/abt3_projects/temp_data/nyoungblut/cophylo_genomes//genome_dl/human_readable/genbank/bacteria/Eubacterium/sp./CAG:180/GCA_000432435.1_MGS180_genomic.fna.gz                  \n",
       "⋮   ⋮                                                                                                                                                                                  \n",
       "494 /ebio/abt3_projects/temp_data/nyoungblut/cophylo_genomes//genome_dl/human_readable/refseq/bacteria/Escherichia/coli/XL1-Blue/GCF_019645995.1_ASM1964599v1_genomic.fna.gz           \n",
       "495 /ebio/abt3_projects/temp_data/nyoungblut/cophylo_genomes//genome_dl/human_readable/refseq/bacteria/Escherichia/coli/Quinolone_resistant/GCF_904711265.1_2014-01-7375_genomic.fna.gz\n",
       "    Completeness Contamination Strain_heterogeneity Genome_size__bp ⋯\n",
       "1   91.23        0.67          0                    1866939         ⋯\n",
       "2   97.99        0.34          0                    1882175         ⋯\n",
       "⋮   ⋮            ⋮             ⋮                    ⋮               ⋱\n",
       "494 99.97        0.04          0                    4663358         ⋯\n",
       "495 99.97        0.04          0                    5270466         ⋯\n",
       "    num_genes_KO.K17686 num_genes_KO.K17758 num_genes_KO.K17759\n",
       "1   1                   1                   1                  \n",
       "2   1                   1                   1                  \n",
       "⋮   ⋮                   ⋮                   ⋮                  \n",
       "494 1                   1                   1                  \n",
       "495 1                   1                   1                  \n",
       "    num_genes_KO.K17828 num_genes_KO.K18682 num_genes_KO.K18707\n",
       "1   1                   1                   1                  \n",
       "2   1                   1                   1                  \n",
       "⋮   ⋮                   ⋮                   ⋮                  \n",
       "494 0                   0                   0                  \n",
       "495 0                   0                   0                  \n",
       "    num_genes_KO.K19302 num_genes_KO.K21071 num_genes_KO.K21636\n",
       "1   1                   1                   1                  \n",
       "2   0                   0                   1                  \n",
       "⋮   ⋮                   ⋮                   ⋮                  \n",
       "494 1                   0                   1                  \n",
       "495 1                   0                   2                  \n",
       "    num_genes_KO.K22132\n",
       "1   1                  \n",
       "2   1                  \n",
       "⋮   ⋮                  \n",
       "494 1                  \n",
       "495 1                  "
      ]
     },
     "metadata": {},
     "output_type": "display_data"
    }
   ],
   "source": [
    "# filtering out KEGG features\n",
    "to_rm = grepl('^num_genes_KEGG', colnames(feats))\n",
    "feats = as.data.frame(feats[,!to_rm])\n",
    "feats"
   ]
  },
  {
   "cell_type": "code",
   "execution_count": 12,
   "metadata": {
    "ExecuteTime": {
     "end_time": "2022-05-25T14:12:49.813336Z",
     "start_time": "2022-05-25T14:12:49.292Z"
    }
   },
   "outputs": [
    {
     "data": {
      "text/html": [
       "<table class=\"dataframe\">\n",
       "<caption>A data.table: 495 × 139</caption>\n",
       "<thead>\n",
       "\t<tr><th scope=col>Genome</th><th scope=col>species</th><th scope=col>ncbi_taxid</th><th scope=col>strain</th><th scope=col>dl_species</th><th scope=col>Fasta</th><th scope=col>Completeness</th><th scope=col>Contamination</th><th scope=col>Strain_heterogeneity</th><th scope=col>Genome_size__bp</th><th scope=col>⋯</th><th scope=col>num_genes_COG.N</th><th scope=col>num_genes_COG.O</th><th scope=col>num_genes_COG.P</th><th scope=col>num_genes_COG.Q</th><th scope=col>num_genes_COG.S</th><th scope=col>num_genes_COG.T</th><th scope=col>num_genes_COG.U</th><th scope=col>num_genes_COG.V</th><th scope=col>num_genes_COG.W</th><th scope=col>num_genes_COG.Z</th></tr>\n",
       "\t<tr><th scope=col>&lt;chr&gt;</th><th scope=col>&lt;chr&gt;</th><th scope=col>&lt;int&gt;</th><th scope=col>&lt;chr&gt;</th><th scope=col>&lt;chr&gt;</th><th scope=col>&lt;chr&gt;</th><th scope=col>&lt;dbl&gt;</th><th scope=col>&lt;dbl&gt;</th><th scope=col>&lt;dbl&gt;</th><th scope=col>&lt;int&gt;</th><th scope=col>⋯</th><th scope=col>&lt;int&gt;</th><th scope=col>&lt;int&gt;</th><th scope=col>&lt;int&gt;</th><th scope=col>&lt;int&gt;</th><th scope=col>&lt;int&gt;</th><th scope=col>&lt;int&gt;</th><th scope=col>&lt;int&gt;</th><th scope=col>&lt;int&gt;</th><th scope=col>&lt;int&gt;</th><th scope=col>&lt;int&gt;</th></tr>\n",
       "</thead>\n",
       "<tbody>\n",
       "\t<tr><td>GCA_000431575_1</td><td>Firmicutes_bacterium_CAG_83</td><td>1262992</td><td>CAG:83 </td><td>Firmicutes bacterium CAG:83</td><td>/ebio/abt3_projects/temp_data/nyoungblut/cophylo_genomes//genome_dl/human_readable/genbank/bacteria/Firmicutes/bacterium/CAG:83/GCA_000431575.1_MGS83_genomic.fna.gz</td><td>91.23</td><td>0.67</td><td>0</td><td>1866939</td><td>⋯</td><td>13</td><td>46</td><td>91</td><td>19</td><td>333</td><td>60</td><td>34</td><td>31</td><td>0</td><td>0</td></tr>\n",
       "\t<tr><td>GCA_000432435_1</td><td>Eubacterium_sp_CAG_180     </td><td>1262882</td><td>CAG:180</td><td>Eubacterium sp. CAG:180    </td><td>/ebio/abt3_projects/temp_data/nyoungblut/cophylo_genomes//genome_dl/human_readable/genbank/bacteria/Eubacterium/sp./CAG:180/GCA_000432435.1_MGS180_genomic.fna.gz   </td><td>97.99</td><td>0.34</td><td>0</td><td>1882175</td><td>⋯</td><td> 3</td><td>41</td><td>55</td><td> 8</td><td>338</td><td>44</td><td>25</td><td>33</td><td>0</td><td>2</td></tr>\n",
       "\t<tr><td>⋮</td><td>⋮</td><td>⋮</td><td>⋮</td><td>⋮</td><td>⋮</td><td>⋮</td><td>⋮</td><td>⋮</td><td>⋮</td><td>⋱</td><td>⋮</td><td>⋮</td><td>⋮</td><td>⋮</td><td>⋮</td><td>⋮</td><td>⋮</td><td>⋮</td><td>⋮</td><td>⋮</td></tr>\n",
       "\t<tr><td>GCF_019645995_1</td><td>Escherichia_coli</td><td>562</td><td>XL1-Blue           </td><td>Escherichia coli</td><td>/ebio/abt3_projects/temp_data/nyoungblut/cophylo_genomes//genome_dl/human_readable/refseq/bacteria/Escherichia/coli/XL1-Blue/GCF_019645995.1_ASM1964599v1_genomic.fna.gz           </td><td>99.97</td><td>0.04</td><td>0</td><td>4663358</td><td>⋯</td><td>118</td><td>132</td><td>362</td><td>62</td><td> 865</td><td>124</td><td>173</td><td>37</td><td>0</td><td>0</td></tr>\n",
       "\t<tr><td>GCF_904711265_1</td><td>Escherichia_coli</td><td>562</td><td>Quinolone resistant</td><td>Escherichia coli</td><td>/ebio/abt3_projects/temp_data/nyoungblut/cophylo_genomes//genome_dl/human_readable/refseq/bacteria/Escherichia/coli/Quinolone_resistant/GCF_904711265.1_2014-01-7375_genomic.fna.gz</td><td>99.97</td><td>0.04</td><td>0</td><td>5270466</td><td>⋯</td><td>138</td><td>141</td><td>364</td><td>74</td><td>1079</td><td>133</td><td>211</td><td>42</td><td>1</td><td>0</td></tr>\n",
       "</tbody>\n",
       "</table>\n"
      ],
      "text/latex": [
       "A data.table: 495 × 139\n",
       "\\begin{tabular}{lllllllllllllllllllll}\n",
       " Genome & species & ncbi\\_taxid & strain & dl\\_species & Fasta & Completeness & Contamination & Strain\\_heterogeneity & Genome\\_size\\_\\_bp & ⋯ & num\\_genes\\_COG.N & num\\_genes\\_COG.O & num\\_genes\\_COG.P & num\\_genes\\_COG.Q & num\\_genes\\_COG.S & num\\_genes\\_COG.T & num\\_genes\\_COG.U & num\\_genes\\_COG.V & num\\_genes\\_COG.W & num\\_genes\\_COG.Z\\\\\n",
       " <chr> & <chr> & <int> & <chr> & <chr> & <chr> & <dbl> & <dbl> & <dbl> & <int> & ⋯ & <int> & <int> & <int> & <int> & <int> & <int> & <int> & <int> & <int> & <int>\\\\\n",
       "\\hline\n",
       "\t GCA\\_000431575\\_1 & Firmicutes\\_bacterium\\_CAG\\_83 & 1262992 & CAG:83  & Firmicutes bacterium CAG:83 & /ebio/abt3\\_projects/temp\\_data/nyoungblut/cophylo\\_genomes//genome\\_dl/human\\_readable/genbank/bacteria/Firmicutes/bacterium/CAG:83/GCA\\_000431575.1\\_MGS83\\_genomic.fna.gz & 91.23 & 0.67 & 0 & 1866939 & ⋯ & 13 & 46 & 91 & 19 & 333 & 60 & 34 & 31 & 0 & 0\\\\\n",
       "\t GCA\\_000432435\\_1 & Eubacterium\\_sp\\_CAG\\_180      & 1262882 & CAG:180 & Eubacterium sp. CAG:180     & /ebio/abt3\\_projects/temp\\_data/nyoungblut/cophylo\\_genomes//genome\\_dl/human\\_readable/genbank/bacteria/Eubacterium/sp./CAG:180/GCA\\_000432435.1\\_MGS180\\_genomic.fna.gz    & 97.99 & 0.34 & 0 & 1882175 & ⋯ &  3 & 41 & 55 &  8 & 338 & 44 & 25 & 33 & 0 & 2\\\\\n",
       "\t ⋮ & ⋮ & ⋮ & ⋮ & ⋮ & ⋮ & ⋮ & ⋮ & ⋮ & ⋮ & ⋱ & ⋮ & ⋮ & ⋮ & ⋮ & ⋮ & ⋮ & ⋮ & ⋮ & ⋮ & ⋮\\\\\n",
       "\t GCF\\_019645995\\_1 & Escherichia\\_coli & 562 & XL1-Blue            & Escherichia coli & /ebio/abt3\\_projects/temp\\_data/nyoungblut/cophylo\\_genomes//genome\\_dl/human\\_readable/refseq/bacteria/Escherichia/coli/XL1-Blue/GCF\\_019645995.1\\_ASM1964599v1\\_genomic.fna.gz            & 99.97 & 0.04 & 0 & 4663358 & ⋯ & 118 & 132 & 362 & 62 &  865 & 124 & 173 & 37 & 0 & 0\\\\\n",
       "\t GCF\\_904711265\\_1 & Escherichia\\_coli & 562 & Quinolone resistant & Escherichia coli & /ebio/abt3\\_projects/temp\\_data/nyoungblut/cophylo\\_genomes//genome\\_dl/human\\_readable/refseq/bacteria/Escherichia/coli/Quinolone\\_resistant/GCF\\_904711265.1\\_2014-01-7375\\_genomic.fna.gz & 99.97 & 0.04 & 0 & 5270466 & ⋯ & 138 & 141 & 364 & 74 & 1079 & 133 & 211 & 42 & 1 & 0\\\\\n",
       "\\end{tabular}\n"
      ],
      "text/markdown": [
       "\n",
       "A data.table: 495 × 139\n",
       "\n",
       "| Genome &lt;chr&gt; | species &lt;chr&gt; | ncbi_taxid &lt;int&gt; | strain &lt;chr&gt; | dl_species &lt;chr&gt; | Fasta &lt;chr&gt; | Completeness &lt;dbl&gt; | Contamination &lt;dbl&gt; | Strain_heterogeneity &lt;dbl&gt; | Genome_size__bp &lt;int&gt; | ⋯ ⋯ | num_genes_COG.N &lt;int&gt; | num_genes_COG.O &lt;int&gt; | num_genes_COG.P &lt;int&gt; | num_genes_COG.Q &lt;int&gt; | num_genes_COG.S &lt;int&gt; | num_genes_COG.T &lt;int&gt; | num_genes_COG.U &lt;int&gt; | num_genes_COG.V &lt;int&gt; | num_genes_COG.W &lt;int&gt; | num_genes_COG.Z &lt;int&gt; |\n",
       "|---|---|---|---|---|---|---|---|---|---|---|---|---|---|---|---|---|---|---|---|---|\n",
       "| GCA_000431575_1 | Firmicutes_bacterium_CAG_83 | 1262992 | CAG:83  | Firmicutes bacterium CAG:83 | /ebio/abt3_projects/temp_data/nyoungblut/cophylo_genomes//genome_dl/human_readable/genbank/bacteria/Firmicutes/bacterium/CAG:83/GCA_000431575.1_MGS83_genomic.fna.gz | 91.23 | 0.67 | 0 | 1866939 | ⋯ | 13 | 46 | 91 | 19 | 333 | 60 | 34 | 31 | 0 | 0 |\n",
       "| GCA_000432435_1 | Eubacterium_sp_CAG_180      | 1262882 | CAG:180 | Eubacterium sp. CAG:180     | /ebio/abt3_projects/temp_data/nyoungblut/cophylo_genomes//genome_dl/human_readable/genbank/bacteria/Eubacterium/sp./CAG:180/GCA_000432435.1_MGS180_genomic.fna.gz    | 97.99 | 0.34 | 0 | 1882175 | ⋯ |  3 | 41 | 55 |  8 | 338 | 44 | 25 | 33 | 0 | 2 |\n",
       "| ⋮ | ⋮ | ⋮ | ⋮ | ⋮ | ⋮ | ⋮ | ⋮ | ⋮ | ⋮ | ⋱ | ⋮ | ⋮ | ⋮ | ⋮ | ⋮ | ⋮ | ⋮ | ⋮ | ⋮ | ⋮ |\n",
       "| GCF_019645995_1 | Escherichia_coli | 562 | XL1-Blue            | Escherichia coli | /ebio/abt3_projects/temp_data/nyoungblut/cophylo_genomes//genome_dl/human_readable/refseq/bacteria/Escherichia/coli/XL1-Blue/GCF_019645995.1_ASM1964599v1_genomic.fna.gz            | 99.97 | 0.04 | 0 | 4663358 | ⋯ | 118 | 132 | 362 | 62 |  865 | 124 | 173 | 37 | 0 | 0 |\n",
       "| GCF_904711265_1 | Escherichia_coli | 562 | Quinolone resistant | Escherichia coli | /ebio/abt3_projects/temp_data/nyoungblut/cophylo_genomes//genome_dl/human_readable/refseq/bacteria/Escherichia/coli/Quinolone_resistant/GCF_904711265.1_2014-01-7375_genomic.fna.gz | 99.97 | 0.04 | 0 | 5270466 | ⋯ | 138 | 141 | 364 | 74 | 1079 | 133 | 211 | 42 | 1 | 0 |\n",
       "\n"
      ],
      "text/plain": [
       "    Genome          species                     ncbi_taxid strain             \n",
       "1   GCA_000431575_1 Firmicutes_bacterium_CAG_83 1262992    CAG:83             \n",
       "2   GCA_000432435_1 Eubacterium_sp_CAG_180      1262882    CAG:180            \n",
       "⋮   ⋮               ⋮                           ⋮          ⋮                  \n",
       "494 GCF_019645995_1 Escherichia_coli            562        XL1-Blue           \n",
       "495 GCF_904711265_1 Escherichia_coli            562        Quinolone resistant\n",
       "    dl_species                 \n",
       "1   Firmicutes bacterium CAG:83\n",
       "2   Eubacterium sp. CAG:180    \n",
       "⋮   ⋮                          \n",
       "494 Escherichia coli           \n",
       "495 Escherichia coli           \n",
       "    Fasta                                                                                                                                                                              \n",
       "1   /ebio/abt3_projects/temp_data/nyoungblut/cophylo_genomes//genome_dl/human_readable/genbank/bacteria/Firmicutes/bacterium/CAG:83/GCA_000431575.1_MGS83_genomic.fna.gz               \n",
       "2   /ebio/abt3_projects/temp_data/nyoungblut/cophylo_genomes//genome_dl/human_readable/genbank/bacteria/Eubacterium/sp./CAG:180/GCA_000432435.1_MGS180_genomic.fna.gz                  \n",
       "⋮   ⋮                                                                                                                                                                                  \n",
       "494 /ebio/abt3_projects/temp_data/nyoungblut/cophylo_genomes//genome_dl/human_readable/refseq/bacteria/Escherichia/coli/XL1-Blue/GCF_019645995.1_ASM1964599v1_genomic.fna.gz           \n",
       "495 /ebio/abt3_projects/temp_data/nyoungblut/cophylo_genomes//genome_dl/human_readable/refseq/bacteria/Escherichia/coli/Quinolone_resistant/GCF_904711265.1_2014-01-7375_genomic.fna.gz\n",
       "    Completeness Contamination Strain_heterogeneity Genome_size__bp ⋯\n",
       "1   91.23        0.67          0                    1866939         ⋯\n",
       "2   97.99        0.34          0                    1882175         ⋯\n",
       "⋮   ⋮            ⋮             ⋮                    ⋮               ⋱\n",
       "494 99.97        0.04          0                    4663358         ⋯\n",
       "495 99.97        0.04          0                    5270466         ⋯\n",
       "    num_genes_COG.N num_genes_COG.O num_genes_COG.P num_genes_COG.Q\n",
       "1   13              46              91              19             \n",
       "2    3              41              55               8             \n",
       "⋮   ⋮               ⋮               ⋮               ⋮              \n",
       "494 118             132             362             62             \n",
       "495 138             141             364             74             \n",
       "    num_genes_COG.S num_genes_COG.T num_genes_COG.U num_genes_COG.V\n",
       "1   333             60              34              31             \n",
       "2   338             44              25              33             \n",
       "⋮   ⋮               ⋮               ⋮               ⋮              \n",
       "494  865            124             173             37             \n",
       "495 1079            133             211             42             \n",
       "    num_genes_COG.W num_genes_COG.Z\n",
       "1   0               0              \n",
       "2   0               2              \n",
       "⋮   ⋮               ⋮              \n",
       "494 0               0              \n",
       "495 1               0              "
      ]
     },
     "metadata": {},
     "output_type": "display_data"
    }
   ],
   "source": [
    "# filtering out KO features\n",
    "to_rm = grepl('^num_genes_KO', colnames(feats))\n",
    "feats = as.data.table(feats[,!to_rm])\n",
    "feats"
   ]
  },
  {
   "cell_type": "markdown",
   "metadata": {},
   "source": [
    "## Checks"
   ]
  },
  {
   "cell_type": "code",
   "execution_count": 13,
   "metadata": {
    "ExecuteTime": {
     "end_time": "2022-05-25T14:12:51.567371Z",
     "start_time": "2022-05-25T14:12:51.482Z"
    }
   },
   "outputs": [
    {
     "name": "stdout",
     "output_type": "stream",
     "text": [
      "intersect(x,y): 59 \n",
      "setdiff(x,y): 0 \n",
      "setdiff(y,x): 0 \n",
      "union(x,y): 59 \n"
     ]
    }
   ],
   "source": [
    "overlap(feats$species, cophylo_eff$Species)"
   ]
  },
  {
   "cell_type": "markdown",
   "metadata": {},
   "source": [
    "# Preprocessing"
   ]
  },
  {
   "cell_type": "code",
   "execution_count": 14,
   "metadata": {
    "ExecuteTime": {
     "end_time": "2022-05-25T14:12:53.000429Z",
     "start_time": "2022-05-25T14:12:52.864Z"
    }
   },
   "outputs": [
    {
     "data": {
      "text/html": [
       "<table class=\"dataframe\">\n",
       "<caption>A data.frame: 495 × 133</caption>\n",
       "<thead>\n",
       "\t<tr><th></th><th scope=col>Completeness</th><th scope=col>Contamination</th><th scope=col>Strain_heterogeneity</th><th scope=col>Genome_size__bp</th><th scope=col>GC</th><th scope=col>Num_contigs</th><th scope=col>N50__contigs</th><th scope=col>Coding_density</th><th scope=col>Num_predicted_genes</th><th scope=col>Acetate.utilization</th><th scope=col>⋯</th><th scope=col>num_genes_COG.N</th><th scope=col>num_genes_COG.O</th><th scope=col>num_genes_COG.P</th><th scope=col>num_genes_COG.Q</th><th scope=col>num_genes_COG.S</th><th scope=col>num_genes_COG.T</th><th scope=col>num_genes_COG.U</th><th scope=col>num_genes_COG.V</th><th scope=col>num_genes_COG.W</th><th scope=col>num_genes_COG.Z</th></tr>\n",
       "\t<tr><th></th><th scope=col>&lt;dbl&gt;</th><th scope=col>&lt;dbl&gt;</th><th scope=col>&lt;dbl&gt;</th><th scope=col>&lt;int&gt;</th><th scope=col>&lt;dbl&gt;</th><th scope=col>&lt;int&gt;</th><th scope=col>&lt;int&gt;</th><th scope=col>&lt;dbl&gt;</th><th scope=col>&lt;int&gt;</th><th scope=col>&lt;int&gt;</th><th scope=col>⋯</th><th scope=col>&lt;int&gt;</th><th scope=col>&lt;int&gt;</th><th scope=col>&lt;int&gt;</th><th scope=col>&lt;int&gt;</th><th scope=col>&lt;int&gt;</th><th scope=col>&lt;int&gt;</th><th scope=col>&lt;int&gt;</th><th scope=col>&lt;int&gt;</th><th scope=col>&lt;int&gt;</th><th scope=col>&lt;int&gt;</th></tr>\n",
       "</thead>\n",
       "<tbody>\n",
       "\t<tr><th scope=row>GCA_000431575_1</th><td>91.23</td><td>0.67</td><td>0</td><td>1866939</td><td>60.7</td><td>214</td><td>16765</td><td>87.07</td><td>1807</td><td>0</td><td>⋯</td><td>13</td><td>46</td><td>91</td><td>19</td><td>333</td><td>60</td><td>34</td><td>31</td><td>0</td><td>0</td></tr>\n",
       "\t<tr><th scope=row>GCA_000432435_1</th><td>97.99</td><td>0.34</td><td>0</td><td>1882175</td><td>44.5</td><td> 75</td><td>46269</td><td>89.67</td><td>1783</td><td>0</td><td>⋯</td><td> 3</td><td>41</td><td>55</td><td> 8</td><td>338</td><td>44</td><td>25</td><td>33</td><td>0</td><td>2</td></tr>\n",
       "\t<tr><th scope=row>⋮</th><td>⋮</td><td>⋮</td><td>⋮</td><td>⋮</td><td>⋮</td><td>⋮</td><td>⋮</td><td>⋮</td><td>⋮</td><td>⋮</td><td>⋱</td><td>⋮</td><td>⋮</td><td>⋮</td><td>⋮</td><td>⋮</td><td>⋮</td><td>⋮</td><td>⋮</td><td>⋮</td><td>⋮</td></tr>\n",
       "\t<tr><th scope=row>GCF_019645995_1</th><td>99.97</td><td>0.04</td><td>0</td><td>4663358</td><td>50.7</td><td>1</td><td>4663358</td><td>87.73</td><td>4374</td><td>0</td><td>⋯</td><td>118</td><td>132</td><td>362</td><td>62</td><td> 865</td><td>124</td><td>173</td><td>37</td><td>0</td><td>0</td></tr>\n",
       "\t<tr><th scope=row>GCF_904711265_1</th><td>99.97</td><td>0.04</td><td>0</td><td>5270466</td><td>50.6</td><td>5</td><td>4998981</td><td>87.54</td><td>5016</td><td>0</td><td>⋯</td><td>138</td><td>141</td><td>364</td><td>74</td><td>1079</td><td>133</td><td>211</td><td>42</td><td>1</td><td>0</td></tr>\n",
       "</tbody>\n",
       "</table>\n"
      ],
      "text/latex": [
       "A data.frame: 495 × 133\n",
       "\\begin{tabular}{r|lllllllllllllllllllll}\n",
       "  & Completeness & Contamination & Strain\\_heterogeneity & Genome\\_size\\_\\_bp & GC & Num\\_contigs & N50\\_\\_contigs & Coding\\_density & Num\\_predicted\\_genes & Acetate.utilization & ⋯ & num\\_genes\\_COG.N & num\\_genes\\_COG.O & num\\_genes\\_COG.P & num\\_genes\\_COG.Q & num\\_genes\\_COG.S & num\\_genes\\_COG.T & num\\_genes\\_COG.U & num\\_genes\\_COG.V & num\\_genes\\_COG.W & num\\_genes\\_COG.Z\\\\\n",
       "  & <dbl> & <dbl> & <dbl> & <int> & <dbl> & <int> & <int> & <dbl> & <int> & <int> & ⋯ & <int> & <int> & <int> & <int> & <int> & <int> & <int> & <int> & <int> & <int>\\\\\n",
       "\\hline\n",
       "\tGCA\\_000431575\\_1 & 91.23 & 0.67 & 0 & 1866939 & 60.7 & 214 & 16765 & 87.07 & 1807 & 0 & ⋯ & 13 & 46 & 91 & 19 & 333 & 60 & 34 & 31 & 0 & 0\\\\\n",
       "\tGCA\\_000432435\\_1 & 97.99 & 0.34 & 0 & 1882175 & 44.5 &  75 & 46269 & 89.67 & 1783 & 0 & ⋯ &  3 & 41 & 55 &  8 & 338 & 44 & 25 & 33 & 0 & 2\\\\\n",
       "\t⋮ & ⋮ & ⋮ & ⋮ & ⋮ & ⋮ & ⋮ & ⋮ & ⋮ & ⋮ & ⋮ & ⋱ & ⋮ & ⋮ & ⋮ & ⋮ & ⋮ & ⋮ & ⋮ & ⋮ & ⋮ & ⋮\\\\\n",
       "\tGCF\\_019645995\\_1 & 99.97 & 0.04 & 0 & 4663358 & 50.7 & 1 & 4663358 & 87.73 & 4374 & 0 & ⋯ & 118 & 132 & 362 & 62 &  865 & 124 & 173 & 37 & 0 & 0\\\\\n",
       "\tGCF\\_904711265\\_1 & 99.97 & 0.04 & 0 & 5270466 & 50.6 & 5 & 4998981 & 87.54 & 5016 & 0 & ⋯ & 138 & 141 & 364 & 74 & 1079 & 133 & 211 & 42 & 1 & 0\\\\\n",
       "\\end{tabular}\n"
      ],
      "text/markdown": [
       "\n",
       "A data.frame: 495 × 133\n",
       "\n",
       "| <!--/--> | Completeness &lt;dbl&gt; | Contamination &lt;dbl&gt; | Strain_heterogeneity &lt;dbl&gt; | Genome_size__bp &lt;int&gt; | GC &lt;dbl&gt; | Num_contigs &lt;int&gt; | N50__contigs &lt;int&gt; | Coding_density &lt;dbl&gt; | Num_predicted_genes &lt;int&gt; | Acetate.utilization &lt;int&gt; | ⋯ ⋯ | num_genes_COG.N &lt;int&gt; | num_genes_COG.O &lt;int&gt; | num_genes_COG.P &lt;int&gt; | num_genes_COG.Q &lt;int&gt; | num_genes_COG.S &lt;int&gt; | num_genes_COG.T &lt;int&gt; | num_genes_COG.U &lt;int&gt; | num_genes_COG.V &lt;int&gt; | num_genes_COG.W &lt;int&gt; | num_genes_COG.Z &lt;int&gt; |\n",
       "|---|---|---|---|---|---|---|---|---|---|---|---|---|---|---|---|---|---|---|---|---|---|\n",
       "| GCA_000431575_1 | 91.23 | 0.67 | 0 | 1866939 | 60.7 | 214 | 16765 | 87.07 | 1807 | 0 | ⋯ | 13 | 46 | 91 | 19 | 333 | 60 | 34 | 31 | 0 | 0 |\n",
       "| GCA_000432435_1 | 97.99 | 0.34 | 0 | 1882175 | 44.5 |  75 | 46269 | 89.67 | 1783 | 0 | ⋯ |  3 | 41 | 55 |  8 | 338 | 44 | 25 | 33 | 0 | 2 |\n",
       "| ⋮ | ⋮ | ⋮ | ⋮ | ⋮ | ⋮ | ⋮ | ⋮ | ⋮ | ⋮ | ⋮ | ⋱ | ⋮ | ⋮ | ⋮ | ⋮ | ⋮ | ⋮ | ⋮ | ⋮ | ⋮ | ⋮ |\n",
       "| GCF_019645995_1 | 99.97 | 0.04 | 0 | 4663358 | 50.7 | 1 | 4663358 | 87.73 | 4374 | 0 | ⋯ | 118 | 132 | 362 | 62 |  865 | 124 | 173 | 37 | 0 | 0 |\n",
       "| GCF_904711265_1 | 99.97 | 0.04 | 0 | 5270466 | 50.6 | 5 | 4998981 | 87.54 | 5016 | 0 | ⋯ | 138 | 141 | 364 | 74 | 1079 | 133 | 211 | 42 | 1 | 0 |\n",
       "\n"
      ],
      "text/plain": [
       "                Completeness Contamination Strain_heterogeneity Genome_size__bp\n",
       "GCA_000431575_1 91.23        0.67          0                    1866939        \n",
       "GCA_000432435_1 97.99        0.34          0                    1882175        \n",
       "⋮               ⋮            ⋮             ⋮                    ⋮              \n",
       "GCF_019645995_1 99.97        0.04          0                    4663358        \n",
       "GCF_904711265_1 99.97        0.04          0                    5270466        \n",
       "                GC   Num_contigs N50__contigs Coding_density\n",
       "GCA_000431575_1 60.7 214         16765        87.07         \n",
       "GCA_000432435_1 44.5  75         46269        89.67         \n",
       "⋮               ⋮    ⋮           ⋮            ⋮             \n",
       "GCF_019645995_1 50.7 1           4663358      87.73         \n",
       "GCF_904711265_1 50.6 5           4998981      87.54         \n",
       "                Num_predicted_genes Acetate.utilization ⋯ num_genes_COG.N\n",
       "GCA_000431575_1 1807                0                   ⋯ 13             \n",
       "GCA_000432435_1 1783                0                   ⋯  3             \n",
       "⋮               ⋮                   ⋮                   ⋱ ⋮              \n",
       "GCF_019645995_1 4374                0                   ⋯ 118            \n",
       "GCF_904711265_1 5016                0                   ⋯ 138            \n",
       "                num_genes_COG.O num_genes_COG.P num_genes_COG.Q num_genes_COG.S\n",
       "GCA_000431575_1 46              91              19              333            \n",
       "GCA_000432435_1 41              55               8              338            \n",
       "⋮               ⋮               ⋮               ⋮               ⋮              \n",
       "GCF_019645995_1 132             362             62               865           \n",
       "GCF_904711265_1 141             364             74              1079           \n",
       "                num_genes_COG.T num_genes_COG.U num_genes_COG.V num_genes_COG.W\n",
       "GCA_000431575_1 60              34              31              0              \n",
       "GCA_000432435_1 44              25              33              0              \n",
       "⋮               ⋮               ⋮               ⋮               ⋮              \n",
       "GCF_019645995_1 124             173             37              0              \n",
       "GCF_904711265_1 133             211             42              1              \n",
       "                num_genes_COG.Z\n",
       "GCA_000431575_1 0              \n",
       "GCA_000432435_1 2              \n",
       "⋮               ⋮              \n",
       "GCF_019645995_1 0              \n",
       "GCF_904711265_1 0              "
      ]
     },
     "metadata": {},
     "output_type": "display_data"
    }
   ],
   "source": [
    "# features to wide variable\n",
    "feats_f = feats %>%\n",
    "    select.(-species, -ncbi_taxid, -strain, -dl_species, -Fasta) %>%\n",
    "    as.data.frame\n",
    "rownames(feats_f) = feats_f$Genome\n",
    "feats_f$Genome = NULL\n",
    "feats_f"
   ]
  },
  {
   "cell_type": "code",
   "execution_count": 20,
   "metadata": {
    "ExecuteTime": {
     "end_time": "2022-05-25T14:15:58.454356Z",
     "start_time": "2022-05-25T14:15:58.327Z"
    }
   },
   "outputs": [
    {
     "data": {
      "text/plain": [
       ".\n",
       "   cophylo no_cophylo \n",
       "       207        288 "
      ]
     },
     "metadata": {},
     "output_type": "display_data"
    },
    {
     "data": {
      "text/html": [
       "<table class=\"dataframe\">\n",
       "<caption>A data.frame: 495 × 2</caption>\n",
       "<thead>\n",
       "\t<tr><th></th><th scope=col>Species</th><th scope=col>Y</th></tr>\n",
       "\t<tr><th></th><th scope=col>&lt;chr&gt;</th><th scope=col>&lt;chr&gt;</th></tr>\n",
       "</thead>\n",
       "<tbody>\n",
       "\t<tr><th scope=row>GCA_000431575_1</th><td>Firmicutes_bacterium_CAG_83</td><td>no_cophylo</td></tr>\n",
       "\t<tr><th scope=row>GCA_000432435_1</th><td>Eubacterium_sp_CAG_180     </td><td>cophylo   </td></tr>\n",
       "\t<tr><th scope=row>⋮</th><td>⋮</td><td>⋮</td></tr>\n",
       "\t<tr><th scope=row>GCF_019645995_1</th><td>Escherichia_coli</td><td>no_cophylo</td></tr>\n",
       "\t<tr><th scope=row>GCF_904711265_1</th><td>Escherichia_coli</td><td>no_cophylo</td></tr>\n",
       "</tbody>\n",
       "</table>\n"
      ],
      "text/latex": [
       "A data.frame: 495 × 2\n",
       "\\begin{tabular}{r|ll}\n",
       "  & Species & Y\\\\\n",
       "  & <chr> & <chr>\\\\\n",
       "\\hline\n",
       "\tGCA\\_000431575\\_1 & Firmicutes\\_bacterium\\_CAG\\_83 & no\\_cophylo\\\\\n",
       "\tGCA\\_000432435\\_1 & Eubacterium\\_sp\\_CAG\\_180      & cophylo   \\\\\n",
       "\t⋮ & ⋮ & ⋮\\\\\n",
       "\tGCF\\_019645995\\_1 & Escherichia\\_coli & no\\_cophylo\\\\\n",
       "\tGCF\\_904711265\\_1 & Escherichia\\_coli & no\\_cophylo\\\\\n",
       "\\end{tabular}\n"
      ],
      "text/markdown": [
       "\n",
       "A data.frame: 495 × 2\n",
       "\n",
       "| <!--/--> | Species &lt;chr&gt; | Y &lt;chr&gt; |\n",
       "|---|---|---|\n",
       "| GCA_000431575_1 | Firmicutes_bacterium_CAG_83 | no_cophylo |\n",
       "| GCA_000432435_1 | Eubacterium_sp_CAG_180      | cophylo    |\n",
       "| ⋮ | ⋮ | ⋮ |\n",
       "| GCF_019645995_1 | Escherichia_coli | no_cophylo |\n",
       "| GCF_904711265_1 | Escherichia_coli | no_cophylo |\n",
       "\n"
      ],
      "text/plain": [
       "                Species                     Y         \n",
       "GCA_000431575_1 Firmicutes_bacterium_CAG_83 no_cophylo\n",
       "GCA_000432435_1 Eubacterium_sp_CAG_180      cophylo   \n",
       "⋮               ⋮                           ⋮         \n",
       "GCF_019645995_1 Escherichia_coli            no_cophylo\n",
       "GCF_904711265_1 Escherichia_coli            no_cophylo"
      ]
     },
     "metadata": {},
     "output_type": "display_data"
    }
   ],
   "source": [
    "# target variable\n",
    "pred = cophylo_eff %>%    \n",
    "    right_join(feats %>% select.(Genome, species),\n",
    "               c('Species'='species')) %>%\n",
    "    select.(Genome, Species, Paco_Best_pvalue) %>%\n",
    "    mutate.(Paco_Best_pvalue = Paco_Best_pvalue %>% as.Num,\n",
    "            Paco_Best_pvalue = p.adjust(Paco_Best_pvalue, method='BH')) %>%\n",
    "    rename.('Y' = Paco_Best_pvalue) %>%\n",
    "    mutate.(Y = ifelse(Y < 0.01, 'cophylo', 'no_cophylo')) %>%\n",
    "    as.data.frame\n",
    "rownames(pred) = pred$Genome\n",
    "pred$Genome = NULL\n",
    "\n",
    "pred$Y %>% table\n",
    "pred = pred[rownames(feats_f),,drop=FALSE]\n",
    "pred"
   ]
  },
  {
   "cell_type": "code",
   "execution_count": 21,
   "metadata": {
    "ExecuteTime": {
     "end_time": "2022-05-25T14:15:59.665251Z",
     "start_time": "2022-05-25T14:15:59.538Z"
    }
   },
   "outputs": [
    {
     "data": {
      "text/html": [
       "<table class=\"dataframe\">\n",
       "<caption>A data.frame: 495 × 135</caption>\n",
       "<thead>\n",
       "\t<tr><th></th><th scope=col>Species</th><th scope=col>Y</th><th scope=col>Completeness</th><th scope=col>Contamination</th><th scope=col>Strain_heterogeneity</th><th scope=col>Genome_size__bp</th><th scope=col>GC</th><th scope=col>Num_contigs</th><th scope=col>N50__contigs</th><th scope=col>Coding_density</th><th scope=col>⋯</th><th scope=col>num_genes_COG.N</th><th scope=col>num_genes_COG.O</th><th scope=col>num_genes_COG.P</th><th scope=col>num_genes_COG.Q</th><th scope=col>num_genes_COG.S</th><th scope=col>num_genes_COG.T</th><th scope=col>num_genes_COG.U</th><th scope=col>num_genes_COG.V</th><th scope=col>num_genes_COG.W</th><th scope=col>num_genes_COG.Z</th></tr>\n",
       "\t<tr><th></th><th scope=col>&lt;chr&gt;</th><th scope=col>&lt;chr&gt;</th><th scope=col>&lt;dbl&gt;</th><th scope=col>&lt;dbl&gt;</th><th scope=col>&lt;dbl&gt;</th><th scope=col>&lt;int&gt;</th><th scope=col>&lt;dbl&gt;</th><th scope=col>&lt;int&gt;</th><th scope=col>&lt;int&gt;</th><th scope=col>&lt;dbl&gt;</th><th scope=col>⋯</th><th scope=col>&lt;int&gt;</th><th scope=col>&lt;int&gt;</th><th scope=col>&lt;int&gt;</th><th scope=col>&lt;int&gt;</th><th scope=col>&lt;int&gt;</th><th scope=col>&lt;int&gt;</th><th scope=col>&lt;int&gt;</th><th scope=col>&lt;int&gt;</th><th scope=col>&lt;int&gt;</th><th scope=col>&lt;int&gt;</th></tr>\n",
       "</thead>\n",
       "<tbody>\n",
       "\t<tr><th scope=row>GCA_000431575_1</th><td>Firmicutes_bacterium_CAG_83</td><td>no_cophylo</td><td>91.23</td><td>0.67</td><td>0</td><td>1866939</td><td>60.7</td><td>214</td><td>16765</td><td>87.07</td><td>⋯</td><td>13</td><td>46</td><td>91</td><td>19</td><td>333</td><td>60</td><td>34</td><td>31</td><td>0</td><td>0</td></tr>\n",
       "\t<tr><th scope=row>GCA_000432435_1</th><td>Eubacterium_sp_CAG_180     </td><td>cophylo   </td><td>97.99</td><td>0.34</td><td>0</td><td>1882175</td><td>44.5</td><td> 75</td><td>46269</td><td>89.67</td><td>⋯</td><td> 3</td><td>41</td><td>55</td><td> 8</td><td>338</td><td>44</td><td>25</td><td>33</td><td>0</td><td>2</td></tr>\n",
       "\t<tr><th scope=row>⋮</th><td>⋮</td><td>⋮</td><td>⋮</td><td>⋮</td><td>⋮</td><td>⋮</td><td>⋮</td><td>⋮</td><td>⋮</td><td>⋮</td><td>⋱</td><td>⋮</td><td>⋮</td><td>⋮</td><td>⋮</td><td>⋮</td><td>⋮</td><td>⋮</td><td>⋮</td><td>⋮</td><td>⋮</td></tr>\n",
       "\t<tr><th scope=row>GCF_019645995_1</th><td>Escherichia_coli</td><td>no_cophylo</td><td>99.97</td><td>0.04</td><td>0</td><td>4663358</td><td>50.7</td><td>1</td><td>4663358</td><td>87.73</td><td>⋯</td><td>118</td><td>132</td><td>362</td><td>62</td><td> 865</td><td>124</td><td>173</td><td>37</td><td>0</td><td>0</td></tr>\n",
       "\t<tr><th scope=row>GCF_904711265_1</th><td>Escherichia_coli</td><td>no_cophylo</td><td>99.97</td><td>0.04</td><td>0</td><td>5270466</td><td>50.6</td><td>5</td><td>4998981</td><td>87.54</td><td>⋯</td><td>138</td><td>141</td><td>364</td><td>74</td><td>1079</td><td>133</td><td>211</td><td>42</td><td>1</td><td>0</td></tr>\n",
       "</tbody>\n",
       "</table>\n"
      ],
      "text/latex": [
       "A data.frame: 495 × 135\n",
       "\\begin{tabular}{r|lllllllllllllllllllll}\n",
       "  & Species & Y & Completeness & Contamination & Strain\\_heterogeneity & Genome\\_size\\_\\_bp & GC & Num\\_contigs & N50\\_\\_contigs & Coding\\_density & ⋯ & num\\_genes\\_COG.N & num\\_genes\\_COG.O & num\\_genes\\_COG.P & num\\_genes\\_COG.Q & num\\_genes\\_COG.S & num\\_genes\\_COG.T & num\\_genes\\_COG.U & num\\_genes\\_COG.V & num\\_genes\\_COG.W & num\\_genes\\_COG.Z\\\\\n",
       "  & <chr> & <chr> & <dbl> & <dbl> & <dbl> & <int> & <dbl> & <int> & <int> & <dbl> & ⋯ & <int> & <int> & <int> & <int> & <int> & <int> & <int> & <int> & <int> & <int>\\\\\n",
       "\\hline\n",
       "\tGCA\\_000431575\\_1 & Firmicutes\\_bacterium\\_CAG\\_83 & no\\_cophylo & 91.23 & 0.67 & 0 & 1866939 & 60.7 & 214 & 16765 & 87.07 & ⋯ & 13 & 46 & 91 & 19 & 333 & 60 & 34 & 31 & 0 & 0\\\\\n",
       "\tGCA\\_000432435\\_1 & Eubacterium\\_sp\\_CAG\\_180      & cophylo    & 97.99 & 0.34 & 0 & 1882175 & 44.5 &  75 & 46269 & 89.67 & ⋯ &  3 & 41 & 55 &  8 & 338 & 44 & 25 & 33 & 0 & 2\\\\\n",
       "\t⋮ & ⋮ & ⋮ & ⋮ & ⋮ & ⋮ & ⋮ & ⋮ & ⋮ & ⋮ & ⋮ & ⋱ & ⋮ & ⋮ & ⋮ & ⋮ & ⋮ & ⋮ & ⋮ & ⋮ & ⋮ & ⋮\\\\\n",
       "\tGCF\\_019645995\\_1 & Escherichia\\_coli & no\\_cophylo & 99.97 & 0.04 & 0 & 4663358 & 50.7 & 1 & 4663358 & 87.73 & ⋯ & 118 & 132 & 362 & 62 &  865 & 124 & 173 & 37 & 0 & 0\\\\\n",
       "\tGCF\\_904711265\\_1 & Escherichia\\_coli & no\\_cophylo & 99.97 & 0.04 & 0 & 5270466 & 50.6 & 5 & 4998981 & 87.54 & ⋯ & 138 & 141 & 364 & 74 & 1079 & 133 & 211 & 42 & 1 & 0\\\\\n",
       "\\end{tabular}\n"
      ],
      "text/markdown": [
       "\n",
       "A data.frame: 495 × 135\n",
       "\n",
       "| <!--/--> | Species &lt;chr&gt; | Y &lt;chr&gt; | Completeness &lt;dbl&gt; | Contamination &lt;dbl&gt; | Strain_heterogeneity &lt;dbl&gt; | Genome_size__bp &lt;int&gt; | GC &lt;dbl&gt; | Num_contigs &lt;int&gt; | N50__contigs &lt;int&gt; | Coding_density &lt;dbl&gt; | ⋯ ⋯ | num_genes_COG.N &lt;int&gt; | num_genes_COG.O &lt;int&gt; | num_genes_COG.P &lt;int&gt; | num_genes_COG.Q &lt;int&gt; | num_genes_COG.S &lt;int&gt; | num_genes_COG.T &lt;int&gt; | num_genes_COG.U &lt;int&gt; | num_genes_COG.V &lt;int&gt; | num_genes_COG.W &lt;int&gt; | num_genes_COG.Z &lt;int&gt; |\n",
       "|---|---|---|---|---|---|---|---|---|---|---|---|---|---|---|---|---|---|---|---|---|---|\n",
       "| GCA_000431575_1 | Firmicutes_bacterium_CAG_83 | no_cophylo | 91.23 | 0.67 | 0 | 1866939 | 60.7 | 214 | 16765 | 87.07 | ⋯ | 13 | 46 | 91 | 19 | 333 | 60 | 34 | 31 | 0 | 0 |\n",
       "| GCA_000432435_1 | Eubacterium_sp_CAG_180      | cophylo    | 97.99 | 0.34 | 0 | 1882175 | 44.5 |  75 | 46269 | 89.67 | ⋯ |  3 | 41 | 55 |  8 | 338 | 44 | 25 | 33 | 0 | 2 |\n",
       "| ⋮ | ⋮ | ⋮ | ⋮ | ⋮ | ⋮ | ⋮ | ⋮ | ⋮ | ⋮ | ⋮ | ⋱ | ⋮ | ⋮ | ⋮ | ⋮ | ⋮ | ⋮ | ⋮ | ⋮ | ⋮ | ⋮ |\n",
       "| GCF_019645995_1 | Escherichia_coli | no_cophylo | 99.97 | 0.04 | 0 | 4663358 | 50.7 | 1 | 4663358 | 87.73 | ⋯ | 118 | 132 | 362 | 62 |  865 | 124 | 173 | 37 | 0 | 0 |\n",
       "| GCF_904711265_1 | Escherichia_coli | no_cophylo | 99.97 | 0.04 | 0 | 5270466 | 50.6 | 5 | 4998981 | 87.54 | ⋯ | 138 | 141 | 364 | 74 | 1079 | 133 | 211 | 42 | 1 | 0 |\n",
       "\n"
      ],
      "text/plain": [
       "                Species                     Y          Completeness\n",
       "GCA_000431575_1 Firmicutes_bacterium_CAG_83 no_cophylo 91.23       \n",
       "GCA_000432435_1 Eubacterium_sp_CAG_180      cophylo    97.99       \n",
       "⋮               ⋮                           ⋮          ⋮           \n",
       "GCF_019645995_1 Escherichia_coli            no_cophylo 99.97       \n",
       "GCF_904711265_1 Escherichia_coli            no_cophylo 99.97       \n",
       "                Contamination Strain_heterogeneity Genome_size__bp GC  \n",
       "GCA_000431575_1 0.67          0                    1866939         60.7\n",
       "GCA_000432435_1 0.34          0                    1882175         44.5\n",
       "⋮               ⋮             ⋮                    ⋮               ⋮   \n",
       "GCF_019645995_1 0.04          0                    4663358         50.7\n",
       "GCF_904711265_1 0.04          0                    5270466         50.6\n",
       "                Num_contigs N50__contigs Coding_density ⋯ num_genes_COG.N\n",
       "GCA_000431575_1 214         16765        87.07          ⋯ 13             \n",
       "GCA_000432435_1  75         46269        89.67          ⋯  3             \n",
       "⋮               ⋮           ⋮            ⋮              ⋱ ⋮              \n",
       "GCF_019645995_1 1           4663358      87.73          ⋯ 118            \n",
       "GCF_904711265_1 5           4998981      87.54          ⋯ 138            \n",
       "                num_genes_COG.O num_genes_COG.P num_genes_COG.Q num_genes_COG.S\n",
       "GCA_000431575_1 46              91              19              333            \n",
       "GCA_000432435_1 41              55               8              338            \n",
       "⋮               ⋮               ⋮               ⋮               ⋮              \n",
       "GCF_019645995_1 132             362             62               865           \n",
       "GCF_904711265_1 141             364             74              1079           \n",
       "                num_genes_COG.T num_genes_COG.U num_genes_COG.V num_genes_COG.W\n",
       "GCA_000431575_1 60              34              31              0              \n",
       "GCA_000432435_1 44              25              33              0              \n",
       "⋮               ⋮               ⋮               ⋮               ⋮              \n",
       "GCF_019645995_1 124             173             37              0              \n",
       "GCF_904711265_1 133             211             42              1              \n",
       "                num_genes_COG.Z\n",
       "GCA_000431575_1 0              \n",
       "GCA_000432435_1 2              \n",
       "⋮               ⋮              \n",
       "GCF_019645995_1 0              \n",
       "GCF_904711265_1 0              "
      ]
     },
     "metadata": {},
     "output_type": "display_data"
    }
   ],
   "source": [
    "# merging\n",
    "feats_f = cbind(pred, feats_f)\n",
    "feats_f"
   ]
  },
  {
   "cell_type": "code",
   "execution_count": 22,
   "metadata": {
    "ExecuteTime": {
     "end_time": "2022-05-25T14:15:59.801251Z",
     "start_time": "2022-05-25T14:15:59.647Z"
    }
   },
   "outputs": [
    {
     "data": {
      "text/html": [
       "<table class=\"dataframe\">\n",
       "<caption>A data.frame: 0 × 1</caption>\n",
       "<thead>\n",
       "\t<tr><th scope=col>.</th></tr>\n",
       "\t<tr><th scope=col>&lt;lgl&gt;</th></tr>\n",
       "</thead>\n",
       "<tbody>\n",
       "</tbody>\n",
       "</table>\n"
      ],
      "text/latex": [
       "A data.frame: 0 × 1\n",
       "\\begin{tabular}{l}\n",
       " .\\\\\n",
       " <lgl>\\\\\n",
       "\\hline\n",
       "\\end{tabular}\n"
      ],
      "text/markdown": [
       "\n",
       "A data.frame: 0 × 1\n",
       "\n",
       "| . &lt;lgl&gt; |\n",
       "|---|\n",
       "\n"
      ],
      "text/plain": [
       "     ."
      ]
     },
     "metadata": {},
     "output_type": "display_data"
    }
   ],
   "source": [
    "# checking for NAs\n",
    "feats_f %>%\n",
    "    apply(2, function(x) any(is.na(x))) %>% \n",
    "    as.data.frame %>%\n",
    "    filter(`.` == TRUE)"
   ]
  },
  {
   "cell_type": "markdown",
   "metadata": {},
   "source": [
    "# MLR"
   ]
  },
  {
   "cell_type": "code",
   "execution_count": 23,
   "metadata": {
    "ExecuteTime": {
     "end_time": "2022-05-25T14:15:59.978940Z",
     "start_time": "2022-05-25T14:15:59.891Z"
    }
   },
   "outputs": [],
   "source": [
    "# params\n",
    "target = 'Y'\n",
    "measures = list(auc, f1)\n",
    "cv_iters = 5\n",
    "cons_feat_rate = 0.1"
   ]
  },
  {
   "cell_type": "code",
   "execution_count": 24,
   "metadata": {
    "ExecuteTime": {
     "end_time": "2022-05-25T14:16:01.203213Z",
     "start_time": "2022-05-25T14:16:01.109Z"
    }
   },
   "outputs": [
    {
     "data": {
      "text/plain": [
       "Supervised task: feats_f[, 2:ncol(feats_f)]\n",
       "Type: classif\n",
       "Target: Y\n",
       "Observations: 495\n",
       "Features:\n",
       "   numerics     factors     ordered functionals \n",
       "        133           0           0           0 \n",
       "Missings: FALSE\n",
       "Has weights: FALSE\n",
       "Has blocking: TRUE\n",
       "Has coordinates: FALSE\n",
       "Classes: 2\n",
       "   cophylo no_cophylo \n",
       "       207        288 \n",
       "Positive class: cophylo"
      ]
     },
     "metadata": {},
     "output_type": "display_data"
    }
   ],
   "source": [
    "# creating mlr task\n",
    "tsk = makeClassifTask(data = feats_f[,2:ncol(feats_f)], \n",
    "                      target = target,\n",
    "                      blocking = gsub('_.+', '', feats_f$Species) %>% as.factor)\n",
    "tsk"
   ]
  },
  {
   "cell_type": "code",
   "execution_count": 25,
   "metadata": {
    "ExecuteTime": {
     "end_time": "2022-05-25T14:16:02.116267Z",
     "start_time": "2022-05-25T14:16:01.439Z"
    }
   },
   "outputs": [
    {
     "name": "stderr",
     "output_type": "stream",
     "text": [
      "Removing 35 columns: Strain_heterogeneity,Aerobe,Anaerobe,Beta.hemolysis,Cellobiose,D.Sorbitol,Facultative,Glucose.fermenter,Growth.in.KCN,Growth.on.MacConkey.agar,Growth.on.ordinary.blood.agar,Lipase,Malonate,Methyl.red,Nitrate.to.nitrite,Ornithine.decarboxylase,Oxidase,Spore.formation,Urea.hydrolysis,Voges.Proskauer,Yellow.pigment,myo.Inositol,cctyper_num_I.A,cctyper_num_I.E,cctyper_num_I.F,cctyper_num_I.G,cctyper_num_II.C,cctyper_num_III.A,cctyper_num_III.B,cctyper_num_III.D,cctyper_num_V.A,cctyper_num_V.F1,cctyper_num_VI.A,cctyper_num_VI.D,num_genes_COG.W\n",
      "\n"
     ]
    },
    {
     "data": {
      "text/plain": [
       "Supervised task: feats_f[, 2:ncol(feats_f)]\n",
       "Type: classif\n",
       "Target: Y\n",
       "Observations: 495\n",
       "Features:\n",
       "   numerics     factors     ordered functionals \n",
       "         98           0           0           0 \n",
       "Missings: FALSE\n",
       "Has weights: FALSE\n",
       "Has blocking: TRUE\n",
       "Has coordinates: FALSE\n",
       "Classes: 2\n",
       "   cophylo no_cophylo \n",
       "       207        288 \n",
       "Positive class: cophylo"
      ]
     },
     "metadata": {},
     "output_type": "display_data"
    }
   ],
   "source": [
    "# removing constant features\n",
    "tsk = removeConstantFeatures(tsk, perc = cons_feat_rate)\n",
    "tsk"
   ]
  },
  {
   "cell_type": "code",
   "execution_count": 26,
   "metadata": {
    "ExecuteTime": {
     "end_time": "2022-05-25T14:16:02.135563Z",
     "start_time": "2022-05-25T14:16:01.897Z"
    }
   },
   "outputs": [
    {
     "data": {
      "text/plain": [
       "Supervised task: feats_f[, 2:ncol(feats_f)]\n",
       "Type: classif\n",
       "Target: Y\n",
       "Observations: 495\n",
       "Features:\n",
       "   numerics     factors     ordered functionals \n",
       "         98           0           0           0 \n",
       "Missings: FALSE\n",
       "Has weights: FALSE\n",
       "Has blocking: TRUE\n",
       "Has coordinates: FALSE\n",
       "Classes: 2\n",
       "   cophylo no_cophylo \n",
       "       207        288 \n",
       "Positive class: cophylo"
      ]
     },
     "metadata": {},
     "output_type": "display_data"
    }
   ],
   "source": [
    "# final task size\n",
    "tsk"
   ]
  },
  {
   "cell_type": "code",
   "execution_count": 27,
   "metadata": {
    "ExecuteTime": {
     "end_time": "2022-05-25T14:16:03.414161Z",
     "start_time": "2022-05-25T14:16:03.077Z"
    }
   },
   "outputs": [
    {
     "data": {
      "text/plain": [
       "Learner classif.randomForest from package randomForest\n",
       "Type: classif\n",
       "Name: Random Forest; Short name: rf\n",
       "Class: classif.randomForest\n",
       "Properties: twoclass,multiclass,numerics,factors,ordered,prob,class.weights,oobpreds,featimp\n",
       "Predict-Type: prob\n",
       "Hyperparameters: ntree=1e+03\n"
      ]
     },
     "metadata": {},
     "output_type": "display_data"
    }
   ],
   "source": [
    "## learner\n",
    "#lrn = makeLearner('classif.cforest', predict.type = 'prob', ntree = 1000)\n",
    "lrn = makeLearner('classif.randomForest', predict.type = 'prob', ntree = 1000)\n",
    "lrn"
   ]
  },
  {
   "cell_type": "code",
   "execution_count": 28,
   "metadata": {
    "ExecuteTime": {
     "end_time": "2022-05-25T14:16:03.440994Z",
     "start_time": "2022-05-25T14:16:03.187Z"
    }
   },
   "outputs": [
    {
     "data": {
      "text/plain": [
       "Learner classif.randomForest.filtered from package randomForest\n",
       "Type: classif\n",
       "Name: ; Short name: \n",
       "Class: FilterWrapper\n",
       "Properties: numerics,factors,ordered,prob,twoclass,multiclass,class.weights,featimp,oobpreds\n",
       "Predict-Type: prob\n",
       "Hyperparameters: ntree=1e+03,fw.threshold=0\n"
      ]
     },
     "metadata": {},
     "output_type": "display_data"
    }
   ],
   "source": [
    "## feature filter\n",
    "lrn = makeFilterWrapper(lrn, \n",
    "                        fw.method = 'boruta.filter', \n",
    "                        fw.threshold = 0, \n",
    "                        threads = 2,\n",
    "                        target = target)\n",
    "lrn"
   ]
  },
  {
   "cell_type": "code",
   "execution_count": 29,
   "metadata": {
    "ExecuteTime": {
     "end_time": "2022-05-25T14:18:38.084584Z",
     "start_time": "2022-05-25T14:16:03.295Z"
    }
   },
   "outputs": [
    {
     "name": "stderr",
     "output_type": "stream",
     "text": [
      "Starting parallelization in mode=multicore with cpus=12.\n",
      "\n",
      "Resampling: cross-validation\n",
      "\n",
      "Measures:             auc       f1        \n",
      "\n",
      "Mapping in parallel: mode = multicore; level = mlr.resample; cpus = 12; elements = 5.\n",
      "\n",
      "\n",
      "\n",
      "\n",
      "Aggregated Result: auc.test.mean=0.8254424,f1.test.mean=0.7086272\n",
      "\n",
      "\n",
      "\n",
      "\n",
      "Stopped parallelization. All cleaned up.\n",
      "\n"
     ]
    }
   ],
   "source": [
    "## evaluation \n",
    "parallelStartMulticore(cpus=threads, level = 'mlr.resample')\n",
    "rs = makeResampleDesc('CV', iters = cv_iters, blocking.cv = TRUE)\n",
    "res = resample(lrn, tsk, \n",
    "               resampling = rs,  \n",
    "               models = TRUE,\n",
    "               measures = measures)\n",
    "parallelStop()"
   ]
  },
  {
   "cell_type": "markdown",
   "metadata": {
    "ExecuteTime": {
     "end_time": "2022-02-21T19:00:03.784661Z",
     "start_time": "2022-02-21T19:00:03.504Z"
    }
   },
   "source": [
    "### Performance"
   ]
  },
  {
   "cell_type": "code",
   "execution_count": 30,
   "metadata": {
    "ExecuteTime": {
     "end_time": "2022-05-25T14:18:38.119264Z",
     "start_time": "2022-05-25T14:16:03.599Z"
    }
   },
   "outputs": [
    {
     "data": {
      "text/html": [
       "<table class=\"dataframe\">\n",
       "<caption>A data.frame: 5 × 3</caption>\n",
       "<thead>\n",
       "\t<tr><th scope=col>iter</th><th scope=col>auc</th><th scope=col>f1</th></tr>\n",
       "\t<tr><th scope=col>&lt;int&gt;</th><th scope=col>&lt;dbl&gt;</th><th scope=col>&lt;dbl&gt;</th></tr>\n",
       "</thead>\n",
       "<tbody>\n",
       "\t<tr><td>1</td><td>1.0000000</td><td>0.6388889</td></tr>\n",
       "\t<tr><td>2</td><td>0.9139394</td><td>0.6875000</td></tr>\n",
       "\t<tr><td>3</td><td>0.7192283</td><td>0.7391304</td></tr>\n",
       "\t<tr><td>4</td><td>0.4940442</td><td>0.6612903</td></tr>\n",
       "\t<tr><td>5</td><td>1.0000000</td><td>0.8163265</td></tr>\n",
       "</tbody>\n",
       "</table>\n"
      ],
      "text/latex": [
       "A data.frame: 5 × 3\n",
       "\\begin{tabular}{lll}\n",
       " iter & auc & f1\\\\\n",
       " <int> & <dbl> & <dbl>\\\\\n",
       "\\hline\n",
       "\t 1 & 1.0000000 & 0.6388889\\\\\n",
       "\t 2 & 0.9139394 & 0.6875000\\\\\n",
       "\t 3 & 0.7192283 & 0.7391304\\\\\n",
       "\t 4 & 0.4940442 & 0.6612903\\\\\n",
       "\t 5 & 1.0000000 & 0.8163265\\\\\n",
       "\\end{tabular}\n"
      ],
      "text/markdown": [
       "\n",
       "A data.frame: 5 × 3\n",
       "\n",
       "| iter &lt;int&gt; | auc &lt;dbl&gt; | f1 &lt;dbl&gt; |\n",
       "|---|---|---|\n",
       "| 1 | 1.0000000 | 0.6388889 |\n",
       "| 2 | 0.9139394 | 0.6875000 |\n",
       "| 3 | 0.7192283 | 0.7391304 |\n",
       "| 4 | 0.4940442 | 0.6612903 |\n",
       "| 5 | 1.0000000 | 0.8163265 |\n",
       "\n"
      ],
      "text/plain": [
       "  iter auc       f1       \n",
       "1 1    1.0000000 0.6388889\n",
       "2 2    0.9139394 0.6875000\n",
       "3 3    0.7192283 0.7391304\n",
       "4 4    0.4940442 0.6612903\n",
       "5 5    1.0000000 0.8163265"
      ]
     },
     "metadata": {},
     "output_type": "display_data"
    }
   ],
   "source": [
    "# performance\n",
    "df.dims(30)\n",
    "res$measures.test\n",
    "df.dims()"
   ]
  },
  {
   "cell_type": "code",
   "execution_count": 31,
   "metadata": {
    "ExecuteTime": {
     "end_time": "2022-05-25T14:18:38.153719Z",
     "start_time": "2022-05-25T14:16:03.978Z"
    },
    "scrolled": true
   },
   "outputs": [
    {
     "data": {
      "text/html": [
       "<table class=\"dataframe\">\n",
       "<caption>A matrix: 1 × 8 of type dbl</caption>\n",
       "<thead>\n",
       "\t<tr><th></th><th scope=col>Min.</th><th scope=col>1st Qu.</th><th scope=col>Median</th><th scope=col>Mean</th><th scope=col>3rd Qu.</th><th scope=col>Max.</th><th scope=col>sd</th><th scope=col>sd_err_of_mean</th></tr>\n",
       "</thead>\n",
       "<tbody>\n",
       "\t<tr><th scope=row>auc</th><td>0.4940442</td><td>0.7192283</td><td>0.9139394</td><td>0.8254424</td><td>1</td><td>1</td><td>0.218</td><td>0.089</td></tr>\n",
       "</tbody>\n",
       "</table>\n"
      ],
      "text/latex": [
       "A matrix: 1 × 8 of type dbl\n",
       "\\begin{tabular}{r|llllllll}\n",
       "  & Min. & 1st Qu. & Median & Mean & 3rd Qu. & Max. & sd & sd\\_err\\_of\\_mean\\\\\n",
       "\\hline\n",
       "\tauc & 0.4940442 & 0.7192283 & 0.9139394 & 0.8254424 & 1 & 1 & 0.218 & 0.089\\\\\n",
       "\\end{tabular}\n"
      ],
      "text/markdown": [
       "\n",
       "A matrix: 1 × 8 of type dbl\n",
       "\n",
       "| <!--/--> | Min. | 1st Qu. | Median | Mean | 3rd Qu. | Max. | sd | sd_err_of_mean |\n",
       "|---|---|---|---|---|---|---|---|---|\n",
       "| auc | 0.4940442 | 0.7192283 | 0.9139394 | 0.8254424 | 1 | 1 | 0.218 | 0.089 |\n",
       "\n"
      ],
      "text/plain": [
       "    Min.      1st Qu.   Median    Mean      3rd Qu. Max. sd    sd_err_of_mean\n",
       "auc 0.4940442 0.7192283 0.9139394 0.8254424 1       1    0.218 0.089         "
      ]
     },
     "metadata": {},
     "output_type": "display_data"
    },
    {
     "data": {
      "text/html": [
       "<table class=\"dataframe\">\n",
       "<caption>A matrix: 1 × 8 of type dbl</caption>\n",
       "<thead>\n",
       "\t<tr><th></th><th scope=col>Min.</th><th scope=col>1st Qu.</th><th scope=col>Median</th><th scope=col>Mean</th><th scope=col>3rd Qu.</th><th scope=col>Max.</th><th scope=col>sd</th><th scope=col>sd_err_of_mean</th></tr>\n",
       "</thead>\n",
       "<tbody>\n",
       "\t<tr><th scope=row>f1</th><td>0.6388889</td><td>0.6612903</td><td>0.6875</td><td>0.7086272</td><td>0.7391304</td><td>0.8163265</td><td>0.071</td><td>0.029</td></tr>\n",
       "</tbody>\n",
       "</table>\n"
      ],
      "text/latex": [
       "A matrix: 1 × 8 of type dbl\n",
       "\\begin{tabular}{r|llllllll}\n",
       "  & Min. & 1st Qu. & Median & Mean & 3rd Qu. & Max. & sd & sd\\_err\\_of\\_mean\\\\\n",
       "\\hline\n",
       "\tf1 & 0.6388889 & 0.6612903 & 0.6875 & 0.7086272 & 0.7391304 & 0.8163265 & 0.071 & 0.029\\\\\n",
       "\\end{tabular}\n"
      ],
      "text/markdown": [
       "\n",
       "A matrix: 1 × 8 of type dbl\n",
       "\n",
       "| <!--/--> | Min. | 1st Qu. | Median | Mean | 3rd Qu. | Max. | sd | sd_err_of_mean |\n",
       "|---|---|---|---|---|---|---|---|---|\n",
       "| f1 | 0.6388889 | 0.6612903 | 0.6875 | 0.7086272 | 0.7391304 | 0.8163265 | 0.071 | 0.029 |\n",
       "\n"
      ],
      "text/plain": [
       "   Min.      1st Qu.   Median Mean      3rd Qu.   Max.      sd   \n",
       "f1 0.6388889 0.6612903 0.6875 0.7086272 0.7391304 0.8163265 0.071\n",
       "   sd_err_of_mean\n",
       "f1 0.029         "
      ]
     },
     "metadata": {},
     "output_type": "display_data"
    }
   ],
   "source": [
    "# performance\n",
    "summary_x(res$measures.test$auc)\n",
    "summary_x(res$measures.test$f1)"
   ]
  },
  {
   "cell_type": "code",
   "execution_count": 32,
   "metadata": {
    "ExecuteTime": {
     "end_time": "2022-05-25T14:18:38.870888Z",
     "start_time": "2022-05-25T14:16:04.086Z"
    }
   },
   "outputs": [
    {
     "data": {
      "image/png": "[encoded data removed]",
      "text/plain": [
       "plot without title"
      ]
     },
     "metadata": {
      "image/png": {
       "height": 250,
       "width": 300
      }
     },
     "output_type": "display_data"
    }
   ],
   "source": [
    "# plotting\n",
    "p = res$measures.test %>%\n",
    "    pivot_longer.(cols=c(-iter), names_to='metric', values_to='value') %>%\n",
    "    ggplot(aes(metric, value)) +\n",
    "    geom_boxplot() +\n",
    "    theme_bw()  \n",
    "p.dims(3,2.5)\n",
    "plot(p)"
   ]
  },
  {
   "cell_type": "code",
   "execution_count": 33,
   "metadata": {
    "ExecuteTime": {
     "end_time": "2022-05-25T14:18:38.937727Z",
     "start_time": "2022-05-25T14:16:04.204Z"
    }
   },
   "outputs": [
    {
     "data": {
      "text/html": [
       "<table class=\"dataframe\">\n",
       "<caption>A data.table: 490 × 3</caption>\n",
       "<thead>\n",
       "\t<tr><th scope=col>cv_rep</th><th scope=col>variable</th><th scope=col>importance</th></tr>\n",
       "\t<tr><th scope=col>&lt;int&gt;</th><th scope=col>&lt;chr&gt;</th><th scope=col>&lt;dbl&gt;</th></tr>\n",
       "</thead>\n",
       "<tbody>\n",
       "\t<tr><td>1</td><td>Completeness </td><td>3.103457</td></tr>\n",
       "\t<tr><td>1</td><td>Contamination</td><td>2.527876</td></tr>\n",
       "\t<tr><td>⋮</td><td>⋮</td><td>⋮</td></tr>\n",
       "\t<tr><td>5</td><td>num_genes_COG.V</td><td>1.810012</td></tr>\n",
       "\t<tr><td>5</td><td>num_genes_COG.Z</td><td>1.608664</td></tr>\n",
       "</tbody>\n",
       "</table>\n"
      ],
      "text/latex": [
       "A data.table: 490 × 3\n",
       "\\begin{tabular}{lll}\n",
       " cv\\_rep & variable & importance\\\\\n",
       " <int> & <chr> & <dbl>\\\\\n",
       "\\hline\n",
       "\t 1 & Completeness  & 3.103457\\\\\n",
       "\t 1 & Contamination & 2.527876\\\\\n",
       "\t ⋮ & ⋮ & ⋮\\\\\n",
       "\t 5 & num\\_genes\\_COG.V & 1.810012\\\\\n",
       "\t 5 & num\\_genes\\_COG.Z & 1.608664\\\\\n",
       "\\end{tabular}\n"
      ],
      "text/markdown": [
       "\n",
       "A data.table: 490 × 3\n",
       "\n",
       "| cv_rep &lt;int&gt; | variable &lt;chr&gt; | importance &lt;dbl&gt; |\n",
       "|---|---|---|\n",
       "| 1 | Completeness  | 3.103457 |\n",
       "| 1 | Contamination | 2.527876 |\n",
       "| ⋮ | ⋮ | ⋮ |\n",
       "| 5 | num_genes_COG.V | 1.810012 |\n",
       "| 5 | num_genes_COG.Z | 1.608664 |\n",
       "\n"
      ],
      "text/plain": [
       "    cv_rep variable        importance\n",
       "1   1      Completeness    3.103457  \n",
       "2   1      Contamination   2.527876  \n",
       "⋮   ⋮      ⋮               ⋮         \n",
       "489 5      num_genes_COG.V 1.810012  \n",
       "490 5      num_genes_COG.Z 1.608664  "
      ]
     },
     "metadata": {},
     "output_type": "display_data"
    }
   ],
   "source": [
    "#-- feature importance --#\n",
    "merge_feat_imp = function(iter, feat_imp){\n",
    "    res = feat_imp[[iter]]$res\n",
    "    res$iter = iter\n",
    "    return(res)  \n",
    "}\n",
    "feat_imp = res$models %>%\n",
    "    lapply(function(x) getFeatureImportance(x)$res) %>%\n",
    "    rbindlist(use.names=TRUE, idcol='cv_rep')\n",
    "feat_imp"
   ]
  },
  {
   "cell_type": "code",
   "execution_count": 60,
   "metadata": {
    "ExecuteTime": {
     "end_time": "2022-05-25T14:30:20.363428Z",
     "start_time": "2022-05-25T14:30:19.946Z"
    }
   },
   "outputs": [
    {
     "data": {
      "image/png": "[encoded data removed]",
      "text/plain": [
       "plot without title"
      ]
     },
     "metadata": {
      "image/png": {
       "height": 400,
       "width": 400
      }
     },
     "output_type": "display_data"
    }
   ],
   "source": [
    "# plotting most important features (ranked mean importance)\n",
    "x = feat_imp %>%\n",
    "    mutate.(variable = gsub('num_', 'perc_', variable)) %>%\n",
    "    summarize.(mean_imp = mean(importance),\n",
    "               .by = c(variable)) %>%\n",
    "    mutate.(rank = dense_rank(-mean_imp))\n",
    "\n",
    "p = feat_imp %>%\n",
    "    mutate.(variable = gsub('num_', 'perc_', variable)) %>%\n",
    "    inner_join.(x, c('variable')) %>%\n",
    "    filter.(rank <=20) %>%\n",
    "    mutate.(variable = variable %>% reorder(-rank)) %>%\n",
    "    ggplot(aes(variable, importance)) +\n",
    "    geom_boxplot() +\n",
    "    theme_bw() +\n",
    "    coord_flip()\n",
    "p.dims(4,4)\n",
    "plot(p)"
   ]
  },
  {
   "cell_type": "code",
   "execution_count": 37,
   "metadata": {
    "ExecuteTime": {
     "end_time": "2022-05-25T14:18:41.778227Z",
     "start_time": "2022-05-25T14:16:17.826Z"
    }
   },
   "outputs": [
    {
     "name": "stderr",
     "output_type": "stream",
     "text": [
      "Sending email to: nyoungblut@tuebingen.mpg.de\n",
      "\n"
     ]
    }
   ],
   "source": [
    "send_email('http://127.0.0.1:9709/notebooks/notebooks/function_HUBIF-TUK-CAM-KOR/04bb_ML_boruta_rf-cat_paco_genus-block_qval.ipynb')"
   ]
  },
  {
   "cell_type": "markdown",
   "metadata": {},
   "source": [
    "# sessionInfo"
   ]
  },
  {
   "cell_type": "code",
   "execution_count": 36,
   "metadata": {
    "ExecuteTime": {
     "end_time": "2022-05-25T14:18:40.723392Z",
     "start_time": "2022-05-25T14:16:06.078Z"
    }
   },
   "outputs": [
    {
     "data": {
      "text/plain": [
       "R version 4.1.3 (2022-03-10)\n",
       "Platform: x86_64-conda-linux-gnu (64-bit)\n",
       "Running under: Ubuntu 18.04.6 LTS\n",
       "\n",
       "Matrix products: default\n",
       "BLAS/LAPACK: /tmp/global2/nyoungblut/code/HUBIF_cophylo/conda_envs/cophylo-ML/lib/libopenblasp-r0.3.18.so\n",
       "\n",
       "locale:\n",
       " [1] LC_CTYPE=en_US.UTF-8       LC_NUMERIC=C              \n",
       " [3] LC_TIME=en_US.UTF-8        LC_COLLATE=en_US.UTF-8    \n",
       " [5] LC_MONETARY=en_US.UTF-8    LC_MESSAGES=en_US.UTF-8   \n",
       " [7] LC_PAPER=en_US.UTF-8       LC_NAME=C                 \n",
       " [9] LC_ADDRESS=C               LC_TELEPHONE=C            \n",
       "[11] LC_MEASUREMENT=en_US.UTF-8 LC_IDENTIFICATION=C       \n",
       "\n",
       "attached base packages:\n",
       "[1] stats     graphics  grDevices utils     datasets  methods   base     \n",
       "\n",
       "other attached packages:\n",
       " [1] parallelMap_1.5.1   randomForest_4.6-14 mlr_2.19.0         \n",
       " [4] ParamHelpers_1.14   Boruta_7.0.0        clustermq_0.8.95.3 \n",
       " [7] LeyLabRMisc_0.2.1   tidytable_0.7.1     data.table_1.14.2  \n",
       "[10] ggplot2_3.3.5       tidyr_1.2.0         dplyr_1.0.8        \n",
       "\n",
       "loaded via a namespace (and not attached):\n",
       " [1] pbdZMQ_0.3-7     tidyselect_1.1.2 repr_1.1.4       purrr_0.3.4     \n",
       " [5] lattice_0.20-45  splines_4.1.3    colorspace_2.0-3 vctrs_0.3.8     \n",
       " [9] generics_0.1.2   htmltools_0.5.2  base64enc_0.1-3  XML_3.99-0.9    \n",
       "[13] utf8_1.2.2       survival_3.3-1   rlang_1.0.2      pillar_1.7.0    \n",
       "[17] glue_1.6.2       withr_2.5.0      uuid_1.0-4       lifecycle_1.0.1 \n",
       "[21] plyr_1.8.7       munsell_0.5.0    gtable_0.3.0     codetools_0.2-18\n",
       "[25] evaluate_0.15    labeling_0.4.2   fastmap_1.1.0    parallel_4.1.3  \n",
       "[29] fansi_1.0.3      IRdisplay_1.1    Rcpp_1.0.8.3     scales_1.1.1    \n",
       "[33] backports_1.4.1  checkmate_2.0.0  IRkernel_1.3     jsonlite_1.8.0  \n",
       "[37] farver_2.1.0     fastmatch_1.1-3  digest_0.6.29    stringi_1.7.6   \n",
       "[41] BBmisc_1.12      grid_4.1.3       cli_3.2.0        tools_4.1.3     \n",
       "[45] magrittr_2.0.2   tibble_3.1.6     crayon_1.5.1     pkgconfig_2.0.3 \n",
       "[49] ellipsis_0.3.2   Matrix_1.4-1     R6_2.5.1         compiler_4.1.3  "
      ]
     },
     "metadata": {},
     "output_type": "display_data"
    }
   ],
   "source": [
    "sessionInfo()"
   ]
  },
  {
   "cell_type": "code",
   "execution_count": null,
   "metadata": {},
   "outputs": [],
   "source": []
  }
 ],
 "metadata": {
  "kernelspec": {
   "display_name": "R [conda env:cophylo-ML]",
   "language": "R",
   "name": "conda-env-cophylo-ML-r"
  },
  "language_info": {
   "codemirror_mode": "r",
   "file_extension": ".r",
   "mimetype": "text/x-r-source",
   "name": "R",
   "pygments_lexer": "r",
   "version": "4.1.3"
  },
  "notify_time": "30",
  "toc": {
   "base_numbering": 1,
   "nav_menu": {},
   "number_sections": true,
   "sideBar": true,
   "skip_h1_title": false,
   "title_cell": "Table of Contents",
   "title_sidebar": "Contents",
   "toc_cell": true,
   "toc_position": {},
   "toc_section_display": true,
   "toc_window_display": true
  }
 },
 "nbformat": 4,
 "nbformat_minor": 4
}
