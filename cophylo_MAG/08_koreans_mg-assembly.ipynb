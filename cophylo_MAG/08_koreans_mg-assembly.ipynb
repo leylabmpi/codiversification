{
 "cells": [
  {
   "cell_type": "markdown",
   "metadata": {
    "toc": true
   },
   "source": [
    "<h1>Table of Contents<span class=\"tocSkip\"></span></h1>\n",
    "<div class=\"toc\"><ul class=\"toc-item\"><li><span><a href=\"#Goal\" data-toc-modified-id=\"Goal-1\"><span class=\"toc-item-num\">1&nbsp;&nbsp;</span>Goal</a></span></li><li><span><a href=\"#Var\" data-toc-modified-id=\"Var-2\"><span class=\"toc-item-num\">2&nbsp;&nbsp;</span>Var</a></span></li><li><span><a href=\"#Init\" data-toc-modified-id=\"Init-3\"><span class=\"toc-item-num\">3&nbsp;&nbsp;</span>Init</a></span></li><li><span><a href=\"#Load\" data-toc-modified-id=\"Load-4\"><span class=\"toc-item-num\">4&nbsp;&nbsp;</span>Load</a></span></li><li><span><a href=\"#LLG-summary\" data-toc-modified-id=\"LLG-summary-5\"><span class=\"toc-item-num\">5&nbsp;&nbsp;</span>LLG summary</a></span><ul class=\"toc-item\"><li><ul class=\"toc-item\"><li><ul class=\"toc-item\"><li><span><a href=\"#Writing-table\" data-toc-modified-id=\"Writing-table-5.0.0.1\"><span class=\"toc-item-num\">5.0.0.1&nbsp;&nbsp;</span>Writing table</a></span></li></ul></li></ul></li></ul></li><li><span><a href=\"#Target-species\" data-toc-modified-id=\"Target-species-6\"><span class=\"toc-item-num\">6&nbsp;&nbsp;</span>Target species</a></span><ul class=\"toc-item\"><li><ul class=\"toc-item\"><li><span><a href=\"#Summary\" data-toc-modified-id=\"Summary-6.0.1\"><span class=\"toc-item-num\">6.0.1&nbsp;&nbsp;</span>Summary</a></span></li></ul></li></ul></li><li><span><a href=\"#sessionInfo\" data-toc-modified-id=\"sessionInfo-7\"><span class=\"toc-item-num\">7&nbsp;&nbsp;</span>sessionInfo</a></span></li></ul></div>"
   ]
  },
  {
   "cell_type": "markdown",
   "metadata": {},
   "source": [
    "# Goal\n",
    "\n",
    "* Summarize Liam's metagenome assembly of the `Korean` dataset"
   ]
  },
  {
   "cell_type": "markdown",
   "metadata": {},
   "source": [
    "# Var"
   ]
  },
  {
   "cell_type": "code",
   "execution_count": 1,
   "metadata": {
    "ExecuteTime": {
     "end_time": "2022-02-02T11:44:29.430115Z",
     "start_time": "2022-02-02T11:44:29.347Z"
    }
   },
   "outputs": [],
   "source": [
    "work_dir = '/ebio/abt3_projects/HUBIF_metagenomics/data/pipelines/llg/cophyverttrans/koreans/'\n",
    "\n",
    "# target cophylogeny species\n",
    "cophy_dir = '/ebio/abt3_projects/HUBIF_metagenomics/data/pipelines/llg/cophyverttrans/batch2_clusters1-3/round6/'\n",
    "cophylo_adult_spec_file = file.path(cophy_dir, 'cophylo_species', 'AdultBetweenPop_species.tsv')\n",
    "cophylo_infant_spec_file = file.path(cophy_dir, 'cophylo_species', 'InfantResults_species.txt')\n",
    "\n",
    "# params\n",
    "threads = 4"
   ]
  },
  {
   "cell_type": "markdown",
   "metadata": {},
   "source": [
    "# Init"
   ]
  },
  {
   "cell_type": "code",
   "execution_count": 3,
   "metadata": {
    "ExecuteTime": {
     "end_time": "2022-02-02T11:44:38.596268Z",
     "start_time": "2022-02-02T11:44:38.553Z"
    }
   },
   "outputs": [],
   "source": [
    "library(dplyr)\n",
    "library(tidyr)\n",
    "library(ggplot2)\n",
    "library(data.table)\n",
    "library(tidytable)\n",
    "library(LeyLabRMisc)\n",
    "Init()"
   ]
  },
  {
   "cell_type": "markdown",
   "metadata": {},
   "source": [
    "# Load"
   ]
  },
  {
   "cell_type": "code",
   "execution_count": 4,
   "metadata": {
    "ExecuteTime": {
     "end_time": "2022-02-02T11:44:49.083179Z",
     "start_time": "2022-02-02T11:44:48.949Z"
    }
   },
   "outputs": [
    {
     "data": {
      "text/html": [
       "<table class=\"dataframe\">\n",
       "<caption>A tidytable: 67 × 12</caption>\n",
       "<thead>\n",
       "\t<tr><th scope=col>ncbi_taxonomy</th><th scope=col>gtdb_taxonomy</th><th scope=col>lca_frac</th><th scope=col>target_tax_level</th><th scope=col>age_group</th><th scope=col>Domain</th><th scope=col>Phylum</th><th scope=col>Class</th><th scope=col>Order</th><th scope=col>Family</th><th scope=col>Genus</th><th scope=col>Species</th></tr>\n",
       "\t<tr><th scope=col>&lt;chr&gt;</th><th scope=col>&lt;chr&gt;</th><th scope=col>&lt;dbl&gt;</th><th scope=col>&lt;chr&gt;</th><th scope=col>&lt;chr&gt;</th><th scope=col>&lt;chr&gt;</th><th scope=col>&lt;chr&gt;</th><th scope=col>&lt;chr&gt;</th><th scope=col>&lt;chr&gt;</th><th scope=col>&lt;chr&gt;</th><th scope=col>&lt;chr&gt;</th><th scope=col>&lt;chr&gt;</th></tr>\n",
       "</thead>\n",
       "<tbody>\n",
       "\t<tr><td>s__Catenibacterium_mitsuokai</td><td>s__Catenibacterium mitsuokai</td><td>1</td><td>species</td><td>adult</td><td>d__bacteria</td><td>p__firmicutes  </td><td>c__bacilli   </td><td>o__erysipelotrichales</td><td>f__erysipelatoclostridiaceae</td><td>g__catenibacterium</td><td>catenibacterium mitsuokai</td></tr>\n",
       "\t<tr><td>s__Eubacterium_sp_CAG_251   </td><td>s__Eubacterium_R sp000436835</td><td>1</td><td>species</td><td>adult</td><td>d__Bacteria</td><td>p__Firmicutes_A</td><td>c__Clostridia</td><td>o__Oscillospirales   </td><td>f__Acutalibacteraceae       </td><td>g__Eubacterium_R  </td><td>Eubacterium_R sp000436835</td></tr>\n",
       "\t<tr><td>⋮</td><td>⋮</td><td>⋮</td><td>⋮</td><td>⋮</td><td>⋮</td><td>⋮</td><td>⋮</td><td>⋮</td><td>⋮</td><td>⋮</td><td>⋮</td></tr>\n",
       "\t<tr><td>s__Escherichia_coli        </td><td>g__Escherichia  </td><td>0.99</td><td>genus</td><td>infant</td><td>d__bacteria</td><td>p__proteobacteria</td><td>c__gammaproteobacteria</td><td>o__enterobacterales</td><td>f__enterobacteriaceae</td><td>g__escherichia  </td><td>NA</td></tr>\n",
       "\t<tr><td>s__Streptococcus_salivarius</td><td>g__Streptococcus</td><td>1.00</td><td>genus</td><td>infant</td><td>d__bacteria</td><td>p__firmicutes    </td><td>c__bacilli            </td><td>o__lactobacillales </td><td>f__streptococcaceae  </td><td>g__streptococcus</td><td>NA</td></tr>\n",
       "</tbody>\n",
       "</table>\n"
      ],
      "text/latex": [
       "A tidytable: 67 × 12\n",
       "\\begin{tabular}{llllllllllll}\n",
       " ncbi\\_taxonomy & gtdb\\_taxonomy & lca\\_frac & target\\_tax\\_level & age\\_group & Domain & Phylum & Class & Order & Family & Genus & Species\\\\\n",
       " <chr> & <chr> & <dbl> & <chr> & <chr> & <chr> & <chr> & <chr> & <chr> & <chr> & <chr> & <chr>\\\\\n",
       "\\hline\n",
       "\t s\\_\\_Catenibacterium\\_mitsuokai & s\\_\\_Catenibacterium mitsuokai & 1 & species & adult & d\\_\\_bacteria & p\\_\\_firmicutes   & c\\_\\_bacilli    & o\\_\\_erysipelotrichales & f\\_\\_erysipelatoclostridiaceae & g\\_\\_catenibacterium & catenibacterium mitsuokai\\\\\n",
       "\t s\\_\\_Eubacterium\\_sp\\_CAG\\_251    & s\\_\\_Eubacterium\\_R sp000436835 & 1 & species & adult & d\\_\\_Bacteria & p\\_\\_Firmicutes\\_A & c\\_\\_Clostridia & o\\_\\_Oscillospirales    & f\\_\\_Acutalibacteraceae        & g\\_\\_Eubacterium\\_R   & Eubacterium\\_R sp000436835\\\\\n",
       "\t ⋮ & ⋮ & ⋮ & ⋮ & ⋮ & ⋮ & ⋮ & ⋮ & ⋮ & ⋮ & ⋮ & ⋮\\\\\n",
       "\t s\\_\\_Escherichia\\_coli         & g\\_\\_Escherichia   & 0.99 & genus & infant & d\\_\\_bacteria & p\\_\\_proteobacteria & c\\_\\_gammaproteobacteria & o\\_\\_enterobacterales & f\\_\\_enterobacteriaceae & g\\_\\_escherichia   & NA\\\\\n",
       "\t s\\_\\_Streptococcus\\_salivarius & g\\_\\_Streptococcus & 1.00 & genus & infant & d\\_\\_bacteria & p\\_\\_firmicutes     & c\\_\\_bacilli             & o\\_\\_lactobacillales  & f\\_\\_streptococcaceae   & g\\_\\_streptococcus & NA\\\\\n",
       "\\end{tabular}\n"
      ],
      "text/markdown": [
       "\n",
       "A tidytable: 67 × 12\n",
       "\n",
       "| ncbi_taxonomy &lt;chr&gt; | gtdb_taxonomy &lt;chr&gt; | lca_frac &lt;dbl&gt; | target_tax_level &lt;chr&gt; | age_group &lt;chr&gt; | Domain &lt;chr&gt; | Phylum &lt;chr&gt; | Class &lt;chr&gt; | Order &lt;chr&gt; | Family &lt;chr&gt; | Genus &lt;chr&gt; | Species &lt;chr&gt; |\n",
       "|---|---|---|---|---|---|---|---|---|---|---|---|\n",
       "| s__Catenibacterium_mitsuokai | s__Catenibacterium mitsuokai | 1 | species | adult | d__bacteria | p__firmicutes   | c__bacilli    | o__erysipelotrichales | f__erysipelatoclostridiaceae | g__catenibacterium | catenibacterium mitsuokai |\n",
       "| s__Eubacterium_sp_CAG_251    | s__Eubacterium_R sp000436835 | 1 | species | adult | d__Bacteria | p__Firmicutes_A | c__Clostridia | o__Oscillospirales    | f__Acutalibacteraceae        | g__Eubacterium_R   | Eubacterium_R sp000436835 |\n",
       "| ⋮ | ⋮ | ⋮ | ⋮ | ⋮ | ⋮ | ⋮ | ⋮ | ⋮ | ⋮ | ⋮ | ⋮ |\n",
       "| s__Escherichia_coli         | g__Escherichia   | 0.99 | genus | infant | d__bacteria | p__proteobacteria | c__gammaproteobacteria | o__enterobacterales | f__enterobacteriaceae | g__escherichia   | NA |\n",
       "| s__Streptococcus_salivarius | g__Streptococcus | 1.00 | genus | infant | d__bacteria | p__firmicutes     | c__bacilli             | o__lactobacillales  | f__streptococcaceae   | g__streptococcus | NA |\n",
       "\n"
      ],
      "text/plain": [
       "   ncbi_taxonomy                gtdb_taxonomy                lca_frac\n",
       "1  s__Catenibacterium_mitsuokai s__Catenibacterium mitsuokai 1       \n",
       "2  s__Eubacterium_sp_CAG_251    s__Eubacterium_R sp000436835 1       \n",
       "⋮  ⋮                            ⋮                            ⋮       \n",
       "66 s__Escherichia_coli          g__Escherichia               0.99    \n",
       "67 s__Streptococcus_salivarius  g__Streptococcus             1.00    \n",
       "   target_tax_level age_group Domain      Phylum           \n",
       "1  species          adult     d__bacteria p__firmicutes    \n",
       "2  species          adult     d__Bacteria p__Firmicutes_A  \n",
       "⋮  ⋮                ⋮         ⋮           ⋮                \n",
       "66 genus            infant    d__bacteria p__proteobacteria\n",
       "67 genus            infant    d__bacteria p__firmicutes    \n",
       "   Class                  Order                 Family                      \n",
       "1  c__bacilli             o__erysipelotrichales f__erysipelatoclostridiaceae\n",
       "2  c__Clostridia          o__Oscillospirales    f__Acutalibacteraceae       \n",
       "⋮  ⋮                      ⋮                     ⋮                           \n",
       "66 c__gammaproteobacteria o__enterobacterales   f__enterobacteriaceae       \n",
       "67 c__bacilli             o__lactobacillales    f__streptococcaceae         \n",
       "   Genus              Species                  \n",
       "1  g__catenibacterium catenibacterium mitsuokai\n",
       "2  g__Eubacterium_R   Eubacterium_R sp000436835\n",
       "⋮  ⋮                  ⋮                        \n",
       "66 g__escherichia     NA                       \n",
       "67 g__streptococcus   NA                       "
      ]
     },
     "metadata": {},
     "output_type": "display_data"
    }
   ],
   "source": [
    "# species\n",
    "cophylo_spec = list(\n",
    "    Fread(cophylo_adult_spec_file) %>%\n",
    "        mutate.(age_group = 'adult'),\n",
    "    Fread(cophylo_infant_spec_file) %>%\n",
    "        mutate.(age_group = 'infant')\n",
    "    ) %>%\n",
    "    rbindlist(use.names=TRUE) %>%\n",
    "    separate.(lineage, taxonomy_levels(), sep=';') %>%\n",
    "    mutate.(Species = gsub('^s__', '', Species))\n",
    "cophylo_spec"
   ]
  },
  {
   "cell_type": "markdown",
   "metadata": {},
   "source": [
    "# LLG summary\n",
    "\n",
    "* Summary of MAG QC & dRep"
   ]
  },
  {
   "cell_type": "code",
   "execution_count": 5,
   "metadata": {
    "ExecuteTime": {
     "end_time": "2022-02-02T11:45:26.381671Z",
     "start_time": "2022-02-02T11:45:26.228Z"
    }
   },
   "outputs": [
    {
     "name": "stdout",
     "output_type": "stream",
     "text": [
      "No. of unique MAGs: 677 \n"
     ]
    },
    {
     "data": {
      "text/html": [
       "<table class=\"dataframe\">\n",
       "<caption>A tidytable: 677 × 33</caption>\n",
       "<thead>\n",
       "\t<tr><th scope=col>Bin.Id</th><th scope=col>Marker.lineage</th><th scope=col>X..genomes</th><th scope=col>X..markers</th><th scope=col>X..marker.sets</th><th scope=col>Completeness</th><th scope=col>Contamination</th><th scope=col>Strain.heterogeneity</th><th scope=col>Genome.size..bp.</th><th scope=col>X..ambiguous.bases</th><th scope=col>⋯</th><th scope=col>X0</th><th scope=col>X1</th><th scope=col>X2</th><th scope=col>X3</th><th scope=col>X4</th><th scope=col>X5.</th><th scope=col>assembly.Id</th><th scope=col>assembler.Id</th><th scope=col>taxon.Id</th><th scope=col>File</th></tr>\n",
       "\t<tr><th scope=col>&lt;chr&gt;</th><th scope=col>&lt;chr&gt;</th><th scope=col>&lt;int&gt;</th><th scope=col>&lt;int&gt;</th><th scope=col>&lt;int&gt;</th><th scope=col>&lt;dbl&gt;</th><th scope=col>&lt;dbl&gt;</th><th scope=col>&lt;dbl&gt;</th><th scope=col>&lt;int&gt;</th><th scope=col>&lt;int&gt;</th><th scope=col>⋯</th><th scope=col>&lt;int&gt;</th><th scope=col>&lt;int&gt;</th><th scope=col>&lt;int&gt;</th><th scope=col>&lt;int&gt;</th><th scope=col>&lt;int&gt;</th><th scope=col>&lt;int&gt;</th><th scope=col>&lt;chr&gt;</th><th scope=col>&lt;chr&gt;</th><th scope=col>&lt;lgl&gt;</th><th scope=col>&lt;chr&gt;</th></tr>\n",
       "</thead>\n",
       "<tbody>\n",
       "\t<tr><td>PositiveKorean1_MOC_D6306_plate1_D07__maxbin2__High_005</td><td>f__Enterobacteriaceae (UID5124)</td><td>134</td><td>1173</td><td>336</td><td>97.61</td><td>0.16</td><td>50</td><td>4445040</td><td>0</td><td>⋯</td><td> 30</td><td>1139</td><td>4</td><td>0</td><td>0</td><td>0</td><td>|ebio|abt3_projects|HUBIF_metagenomics|data|pipelines|llg|cophyverttrans|koreans|round1|llg_output|checkM|1|checkm|markers_qa_summary.tsv.1</td><td>markers_qa_summary.tsv.1</td><td>NA</td><td>/ebio/abt3_projects/HUBIF_metagenomics/data/pipelines/llg/cophyverttrans/koreans/round1/llg_output/checkM/1/checkm/markers_qa_summary.tsv.1</td></tr>\n",
       "\t<tr><td>S1017_plate1_A06__metabat2__High_003                   </td><td>p__Firmicutes (UID1022)        </td><td>100</td><td> 295</td><td>158</td><td>40.53</td><td>1.31</td><td>75</td><td> 951375</td><td>0</td><td>⋯</td><td>155</td><td> 136</td><td>4</td><td>0</td><td>0</td><td>0</td><td>|ebio|abt3_projects|HUBIF_metagenomics|data|pipelines|llg|cophyverttrans|koreans|round1|llg_output|checkM|1|checkm|markers_qa_summary.tsv.2</td><td>markers_qa_summary.tsv.2</td><td>NA</td><td>/ebio/abt3_projects/HUBIF_metagenomics/data/pipelines/llg/cophyverttrans/koreans/round1/llg_output/checkM/1/checkm/markers_qa_summary.tsv.2</td></tr>\n",
       "\t<tr><td>⋮</td><td>⋮</td><td>⋮</td><td>⋮</td><td>⋮</td><td>⋮</td><td>⋮</td><td>⋮</td><td>⋮</td><td>⋮</td><td>⋱</td><td>⋮</td><td>⋮</td><td>⋮</td><td>⋮</td><td>⋮</td><td>⋮</td><td>⋮</td><td>⋮</td><td>⋮</td><td>⋮</td></tr>\n",
       "\t<tr><td>S892_plate1_F09__maxbin2__High_005   </td><td>k__Bacteria (UID2329)     </td><td>174</td><td>149</td><td> 89</td><td>89.89</td><td> 3.37</td><td>0.00</td><td>1270996</td><td>0</td><td>⋯</td><td>10</td><td>136</td><td> 3</td><td>0</td><td>0</td><td>0</td><td>|ebio|abt3_projects|HUBIF_metagenomics|data|pipelines|llg|cophyverttrans|koreans|round1|llg_output|checkM|10|checkm|markers_qa_summary.tsv.66</td><td>markers_qa_summary.tsv.66</td><td>NA</td><td>/ebio/abt3_projects/HUBIF_metagenomics/data/pipelines/llg/cophyverttrans/koreans/round1/llg_output/checkM/10/checkm/markers_qa_summary.tsv.66</td></tr>\n",
       "\t<tr><td>S970_plate1_C02__maxbin2__Med_009_sub</td><td>o__Bacteroidales (UID2716)</td><td> 92</td><td>487</td><td>270</td><td>86.93</td><td>16.14</td><td>3.12</td><td>4357113</td><td>0</td><td>⋯</td><td>56</td><td>348</td><td>78</td><td>4</td><td>1</td><td>0</td><td>|ebio|abt3_projects|HUBIF_metagenomics|data|pipelines|llg|cophyverttrans|koreans|round1|llg_output|checkM|10|checkm|markers_qa_summary.tsv.67</td><td>markers_qa_summary.tsv.67</td><td>NA</td><td>/ebio/abt3_projects/HUBIF_metagenomics/data/pipelines/llg/cophyverttrans/koreans/round1/llg_output/checkM/10/checkm/markers_qa_summary.tsv.67</td></tr>\n",
       "</tbody>\n",
       "</table>\n"
      ],
      "text/latex": [
       "A tidytable: 677 × 33\n",
       "\\begin{tabular}{lllllllllllllllllllll}\n",
       " Bin.Id & Marker.lineage & X..genomes & X..markers & X..marker.sets & Completeness & Contamination & Strain.heterogeneity & Genome.size..bp. & X..ambiguous.bases & ⋯ & X0 & X1 & X2 & X3 & X4 & X5. & assembly.Id & assembler.Id & taxon.Id & File\\\\\n",
       " <chr> & <chr> & <int> & <int> & <int> & <dbl> & <dbl> & <dbl> & <int> & <int> & ⋯ & <int> & <int> & <int> & <int> & <int> & <int> & <chr> & <chr> & <lgl> & <chr>\\\\\n",
       "\\hline\n",
       "\t PositiveKorean1\\_MOC\\_D6306\\_plate1\\_D07\\_\\_maxbin2\\_\\_High\\_005 & f\\_\\_Enterobacteriaceae (UID5124) & 134 & 1173 & 336 & 97.61 & 0.16 & 50 & 4445040 & 0 & ⋯ &  30 & 1139 & 4 & 0 & 0 & 0 & \\textbar{}ebio\\textbar{}abt3\\_projects\\textbar{}HUBIF\\_metagenomics\\textbar{}data\\textbar{}pipelines\\textbar{}llg\\textbar{}cophyverttrans\\textbar{}koreans\\textbar{}round1\\textbar{}llg\\_output\\textbar{}checkM\\textbar{}1\\textbar{}checkm\\textbar{}markers\\_qa\\_summary.tsv.1 & markers\\_qa\\_summary.tsv.1 & NA & /ebio/abt3\\_projects/HUBIF\\_metagenomics/data/pipelines/llg/cophyverttrans/koreans/round1/llg\\_output/checkM/1/checkm/markers\\_qa\\_summary.tsv.1\\\\\n",
       "\t S1017\\_plate1\\_A06\\_\\_metabat2\\_\\_High\\_003                    & p\\_\\_Firmicutes (UID1022)         & 100 &  295 & 158 & 40.53 & 1.31 & 75 &  951375 & 0 & ⋯ & 155 &  136 & 4 & 0 & 0 & 0 & \\textbar{}ebio\\textbar{}abt3\\_projects\\textbar{}HUBIF\\_metagenomics\\textbar{}data\\textbar{}pipelines\\textbar{}llg\\textbar{}cophyverttrans\\textbar{}koreans\\textbar{}round1\\textbar{}llg\\_output\\textbar{}checkM\\textbar{}1\\textbar{}checkm\\textbar{}markers\\_qa\\_summary.tsv.2 & markers\\_qa\\_summary.tsv.2 & NA & /ebio/abt3\\_projects/HUBIF\\_metagenomics/data/pipelines/llg/cophyverttrans/koreans/round1/llg\\_output/checkM/1/checkm/markers\\_qa\\_summary.tsv.2\\\\\n",
       "\t ⋮ & ⋮ & ⋮ & ⋮ & ⋮ & ⋮ & ⋮ & ⋮ & ⋮ & ⋮ & ⋱ & ⋮ & ⋮ & ⋮ & ⋮ & ⋮ & ⋮ & ⋮ & ⋮ & ⋮ & ⋮\\\\\n",
       "\t S892\\_plate1\\_F09\\_\\_maxbin2\\_\\_High\\_005    & k\\_\\_Bacteria (UID2329)      & 174 & 149 &  89 & 89.89 &  3.37 & 0.00 & 1270996 & 0 & ⋯ & 10 & 136 &  3 & 0 & 0 & 0 & \\textbar{}ebio\\textbar{}abt3\\_projects\\textbar{}HUBIF\\_metagenomics\\textbar{}data\\textbar{}pipelines\\textbar{}llg\\textbar{}cophyverttrans\\textbar{}koreans\\textbar{}round1\\textbar{}llg\\_output\\textbar{}checkM\\textbar{}10\\textbar{}checkm\\textbar{}markers\\_qa\\_summary.tsv.66 & markers\\_qa\\_summary.tsv.66 & NA & /ebio/abt3\\_projects/HUBIF\\_metagenomics/data/pipelines/llg/cophyverttrans/koreans/round1/llg\\_output/checkM/10/checkm/markers\\_qa\\_summary.tsv.66\\\\\n",
       "\t S970\\_plate1\\_C02\\_\\_maxbin2\\_\\_Med\\_009\\_sub & o\\_\\_Bacteroidales (UID2716) &  92 & 487 & 270 & 86.93 & 16.14 & 3.12 & 4357113 & 0 & ⋯ & 56 & 348 & 78 & 4 & 1 & 0 & \\textbar{}ebio\\textbar{}abt3\\_projects\\textbar{}HUBIF\\_metagenomics\\textbar{}data\\textbar{}pipelines\\textbar{}llg\\textbar{}cophyverttrans\\textbar{}koreans\\textbar{}round1\\textbar{}llg\\_output\\textbar{}checkM\\textbar{}10\\textbar{}checkm\\textbar{}markers\\_qa\\_summary.tsv.67 & markers\\_qa\\_summary.tsv.67 & NA & /ebio/abt3\\_projects/HUBIF\\_metagenomics/data/pipelines/llg/cophyverttrans/koreans/round1/llg\\_output/checkM/10/checkm/markers\\_qa\\_summary.tsv.67\\\\\n",
       "\\end{tabular}\n"
      ],
      "text/markdown": [
       "\n",
       "A tidytable: 677 × 33\n",
       "\n",
       "| Bin.Id &lt;chr&gt; | Marker.lineage &lt;chr&gt; | X..genomes &lt;int&gt; | X..markers &lt;int&gt; | X..marker.sets &lt;int&gt; | Completeness &lt;dbl&gt; | Contamination &lt;dbl&gt; | Strain.heterogeneity &lt;dbl&gt; | Genome.size..bp. &lt;int&gt; | X..ambiguous.bases &lt;int&gt; | ⋯ ⋯ | X0 &lt;int&gt; | X1 &lt;int&gt; | X2 &lt;int&gt; | X3 &lt;int&gt; | X4 &lt;int&gt; | X5. &lt;int&gt; | assembly.Id &lt;chr&gt; | assembler.Id &lt;chr&gt; | taxon.Id &lt;lgl&gt; | File &lt;chr&gt; |\n",
       "|---|---|---|---|---|---|---|---|---|---|---|---|---|---|---|---|---|---|---|---|---|\n",
       "| PositiveKorean1_MOC_D6306_plate1_D07__maxbin2__High_005 | f__Enterobacteriaceae (UID5124) | 134 | 1173 | 336 | 97.61 | 0.16 | 50 | 4445040 | 0 | ⋯ |  30 | 1139 | 4 | 0 | 0 | 0 | |ebio|abt3_projects|HUBIF_metagenomics|data|pipelines|llg|cophyverttrans|koreans|round1|llg_output|checkM|1|checkm|markers_qa_summary.tsv.1 | markers_qa_summary.tsv.1 | NA | /ebio/abt3_projects/HUBIF_metagenomics/data/pipelines/llg/cophyverttrans/koreans/round1/llg_output/checkM/1/checkm/markers_qa_summary.tsv.1 |\n",
       "| S1017_plate1_A06__metabat2__High_003                    | p__Firmicutes (UID1022)         | 100 |  295 | 158 | 40.53 | 1.31 | 75 |  951375 | 0 | ⋯ | 155 |  136 | 4 | 0 | 0 | 0 | |ebio|abt3_projects|HUBIF_metagenomics|data|pipelines|llg|cophyverttrans|koreans|round1|llg_output|checkM|1|checkm|markers_qa_summary.tsv.2 | markers_qa_summary.tsv.2 | NA | /ebio/abt3_projects/HUBIF_metagenomics/data/pipelines/llg/cophyverttrans/koreans/round1/llg_output/checkM/1/checkm/markers_qa_summary.tsv.2 |\n",
       "| ⋮ | ⋮ | ⋮ | ⋮ | ⋮ | ⋮ | ⋮ | ⋮ | ⋮ | ⋮ | ⋱ | ⋮ | ⋮ | ⋮ | ⋮ | ⋮ | ⋮ | ⋮ | ⋮ | ⋮ | ⋮ |\n",
       "| S892_plate1_F09__maxbin2__High_005    | k__Bacteria (UID2329)      | 174 | 149 |  89 | 89.89 |  3.37 | 0.00 | 1270996 | 0 | ⋯ | 10 | 136 |  3 | 0 | 0 | 0 | |ebio|abt3_projects|HUBIF_metagenomics|data|pipelines|llg|cophyverttrans|koreans|round1|llg_output|checkM|10|checkm|markers_qa_summary.tsv.66 | markers_qa_summary.tsv.66 | NA | /ebio/abt3_projects/HUBIF_metagenomics/data/pipelines/llg/cophyverttrans/koreans/round1/llg_output/checkM/10/checkm/markers_qa_summary.tsv.66 |\n",
       "| S970_plate1_C02__maxbin2__Med_009_sub | o__Bacteroidales (UID2716) |  92 | 487 | 270 | 86.93 | 16.14 | 3.12 | 4357113 | 0 | ⋯ | 56 | 348 | 78 | 4 | 1 | 0 | |ebio|abt3_projects|HUBIF_metagenomics|data|pipelines|llg|cophyverttrans|koreans|round1|llg_output|checkM|10|checkm|markers_qa_summary.tsv.67 | markers_qa_summary.tsv.67 | NA | /ebio/abt3_projects/HUBIF_metagenomics/data/pipelines/llg/cophyverttrans/koreans/round1/llg_output/checkM/10/checkm/markers_qa_summary.tsv.67 |\n",
       "\n"
      ],
      "text/plain": [
       "    Bin.Id                                                 \n",
       "1   PositiveKorean1_MOC_D6306_plate1_D07__maxbin2__High_005\n",
       "2   S1017_plate1_A06__metabat2__High_003                   \n",
       "⋮   ⋮                                                      \n",
       "676 S892_plate1_F09__maxbin2__High_005                     \n",
       "677 S970_plate1_C02__maxbin2__Med_009_sub                  \n",
       "    Marker.lineage                  X..genomes X..markers X..marker.sets\n",
       "1   f__Enterobacteriaceae (UID5124) 134        1173       336           \n",
       "2   p__Firmicutes (UID1022)         100         295       158           \n",
       "⋮   ⋮                               ⋮          ⋮          ⋮             \n",
       "676 k__Bacteria (UID2329)           174        149         89           \n",
       "677 o__Bacteroidales (UID2716)       92        487        270           \n",
       "    Completeness Contamination Strain.heterogeneity Genome.size..bp.\n",
       "1   97.61        0.16          50                   4445040         \n",
       "2   40.53        1.31          75                    951375         \n",
       "⋮   ⋮            ⋮             ⋮                    ⋮               \n",
       "676 89.89         3.37         0.00                 1270996         \n",
       "677 86.93        16.14         3.12                 4357113         \n",
       "    X..ambiguous.bases ⋯ X0  X1   X2 X3 X4 X5.\n",
       "1   0                  ⋯  30 1139 4  0  0  0  \n",
       "2   0                  ⋯ 155  136 4  0  0  0  \n",
       "⋮   ⋮                  ⋱ ⋮   ⋮    ⋮  ⋮  ⋮  ⋮  \n",
       "676 0                  ⋯ 10  136   3 0  0  0  \n",
       "677 0                  ⋯ 56  348  78 4  1  0  \n",
       "    assembly.Id                                                                                                                                  \n",
       "1   |ebio|abt3_projects|HUBIF_metagenomics|data|pipelines|llg|cophyverttrans|koreans|round1|llg_output|checkM|1|checkm|markers_qa_summary.tsv.1  \n",
       "2   |ebio|abt3_projects|HUBIF_metagenomics|data|pipelines|llg|cophyverttrans|koreans|round1|llg_output|checkM|1|checkm|markers_qa_summary.tsv.2  \n",
       "⋮   ⋮                                                                                                                                            \n",
       "676 |ebio|abt3_projects|HUBIF_metagenomics|data|pipelines|llg|cophyverttrans|koreans|round1|llg_output|checkM|10|checkm|markers_qa_summary.tsv.66\n",
       "677 |ebio|abt3_projects|HUBIF_metagenomics|data|pipelines|llg|cophyverttrans|koreans|round1|llg_output|checkM|10|checkm|markers_qa_summary.tsv.67\n",
       "    assembler.Id              taxon.Id\n",
       "1   markers_qa_summary.tsv.1  NA      \n",
       "2   markers_qa_summary.tsv.2  NA      \n",
       "⋮   ⋮                         ⋮       \n",
       "676 markers_qa_summary.tsv.66 NA      \n",
       "677 markers_qa_summary.tsv.67 NA      \n",
       "    File                                                                                                                                         \n",
       "1   /ebio/abt3_projects/HUBIF_metagenomics/data/pipelines/llg/cophyverttrans/koreans/round1/llg_output/checkM/1/checkm/markers_qa_summary.tsv.1  \n",
       "2   /ebio/abt3_projects/HUBIF_metagenomics/data/pipelines/llg/cophyverttrans/koreans/round1/llg_output/checkM/1/checkm/markers_qa_summary.tsv.2  \n",
       "⋮   ⋮                                                                                                                                            \n",
       "676 /ebio/abt3_projects/HUBIF_metagenomics/data/pipelines/llg/cophyverttrans/koreans/round1/llg_output/checkM/10/checkm/markers_qa_summary.tsv.66\n",
       "677 /ebio/abt3_projects/HUBIF_metagenomics/data/pipelines/llg/cophyverttrans/koreans/round1/llg_output/checkM/10/checkm/markers_qa_summary.tsv.67"
      ]
     },
     "metadata": {},
     "output_type": "display_data"
    }
   ],
   "source": [
    "# checkM output\n",
    "F = file.path(work_dir, 'round1', 'llg_output', 'checkM', 'checkm_qa_summary.tsv')\n",
    "checkm = Fread(F) %>%\n",
    "    mutate.(Bin.Id = gsub('\\\\.', '_', Bin.Id))\n",
    "checkm$Bin.Id %>% unique_n('MAGs')\n",
    "checkm"
   ]
  },
  {
   "cell_type": "code",
   "execution_count": 7,
   "metadata": {
    "ExecuteTime": {
     "end_time": "2022-02-02T11:45:39.380864Z",
     "start_time": "2022-02-02T11:45:39.297Z"
    }
   },
   "outputs": [
    {
     "name": "stdout",
     "output_type": "stream",
     "text": [
      "No. of unique MAGs: 564 \n"
     ]
    },
    {
     "data": {
      "text/html": [
       "<table class=\"dataframe\">\n",
       "<caption>A tidytable: 564 × 2</caption>\n",
       "<thead>\n",
       "\t<tr><th scope=col>Name</th><th scope=col>Fasta</th></tr>\n",
       "\t<tr><th scope=col>&lt;chr&gt;</th><th scope=col>&lt;chr&gt;</th></tr>\n",
       "</thead>\n",
       "<tbody>\n",
       "\t<tr><td>S1967_plate1_H06__metabat2__High_001</td><td>/ebio/abt3_projects/HUBIF_metagenomics/data/pipelines/llg/cophyverttrans/koreans/round1/llg_output/drep/drep/dereplicated_genomes/S1967_plate1_H06__metabat2__High_001.fna</td></tr>\n",
       "\t<tr><td>S2966_plate1_A10__metabat2__Med_012 </td><td>/ebio/abt3_projects/HUBIF_metagenomics/data/pipelines/llg/cophyverttrans/koreans/round1/llg_output/drep/drep/dereplicated_genomes/S2966_plate1_A10__metabat2__Med_012.fna </td></tr>\n",
       "\t<tr><td>⋮</td><td>⋮</td></tr>\n",
       "\t<tr><td>S2396_plate1_C09__metabat2__MedNoCov_016_sub</td><td>/ebio/abt3_projects/HUBIF_metagenomics/data/pipelines/llg/cophyverttrans/koreans/round1/llg_output/drep/drep/dereplicated_genomes/S2396_plate1_C09__metabat2__MedNoCov_016_sub.fna</td></tr>\n",
       "\t<tr><td>S3983_plate1_E01__metabat2__High_014        </td><td>/ebio/abt3_projects/HUBIF_metagenomics/data/pipelines/llg/cophyverttrans/koreans/round1/llg_output/drep/drep/dereplicated_genomes/S3983_plate1_E01__metabat2__High_014.fna        </td></tr>\n",
       "</tbody>\n",
       "</table>\n"
      ],
      "text/latex": [
       "A tidytable: 564 × 2\n",
       "\\begin{tabular}{ll}\n",
       " Name & Fasta\\\\\n",
       " <chr> & <chr>\\\\\n",
       "\\hline\n",
       "\t S1967\\_plate1\\_H06\\_\\_metabat2\\_\\_High\\_001 & /ebio/abt3\\_projects/HUBIF\\_metagenomics/data/pipelines/llg/cophyverttrans/koreans/round1/llg\\_output/drep/drep/dereplicated\\_genomes/S1967\\_plate1\\_H06\\_\\_metabat2\\_\\_High\\_001.fna\\\\\n",
       "\t S2966\\_plate1\\_A10\\_\\_metabat2\\_\\_Med\\_012  & /ebio/abt3\\_projects/HUBIF\\_metagenomics/data/pipelines/llg/cophyverttrans/koreans/round1/llg\\_output/drep/drep/dereplicated\\_genomes/S2966\\_plate1\\_A10\\_\\_metabat2\\_\\_Med\\_012.fna \\\\\n",
       "\t ⋮ & ⋮\\\\\n",
       "\t S2396\\_plate1\\_C09\\_\\_metabat2\\_\\_MedNoCov\\_016\\_sub & /ebio/abt3\\_projects/HUBIF\\_metagenomics/data/pipelines/llg/cophyverttrans/koreans/round1/llg\\_output/drep/drep/dereplicated\\_genomes/S2396\\_plate1\\_C09\\_\\_metabat2\\_\\_MedNoCov\\_016\\_sub.fna\\\\\n",
       "\t S3983\\_plate1\\_E01\\_\\_metabat2\\_\\_High\\_014         & /ebio/abt3\\_projects/HUBIF\\_metagenomics/data/pipelines/llg/cophyverttrans/koreans/round1/llg\\_output/drep/drep/dereplicated\\_genomes/S3983\\_plate1\\_E01\\_\\_metabat2\\_\\_High\\_014.fna        \\\\\n",
       "\\end{tabular}\n"
      ],
      "text/markdown": [
       "\n",
       "A tidytable: 564 × 2\n",
       "\n",
       "| Name &lt;chr&gt; | Fasta &lt;chr&gt; |\n",
       "|---|---|\n",
       "| S1967_plate1_H06__metabat2__High_001 | /ebio/abt3_projects/HUBIF_metagenomics/data/pipelines/llg/cophyverttrans/koreans/round1/llg_output/drep/drep/dereplicated_genomes/S1967_plate1_H06__metabat2__High_001.fna |\n",
       "| S2966_plate1_A10__metabat2__Med_012  | /ebio/abt3_projects/HUBIF_metagenomics/data/pipelines/llg/cophyverttrans/koreans/round1/llg_output/drep/drep/dereplicated_genomes/S2966_plate1_A10__metabat2__Med_012.fna  |\n",
       "| ⋮ | ⋮ |\n",
       "| S2396_plate1_C09__metabat2__MedNoCov_016_sub | /ebio/abt3_projects/HUBIF_metagenomics/data/pipelines/llg/cophyverttrans/koreans/round1/llg_output/drep/drep/dereplicated_genomes/S2396_plate1_C09__metabat2__MedNoCov_016_sub.fna |\n",
       "| S3983_plate1_E01__metabat2__High_014         | /ebio/abt3_projects/HUBIF_metagenomics/data/pipelines/llg/cophyverttrans/koreans/round1/llg_output/drep/drep/dereplicated_genomes/S3983_plate1_E01__metabat2__High_014.fna         |\n",
       "\n"
      ],
      "text/plain": [
       "    Name                                        \n",
       "1   S1967_plate1_H06__metabat2__High_001        \n",
       "2   S2966_plate1_A10__metabat2__Med_012         \n",
       "⋮   ⋮                                           \n",
       "563 S2396_plate1_C09__metabat2__MedNoCov_016_sub\n",
       "564 S3983_plate1_E01__metabat2__High_014        \n",
       "    Fasta                                                                                                                                                                             \n",
       "1   /ebio/abt3_projects/HUBIF_metagenomics/data/pipelines/llg/cophyverttrans/koreans/round1/llg_output/drep/drep/dereplicated_genomes/S1967_plate1_H06__metabat2__High_001.fna        \n",
       "2   /ebio/abt3_projects/HUBIF_metagenomics/data/pipelines/llg/cophyverttrans/koreans/round1/llg_output/drep/drep/dereplicated_genomes/S2966_plate1_A10__metabat2__Med_012.fna         \n",
       "⋮   ⋮                                                                                                                                                                                 \n",
       "563 /ebio/abt3_projects/HUBIF_metagenomics/data/pipelines/llg/cophyverttrans/koreans/round1/llg_output/drep/drep/dereplicated_genomes/S2396_plate1_C09__metabat2__MedNoCov_016_sub.fna\n",
       "564 /ebio/abt3_projects/HUBIF_metagenomics/data/pipelines/llg/cophyverttrans/koreans/round1/llg_output/drep/drep/dereplicated_genomes/S3983_plate1_E01__metabat2__High_014.fna        "
      ]
     },
     "metadata": {},
     "output_type": "display_data"
    }
   ],
   "source": [
    "# dRep output\n",
    "F = file.path(work_dir, 'round1', 'llg_output', 'drep', 'dereplicated_genomes.tsv')\n",
    "drep = Fread(F) %>%\n",
    "    mutate.(Name = gsub('\\\\.', '_', Name))\n",
    "drep$Name %>% unique_n('MAGs')\n",
    "drep"
   ]
  },
  {
   "cell_type": "code",
   "execution_count": 9,
   "metadata": {
    "ExecuteTime": {
     "end_time": "2022-02-02T11:46:11.323221Z",
     "start_time": "2022-02-02T11:46:11.100Z"
    }
   },
   "outputs": [
    {
     "data": {
      "text/html": [
       "<table class=\"dataframe\">\n",
       "<caption>A tidytable: 564 × 8</caption>\n",
       "<thead>\n",
       "\t<tr><th scope=col>user_genome</th><th scope=col>Domain</th><th scope=col>Phylum</th><th scope=col>Class</th><th scope=col>Order</th><th scope=col>Family</th><th scope=col>Genus</th><th scope=col>Species</th></tr>\n",
       "\t<tr><th scope=col>&lt;chr&gt;</th><th scope=col>&lt;chr&gt;</th><th scope=col>&lt;chr&gt;</th><th scope=col>&lt;chr&gt;</th><th scope=col>&lt;chr&gt;</th><th scope=col>&lt;chr&gt;</th><th scope=col>&lt;chr&gt;</th><th scope=col>&lt;chr&gt;</th></tr>\n",
       "</thead>\n",
       "<tbody>\n",
       "\t<tr><td>S1017_plate1_A06__metabat2__Med_011     </td><td>d__Bacteria</td><td>p__Firmicutes_A</td><td>c__Clostridia</td><td>o__Lachnospirales</td><td>f__Lachnospiraceae</td><td>g__Coprococcus</td><td>s__Coprococcus eutactus_A</td></tr>\n",
       "\t<tr><td>S1031_plate1_E09__metabat2__High_014_sub</td><td>d__Bacteria</td><td>p__Firmicutes_A</td><td>c__Clostridia</td><td>o__Lachnospirales</td><td>f__Lachnospiraceae</td><td>g__Lachnospira</td><td>s__Lachnospira eligens_B </td></tr>\n",
       "\t<tr><td>⋮</td><td>⋮</td><td>⋮</td><td>⋮</td><td>⋮</td><td>⋮</td><td>⋮</td><td>⋮</td></tr>\n",
       "\t<tr><td>S3357_plate1_E04__metabat2__Med_001        </td><td>d__Archaea</td><td>p__Methanobacteriota</td><td>c__Methanobacteria</td><td>o__Methanobacteriales</td><td>f__Methanobacteriaceae</td><td>g__Methanobrevibacter_A</td><td>s__Methanobrevibacter_A smithii</td></tr>\n",
       "\t<tr><td>S892_plate1_F09__metabat2__LowNoCov_010_sub</td><td>d__Archaea</td><td>p__Methanobacteriota</td><td>c__Methanobacteria</td><td>o__Methanobacteriales</td><td>f__Methanobacteriaceae</td><td>g__Methanobrevibacter_A</td><td>s__Methanobrevibacter_A smithii</td></tr>\n",
       "</tbody>\n",
       "</table>\n"
      ],
      "text/latex": [
       "A tidytable: 564 × 8\n",
       "\\begin{tabular}{llllllll}\n",
       " user\\_genome & Domain & Phylum & Class & Order & Family & Genus & Species\\\\\n",
       " <chr> & <chr> & <chr> & <chr> & <chr> & <chr> & <chr> & <chr>\\\\\n",
       "\\hline\n",
       "\t S1017\\_plate1\\_A06\\_\\_metabat2\\_\\_Med\\_011      & d\\_\\_Bacteria & p\\_\\_Firmicutes\\_A & c\\_\\_Clostridia & o\\_\\_Lachnospirales & f\\_\\_Lachnospiraceae & g\\_\\_Coprococcus & s\\_\\_Coprococcus eutactus\\_A\\\\\n",
       "\t S1031\\_plate1\\_E09\\_\\_metabat2\\_\\_High\\_014\\_sub & d\\_\\_Bacteria & p\\_\\_Firmicutes\\_A & c\\_\\_Clostridia & o\\_\\_Lachnospirales & f\\_\\_Lachnospiraceae & g\\_\\_Lachnospira & s\\_\\_Lachnospira eligens\\_B \\\\\n",
       "\t ⋮ & ⋮ & ⋮ & ⋮ & ⋮ & ⋮ & ⋮ & ⋮\\\\\n",
       "\t S3357\\_plate1\\_E04\\_\\_metabat2\\_\\_Med\\_001         & d\\_\\_Archaea & p\\_\\_Methanobacteriota & c\\_\\_Methanobacteria & o\\_\\_Methanobacteriales & f\\_\\_Methanobacteriaceae & g\\_\\_Methanobrevibacter\\_A & s\\_\\_Methanobrevibacter\\_A smithii\\\\\n",
       "\t S892\\_plate1\\_F09\\_\\_metabat2\\_\\_LowNoCov\\_010\\_sub & d\\_\\_Archaea & p\\_\\_Methanobacteriota & c\\_\\_Methanobacteria & o\\_\\_Methanobacteriales & f\\_\\_Methanobacteriaceae & g\\_\\_Methanobrevibacter\\_A & s\\_\\_Methanobrevibacter\\_A smithii\\\\\n",
       "\\end{tabular}\n"
      ],
      "text/markdown": [
       "\n",
       "A tidytable: 564 × 8\n",
       "\n",
       "| user_genome &lt;chr&gt; | Domain &lt;chr&gt; | Phylum &lt;chr&gt; | Class &lt;chr&gt; | Order &lt;chr&gt; | Family &lt;chr&gt; | Genus &lt;chr&gt; | Species &lt;chr&gt; |\n",
       "|---|---|---|---|---|---|---|---|\n",
       "| S1017_plate1_A06__metabat2__Med_011      | d__Bacteria | p__Firmicutes_A | c__Clostridia | o__Lachnospirales | f__Lachnospiraceae | g__Coprococcus | s__Coprococcus eutactus_A |\n",
       "| S1031_plate1_E09__metabat2__High_014_sub | d__Bacteria | p__Firmicutes_A | c__Clostridia | o__Lachnospirales | f__Lachnospiraceae | g__Lachnospira | s__Lachnospira eligens_B  |\n",
       "| ⋮ | ⋮ | ⋮ | ⋮ | ⋮ | ⋮ | ⋮ | ⋮ |\n",
       "| S3357_plate1_E04__metabat2__Med_001         | d__Archaea | p__Methanobacteriota | c__Methanobacteria | o__Methanobacteriales | f__Methanobacteriaceae | g__Methanobrevibacter_A | s__Methanobrevibacter_A smithii |\n",
       "| S892_plate1_F09__metabat2__LowNoCov_010_sub | d__Archaea | p__Methanobacteriota | c__Methanobacteria | o__Methanobacteriales | f__Methanobacteriaceae | g__Methanobrevibacter_A | s__Methanobrevibacter_A smithii |\n",
       "\n"
      ],
      "text/plain": [
       "    user_genome                                 Domain     \n",
       "1   S1017_plate1_A06__metabat2__Med_011         d__Bacteria\n",
       "2   S1031_plate1_E09__metabat2__High_014_sub    d__Bacteria\n",
       "⋮   ⋮                                           ⋮          \n",
       "563 S3357_plate1_E04__metabat2__Med_001         d__Archaea \n",
       "564 S892_plate1_F09__metabat2__LowNoCov_010_sub d__Archaea \n",
       "    Phylum               Class              Order                \n",
       "1   p__Firmicutes_A      c__Clostridia      o__Lachnospirales    \n",
       "2   p__Firmicutes_A      c__Clostridia      o__Lachnospirales    \n",
       "⋮   ⋮                    ⋮                  ⋮                    \n",
       "563 p__Methanobacteriota c__Methanobacteria o__Methanobacteriales\n",
       "564 p__Methanobacteriota c__Methanobacteria o__Methanobacteriales\n",
       "    Family                 Genus                  \n",
       "1   f__Lachnospiraceae     g__Coprococcus         \n",
       "2   f__Lachnospiraceae     g__Lachnospira         \n",
       "⋮   ⋮                      ⋮                      \n",
       "563 f__Methanobacteriaceae g__Methanobrevibacter_A\n",
       "564 f__Methanobacteriaceae g__Methanobrevibacter_A\n",
       "    Species                        \n",
       "1   s__Coprococcus eutactus_A      \n",
       "2   s__Lachnospira eligens_B       \n",
       "⋮   ⋮                              \n",
       "563 s__Methanobrevibacter_A smithii\n",
       "564 s__Methanobrevibacter_A smithii"
      ]
     },
     "metadata": {},
     "output_type": "display_data"
    }
   ],
   "source": [
    "# GTDB-Tk output\n",
    "F = file.path(work_dir, 'round2', 'llg_output', 'gtdbtk', 'gtdbtk_summary.tsv') \n",
    "tax = Fread(F) %>%\n",
    "    mutate.(user_genome = gsub('\\\\.', '_', user_genome)) %>%\n",
    "    select.(user_genome, classification) %>%\n",
    "    separate.(classification, taxonomy_levels(), sep=';')\n",
    "tax"
   ]
  },
  {
   "cell_type": "code",
   "execution_count": 10,
   "metadata": {
    "ExecuteTime": {
     "end_time": "2022-02-02T11:46:23.234570Z",
     "start_time": "2022-02-02T11:46:23.187Z"
    }
   },
   "outputs": [
    {
     "name": "stdout",
     "output_type": "stream",
     "text": [
      "intersect(x,y): 564 \n",
      "setdiff(x,y): 0 \n",
      "setdiff(y,x): 113 \n",
      "union(x,y): 677 \n",
      "---\n",
      "intersect(x,y): 564 \n",
      "setdiff(x,y): 0 \n",
      "setdiff(y,x): 0 \n",
      "union(x,y): 564 \n"
     ]
    }
   ],
   "source": [
    "# merging\n",
    "overlap(drep$Name, checkm$Bin.Id)\n",
    "cat('---\\n')\n",
    "overlap(drep$Name, tax$user_genome)"
   ]
  },
  {
   "cell_type": "code",
   "execution_count": 11,
   "metadata": {
    "ExecuteTime": {
     "end_time": "2022-02-02T11:46:29.893398Z",
     "start_time": "2022-02-02T11:46:29.817Z"
    }
   },
   "outputs": [
    {
     "data": {
      "text/html": [
       "<table class=\"dataframe\">\n",
       "<caption>A tidytable: 564 × 41</caption>\n",
       "<thead>\n",
       "\t<tr><th scope=col>Name</th><th scope=col>Fasta</th><th scope=col>Marker.lineage</th><th scope=col>X..genomes</th><th scope=col>X..markers</th><th scope=col>X..marker.sets</th><th scope=col>Completeness</th><th scope=col>Contamination</th><th scope=col>Strain.heterogeneity</th><th scope=col>Genome.size..bp.</th><th scope=col>⋯</th><th scope=col>assembler.Id</th><th scope=col>taxon.Id</th><th scope=col>File</th><th scope=col>Domain</th><th scope=col>Phylum</th><th scope=col>Class</th><th scope=col>Order</th><th scope=col>Family</th><th scope=col>Genus</th><th scope=col>Species</th></tr>\n",
       "\t<tr><th scope=col>&lt;chr&gt;</th><th scope=col>&lt;chr&gt;</th><th scope=col>&lt;chr&gt;</th><th scope=col>&lt;int&gt;</th><th scope=col>&lt;int&gt;</th><th scope=col>&lt;int&gt;</th><th scope=col>&lt;dbl&gt;</th><th scope=col>&lt;dbl&gt;</th><th scope=col>&lt;dbl&gt;</th><th scope=col>&lt;int&gt;</th><th scope=col>⋯</th><th scope=col>&lt;chr&gt;</th><th scope=col>&lt;lgl&gt;</th><th scope=col>&lt;chr&gt;</th><th scope=col>&lt;chr&gt;</th><th scope=col>&lt;chr&gt;</th><th scope=col>&lt;chr&gt;</th><th scope=col>&lt;chr&gt;</th><th scope=col>&lt;chr&gt;</th><th scope=col>&lt;chr&gt;</th><th scope=col>&lt;chr&gt;</th></tr>\n",
       "</thead>\n",
       "<tbody>\n",
       "\t<tr><td>S1017_plate1_A06__metabat2__Med_011     </td><td>/ebio/abt3_projects/HUBIF_metagenomics/data/pipelines/llg/cophyverttrans/koreans/round1/llg_output/drep/drep/dereplicated_genomes/S1017_plate1_A06__metabat2__Med_011.fna     </td><td>o__Clostridiales (UID1212)</td><td>172</td><td>263</td><td>149</td><td>92.44</td><td>0.89</td><td>0</td><td>2577215</td><td>⋯</td><td>markers_qa_summary.tsv.1</td><td>NA</td><td>/ebio/abt3_projects/HUBIF_metagenomics/data/pipelines/llg/cophyverttrans/koreans/round1/llg_output/checkM/7/checkm/markers_qa_summary.tsv.1</td><td>d__Bacteria</td><td>p__Firmicutes_A</td><td>c__Clostridia</td><td>o__Lachnospirales</td><td>f__Lachnospiraceae</td><td>g__Coprococcus</td><td>s__Coprococcus eutactus_A</td></tr>\n",
       "\t<tr><td>S1031_plate1_E09__metabat2__High_014_sub</td><td>/ebio/abt3_projects/HUBIF_metagenomics/data/pipelines/llg/cophyverttrans/koreans/round1/llg_output/drep/drep/dereplicated_genomes/S1031_plate1_E09__metabat2__High_014_sub.fna</td><td>o__Clostridiales (UID1212)</td><td>172</td><td>263</td><td>149</td><td>98.24</td><td>0.00</td><td>0</td><td>2734858</td><td>⋯</td><td>markers_qa_summary.tsv.1</td><td>NA</td><td>/ebio/abt3_projects/HUBIF_metagenomics/data/pipelines/llg/cophyverttrans/koreans/round1/llg_output/checkM/6/checkm/markers_qa_summary.tsv.1</td><td>d__Bacteria</td><td>p__Firmicutes_A</td><td>c__Clostridia</td><td>o__Lachnospirales</td><td>f__Lachnospiraceae</td><td>g__Lachnospira</td><td>s__Lachnospira eligens_B </td></tr>\n",
       "\t<tr><td>⋮</td><td>⋮</td><td>⋮</td><td>⋮</td><td>⋮</td><td>⋮</td><td>⋮</td><td>⋮</td><td>⋮</td><td>⋮</td><td>⋱</td><td>⋮</td><td>⋮</td><td>⋮</td><td>⋮</td><td>⋮</td><td>⋮</td><td>⋮</td><td>⋮</td><td>⋮</td><td>⋮</td></tr>\n",
       "\t<tr><td>S3357_plate1_E04__metabat2__Med_001        </td><td>/ebio/abt3_projects/HUBIF_metagenomics/data/pipelines/llg/cophyverttrans/koreans/round1/llg_output/drep/drep/dereplicated_genomes/S3357_plate1_E04__metabat2__Med_001.fna        </td><td>p__Euryarchaeota (UID3)</td><td>148</td><td>188</td><td>125</td><td>67.01</td><td>1.6</td><td>0</td><td>1102586</td><td>⋯</td><td>markers_qa_summary.tsv.46</td><td>NA</td><td>/ebio/abt3_projects/HUBIF_metagenomics/data/pipelines/llg/cophyverttrans/koreans/round1/llg_output/checkM/1/checkm/markers_qa_summary.tsv.46</td><td>d__Archaea</td><td>p__Methanobacteriota</td><td>c__Methanobacteria</td><td>o__Methanobacteriales</td><td>f__Methanobacteriaceae</td><td>g__Methanobrevibacter_A</td><td>s__Methanobrevibacter_A smithii</td></tr>\n",
       "\t<tr><td>S892_plate1_F09__metabat2__LowNoCov_010_sub</td><td>/ebio/abt3_projects/HUBIF_metagenomics/data/pipelines/llg/cophyverttrans/koreans/round1/llg_output/drep/drep/dereplicated_genomes/S892_plate1_F09__metabat2__LowNoCov_010_sub.fna</td><td>p__Euryarchaeota (UID3)</td><td>148</td><td>188</td><td>125</td><td>94.00</td><td>0.4</td><td>0</td><td>1651771</td><td>⋯</td><td>markers_qa_summary.tsv.67</td><td>NA</td><td>/ebio/abt3_projects/HUBIF_metagenomics/data/pipelines/llg/cophyverttrans/koreans/round1/llg_output/checkM/4/checkm/markers_qa_summary.tsv.67</td><td>d__Archaea</td><td>p__Methanobacteriota</td><td>c__Methanobacteria</td><td>o__Methanobacteriales</td><td>f__Methanobacteriaceae</td><td>g__Methanobrevibacter_A</td><td>s__Methanobrevibacter_A smithii</td></tr>\n",
       "</tbody>\n",
       "</table>\n"
      ],
      "text/latex": [
       "A tidytable: 564 × 41\n",
       "\\begin{tabular}{lllllllllllllllllllll}\n",
       " Name & Fasta & Marker.lineage & X..genomes & X..markers & X..marker.sets & Completeness & Contamination & Strain.heterogeneity & Genome.size..bp. & ⋯ & assembler.Id & taxon.Id & File & Domain & Phylum & Class & Order & Family & Genus & Species\\\\\n",
       " <chr> & <chr> & <chr> & <int> & <int> & <int> & <dbl> & <dbl> & <dbl> & <int> & ⋯ & <chr> & <lgl> & <chr> & <chr> & <chr> & <chr> & <chr> & <chr> & <chr> & <chr>\\\\\n",
       "\\hline\n",
       "\t S1017\\_plate1\\_A06\\_\\_metabat2\\_\\_Med\\_011      & /ebio/abt3\\_projects/HUBIF\\_metagenomics/data/pipelines/llg/cophyverttrans/koreans/round1/llg\\_output/drep/drep/dereplicated\\_genomes/S1017\\_plate1\\_A06\\_\\_metabat2\\_\\_Med\\_011.fna      & o\\_\\_Clostridiales (UID1212) & 172 & 263 & 149 & 92.44 & 0.89 & 0 & 2577215 & ⋯ & markers\\_qa\\_summary.tsv.1 & NA & /ebio/abt3\\_projects/HUBIF\\_metagenomics/data/pipelines/llg/cophyverttrans/koreans/round1/llg\\_output/checkM/7/checkm/markers\\_qa\\_summary.tsv.1 & d\\_\\_Bacteria & p\\_\\_Firmicutes\\_A & c\\_\\_Clostridia & o\\_\\_Lachnospirales & f\\_\\_Lachnospiraceae & g\\_\\_Coprococcus & s\\_\\_Coprococcus eutactus\\_A\\\\\n",
       "\t S1031\\_plate1\\_E09\\_\\_metabat2\\_\\_High\\_014\\_sub & /ebio/abt3\\_projects/HUBIF\\_metagenomics/data/pipelines/llg/cophyverttrans/koreans/round1/llg\\_output/drep/drep/dereplicated\\_genomes/S1031\\_plate1\\_E09\\_\\_metabat2\\_\\_High\\_014\\_sub.fna & o\\_\\_Clostridiales (UID1212) & 172 & 263 & 149 & 98.24 & 0.00 & 0 & 2734858 & ⋯ & markers\\_qa\\_summary.tsv.1 & NA & /ebio/abt3\\_projects/HUBIF\\_metagenomics/data/pipelines/llg/cophyverttrans/koreans/round1/llg\\_output/checkM/6/checkm/markers\\_qa\\_summary.tsv.1 & d\\_\\_Bacteria & p\\_\\_Firmicutes\\_A & c\\_\\_Clostridia & o\\_\\_Lachnospirales & f\\_\\_Lachnospiraceae & g\\_\\_Lachnospira & s\\_\\_Lachnospira eligens\\_B \\\\\n",
       "\t ⋮ & ⋮ & ⋮ & ⋮ & ⋮ & ⋮ & ⋮ & ⋮ & ⋮ & ⋮ & ⋱ & ⋮ & ⋮ & ⋮ & ⋮ & ⋮ & ⋮ & ⋮ & ⋮ & ⋮ & ⋮\\\\\n",
       "\t S3357\\_plate1\\_E04\\_\\_metabat2\\_\\_Med\\_001         & /ebio/abt3\\_projects/HUBIF\\_metagenomics/data/pipelines/llg/cophyverttrans/koreans/round1/llg\\_output/drep/drep/dereplicated\\_genomes/S3357\\_plate1\\_E04\\_\\_metabat2\\_\\_Med\\_001.fna         & p\\_\\_Euryarchaeota (UID3) & 148 & 188 & 125 & 67.01 & 1.6 & 0 & 1102586 & ⋯ & markers\\_qa\\_summary.tsv.46 & NA & /ebio/abt3\\_projects/HUBIF\\_metagenomics/data/pipelines/llg/cophyverttrans/koreans/round1/llg\\_output/checkM/1/checkm/markers\\_qa\\_summary.tsv.46 & d\\_\\_Archaea & p\\_\\_Methanobacteriota & c\\_\\_Methanobacteria & o\\_\\_Methanobacteriales & f\\_\\_Methanobacteriaceae & g\\_\\_Methanobrevibacter\\_A & s\\_\\_Methanobrevibacter\\_A smithii\\\\\n",
       "\t S892\\_plate1\\_F09\\_\\_metabat2\\_\\_LowNoCov\\_010\\_sub & /ebio/abt3\\_projects/HUBIF\\_metagenomics/data/pipelines/llg/cophyverttrans/koreans/round1/llg\\_output/drep/drep/dereplicated\\_genomes/S892\\_plate1\\_F09\\_\\_metabat2\\_\\_LowNoCov\\_010\\_sub.fna & p\\_\\_Euryarchaeota (UID3) & 148 & 188 & 125 & 94.00 & 0.4 & 0 & 1651771 & ⋯ & markers\\_qa\\_summary.tsv.67 & NA & /ebio/abt3\\_projects/HUBIF\\_metagenomics/data/pipelines/llg/cophyverttrans/koreans/round1/llg\\_output/checkM/4/checkm/markers\\_qa\\_summary.tsv.67 & d\\_\\_Archaea & p\\_\\_Methanobacteriota & c\\_\\_Methanobacteria & o\\_\\_Methanobacteriales & f\\_\\_Methanobacteriaceae & g\\_\\_Methanobrevibacter\\_A & s\\_\\_Methanobrevibacter\\_A smithii\\\\\n",
       "\\end{tabular}\n"
      ],
      "text/markdown": [
       "\n",
       "A tidytable: 564 × 41\n",
       "\n",
       "| Name &lt;chr&gt; | Fasta &lt;chr&gt; | Marker.lineage &lt;chr&gt; | X..genomes &lt;int&gt; | X..markers &lt;int&gt; | X..marker.sets &lt;int&gt; | Completeness &lt;dbl&gt; | Contamination &lt;dbl&gt; | Strain.heterogeneity &lt;dbl&gt; | Genome.size..bp. &lt;int&gt; | ⋯ ⋯ | assembler.Id &lt;chr&gt; | taxon.Id &lt;lgl&gt; | File &lt;chr&gt; | Domain &lt;chr&gt; | Phylum &lt;chr&gt; | Class &lt;chr&gt; | Order &lt;chr&gt; | Family &lt;chr&gt; | Genus &lt;chr&gt; | Species &lt;chr&gt; |\n",
       "|---|---|---|---|---|---|---|---|---|---|---|---|---|---|---|---|---|---|---|---|---|\n",
       "| S1017_plate1_A06__metabat2__Med_011      | /ebio/abt3_projects/HUBIF_metagenomics/data/pipelines/llg/cophyverttrans/koreans/round1/llg_output/drep/drep/dereplicated_genomes/S1017_plate1_A06__metabat2__Med_011.fna      | o__Clostridiales (UID1212) | 172 | 263 | 149 | 92.44 | 0.89 | 0 | 2577215 | ⋯ | markers_qa_summary.tsv.1 | NA | /ebio/abt3_projects/HUBIF_metagenomics/data/pipelines/llg/cophyverttrans/koreans/round1/llg_output/checkM/7/checkm/markers_qa_summary.tsv.1 | d__Bacteria | p__Firmicutes_A | c__Clostridia | o__Lachnospirales | f__Lachnospiraceae | g__Coprococcus | s__Coprococcus eutactus_A |\n",
       "| S1031_plate1_E09__metabat2__High_014_sub | /ebio/abt3_projects/HUBIF_metagenomics/data/pipelines/llg/cophyverttrans/koreans/round1/llg_output/drep/drep/dereplicated_genomes/S1031_plate1_E09__metabat2__High_014_sub.fna | o__Clostridiales (UID1212) | 172 | 263 | 149 | 98.24 | 0.00 | 0 | 2734858 | ⋯ | markers_qa_summary.tsv.1 | NA | /ebio/abt3_projects/HUBIF_metagenomics/data/pipelines/llg/cophyverttrans/koreans/round1/llg_output/checkM/6/checkm/markers_qa_summary.tsv.1 | d__Bacteria | p__Firmicutes_A | c__Clostridia | o__Lachnospirales | f__Lachnospiraceae | g__Lachnospira | s__Lachnospira eligens_B  |\n",
       "| ⋮ | ⋮ | ⋮ | ⋮ | ⋮ | ⋮ | ⋮ | ⋮ | ⋮ | ⋮ | ⋱ | ⋮ | ⋮ | ⋮ | ⋮ | ⋮ | ⋮ | ⋮ | ⋮ | ⋮ | ⋮ |\n",
       "| S3357_plate1_E04__metabat2__Med_001         | /ebio/abt3_projects/HUBIF_metagenomics/data/pipelines/llg/cophyverttrans/koreans/round1/llg_output/drep/drep/dereplicated_genomes/S3357_plate1_E04__metabat2__Med_001.fna         | p__Euryarchaeota (UID3) | 148 | 188 | 125 | 67.01 | 1.6 | 0 | 1102586 | ⋯ | markers_qa_summary.tsv.46 | NA | /ebio/abt3_projects/HUBIF_metagenomics/data/pipelines/llg/cophyverttrans/koreans/round1/llg_output/checkM/1/checkm/markers_qa_summary.tsv.46 | d__Archaea | p__Methanobacteriota | c__Methanobacteria | o__Methanobacteriales | f__Methanobacteriaceae | g__Methanobrevibacter_A | s__Methanobrevibacter_A smithii |\n",
       "| S892_plate1_F09__metabat2__LowNoCov_010_sub | /ebio/abt3_projects/HUBIF_metagenomics/data/pipelines/llg/cophyverttrans/koreans/round1/llg_output/drep/drep/dereplicated_genomes/S892_plate1_F09__metabat2__LowNoCov_010_sub.fna | p__Euryarchaeota (UID3) | 148 | 188 | 125 | 94.00 | 0.4 | 0 | 1651771 | ⋯ | markers_qa_summary.tsv.67 | NA | /ebio/abt3_projects/HUBIF_metagenomics/data/pipelines/llg/cophyverttrans/koreans/round1/llg_output/checkM/4/checkm/markers_qa_summary.tsv.67 | d__Archaea | p__Methanobacteriota | c__Methanobacteria | o__Methanobacteriales | f__Methanobacteriaceae | g__Methanobrevibacter_A | s__Methanobrevibacter_A smithii |\n",
       "\n"
      ],
      "text/plain": [
       "    Name                                       \n",
       "1   S1017_plate1_A06__metabat2__Med_011        \n",
       "2   S1031_plate1_E09__metabat2__High_014_sub   \n",
       "⋮   ⋮                                          \n",
       "563 S3357_plate1_E04__metabat2__Med_001        \n",
       "564 S892_plate1_F09__metabat2__LowNoCov_010_sub\n",
       "    Fasta                                                                                                                                                                            \n",
       "1   /ebio/abt3_projects/HUBIF_metagenomics/data/pipelines/llg/cophyverttrans/koreans/round1/llg_output/drep/drep/dereplicated_genomes/S1017_plate1_A06__metabat2__Med_011.fna        \n",
       "2   /ebio/abt3_projects/HUBIF_metagenomics/data/pipelines/llg/cophyverttrans/koreans/round1/llg_output/drep/drep/dereplicated_genomes/S1031_plate1_E09__metabat2__High_014_sub.fna   \n",
       "⋮   ⋮                                                                                                                                                                                \n",
       "563 /ebio/abt3_projects/HUBIF_metagenomics/data/pipelines/llg/cophyverttrans/koreans/round1/llg_output/drep/drep/dereplicated_genomes/S3357_plate1_E04__metabat2__Med_001.fna        \n",
       "564 /ebio/abt3_projects/HUBIF_metagenomics/data/pipelines/llg/cophyverttrans/koreans/round1/llg_output/drep/drep/dereplicated_genomes/S892_plate1_F09__metabat2__LowNoCov_010_sub.fna\n",
       "    Marker.lineage             X..genomes X..markers X..marker.sets\n",
       "1   o__Clostridiales (UID1212) 172        263        149           \n",
       "2   o__Clostridiales (UID1212) 172        263        149           \n",
       "⋮   ⋮                          ⋮          ⋮          ⋮             \n",
       "563 p__Euryarchaeota (UID3)    148        188        125           \n",
       "564 p__Euryarchaeota (UID3)    148        188        125           \n",
       "    Completeness Contamination Strain.heterogeneity Genome.size..bp. ⋯\n",
       "1   92.44        0.89          0                    2577215          ⋯\n",
       "2   98.24        0.00          0                    2734858          ⋯\n",
       "⋮   ⋮            ⋮             ⋮                    ⋮                ⋱\n",
       "563 67.01        1.6           0                    1102586          ⋯\n",
       "564 94.00        0.4           0                    1651771          ⋯\n",
       "    assembler.Id              taxon.Id\n",
       "1   markers_qa_summary.tsv.1  NA      \n",
       "2   markers_qa_summary.tsv.1  NA      \n",
       "⋮   ⋮                         ⋮       \n",
       "563 markers_qa_summary.tsv.46 NA      \n",
       "564 markers_qa_summary.tsv.67 NA      \n",
       "    File                                                                                                                                        \n",
       "1   /ebio/abt3_projects/HUBIF_metagenomics/data/pipelines/llg/cophyverttrans/koreans/round1/llg_output/checkM/7/checkm/markers_qa_summary.tsv.1 \n",
       "2   /ebio/abt3_projects/HUBIF_metagenomics/data/pipelines/llg/cophyverttrans/koreans/round1/llg_output/checkM/6/checkm/markers_qa_summary.tsv.1 \n",
       "⋮   ⋮                                                                                                                                           \n",
       "563 /ebio/abt3_projects/HUBIF_metagenomics/data/pipelines/llg/cophyverttrans/koreans/round1/llg_output/checkM/1/checkm/markers_qa_summary.tsv.46\n",
       "564 /ebio/abt3_projects/HUBIF_metagenomics/data/pipelines/llg/cophyverttrans/koreans/round1/llg_output/checkM/4/checkm/markers_qa_summary.tsv.67\n",
       "    Domain      Phylum               Class              Order                \n",
       "1   d__Bacteria p__Firmicutes_A      c__Clostridia      o__Lachnospirales    \n",
       "2   d__Bacteria p__Firmicutes_A      c__Clostridia      o__Lachnospirales    \n",
       "⋮   ⋮           ⋮                    ⋮                  ⋮                    \n",
       "563 d__Archaea  p__Methanobacteriota c__Methanobacteria o__Methanobacteriales\n",
       "564 d__Archaea  p__Methanobacteriota c__Methanobacteria o__Methanobacteriales\n",
       "    Family                 Genus                  \n",
       "1   f__Lachnospiraceae     g__Coprococcus         \n",
       "2   f__Lachnospiraceae     g__Lachnospira         \n",
       "⋮   ⋮                      ⋮                      \n",
       "563 f__Methanobacteriaceae g__Methanobrevibacter_A\n",
       "564 f__Methanobacteriaceae g__Methanobrevibacter_A\n",
       "    Species                        \n",
       "1   s__Coprococcus eutactus_A      \n",
       "2   s__Lachnospira eligens_B       \n",
       "⋮   ⋮                              \n",
       "563 s__Methanobrevibacter_A smithii\n",
       "564 s__Methanobrevibacter_A smithii"
      ]
     },
     "metadata": {},
     "output_type": "display_data"
    }
   ],
   "source": [
    "# merging\n",
    "drep = drep %>%\n",
    "    inner_join.(checkm, c('Name'='Bin.Id')) %>%\n",
    "    inner_join.(tax, c('Name'='user_genome'))\n",
    "drep"
   ]
  },
  {
   "cell_type": "markdown",
   "metadata": {},
   "source": [
    "#### Writing table"
   ]
  },
  {
   "cell_type": "code",
   "execution_count": 20,
   "metadata": {
    "ExecuteTime": {
     "end_time": "2022-02-02T11:52:46.442300Z",
     "start_time": "2022-02-02T11:52:46.398Z"
    }
   },
   "outputs": [
    {
     "name": "stdout",
     "output_type": "stream",
     "text": [
      "File written: /ebio/abt3_projects/HUBIF_metagenomics/data/pipelines/llg/cophyverttrans/batch2_clusters1-3/round6/HUBIF-TUK-CAM-KOR//Korean_MAG_meta.tsv \n"
     ]
    }
   ],
   "source": [
    "D = '/ebio/abt3_projects/HUBIF_metagenomics/data/pipelines/llg/cophyverttrans/batch2_clusters1-3/round6/HUBIF-TUK-CAM-KOR/'\n",
    "F = file.path(D, 'Korean_MAG_meta.tsv')\n",
    "write_table(drep, F)"
   ]
  },
  {
   "cell_type": "markdown",
   "metadata": {},
   "source": [
    "# Target species"
   ]
  },
  {
   "cell_type": "code",
   "execution_count": 13,
   "metadata": {
    "ExecuteTime": {
     "end_time": "2022-02-02T11:48:29.476285Z",
     "start_time": "2022-02-02T11:48:29.418Z"
    }
   },
   "outputs": [
    {
     "name": "stdout",
     "output_type": "stream",
     "text": [
      "intersect(x,y): 24 \n",
      "setdiff(x,y): 17 \n",
      "setdiff(y,x): 140 \n",
      "union(x,y): 181 \n"
     ]
    }
   ],
   "source": [
    "# checking overlap\n",
    "overlap(stringr::str_to_lower(cophylo_spec$Species), \n",
    "        stringr::str_to_lower(drep$Species) %>% gsub('^s__', '', .))"
   ]
  },
  {
   "cell_type": "code",
   "execution_count": 14,
   "metadata": {
    "ExecuteTime": {
     "end_time": "2022-02-02T11:48:33.926046Z",
     "start_time": "2022-02-02T11:48:33.881Z"
    }
   },
   "outputs": [
    {
     "data": {
      "text/html": [
       "<style>\n",
       ".list-inline {list-style: none; margin:0; padding: 0}\n",
       ".list-inline>li {display: inline-block}\n",
       ".list-inline>li:not(:last-child)::after {content: \"\\00b7\"; padding: 0 .5ex}\n",
       "</style>\n",
       "<ol class=list-inline><li>'anaerobutyricum hallii'</li><li>'bacteroides xylanisolvens'</li><li>'bariatricus comes'</li><li>'barnesiella intestinihominis'</li><li>'bifidobacterium breve'</li><li>'bifidobacterium kashiwanohense'</li><li>'cag-83 sp000435975'</li><li>'catenibacterium mitsuokai'</li><li>'dorea formicigenerans'</li><li>'dysosmobacter sp001916835'</li><li>'mediterraneibacter torques'</li><li>'odoribacter splanchnicus'</li><li>'parabacteroides distasonis'</li><li>'parabacteroides merdae'</li><li>'roseburia intestinalis'</li><li>'veillonella atypica'</li></ol>\n"
      ],
      "text/latex": [
       "\\begin{enumerate*}\n",
       "\\item 'anaerobutyricum hallii'\n",
       "\\item 'bacteroides xylanisolvens'\n",
       "\\item 'bariatricus comes'\n",
       "\\item 'barnesiella intestinihominis'\n",
       "\\item 'bifidobacterium breve'\n",
       "\\item 'bifidobacterium kashiwanohense'\n",
       "\\item 'cag-83 sp000435975'\n",
       "\\item 'catenibacterium mitsuokai'\n",
       "\\item 'dorea formicigenerans'\n",
       "\\item 'dysosmobacter sp001916835'\n",
       "\\item 'mediterraneibacter torques'\n",
       "\\item 'odoribacter splanchnicus'\n",
       "\\item 'parabacteroides distasonis'\n",
       "\\item 'parabacteroides merdae'\n",
       "\\item 'roseburia intestinalis'\n",
       "\\item 'veillonella atypica'\n",
       "\\end{enumerate*}\n"
      ],
      "text/markdown": [
       "1. 'anaerobutyricum hallii'\n",
       "2. 'bacteroides xylanisolvens'\n",
       "3. 'bariatricus comes'\n",
       "4. 'barnesiella intestinihominis'\n",
       "5. 'bifidobacterium breve'\n",
       "6. 'bifidobacterium kashiwanohense'\n",
       "7. 'cag-83 sp000435975'\n",
       "8. 'catenibacterium mitsuokai'\n",
       "9. 'dorea formicigenerans'\n",
       "10. 'dysosmobacter sp001916835'\n",
       "11. 'mediterraneibacter torques'\n",
       "12. 'odoribacter splanchnicus'\n",
       "13. 'parabacteroides distasonis'\n",
       "14. 'parabacteroides merdae'\n",
       "15. 'roseburia intestinalis'\n",
       "16. 'veillonella atypica'\n",
       "\n",
       "\n"
      ],
      "text/plain": [
       " [1] \"anaerobutyricum hallii\"         \"bacteroides xylanisolvens\"     \n",
       " [3] \"bariatricus comes\"              \"barnesiella intestinihominis\"  \n",
       " [5] \"bifidobacterium breve\"          \"bifidobacterium kashiwanohense\"\n",
       " [7] \"cag-83 sp000435975\"             \"catenibacterium mitsuokai\"     \n",
       " [9] \"dorea formicigenerans\"          \"dysosmobacter sp001916835\"     \n",
       "[11] \"mediterraneibacter torques\"     \"odoribacter splanchnicus\"      \n",
       "[13] \"parabacteroides distasonis\"     \"parabacteroides merdae\"        \n",
       "[15] \"roseburia intestinalis\"         \"veillonella atypica\"           "
      ]
     },
     "metadata": {},
     "output_type": "display_data"
    }
   ],
   "source": [
    "# which target species not found?\n",
    "overlap(stringr::str_to_lower(cophylo_spec$Species), \n",
    "        stringr::str_to_lower(drep$Species) %>% gsub('^s__', '', .),\n",
    "        diff='x') %>% sort"
   ]
  },
  {
   "cell_type": "code",
   "execution_count": 15,
   "metadata": {
    "ExecuteTime": {
     "end_time": "2022-02-02T11:48:38.159767Z",
     "start_time": "2022-02-02T11:48:38.070Z"
    }
   },
   "outputs": [
    {
     "name": "stdout",
     "output_type": "stream",
     "text": [
      "No. of unique MAGs: 232 \n"
     ]
    },
    {
     "data": {
      "text/html": [
       "<table class=\"dataframe\">\n",
       "<caption>A tidytable: 330 × 43</caption>\n",
       "<thead>\n",
       "\t<tr><th scope=col>genome</th><th scope=col>Fasta</th><th scope=col>Marker.lineage</th><th scope=col>X..genomes</th><th scope=col>X..markers</th><th scope=col>X..marker.sets</th><th scope=col>Completeness</th><th scope=col>Contamination</th><th scope=col>Strain.heterogeneity</th><th scope=col>Genome.size..bp.</th><th scope=col>⋯</th><th scope=col>File</th><th scope=col>Domain</th><th scope=col>Phylum</th><th scope=col>Class</th><th scope=col>Order</th><th scope=col>Family</th><th scope=col>Genus</th><th scope=col>Species</th><th scope=col>spec</th><th scope=col>age_group</th></tr>\n",
       "\t<tr><th scope=col>&lt;chr&gt;</th><th scope=col>&lt;chr&gt;</th><th scope=col>&lt;chr&gt;</th><th scope=col>&lt;int&gt;</th><th scope=col>&lt;int&gt;</th><th scope=col>&lt;int&gt;</th><th scope=col>&lt;dbl&gt;</th><th scope=col>&lt;dbl&gt;</th><th scope=col>&lt;dbl&gt;</th><th scope=col>&lt;int&gt;</th><th scope=col>⋯</th><th scope=col>&lt;chr&gt;</th><th scope=col>&lt;chr&gt;</th><th scope=col>&lt;chr&gt;</th><th scope=col>&lt;chr&gt;</th><th scope=col>&lt;chr&gt;</th><th scope=col>&lt;chr&gt;</th><th scope=col>&lt;chr&gt;</th><th scope=col>&lt;chr&gt;</th><th scope=col>&lt;chr&gt;</th><th scope=col>&lt;chr&gt;</th></tr>\n",
       "</thead>\n",
       "<tbody>\n",
       "\t<tr><td>S846_plate1_G07__metabat2__High_012</td><td>/ebio/abt3_projects/HUBIF_metagenomics/data/pipelines/llg/cophyverttrans/koreans/round1/llg_output/drep/drep/dereplicated_genomes/S846_plate1_G07__metabat2__High_012.fna</td><td>o__Clostridiales (UID1212)</td><td>172</td><td>263</td><td>149</td><td>96.64</td><td>0.89</td><td>50</td><td>1921967</td><td>⋯</td><td>/ebio/abt3_projects/HUBIF_metagenomics/data/pipelines/llg/cophyverttrans/koreans/round1/llg_output/checkM/7/checkm/markers_qa_summary.tsv.66</td><td>d__Bacteria</td><td>p__Firmicutes_A</td><td>c__Clostridia</td><td>o__Oscillospirales</td><td>f__Acutalibacteraceae</td><td>g__Eubacterium_R</td><td>s__Eubacterium_R sp000436835</td><td>eubacterium_r sp000436835</td><td>adult</td></tr>\n",
       "\t<tr><td>S2442_plate1_D10__maxbin2__Low_005 </td><td>/ebio/abt3_projects/HUBIF_metagenomics/data/pipelines/llg/cophyverttrans/koreans/round1/llg_output/drep/drep/dereplicated_genomes/S2442_plate1_D10__maxbin2__Low_005.fna </td><td>o__Clostridiales (UID1212)</td><td>172</td><td>263</td><td>149</td><td>72.27</td><td>0.22</td><td> 0</td><td>1342169</td><td>⋯</td><td>/ebio/abt3_projects/HUBIF_metagenomics/data/pipelines/llg/cophyverttrans/koreans/round1/llg_output/checkM/7/checkm/markers_qa_summary.tsv.25</td><td>d__Bacteria</td><td>p__Firmicutes_A</td><td>c__Clostridia</td><td>o__Oscillospirales</td><td>f__Acutalibacteraceae</td><td>g__Eubacterium_R</td><td>s__Eubacterium_R sp000436835</td><td>eubacterium_r sp000436835</td><td>adult</td></tr>\n",
       "\t<tr><td>⋮</td><td>⋮</td><td>⋮</td><td>⋮</td><td>⋮</td><td>⋮</td><td>⋮</td><td>⋮</td><td>⋮</td><td>⋮</td><td>⋱</td><td>⋮</td><td>⋮</td><td>⋮</td><td>⋮</td><td>⋮</td><td>⋮</td><td>⋮</td><td>⋮</td><td>⋮</td><td>⋮</td></tr>\n",
       "\t<tr><td>S2363_plate1_G01__metabat2__High_013_sub</td><td>/ebio/abt3_projects/HUBIF_metagenomics/data/pipelines/llg/cophyverttrans/koreans/round1/llg_output/drep/drep/dereplicated_genomes/S2363_plate1_G01__metabat2__High_013_sub.fna</td><td>o__Clostridiales (UID1226)</td><td>155</td><td>278</td><td>158</td><td>75.57</td><td>2.70</td><td>70</td><td>2296054</td><td>⋯</td><td>/ebio/abt3_projects/HUBIF_metagenomics/data/pipelines/llg/cophyverttrans/koreans/round1/llg_output/checkM/7/checkm/markers_qa_summary.tsv.22 </td><td>d__Bacteria</td><td>p__Firmicutes_A</td><td>c__Clostridia</td><td>o__Lachnospirales</td><td>f__Lachnospiraceae</td><td>g__Blautia_A</td><td>s__Blautia_A wexlerae</td><td>blautia_a wexlerae</td><td>infant</td></tr>\n",
       "\t<tr><td>S2309_plate1_G12__metabat2__High_009_sub</td><td>/ebio/abt3_projects/HUBIF_metagenomics/data/pipelines/llg/cophyverttrans/koreans/round1/llg_output/drep/drep/dereplicated_genomes/S2309_plate1_G12__metabat2__High_009_sub.fna</td><td>o__Clostridiales (UID1226)</td><td>155</td><td>278</td><td>158</td><td>89.93</td><td>3.01</td><td>10</td><td>3003780</td><td>⋯</td><td>/ebio/abt3_projects/HUBIF_metagenomics/data/pipelines/llg/cophyverttrans/koreans/round1/llg_output/checkM/10/checkm/markers_qa_summary.tsv.24</td><td>d__Bacteria</td><td>p__Firmicutes_A</td><td>c__Clostridia</td><td>o__Lachnospirales</td><td>f__Lachnospiraceae</td><td>g__Blautia_A</td><td>s__Blautia_A wexlerae</td><td>blautia_a wexlerae</td><td>infant</td></tr>\n",
       "</tbody>\n",
       "</table>\n"
      ],
      "text/latex": [
       "A tidytable: 330 × 43\n",
       "\\begin{tabular}{lllllllllllllllllllll}\n",
       " genome & Fasta & Marker.lineage & X..genomes & X..markers & X..marker.sets & Completeness & Contamination & Strain.heterogeneity & Genome.size..bp. & ⋯ & File & Domain & Phylum & Class & Order & Family & Genus & Species & spec & age\\_group\\\\\n",
       " <chr> & <chr> & <chr> & <int> & <int> & <int> & <dbl> & <dbl> & <dbl> & <int> & ⋯ & <chr> & <chr> & <chr> & <chr> & <chr> & <chr> & <chr> & <chr> & <chr> & <chr>\\\\\n",
       "\\hline\n",
       "\t S846\\_plate1\\_G07\\_\\_metabat2\\_\\_High\\_012 & /ebio/abt3\\_projects/HUBIF\\_metagenomics/data/pipelines/llg/cophyverttrans/koreans/round1/llg\\_output/drep/drep/dereplicated\\_genomes/S846\\_plate1\\_G07\\_\\_metabat2\\_\\_High\\_012.fna & o\\_\\_Clostridiales (UID1212) & 172 & 263 & 149 & 96.64 & 0.89 & 50 & 1921967 & ⋯ & /ebio/abt3\\_projects/HUBIF\\_metagenomics/data/pipelines/llg/cophyverttrans/koreans/round1/llg\\_output/checkM/7/checkm/markers\\_qa\\_summary.tsv.66 & d\\_\\_Bacteria & p\\_\\_Firmicutes\\_A & c\\_\\_Clostridia & o\\_\\_Oscillospirales & f\\_\\_Acutalibacteraceae & g\\_\\_Eubacterium\\_R & s\\_\\_Eubacterium\\_R sp000436835 & eubacterium\\_r sp000436835 & adult\\\\\n",
       "\t S2442\\_plate1\\_D10\\_\\_maxbin2\\_\\_Low\\_005  & /ebio/abt3\\_projects/HUBIF\\_metagenomics/data/pipelines/llg/cophyverttrans/koreans/round1/llg\\_output/drep/drep/dereplicated\\_genomes/S2442\\_plate1\\_D10\\_\\_maxbin2\\_\\_Low\\_005.fna  & o\\_\\_Clostridiales (UID1212) & 172 & 263 & 149 & 72.27 & 0.22 &  0 & 1342169 & ⋯ & /ebio/abt3\\_projects/HUBIF\\_metagenomics/data/pipelines/llg/cophyverttrans/koreans/round1/llg\\_output/checkM/7/checkm/markers\\_qa\\_summary.tsv.25 & d\\_\\_Bacteria & p\\_\\_Firmicutes\\_A & c\\_\\_Clostridia & o\\_\\_Oscillospirales & f\\_\\_Acutalibacteraceae & g\\_\\_Eubacterium\\_R & s\\_\\_Eubacterium\\_R sp000436835 & eubacterium\\_r sp000436835 & adult\\\\\n",
       "\t ⋮ & ⋮ & ⋮ & ⋮ & ⋮ & ⋮ & ⋮ & ⋮ & ⋮ & ⋮ & ⋱ & ⋮ & ⋮ & ⋮ & ⋮ & ⋮ & ⋮ & ⋮ & ⋮ & ⋮ & ⋮\\\\\n",
       "\t S2363\\_plate1\\_G01\\_\\_metabat2\\_\\_High\\_013\\_sub & /ebio/abt3\\_projects/HUBIF\\_metagenomics/data/pipelines/llg/cophyverttrans/koreans/round1/llg\\_output/drep/drep/dereplicated\\_genomes/S2363\\_plate1\\_G01\\_\\_metabat2\\_\\_High\\_013\\_sub.fna & o\\_\\_Clostridiales (UID1226) & 155 & 278 & 158 & 75.57 & 2.70 & 70 & 2296054 & ⋯ & /ebio/abt3\\_projects/HUBIF\\_metagenomics/data/pipelines/llg/cophyverttrans/koreans/round1/llg\\_output/checkM/7/checkm/markers\\_qa\\_summary.tsv.22  & d\\_\\_Bacteria & p\\_\\_Firmicutes\\_A & c\\_\\_Clostridia & o\\_\\_Lachnospirales & f\\_\\_Lachnospiraceae & g\\_\\_Blautia\\_A & s\\_\\_Blautia\\_A wexlerae & blautia\\_a wexlerae & infant\\\\\n",
       "\t S2309\\_plate1\\_G12\\_\\_metabat2\\_\\_High\\_009\\_sub & /ebio/abt3\\_projects/HUBIF\\_metagenomics/data/pipelines/llg/cophyverttrans/koreans/round1/llg\\_output/drep/drep/dereplicated\\_genomes/S2309\\_plate1\\_G12\\_\\_metabat2\\_\\_High\\_009\\_sub.fna & o\\_\\_Clostridiales (UID1226) & 155 & 278 & 158 & 89.93 & 3.01 & 10 & 3003780 & ⋯ & /ebio/abt3\\_projects/HUBIF\\_metagenomics/data/pipelines/llg/cophyverttrans/koreans/round1/llg\\_output/checkM/10/checkm/markers\\_qa\\_summary.tsv.24 & d\\_\\_Bacteria & p\\_\\_Firmicutes\\_A & c\\_\\_Clostridia & o\\_\\_Lachnospirales & f\\_\\_Lachnospiraceae & g\\_\\_Blautia\\_A & s\\_\\_Blautia\\_A wexlerae & blautia\\_a wexlerae & infant\\\\\n",
       "\\end{tabular}\n"
      ],
      "text/markdown": [
       "\n",
       "A tidytable: 330 × 43\n",
       "\n",
       "| genome &lt;chr&gt; | Fasta &lt;chr&gt; | Marker.lineage &lt;chr&gt; | X..genomes &lt;int&gt; | X..markers &lt;int&gt; | X..marker.sets &lt;int&gt; | Completeness &lt;dbl&gt; | Contamination &lt;dbl&gt; | Strain.heterogeneity &lt;dbl&gt; | Genome.size..bp. &lt;int&gt; | ⋯ ⋯ | File &lt;chr&gt; | Domain &lt;chr&gt; | Phylum &lt;chr&gt; | Class &lt;chr&gt; | Order &lt;chr&gt; | Family &lt;chr&gt; | Genus &lt;chr&gt; | Species &lt;chr&gt; | spec &lt;chr&gt; | age_group &lt;chr&gt; |\n",
       "|---|---|---|---|---|---|---|---|---|---|---|---|---|---|---|---|---|---|---|---|---|\n",
       "| S846_plate1_G07__metabat2__High_012 | /ebio/abt3_projects/HUBIF_metagenomics/data/pipelines/llg/cophyverttrans/koreans/round1/llg_output/drep/drep/dereplicated_genomes/S846_plate1_G07__metabat2__High_012.fna | o__Clostridiales (UID1212) | 172 | 263 | 149 | 96.64 | 0.89 | 50 | 1921967 | ⋯ | /ebio/abt3_projects/HUBIF_metagenomics/data/pipelines/llg/cophyverttrans/koreans/round1/llg_output/checkM/7/checkm/markers_qa_summary.tsv.66 | d__Bacteria | p__Firmicutes_A | c__Clostridia | o__Oscillospirales | f__Acutalibacteraceae | g__Eubacterium_R | s__Eubacterium_R sp000436835 | eubacterium_r sp000436835 | adult |\n",
       "| S2442_plate1_D10__maxbin2__Low_005  | /ebio/abt3_projects/HUBIF_metagenomics/data/pipelines/llg/cophyverttrans/koreans/round1/llg_output/drep/drep/dereplicated_genomes/S2442_plate1_D10__maxbin2__Low_005.fna  | o__Clostridiales (UID1212) | 172 | 263 | 149 | 72.27 | 0.22 |  0 | 1342169 | ⋯ | /ebio/abt3_projects/HUBIF_metagenomics/data/pipelines/llg/cophyverttrans/koreans/round1/llg_output/checkM/7/checkm/markers_qa_summary.tsv.25 | d__Bacteria | p__Firmicutes_A | c__Clostridia | o__Oscillospirales | f__Acutalibacteraceae | g__Eubacterium_R | s__Eubacterium_R sp000436835 | eubacterium_r sp000436835 | adult |\n",
       "| ⋮ | ⋮ | ⋮ | ⋮ | ⋮ | ⋮ | ⋮ | ⋮ | ⋮ | ⋮ | ⋱ | ⋮ | ⋮ | ⋮ | ⋮ | ⋮ | ⋮ | ⋮ | ⋮ | ⋮ | ⋮ |\n",
       "| S2363_plate1_G01__metabat2__High_013_sub | /ebio/abt3_projects/HUBIF_metagenomics/data/pipelines/llg/cophyverttrans/koreans/round1/llg_output/drep/drep/dereplicated_genomes/S2363_plate1_G01__metabat2__High_013_sub.fna | o__Clostridiales (UID1226) | 155 | 278 | 158 | 75.57 | 2.70 | 70 | 2296054 | ⋯ | /ebio/abt3_projects/HUBIF_metagenomics/data/pipelines/llg/cophyverttrans/koreans/round1/llg_output/checkM/7/checkm/markers_qa_summary.tsv.22  | d__Bacteria | p__Firmicutes_A | c__Clostridia | o__Lachnospirales | f__Lachnospiraceae | g__Blautia_A | s__Blautia_A wexlerae | blautia_a wexlerae | infant |\n",
       "| S2309_plate1_G12__metabat2__High_009_sub | /ebio/abt3_projects/HUBIF_metagenomics/data/pipelines/llg/cophyverttrans/koreans/round1/llg_output/drep/drep/dereplicated_genomes/S2309_plate1_G12__metabat2__High_009_sub.fna | o__Clostridiales (UID1226) | 155 | 278 | 158 | 89.93 | 3.01 | 10 | 3003780 | ⋯ | /ebio/abt3_projects/HUBIF_metagenomics/data/pipelines/llg/cophyverttrans/koreans/round1/llg_output/checkM/10/checkm/markers_qa_summary.tsv.24 | d__Bacteria | p__Firmicutes_A | c__Clostridia | o__Lachnospirales | f__Lachnospiraceae | g__Blautia_A | s__Blautia_A wexlerae | blautia_a wexlerae | infant |\n",
       "\n"
      ],
      "text/plain": [
       "    genome                                  \n",
       "1   S846_plate1_G07__metabat2__High_012     \n",
       "2   S2442_plate1_D10__maxbin2__Low_005      \n",
       "⋮   ⋮                                       \n",
       "329 S2363_plate1_G01__metabat2__High_013_sub\n",
       "330 S2309_plate1_G12__metabat2__High_009_sub\n",
       "    Fasta                                                                                                                                                                         \n",
       "1   /ebio/abt3_projects/HUBIF_metagenomics/data/pipelines/llg/cophyverttrans/koreans/round1/llg_output/drep/drep/dereplicated_genomes/S846_plate1_G07__metabat2__High_012.fna     \n",
       "2   /ebio/abt3_projects/HUBIF_metagenomics/data/pipelines/llg/cophyverttrans/koreans/round1/llg_output/drep/drep/dereplicated_genomes/S2442_plate1_D10__maxbin2__Low_005.fna      \n",
       "⋮   ⋮                                                                                                                                                                             \n",
       "329 /ebio/abt3_projects/HUBIF_metagenomics/data/pipelines/llg/cophyverttrans/koreans/round1/llg_output/drep/drep/dereplicated_genomes/S2363_plate1_G01__metabat2__High_013_sub.fna\n",
       "330 /ebio/abt3_projects/HUBIF_metagenomics/data/pipelines/llg/cophyverttrans/koreans/round1/llg_output/drep/drep/dereplicated_genomes/S2309_plate1_G12__metabat2__High_009_sub.fna\n",
       "    Marker.lineage             X..genomes X..markers X..marker.sets\n",
       "1   o__Clostridiales (UID1212) 172        263        149           \n",
       "2   o__Clostridiales (UID1212) 172        263        149           \n",
       "⋮   ⋮                          ⋮          ⋮          ⋮             \n",
       "329 o__Clostridiales (UID1226) 155        278        158           \n",
       "330 o__Clostridiales (UID1226) 155        278        158           \n",
       "    Completeness Contamination Strain.heterogeneity Genome.size..bp. ⋯\n",
       "1   96.64        0.89          50                   1921967          ⋯\n",
       "2   72.27        0.22           0                   1342169          ⋯\n",
       "⋮   ⋮            ⋮             ⋮                    ⋮                ⋱\n",
       "329 75.57        2.70          70                   2296054          ⋯\n",
       "330 89.93        3.01          10                   3003780          ⋯\n",
       "    File                                                                                                                                         \n",
       "1   /ebio/abt3_projects/HUBIF_metagenomics/data/pipelines/llg/cophyverttrans/koreans/round1/llg_output/checkM/7/checkm/markers_qa_summary.tsv.66 \n",
       "2   /ebio/abt3_projects/HUBIF_metagenomics/data/pipelines/llg/cophyverttrans/koreans/round1/llg_output/checkM/7/checkm/markers_qa_summary.tsv.25 \n",
       "⋮   ⋮                                                                                                                                            \n",
       "329 /ebio/abt3_projects/HUBIF_metagenomics/data/pipelines/llg/cophyverttrans/koreans/round1/llg_output/checkM/7/checkm/markers_qa_summary.tsv.22 \n",
       "330 /ebio/abt3_projects/HUBIF_metagenomics/data/pipelines/llg/cophyverttrans/koreans/round1/llg_output/checkM/10/checkm/markers_qa_summary.tsv.24\n",
       "    Domain      Phylum          Class         Order             \n",
       "1   d__Bacteria p__Firmicutes_A c__Clostridia o__Oscillospirales\n",
       "2   d__Bacteria p__Firmicutes_A c__Clostridia o__Oscillospirales\n",
       "⋮   ⋮           ⋮               ⋮             ⋮                 \n",
       "329 d__Bacteria p__Firmicutes_A c__Clostridia o__Lachnospirales \n",
       "330 d__Bacteria p__Firmicutes_A c__Clostridia o__Lachnospirales \n",
       "    Family                Genus            Species                     \n",
       "1   f__Acutalibacteraceae g__Eubacterium_R s__Eubacterium_R sp000436835\n",
       "2   f__Acutalibacteraceae g__Eubacterium_R s__Eubacterium_R sp000436835\n",
       "⋮   ⋮                     ⋮                ⋮                           \n",
       "329 f__Lachnospiraceae    g__Blautia_A     s__Blautia_A wexlerae       \n",
       "330 f__Lachnospiraceae    g__Blautia_A     s__Blautia_A wexlerae       \n",
       "    spec                      age_group\n",
       "1   eubacterium_r sp000436835 adult    \n",
       "2   eubacterium_r sp000436835 adult    \n",
       "⋮   ⋮                         ⋮        \n",
       "329 blautia_a wexlerae        infant   \n",
       "330 blautia_a wexlerae        infant   "
      ]
     },
     "metadata": {},
     "output_type": "display_data"
    }
   ],
   "source": [
    "# filtering to just co-phylo species\n",
    "drep_f = drep %>%\n",
    "    mutate.(spec = stringr::str_to_lower(gsub('^s__', '', Species))) %>%\n",
    "    inner_join.(cophylo_spec %>%\n",
    "                    mutate.(spec = stringr::str_to_lower(Species)) %>%\n",
    "                    distinct.(spec, age_group),\n",
    "               by=c('spec')) %>%\n",
    "    rename.('genome' = Name)\n",
    "drep_f$genome %>% unique_n('MAGs')\n",
    "drep_f"
   ]
  },
  {
   "cell_type": "markdown",
   "metadata": {},
   "source": [
    "### Summary"
   ]
  },
  {
   "cell_type": "code",
   "execution_count": 16,
   "metadata": {
    "ExecuteTime": {
     "end_time": "2022-02-02T11:49:18.303262Z",
     "start_time": "2022-02-02T11:49:18.196Z"
    }
   },
   "outputs": [
    {
     "data": {
      "text/html": [
       "<table class=\"dataframe\">\n",
       "<caption>A matrix: 1 × 8 of type dbl</caption>\n",
       "<thead>\n",
       "\t<tr><th></th><th scope=col>Min.</th><th scope=col>1st Qu.</th><th scope=col>Median</th><th scope=col>Mean</th><th scope=col>3rd Qu.</th><th scope=col>Max.</th><th scope=col>sd</th><th scope=col>sd_err_of_mean</th></tr>\n",
       "</thead>\n",
       "<tbody>\n",
       "\t<tr><th scope=row>Completeness</th><td>51.3</td><td>81.39</td><td>93</td><td>88.29855</td><td>97.65</td><td>100</td><td>12.046</td><td>4.918</td></tr>\n",
       "</tbody>\n",
       "</table>\n"
      ],
      "text/latex": [
       "A matrix: 1 × 8 of type dbl\n",
       "\\begin{tabular}{r|llllllll}\n",
       "  & Min. & 1st Qu. & Median & Mean & 3rd Qu. & Max. & sd & sd\\_err\\_of\\_mean\\\\\n",
       "\\hline\n",
       "\tCompleteness & 51.3 & 81.39 & 93 & 88.29855 & 97.65 & 100 & 12.046 & 4.918\\\\\n",
       "\\end{tabular}\n"
      ],
      "text/markdown": [
       "\n",
       "A matrix: 1 × 8 of type dbl\n",
       "\n",
       "| <!--/--> | Min. | 1st Qu. | Median | Mean | 3rd Qu. | Max. | sd | sd_err_of_mean |\n",
       "|---|---|---|---|---|---|---|---|---|\n",
       "| Completeness | 51.3 | 81.39 | 93 | 88.29855 | 97.65 | 100 | 12.046 | 4.918 |\n",
       "\n"
      ],
      "text/plain": [
       "             Min. 1st Qu. Median Mean     3rd Qu. Max. sd     sd_err_of_mean\n",
       "Completeness 51.3 81.39   93     88.29855 97.65   100  12.046 4.918         "
      ]
     },
     "metadata": {},
     "output_type": "display_data"
    },
    {
     "data": {
      "text/html": [
       "<table class=\"dataframe\">\n",
       "<caption>A matrix: 1 × 8 of type dbl</caption>\n",
       "<thead>\n",
       "\t<tr><th></th><th scope=col>Min.</th><th scope=col>1st Qu.</th><th scope=col>Median</th><th scope=col>Mean</th><th scope=col>3rd Qu.</th><th scope=col>Max.</th><th scope=col>sd</th><th scope=col>sd_err_of_mean</th></tr>\n",
       "</thead>\n",
       "<tbody>\n",
       "\t<tr><th scope=row>Contamination</th><td>0</td><td>0.67</td><td>1.235</td><td>1.382636</td><td>1.91</td><td>4.84</td><td>0.955</td><td>0.39</td></tr>\n",
       "</tbody>\n",
       "</table>\n"
      ],
      "text/latex": [
       "A matrix: 1 × 8 of type dbl\n",
       "\\begin{tabular}{r|llllllll}\n",
       "  & Min. & 1st Qu. & Median & Mean & 3rd Qu. & Max. & sd & sd\\_err\\_of\\_mean\\\\\n",
       "\\hline\n",
       "\tContamination & 0 & 0.67 & 1.235 & 1.382636 & 1.91 & 4.84 & 0.955 & 0.39\\\\\n",
       "\\end{tabular}\n"
      ],
      "text/markdown": [
       "\n",
       "A matrix: 1 × 8 of type dbl\n",
       "\n",
       "| <!--/--> | Min. | 1st Qu. | Median | Mean | 3rd Qu. | Max. | sd | sd_err_of_mean |\n",
       "|---|---|---|---|---|---|---|---|---|\n",
       "| Contamination | 0 | 0.67 | 1.235 | 1.382636 | 1.91 | 4.84 | 0.955 | 0.39 |\n",
       "\n"
      ],
      "text/plain": [
       "              Min. 1st Qu. Median Mean     3rd Qu. Max. sd    sd_err_of_mean\n",
       "Contamination 0    0.67    1.235  1.382636 1.91    4.84 0.955 0.39          "
      ]
     },
     "metadata": {},
     "output_type": "display_data"
    },
    {
     "data": {
      "text/html": [
       "<table class=\"dataframe\">\n",
       "<caption>A matrix: 1 × 8 of type dbl</caption>\n",
       "<thead>\n",
       "\t<tr><th></th><th scope=col>Min.</th><th scope=col>1st Qu.</th><th scope=col>Median</th><th scope=col>Mean</th><th scope=col>3rd Qu.</th><th scope=col>Max.</th><th scope=col>sd</th><th scope=col>sd_err_of_mean</th></tr>\n",
       "</thead>\n",
       "<tbody>\n",
       "\t<tr><th scope=row>X..contigs</th><td>11</td><td>145</td><td>343</td><td>362.0182</td><td>532.75</td><td>1319</td><td>252.816</td><td>103.212</td></tr>\n",
       "</tbody>\n",
       "</table>\n"
      ],
      "text/latex": [
       "A matrix: 1 × 8 of type dbl\n",
       "\\begin{tabular}{r|llllllll}\n",
       "  & Min. & 1st Qu. & Median & Mean & 3rd Qu. & Max. & sd & sd\\_err\\_of\\_mean\\\\\n",
       "\\hline\n",
       "\tX..contigs & 11 & 145 & 343 & 362.0182 & 532.75 & 1319 & 252.816 & 103.212\\\\\n",
       "\\end{tabular}\n"
      ],
      "text/markdown": [
       "\n",
       "A matrix: 1 × 8 of type dbl\n",
       "\n",
       "| <!--/--> | Min. | 1st Qu. | Median | Mean | 3rd Qu. | Max. | sd | sd_err_of_mean |\n",
       "|---|---|---|---|---|---|---|---|---|\n",
       "| X..contigs | 11 | 145 | 343 | 362.0182 | 532.75 | 1319 | 252.816 | 103.212 |\n",
       "\n"
      ],
      "text/plain": [
       "           Min. 1st Qu. Median Mean     3rd Qu. Max. sd      sd_err_of_mean\n",
       "X..contigs 11   145     343    362.0182 532.75  1319 252.816 103.212       "
      ]
     },
     "metadata": {},
     "output_type": "display_data"
    },
    {
     "data": {
      "text/html": [
       "<table class=\"dataframe\">\n",
       "<caption>A matrix: 1 × 8 of type dbl</caption>\n",
       "<thead>\n",
       "\t<tr><th></th><th scope=col>Min.</th><th scope=col>1st Qu.</th><th scope=col>Median</th><th scope=col>Mean</th><th scope=col>3rd Qu.</th><th scope=col>Max.</th><th scope=col>sd</th><th scope=col>sd_err_of_mean</th></tr>\n",
       "</thead>\n",
       "<tbody>\n",
       "\t<tr><th scope=row>N50..contigs.</th><td>2609</td><td>4921</td><td>11978</td><td>29947.37</td><td>36198</td><td>400356</td><td>44277.43</td><td>18076.19</td></tr>\n",
       "</tbody>\n",
       "</table>\n"
      ],
      "text/latex": [
       "A matrix: 1 × 8 of type dbl\n",
       "\\begin{tabular}{r|llllllll}\n",
       "  & Min. & 1st Qu. & Median & Mean & 3rd Qu. & Max. & sd & sd\\_err\\_of\\_mean\\\\\n",
       "\\hline\n",
       "\tN50..contigs. & 2609 & 4921 & 11978 & 29947.37 & 36198 & 400356 & 44277.43 & 18076.19\\\\\n",
       "\\end{tabular}\n"
      ],
      "text/markdown": [
       "\n",
       "A matrix: 1 × 8 of type dbl\n",
       "\n",
       "| <!--/--> | Min. | 1st Qu. | Median | Mean | 3rd Qu. | Max. | sd | sd_err_of_mean |\n",
       "|---|---|---|---|---|---|---|---|---|\n",
       "| N50..contigs. | 2609 | 4921 | 11978 | 29947.37 | 36198 | 400356 | 44277.43 | 18076.19 |\n",
       "\n"
      ],
      "text/plain": [
       "              Min. 1st Qu. Median Mean     3rd Qu. Max.   sd      \n",
       "N50..contigs. 2609 4921    11978  29947.37 36198   400356 44277.43\n",
       "              sd_err_of_mean\n",
       "N50..contigs. 18076.19      "
      ]
     },
     "metadata": {},
     "output_type": "display_data"
    }
   ],
   "source": [
    "summary_x(drep_f$Completeness)\n",
    "summary_x(drep_f$Contamination)\n",
    "summary_x(drep_f$X..contigs)\n",
    "summary_x(drep_f$N50..contigs.)"
   ]
  },
  {
   "cell_type": "code",
   "execution_count": 17,
   "metadata": {
    "ExecuteTime": {
     "end_time": "2022-02-02T11:49:22.171294Z",
     "start_time": "2022-02-02T11:49:22.117Z"
    }
   },
   "outputs": [
    {
     "data": {
      "text/html": [
       "<table class=\"dataframe\">\n",
       "<caption>A tidytable: 4 × 2</caption>\n",
       "<thead>\n",
       "\t<tr><th scope=col>taxonomy</th><th scope=col>n</th></tr>\n",
       "\t<tr><th scope=col>&lt;chr&gt;</th><th scope=col>&lt;int&gt;</th></tr>\n",
       "</thead>\n",
       "<tbody>\n",
       "\t<tr><td>p__Bacteroidota;c__Bacteroidia      </td><td>183</td></tr>\n",
       "\t<tr><td>p__Firmicutes_A;c__Clostridia       </td><td> 90</td></tr>\n",
       "\t<tr><td>p__Actinobacteriota;c__Actinomycetia</td><td> 55</td></tr>\n",
       "\t<tr><td>p__Firmicutes;c__Bacilli            </td><td>  2</td></tr>\n",
       "</tbody>\n",
       "</table>\n"
      ],
      "text/latex": [
       "A tidytable: 4 × 2\n",
       "\\begin{tabular}{ll}\n",
       " taxonomy & n\\\\\n",
       " <chr> & <int>\\\\\n",
       "\\hline\n",
       "\t p\\_\\_Bacteroidota;c\\_\\_Bacteroidia       & 183\\\\\n",
       "\t p\\_\\_Firmicutes\\_A;c\\_\\_Clostridia        &  90\\\\\n",
       "\t p\\_\\_Actinobacteriota;c\\_\\_Actinomycetia &  55\\\\\n",
       "\t p\\_\\_Firmicutes;c\\_\\_Bacilli             &   2\\\\\n",
       "\\end{tabular}\n"
      ],
      "text/markdown": [
       "\n",
       "A tidytable: 4 × 2\n",
       "\n",
       "| taxonomy &lt;chr&gt; | n &lt;int&gt; |\n",
       "|---|---|\n",
       "| p__Bacteroidota;c__Bacteroidia       | 183 |\n",
       "| p__Firmicutes_A;c__Clostridia        |  90 |\n",
       "| p__Actinobacteriota;c__Actinomycetia |  55 |\n",
       "| p__Firmicutes;c__Bacilli             |   2 |\n",
       "\n"
      ],
      "text/plain": [
       "  taxonomy                             n  \n",
       "1 p__Bacteroidota;c__Bacteroidia       183\n",
       "2 p__Firmicutes_A;c__Clostridia         90\n",
       "3 p__Actinobacteriota;c__Actinomycetia  55\n",
       "4 p__Firmicutes;c__Bacilli               2"
      ]
     },
     "metadata": {},
     "output_type": "display_data"
    }
   ],
   "source": [
    "# by class\n",
    "df.dims(50)\n",
    "drep_f %>%\n",
    "    mutate.(taxonomy = paste(Phylum, Class, sep=';')) %>%\n",
    "    summarize.(n = n.(),\n",
    "               .by=c(taxonomy)) %>%\n",
    "    arrange.(-n)\n",
    "df.dims()"
   ]
  },
  {
   "cell_type": "code",
   "execution_count": 18,
   "metadata": {
    "ExecuteTime": {
     "end_time": "2022-02-02T11:49:27.359495Z",
     "start_time": "2022-02-02T11:49:27.207Z"
    }
   },
   "outputs": [
    {
     "data": {
      "text/html": [
       "<table class=\"dataframe\">\n",
       "<caption>A tidytable: 32 × 8</caption>\n",
       "<thead>\n",
       "\t<tr><th scope=col>Phylum</th><th scope=col>Class</th><th scope=col>Order</th><th scope=col>Family</th><th scope=col>Genus</th><th scope=col>Species</th><th scope=col>age_group</th><th scope=col>n</th></tr>\n",
       "\t<tr><th scope=col>&lt;chr&gt;</th><th scope=col>&lt;chr&gt;</th><th scope=col>&lt;chr&gt;</th><th scope=col>&lt;chr&gt;</th><th scope=col>&lt;chr&gt;</th><th scope=col>&lt;chr&gt;</th><th scope=col>&lt;chr&gt;</th><th scope=col>&lt;int&gt;</th></tr>\n",
       "</thead>\n",
       "<tbody>\n",
       "\t<tr><td>p__Bacteroidota    </td><td>c__Bacteroidia  </td><td>o__Bacteroidales     </td><td>f__Bacteroidaceae     </td><td>g__Prevotella         </td><td>s__Prevotella copri               </td><td>adult </td><td>42</td></tr>\n",
       "\t<tr><td>p__Actinobacteriota</td><td>c__Actinomycetia</td><td>o__Actinomycetales   </td><td>f__Bifidobacteriaceae </td><td>g__Bifidobacterium    </td><td>s__Bifidobacterium adolescentis   </td><td>adult </td><td>29</td></tr>\n",
       "\t<tr><td>p__Firmicutes_A    </td><td>c__Clostridia   </td><td>o__Lachnospirales    </td><td>f__Lachnospiraceae    </td><td>g__Agathobacter       </td><td>s__Agathobacter rectalis          </td><td>adult </td><td>28</td></tr>\n",
       "\t<tr><td>p__Firmicutes_A    </td><td>c__Clostridia   </td><td>o__Oscillospirales   </td><td>f__Acutalibacteraceae </td><td>g__CAG-180            </td><td>s__CAG-180 sp000432435            </td><td>adult </td><td>18</td></tr>\n",
       "\t<tr><td>p__Bacteroidota    </td><td>c__Bacteroidia  </td><td>o__Bacteroidales     </td><td>f__Bacteroidaceae     </td><td>g__Phocaeicola        </td><td>s__Phocaeicola vulgatus           </td><td>adult </td><td>18</td></tr>\n",
       "\t<tr><td>p__Bacteroidota    </td><td>c__Bacteroidia  </td><td>o__Bacteroidales     </td><td>f__Bacteroidaceae     </td><td>g__Bacteroides        </td><td>s__Bacteroides uniformis          </td><td>adult </td><td>16</td></tr>\n",
       "\t<tr><td>p__Bacteroidota    </td><td>c__Bacteroidia  </td><td>o__Bacteroidales     </td><td>f__Rikenellaceae      </td><td>g__Alistipes          </td><td>s__Alistipes putredinis           </td><td>adult </td><td>15</td></tr>\n",
       "\t<tr><td>p__Actinobacteriota</td><td>c__Actinomycetia</td><td>o__Actinomycetales   </td><td>f__Bifidobacteriaceae </td><td>g__Bifidobacterium    </td><td>s__Bifidobacterium longum         </td><td>adult </td><td>11</td></tr>\n",
       "\t<tr><td>p__Firmicutes_A    </td><td>c__Clostridia   </td><td>o__Lachnospirales    </td><td>f__Lachnospiraceae    </td><td>g__Anaerostipes       </td><td>s__Anaerostipes hadrus            </td><td>adult </td><td> 8</td></tr>\n",
       "\t<tr><td>p__Firmicutes_A    </td><td>c__Clostridia   </td><td>o__Lachnospirales    </td><td>f__Lachnospiraceae    </td><td>g__Lachnospira        </td><td>s__Lachnospira eligens_B          </td><td>adult </td><td> 7</td></tr>\n",
       "\t<tr><td>p__Firmicutes_A    </td><td>c__Clostridia   </td><td>o__Oscillospirales   </td><td>f__Ruminococcaceae    </td><td>g__Ruminococcus_D     </td><td>s__Ruminococcus_D bicirculans     </td><td>adult </td><td> 6</td></tr>\n",
       "\t<tr><td>p__Firmicutes_A    </td><td>c__Clostridia   </td><td>o__Oscillospirales   </td><td>f__Acutalibacteraceae </td><td>g__Eubacterium_R      </td><td>s__Eubacterium_R sp000436835      </td><td>adult </td><td> 5</td></tr>\n",
       "\t<tr><td>p__Firmicutes_A    </td><td>c__Clostridia   </td><td>o__Lachnospirales    </td><td>f__Lachnospiraceae    </td><td>g__Fusicatenibacter   </td><td>s__Fusicatenibacter saccharivorans</td><td>adult </td><td> 5</td></tr>\n",
       "\t<tr><td>p__Bacteroidota    </td><td>c__Bacteroidia  </td><td>o__Bacteroidales     </td><td>f__Bacteroidaceae     </td><td>g__Bacteroides        </td><td>s__Bacteroides ovatus             </td><td>adult </td><td> 5</td></tr>\n",
       "\t<tr><td>p__Firmicutes_A    </td><td>c__Clostridia   </td><td>o__Lachnospirales    </td><td>f__Lachnospiraceae    </td><td>g__Blautia_A          </td><td>s__Blautia_A wexlerae             </td><td>adult </td><td> 4</td></tr>\n",
       "\t<tr><td>p__Firmicutes_A    </td><td>c__Clostridia   </td><td>o__Lachnospirales    </td><td>f__Lachnospiraceae    </td><td>g__Agathobacter       </td><td>s__Agathobacter faecis            </td><td>adult </td><td> 2</td></tr>\n",
       "\t<tr><td>p__Bacteroidota    </td><td>c__Bacteroidia  </td><td>o__Bacteroidales     </td><td>f__Bacteroidaceae     </td><td>g__Bacteroides        </td><td>s__Bacteroides caccae             </td><td>adult </td><td> 2</td></tr>\n",
       "\t<tr><td>p__Firmicutes      </td><td>c__Bacilli      </td><td>o__Erysipelotrichales</td><td>f__Erysipelotrichaceae</td><td>g__Holdemanella       </td><td>s__Holdemanella biformis          </td><td>adult </td><td> 2</td></tr>\n",
       "\t<tr><td>p__Firmicutes_A    </td><td>c__Clostridia   </td><td>o__Oscillospirales   </td><td>f__Ruminococcaceae    </td><td>g__Ruminiclostridium_E</td><td>s__Ruminiclostridium_E siraeum    </td><td>adult </td><td> 1</td></tr>\n",
       "\t<tr><td>p__Bacteroidota    </td><td>c__Bacteroidia  </td><td>o__Bacteroidales     </td><td>f__Bacteroidaceae     </td><td>g__Bacteroides        </td><td>s__Bacteroides thetaiotaomicron   </td><td>adult </td><td> 1</td></tr>\n",
       "\t<tr><td>p__Firmicutes_A    </td><td>c__Clostridia   </td><td>o__Lachnospirales    </td><td>f__Lachnospiraceae    </td><td>g__Lachnospira        </td><td>s__Lachnospira rogosae            </td><td>adult </td><td> 1</td></tr>\n",
       "\t<tr><td>p__Bacteroidota    </td><td>c__Bacteroidia  </td><td>o__Bacteroidales     </td><td>f__Bacteroidaceae     </td><td>g__Phocaeicola        </td><td>s__Phocaeicola dorei              </td><td>adult </td><td> 1</td></tr>\n",
       "\t<tr><td>p__Bacteroidota    </td><td>c__Bacteroidia  </td><td>o__Bacteroidales     </td><td>f__Bacteroidaceae     </td><td>g__Prevotella         </td><td>s__Prevotella copri               </td><td>infant</td><td>42</td></tr>\n",
       "\t<tr><td>p__Bacteroidota    </td><td>c__Bacteroidia  </td><td>o__Bacteroidales     </td><td>f__Bacteroidaceae     </td><td>g__Phocaeicola        </td><td>s__Phocaeicola vulgatus           </td><td>infant</td><td>18</td></tr>\n",
       "\t<tr><td>p__Bacteroidota    </td><td>c__Bacteroidia  </td><td>o__Bacteroidales     </td><td>f__Bacteroidaceae     </td><td>g__Bacteroides        </td><td>s__Bacteroides uniformis          </td><td>infant</td><td>16</td></tr>\n",
       "\t<tr><td>p__Actinobacteriota</td><td>c__Actinomycetia</td><td>o__Actinomycetales   </td><td>f__Bifidobacteriaceae </td><td>g__Bifidobacterium    </td><td>s__Bifidobacterium longum         </td><td>infant</td><td>11</td></tr>\n",
       "\t<tr><td>p__Bacteroidota    </td><td>c__Bacteroidia  </td><td>o__Bacteroidales     </td><td>f__Bacteroidaceae     </td><td>g__Bacteroides        </td><td>s__Bacteroides ovatus             </td><td>infant</td><td> 5</td></tr>\n",
       "\t<tr><td>p__Actinobacteriota</td><td>c__Actinomycetia</td><td>o__Actinomycetales   </td><td>f__Bifidobacteriaceae </td><td>g__Bifidobacterium    </td><td>s__Bifidobacterium bifidum        </td><td>infant</td><td> 4</td></tr>\n",
       "\t<tr><td>p__Firmicutes_A    </td><td>c__Clostridia   </td><td>o__Lachnospirales    </td><td>f__Lachnospiraceae    </td><td>g__Blautia_A          </td><td>s__Blautia_A wexlerae             </td><td>infant</td><td> 4</td></tr>\n",
       "\t<tr><td>p__Bacteroidota    </td><td>c__Bacteroidia  </td><td>o__Bacteroidales     </td><td>f__Bacteroidaceae     </td><td>g__Phocaeicola        </td><td>s__Phocaeicola dorei              </td><td>infant</td><td> 1</td></tr>\n",
       "\t<tr><td>p__Firmicutes_A    </td><td>c__Clostridia   </td><td>o__Lachnospirales    </td><td>f__Lachnospiraceae    </td><td>g__Ruminococcus_B     </td><td>s__Ruminococcus_B gnavus          </td><td>infant</td><td> 1</td></tr>\n",
       "\t<tr><td>p__Bacteroidota    </td><td>c__Bacteroidia  </td><td>o__Bacteroidales     </td><td>f__Bacteroidaceae     </td><td>g__Bacteroides        </td><td>s__Bacteroides thetaiotaomicron   </td><td>infant</td><td> 1</td></tr>\n",
       "</tbody>\n",
       "</table>\n"
      ],
      "text/latex": [
       "A tidytable: 32 × 8\n",
       "\\begin{tabular}{llllllll}\n",
       " Phylum & Class & Order & Family & Genus & Species & age\\_group & n\\\\\n",
       " <chr> & <chr> & <chr> & <chr> & <chr> & <chr> & <chr> & <int>\\\\\n",
       "\\hline\n",
       "\t p\\_\\_Bacteroidota     & c\\_\\_Bacteroidia   & o\\_\\_Bacteroidales      & f\\_\\_Bacteroidaceae      & g\\_\\_Prevotella          & s\\_\\_Prevotella copri                & adult  & 42\\\\\n",
       "\t p\\_\\_Actinobacteriota & c\\_\\_Actinomycetia & o\\_\\_Actinomycetales    & f\\_\\_Bifidobacteriaceae  & g\\_\\_Bifidobacterium     & s\\_\\_Bifidobacterium adolescentis    & adult  & 29\\\\\n",
       "\t p\\_\\_Firmicutes\\_A     & c\\_\\_Clostridia    & o\\_\\_Lachnospirales     & f\\_\\_Lachnospiraceae     & g\\_\\_Agathobacter        & s\\_\\_Agathobacter rectalis           & adult  & 28\\\\\n",
       "\t p\\_\\_Firmicutes\\_A     & c\\_\\_Clostridia    & o\\_\\_Oscillospirales    & f\\_\\_Acutalibacteraceae  & g\\_\\_CAG-180             & s\\_\\_CAG-180 sp000432435             & adult  & 18\\\\\n",
       "\t p\\_\\_Bacteroidota     & c\\_\\_Bacteroidia   & o\\_\\_Bacteroidales      & f\\_\\_Bacteroidaceae      & g\\_\\_Phocaeicola         & s\\_\\_Phocaeicola vulgatus            & adult  & 18\\\\\n",
       "\t p\\_\\_Bacteroidota     & c\\_\\_Bacteroidia   & o\\_\\_Bacteroidales      & f\\_\\_Bacteroidaceae      & g\\_\\_Bacteroides         & s\\_\\_Bacteroides uniformis           & adult  & 16\\\\\n",
       "\t p\\_\\_Bacteroidota     & c\\_\\_Bacteroidia   & o\\_\\_Bacteroidales      & f\\_\\_Rikenellaceae       & g\\_\\_Alistipes           & s\\_\\_Alistipes putredinis            & adult  & 15\\\\\n",
       "\t p\\_\\_Actinobacteriota & c\\_\\_Actinomycetia & o\\_\\_Actinomycetales    & f\\_\\_Bifidobacteriaceae  & g\\_\\_Bifidobacterium     & s\\_\\_Bifidobacterium longum          & adult  & 11\\\\\n",
       "\t p\\_\\_Firmicutes\\_A     & c\\_\\_Clostridia    & o\\_\\_Lachnospirales     & f\\_\\_Lachnospiraceae     & g\\_\\_Anaerostipes        & s\\_\\_Anaerostipes hadrus             & adult  &  8\\\\\n",
       "\t p\\_\\_Firmicutes\\_A     & c\\_\\_Clostridia    & o\\_\\_Lachnospirales     & f\\_\\_Lachnospiraceae     & g\\_\\_Lachnospira         & s\\_\\_Lachnospira eligens\\_B           & adult  &  7\\\\\n",
       "\t p\\_\\_Firmicutes\\_A     & c\\_\\_Clostridia    & o\\_\\_Oscillospirales    & f\\_\\_Ruminococcaceae     & g\\_\\_Ruminococcus\\_D      & s\\_\\_Ruminococcus\\_D bicirculans      & adult  &  6\\\\\n",
       "\t p\\_\\_Firmicutes\\_A     & c\\_\\_Clostridia    & o\\_\\_Oscillospirales    & f\\_\\_Acutalibacteraceae  & g\\_\\_Eubacterium\\_R       & s\\_\\_Eubacterium\\_R sp000436835       & adult  &  5\\\\\n",
       "\t p\\_\\_Firmicutes\\_A     & c\\_\\_Clostridia    & o\\_\\_Lachnospirales     & f\\_\\_Lachnospiraceae     & g\\_\\_Fusicatenibacter    & s\\_\\_Fusicatenibacter saccharivorans & adult  &  5\\\\\n",
       "\t p\\_\\_Bacteroidota     & c\\_\\_Bacteroidia   & o\\_\\_Bacteroidales      & f\\_\\_Bacteroidaceae      & g\\_\\_Bacteroides         & s\\_\\_Bacteroides ovatus              & adult  &  5\\\\\n",
       "\t p\\_\\_Firmicutes\\_A     & c\\_\\_Clostridia    & o\\_\\_Lachnospirales     & f\\_\\_Lachnospiraceae     & g\\_\\_Blautia\\_A           & s\\_\\_Blautia\\_A wexlerae              & adult  &  4\\\\\n",
       "\t p\\_\\_Firmicutes\\_A     & c\\_\\_Clostridia    & o\\_\\_Lachnospirales     & f\\_\\_Lachnospiraceae     & g\\_\\_Agathobacter        & s\\_\\_Agathobacter faecis             & adult  &  2\\\\\n",
       "\t p\\_\\_Bacteroidota     & c\\_\\_Bacteroidia   & o\\_\\_Bacteroidales      & f\\_\\_Bacteroidaceae      & g\\_\\_Bacteroides         & s\\_\\_Bacteroides caccae              & adult  &  2\\\\\n",
       "\t p\\_\\_Firmicutes       & c\\_\\_Bacilli       & o\\_\\_Erysipelotrichales & f\\_\\_Erysipelotrichaceae & g\\_\\_Holdemanella        & s\\_\\_Holdemanella biformis           & adult  &  2\\\\\n",
       "\t p\\_\\_Firmicutes\\_A     & c\\_\\_Clostridia    & o\\_\\_Oscillospirales    & f\\_\\_Ruminococcaceae     & g\\_\\_Ruminiclostridium\\_E & s\\_\\_Ruminiclostridium\\_E siraeum     & adult  &  1\\\\\n",
       "\t p\\_\\_Bacteroidota     & c\\_\\_Bacteroidia   & o\\_\\_Bacteroidales      & f\\_\\_Bacteroidaceae      & g\\_\\_Bacteroides         & s\\_\\_Bacteroides thetaiotaomicron    & adult  &  1\\\\\n",
       "\t p\\_\\_Firmicutes\\_A     & c\\_\\_Clostridia    & o\\_\\_Lachnospirales     & f\\_\\_Lachnospiraceae     & g\\_\\_Lachnospira         & s\\_\\_Lachnospira rogosae             & adult  &  1\\\\\n",
       "\t p\\_\\_Bacteroidota     & c\\_\\_Bacteroidia   & o\\_\\_Bacteroidales      & f\\_\\_Bacteroidaceae      & g\\_\\_Phocaeicola         & s\\_\\_Phocaeicola dorei               & adult  &  1\\\\\n",
       "\t p\\_\\_Bacteroidota     & c\\_\\_Bacteroidia   & o\\_\\_Bacteroidales      & f\\_\\_Bacteroidaceae      & g\\_\\_Prevotella          & s\\_\\_Prevotella copri                & infant & 42\\\\\n",
       "\t p\\_\\_Bacteroidota     & c\\_\\_Bacteroidia   & o\\_\\_Bacteroidales      & f\\_\\_Bacteroidaceae      & g\\_\\_Phocaeicola         & s\\_\\_Phocaeicola vulgatus            & infant & 18\\\\\n",
       "\t p\\_\\_Bacteroidota     & c\\_\\_Bacteroidia   & o\\_\\_Bacteroidales      & f\\_\\_Bacteroidaceae      & g\\_\\_Bacteroides         & s\\_\\_Bacteroides uniformis           & infant & 16\\\\\n",
       "\t p\\_\\_Actinobacteriota & c\\_\\_Actinomycetia & o\\_\\_Actinomycetales    & f\\_\\_Bifidobacteriaceae  & g\\_\\_Bifidobacterium     & s\\_\\_Bifidobacterium longum          & infant & 11\\\\\n",
       "\t p\\_\\_Bacteroidota     & c\\_\\_Bacteroidia   & o\\_\\_Bacteroidales      & f\\_\\_Bacteroidaceae      & g\\_\\_Bacteroides         & s\\_\\_Bacteroides ovatus              & infant &  5\\\\\n",
       "\t p\\_\\_Actinobacteriota & c\\_\\_Actinomycetia & o\\_\\_Actinomycetales    & f\\_\\_Bifidobacteriaceae  & g\\_\\_Bifidobacterium     & s\\_\\_Bifidobacterium bifidum         & infant &  4\\\\\n",
       "\t p\\_\\_Firmicutes\\_A     & c\\_\\_Clostridia    & o\\_\\_Lachnospirales     & f\\_\\_Lachnospiraceae     & g\\_\\_Blautia\\_A           & s\\_\\_Blautia\\_A wexlerae              & infant &  4\\\\\n",
       "\t p\\_\\_Bacteroidota     & c\\_\\_Bacteroidia   & o\\_\\_Bacteroidales      & f\\_\\_Bacteroidaceae      & g\\_\\_Phocaeicola         & s\\_\\_Phocaeicola dorei               & infant &  1\\\\\n",
       "\t p\\_\\_Firmicutes\\_A     & c\\_\\_Clostridia    & o\\_\\_Lachnospirales     & f\\_\\_Lachnospiraceae     & g\\_\\_Ruminococcus\\_B      & s\\_\\_Ruminococcus\\_B gnavus           & infant &  1\\\\\n",
       "\t p\\_\\_Bacteroidota     & c\\_\\_Bacteroidia   & o\\_\\_Bacteroidales      & f\\_\\_Bacteroidaceae      & g\\_\\_Bacteroides         & s\\_\\_Bacteroides thetaiotaomicron    & infant &  1\\\\\n",
       "\\end{tabular}\n"
      ],
      "text/markdown": [
       "\n",
       "A tidytable: 32 × 8\n",
       "\n",
       "| Phylum &lt;chr&gt; | Class &lt;chr&gt; | Order &lt;chr&gt; | Family &lt;chr&gt; | Genus &lt;chr&gt; | Species &lt;chr&gt; | age_group &lt;chr&gt; | n &lt;int&gt; |\n",
       "|---|---|---|---|---|---|---|---|\n",
       "| p__Bacteroidota     | c__Bacteroidia   | o__Bacteroidales      | f__Bacteroidaceae      | g__Prevotella          | s__Prevotella copri                | adult  | 42 |\n",
       "| p__Actinobacteriota | c__Actinomycetia | o__Actinomycetales    | f__Bifidobacteriaceae  | g__Bifidobacterium     | s__Bifidobacterium adolescentis    | adult  | 29 |\n",
       "| p__Firmicutes_A     | c__Clostridia    | o__Lachnospirales     | f__Lachnospiraceae     | g__Agathobacter        | s__Agathobacter rectalis           | adult  | 28 |\n",
       "| p__Firmicutes_A     | c__Clostridia    | o__Oscillospirales    | f__Acutalibacteraceae  | g__CAG-180             | s__CAG-180 sp000432435             | adult  | 18 |\n",
       "| p__Bacteroidota     | c__Bacteroidia   | o__Bacteroidales      | f__Bacteroidaceae      | g__Phocaeicola         | s__Phocaeicola vulgatus            | adult  | 18 |\n",
       "| p__Bacteroidota     | c__Bacteroidia   | o__Bacteroidales      | f__Bacteroidaceae      | g__Bacteroides         | s__Bacteroides uniformis           | adult  | 16 |\n",
       "| p__Bacteroidota     | c__Bacteroidia   | o__Bacteroidales      | f__Rikenellaceae       | g__Alistipes           | s__Alistipes putredinis            | adult  | 15 |\n",
       "| p__Actinobacteriota | c__Actinomycetia | o__Actinomycetales    | f__Bifidobacteriaceae  | g__Bifidobacterium     | s__Bifidobacterium longum          | adult  | 11 |\n",
       "| p__Firmicutes_A     | c__Clostridia    | o__Lachnospirales     | f__Lachnospiraceae     | g__Anaerostipes        | s__Anaerostipes hadrus             | adult  |  8 |\n",
       "| p__Firmicutes_A     | c__Clostridia    | o__Lachnospirales     | f__Lachnospiraceae     | g__Lachnospira         | s__Lachnospira eligens_B           | adult  |  7 |\n",
       "| p__Firmicutes_A     | c__Clostridia    | o__Oscillospirales    | f__Ruminococcaceae     | g__Ruminococcus_D      | s__Ruminococcus_D bicirculans      | adult  |  6 |\n",
       "| p__Firmicutes_A     | c__Clostridia    | o__Oscillospirales    | f__Acutalibacteraceae  | g__Eubacterium_R       | s__Eubacterium_R sp000436835       | adult  |  5 |\n",
       "| p__Firmicutes_A     | c__Clostridia    | o__Lachnospirales     | f__Lachnospiraceae     | g__Fusicatenibacter    | s__Fusicatenibacter saccharivorans | adult  |  5 |\n",
       "| p__Bacteroidota     | c__Bacteroidia   | o__Bacteroidales      | f__Bacteroidaceae      | g__Bacteroides         | s__Bacteroides ovatus              | adult  |  5 |\n",
       "| p__Firmicutes_A     | c__Clostridia    | o__Lachnospirales     | f__Lachnospiraceae     | g__Blautia_A           | s__Blautia_A wexlerae              | adult  |  4 |\n",
       "| p__Firmicutes_A     | c__Clostridia    | o__Lachnospirales     | f__Lachnospiraceae     | g__Agathobacter        | s__Agathobacter faecis             | adult  |  2 |\n",
       "| p__Bacteroidota     | c__Bacteroidia   | o__Bacteroidales      | f__Bacteroidaceae      | g__Bacteroides         | s__Bacteroides caccae              | adult  |  2 |\n",
       "| p__Firmicutes       | c__Bacilli       | o__Erysipelotrichales | f__Erysipelotrichaceae | g__Holdemanella        | s__Holdemanella biformis           | adult  |  2 |\n",
       "| p__Firmicutes_A     | c__Clostridia    | o__Oscillospirales    | f__Ruminococcaceae     | g__Ruminiclostridium_E | s__Ruminiclostridium_E siraeum     | adult  |  1 |\n",
       "| p__Bacteroidota     | c__Bacteroidia   | o__Bacteroidales      | f__Bacteroidaceae      | g__Bacteroides         | s__Bacteroides thetaiotaomicron    | adult  |  1 |\n",
       "| p__Firmicutes_A     | c__Clostridia    | o__Lachnospirales     | f__Lachnospiraceae     | g__Lachnospira         | s__Lachnospira rogosae             | adult  |  1 |\n",
       "| p__Bacteroidota     | c__Bacteroidia   | o__Bacteroidales      | f__Bacteroidaceae      | g__Phocaeicola         | s__Phocaeicola dorei               | adult  |  1 |\n",
       "| p__Bacteroidota     | c__Bacteroidia   | o__Bacteroidales      | f__Bacteroidaceae      | g__Prevotella          | s__Prevotella copri                | infant | 42 |\n",
       "| p__Bacteroidota     | c__Bacteroidia   | o__Bacteroidales      | f__Bacteroidaceae      | g__Phocaeicola         | s__Phocaeicola vulgatus            | infant | 18 |\n",
       "| p__Bacteroidota     | c__Bacteroidia   | o__Bacteroidales      | f__Bacteroidaceae      | g__Bacteroides         | s__Bacteroides uniformis           | infant | 16 |\n",
       "| p__Actinobacteriota | c__Actinomycetia | o__Actinomycetales    | f__Bifidobacteriaceae  | g__Bifidobacterium     | s__Bifidobacterium longum          | infant | 11 |\n",
       "| p__Bacteroidota     | c__Bacteroidia   | o__Bacteroidales      | f__Bacteroidaceae      | g__Bacteroides         | s__Bacteroides ovatus              | infant |  5 |\n",
       "| p__Actinobacteriota | c__Actinomycetia | o__Actinomycetales    | f__Bifidobacteriaceae  | g__Bifidobacterium     | s__Bifidobacterium bifidum         | infant |  4 |\n",
       "| p__Firmicutes_A     | c__Clostridia    | o__Lachnospirales     | f__Lachnospiraceae     | g__Blautia_A           | s__Blautia_A wexlerae              | infant |  4 |\n",
       "| p__Bacteroidota     | c__Bacteroidia   | o__Bacteroidales      | f__Bacteroidaceae      | g__Phocaeicola         | s__Phocaeicola dorei               | infant |  1 |\n",
       "| p__Firmicutes_A     | c__Clostridia    | o__Lachnospirales     | f__Lachnospiraceae     | g__Ruminococcus_B      | s__Ruminococcus_B gnavus           | infant |  1 |\n",
       "| p__Bacteroidota     | c__Bacteroidia   | o__Bacteroidales      | f__Bacteroidaceae      | g__Bacteroides         | s__Bacteroides thetaiotaomicron    | infant |  1 |\n",
       "\n"
      ],
      "text/plain": [
       "   Phylum              Class            Order                \n",
       "1  p__Bacteroidota     c__Bacteroidia   o__Bacteroidales     \n",
       "2  p__Actinobacteriota c__Actinomycetia o__Actinomycetales   \n",
       "3  p__Firmicutes_A     c__Clostridia    o__Lachnospirales    \n",
       "4  p__Firmicutes_A     c__Clostridia    o__Oscillospirales   \n",
       "5  p__Bacteroidota     c__Bacteroidia   o__Bacteroidales     \n",
       "6  p__Bacteroidota     c__Bacteroidia   o__Bacteroidales     \n",
       "7  p__Bacteroidota     c__Bacteroidia   o__Bacteroidales     \n",
       "8  p__Actinobacteriota c__Actinomycetia o__Actinomycetales   \n",
       "9  p__Firmicutes_A     c__Clostridia    o__Lachnospirales    \n",
       "10 p__Firmicutes_A     c__Clostridia    o__Lachnospirales    \n",
       "11 p__Firmicutes_A     c__Clostridia    o__Oscillospirales   \n",
       "12 p__Firmicutes_A     c__Clostridia    o__Oscillospirales   \n",
       "13 p__Firmicutes_A     c__Clostridia    o__Lachnospirales    \n",
       "14 p__Bacteroidota     c__Bacteroidia   o__Bacteroidales     \n",
       "15 p__Firmicutes_A     c__Clostridia    o__Lachnospirales    \n",
       "16 p__Firmicutes_A     c__Clostridia    o__Lachnospirales    \n",
       "17 p__Bacteroidota     c__Bacteroidia   o__Bacteroidales     \n",
       "18 p__Firmicutes       c__Bacilli       o__Erysipelotrichales\n",
       "19 p__Firmicutes_A     c__Clostridia    o__Oscillospirales   \n",
       "20 p__Bacteroidota     c__Bacteroidia   o__Bacteroidales     \n",
       "21 p__Firmicutes_A     c__Clostridia    o__Lachnospirales    \n",
       "22 p__Bacteroidota     c__Bacteroidia   o__Bacteroidales     \n",
       "23 p__Bacteroidota     c__Bacteroidia   o__Bacteroidales     \n",
       "24 p__Bacteroidota     c__Bacteroidia   o__Bacteroidales     \n",
       "25 p__Bacteroidota     c__Bacteroidia   o__Bacteroidales     \n",
       "26 p__Actinobacteriota c__Actinomycetia o__Actinomycetales   \n",
       "27 p__Bacteroidota     c__Bacteroidia   o__Bacteroidales     \n",
       "28 p__Actinobacteriota c__Actinomycetia o__Actinomycetales   \n",
       "29 p__Firmicutes_A     c__Clostridia    o__Lachnospirales    \n",
       "30 p__Bacteroidota     c__Bacteroidia   o__Bacteroidales     \n",
       "31 p__Firmicutes_A     c__Clostridia    o__Lachnospirales    \n",
       "32 p__Bacteroidota     c__Bacteroidia   o__Bacteroidales     \n",
       "   Family                 Genus                 \n",
       "1  f__Bacteroidaceae      g__Prevotella         \n",
       "2  f__Bifidobacteriaceae  g__Bifidobacterium    \n",
       "3  f__Lachnospiraceae     g__Agathobacter       \n",
       "4  f__Acutalibacteraceae  g__CAG-180            \n",
       "5  f__Bacteroidaceae      g__Phocaeicola        \n",
       "6  f__Bacteroidaceae      g__Bacteroides        \n",
       "7  f__Rikenellaceae       g__Alistipes          \n",
       "8  f__Bifidobacteriaceae  g__Bifidobacterium    \n",
       "9  f__Lachnospiraceae     g__Anaerostipes       \n",
       "10 f__Lachnospiraceae     g__Lachnospira        \n",
       "11 f__Ruminococcaceae     g__Ruminococcus_D     \n",
       "12 f__Acutalibacteraceae  g__Eubacterium_R      \n",
       "13 f__Lachnospiraceae     g__Fusicatenibacter   \n",
       "14 f__Bacteroidaceae      g__Bacteroides        \n",
       "15 f__Lachnospiraceae     g__Blautia_A          \n",
       "16 f__Lachnospiraceae     g__Agathobacter       \n",
       "17 f__Bacteroidaceae      g__Bacteroides        \n",
       "18 f__Erysipelotrichaceae g__Holdemanella       \n",
       "19 f__Ruminococcaceae     g__Ruminiclostridium_E\n",
       "20 f__Bacteroidaceae      g__Bacteroides        \n",
       "21 f__Lachnospiraceae     g__Lachnospira        \n",
       "22 f__Bacteroidaceae      g__Phocaeicola        \n",
       "23 f__Bacteroidaceae      g__Prevotella         \n",
       "24 f__Bacteroidaceae      g__Phocaeicola        \n",
       "25 f__Bacteroidaceae      g__Bacteroides        \n",
       "26 f__Bifidobacteriaceae  g__Bifidobacterium    \n",
       "27 f__Bacteroidaceae      g__Bacteroides        \n",
       "28 f__Bifidobacteriaceae  g__Bifidobacterium    \n",
       "29 f__Lachnospiraceae     g__Blautia_A          \n",
       "30 f__Bacteroidaceae      g__Phocaeicola        \n",
       "31 f__Lachnospiraceae     g__Ruminococcus_B     \n",
       "32 f__Bacteroidaceae      g__Bacteroides        \n",
       "   Species                            age_group n \n",
       "1  s__Prevotella copri                adult     42\n",
       "2  s__Bifidobacterium adolescentis    adult     29\n",
       "3  s__Agathobacter rectalis           adult     28\n",
       "4  s__CAG-180 sp000432435             adult     18\n",
       "5  s__Phocaeicola vulgatus            adult     18\n",
       "6  s__Bacteroides uniformis           adult     16\n",
       "7  s__Alistipes putredinis            adult     15\n",
       "8  s__Bifidobacterium longum          adult     11\n",
       "9  s__Anaerostipes hadrus             adult      8\n",
       "10 s__Lachnospira eligens_B           adult      7\n",
       "11 s__Ruminococcus_D bicirculans      adult      6\n",
       "12 s__Eubacterium_R sp000436835       adult      5\n",
       "13 s__Fusicatenibacter saccharivorans adult      5\n",
       "14 s__Bacteroides ovatus              adult      5\n",
       "15 s__Blautia_A wexlerae              adult      4\n",
       "16 s__Agathobacter faecis             adult      2\n",
       "17 s__Bacteroides caccae              adult      2\n",
       "18 s__Holdemanella biformis           adult      2\n",
       "19 s__Ruminiclostridium_E siraeum     adult      1\n",
       "20 s__Bacteroides thetaiotaomicron    adult      1\n",
       "21 s__Lachnospira rogosae             adult      1\n",
       "22 s__Phocaeicola dorei               adult      1\n",
       "23 s__Prevotella copri                infant    42\n",
       "24 s__Phocaeicola vulgatus            infant    18\n",
       "25 s__Bacteroides uniformis           infant    16\n",
       "26 s__Bifidobacterium longum          infant    11\n",
       "27 s__Bacteroides ovatus              infant     5\n",
       "28 s__Bifidobacterium bifidum         infant     4\n",
       "29 s__Blautia_A wexlerae              infant     4\n",
       "30 s__Phocaeicola dorei               infant     1\n",
       "31 s__Ruminococcus_B gnavus           infant     1\n",
       "32 s__Bacteroides thetaiotaomicron    infant     1"
      ]
     },
     "metadata": {},
     "output_type": "display_data"
    }
   ],
   "source": [
    "# by species\n",
    "df.dims(50)\n",
    "drep_f %>%\n",
    "    mutate.(taxonomy = paste(Phylum, Species, sep=';')) %>%\n",
    "    summarize.(n = n.(),\n",
    "               .by=c(Phylum, Class, Order, Family, Genus, Species, age_group)) %>%\n",
    "    arrange.(age_group, -n)\n",
    "df.dims()"
   ]
  },
  {
   "cell_type": "markdown",
   "metadata": {},
   "source": [
    "# sessionInfo"
   ]
  },
  {
   "cell_type": "code",
   "execution_count": 19,
   "metadata": {
    "ExecuteTime": {
     "end_time": "2022-02-02T11:49:40.786714Z",
     "start_time": "2022-02-02T11:49:40.701Z"
    }
   },
   "outputs": [
    {
     "data": {
      "text/plain": [
       "R version 4.1.1 (2021-08-10)\n",
       "Platform: x86_64-conda-linux-gnu (64-bit)\n",
       "Running under: Ubuntu 18.04.6 LTS\n",
       "\n",
       "Matrix products: default\n",
       "BLAS/LAPACK: /tmp/global2/nyoungblut/code/general/conda_envs/general-tidyverse/lib/libopenblasp-r0.3.18.so\n",
       "\n",
       "locale:\n",
       " [1] LC_CTYPE=en_US.UTF-8       LC_NUMERIC=C              \n",
       " [3] LC_TIME=en_US.UTF-8        LC_COLLATE=en_US.UTF-8    \n",
       " [5] LC_MONETARY=en_US.UTF-8    LC_MESSAGES=en_US.UTF-8   \n",
       " [7] LC_PAPER=en_US.UTF-8       LC_NAME=C                 \n",
       " [9] LC_ADDRESS=C               LC_TELEPHONE=C            \n",
       "[11] LC_MEASUREMENT=en_US.UTF-8 LC_IDENTIFICATION=C       \n",
       "\n",
       "attached base packages:\n",
       "[1] stats     graphics  grDevices utils     datasets  methods   base     \n",
       "\n",
       "other attached packages:\n",
       "[1] clustermq_0.8.95.2 LeyLabRMisc_0.2.1  tidytable_0.6.6    data.table_1.14.2 \n",
       "[5] ggplot2_3.3.5      tidyr_1.1.4        dplyr_1.0.7       \n",
       "\n",
       "loaded via a namespace (and not attached):\n",
       " [1] Rcpp_1.0.7       plyr_1.8.6       pillar_1.6.4     compiler_4.1.1  \n",
       " [5] base64enc_0.1-3  tools_4.1.1      digest_0.6.29    uuid_1.0-3      \n",
       " [9] jsonlite_1.7.2   evaluate_0.14    lifecycle_1.0.1  tibble_3.1.6    \n",
       "[13] gtable_0.3.0     pkgconfig_2.0.3  rlang_0.4.12     IRdisplay_1.1   \n",
       "[17] IRkernel_1.3     fastmap_1.1.0    stringr_1.4.0    repr_1.1.4      \n",
       "[21] withr_2.4.3      generics_0.1.1   vctrs_0.3.8      grid_4.1.1      \n",
       "[25] tidyselect_1.1.1 glue_1.6.0       R6_2.5.1         fansi_1.0.0     \n",
       "[29] pbdZMQ_0.3-6     purrr_0.3.4      magrittr_2.0.1   codetools_0.2-18\n",
       "[33] scales_1.1.1     ellipsis_0.3.2   htmltools_0.5.2  colorspace_2.0-2\n",
       "[37] utf8_1.2.2       stringi_1.7.6    munsell_0.5.0    crayon_1.4.2    "
      ]
     },
     "metadata": {},
     "output_type": "display_data"
    }
   ],
   "source": [
    "sessionInfo()"
   ]
  }
 ],
 "metadata": {
  "kernelspec": {
   "display_name": "R [conda env:general-tidyverse]",
   "language": "R",
   "name": "conda-env-general-tidyverse-r"
  },
  "language_info": {
   "codemirror_mode": "r",
   "file_extension": ".r",
   "mimetype": "text/x-r-source",
   "name": "R",
   "pygments_lexer": "r",
   "version": "4.1.1"
  },
  "notify_time": "30",
  "toc": {
   "base_numbering": 1,
   "nav_menu": {},
   "number_sections": true,
   "sideBar": true,
   "skip_h1_title": false,
   "title_cell": "Table of Contents",
   "title_sidebar": "Contents",
   "toc_cell": true,
   "toc_position": {},
   "toc_section_display": true,
   "toc_window_display": true
  }
 },
 "nbformat": 4,
 "nbformat_minor": 4
}
