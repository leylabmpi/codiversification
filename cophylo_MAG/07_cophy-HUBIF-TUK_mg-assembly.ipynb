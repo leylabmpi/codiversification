{
 "cells": [
  {
   "cell_type": "markdown",
   "metadata": {
    "toc": true
   },
   "source": [
    "<h1>Table of Contents<span class=\"tocSkip\"></span></h1>\n",
    "<div class=\"toc\"><ul class=\"toc-item\"><li><span><a href=\"#Goal\" data-toc-modified-id=\"Goal-1\"><span class=\"toc-item-num\">1&nbsp;&nbsp;</span>Goal</a></span></li><li><span><a href=\"#Var\" data-toc-modified-id=\"Var-2\"><span class=\"toc-item-num\">2&nbsp;&nbsp;</span>Var</a></span></li><li><span><a href=\"#Init\" data-toc-modified-id=\"Init-3\"><span class=\"toc-item-num\">3&nbsp;&nbsp;</span>Init</a></span></li><li><span><a href=\"#Load\" data-toc-modified-id=\"Load-4\"><span class=\"toc-item-num\">4&nbsp;&nbsp;</span>Load</a></span></li><li><span><a href=\"#LLG-summary\" data-toc-modified-id=\"LLG-summary-5\"><span class=\"toc-item-num\">5&nbsp;&nbsp;</span>LLG summary</a></span><ul class=\"toc-item\"><li><span><a href=\"#Checks\" data-toc-modified-id=\"Checks-5.1\"><span class=\"toc-item-num\">5.1&nbsp;&nbsp;</span>Checks</a></span></li><li><span><a href=\"#Joining\" data-toc-modified-id=\"Joining-5.2\"><span class=\"toc-item-num\">5.2&nbsp;&nbsp;</span>Joining</a></span><ul class=\"toc-item\"><li><ul class=\"toc-item\"><li><span><a href=\"#Writing-table\" data-toc-modified-id=\"Writing-table-5.2.0.1\"><span class=\"toc-item-num\">5.2.0.1&nbsp;&nbsp;</span>Writing table</a></span></li><li><span><a href=\"#Writing-table\" data-toc-modified-id=\"Writing-table-5.2.0.2\"><span class=\"toc-item-num\">5.2.0.2&nbsp;&nbsp;</span>Writing table</a></span></li></ul></li></ul></li></ul></li><li><span><a href=\"#target-species\" data-toc-modified-id=\"target-species-6\"><span class=\"toc-item-num\">6&nbsp;&nbsp;</span>target species</a></span><ul class=\"toc-item\"><li><ul class=\"toc-item\"><li><span><a href=\"#Summary\" data-toc-modified-id=\"Summary-6.0.1\"><span class=\"toc-item-num\">6.0.1&nbsp;&nbsp;</span>Summary</a></span></li></ul></li></ul></li><li><span><a href=\"#sessionInfo\" data-toc-modified-id=\"sessionInfo-7\"><span class=\"toc-item-num\">7&nbsp;&nbsp;</span>sessionInfo</a></span></li></ul></div>"
   ]
  },
  {
   "cell_type": "markdown",
   "metadata": {},
   "source": [
    "# Goal\n",
    "\n",
    "* Summarize Liam's metagenome assembly of the `cophylo` metagenome dataset"
   ]
  },
  {
   "cell_type": "markdown",
   "metadata": {},
   "source": [
    "# Var"
   ]
  },
  {
   "cell_type": "code",
   "execution_count": 3,
   "metadata": {
    "ExecuteTime": {
     "end_time": "2021-07-30T10:51:32.831971Z",
     "start_time": "2021-07-30T10:51:32.796Z"
    }
   },
   "outputs": [],
   "source": [
    "#work_dir = '/ebio/abt3_projects/HUBIF_metagenomics/data/pipelines/llg/cophyverttrans/evenetal2021/round1/llg_output/'\n",
    "\n",
    "# Liam's MAG summary files\n",
    "checkm_file = '/ebio/abt3_projects/HUBIF_metagenomics/data/pipelines/llg/cophyverttrans/batch2_clusters1-3/round1/llg_output/checkM/checkm_qa_summary.tsv'\n",
    "gtdbtk_file = '/ebio/abt3_projects/HUBIF_metagenomics/data/pipelines/llg/cophyverttrans/batch2_clusters1-3/round3/llg_output/gtdbtk/gtdbtk_summary_wTaxid.tsv'\n",
    "drep_cdb_file = '/ebio/abt3_projects/HUBIF_metagenomics/data/pipelines/llg/cophyverttrans/batch2_clusters1-3/round2/llg_output/drep/drep/data_tables/Cdb.csv'\n",
    "genomes_file = '/ebio/abt3_projects/HUBIF_metagenomics/data/pipelines/llg/cophyverttrans/batch2_clusters1-3/round1/llg_output/drep/dereplicated_genomes.tsv'\n",
    "\n",
    "# target cophylogeny species\n",
    "cophy_dir = '/ebio/abt3_projects/HUBIF_metagenomics/data/pipelines/llg/cophyverttrans/batch2_clusters1-3/round6/'\n",
    "cophylo_adult_spec_file = file.path(cophy_dir, 'cophylo_species', 'AdultBetweenPop_species.tsv')\n",
    "cophylo_infant_spec_file = file.path(cophy_dir, 'cophylo_species', 'InfantResults_species.txt')\n",
    "\n",
    "# params\n",
    "threads = 4"
   ]
  },
  {
   "cell_type": "markdown",
   "metadata": {},
   "source": [
    "# Init"
   ]
  },
  {
   "cell_type": "code",
   "execution_count": 4,
   "metadata": {
    "ExecuteTime": {
     "end_time": "2021-07-30T10:51:33.205596Z",
     "start_time": "2021-07-30T10:51:33.178Z"
    }
   },
   "outputs": [],
   "source": [
    "library(dplyr)\n",
    "library(tidyr)\n",
    "library(ggplot2)\n",
    "library(data.table)\n",
    "library(tidytable)\n",
    "library(LeyLabRMisc)"
   ]
  },
  {
   "cell_type": "code",
   "execution_count": 5,
   "metadata": {
    "ExecuteTime": {
     "end_time": "2021-07-30T10:51:33.857336Z",
     "start_time": "2021-07-30T10:51:33.835Z"
    }
   },
   "outputs": [],
   "source": [
    "df.dims()\n",
    "setDTthreads(threads)"
   ]
  },
  {
   "cell_type": "markdown",
   "metadata": {},
   "source": [
    "# Load"
   ]
  },
  {
   "cell_type": "code",
   "execution_count": 6,
   "metadata": {
    "ExecuteTime": {
     "end_time": "2021-07-30T10:51:36.036886Z",
     "start_time": "2021-07-30T10:51:35.953Z"
    }
   },
   "outputs": [
    {
     "data": {
      "text/html": [
       "<table class=\"dataframe\">\n",
       "<caption>A tidytable: 67 × 12</caption>\n",
       "<thead>\n",
       "\t<tr><th scope=col>ncbi_taxonomy</th><th scope=col>gtdb_taxonomy</th><th scope=col>lca_frac</th><th scope=col>target_tax_level</th><th scope=col>age_group</th><th scope=col>Domain</th><th scope=col>Phylum</th><th scope=col>Class</th><th scope=col>Order</th><th scope=col>Family</th><th scope=col>Genus</th><th scope=col>Species</th></tr>\n",
       "\t<tr><th scope=col>&lt;chr&gt;</th><th scope=col>&lt;chr&gt;</th><th scope=col>&lt;dbl&gt;</th><th scope=col>&lt;chr&gt;</th><th scope=col>&lt;chr&gt;</th><th scope=col>&lt;chr&gt;</th><th scope=col>&lt;chr&gt;</th><th scope=col>&lt;chr&gt;</th><th scope=col>&lt;chr&gt;</th><th scope=col>&lt;chr&gt;</th><th scope=col>&lt;chr&gt;</th><th scope=col>&lt;chr&gt;</th></tr>\n",
       "</thead>\n",
       "<tbody>\n",
       "\t<tr><td>s__Catenibacterium_mitsuokai</td><td>s__Catenibacterium mitsuokai</td><td>1</td><td>species</td><td>adult</td><td>d__bacteria</td><td>p__firmicutes  </td><td>c__bacilli   </td><td>o__erysipelotrichales</td><td>f__erysipelatoclostridiaceae</td><td>g__catenibacterium</td><td>catenibacterium mitsuokai</td></tr>\n",
       "\t<tr><td>s__Eubacterium_sp_CAG_251   </td><td>s__Eubacterium_R sp000436835</td><td>1</td><td>species</td><td>adult</td><td>d__Bacteria</td><td>p__Firmicutes_A</td><td>c__Clostridia</td><td>o__Oscillospirales   </td><td>f__Acutalibacteraceae       </td><td>g__Eubacterium_R  </td><td>Eubacterium_R sp000436835</td></tr>\n",
       "\t<tr><td>⋮</td><td>⋮</td><td>⋮</td><td>⋮</td><td>⋮</td><td>⋮</td><td>⋮</td><td>⋮</td><td>⋮</td><td>⋮</td><td>⋮</td><td>⋮</td></tr>\n",
       "\t<tr><td>s__Escherichia_coli        </td><td>g__Escherichia  </td><td>0.99</td><td>genus</td><td>infant</td><td>d__bacteria</td><td>p__proteobacteria</td><td>c__gammaproteobacteria</td><td>o__enterobacterales</td><td>f__enterobacteriaceae</td><td>g__escherichia  </td><td>NA</td></tr>\n",
       "\t<tr><td>s__Streptococcus_salivarius</td><td>g__Streptococcus</td><td>1.00</td><td>genus</td><td>infant</td><td>d__bacteria</td><td>p__firmicutes    </td><td>c__bacilli            </td><td>o__lactobacillales </td><td>f__streptococcaceae  </td><td>g__streptococcus</td><td>NA</td></tr>\n",
       "</tbody>\n",
       "</table>\n"
      ],
      "text/latex": [
       "A tidytable: 67 × 12\n",
       "\\begin{tabular}{llllllllllll}\n",
       " ncbi\\_taxonomy & gtdb\\_taxonomy & lca\\_frac & target\\_tax\\_level & age\\_group & Domain & Phylum & Class & Order & Family & Genus & Species\\\\\n",
       " <chr> & <chr> & <dbl> & <chr> & <chr> & <chr> & <chr> & <chr> & <chr> & <chr> & <chr> & <chr>\\\\\n",
       "\\hline\n",
       "\t s\\_\\_Catenibacterium\\_mitsuokai & s\\_\\_Catenibacterium mitsuokai & 1 & species & adult & d\\_\\_bacteria & p\\_\\_firmicutes   & c\\_\\_bacilli    & o\\_\\_erysipelotrichales & f\\_\\_erysipelatoclostridiaceae & g\\_\\_catenibacterium & catenibacterium mitsuokai\\\\\n",
       "\t s\\_\\_Eubacterium\\_sp\\_CAG\\_251    & s\\_\\_Eubacterium\\_R sp000436835 & 1 & species & adult & d\\_\\_Bacteria & p\\_\\_Firmicutes\\_A & c\\_\\_Clostridia & o\\_\\_Oscillospirales    & f\\_\\_Acutalibacteraceae        & g\\_\\_Eubacterium\\_R   & Eubacterium\\_R sp000436835\\\\\n",
       "\t ⋮ & ⋮ & ⋮ & ⋮ & ⋮ & ⋮ & ⋮ & ⋮ & ⋮ & ⋮ & ⋮ & ⋮\\\\\n",
       "\t s\\_\\_Escherichia\\_coli         & g\\_\\_Escherichia   & 0.99 & genus & infant & d\\_\\_bacteria & p\\_\\_proteobacteria & c\\_\\_gammaproteobacteria & o\\_\\_enterobacterales & f\\_\\_enterobacteriaceae & g\\_\\_escherichia   & NA\\\\\n",
       "\t s\\_\\_Streptococcus\\_salivarius & g\\_\\_Streptococcus & 1.00 & genus & infant & d\\_\\_bacteria & p\\_\\_firmicutes     & c\\_\\_bacilli             & o\\_\\_lactobacillales  & f\\_\\_streptococcaceae   & g\\_\\_streptococcus & NA\\\\\n",
       "\\end{tabular}\n"
      ],
      "text/markdown": [
       "\n",
       "A tidytable: 67 × 12\n",
       "\n",
       "| ncbi_taxonomy &lt;chr&gt; | gtdb_taxonomy &lt;chr&gt; | lca_frac &lt;dbl&gt; | target_tax_level &lt;chr&gt; | age_group &lt;chr&gt; | Domain &lt;chr&gt; | Phylum &lt;chr&gt; | Class &lt;chr&gt; | Order &lt;chr&gt; | Family &lt;chr&gt; | Genus &lt;chr&gt; | Species &lt;chr&gt; |\n",
       "|---|---|---|---|---|---|---|---|---|---|---|---|\n",
       "| s__Catenibacterium_mitsuokai | s__Catenibacterium mitsuokai | 1 | species | adult | d__bacteria | p__firmicutes   | c__bacilli    | o__erysipelotrichales | f__erysipelatoclostridiaceae | g__catenibacterium | catenibacterium mitsuokai |\n",
       "| s__Eubacterium_sp_CAG_251    | s__Eubacterium_R sp000436835 | 1 | species | adult | d__Bacteria | p__Firmicutes_A | c__Clostridia | o__Oscillospirales    | f__Acutalibacteraceae        | g__Eubacterium_R   | Eubacterium_R sp000436835 |\n",
       "| ⋮ | ⋮ | ⋮ | ⋮ | ⋮ | ⋮ | ⋮ | ⋮ | ⋮ | ⋮ | ⋮ | ⋮ |\n",
       "| s__Escherichia_coli         | g__Escherichia   | 0.99 | genus | infant | d__bacteria | p__proteobacteria | c__gammaproteobacteria | o__enterobacterales | f__enterobacteriaceae | g__escherichia   | NA |\n",
       "| s__Streptococcus_salivarius | g__Streptococcus | 1.00 | genus | infant | d__bacteria | p__firmicutes     | c__bacilli             | o__lactobacillales  | f__streptococcaceae   | g__streptococcus | NA |\n",
       "\n"
      ],
      "text/plain": [
       "   ncbi_taxonomy                gtdb_taxonomy                lca_frac\n",
       "1  s__Catenibacterium_mitsuokai s__Catenibacterium mitsuokai 1       \n",
       "2  s__Eubacterium_sp_CAG_251    s__Eubacterium_R sp000436835 1       \n",
       "⋮  ⋮                            ⋮                            ⋮       \n",
       "66 s__Escherichia_coli          g__Escherichia               0.99    \n",
       "67 s__Streptococcus_salivarius  g__Streptococcus             1.00    \n",
       "   target_tax_level age_group Domain      Phylum           \n",
       "1  species          adult     d__bacteria p__firmicutes    \n",
       "2  species          adult     d__Bacteria p__Firmicutes_A  \n",
       "⋮  ⋮                ⋮         ⋮           ⋮                \n",
       "66 genus            infant    d__bacteria p__proteobacteria\n",
       "67 genus            infant    d__bacteria p__firmicutes    \n",
       "   Class                  Order                 Family                      \n",
       "1  c__bacilli             o__erysipelotrichales f__erysipelatoclostridiaceae\n",
       "2  c__Clostridia          o__Oscillospirales    f__Acutalibacteraceae       \n",
       "⋮  ⋮                      ⋮                     ⋮                           \n",
       "66 c__gammaproteobacteria o__enterobacterales   f__enterobacteriaceae       \n",
       "67 c__bacilli             o__lactobacillales    f__streptococcaceae         \n",
       "   Genus              Species                  \n",
       "1  g__catenibacterium catenibacterium mitsuokai\n",
       "2  g__Eubacterium_R   Eubacterium_R sp000436835\n",
       "⋮  ⋮                  ⋮                        \n",
       "66 g__escherichia     NA                       \n",
       "67 g__streptococcus   NA                       "
      ]
     },
     "metadata": {},
     "output_type": "display_data"
    }
   ],
   "source": [
    "# species\n",
    "cophylo_spec = list(\n",
    "    Fread(cophylo_adult_spec_file) %>%\n",
    "        mutate.(age_group = 'adult'),\n",
    "    Fread(cophylo_infant_spec_file) %>%\n",
    "        mutate.(age_group = 'infant')\n",
    "    ) %>%\n",
    "    rbindlist(use.names=TRUE) %>%\n",
    "    separate.(lineage, taxonomy_levels(), sep=';') %>%\n",
    "    mutate.(Species = gsub('^s__', '', Species))\n",
    "cophylo_spec"
   ]
  },
  {
   "cell_type": "markdown",
   "metadata": {},
   "source": [
    "# LLG summary\n",
    "\n",
    "* Summary of MAG QC & dRep"
   ]
  },
  {
   "cell_type": "code",
   "execution_count": 7,
   "metadata": {
    "ExecuteTime": {
     "end_time": "2021-07-30T10:51:48.468633Z",
     "start_time": "2021-07-30T10:51:48.350Z"
    }
   },
   "outputs": [
    {
     "name": "stdout",
     "output_type": "stream",
     "text": [
      "No. of unique MAGs: 7672 \n"
     ]
    },
    {
     "data": {
      "text/html": [
       "<table class=\"dataframe\">\n",
       "<caption>A tidytable: 7672 × 33</caption>\n",
       "<thead>\n",
       "\t<tr><th scope=col>Bin.Id</th><th scope=col>Marker.lineage</th><th scope=col>X..genomes</th><th scope=col>X..markers</th><th scope=col>X..marker.sets</th><th scope=col>Completeness</th><th scope=col>Contamination</th><th scope=col>Strain.heterogeneity</th><th scope=col>Genome.size..bp.</th><th scope=col>X..ambiguous.bases</th><th scope=col>⋯</th><th scope=col>X0</th><th scope=col>X1</th><th scope=col>X2</th><th scope=col>X3</th><th scope=col>X4</th><th scope=col>X5.</th><th scope=col>assembly.Id</th><th scope=col>assembler.Id</th><th scope=col>taxon.Id</th><th scope=col>File</th></tr>\n",
       "\t<tr><th scope=col>&lt;chr&gt;</th><th scope=col>&lt;chr&gt;</th><th scope=col>&lt;int&gt;</th><th scope=col>&lt;int&gt;</th><th scope=col>&lt;int&gt;</th><th scope=col>&lt;dbl&gt;</th><th scope=col>&lt;dbl&gt;</th><th scope=col>&lt;dbl&gt;</th><th scope=col>&lt;int&gt;</th><th scope=col>&lt;int&gt;</th><th scope=col>⋯</th><th scope=col>&lt;int&gt;</th><th scope=col>&lt;int&gt;</th><th scope=col>&lt;int&gt;</th><th scope=col>&lt;int&gt;</th><th scope=col>&lt;int&gt;</th><th scope=col>&lt;int&gt;</th><th scope=col>&lt;chr&gt;</th><th scope=col>&lt;chr&gt;</th><th scope=col>&lt;lgl&gt;</th><th scope=col>&lt;chr&gt;</th></tr>\n",
       "</thead>\n",
       "<tbody>\n",
       "\t<tr><td>G0004__maxbin2__Med_015_sub</td><td>p__Bacteroidetes (UID2605)</td><td>350</td><td>314</td><td>208</td><td>76.84</td><td>0.71</td><td>100</td><td>2291216</td><td>0</td><td>⋯</td><td>82</td><td>226</td><td>6</td><td>0</td><td>0</td><td>0</td><td>|ebio|abt3_projects|HUBIF_metagenomics|data|pipelines|llg|cophyverttrans|batch2_clusters1-3|round1|llg_output|checkM|1|checkm|markers_qa_summary.tsv.1</td><td>markers_qa_summary.tsv.1</td><td>NA</td><td>/ebio/abt3_projects/HUBIF_metagenomics/data/pipelines/llg/cophyverttrans/batch2_clusters1-3/round1/llg_output/checkM/1/checkm/markers_qa_summary.tsv.1</td></tr>\n",
       "\t<tr><td>G0004__maxbin2__Med_024    </td><td>o__Clostridiales (UID1212)</td><td>172</td><td>263</td><td>149</td><td>85.55</td><td>0.04</td><td> 50</td><td>2239502</td><td>0</td><td>⋯</td><td>31</td><td>230</td><td>2</td><td>0</td><td>0</td><td>0</td><td>|ebio|abt3_projects|HUBIF_metagenomics|data|pipelines|llg|cophyverttrans|batch2_clusters1-3|round1|llg_output|checkM|1|checkm|markers_qa_summary.tsv.2</td><td>markers_qa_summary.tsv.2</td><td>NA</td><td>/ebio/abt3_projects/HUBIF_metagenomics/data/pipelines/llg/cophyverttrans/batch2_clusters1-3/round1/llg_output/checkM/1/checkm/markers_qa_summary.tsv.2</td></tr>\n",
       "\t<tr><td>⋮</td><td>⋮</td><td>⋮</td><td>⋮</td><td>⋮</td><td>⋮</td><td>⋮</td><td>⋮</td><td>⋮</td><td>⋮</td><td>⋱</td><td>⋮</td><td>⋮</td><td>⋮</td><td>⋮</td><td>⋮</td><td>⋮</td><td>⋮</td><td>⋮</td><td>⋮</td><td>⋮</td></tr>\n",
       "\t<tr><td>V438__metabat2__High_014     </td><td>o__Selenomonadales (UID1024)</td><td> 64</td><td>334</td><td>167</td><td>91.07</td><td>3.71</td><td>40.0</td><td>1933196</td><td>0</td><td>⋯</td><td> 30</td><td>294</td><td>10</td><td>0</td><td>0</td><td>0</td><td>|ebio|abt3_projects|HUBIF_metagenomics|data|pipelines|llg|cophyverttrans|batch2_clusters1-3|round1|llg_output|checkM|4|checkm|markers_qa_summary.tsv.1917</td><td>markers_qa_summary.tsv.1917</td><td>NA</td><td>/ebio/abt3_projects/HUBIF_metagenomics/data/pipelines/llg/cophyverttrans/batch2_clusters1-3/round1/llg_output/checkM/4/checkm/markers_qa_summary.tsv.1917</td></tr>\n",
       "\t<tr><td>V438__metabat2__HighNoCov_003</td><td>o__Clostridiales (UID1212)  </td><td>172</td><td>261</td><td>147</td><td>55.16</td><td>4.10</td><td>87.5</td><td>1435769</td><td>0</td><td>⋯</td><td>119</td><td>136</td><td> 5</td><td>1</td><td>0</td><td>0</td><td>|ebio|abt3_projects|HUBIF_metagenomics|data|pipelines|llg|cophyverttrans|batch2_clusters1-3|round1|llg_output|checkM|4|checkm|markers_qa_summary.tsv.1918</td><td>markers_qa_summary.tsv.1918</td><td>NA</td><td>/ebio/abt3_projects/HUBIF_metagenomics/data/pipelines/llg/cophyverttrans/batch2_clusters1-3/round1/llg_output/checkM/4/checkm/markers_qa_summary.tsv.1918</td></tr>\n",
       "</tbody>\n",
       "</table>\n"
      ],
      "text/latex": [
       "A tidytable: 7672 × 33\n",
       "\\begin{tabular}{lllllllllllllllllllll}\n",
       " Bin.Id & Marker.lineage & X..genomes & X..markers & X..marker.sets & Completeness & Contamination & Strain.heterogeneity & Genome.size..bp. & X..ambiguous.bases & ⋯ & X0 & X1 & X2 & X3 & X4 & X5. & assembly.Id & assembler.Id & taxon.Id & File\\\\\n",
       " <chr> & <chr> & <int> & <int> & <int> & <dbl> & <dbl> & <dbl> & <int> & <int> & ⋯ & <int> & <int> & <int> & <int> & <int> & <int> & <chr> & <chr> & <lgl> & <chr>\\\\\n",
       "\\hline\n",
       "\t G0004\\_\\_maxbin2\\_\\_Med\\_015\\_sub & p\\_\\_Bacteroidetes (UID2605) & 350 & 314 & 208 & 76.84 & 0.71 & 100 & 2291216 & 0 & ⋯ & 82 & 226 & 6 & 0 & 0 & 0 & \\textbar{}ebio\\textbar{}abt3\\_projects\\textbar{}HUBIF\\_metagenomics\\textbar{}data\\textbar{}pipelines\\textbar{}llg\\textbar{}cophyverttrans\\textbar{}batch2\\_clusters1-3\\textbar{}round1\\textbar{}llg\\_output\\textbar{}checkM\\textbar{}1\\textbar{}checkm\\textbar{}markers\\_qa\\_summary.tsv.1 & markers\\_qa\\_summary.tsv.1 & NA & /ebio/abt3\\_projects/HUBIF\\_metagenomics/data/pipelines/llg/cophyverttrans/batch2\\_clusters1-3/round1/llg\\_output/checkM/1/checkm/markers\\_qa\\_summary.tsv.1\\\\\n",
       "\t G0004\\_\\_maxbin2\\_\\_Med\\_024     & o\\_\\_Clostridiales (UID1212) & 172 & 263 & 149 & 85.55 & 0.04 &  50 & 2239502 & 0 & ⋯ & 31 & 230 & 2 & 0 & 0 & 0 & \\textbar{}ebio\\textbar{}abt3\\_projects\\textbar{}HUBIF\\_metagenomics\\textbar{}data\\textbar{}pipelines\\textbar{}llg\\textbar{}cophyverttrans\\textbar{}batch2\\_clusters1-3\\textbar{}round1\\textbar{}llg\\_output\\textbar{}checkM\\textbar{}1\\textbar{}checkm\\textbar{}markers\\_qa\\_summary.tsv.2 & markers\\_qa\\_summary.tsv.2 & NA & /ebio/abt3\\_projects/HUBIF\\_metagenomics/data/pipelines/llg/cophyverttrans/batch2\\_clusters1-3/round1/llg\\_output/checkM/1/checkm/markers\\_qa\\_summary.tsv.2\\\\\n",
       "\t ⋮ & ⋮ & ⋮ & ⋮ & ⋮ & ⋮ & ⋮ & ⋮ & ⋮ & ⋮ & ⋱ & ⋮ & ⋮ & ⋮ & ⋮ & ⋮ & ⋮ & ⋮ & ⋮ & ⋮ & ⋮\\\\\n",
       "\t V438\\_\\_metabat2\\_\\_High\\_014      & o\\_\\_Selenomonadales (UID1024) &  64 & 334 & 167 & 91.07 & 3.71 & 40.0 & 1933196 & 0 & ⋯ &  30 & 294 & 10 & 0 & 0 & 0 & \\textbar{}ebio\\textbar{}abt3\\_projects\\textbar{}HUBIF\\_metagenomics\\textbar{}data\\textbar{}pipelines\\textbar{}llg\\textbar{}cophyverttrans\\textbar{}batch2\\_clusters1-3\\textbar{}round1\\textbar{}llg\\_output\\textbar{}checkM\\textbar{}4\\textbar{}checkm\\textbar{}markers\\_qa\\_summary.tsv.1917 & markers\\_qa\\_summary.tsv.1917 & NA & /ebio/abt3\\_projects/HUBIF\\_metagenomics/data/pipelines/llg/cophyverttrans/batch2\\_clusters1-3/round1/llg\\_output/checkM/4/checkm/markers\\_qa\\_summary.tsv.1917\\\\\n",
       "\t V438\\_\\_metabat2\\_\\_HighNoCov\\_003 & o\\_\\_Clostridiales (UID1212)   & 172 & 261 & 147 & 55.16 & 4.10 & 87.5 & 1435769 & 0 & ⋯ & 119 & 136 &  5 & 1 & 0 & 0 & \\textbar{}ebio\\textbar{}abt3\\_projects\\textbar{}HUBIF\\_metagenomics\\textbar{}data\\textbar{}pipelines\\textbar{}llg\\textbar{}cophyverttrans\\textbar{}batch2\\_clusters1-3\\textbar{}round1\\textbar{}llg\\_output\\textbar{}checkM\\textbar{}4\\textbar{}checkm\\textbar{}markers\\_qa\\_summary.tsv.1918 & markers\\_qa\\_summary.tsv.1918 & NA & /ebio/abt3\\_projects/HUBIF\\_metagenomics/data/pipelines/llg/cophyverttrans/batch2\\_clusters1-3/round1/llg\\_output/checkM/4/checkm/markers\\_qa\\_summary.tsv.1918\\\\\n",
       "\\end{tabular}\n"
      ],
      "text/markdown": [
       "\n",
       "A tidytable: 7672 × 33\n",
       "\n",
       "| Bin.Id &lt;chr&gt; | Marker.lineage &lt;chr&gt; | X..genomes &lt;int&gt; | X..markers &lt;int&gt; | X..marker.sets &lt;int&gt; | Completeness &lt;dbl&gt; | Contamination &lt;dbl&gt; | Strain.heterogeneity &lt;dbl&gt; | Genome.size..bp. &lt;int&gt; | X..ambiguous.bases &lt;int&gt; | ⋯ ⋯ | X0 &lt;int&gt; | X1 &lt;int&gt; | X2 &lt;int&gt; | X3 &lt;int&gt; | X4 &lt;int&gt; | X5. &lt;int&gt; | assembly.Id &lt;chr&gt; | assembler.Id &lt;chr&gt; | taxon.Id &lt;lgl&gt; | File &lt;chr&gt; |\n",
       "|---|---|---|---|---|---|---|---|---|---|---|---|---|---|---|---|---|---|---|---|---|\n",
       "| G0004__maxbin2__Med_015_sub | p__Bacteroidetes (UID2605) | 350 | 314 | 208 | 76.84 | 0.71 | 100 | 2291216 | 0 | ⋯ | 82 | 226 | 6 | 0 | 0 | 0 | |ebio|abt3_projects|HUBIF_metagenomics|data|pipelines|llg|cophyverttrans|batch2_clusters1-3|round1|llg_output|checkM|1|checkm|markers_qa_summary.tsv.1 | markers_qa_summary.tsv.1 | NA | /ebio/abt3_projects/HUBIF_metagenomics/data/pipelines/llg/cophyverttrans/batch2_clusters1-3/round1/llg_output/checkM/1/checkm/markers_qa_summary.tsv.1 |\n",
       "| G0004__maxbin2__Med_024     | o__Clostridiales (UID1212) | 172 | 263 | 149 | 85.55 | 0.04 |  50 | 2239502 | 0 | ⋯ | 31 | 230 | 2 | 0 | 0 | 0 | |ebio|abt3_projects|HUBIF_metagenomics|data|pipelines|llg|cophyverttrans|batch2_clusters1-3|round1|llg_output|checkM|1|checkm|markers_qa_summary.tsv.2 | markers_qa_summary.tsv.2 | NA | /ebio/abt3_projects/HUBIF_metagenomics/data/pipelines/llg/cophyverttrans/batch2_clusters1-3/round1/llg_output/checkM/1/checkm/markers_qa_summary.tsv.2 |\n",
       "| ⋮ | ⋮ | ⋮ | ⋮ | ⋮ | ⋮ | ⋮ | ⋮ | ⋮ | ⋮ | ⋱ | ⋮ | ⋮ | ⋮ | ⋮ | ⋮ | ⋮ | ⋮ | ⋮ | ⋮ | ⋮ |\n",
       "| V438__metabat2__High_014      | o__Selenomonadales (UID1024) |  64 | 334 | 167 | 91.07 | 3.71 | 40.0 | 1933196 | 0 | ⋯ |  30 | 294 | 10 | 0 | 0 | 0 | |ebio|abt3_projects|HUBIF_metagenomics|data|pipelines|llg|cophyverttrans|batch2_clusters1-3|round1|llg_output|checkM|4|checkm|markers_qa_summary.tsv.1917 | markers_qa_summary.tsv.1917 | NA | /ebio/abt3_projects/HUBIF_metagenomics/data/pipelines/llg/cophyverttrans/batch2_clusters1-3/round1/llg_output/checkM/4/checkm/markers_qa_summary.tsv.1917 |\n",
       "| V438__metabat2__HighNoCov_003 | o__Clostridiales (UID1212)   | 172 | 261 | 147 | 55.16 | 4.10 | 87.5 | 1435769 | 0 | ⋯ | 119 | 136 |  5 | 1 | 0 | 0 | |ebio|abt3_projects|HUBIF_metagenomics|data|pipelines|llg|cophyverttrans|batch2_clusters1-3|round1|llg_output|checkM|4|checkm|markers_qa_summary.tsv.1918 | markers_qa_summary.tsv.1918 | NA | /ebio/abt3_projects/HUBIF_metagenomics/data/pipelines/llg/cophyverttrans/batch2_clusters1-3/round1/llg_output/checkM/4/checkm/markers_qa_summary.tsv.1918 |\n",
       "\n"
      ],
      "text/plain": [
       "     Bin.Id                        Marker.lineage               X..genomes\n",
       "1    G0004__maxbin2__Med_015_sub   p__Bacteroidetes (UID2605)   350       \n",
       "2    G0004__maxbin2__Med_024       o__Clostridiales (UID1212)   172       \n",
       "⋮    ⋮                             ⋮                            ⋮         \n",
       "7671 V438__metabat2__High_014      o__Selenomonadales (UID1024)  64       \n",
       "7672 V438__metabat2__HighNoCov_003 o__Clostridiales (UID1212)   172       \n",
       "     X..markers X..marker.sets Completeness Contamination Strain.heterogeneity\n",
       "1    314        208            76.84        0.71          100                 \n",
       "2    263        149            85.55        0.04           50                 \n",
       "⋮    ⋮          ⋮              ⋮            ⋮             ⋮                   \n",
       "7671 334        167            91.07        3.71          40.0                \n",
       "7672 261        147            55.16        4.10          87.5                \n",
       "     Genome.size..bp. X..ambiguous.bases ⋯ X0  X1  X2 X3 X4 X5.\n",
       "1    2291216          0                  ⋯ 82  226 6  0  0  0  \n",
       "2    2239502          0                  ⋯ 31  230 2  0  0  0  \n",
       "⋮    ⋮                ⋮                  ⋱ ⋮   ⋮   ⋮  ⋮  ⋮  ⋮  \n",
       "7671 1933196          0                  ⋯  30 294 10 0  0  0  \n",
       "7672 1435769          0                  ⋯ 119 136  5 1  0  0  \n",
       "     assembly.Id                                                                                                                                              \n",
       "1    |ebio|abt3_projects|HUBIF_metagenomics|data|pipelines|llg|cophyverttrans|batch2_clusters1-3|round1|llg_output|checkM|1|checkm|markers_qa_summary.tsv.1   \n",
       "2    |ebio|abt3_projects|HUBIF_metagenomics|data|pipelines|llg|cophyverttrans|batch2_clusters1-3|round1|llg_output|checkM|1|checkm|markers_qa_summary.tsv.2   \n",
       "⋮    ⋮                                                                                                                                                        \n",
       "7671 |ebio|abt3_projects|HUBIF_metagenomics|data|pipelines|llg|cophyverttrans|batch2_clusters1-3|round1|llg_output|checkM|4|checkm|markers_qa_summary.tsv.1917\n",
       "7672 |ebio|abt3_projects|HUBIF_metagenomics|data|pipelines|llg|cophyverttrans|batch2_clusters1-3|round1|llg_output|checkM|4|checkm|markers_qa_summary.tsv.1918\n",
       "     assembler.Id                taxon.Id\n",
       "1    markers_qa_summary.tsv.1    NA      \n",
       "2    markers_qa_summary.tsv.2    NA      \n",
       "⋮    ⋮                           ⋮       \n",
       "7671 markers_qa_summary.tsv.1917 NA      \n",
       "7672 markers_qa_summary.tsv.1918 NA      \n",
       "     File                                                                                                                                                     \n",
       "1    /ebio/abt3_projects/HUBIF_metagenomics/data/pipelines/llg/cophyverttrans/batch2_clusters1-3/round1/llg_output/checkM/1/checkm/markers_qa_summary.tsv.1   \n",
       "2    /ebio/abt3_projects/HUBIF_metagenomics/data/pipelines/llg/cophyverttrans/batch2_clusters1-3/round1/llg_output/checkM/1/checkm/markers_qa_summary.tsv.2   \n",
       "⋮    ⋮                                                                                                                                                        \n",
       "7671 /ebio/abt3_projects/HUBIF_metagenomics/data/pipelines/llg/cophyverttrans/batch2_clusters1-3/round1/llg_output/checkM/4/checkm/markers_qa_summary.tsv.1917\n",
       "7672 /ebio/abt3_projects/HUBIF_metagenomics/data/pipelines/llg/cophyverttrans/batch2_clusters1-3/round1/llg_output/checkM/4/checkm/markers_qa_summary.tsv.1918"
      ]
     },
     "metadata": {},
     "output_type": "display_data"
    }
   ],
   "source": [
    "# checkM output\n",
    "checkm = Fread(checkm_file) %>%\n",
    "    mutate.(Bin.Id = gsub('\\\\.', '_', Bin.Id))\n",
    "checkm$Bin.Id %>% unique_n('MAGs')\n",
    "checkm"
   ]
  },
  {
   "cell_type": "code",
   "execution_count": 23,
   "metadata": {
    "ExecuteTime": {
     "end_time": "2021-07-30T10:59:11.862627Z",
     "start_time": "2021-07-30T10:59:11.779Z"
    }
   },
   "outputs": [
    {
     "name": "stdout",
     "output_type": "stream",
     "text": [
      "No. of unique MAGs: 6234 \n",
      "No. of unique 1st clust: 585 \n",
      "No. of unique 2nd clust: 796 \n"
     ]
    },
    {
     "data": {
      "text/html": [
       "<table class=\"dataframe\">\n",
       "<caption>A tidytable: 6234 × 6</caption>\n",
       "<thead>\n",
       "\t<tr><th scope=col>genome</th><th scope=col>secondary_cluster</th><th scope=col>threshold</th><th scope=col>cluster_method</th><th scope=col>comparison_algorithm</th><th scope=col>primary_cluster</th></tr>\n",
       "\t<tr><th scope=col>&lt;chr&gt;</th><th scope=col>&lt;chr&gt;</th><th scope=col>&lt;dbl&gt;</th><th scope=col>&lt;chr&gt;</th><th scope=col>&lt;chr&gt;</th><th scope=col>&lt;int&gt;</th></tr>\n",
       "</thead>\n",
       "<tbody>\n",
       "\t<tr><td>G0030__maxbin2__High_033</td><td>1_1</td><td>0.05</td><td>average</td><td>fastANI</td><td>1</td></tr>\n",
       "\t<tr><td>G0051__maxbin2__High_031</td><td>1_1</td><td>0.05</td><td>average</td><td>fastANI</td><td>1</td></tr>\n",
       "\t<tr><td>⋮</td><td>⋮</td><td>⋮</td><td>⋮</td><td>⋮</td><td>⋮</td></tr>\n",
       "\t<tr><td>T126__maxbin2__High_017 </td><td>585_1</td><td>0.05</td><td>average</td><td>fastANI</td><td>585</td></tr>\n",
       "\t<tr><td>T173__metabat2__High_004</td><td>585_1</td><td>0.05</td><td>average</td><td>fastANI</td><td>585</td></tr>\n",
       "</tbody>\n",
       "</table>\n"
      ],
      "text/latex": [
       "A tidytable: 6234 × 6\n",
       "\\begin{tabular}{llllll}\n",
       " genome & secondary\\_cluster & threshold & cluster\\_method & comparison\\_algorithm & primary\\_cluster\\\\\n",
       " <chr> & <chr> & <dbl> & <chr> & <chr> & <int>\\\\\n",
       "\\hline\n",
       "\t G0030\\_\\_maxbin2\\_\\_High\\_033 & 1\\_1 & 0.05 & average & fastANI & 1\\\\\n",
       "\t G0051\\_\\_maxbin2\\_\\_High\\_031 & 1\\_1 & 0.05 & average & fastANI & 1\\\\\n",
       "\t ⋮ & ⋮ & ⋮ & ⋮ & ⋮ & ⋮\\\\\n",
       "\t T126\\_\\_maxbin2\\_\\_High\\_017  & 585\\_1 & 0.05 & average & fastANI & 585\\\\\n",
       "\t T173\\_\\_metabat2\\_\\_High\\_004 & 585\\_1 & 0.05 & average & fastANI & 585\\\\\n",
       "\\end{tabular}\n"
      ],
      "text/markdown": [
       "\n",
       "A tidytable: 6234 × 6\n",
       "\n",
       "| genome &lt;chr&gt; | secondary_cluster &lt;chr&gt; | threshold &lt;dbl&gt; | cluster_method &lt;chr&gt; | comparison_algorithm &lt;chr&gt; | primary_cluster &lt;int&gt; |\n",
       "|---|---|---|---|---|---|\n",
       "| G0030__maxbin2__High_033 | 1_1 | 0.05 | average | fastANI | 1 |\n",
       "| G0051__maxbin2__High_031 | 1_1 | 0.05 | average | fastANI | 1 |\n",
       "| ⋮ | ⋮ | ⋮ | ⋮ | ⋮ | ⋮ |\n",
       "| T126__maxbin2__High_017  | 585_1 | 0.05 | average | fastANI | 585 |\n",
       "| T173__metabat2__High_004 | 585_1 | 0.05 | average | fastANI | 585 |\n",
       "\n"
      ],
      "text/plain": [
       "     genome                   secondary_cluster threshold cluster_method\n",
       "1    G0030__maxbin2__High_033 1_1               0.05      average       \n",
       "2    G0051__maxbin2__High_031 1_1               0.05      average       \n",
       "⋮    ⋮                        ⋮                 ⋮         ⋮             \n",
       "6233 T126__maxbin2__High_017  585_1             0.05      average       \n",
       "6234 T173__metabat2__High_004 585_1             0.05      average       \n",
       "     comparison_algorithm primary_cluster\n",
       "1    fastANI              1              \n",
       "2    fastANI              1              \n",
       "⋮    ⋮                    ⋮              \n",
       "6233 fastANI              585            \n",
       "6234 fastANI              585            "
      ]
     },
     "metadata": {},
     "output_type": "display_data"
    }
   ],
   "source": [
    "# dRep clusters\n",
    "drep_cdb = Fread(drep_cdb_file, sep=',') %>%\n",
    "    mutate.(genome = gsub('\\\\.', '_', genome)) %>%\n",
    "    mutate.(genome = gsub('\\\\_fna$', '', genome))\n",
    "drep_cdb$genome %>% unique_n('MAGs')\n",
    "drep_cdb$primary_cluster %>% unique_n('1st clust')\n",
    "drep_cdb$secondary_cluster %>% unique_n('2nd clust')\n",
    "drep_cdb"
   ]
  },
  {
   "cell_type": "code",
   "execution_count": 19,
   "metadata": {
    "ExecuteTime": {
     "end_time": "2021-07-30T10:58:51.604370Z",
     "start_time": "2021-07-30T10:58:51.533Z"
    }
   },
   "outputs": [
    {
     "data": {
      "text/html": [
       "<table class=\"dataframe\">\n",
       "<caption>A tidytable: 796 × 8</caption>\n",
       "<thead>\n",
       "\t<tr><th scope=col>user_genome</th><th scope=col>Domain</th><th scope=col>Phylum</th><th scope=col>Class</th><th scope=col>Order</th><th scope=col>Family</th><th scope=col>Genus</th><th scope=col>Species</th></tr>\n",
       "\t<tr><th scope=col>&lt;chr&gt;</th><th scope=col>&lt;chr&gt;</th><th scope=col>&lt;chr&gt;</th><th scope=col>&lt;chr&gt;</th><th scope=col>&lt;chr&gt;</th><th scope=col>&lt;chr&gt;</th><th scope=col>&lt;chr&gt;</th><th scope=col>&lt;chr&gt;</th></tr>\n",
       "</thead>\n",
       "<tbody>\n",
       "\t<tr><td>G0023__maxbin2__Low_015 </td><td>d__Bacteria</td><td>p__Bacteroidota</td><td>c__Bacteroidia</td><td>o__Bacteroidales</td><td>f__Bacteroidaceae</td><td>g__Prevotella</td><td>s__Prevotella sp002251385</td></tr>\n",
       "\t<tr><td>G0028__metabat2__Med_016</td><td>d__Bacteria</td><td>p__Firmicutes  </td><td>c__Bacilli    </td><td>o__RF39         </td><td>f__CAG-1000      </td><td>g__CAG-460   </td><td>s__CAG-460 sp900544625   </td></tr>\n",
       "\t<tr><td>⋮</td><td>⋮</td><td>⋮</td><td>⋮</td><td>⋮</td><td>⋮</td><td>⋮</td><td>⋮</td></tr>\n",
       "\t<tr><td>G0327__metabat2__Med_023_sub</td><td>d__Archaea</td><td>p__Methanobacteriota</td><td>c__Methanobacteria</td><td>o__Methanobacteriales</td><td>f__Methanobacteriaceae</td><td>g__Methanobrevibacter_A</td><td>s__Methanobrevibacter_A smithii_A</td></tr>\n",
       "\t<tr><td>G0158__maxbin2__High_028    </td><td>d__Archaea</td><td>p__Methanobacteriota</td><td>c__Methanobacteria</td><td>o__Methanobacteriales</td><td>f__Methanobacteriaceae</td><td>g__Methanobrevibacter_A</td><td>s__Methanobrevibacter_A smithii  </td></tr>\n",
       "</tbody>\n",
       "</table>\n"
      ],
      "text/latex": [
       "A tidytable: 796 × 8\n",
       "\\begin{tabular}{llllllll}\n",
       " user\\_genome & Domain & Phylum & Class & Order & Family & Genus & Species\\\\\n",
       " <chr> & <chr> & <chr> & <chr> & <chr> & <chr> & <chr> & <chr>\\\\\n",
       "\\hline\n",
       "\t G0023\\_\\_maxbin2\\_\\_Low\\_015  & d\\_\\_Bacteria & p\\_\\_Bacteroidota & c\\_\\_Bacteroidia & o\\_\\_Bacteroidales & f\\_\\_Bacteroidaceae & g\\_\\_Prevotella & s\\_\\_Prevotella sp002251385\\\\\n",
       "\t G0028\\_\\_metabat2\\_\\_Med\\_016 & d\\_\\_Bacteria & p\\_\\_Firmicutes   & c\\_\\_Bacilli     & o\\_\\_RF39          & f\\_\\_CAG-1000       & g\\_\\_CAG-460    & s\\_\\_CAG-460 sp900544625   \\\\\n",
       "\t ⋮ & ⋮ & ⋮ & ⋮ & ⋮ & ⋮ & ⋮ & ⋮\\\\\n",
       "\t G0327\\_\\_metabat2\\_\\_Med\\_023\\_sub & d\\_\\_Archaea & p\\_\\_Methanobacteriota & c\\_\\_Methanobacteria & o\\_\\_Methanobacteriales & f\\_\\_Methanobacteriaceae & g\\_\\_Methanobrevibacter\\_A & s\\_\\_Methanobrevibacter\\_A smithii\\_A\\\\\n",
       "\t G0158\\_\\_maxbin2\\_\\_High\\_028     & d\\_\\_Archaea & p\\_\\_Methanobacteriota & c\\_\\_Methanobacteria & o\\_\\_Methanobacteriales & f\\_\\_Methanobacteriaceae & g\\_\\_Methanobrevibacter\\_A & s\\_\\_Methanobrevibacter\\_A smithii  \\\\\n",
       "\\end{tabular}\n"
      ],
      "text/markdown": [
       "\n",
       "A tidytable: 796 × 8\n",
       "\n",
       "| user_genome &lt;chr&gt; | Domain &lt;chr&gt; | Phylum &lt;chr&gt; | Class &lt;chr&gt; | Order &lt;chr&gt; | Family &lt;chr&gt; | Genus &lt;chr&gt; | Species &lt;chr&gt; |\n",
       "|---|---|---|---|---|---|---|---|\n",
       "| G0023__maxbin2__Low_015  | d__Bacteria | p__Bacteroidota | c__Bacteroidia | o__Bacteroidales | f__Bacteroidaceae | g__Prevotella | s__Prevotella sp002251385 |\n",
       "| G0028__metabat2__Med_016 | d__Bacteria | p__Firmicutes   | c__Bacilli     | o__RF39          | f__CAG-1000       | g__CAG-460    | s__CAG-460 sp900544625    |\n",
       "| ⋮ | ⋮ | ⋮ | ⋮ | ⋮ | ⋮ | ⋮ | ⋮ |\n",
       "| G0327__metabat2__Med_023_sub | d__Archaea | p__Methanobacteriota | c__Methanobacteria | o__Methanobacteriales | f__Methanobacteriaceae | g__Methanobrevibacter_A | s__Methanobrevibacter_A smithii_A |\n",
       "| G0158__maxbin2__High_028     | d__Archaea | p__Methanobacteriota | c__Methanobacteria | o__Methanobacteriales | f__Methanobacteriaceae | g__Methanobrevibacter_A | s__Methanobrevibacter_A smithii   |\n",
       "\n"
      ],
      "text/plain": [
       "    user_genome                  Domain      Phylum              \n",
       "1   G0023__maxbin2__Low_015      d__Bacteria p__Bacteroidota     \n",
       "2   G0028__metabat2__Med_016     d__Bacteria p__Firmicutes       \n",
       "⋮   ⋮                            ⋮           ⋮                   \n",
       "795 G0327__metabat2__Med_023_sub d__Archaea  p__Methanobacteriota\n",
       "796 G0158__maxbin2__High_028     d__Archaea  p__Methanobacteriota\n",
       "    Class              Order                 Family                \n",
       "1   c__Bacteroidia     o__Bacteroidales      f__Bacteroidaceae     \n",
       "2   c__Bacilli         o__RF39               f__CAG-1000           \n",
       "⋮   ⋮                  ⋮                     ⋮                     \n",
       "795 c__Methanobacteria o__Methanobacteriales f__Methanobacteriaceae\n",
       "796 c__Methanobacteria o__Methanobacteriales f__Methanobacteriaceae\n",
       "    Genus                   Species                          \n",
       "1   g__Prevotella           s__Prevotella sp002251385        \n",
       "2   g__CAG-460              s__CAG-460 sp900544625           \n",
       "⋮   ⋮                       ⋮                                \n",
       "795 g__Methanobrevibacter_A s__Methanobrevibacter_A smithii_A\n",
       "796 g__Methanobrevibacter_A s__Methanobrevibacter_A smithii  "
      ]
     },
     "metadata": {},
     "output_type": "display_data"
    }
   ],
   "source": [
    "# GTDB-Tk output\n",
    "tax = Fread(gtdbtk_file) %>%\n",
    "    mutate.(user_genome = gsub('\\\\.', '_', user_genome)) %>%\n",
    "    select.(user_genome, classification) %>%\n",
    "    separate.(classification, taxonomy_levels(), sep=';')\n",
    "tax"
   ]
  },
  {
   "cell_type": "code",
   "execution_count": 21,
   "metadata": {
    "ExecuteTime": {
     "end_time": "2021-07-30T10:59:02.170920Z",
     "start_time": "2021-07-30T10:59:02.108Z"
    }
   },
   "outputs": [
    {
     "data": {
      "text/html": [
       "<table class=\"dataframe\">\n",
       "<caption>A tidytable: 6234 × 2</caption>\n",
       "<thead>\n",
       "\t<tr><th scope=col>Name</th><th scope=col>Fasta</th></tr>\n",
       "\t<tr><th scope=col>&lt;chr&gt;</th><th scope=col>&lt;chr&gt;</th></tr>\n",
       "</thead>\n",
       "<tbody>\n",
       "\t<tr><td>G0030__maxbin2__High_033</td><td>/ebio/abt3_projects/HUBIF_metagenomics/data/pipelines/llg/cophyverttrans/batch2_clusters1-3/round1/llg_output/drep/drep/dereplicated_genomes/G0030__maxbin2__High.033.fna</td></tr>\n",
       "\t<tr><td>G0051__maxbin2__High_031</td><td>/ebio/abt3_projects/HUBIF_metagenomics/data/pipelines/llg/cophyverttrans/batch2_clusters1-3/round1/llg_output/drep/drep/dereplicated_genomes/G0051__maxbin2__High.031.fna</td></tr>\n",
       "\t<tr><td>⋮</td><td>⋮</td></tr>\n",
       "\t<tr><td>T126__maxbin2__High_017</td><td>/ebio/abt3_projects/HUBIF_metagenomics/data/pipelines/llg/cophyverttrans/batch2_clusters1-3/round1/llg_output/drep/drep/dereplicated_genomes/T126__maxbin2__High.017.fna</td></tr>\n",
       "\t<tr><td>G0006__maxbin2__Low_006</td><td>/ebio/abt3_projects/HUBIF_metagenomics/data/pipelines/llg/cophyverttrans/batch2_clusters1-3/round1/llg_output/drep/drep/dereplicated_genomes/G0006__maxbin2__Low.006.fna</td></tr>\n",
       "</tbody>\n",
       "</table>\n"
      ],
      "text/latex": [
       "A tidytable: 6234 × 2\n",
       "\\begin{tabular}{ll}\n",
       " Name & Fasta\\\\\n",
       " <chr> & <chr>\\\\\n",
       "\\hline\n",
       "\t G0030\\_\\_maxbin2\\_\\_High\\_033 & /ebio/abt3\\_projects/HUBIF\\_metagenomics/data/pipelines/llg/cophyverttrans/batch2\\_clusters1-3/round1/llg\\_output/drep/drep/dereplicated\\_genomes/G0030\\_\\_maxbin2\\_\\_High.033.fna\\\\\n",
       "\t G0051\\_\\_maxbin2\\_\\_High\\_031 & /ebio/abt3\\_projects/HUBIF\\_metagenomics/data/pipelines/llg/cophyverttrans/batch2\\_clusters1-3/round1/llg\\_output/drep/drep/dereplicated\\_genomes/G0051\\_\\_maxbin2\\_\\_High.031.fna\\\\\n",
       "\t ⋮ & ⋮\\\\\n",
       "\t T126\\_\\_maxbin2\\_\\_High\\_017 & /ebio/abt3\\_projects/HUBIF\\_metagenomics/data/pipelines/llg/cophyverttrans/batch2\\_clusters1-3/round1/llg\\_output/drep/drep/dereplicated\\_genomes/T126\\_\\_maxbin2\\_\\_High.017.fna\\\\\n",
       "\t G0006\\_\\_maxbin2\\_\\_Low\\_006 & /ebio/abt3\\_projects/HUBIF\\_metagenomics/data/pipelines/llg/cophyverttrans/batch2\\_clusters1-3/round1/llg\\_output/drep/drep/dereplicated\\_genomes/G0006\\_\\_maxbin2\\_\\_Low.006.fna\\\\\n",
       "\\end{tabular}\n"
      ],
      "text/markdown": [
       "\n",
       "A tidytable: 6234 × 2\n",
       "\n",
       "| Name &lt;chr&gt; | Fasta &lt;chr&gt; |\n",
       "|---|---|\n",
       "| G0030__maxbin2__High_033 | /ebio/abt3_projects/HUBIF_metagenomics/data/pipelines/llg/cophyverttrans/batch2_clusters1-3/round1/llg_output/drep/drep/dereplicated_genomes/G0030__maxbin2__High.033.fna |\n",
       "| G0051__maxbin2__High_031 | /ebio/abt3_projects/HUBIF_metagenomics/data/pipelines/llg/cophyverttrans/batch2_clusters1-3/round1/llg_output/drep/drep/dereplicated_genomes/G0051__maxbin2__High.031.fna |\n",
       "| ⋮ | ⋮ |\n",
       "| T126__maxbin2__High_017 | /ebio/abt3_projects/HUBIF_metagenomics/data/pipelines/llg/cophyverttrans/batch2_clusters1-3/round1/llg_output/drep/drep/dereplicated_genomes/T126__maxbin2__High.017.fna |\n",
       "| G0006__maxbin2__Low_006 | /ebio/abt3_projects/HUBIF_metagenomics/data/pipelines/llg/cophyverttrans/batch2_clusters1-3/round1/llg_output/drep/drep/dereplicated_genomes/G0006__maxbin2__Low.006.fna |\n",
       "\n"
      ],
      "text/plain": [
       "     Name                    \n",
       "1    G0030__maxbin2__High_033\n",
       "2    G0051__maxbin2__High_031\n",
       "⋮    ⋮                       \n",
       "6233 T126__maxbin2__High_017 \n",
       "6234 G0006__maxbin2__Low_006 \n",
       "     Fasta                                                                                                                                                                    \n",
       "1    /ebio/abt3_projects/HUBIF_metagenomics/data/pipelines/llg/cophyverttrans/batch2_clusters1-3/round1/llg_output/drep/drep/dereplicated_genomes/G0030__maxbin2__High.033.fna\n",
       "2    /ebio/abt3_projects/HUBIF_metagenomics/data/pipelines/llg/cophyverttrans/batch2_clusters1-3/round1/llg_output/drep/drep/dereplicated_genomes/G0051__maxbin2__High.031.fna\n",
       "⋮    ⋮                                                                                                                                                                        \n",
       "6233 /ebio/abt3_projects/HUBIF_metagenomics/data/pipelines/llg/cophyverttrans/batch2_clusters1-3/round1/llg_output/drep/drep/dereplicated_genomes/T126__maxbin2__High.017.fna \n",
       "6234 /ebio/abt3_projects/HUBIF_metagenomics/data/pipelines/llg/cophyverttrans/batch2_clusters1-3/round1/llg_output/drep/drep/dereplicated_genomes/G0006__maxbin2__Low.006.fna "
      ]
     },
     "metadata": {},
     "output_type": "display_data"
    }
   ],
   "source": [
    "# MAG assembly fasta files\n",
    "genomes = Fread(genomes_file) %>%\n",
    "    mutate.(Name = gsub('\\\\.', '_', Name))\n",
    "genomes"
   ]
  },
  {
   "cell_type": "markdown",
   "metadata": {},
   "source": [
    "## Checks"
   ]
  },
  {
   "cell_type": "code",
   "execution_count": 24,
   "metadata": {
    "ExecuteTime": {
     "end_time": "2021-07-30T10:59:14.956377Z",
     "start_time": "2021-07-30T10:59:14.916Z"
    }
   },
   "outputs": [
    {
     "name": "stdout",
     "output_type": "stream",
     "text": [
      "intersect(x,y): 796 \n",
      "setdiff(x,y): 5438 \n",
      "setdiff(y,x): 0 \n",
      "union(x,y): 6234 \n",
      "---\n",
      "intersect(x,y): 6234 \n",
      "setdiff(x,y): 0 \n",
      "setdiff(y,x): 1438 \n",
      "union(x,y): 7672 \n",
      "---\n",
      "intersect(x,y): 6234 \n",
      "setdiff(x,y): 0 \n",
      "setdiff(y,x): 0 \n",
      "union(x,y): 6234 \n"
     ]
    }
   ],
   "source": [
    "overlap(drep_cdb$genome, tax$user_genome)\n",
    "cat('---\\n')\n",
    "overlap(drep_cdb$genome, checkm$Bin.Id)\n",
    "cat('---\\n')\n",
    "overlap(drep_cdb$genome, genomes$Name)"
   ]
  },
  {
   "cell_type": "markdown",
   "metadata": {},
   "source": [
    "## Joining"
   ]
  },
  {
   "cell_type": "code",
   "execution_count": 26,
   "metadata": {
    "ExecuteTime": {
     "end_time": "2021-07-30T10:59:45.839096Z",
     "start_time": "2021-07-30T10:59:45.764Z"
    }
   },
   "outputs": [
    {
     "data": {
      "text/html": [
       "<table class=\"dataframe\">\n",
       "<caption>A tidytable: 6234 × 15</caption>\n",
       "<thead>\n",
       "\t<tr><th scope=col>cluster_rep</th><th scope=col>secondary_cluster</th><th scope=col>Domain</th><th scope=col>Phylum</th><th scope=col>Class</th><th scope=col>Order</th><th scope=col>Family</th><th scope=col>Genus</th><th scope=col>Species</th><th scope=col>genome</th><th scope=col>threshold</th><th scope=col>cluster_method</th><th scope=col>comparison_algorithm</th><th scope=col>primary_cluster</th><th scope=col>Sample</th></tr>\n",
       "\t<tr><th scope=col>&lt;chr&gt;</th><th scope=col>&lt;chr&gt;</th><th scope=col>&lt;chr&gt;</th><th scope=col>&lt;chr&gt;</th><th scope=col>&lt;chr&gt;</th><th scope=col>&lt;chr&gt;</th><th scope=col>&lt;chr&gt;</th><th scope=col>&lt;chr&gt;</th><th scope=col>&lt;chr&gt;</th><th scope=col>&lt;chr&gt;</th><th scope=col>&lt;dbl&gt;</th><th scope=col>&lt;chr&gt;</th><th scope=col>&lt;chr&gt;</th><th scope=col>&lt;int&gt;</th><th scope=col>&lt;chr&gt;</th></tr>\n",
       "</thead>\n",
       "<tbody>\n",
       "\t<tr><td>G0030__maxbin2__High_033</td><td>1_1</td><td>d__Bacteria</td><td>p__Elusimicrobiota</td><td>c__Elusimicrobia</td><td>o__Elusimicrobiales</td><td>f__Elusimicrobiaceae</td><td>g__UBA1436</td><td>s__UBA1436 sp900541355</td><td>G0030__maxbin2__High_033</td><td>0.05</td><td>average</td><td>fastANI</td><td>1</td><td>G0030</td></tr>\n",
       "\t<tr><td>G0030__maxbin2__High_033</td><td>1_1</td><td>d__Bacteria</td><td>p__Elusimicrobiota</td><td>c__Elusimicrobia</td><td>o__Elusimicrobiales</td><td>f__Elusimicrobiaceae</td><td>g__UBA1436</td><td>s__UBA1436 sp900541355</td><td>G0051__maxbin2__High_031</td><td>0.05</td><td>average</td><td>fastANI</td><td>1</td><td>G0051</td></tr>\n",
       "\t<tr><td>⋮</td><td>⋮</td><td>⋮</td><td>⋮</td><td>⋮</td><td>⋮</td><td>⋮</td><td>⋮</td><td>⋮</td><td>⋮</td><td>⋮</td><td>⋮</td><td>⋮</td><td>⋮</td><td>⋮</td></tr>\n",
       "\t<tr><td>T066__metabat2__Med_032</td><td>585_1</td><td>d__Bacteria</td><td>p__Firmicutes</td><td>c__Bacilli</td><td>o__RFN20</td><td>f__CAG-288</td><td>g__CAG-345</td><td>s__CAG-345 sp000433315</td><td>T126__maxbin2__High_017 </td><td>0.05</td><td>average</td><td>fastANI</td><td>585</td><td>T126</td></tr>\n",
       "\t<tr><td>T066__metabat2__Med_032</td><td>585_1</td><td>d__Bacteria</td><td>p__Firmicutes</td><td>c__Bacilli</td><td>o__RFN20</td><td>f__CAG-288</td><td>g__CAG-345</td><td>s__CAG-345 sp000433315</td><td>T173__metabat2__High_004</td><td>0.05</td><td>average</td><td>fastANI</td><td>585</td><td>T173</td></tr>\n",
       "</tbody>\n",
       "</table>\n"
      ],
      "text/latex": [
       "A tidytable: 6234 × 15\n",
       "\\begin{tabular}{lllllllllllllll}\n",
       " cluster\\_rep & secondary\\_cluster & Domain & Phylum & Class & Order & Family & Genus & Species & genome & threshold & cluster\\_method & comparison\\_algorithm & primary\\_cluster & Sample\\\\\n",
       " <chr> & <chr> & <chr> & <chr> & <chr> & <chr> & <chr> & <chr> & <chr> & <chr> & <dbl> & <chr> & <chr> & <int> & <chr>\\\\\n",
       "\\hline\n",
       "\t G0030\\_\\_maxbin2\\_\\_High\\_033 & 1\\_1 & d\\_\\_Bacteria & p\\_\\_Elusimicrobiota & c\\_\\_Elusimicrobia & o\\_\\_Elusimicrobiales & f\\_\\_Elusimicrobiaceae & g\\_\\_UBA1436 & s\\_\\_UBA1436 sp900541355 & G0030\\_\\_maxbin2\\_\\_High\\_033 & 0.05 & average & fastANI & 1 & G0030\\\\\n",
       "\t G0030\\_\\_maxbin2\\_\\_High\\_033 & 1\\_1 & d\\_\\_Bacteria & p\\_\\_Elusimicrobiota & c\\_\\_Elusimicrobia & o\\_\\_Elusimicrobiales & f\\_\\_Elusimicrobiaceae & g\\_\\_UBA1436 & s\\_\\_UBA1436 sp900541355 & G0051\\_\\_maxbin2\\_\\_High\\_031 & 0.05 & average & fastANI & 1 & G0051\\\\\n",
       "\t ⋮ & ⋮ & ⋮ & ⋮ & ⋮ & ⋮ & ⋮ & ⋮ & ⋮ & ⋮ & ⋮ & ⋮ & ⋮ & ⋮ & ⋮\\\\\n",
       "\t T066\\_\\_metabat2\\_\\_Med\\_032 & 585\\_1 & d\\_\\_Bacteria & p\\_\\_Firmicutes & c\\_\\_Bacilli & o\\_\\_RFN20 & f\\_\\_CAG-288 & g\\_\\_CAG-345 & s\\_\\_CAG-345 sp000433315 & T126\\_\\_maxbin2\\_\\_High\\_017  & 0.05 & average & fastANI & 585 & T126\\\\\n",
       "\t T066\\_\\_metabat2\\_\\_Med\\_032 & 585\\_1 & d\\_\\_Bacteria & p\\_\\_Firmicutes & c\\_\\_Bacilli & o\\_\\_RFN20 & f\\_\\_CAG-288 & g\\_\\_CAG-345 & s\\_\\_CAG-345 sp000433315 & T173\\_\\_metabat2\\_\\_High\\_004 & 0.05 & average & fastANI & 585 & T173\\\\\n",
       "\\end{tabular}\n"
      ],
      "text/markdown": [
       "\n",
       "A tidytable: 6234 × 15\n",
       "\n",
       "| cluster_rep &lt;chr&gt; | secondary_cluster &lt;chr&gt; | Domain &lt;chr&gt; | Phylum &lt;chr&gt; | Class &lt;chr&gt; | Order &lt;chr&gt; | Family &lt;chr&gt; | Genus &lt;chr&gt; | Species &lt;chr&gt; | genome &lt;chr&gt; | threshold &lt;dbl&gt; | cluster_method &lt;chr&gt; | comparison_algorithm &lt;chr&gt; | primary_cluster &lt;int&gt; | Sample &lt;chr&gt; |\n",
       "|---|---|---|---|---|---|---|---|---|---|---|---|---|---|---|\n",
       "| G0030__maxbin2__High_033 | 1_1 | d__Bacteria | p__Elusimicrobiota | c__Elusimicrobia | o__Elusimicrobiales | f__Elusimicrobiaceae | g__UBA1436 | s__UBA1436 sp900541355 | G0030__maxbin2__High_033 | 0.05 | average | fastANI | 1 | G0030 |\n",
       "| G0030__maxbin2__High_033 | 1_1 | d__Bacteria | p__Elusimicrobiota | c__Elusimicrobia | o__Elusimicrobiales | f__Elusimicrobiaceae | g__UBA1436 | s__UBA1436 sp900541355 | G0051__maxbin2__High_031 | 0.05 | average | fastANI | 1 | G0051 |\n",
       "| ⋮ | ⋮ | ⋮ | ⋮ | ⋮ | ⋮ | ⋮ | ⋮ | ⋮ | ⋮ | ⋮ | ⋮ | ⋮ | ⋮ | ⋮ |\n",
       "| T066__metabat2__Med_032 | 585_1 | d__Bacteria | p__Firmicutes | c__Bacilli | o__RFN20 | f__CAG-288 | g__CAG-345 | s__CAG-345 sp000433315 | T126__maxbin2__High_017  | 0.05 | average | fastANI | 585 | T126 |\n",
       "| T066__metabat2__Med_032 | 585_1 | d__Bacteria | p__Firmicutes | c__Bacilli | o__RFN20 | f__CAG-288 | g__CAG-345 | s__CAG-345 sp000433315 | T173__metabat2__High_004 | 0.05 | average | fastANI | 585 | T173 |\n",
       "\n"
      ],
      "text/plain": [
       "     cluster_rep              secondary_cluster Domain      Phylum            \n",
       "1    G0030__maxbin2__High_033 1_1               d__Bacteria p__Elusimicrobiota\n",
       "2    G0030__maxbin2__High_033 1_1               d__Bacteria p__Elusimicrobiota\n",
       "⋮    ⋮                        ⋮                 ⋮           ⋮                 \n",
       "6233 T066__metabat2__Med_032  585_1             d__Bacteria p__Firmicutes     \n",
       "6234 T066__metabat2__Med_032  585_1             d__Bacteria p__Firmicutes     \n",
       "     Class            Order               Family               Genus     \n",
       "1    c__Elusimicrobia o__Elusimicrobiales f__Elusimicrobiaceae g__UBA1436\n",
       "2    c__Elusimicrobia o__Elusimicrobiales f__Elusimicrobiaceae g__UBA1436\n",
       "⋮    ⋮                ⋮                   ⋮                    ⋮         \n",
       "6233 c__Bacilli       o__RFN20            f__CAG-288           g__CAG-345\n",
       "6234 c__Bacilli       o__RFN20            f__CAG-288           g__CAG-345\n",
       "     Species                genome                   threshold cluster_method\n",
       "1    s__UBA1436 sp900541355 G0030__maxbin2__High_033 0.05      average       \n",
       "2    s__UBA1436 sp900541355 G0051__maxbin2__High_031 0.05      average       \n",
       "⋮    ⋮                      ⋮                        ⋮         ⋮             \n",
       "6233 s__CAG-345 sp000433315 T126__maxbin2__High_017  0.05      average       \n",
       "6234 s__CAG-345 sp000433315 T173__metabat2__High_004 0.05      average       \n",
       "     comparison_algorithm primary_cluster Sample\n",
       "1    fastANI              1               G0030 \n",
       "2    fastANI              1               G0051 \n",
       "⋮    ⋮                    ⋮               ⋮     \n",
       "6233 fastANI              585             T126  \n",
       "6234 fastANI              585             T173  "
      ]
     },
     "metadata": {},
     "output_type": "display_data"
    }
   ],
   "source": [
    "# propagating GTDB-Tk classifications to all MAGs based on dRep clustering\n",
    "cophylo_MAGs = drep_cdb %>%\n",
    "    distinct.(genome, secondary_cluster) %>%\n",
    "    inner_join.(tax, c('genome'='user_genome')) %>%\n",
    "    inner_join.(drep_cdb, c('secondary_cluster')) %>%\n",
    "    rename.('cluster_rep' = genome,\n",
    "            'genome' = i.genome) %>%\n",
    "    mutate.(Sample = gsub('__.+', '', genome)) \n",
    "cophylo_MAGs"
   ]
  },
  {
   "cell_type": "code",
   "execution_count": 27,
   "metadata": {
    "ExecuteTime": {
     "end_time": "2021-07-30T10:59:52.400310Z",
     "start_time": "2021-07-30T10:59:52.276Z"
    }
   },
   "outputs": [
    {
     "name": "stdout",
     "output_type": "stream",
     "text": [
      "intersect(x,y): 6234 \n",
      "setdiff(x,y): 0 \n",
      "setdiff(y,x): 1438 \n",
      "union(x,y): 7672 \n"
     ]
    },
    {
     "data": {
      "text/html": [
       "<table class=\"dataframe\">\n",
       "<caption>A tidytable: 6234 × 46</caption>\n",
       "<thead>\n",
       "\t<tr><th scope=col>cluster_rep</th><th scope=col>secondary_cluster</th><th scope=col>Domain</th><th scope=col>Phylum</th><th scope=col>Class</th><th scope=col>Order</th><th scope=col>Family</th><th scope=col>Genus</th><th scope=col>Species</th><th scope=col>genome</th><th scope=col>⋯</th><th scope=col>X..predicted.genes</th><th scope=col>X0</th><th scope=col>X1</th><th scope=col>X2</th><th scope=col>X3</th><th scope=col>X4</th><th scope=col>X5.</th><th scope=col>assembly.Id</th><th scope=col>assembler.Id</th><th scope=col>File</th></tr>\n",
       "\t<tr><th scope=col>&lt;chr&gt;</th><th scope=col>&lt;chr&gt;</th><th scope=col>&lt;chr&gt;</th><th scope=col>&lt;chr&gt;</th><th scope=col>&lt;chr&gt;</th><th scope=col>&lt;chr&gt;</th><th scope=col>&lt;chr&gt;</th><th scope=col>&lt;chr&gt;</th><th scope=col>&lt;chr&gt;</th><th scope=col>&lt;chr&gt;</th><th scope=col>⋯</th><th scope=col>&lt;int&gt;</th><th scope=col>&lt;int&gt;</th><th scope=col>&lt;int&gt;</th><th scope=col>&lt;int&gt;</th><th scope=col>&lt;int&gt;</th><th scope=col>&lt;int&gt;</th><th scope=col>&lt;int&gt;</th><th scope=col>&lt;chr&gt;</th><th scope=col>&lt;chr&gt;</th><th scope=col>&lt;chr&gt;</th></tr>\n",
       "</thead>\n",
       "<tbody>\n",
       "\t<tr><td>G0030__maxbin2__High_033</td><td>1_1</td><td>d__Bacteria</td><td>p__Elusimicrobiota</td><td>c__Elusimicrobia</td><td>o__Elusimicrobiales</td><td>f__Elusimicrobiaceae</td><td>g__UBA1436</td><td>s__UBA1436 sp900541355</td><td>G0030__maxbin2__High_033</td><td>⋯</td><td>1403</td><td>3</td><td>140</td><td>0</td><td>0</td><td>0</td><td>0</td><td>|ebio|abt3_projects|HUBIF_metagenomics|data|pipelines|llg|cophyverttrans|batch2_clusters1-3|round1|llg_output|checkM|2|checkm|markers_qa_summary.tsv.49</td><td>markers_qa_summary.tsv.49</td><td>/ebio/abt3_projects/HUBIF_metagenomics/data/pipelines/llg/cophyverttrans/batch2_clusters1-3/round1/llg_output/checkM/2/checkm/markers_qa_summary.tsv.49</td></tr>\n",
       "\t<tr><td>G0030__maxbin2__High_033</td><td>1_1</td><td>d__Bacteria</td><td>p__Elusimicrobiota</td><td>c__Elusimicrobia</td><td>o__Elusimicrobiales</td><td>f__Elusimicrobiaceae</td><td>g__UBA1436</td><td>s__UBA1436 sp900541355</td><td>G0051__maxbin2__High_031</td><td>⋯</td><td>1515</td><td>3</td><td>140</td><td>0</td><td>0</td><td>0</td><td>0</td><td>|ebio|abt3_projects|HUBIF_metagenomics|data|pipelines|llg|cophyverttrans|batch2_clusters1-3|round1|llg_output|checkM|1|checkm|markers_qa_summary.tsv.89</td><td>markers_qa_summary.tsv.89</td><td>/ebio/abt3_projects/HUBIF_metagenomics/data/pipelines/llg/cophyverttrans/batch2_clusters1-3/round1/llg_output/checkM/1/checkm/markers_qa_summary.tsv.89</td></tr>\n",
       "\t<tr><td>⋮</td><td>⋮</td><td>⋮</td><td>⋮</td><td>⋮</td><td>⋮</td><td>⋮</td><td>⋮</td><td>⋮</td><td>⋮</td><td>⋱</td><td>⋮</td><td>⋮</td><td>⋮</td><td>⋮</td><td>⋮</td><td>⋮</td><td>⋮</td><td>⋮</td><td>⋮</td><td>⋮</td></tr>\n",
       "\t<tr><td>T066__metabat2__Med_032</td><td>585_1</td><td>d__Bacteria</td><td>p__Firmicutes</td><td>c__Bacilli</td><td>o__RFN20</td><td>f__CAG-288</td><td>g__CAG-345</td><td>s__CAG-345 sp000433315</td><td>T126__maxbin2__High_017 </td><td>⋯</td><td>1361</td><td>19</td><td>127</td><td>3</td><td>0</td><td>0</td><td>0</td><td>|ebio|abt3_projects|HUBIF_metagenomics|data|pipelines|llg|cophyverttrans|batch2_clusters1-3|round1|llg_output|checkM|2|checkm|markers_qa_summary.tsv.903</td><td>markers_qa_summary.tsv.903</td><td>/ebio/abt3_projects/HUBIF_metagenomics/data/pipelines/llg/cophyverttrans/batch2_clusters1-3/round1/llg_output/checkM/2/checkm/markers_qa_summary.tsv.903</td></tr>\n",
       "\t<tr><td>T066__metabat2__Med_032</td><td>585_1</td><td>d__Bacteria</td><td>p__Firmicutes</td><td>c__Bacilli</td><td>o__RFN20</td><td>f__CAG-288</td><td>g__CAG-345</td><td>s__CAG-345 sp000433315</td><td>T173__metabat2__High_004</td><td>⋯</td><td>1479</td><td> 3</td><td>146</td><td>0</td><td>0</td><td>0</td><td>0</td><td>|ebio|abt3_projects|HUBIF_metagenomics|data|pipelines|llg|cophyverttrans|batch2_clusters1-3|round1|llg_output|checkM|4|checkm|markers_qa_summary.tsv.925</td><td>markers_qa_summary.tsv.925</td><td>/ebio/abt3_projects/HUBIF_metagenomics/data/pipelines/llg/cophyverttrans/batch2_clusters1-3/round1/llg_output/checkM/4/checkm/markers_qa_summary.tsv.925</td></tr>\n",
       "</tbody>\n",
       "</table>\n"
      ],
      "text/latex": [
       "A tidytable: 6234 × 46\n",
       "\\begin{tabular}{lllllllllllllllllllll}\n",
       " cluster\\_rep & secondary\\_cluster & Domain & Phylum & Class & Order & Family & Genus & Species & genome & ⋯ & X..predicted.genes & X0 & X1 & X2 & X3 & X4 & X5. & assembly.Id & assembler.Id & File\\\\\n",
       " <chr> & <chr> & <chr> & <chr> & <chr> & <chr> & <chr> & <chr> & <chr> & <chr> & ⋯ & <int> & <int> & <int> & <int> & <int> & <int> & <int> & <chr> & <chr> & <chr>\\\\\n",
       "\\hline\n",
       "\t G0030\\_\\_maxbin2\\_\\_High\\_033 & 1\\_1 & d\\_\\_Bacteria & p\\_\\_Elusimicrobiota & c\\_\\_Elusimicrobia & o\\_\\_Elusimicrobiales & f\\_\\_Elusimicrobiaceae & g\\_\\_UBA1436 & s\\_\\_UBA1436 sp900541355 & G0030\\_\\_maxbin2\\_\\_High\\_033 & ⋯ & 1403 & 3 & 140 & 0 & 0 & 0 & 0 & \\textbar{}ebio\\textbar{}abt3\\_projects\\textbar{}HUBIF\\_metagenomics\\textbar{}data\\textbar{}pipelines\\textbar{}llg\\textbar{}cophyverttrans\\textbar{}batch2\\_clusters1-3\\textbar{}round1\\textbar{}llg\\_output\\textbar{}checkM\\textbar{}2\\textbar{}checkm\\textbar{}markers\\_qa\\_summary.tsv.49 & markers\\_qa\\_summary.tsv.49 & /ebio/abt3\\_projects/HUBIF\\_metagenomics/data/pipelines/llg/cophyverttrans/batch2\\_clusters1-3/round1/llg\\_output/checkM/2/checkm/markers\\_qa\\_summary.tsv.49\\\\\n",
       "\t G0030\\_\\_maxbin2\\_\\_High\\_033 & 1\\_1 & d\\_\\_Bacteria & p\\_\\_Elusimicrobiota & c\\_\\_Elusimicrobia & o\\_\\_Elusimicrobiales & f\\_\\_Elusimicrobiaceae & g\\_\\_UBA1436 & s\\_\\_UBA1436 sp900541355 & G0051\\_\\_maxbin2\\_\\_High\\_031 & ⋯ & 1515 & 3 & 140 & 0 & 0 & 0 & 0 & \\textbar{}ebio\\textbar{}abt3\\_projects\\textbar{}HUBIF\\_metagenomics\\textbar{}data\\textbar{}pipelines\\textbar{}llg\\textbar{}cophyverttrans\\textbar{}batch2\\_clusters1-3\\textbar{}round1\\textbar{}llg\\_output\\textbar{}checkM\\textbar{}1\\textbar{}checkm\\textbar{}markers\\_qa\\_summary.tsv.89 & markers\\_qa\\_summary.tsv.89 & /ebio/abt3\\_projects/HUBIF\\_metagenomics/data/pipelines/llg/cophyverttrans/batch2\\_clusters1-3/round1/llg\\_output/checkM/1/checkm/markers\\_qa\\_summary.tsv.89\\\\\n",
       "\t ⋮ & ⋮ & ⋮ & ⋮ & ⋮ & ⋮ & ⋮ & ⋮ & ⋮ & ⋮ & ⋱ & ⋮ & ⋮ & ⋮ & ⋮ & ⋮ & ⋮ & ⋮ & ⋮ & ⋮ & ⋮\\\\\n",
       "\t T066\\_\\_metabat2\\_\\_Med\\_032 & 585\\_1 & d\\_\\_Bacteria & p\\_\\_Firmicutes & c\\_\\_Bacilli & o\\_\\_RFN20 & f\\_\\_CAG-288 & g\\_\\_CAG-345 & s\\_\\_CAG-345 sp000433315 & T126\\_\\_maxbin2\\_\\_High\\_017  & ⋯ & 1361 & 19 & 127 & 3 & 0 & 0 & 0 & \\textbar{}ebio\\textbar{}abt3\\_projects\\textbar{}HUBIF\\_metagenomics\\textbar{}data\\textbar{}pipelines\\textbar{}llg\\textbar{}cophyverttrans\\textbar{}batch2\\_clusters1-3\\textbar{}round1\\textbar{}llg\\_output\\textbar{}checkM\\textbar{}2\\textbar{}checkm\\textbar{}markers\\_qa\\_summary.tsv.903 & markers\\_qa\\_summary.tsv.903 & /ebio/abt3\\_projects/HUBIF\\_metagenomics/data/pipelines/llg/cophyverttrans/batch2\\_clusters1-3/round1/llg\\_output/checkM/2/checkm/markers\\_qa\\_summary.tsv.903\\\\\n",
       "\t T066\\_\\_metabat2\\_\\_Med\\_032 & 585\\_1 & d\\_\\_Bacteria & p\\_\\_Firmicutes & c\\_\\_Bacilli & o\\_\\_RFN20 & f\\_\\_CAG-288 & g\\_\\_CAG-345 & s\\_\\_CAG-345 sp000433315 & T173\\_\\_metabat2\\_\\_High\\_004 & ⋯ & 1479 &  3 & 146 & 0 & 0 & 0 & 0 & \\textbar{}ebio\\textbar{}abt3\\_projects\\textbar{}HUBIF\\_metagenomics\\textbar{}data\\textbar{}pipelines\\textbar{}llg\\textbar{}cophyverttrans\\textbar{}batch2\\_clusters1-3\\textbar{}round1\\textbar{}llg\\_output\\textbar{}checkM\\textbar{}4\\textbar{}checkm\\textbar{}markers\\_qa\\_summary.tsv.925 & markers\\_qa\\_summary.tsv.925 & /ebio/abt3\\_projects/HUBIF\\_metagenomics/data/pipelines/llg/cophyverttrans/batch2\\_clusters1-3/round1/llg\\_output/checkM/4/checkm/markers\\_qa\\_summary.tsv.925\\\\\n",
       "\\end{tabular}\n"
      ],
      "text/markdown": [
       "\n",
       "A tidytable: 6234 × 46\n",
       "\n",
       "| cluster_rep &lt;chr&gt; | secondary_cluster &lt;chr&gt; | Domain &lt;chr&gt; | Phylum &lt;chr&gt; | Class &lt;chr&gt; | Order &lt;chr&gt; | Family &lt;chr&gt; | Genus &lt;chr&gt; | Species &lt;chr&gt; | genome &lt;chr&gt; | ⋯ ⋯ | X..predicted.genes &lt;int&gt; | X0 &lt;int&gt; | X1 &lt;int&gt; | X2 &lt;int&gt; | X3 &lt;int&gt; | X4 &lt;int&gt; | X5. &lt;int&gt; | assembly.Id &lt;chr&gt; | assembler.Id &lt;chr&gt; | File &lt;chr&gt; |\n",
       "|---|---|---|---|---|---|---|---|---|---|---|---|---|---|---|---|---|---|---|---|---|\n",
       "| G0030__maxbin2__High_033 | 1_1 | d__Bacteria | p__Elusimicrobiota | c__Elusimicrobia | o__Elusimicrobiales | f__Elusimicrobiaceae | g__UBA1436 | s__UBA1436 sp900541355 | G0030__maxbin2__High_033 | ⋯ | 1403 | 3 | 140 | 0 | 0 | 0 | 0 | |ebio|abt3_projects|HUBIF_metagenomics|data|pipelines|llg|cophyverttrans|batch2_clusters1-3|round1|llg_output|checkM|2|checkm|markers_qa_summary.tsv.49 | markers_qa_summary.tsv.49 | /ebio/abt3_projects/HUBIF_metagenomics/data/pipelines/llg/cophyverttrans/batch2_clusters1-3/round1/llg_output/checkM/2/checkm/markers_qa_summary.tsv.49 |\n",
       "| G0030__maxbin2__High_033 | 1_1 | d__Bacteria | p__Elusimicrobiota | c__Elusimicrobia | o__Elusimicrobiales | f__Elusimicrobiaceae | g__UBA1436 | s__UBA1436 sp900541355 | G0051__maxbin2__High_031 | ⋯ | 1515 | 3 | 140 | 0 | 0 | 0 | 0 | |ebio|abt3_projects|HUBIF_metagenomics|data|pipelines|llg|cophyverttrans|batch2_clusters1-3|round1|llg_output|checkM|1|checkm|markers_qa_summary.tsv.89 | markers_qa_summary.tsv.89 | /ebio/abt3_projects/HUBIF_metagenomics/data/pipelines/llg/cophyverttrans/batch2_clusters1-3/round1/llg_output/checkM/1/checkm/markers_qa_summary.tsv.89 |\n",
       "| ⋮ | ⋮ | ⋮ | ⋮ | ⋮ | ⋮ | ⋮ | ⋮ | ⋮ | ⋮ | ⋱ | ⋮ | ⋮ | ⋮ | ⋮ | ⋮ | ⋮ | ⋮ | ⋮ | ⋮ | ⋮ |\n",
       "| T066__metabat2__Med_032 | 585_1 | d__Bacteria | p__Firmicutes | c__Bacilli | o__RFN20 | f__CAG-288 | g__CAG-345 | s__CAG-345 sp000433315 | T126__maxbin2__High_017  | ⋯ | 1361 | 19 | 127 | 3 | 0 | 0 | 0 | |ebio|abt3_projects|HUBIF_metagenomics|data|pipelines|llg|cophyverttrans|batch2_clusters1-3|round1|llg_output|checkM|2|checkm|markers_qa_summary.tsv.903 | markers_qa_summary.tsv.903 | /ebio/abt3_projects/HUBIF_metagenomics/data/pipelines/llg/cophyverttrans/batch2_clusters1-3/round1/llg_output/checkM/2/checkm/markers_qa_summary.tsv.903 |\n",
       "| T066__metabat2__Med_032 | 585_1 | d__Bacteria | p__Firmicutes | c__Bacilli | o__RFN20 | f__CAG-288 | g__CAG-345 | s__CAG-345 sp000433315 | T173__metabat2__High_004 | ⋯ | 1479 |  3 | 146 | 0 | 0 | 0 | 0 | |ebio|abt3_projects|HUBIF_metagenomics|data|pipelines|llg|cophyverttrans|batch2_clusters1-3|round1|llg_output|checkM|4|checkm|markers_qa_summary.tsv.925 | markers_qa_summary.tsv.925 | /ebio/abt3_projects/HUBIF_metagenomics/data/pipelines/llg/cophyverttrans/batch2_clusters1-3/round1/llg_output/checkM/4/checkm/markers_qa_summary.tsv.925 |\n",
       "\n"
      ],
      "text/plain": [
       "     cluster_rep              secondary_cluster Domain      Phylum            \n",
       "1    G0030__maxbin2__High_033 1_1               d__Bacteria p__Elusimicrobiota\n",
       "2    G0030__maxbin2__High_033 1_1               d__Bacteria p__Elusimicrobiota\n",
       "⋮    ⋮                        ⋮                 ⋮           ⋮                 \n",
       "6233 T066__metabat2__Med_032  585_1             d__Bacteria p__Firmicutes     \n",
       "6234 T066__metabat2__Med_032  585_1             d__Bacteria p__Firmicutes     \n",
       "     Class            Order               Family               Genus     \n",
       "1    c__Elusimicrobia o__Elusimicrobiales f__Elusimicrobiaceae g__UBA1436\n",
       "2    c__Elusimicrobia o__Elusimicrobiales f__Elusimicrobiaceae g__UBA1436\n",
       "⋮    ⋮                ⋮                   ⋮                    ⋮         \n",
       "6233 c__Bacilli       o__RFN20            f__CAG-288           g__CAG-345\n",
       "6234 c__Bacilli       o__RFN20            f__CAG-288           g__CAG-345\n",
       "     Species                genome                   ⋯ X..predicted.genes X0\n",
       "1    s__UBA1436 sp900541355 G0030__maxbin2__High_033 ⋯ 1403               3 \n",
       "2    s__UBA1436 sp900541355 G0051__maxbin2__High_031 ⋯ 1515               3 \n",
       "⋮    ⋮                      ⋮                        ⋱ ⋮                  ⋮ \n",
       "6233 s__CAG-345 sp000433315 T126__maxbin2__High_017  ⋯ 1361               19\n",
       "6234 s__CAG-345 sp000433315 T173__metabat2__High_004 ⋯ 1479                3\n",
       "     X1  X2 X3 X4 X5.\n",
       "1    140 0  0  0  0  \n",
       "2    140 0  0  0  0  \n",
       "⋮    ⋮   ⋮  ⋮  ⋮  ⋮  \n",
       "6233 127 3  0  0  0  \n",
       "6234 146 0  0  0  0  \n",
       "     assembly.Id                                                                                                                                             \n",
       "1    |ebio|abt3_projects|HUBIF_metagenomics|data|pipelines|llg|cophyverttrans|batch2_clusters1-3|round1|llg_output|checkM|2|checkm|markers_qa_summary.tsv.49 \n",
       "2    |ebio|abt3_projects|HUBIF_metagenomics|data|pipelines|llg|cophyverttrans|batch2_clusters1-3|round1|llg_output|checkM|1|checkm|markers_qa_summary.tsv.89 \n",
       "⋮    ⋮                                                                                                                                                       \n",
       "6233 |ebio|abt3_projects|HUBIF_metagenomics|data|pipelines|llg|cophyverttrans|batch2_clusters1-3|round1|llg_output|checkM|2|checkm|markers_qa_summary.tsv.903\n",
       "6234 |ebio|abt3_projects|HUBIF_metagenomics|data|pipelines|llg|cophyverttrans|batch2_clusters1-3|round1|llg_output|checkM|4|checkm|markers_qa_summary.tsv.925\n",
       "     assembler.Id              \n",
       "1    markers_qa_summary.tsv.49 \n",
       "2    markers_qa_summary.tsv.89 \n",
       "⋮    ⋮                         \n",
       "6233 markers_qa_summary.tsv.903\n",
       "6234 markers_qa_summary.tsv.925\n",
       "     File                                                                                                                                                    \n",
       "1    /ebio/abt3_projects/HUBIF_metagenomics/data/pipelines/llg/cophyverttrans/batch2_clusters1-3/round1/llg_output/checkM/2/checkm/markers_qa_summary.tsv.49 \n",
       "2    /ebio/abt3_projects/HUBIF_metagenomics/data/pipelines/llg/cophyverttrans/batch2_clusters1-3/round1/llg_output/checkM/1/checkm/markers_qa_summary.tsv.89 \n",
       "⋮    ⋮                                                                                                                                                       \n",
       "6233 /ebio/abt3_projects/HUBIF_metagenomics/data/pipelines/llg/cophyverttrans/batch2_clusters1-3/round1/llg_output/checkM/2/checkm/markers_qa_summary.tsv.903\n",
       "6234 /ebio/abt3_projects/HUBIF_metagenomics/data/pipelines/llg/cophyverttrans/batch2_clusters1-3/round1/llg_output/checkM/4/checkm/markers_qa_summary.tsv.925"
      ]
     },
     "metadata": {},
     "output_type": "display_data"
    }
   ],
   "source": [
    "# adding checkM\n",
    "overlap(cophylo_MAGs$genome, checkm$Bin.Id)\n",
    "cophylo_MAGs = cophylo_MAGs %>%\n",
    "    inner_join(checkm, c('genome'='Bin.Id')) %>%\n",
    "    select.(-taxon.Id) \n",
    "cophylo_MAGs"
   ]
  },
  {
   "cell_type": "code",
   "execution_count": 28,
   "metadata": {
    "ExecuteTime": {
     "end_time": "2021-07-30T10:59:58.235978Z",
     "start_time": "2021-07-30T10:59:58.163Z"
    }
   },
   "outputs": [
    {
     "data": {
      "text/html": [
       "<table class=\"dataframe\">\n",
       "<caption>A tidytable: 6234 × 47</caption>\n",
       "<thead>\n",
       "\t<tr><th scope=col>cluster_rep</th><th scope=col>secondary_cluster</th><th scope=col>Domain</th><th scope=col>Phylum</th><th scope=col>Class</th><th scope=col>Order</th><th scope=col>Family</th><th scope=col>Genus</th><th scope=col>Species</th><th scope=col>genome</th><th scope=col>⋯</th><th scope=col>X0</th><th scope=col>X1</th><th scope=col>X2</th><th scope=col>X3</th><th scope=col>X4</th><th scope=col>X5.</th><th scope=col>assembly.Id</th><th scope=col>assembler.Id</th><th scope=col>File</th><th scope=col>Fasta</th></tr>\n",
       "\t<tr><th scope=col>&lt;chr&gt;</th><th scope=col>&lt;chr&gt;</th><th scope=col>&lt;chr&gt;</th><th scope=col>&lt;chr&gt;</th><th scope=col>&lt;chr&gt;</th><th scope=col>&lt;chr&gt;</th><th scope=col>&lt;chr&gt;</th><th scope=col>&lt;chr&gt;</th><th scope=col>&lt;chr&gt;</th><th scope=col>&lt;chr&gt;</th><th scope=col>⋯</th><th scope=col>&lt;int&gt;</th><th scope=col>&lt;int&gt;</th><th scope=col>&lt;int&gt;</th><th scope=col>&lt;int&gt;</th><th scope=col>&lt;int&gt;</th><th scope=col>&lt;int&gt;</th><th scope=col>&lt;chr&gt;</th><th scope=col>&lt;chr&gt;</th><th scope=col>&lt;chr&gt;</th><th scope=col>&lt;chr&gt;</th></tr>\n",
       "</thead>\n",
       "<tbody>\n",
       "\t<tr><td>G0030__maxbin2__High_033</td><td>1_1</td><td>d__Bacteria</td><td>p__Elusimicrobiota</td><td>c__Elusimicrobia</td><td>o__Elusimicrobiales</td><td>f__Elusimicrobiaceae</td><td>g__UBA1436</td><td>s__UBA1436 sp900541355</td><td>G0030__maxbin2__High_033</td><td>⋯</td><td>3</td><td>140</td><td>0</td><td>0</td><td>0</td><td>0</td><td>|ebio|abt3_projects|HUBIF_metagenomics|data|pipelines|llg|cophyverttrans|batch2_clusters1-3|round1|llg_output|checkM|2|checkm|markers_qa_summary.tsv.49</td><td>markers_qa_summary.tsv.49</td><td>/ebio/abt3_projects/HUBIF_metagenomics/data/pipelines/llg/cophyverttrans/batch2_clusters1-3/round1/llg_output/checkM/2/checkm/markers_qa_summary.tsv.49</td><td>/ebio/abt3_projects/HUBIF_metagenomics/data/pipelines/llg/cophyverttrans/batch2_clusters1-3/round1/llg_output/drep/drep/dereplicated_genomes/G0030__maxbin2__High.033.fna</td></tr>\n",
       "\t<tr><td>G0030__maxbin2__High_033</td><td>1_1</td><td>d__Bacteria</td><td>p__Elusimicrobiota</td><td>c__Elusimicrobia</td><td>o__Elusimicrobiales</td><td>f__Elusimicrobiaceae</td><td>g__UBA1436</td><td>s__UBA1436 sp900541355</td><td>G0051__maxbin2__High_031</td><td>⋯</td><td>3</td><td>140</td><td>0</td><td>0</td><td>0</td><td>0</td><td>|ebio|abt3_projects|HUBIF_metagenomics|data|pipelines|llg|cophyverttrans|batch2_clusters1-3|round1|llg_output|checkM|1|checkm|markers_qa_summary.tsv.89</td><td>markers_qa_summary.tsv.89</td><td>/ebio/abt3_projects/HUBIF_metagenomics/data/pipelines/llg/cophyverttrans/batch2_clusters1-3/round1/llg_output/checkM/1/checkm/markers_qa_summary.tsv.89</td><td>/ebio/abt3_projects/HUBIF_metagenomics/data/pipelines/llg/cophyverttrans/batch2_clusters1-3/round1/llg_output/drep/drep/dereplicated_genomes/G0051__maxbin2__High.031.fna</td></tr>\n",
       "\t<tr><td>⋮</td><td>⋮</td><td>⋮</td><td>⋮</td><td>⋮</td><td>⋮</td><td>⋮</td><td>⋮</td><td>⋮</td><td>⋮</td><td>⋱</td><td>⋮</td><td>⋮</td><td>⋮</td><td>⋮</td><td>⋮</td><td>⋮</td><td>⋮</td><td>⋮</td><td>⋮</td><td>⋮</td></tr>\n",
       "\t<tr><td>T066__metabat2__Med_032</td><td>585_1</td><td>d__Bacteria</td><td>p__Firmicutes</td><td>c__Bacilli</td><td>o__RFN20</td><td>f__CAG-288</td><td>g__CAG-345</td><td>s__CAG-345 sp000433315</td><td>T126__maxbin2__High_017 </td><td>⋯</td><td>19</td><td>127</td><td>3</td><td>0</td><td>0</td><td>0</td><td>|ebio|abt3_projects|HUBIF_metagenomics|data|pipelines|llg|cophyverttrans|batch2_clusters1-3|round1|llg_output|checkM|2|checkm|markers_qa_summary.tsv.903</td><td>markers_qa_summary.tsv.903</td><td>/ebio/abt3_projects/HUBIF_metagenomics/data/pipelines/llg/cophyverttrans/batch2_clusters1-3/round1/llg_output/checkM/2/checkm/markers_qa_summary.tsv.903</td><td>/ebio/abt3_projects/HUBIF_metagenomics/data/pipelines/llg/cophyverttrans/batch2_clusters1-3/round1/llg_output/drep/drep/dereplicated_genomes/T126__maxbin2__High.017.fna </td></tr>\n",
       "\t<tr><td>T066__metabat2__Med_032</td><td>585_1</td><td>d__Bacteria</td><td>p__Firmicutes</td><td>c__Bacilli</td><td>o__RFN20</td><td>f__CAG-288</td><td>g__CAG-345</td><td>s__CAG-345 sp000433315</td><td>T173__metabat2__High_004</td><td>⋯</td><td> 3</td><td>146</td><td>0</td><td>0</td><td>0</td><td>0</td><td>|ebio|abt3_projects|HUBIF_metagenomics|data|pipelines|llg|cophyverttrans|batch2_clusters1-3|round1|llg_output|checkM|4|checkm|markers_qa_summary.tsv.925</td><td>markers_qa_summary.tsv.925</td><td>/ebio/abt3_projects/HUBIF_metagenomics/data/pipelines/llg/cophyverttrans/batch2_clusters1-3/round1/llg_output/checkM/4/checkm/markers_qa_summary.tsv.925</td><td>/ebio/abt3_projects/HUBIF_metagenomics/data/pipelines/llg/cophyverttrans/batch2_clusters1-3/round1/llg_output/drep/drep/dereplicated_genomes/T173__metabat2__High.004.fna</td></tr>\n",
       "</tbody>\n",
       "</table>\n"
      ],
      "text/latex": [
       "A tidytable: 6234 × 47\n",
       "\\begin{tabular}{lllllllllllllllllllll}\n",
       " cluster\\_rep & secondary\\_cluster & Domain & Phylum & Class & Order & Family & Genus & Species & genome & ⋯ & X0 & X1 & X2 & X3 & X4 & X5. & assembly.Id & assembler.Id & File & Fasta\\\\\n",
       " <chr> & <chr> & <chr> & <chr> & <chr> & <chr> & <chr> & <chr> & <chr> & <chr> & ⋯ & <int> & <int> & <int> & <int> & <int> & <int> & <chr> & <chr> & <chr> & <chr>\\\\\n",
       "\\hline\n",
       "\t G0030\\_\\_maxbin2\\_\\_High\\_033 & 1\\_1 & d\\_\\_Bacteria & p\\_\\_Elusimicrobiota & c\\_\\_Elusimicrobia & o\\_\\_Elusimicrobiales & f\\_\\_Elusimicrobiaceae & g\\_\\_UBA1436 & s\\_\\_UBA1436 sp900541355 & G0030\\_\\_maxbin2\\_\\_High\\_033 & ⋯ & 3 & 140 & 0 & 0 & 0 & 0 & \\textbar{}ebio\\textbar{}abt3\\_projects\\textbar{}HUBIF\\_metagenomics\\textbar{}data\\textbar{}pipelines\\textbar{}llg\\textbar{}cophyverttrans\\textbar{}batch2\\_clusters1-3\\textbar{}round1\\textbar{}llg\\_output\\textbar{}checkM\\textbar{}2\\textbar{}checkm\\textbar{}markers\\_qa\\_summary.tsv.49 & markers\\_qa\\_summary.tsv.49 & /ebio/abt3\\_projects/HUBIF\\_metagenomics/data/pipelines/llg/cophyverttrans/batch2\\_clusters1-3/round1/llg\\_output/checkM/2/checkm/markers\\_qa\\_summary.tsv.49 & /ebio/abt3\\_projects/HUBIF\\_metagenomics/data/pipelines/llg/cophyverttrans/batch2\\_clusters1-3/round1/llg\\_output/drep/drep/dereplicated\\_genomes/G0030\\_\\_maxbin2\\_\\_High.033.fna\\\\\n",
       "\t G0030\\_\\_maxbin2\\_\\_High\\_033 & 1\\_1 & d\\_\\_Bacteria & p\\_\\_Elusimicrobiota & c\\_\\_Elusimicrobia & o\\_\\_Elusimicrobiales & f\\_\\_Elusimicrobiaceae & g\\_\\_UBA1436 & s\\_\\_UBA1436 sp900541355 & G0051\\_\\_maxbin2\\_\\_High\\_031 & ⋯ & 3 & 140 & 0 & 0 & 0 & 0 & \\textbar{}ebio\\textbar{}abt3\\_projects\\textbar{}HUBIF\\_metagenomics\\textbar{}data\\textbar{}pipelines\\textbar{}llg\\textbar{}cophyverttrans\\textbar{}batch2\\_clusters1-3\\textbar{}round1\\textbar{}llg\\_output\\textbar{}checkM\\textbar{}1\\textbar{}checkm\\textbar{}markers\\_qa\\_summary.tsv.89 & markers\\_qa\\_summary.tsv.89 & /ebio/abt3\\_projects/HUBIF\\_metagenomics/data/pipelines/llg/cophyverttrans/batch2\\_clusters1-3/round1/llg\\_output/checkM/1/checkm/markers\\_qa\\_summary.tsv.89 & /ebio/abt3\\_projects/HUBIF\\_metagenomics/data/pipelines/llg/cophyverttrans/batch2\\_clusters1-3/round1/llg\\_output/drep/drep/dereplicated\\_genomes/G0051\\_\\_maxbin2\\_\\_High.031.fna\\\\\n",
       "\t ⋮ & ⋮ & ⋮ & ⋮ & ⋮ & ⋮ & ⋮ & ⋮ & ⋮ & ⋮ & ⋱ & ⋮ & ⋮ & ⋮ & ⋮ & ⋮ & ⋮ & ⋮ & ⋮ & ⋮ & ⋮\\\\\n",
       "\t T066\\_\\_metabat2\\_\\_Med\\_032 & 585\\_1 & d\\_\\_Bacteria & p\\_\\_Firmicutes & c\\_\\_Bacilli & o\\_\\_RFN20 & f\\_\\_CAG-288 & g\\_\\_CAG-345 & s\\_\\_CAG-345 sp000433315 & T126\\_\\_maxbin2\\_\\_High\\_017  & ⋯ & 19 & 127 & 3 & 0 & 0 & 0 & \\textbar{}ebio\\textbar{}abt3\\_projects\\textbar{}HUBIF\\_metagenomics\\textbar{}data\\textbar{}pipelines\\textbar{}llg\\textbar{}cophyverttrans\\textbar{}batch2\\_clusters1-3\\textbar{}round1\\textbar{}llg\\_output\\textbar{}checkM\\textbar{}2\\textbar{}checkm\\textbar{}markers\\_qa\\_summary.tsv.903 & markers\\_qa\\_summary.tsv.903 & /ebio/abt3\\_projects/HUBIF\\_metagenomics/data/pipelines/llg/cophyverttrans/batch2\\_clusters1-3/round1/llg\\_output/checkM/2/checkm/markers\\_qa\\_summary.tsv.903 & /ebio/abt3\\_projects/HUBIF\\_metagenomics/data/pipelines/llg/cophyverttrans/batch2\\_clusters1-3/round1/llg\\_output/drep/drep/dereplicated\\_genomes/T126\\_\\_maxbin2\\_\\_High.017.fna \\\\\n",
       "\t T066\\_\\_metabat2\\_\\_Med\\_032 & 585\\_1 & d\\_\\_Bacteria & p\\_\\_Firmicutes & c\\_\\_Bacilli & o\\_\\_RFN20 & f\\_\\_CAG-288 & g\\_\\_CAG-345 & s\\_\\_CAG-345 sp000433315 & T173\\_\\_metabat2\\_\\_High\\_004 & ⋯ &  3 & 146 & 0 & 0 & 0 & 0 & \\textbar{}ebio\\textbar{}abt3\\_projects\\textbar{}HUBIF\\_metagenomics\\textbar{}data\\textbar{}pipelines\\textbar{}llg\\textbar{}cophyverttrans\\textbar{}batch2\\_clusters1-3\\textbar{}round1\\textbar{}llg\\_output\\textbar{}checkM\\textbar{}4\\textbar{}checkm\\textbar{}markers\\_qa\\_summary.tsv.925 & markers\\_qa\\_summary.tsv.925 & /ebio/abt3\\_projects/HUBIF\\_metagenomics/data/pipelines/llg/cophyverttrans/batch2\\_clusters1-3/round1/llg\\_output/checkM/4/checkm/markers\\_qa\\_summary.tsv.925 & /ebio/abt3\\_projects/HUBIF\\_metagenomics/data/pipelines/llg/cophyverttrans/batch2\\_clusters1-3/round1/llg\\_output/drep/drep/dereplicated\\_genomes/T173\\_\\_metabat2\\_\\_High.004.fna\\\\\n",
       "\\end{tabular}\n"
      ],
      "text/markdown": [
       "\n",
       "A tidytable: 6234 × 47\n",
       "\n",
       "| cluster_rep &lt;chr&gt; | secondary_cluster &lt;chr&gt; | Domain &lt;chr&gt; | Phylum &lt;chr&gt; | Class &lt;chr&gt; | Order &lt;chr&gt; | Family &lt;chr&gt; | Genus &lt;chr&gt; | Species &lt;chr&gt; | genome &lt;chr&gt; | ⋯ ⋯ | X0 &lt;int&gt; | X1 &lt;int&gt; | X2 &lt;int&gt; | X3 &lt;int&gt; | X4 &lt;int&gt; | X5. &lt;int&gt; | assembly.Id &lt;chr&gt; | assembler.Id &lt;chr&gt; | File &lt;chr&gt; | Fasta &lt;chr&gt; |\n",
       "|---|---|---|---|---|---|---|---|---|---|---|---|---|---|---|---|---|---|---|---|---|\n",
       "| G0030__maxbin2__High_033 | 1_1 | d__Bacteria | p__Elusimicrobiota | c__Elusimicrobia | o__Elusimicrobiales | f__Elusimicrobiaceae | g__UBA1436 | s__UBA1436 sp900541355 | G0030__maxbin2__High_033 | ⋯ | 3 | 140 | 0 | 0 | 0 | 0 | |ebio|abt3_projects|HUBIF_metagenomics|data|pipelines|llg|cophyverttrans|batch2_clusters1-3|round1|llg_output|checkM|2|checkm|markers_qa_summary.tsv.49 | markers_qa_summary.tsv.49 | /ebio/abt3_projects/HUBIF_metagenomics/data/pipelines/llg/cophyverttrans/batch2_clusters1-3/round1/llg_output/checkM/2/checkm/markers_qa_summary.tsv.49 | /ebio/abt3_projects/HUBIF_metagenomics/data/pipelines/llg/cophyverttrans/batch2_clusters1-3/round1/llg_output/drep/drep/dereplicated_genomes/G0030__maxbin2__High.033.fna |\n",
       "| G0030__maxbin2__High_033 | 1_1 | d__Bacteria | p__Elusimicrobiota | c__Elusimicrobia | o__Elusimicrobiales | f__Elusimicrobiaceae | g__UBA1436 | s__UBA1436 sp900541355 | G0051__maxbin2__High_031 | ⋯ | 3 | 140 | 0 | 0 | 0 | 0 | |ebio|abt3_projects|HUBIF_metagenomics|data|pipelines|llg|cophyverttrans|batch2_clusters1-3|round1|llg_output|checkM|1|checkm|markers_qa_summary.tsv.89 | markers_qa_summary.tsv.89 | /ebio/abt3_projects/HUBIF_metagenomics/data/pipelines/llg/cophyverttrans/batch2_clusters1-3/round1/llg_output/checkM/1/checkm/markers_qa_summary.tsv.89 | /ebio/abt3_projects/HUBIF_metagenomics/data/pipelines/llg/cophyverttrans/batch2_clusters1-3/round1/llg_output/drep/drep/dereplicated_genomes/G0051__maxbin2__High.031.fna |\n",
       "| ⋮ | ⋮ | ⋮ | ⋮ | ⋮ | ⋮ | ⋮ | ⋮ | ⋮ | ⋮ | ⋱ | ⋮ | ⋮ | ⋮ | ⋮ | ⋮ | ⋮ | ⋮ | ⋮ | ⋮ | ⋮ |\n",
       "| T066__metabat2__Med_032 | 585_1 | d__Bacteria | p__Firmicutes | c__Bacilli | o__RFN20 | f__CAG-288 | g__CAG-345 | s__CAG-345 sp000433315 | T126__maxbin2__High_017  | ⋯ | 19 | 127 | 3 | 0 | 0 | 0 | |ebio|abt3_projects|HUBIF_metagenomics|data|pipelines|llg|cophyverttrans|batch2_clusters1-3|round1|llg_output|checkM|2|checkm|markers_qa_summary.tsv.903 | markers_qa_summary.tsv.903 | /ebio/abt3_projects/HUBIF_metagenomics/data/pipelines/llg/cophyverttrans/batch2_clusters1-3/round1/llg_output/checkM/2/checkm/markers_qa_summary.tsv.903 | /ebio/abt3_projects/HUBIF_metagenomics/data/pipelines/llg/cophyverttrans/batch2_clusters1-3/round1/llg_output/drep/drep/dereplicated_genomes/T126__maxbin2__High.017.fna  |\n",
       "| T066__metabat2__Med_032 | 585_1 | d__Bacteria | p__Firmicutes | c__Bacilli | o__RFN20 | f__CAG-288 | g__CAG-345 | s__CAG-345 sp000433315 | T173__metabat2__High_004 | ⋯ |  3 | 146 | 0 | 0 | 0 | 0 | |ebio|abt3_projects|HUBIF_metagenomics|data|pipelines|llg|cophyverttrans|batch2_clusters1-3|round1|llg_output|checkM|4|checkm|markers_qa_summary.tsv.925 | markers_qa_summary.tsv.925 | /ebio/abt3_projects/HUBIF_metagenomics/data/pipelines/llg/cophyverttrans/batch2_clusters1-3/round1/llg_output/checkM/4/checkm/markers_qa_summary.tsv.925 | /ebio/abt3_projects/HUBIF_metagenomics/data/pipelines/llg/cophyverttrans/batch2_clusters1-3/round1/llg_output/drep/drep/dereplicated_genomes/T173__metabat2__High.004.fna |\n",
       "\n"
      ],
      "text/plain": [
       "     cluster_rep              secondary_cluster Domain      Phylum            \n",
       "1    G0030__maxbin2__High_033 1_1               d__Bacteria p__Elusimicrobiota\n",
       "2    G0030__maxbin2__High_033 1_1               d__Bacteria p__Elusimicrobiota\n",
       "⋮    ⋮                        ⋮                 ⋮           ⋮                 \n",
       "6233 T066__metabat2__Med_032  585_1             d__Bacteria p__Firmicutes     \n",
       "6234 T066__metabat2__Med_032  585_1             d__Bacteria p__Firmicutes     \n",
       "     Class            Order               Family               Genus     \n",
       "1    c__Elusimicrobia o__Elusimicrobiales f__Elusimicrobiaceae g__UBA1436\n",
       "2    c__Elusimicrobia o__Elusimicrobiales f__Elusimicrobiaceae g__UBA1436\n",
       "⋮    ⋮                ⋮                   ⋮                    ⋮         \n",
       "6233 c__Bacilli       o__RFN20            f__CAG-288           g__CAG-345\n",
       "6234 c__Bacilli       o__RFN20            f__CAG-288           g__CAG-345\n",
       "     Species                genome                   ⋯ X0 X1  X2 X3 X4 X5.\n",
       "1    s__UBA1436 sp900541355 G0030__maxbin2__High_033 ⋯ 3  140 0  0  0  0  \n",
       "2    s__UBA1436 sp900541355 G0051__maxbin2__High_031 ⋯ 3  140 0  0  0  0  \n",
       "⋮    ⋮                      ⋮                        ⋱ ⋮  ⋮   ⋮  ⋮  ⋮  ⋮  \n",
       "6233 s__CAG-345 sp000433315 T126__maxbin2__High_017  ⋯ 19 127 3  0  0  0  \n",
       "6234 s__CAG-345 sp000433315 T173__metabat2__High_004 ⋯  3 146 0  0  0  0  \n",
       "     assembly.Id                                                                                                                                             \n",
       "1    |ebio|abt3_projects|HUBIF_metagenomics|data|pipelines|llg|cophyverttrans|batch2_clusters1-3|round1|llg_output|checkM|2|checkm|markers_qa_summary.tsv.49 \n",
       "2    |ebio|abt3_projects|HUBIF_metagenomics|data|pipelines|llg|cophyverttrans|batch2_clusters1-3|round1|llg_output|checkM|1|checkm|markers_qa_summary.tsv.89 \n",
       "⋮    ⋮                                                                                                                                                       \n",
       "6233 |ebio|abt3_projects|HUBIF_metagenomics|data|pipelines|llg|cophyverttrans|batch2_clusters1-3|round1|llg_output|checkM|2|checkm|markers_qa_summary.tsv.903\n",
       "6234 |ebio|abt3_projects|HUBIF_metagenomics|data|pipelines|llg|cophyverttrans|batch2_clusters1-3|round1|llg_output|checkM|4|checkm|markers_qa_summary.tsv.925\n",
       "     assembler.Id              \n",
       "1    markers_qa_summary.tsv.49 \n",
       "2    markers_qa_summary.tsv.89 \n",
       "⋮    ⋮                         \n",
       "6233 markers_qa_summary.tsv.903\n",
       "6234 markers_qa_summary.tsv.925\n",
       "     File                                                                                                                                                    \n",
       "1    /ebio/abt3_projects/HUBIF_metagenomics/data/pipelines/llg/cophyverttrans/batch2_clusters1-3/round1/llg_output/checkM/2/checkm/markers_qa_summary.tsv.49 \n",
       "2    /ebio/abt3_projects/HUBIF_metagenomics/data/pipelines/llg/cophyverttrans/batch2_clusters1-3/round1/llg_output/checkM/1/checkm/markers_qa_summary.tsv.89 \n",
       "⋮    ⋮                                                                                                                                                       \n",
       "6233 /ebio/abt3_projects/HUBIF_metagenomics/data/pipelines/llg/cophyverttrans/batch2_clusters1-3/round1/llg_output/checkM/2/checkm/markers_qa_summary.tsv.903\n",
       "6234 /ebio/abt3_projects/HUBIF_metagenomics/data/pipelines/llg/cophyverttrans/batch2_clusters1-3/round1/llg_output/checkM/4/checkm/markers_qa_summary.tsv.925\n",
       "     Fasta                                                                                                                                                                    \n",
       "1    /ebio/abt3_projects/HUBIF_metagenomics/data/pipelines/llg/cophyverttrans/batch2_clusters1-3/round1/llg_output/drep/drep/dereplicated_genomes/G0030__maxbin2__High.033.fna\n",
       "2    /ebio/abt3_projects/HUBIF_metagenomics/data/pipelines/llg/cophyverttrans/batch2_clusters1-3/round1/llg_output/drep/drep/dereplicated_genomes/G0051__maxbin2__High.031.fna\n",
       "⋮    ⋮                                                                                                                                                                        \n",
       "6233 /ebio/abt3_projects/HUBIF_metagenomics/data/pipelines/llg/cophyverttrans/batch2_clusters1-3/round1/llg_output/drep/drep/dereplicated_genomes/T126__maxbin2__High.017.fna \n",
       "6234 /ebio/abt3_projects/HUBIF_metagenomics/data/pipelines/llg/cophyverttrans/batch2_clusters1-3/round1/llg_output/drep/drep/dereplicated_genomes/T173__metabat2__High.004.fna"
      ]
     },
     "metadata": {},
     "output_type": "display_data"
    }
   ],
   "source": [
    "# adding genomes\n",
    "cophylo_MAGs = cophylo_MAGs %>%\n",
    "    inner_join(genomes, c('genome'='Name')) \n",
    "cophylo_MAGs"
   ]
  },
  {
   "cell_type": "markdown",
   "metadata": {},
   "source": [
    "#### Writing table"
   ]
  },
  {
   "cell_type": "code",
   "execution_count": 29,
   "metadata": {
    "ExecuteTime": {
     "end_time": "2021-07-30T11:00:42.348940Z",
     "start_time": "2021-07-30T11:00:42.292Z"
    }
   },
   "outputs": [
    {
     "name": "stdout",
     "output_type": "stream",
     "text": [
      "File written: /ebio/abt3_projects/HUBIF_metagenomics/data/pipelines/llg/cophyverttrans/batch2_clusters1-3/round6/HUBIF-TUK-CAM//cophylo_MAG_meta.tsv \n"
     ]
    }
   ],
   "source": [
    "D = '/ebio/abt3_projects/HUBIF_metagenomics/data/pipelines/llg/cophyverttrans/batch2_clusters1-3/round6/HUBIF-TUK-CAM/'\n",
    "F = file.path(D, 'cophylo_MAG_meta.tsv')\n",
    "write_table(cophylo_MAGs, F)"
   ]
  },
  {
   "cell_type": "markdown",
   "metadata": {},
   "source": [
    "# target species"
   ]
  },
  {
   "cell_type": "code",
   "execution_count": 30,
   "metadata": {
    "ExecuteTime": {
     "end_time": "2021-07-30T11:00:57.384390Z",
     "start_time": "2021-07-30T11:00:57.322Z"
    }
   },
   "outputs": [
    {
     "name": "stdout",
     "output_type": "stream",
     "text": [
      "intersect(x,y): 36 \n",
      "setdiff(x,y): 5 \n",
      "setdiff(y,x): 538 \n",
      "union(x,y): 579 \n"
     ]
    }
   ],
   "source": [
    "# checking overlap\n",
    "overlap(stringr::str_to_lower(cophylo_spec$Species), \n",
    "        stringr::str_to_lower(cophylo_MAGs$Species) %>% gsub('^s__', '', .))"
   ]
  },
  {
   "cell_type": "code",
   "execution_count": 31,
   "metadata": {
    "ExecuteTime": {
     "end_time": "2021-07-30T11:01:01.001801Z",
     "start_time": "2021-07-30T11:01:00.970Z"
    }
   },
   "outputs": [
    {
     "data": {
      "text/html": [
       "<style>\n",
       ".list-inline {list-style: none; margin:0; padding: 0}\n",
       ".list-inline>li {display: inline-block}\n",
       ".list-inline>li:not(:last-child)::after {content: \"\\00b7\"; padding: 0 .5ex}\n",
       "</style>\n",
       "<ol class=list-inline><li>'bifidobacterium kashiwanohense'</li><li>'dorea formicigenerans'</li><li>'dysosmobacter sp001916835'</li><li>'phocaeicola dorei'</li></ol>\n"
      ],
      "text/latex": [
       "\\begin{enumerate*}\n",
       "\\item 'bifidobacterium kashiwanohense'\n",
       "\\item 'dorea formicigenerans'\n",
       "\\item 'dysosmobacter sp001916835'\n",
       "\\item 'phocaeicola dorei'\n",
       "\\end{enumerate*}\n"
      ],
      "text/markdown": [
       "1. 'bifidobacterium kashiwanohense'\n",
       "2. 'dorea formicigenerans'\n",
       "3. 'dysosmobacter sp001916835'\n",
       "4. 'phocaeicola dorei'\n",
       "\n",
       "\n"
      ],
      "text/plain": [
       "[1] \"bifidobacterium kashiwanohense\" \"dorea formicigenerans\"         \n",
       "[3] \"dysosmobacter sp001916835\"      \"phocaeicola dorei\"             "
      ]
     },
     "metadata": {},
     "output_type": "display_data"
    }
   ],
   "source": [
    "# which target species not found?\n",
    "overlap(stringr::str_to_lower(cophylo_spec$Species), \n",
    "        stringr::str_to_lower(cophylo_MAGs$Species) %>% gsub('^s__', '', .),\n",
    "        diff='x') %>% sort"
   ]
  },
  {
   "cell_type": "code",
   "execution_count": 37,
   "metadata": {
    "ExecuteTime": {
     "end_time": "2021-07-30T11:02:21.583043Z",
     "start_time": "2021-07-30T11:02:21.496Z"
    }
   },
   "outputs": [
    {
     "name": "stdout",
     "output_type": "stream",
     "text": [
      "No. of unique MAGs: 2083 \n"
     ]
    },
    {
     "data": {
      "text/html": [
       "<table class=\"dataframe\">\n",
       "<caption>A tidytable: 2973 × 49</caption>\n",
       "<thead>\n",
       "\t<tr><th scope=col>cluster_rep</th><th scope=col>secondary_cluster</th><th scope=col>Domain</th><th scope=col>Phylum</th><th scope=col>Class</th><th scope=col>Order</th><th scope=col>Family</th><th scope=col>Genus</th><th scope=col>Species</th><th scope=col>genome</th><th scope=col>⋯</th><th scope=col>X2</th><th scope=col>X3</th><th scope=col>X4</th><th scope=col>X5.</th><th scope=col>assembly.Id</th><th scope=col>assembler.Id</th><th scope=col>File</th><th scope=col>Fasta</th><th scope=col>spec</th><th scope=col>age_group</th></tr>\n",
       "\t<tr><th scope=col>&lt;chr&gt;</th><th scope=col>&lt;chr&gt;</th><th scope=col>&lt;chr&gt;</th><th scope=col>&lt;chr&gt;</th><th scope=col>&lt;chr&gt;</th><th scope=col>&lt;chr&gt;</th><th scope=col>&lt;chr&gt;</th><th scope=col>&lt;chr&gt;</th><th scope=col>&lt;chr&gt;</th><th scope=col>&lt;chr&gt;</th><th scope=col>⋯</th><th scope=col>&lt;int&gt;</th><th scope=col>&lt;int&gt;</th><th scope=col>&lt;int&gt;</th><th scope=col>&lt;int&gt;</th><th scope=col>&lt;chr&gt;</th><th scope=col>&lt;chr&gt;</th><th scope=col>&lt;chr&gt;</th><th scope=col>&lt;chr&gt;</th><th scope=col>&lt;chr&gt;</th><th scope=col>&lt;chr&gt;</th></tr>\n",
       "</thead>\n",
       "<tbody>\n",
       "\t<tr><td>V041__vamb__High_012</td><td>478_1</td><td>d__Bacteria</td><td>p__Firmicutes</td><td>c__Bacilli</td><td>o__Erysipelotrichales</td><td>f__Erysipelatoclostridiaceae</td><td>g__Catenibacterium</td><td>s__Catenibacterium mitsuokai</td><td>G0028__vamb__Low_360    </td><td>⋯</td><td>7</td><td>0</td><td>0</td><td>0</td><td>|ebio|abt3_projects|HUBIF_metagenomics|data|pipelines|llg|cophyverttrans|batch2_clusters1-3|round1|llg_output|checkM|2|checkm|markers_qa_summary.tsv.48</td><td>markers_qa_summary.tsv.48</td><td>/ebio/abt3_projects/HUBIF_metagenomics/data/pipelines/llg/cophyverttrans/batch2_clusters1-3/round1/llg_output/checkM/2/checkm/markers_qa_summary.tsv.48</td><td>/ebio/abt3_projects/HUBIF_metagenomics/data/pipelines/llg/cophyverttrans/batch2_clusters1-3/round1/llg_output/drep/drep/dereplicated_genomes/G0028__vamb__Low.360.fna    </td><td>catenibacterium mitsuokai</td><td>adult</td></tr>\n",
       "\t<tr><td>V041__vamb__High_012</td><td>478_1</td><td>d__Bacteria</td><td>p__Firmicutes</td><td>c__Bacilli</td><td>o__Erysipelotrichales</td><td>f__Erysipelatoclostridiaceae</td><td>g__Catenibacterium</td><td>s__Catenibacterium mitsuokai</td><td>G0032__metabat2__Med_001</td><td>⋯</td><td>3</td><td>0</td><td>0</td><td>0</td><td>|ebio|abt3_projects|HUBIF_metagenomics|data|pipelines|llg|cophyverttrans|batch2_clusters1-3|round1|llg_output|checkM|4|checkm|markers_qa_summary.tsv.55</td><td>markers_qa_summary.tsv.55</td><td>/ebio/abt3_projects/HUBIF_metagenomics/data/pipelines/llg/cophyverttrans/batch2_clusters1-3/round1/llg_output/checkM/4/checkm/markers_qa_summary.tsv.55</td><td>/ebio/abt3_projects/HUBIF_metagenomics/data/pipelines/llg/cophyverttrans/batch2_clusters1-3/round1/llg_output/drep/drep/dereplicated_genomes/G0032__metabat2__Med.001.fna</td><td>catenibacterium mitsuokai</td><td>adult</td></tr>\n",
       "\t<tr><td>⋮</td><td>⋮</td><td>⋮</td><td>⋮</td><td>⋮</td><td>⋮</td><td>⋮</td><td>⋮</td><td>⋮</td><td>⋮</td><td>⋱</td><td>⋮</td><td>⋮</td><td>⋮</td><td>⋮</td><td>⋮</td><td>⋮</td><td>⋮</td><td>⋮</td><td>⋮</td><td>⋮</td></tr>\n",
       "\t<tr><td>G0298__maxbin2__High_007    </td><td>107_1</td><td>d__Bacteria</td><td>p__Bacteroidota</td><td>c__Bacteroidia</td><td>o__Bacteroidales </td><td>f__Bacteroidaceae </td><td>g__Phocaeicola</td><td>s__Phocaeicola vulgatus</td><td>V438__maxbin2__High_006     </td><td>⋯</td><td>1</td><td>0</td><td>0</td><td>0</td><td>|ebio|abt3_projects|HUBIF_metagenomics|data|pipelines|llg|cophyverttrans|batch2_clusters1-3|round1|llg_output|checkM|4|checkm|markers_qa_summary.tsv.1916</td><td>markers_qa_summary.tsv.1916</td><td>/ebio/abt3_projects/HUBIF_metagenomics/data/pipelines/llg/cophyverttrans/batch2_clusters1-3/round1/llg_output/checkM/4/checkm/markers_qa_summary.tsv.1916</td><td>/ebio/abt3_projects/HUBIF_metagenomics/data/pipelines/llg/cophyverttrans/batch2_clusters1-3/round1/llg_output/drep/drep/dereplicated_genomes/V438__maxbin2__High.006.fna     </td><td>phocaeicola vulgatus</td><td>infant</td></tr>\n",
       "\t<tr><td>G0323__metabat2__Med_014_sub</td><td>403_2</td><td>d__Bacteria</td><td>p__Firmicutes_A</td><td>c__Clostridia </td><td>o__Lachnospirales</td><td>f__Lachnospiraceae</td><td>g__Blautia_A  </td><td>s__Blautia_A wexlerae  </td><td>G0323__metabat2__Med_014_sub</td><td>⋯</td><td>2</td><td>0</td><td>0</td><td>0</td><td>|ebio|abt3_projects|HUBIF_metagenomics|data|pipelines|llg|cophyverttrans|batch2_clusters1-3|round1|llg_output|checkM|4|checkm|markers_qa_summary.tsv.546 </td><td>markers_qa_summary.tsv.546 </td><td>/ebio/abt3_projects/HUBIF_metagenomics/data/pipelines/llg/cophyverttrans/batch2_clusters1-3/round1/llg_output/checkM/4/checkm/markers_qa_summary.tsv.546 </td><td>/ebio/abt3_projects/HUBIF_metagenomics/data/pipelines/llg/cophyverttrans/batch2_clusters1-3/round1/llg_output/drep/drep/dereplicated_genomes/G0323__metabat2__Med.014_sub.fna</td><td>blautia_a wexlerae  </td><td>infant</td></tr>\n",
       "</tbody>\n",
       "</table>\n"
      ],
      "text/latex": [
       "A tidytable: 2973 × 49\n",
       "\\begin{tabular}{lllllllllllllllllllll}\n",
       " cluster\\_rep & secondary\\_cluster & Domain & Phylum & Class & Order & Family & Genus & Species & genome & ⋯ & X2 & X3 & X4 & X5. & assembly.Id & assembler.Id & File & Fasta & spec & age\\_group\\\\\n",
       " <chr> & <chr> & <chr> & <chr> & <chr> & <chr> & <chr> & <chr> & <chr> & <chr> & ⋯ & <int> & <int> & <int> & <int> & <chr> & <chr> & <chr> & <chr> & <chr> & <chr>\\\\\n",
       "\\hline\n",
       "\t V041\\_\\_vamb\\_\\_High\\_012 & 478\\_1 & d\\_\\_Bacteria & p\\_\\_Firmicutes & c\\_\\_Bacilli & o\\_\\_Erysipelotrichales & f\\_\\_Erysipelatoclostridiaceae & g\\_\\_Catenibacterium & s\\_\\_Catenibacterium mitsuokai & G0028\\_\\_vamb\\_\\_Low\\_360     & ⋯ & 7 & 0 & 0 & 0 & \\textbar{}ebio\\textbar{}abt3\\_projects\\textbar{}HUBIF\\_metagenomics\\textbar{}data\\textbar{}pipelines\\textbar{}llg\\textbar{}cophyverttrans\\textbar{}batch2\\_clusters1-3\\textbar{}round1\\textbar{}llg\\_output\\textbar{}checkM\\textbar{}2\\textbar{}checkm\\textbar{}markers\\_qa\\_summary.tsv.48 & markers\\_qa\\_summary.tsv.48 & /ebio/abt3\\_projects/HUBIF\\_metagenomics/data/pipelines/llg/cophyverttrans/batch2\\_clusters1-3/round1/llg\\_output/checkM/2/checkm/markers\\_qa\\_summary.tsv.48 & /ebio/abt3\\_projects/HUBIF\\_metagenomics/data/pipelines/llg/cophyverttrans/batch2\\_clusters1-3/round1/llg\\_output/drep/drep/dereplicated\\_genomes/G0028\\_\\_vamb\\_\\_Low.360.fna     & catenibacterium mitsuokai & adult\\\\\n",
       "\t V041\\_\\_vamb\\_\\_High\\_012 & 478\\_1 & d\\_\\_Bacteria & p\\_\\_Firmicutes & c\\_\\_Bacilli & o\\_\\_Erysipelotrichales & f\\_\\_Erysipelatoclostridiaceae & g\\_\\_Catenibacterium & s\\_\\_Catenibacterium mitsuokai & G0032\\_\\_metabat2\\_\\_Med\\_001 & ⋯ & 3 & 0 & 0 & 0 & \\textbar{}ebio\\textbar{}abt3\\_projects\\textbar{}HUBIF\\_metagenomics\\textbar{}data\\textbar{}pipelines\\textbar{}llg\\textbar{}cophyverttrans\\textbar{}batch2\\_clusters1-3\\textbar{}round1\\textbar{}llg\\_output\\textbar{}checkM\\textbar{}4\\textbar{}checkm\\textbar{}markers\\_qa\\_summary.tsv.55 & markers\\_qa\\_summary.tsv.55 & /ebio/abt3\\_projects/HUBIF\\_metagenomics/data/pipelines/llg/cophyverttrans/batch2\\_clusters1-3/round1/llg\\_output/checkM/4/checkm/markers\\_qa\\_summary.tsv.55 & /ebio/abt3\\_projects/HUBIF\\_metagenomics/data/pipelines/llg/cophyverttrans/batch2\\_clusters1-3/round1/llg\\_output/drep/drep/dereplicated\\_genomes/G0032\\_\\_metabat2\\_\\_Med.001.fna & catenibacterium mitsuokai & adult\\\\\n",
       "\t ⋮ & ⋮ & ⋮ & ⋮ & ⋮ & ⋮ & ⋮ & ⋮ & ⋮ & ⋮ & ⋱ & ⋮ & ⋮ & ⋮ & ⋮ & ⋮ & ⋮ & ⋮ & ⋮ & ⋮ & ⋮\\\\\n",
       "\t G0298\\_\\_maxbin2\\_\\_High\\_007     & 107\\_1 & d\\_\\_Bacteria & p\\_\\_Bacteroidota & c\\_\\_Bacteroidia & o\\_\\_Bacteroidales  & f\\_\\_Bacteroidaceae  & g\\_\\_Phocaeicola & s\\_\\_Phocaeicola vulgatus & V438\\_\\_maxbin2\\_\\_High\\_006      & ⋯ & 1 & 0 & 0 & 0 & \\textbar{}ebio\\textbar{}abt3\\_projects\\textbar{}HUBIF\\_metagenomics\\textbar{}data\\textbar{}pipelines\\textbar{}llg\\textbar{}cophyverttrans\\textbar{}batch2\\_clusters1-3\\textbar{}round1\\textbar{}llg\\_output\\textbar{}checkM\\textbar{}4\\textbar{}checkm\\textbar{}markers\\_qa\\_summary.tsv.1916 & markers\\_qa\\_summary.tsv.1916 & /ebio/abt3\\_projects/HUBIF\\_metagenomics/data/pipelines/llg/cophyverttrans/batch2\\_clusters1-3/round1/llg\\_output/checkM/4/checkm/markers\\_qa\\_summary.tsv.1916 & /ebio/abt3\\_projects/HUBIF\\_metagenomics/data/pipelines/llg/cophyverttrans/batch2\\_clusters1-3/round1/llg\\_output/drep/drep/dereplicated\\_genomes/V438\\_\\_maxbin2\\_\\_High.006.fna      & phocaeicola vulgatus & infant\\\\\n",
       "\t G0323\\_\\_metabat2\\_\\_Med\\_014\\_sub & 403\\_2 & d\\_\\_Bacteria & p\\_\\_Firmicutes\\_A & c\\_\\_Clostridia  & o\\_\\_Lachnospirales & f\\_\\_Lachnospiraceae & g\\_\\_Blautia\\_A   & s\\_\\_Blautia\\_A wexlerae   & G0323\\_\\_metabat2\\_\\_Med\\_014\\_sub & ⋯ & 2 & 0 & 0 & 0 & \\textbar{}ebio\\textbar{}abt3\\_projects\\textbar{}HUBIF\\_metagenomics\\textbar{}data\\textbar{}pipelines\\textbar{}llg\\textbar{}cophyverttrans\\textbar{}batch2\\_clusters1-3\\textbar{}round1\\textbar{}llg\\_output\\textbar{}checkM\\textbar{}4\\textbar{}checkm\\textbar{}markers\\_qa\\_summary.tsv.546  & markers\\_qa\\_summary.tsv.546  & /ebio/abt3\\_projects/HUBIF\\_metagenomics/data/pipelines/llg/cophyverttrans/batch2\\_clusters1-3/round1/llg\\_output/checkM/4/checkm/markers\\_qa\\_summary.tsv.546  & /ebio/abt3\\_projects/HUBIF\\_metagenomics/data/pipelines/llg/cophyverttrans/batch2\\_clusters1-3/round1/llg\\_output/drep/drep/dereplicated\\_genomes/G0323\\_\\_metabat2\\_\\_Med.014\\_sub.fna & blautia\\_a wexlerae   & infant\\\\\n",
       "\\end{tabular}\n"
      ],
      "text/markdown": [
       "\n",
       "A tidytable: 2973 × 49\n",
       "\n",
       "| cluster_rep &lt;chr&gt; | secondary_cluster &lt;chr&gt; | Domain &lt;chr&gt; | Phylum &lt;chr&gt; | Class &lt;chr&gt; | Order &lt;chr&gt; | Family &lt;chr&gt; | Genus &lt;chr&gt; | Species &lt;chr&gt; | genome &lt;chr&gt; | ⋯ ⋯ | X2 &lt;int&gt; | X3 &lt;int&gt; | X4 &lt;int&gt; | X5. &lt;int&gt; | assembly.Id &lt;chr&gt; | assembler.Id &lt;chr&gt; | File &lt;chr&gt; | Fasta &lt;chr&gt; | spec &lt;chr&gt; | age_group &lt;chr&gt; |\n",
       "|---|---|---|---|---|---|---|---|---|---|---|---|---|---|---|---|---|---|---|---|---|\n",
       "| V041__vamb__High_012 | 478_1 | d__Bacteria | p__Firmicutes | c__Bacilli | o__Erysipelotrichales | f__Erysipelatoclostridiaceae | g__Catenibacterium | s__Catenibacterium mitsuokai | G0028__vamb__Low_360     | ⋯ | 7 | 0 | 0 | 0 | |ebio|abt3_projects|HUBIF_metagenomics|data|pipelines|llg|cophyverttrans|batch2_clusters1-3|round1|llg_output|checkM|2|checkm|markers_qa_summary.tsv.48 | markers_qa_summary.tsv.48 | /ebio/abt3_projects/HUBIF_metagenomics/data/pipelines/llg/cophyverttrans/batch2_clusters1-3/round1/llg_output/checkM/2/checkm/markers_qa_summary.tsv.48 | /ebio/abt3_projects/HUBIF_metagenomics/data/pipelines/llg/cophyverttrans/batch2_clusters1-3/round1/llg_output/drep/drep/dereplicated_genomes/G0028__vamb__Low.360.fna     | catenibacterium mitsuokai | adult |\n",
       "| V041__vamb__High_012 | 478_1 | d__Bacteria | p__Firmicutes | c__Bacilli | o__Erysipelotrichales | f__Erysipelatoclostridiaceae | g__Catenibacterium | s__Catenibacterium mitsuokai | G0032__metabat2__Med_001 | ⋯ | 3 | 0 | 0 | 0 | |ebio|abt3_projects|HUBIF_metagenomics|data|pipelines|llg|cophyverttrans|batch2_clusters1-3|round1|llg_output|checkM|4|checkm|markers_qa_summary.tsv.55 | markers_qa_summary.tsv.55 | /ebio/abt3_projects/HUBIF_metagenomics/data/pipelines/llg/cophyverttrans/batch2_clusters1-3/round1/llg_output/checkM/4/checkm/markers_qa_summary.tsv.55 | /ebio/abt3_projects/HUBIF_metagenomics/data/pipelines/llg/cophyverttrans/batch2_clusters1-3/round1/llg_output/drep/drep/dereplicated_genomes/G0032__metabat2__Med.001.fna | catenibacterium mitsuokai | adult |\n",
       "| ⋮ | ⋮ | ⋮ | ⋮ | ⋮ | ⋮ | ⋮ | ⋮ | ⋮ | ⋮ | ⋱ | ⋮ | ⋮ | ⋮ | ⋮ | ⋮ | ⋮ | ⋮ | ⋮ | ⋮ | ⋮ |\n",
       "| G0298__maxbin2__High_007     | 107_1 | d__Bacteria | p__Bacteroidota | c__Bacteroidia | o__Bacteroidales  | f__Bacteroidaceae  | g__Phocaeicola | s__Phocaeicola vulgatus | V438__maxbin2__High_006      | ⋯ | 1 | 0 | 0 | 0 | |ebio|abt3_projects|HUBIF_metagenomics|data|pipelines|llg|cophyverttrans|batch2_clusters1-3|round1|llg_output|checkM|4|checkm|markers_qa_summary.tsv.1916 | markers_qa_summary.tsv.1916 | /ebio/abt3_projects/HUBIF_metagenomics/data/pipelines/llg/cophyverttrans/batch2_clusters1-3/round1/llg_output/checkM/4/checkm/markers_qa_summary.tsv.1916 | /ebio/abt3_projects/HUBIF_metagenomics/data/pipelines/llg/cophyverttrans/batch2_clusters1-3/round1/llg_output/drep/drep/dereplicated_genomes/V438__maxbin2__High.006.fna      | phocaeicola vulgatus | infant |\n",
       "| G0323__metabat2__Med_014_sub | 403_2 | d__Bacteria | p__Firmicutes_A | c__Clostridia  | o__Lachnospirales | f__Lachnospiraceae | g__Blautia_A   | s__Blautia_A wexlerae   | G0323__metabat2__Med_014_sub | ⋯ | 2 | 0 | 0 | 0 | |ebio|abt3_projects|HUBIF_metagenomics|data|pipelines|llg|cophyverttrans|batch2_clusters1-3|round1|llg_output|checkM|4|checkm|markers_qa_summary.tsv.546  | markers_qa_summary.tsv.546  | /ebio/abt3_projects/HUBIF_metagenomics/data/pipelines/llg/cophyverttrans/batch2_clusters1-3/round1/llg_output/checkM/4/checkm/markers_qa_summary.tsv.546  | /ebio/abt3_projects/HUBIF_metagenomics/data/pipelines/llg/cophyverttrans/batch2_clusters1-3/round1/llg_output/drep/drep/dereplicated_genomes/G0323__metabat2__Med.014_sub.fna | blautia_a wexlerae   | infant |\n",
       "\n"
      ],
      "text/plain": [
       "     cluster_rep                  secondary_cluster Domain      Phylum         \n",
       "1    V041__vamb__High_012         478_1             d__Bacteria p__Firmicutes  \n",
       "2    V041__vamb__High_012         478_1             d__Bacteria p__Firmicutes  \n",
       "⋮    ⋮                            ⋮                 ⋮           ⋮              \n",
       "2972 G0298__maxbin2__High_007     107_1             d__Bacteria p__Bacteroidota\n",
       "2973 G0323__metabat2__Med_014_sub 403_2             d__Bacteria p__Firmicutes_A\n",
       "     Class          Order                 Family                      \n",
       "1    c__Bacilli     o__Erysipelotrichales f__Erysipelatoclostridiaceae\n",
       "2    c__Bacilli     o__Erysipelotrichales f__Erysipelatoclostridiaceae\n",
       "⋮    ⋮              ⋮                     ⋮                           \n",
       "2972 c__Bacteroidia o__Bacteroidales      f__Bacteroidaceae           \n",
       "2973 c__Clostridia  o__Lachnospirales     f__Lachnospiraceae          \n",
       "     Genus              Species                     \n",
       "1    g__Catenibacterium s__Catenibacterium mitsuokai\n",
       "2    g__Catenibacterium s__Catenibacterium mitsuokai\n",
       "⋮    ⋮                  ⋮                           \n",
       "2972 g__Phocaeicola     s__Phocaeicola vulgatus     \n",
       "2973 g__Blautia_A       s__Blautia_A wexlerae       \n",
       "     genome                       ⋯ X2 X3 X4 X5.\n",
       "1    G0028__vamb__Low_360         ⋯ 7  0  0  0  \n",
       "2    G0032__metabat2__Med_001     ⋯ 3  0  0  0  \n",
       "⋮    ⋮                            ⋱ ⋮  ⋮  ⋮  ⋮  \n",
       "2972 V438__maxbin2__High_006      ⋯ 1  0  0  0  \n",
       "2973 G0323__metabat2__Med_014_sub ⋯ 2  0  0  0  \n",
       "     assembly.Id                                                                                                                                              \n",
       "1    |ebio|abt3_projects|HUBIF_metagenomics|data|pipelines|llg|cophyverttrans|batch2_clusters1-3|round1|llg_output|checkM|2|checkm|markers_qa_summary.tsv.48  \n",
       "2    |ebio|abt3_projects|HUBIF_metagenomics|data|pipelines|llg|cophyverttrans|batch2_clusters1-3|round1|llg_output|checkM|4|checkm|markers_qa_summary.tsv.55  \n",
       "⋮    ⋮                                                                                                                                                        \n",
       "2972 |ebio|abt3_projects|HUBIF_metagenomics|data|pipelines|llg|cophyverttrans|batch2_clusters1-3|round1|llg_output|checkM|4|checkm|markers_qa_summary.tsv.1916\n",
       "2973 |ebio|abt3_projects|HUBIF_metagenomics|data|pipelines|llg|cophyverttrans|batch2_clusters1-3|round1|llg_output|checkM|4|checkm|markers_qa_summary.tsv.546 \n",
       "     assembler.Id               \n",
       "1    markers_qa_summary.tsv.48  \n",
       "2    markers_qa_summary.tsv.55  \n",
       "⋮    ⋮                          \n",
       "2972 markers_qa_summary.tsv.1916\n",
       "2973 markers_qa_summary.tsv.546 \n",
       "     File                                                                                                                                                     \n",
       "1    /ebio/abt3_projects/HUBIF_metagenomics/data/pipelines/llg/cophyverttrans/batch2_clusters1-3/round1/llg_output/checkM/2/checkm/markers_qa_summary.tsv.48  \n",
       "2    /ebio/abt3_projects/HUBIF_metagenomics/data/pipelines/llg/cophyverttrans/batch2_clusters1-3/round1/llg_output/checkM/4/checkm/markers_qa_summary.tsv.55  \n",
       "⋮    ⋮                                                                                                                                                        \n",
       "2972 /ebio/abt3_projects/HUBIF_metagenomics/data/pipelines/llg/cophyverttrans/batch2_clusters1-3/round1/llg_output/checkM/4/checkm/markers_qa_summary.tsv.1916\n",
       "2973 /ebio/abt3_projects/HUBIF_metagenomics/data/pipelines/llg/cophyverttrans/batch2_clusters1-3/round1/llg_output/checkM/4/checkm/markers_qa_summary.tsv.546 \n",
       "     Fasta                                                                                                                                                                        \n",
       "1    /ebio/abt3_projects/HUBIF_metagenomics/data/pipelines/llg/cophyverttrans/batch2_clusters1-3/round1/llg_output/drep/drep/dereplicated_genomes/G0028__vamb__Low.360.fna        \n",
       "2    /ebio/abt3_projects/HUBIF_metagenomics/data/pipelines/llg/cophyverttrans/batch2_clusters1-3/round1/llg_output/drep/drep/dereplicated_genomes/G0032__metabat2__Med.001.fna    \n",
       "⋮    ⋮                                                                                                                                                                            \n",
       "2972 /ebio/abt3_projects/HUBIF_metagenomics/data/pipelines/llg/cophyverttrans/batch2_clusters1-3/round1/llg_output/drep/drep/dereplicated_genomes/V438__maxbin2__High.006.fna     \n",
       "2973 /ebio/abt3_projects/HUBIF_metagenomics/data/pipelines/llg/cophyverttrans/batch2_clusters1-3/round1/llg_output/drep/drep/dereplicated_genomes/G0323__metabat2__Med.014_sub.fna\n",
       "     spec                      age_group\n",
       "1    catenibacterium mitsuokai adult    \n",
       "2    catenibacterium mitsuokai adult    \n",
       "⋮    ⋮                         ⋮        \n",
       "2972 phocaeicola vulgatus      infant   \n",
       "2973 blautia_a wexlerae        infant   "
      ]
     },
     "metadata": {},
     "output_type": "display_data"
    }
   ],
   "source": [
    "# filtering to just co-phylo species\n",
    "drep_f = cophylo_MAGs %>%\n",
    "    mutate.(spec = stringr::str_to_lower(gsub('^s__', '', Species))) %>%\n",
    "    inner_join.(cophylo_spec %>%\n",
    "                    mutate.(spec = stringr::str_to_lower(Species)) %>%\n",
    "                    distinct.(spec, age_group),\n",
    "               by=c('spec')) \n",
    "drep_f$genome %>% unique_n('MAGs')\n",
    "drep_f"
   ]
  },
  {
   "cell_type": "markdown",
   "metadata": {},
   "source": [
    "### Summary"
   ]
  },
  {
   "cell_type": "code",
   "execution_count": 38,
   "metadata": {
    "ExecuteTime": {
     "end_time": "2021-07-30T11:02:29.518114Z",
     "start_time": "2021-07-30T11:02:29.450Z"
    }
   },
   "outputs": [
    {
     "data": {
      "text/html": [
       "<table class=\"dataframe\">\n",
       "<caption>A matrix: 1 × 8 of type dbl</caption>\n",
       "<thead>\n",
       "\t<tr><th></th><th scope=col>Min.</th><th scope=col>1st Qu.</th><th scope=col>Median</th><th scope=col>Mean</th><th scope=col>3rd Qu.</th><th scope=col>Max.</th><th scope=col>sd</th><th scope=col>sd_err_of_mean</th></tr>\n",
       "</thead>\n",
       "<tbody>\n",
       "\t<tr><th scope=row>Completeness</th><td>50.15</td><td>85.68</td><td>95.38</td><td>89.83566</td><td>98.24</td><td>100</td><td>18.612</td><td>7.598</td></tr>\n",
       "</tbody>\n",
       "</table>\n"
      ],
      "text/latex": [
       "A matrix: 1 × 8 of type dbl\n",
       "\\begin{tabular}{r|llllllll}\n",
       "  & Min. & 1st Qu. & Median & Mean & 3rd Qu. & Max. & sd & sd\\_err\\_of\\_mean\\\\\n",
       "\\hline\n",
       "\tCompleteness & 50.15 & 85.68 & 95.38 & 89.83566 & 98.24 & 100 & 18.612 & 7.598\\\\\n",
       "\\end{tabular}\n"
      ],
      "text/markdown": [
       "\n",
       "A matrix: 1 × 8 of type dbl\n",
       "\n",
       "| <!--/--> | Min. | 1st Qu. | Median | Mean | 3rd Qu. | Max. | sd | sd_err_of_mean |\n",
       "|---|---|---|---|---|---|---|---|---|\n",
       "| Completeness | 50.15 | 85.68 | 95.38 | 89.83566 | 98.24 | 100 | 18.612 | 7.598 |\n",
       "\n"
      ],
      "text/plain": [
       "             Min.  1st Qu. Median Mean     3rd Qu. Max. sd     sd_err_of_mean\n",
       "Completeness 50.15 85.68   95.38  89.83566 98.24   100  18.612 7.598         "
      ]
     },
     "metadata": {},
     "output_type": "display_data"
    },
    {
     "data": {
      "text/html": [
       "<table class=\"dataframe\">\n",
       "<caption>A matrix: 1 × 8 of type dbl</caption>\n",
       "<thead>\n",
       "\t<tr><th></th><th scope=col>Min.</th><th scope=col>1st Qu.</th><th scope=col>Median</th><th scope=col>Mean</th><th scope=col>3rd Qu.</th><th scope=col>Max.</th><th scope=col>sd</th><th scope=col>sd_err_of_mean</th></tr>\n",
       "</thead>\n",
       "<tbody>\n",
       "\t<tr><th scope=row>Contamination</th><td>0</td><td>0.48</td><td>1.17</td><td>1.363414</td><td>2.03</td><td>4.96</td><td>1.761</td><td>0.719</td></tr>\n",
       "</tbody>\n",
       "</table>\n"
      ],
      "text/latex": [
       "A matrix: 1 × 8 of type dbl\n",
       "\\begin{tabular}{r|llllllll}\n",
       "  & Min. & 1st Qu. & Median & Mean & 3rd Qu. & Max. & sd & sd\\_err\\_of\\_mean\\\\\n",
       "\\hline\n",
       "\tContamination & 0 & 0.48 & 1.17 & 1.363414 & 2.03 & 4.96 & 1.761 & 0.719\\\\\n",
       "\\end{tabular}\n"
      ],
      "text/markdown": [
       "\n",
       "A matrix: 1 × 8 of type dbl\n",
       "\n",
       "| <!--/--> | Min. | 1st Qu. | Median | Mean | 3rd Qu. | Max. | sd | sd_err_of_mean |\n",
       "|---|---|---|---|---|---|---|---|---|\n",
       "| Contamination | 0 | 0.48 | 1.17 | 1.363414 | 2.03 | 4.96 | 1.761 | 0.719 |\n",
       "\n"
      ],
      "text/plain": [
       "              Min. 1st Qu. Median Mean     3rd Qu. Max. sd    sd_err_of_mean\n",
       "Contamination 0    0.48    1.17   1.363414 2.03    4.96 1.761 0.719         "
      ]
     },
     "metadata": {},
     "output_type": "display_data"
    },
    {
     "data": {
      "text/html": [
       "<table class=\"dataframe\">\n",
       "<caption>A matrix: 1 × 8 of type dbl</caption>\n",
       "<thead>\n",
       "\t<tr><th></th><th scope=col>Min.</th><th scope=col>1st Qu.</th><th scope=col>Median</th><th scope=col>Mean</th><th scope=col>3rd Qu.</th><th scope=col>Max.</th><th scope=col>sd</th><th scope=col>sd_err_of_mean</th></tr>\n",
       "</thead>\n",
       "<tbody>\n",
       "\t<tr><th scope=row>X..contigs</th><td>7</td><td>110</td><td>265</td><td>324.8614</td><td>479</td><td>1575</td><td>570.541</td><td>232.922</td></tr>\n",
       "</tbody>\n",
       "</table>\n"
      ],
      "text/latex": [
       "A matrix: 1 × 8 of type dbl\n",
       "\\begin{tabular}{r|llllllll}\n",
       "  & Min. & 1st Qu. & Median & Mean & 3rd Qu. & Max. & sd & sd\\_err\\_of\\_mean\\\\\n",
       "\\hline\n",
       "\tX..contigs & 7 & 110 & 265 & 324.8614 & 479 & 1575 & 570.541 & 232.922\\\\\n",
       "\\end{tabular}\n"
      ],
      "text/markdown": [
       "\n",
       "A matrix: 1 × 8 of type dbl\n",
       "\n",
       "| <!--/--> | Min. | 1st Qu. | Median | Mean | 3rd Qu. | Max. | sd | sd_err_of_mean |\n",
       "|---|---|---|---|---|---|---|---|---|\n",
       "| X..contigs | 7 | 110 | 265 | 324.8614 | 479 | 1575 | 570.541 | 232.922 |\n",
       "\n"
      ],
      "text/plain": [
       "           Min. 1st Qu. Median Mean     3rd Qu. Max. sd      sd_err_of_mean\n",
       "X..contigs 7    110     265    324.8614 479     1575 570.541 232.922       "
      ]
     },
     "metadata": {},
     "output_type": "display_data"
    },
    {
     "data": {
      "text/html": [
       "<table class=\"dataframe\">\n",
       "<caption>A matrix: 1 × 8 of type dbl</caption>\n",
       "<thead>\n",
       "\t<tr><th></th><th scope=col>Min.</th><th scope=col>1st Qu.</th><th scope=col>Median</th><th scope=col>Mean</th><th scope=col>3rd Qu.</th><th scope=col>Max.</th><th scope=col>sd</th><th scope=col>sd_err_of_mean</th></tr>\n",
       "</thead>\n",
       "<tbody>\n",
       "\t<tr><th scope=row>N50..contigs.</th><td>2510</td><td>6363</td><td>20046</td><td>39244.82</td><td>56221</td><td>1346340</td><td>539865.9</td><td>220399.3</td></tr>\n",
       "</tbody>\n",
       "</table>\n"
      ],
      "text/latex": [
       "A matrix: 1 × 8 of type dbl\n",
       "\\begin{tabular}{r|llllllll}\n",
       "  & Min. & 1st Qu. & Median & Mean & 3rd Qu. & Max. & sd & sd\\_err\\_of\\_mean\\\\\n",
       "\\hline\n",
       "\tN50..contigs. & 2510 & 6363 & 20046 & 39244.82 & 56221 & 1346340 & 539865.9 & 220399.3\\\\\n",
       "\\end{tabular}\n"
      ],
      "text/markdown": [
       "\n",
       "A matrix: 1 × 8 of type dbl\n",
       "\n",
       "| <!--/--> | Min. | 1st Qu. | Median | Mean | 3rd Qu. | Max. | sd | sd_err_of_mean |\n",
       "|---|---|---|---|---|---|---|---|---|\n",
       "| N50..contigs. | 2510 | 6363 | 20046 | 39244.82 | 56221 | 1346340 | 539865.9 | 220399.3 |\n",
       "\n"
      ],
      "text/plain": [
       "              Min. 1st Qu. Median Mean     3rd Qu. Max.    sd      \n",
       "N50..contigs. 2510 6363    20046  39244.82 56221   1346340 539865.9\n",
       "              sd_err_of_mean\n",
       "N50..contigs. 220399.3      "
      ]
     },
     "metadata": {},
     "output_type": "display_data"
    }
   ],
   "source": [
    "summary_x(drep_f$Completeness)\n",
    "summary_x(drep_f$Contamination)\n",
    "summary_x(drep_f$X..contigs)\n",
    "summary_x(drep_f$N50..contigs.)"
   ]
  },
  {
   "cell_type": "code",
   "execution_count": 39,
   "metadata": {
    "ExecuteTime": {
     "end_time": "2021-07-30T11:02:30.268123Z",
     "start_time": "2021-07-30T11:02:30.215Z"
    }
   },
   "outputs": [
    {
     "data": {
      "text/html": [
       "<table class=\"dataframe\">\n",
       "<caption>A tidytable: 5 × 2</caption>\n",
       "<thead>\n",
       "\t<tr><th scope=col>taxonomy</th><th scope=col>n</th></tr>\n",
       "\t<tr><th scope=col>&lt;chr&gt;</th><th scope=col>&lt;int&gt;</th></tr>\n",
       "</thead>\n",
       "<tbody>\n",
       "\t<tr><td>p__Bacteroidota;c__Bacteroidia      </td><td>1652</td></tr>\n",
       "\t<tr><td>p__Firmicutes_A;c__Clostridia       </td><td> 820</td></tr>\n",
       "\t<tr><td>p__Actinobacteriota;c__Actinomycetia</td><td> 457</td></tr>\n",
       "\t<tr><td>p__Firmicutes;c__Bacilli            </td><td>  40</td></tr>\n",
       "\t<tr><td>p__Firmicutes_C;c__Negativicutes    </td><td>   4</td></tr>\n",
       "</tbody>\n",
       "</table>\n"
      ],
      "text/latex": [
       "A tidytable: 5 × 2\n",
       "\\begin{tabular}{ll}\n",
       " taxonomy & n\\\\\n",
       " <chr> & <int>\\\\\n",
       "\\hline\n",
       "\t p\\_\\_Bacteroidota;c\\_\\_Bacteroidia       & 1652\\\\\n",
       "\t p\\_\\_Firmicutes\\_A;c\\_\\_Clostridia        &  820\\\\\n",
       "\t p\\_\\_Actinobacteriota;c\\_\\_Actinomycetia &  457\\\\\n",
       "\t p\\_\\_Firmicutes;c\\_\\_Bacilli             &   40\\\\\n",
       "\t p\\_\\_Firmicutes\\_C;c\\_\\_Negativicutes     &    4\\\\\n",
       "\\end{tabular}\n"
      ],
      "text/markdown": [
       "\n",
       "A tidytable: 5 × 2\n",
       "\n",
       "| taxonomy &lt;chr&gt; | n &lt;int&gt; |\n",
       "|---|---|\n",
       "| p__Bacteroidota;c__Bacteroidia       | 1652 |\n",
       "| p__Firmicutes_A;c__Clostridia        |  820 |\n",
       "| p__Actinobacteriota;c__Actinomycetia |  457 |\n",
       "| p__Firmicutes;c__Bacilli             |   40 |\n",
       "| p__Firmicutes_C;c__Negativicutes     |    4 |\n",
       "\n"
      ],
      "text/plain": [
       "  taxonomy                             n   \n",
       "1 p__Bacteroidota;c__Bacteroidia       1652\n",
       "2 p__Firmicutes_A;c__Clostridia         820\n",
       "3 p__Actinobacteriota;c__Actinomycetia  457\n",
       "4 p__Firmicutes;c__Bacilli               40\n",
       "5 p__Firmicutes_C;c__Negativicutes        4"
      ]
     },
     "metadata": {},
     "output_type": "display_data"
    }
   ],
   "source": [
    "# by class\n",
    "df.dims(50)\n",
    "drep_f %>%\n",
    "    mutate.(taxonomy = paste(Phylum, Class, sep=';')) %>%\n",
    "    summarize.(n = n.(),\n",
    "               .by=c(taxonomy)) %>%\n",
    "    arrange.(-n)\n",
    "df.dims()"
   ]
  },
  {
   "cell_type": "code",
   "execution_count": 40,
   "metadata": {
    "ExecuteTime": {
     "end_time": "2021-07-30T11:02:30.987006Z",
     "start_time": "2021-07-30T11:02:30.881Z"
    }
   },
   "outputs": [
    {
     "data": {
      "text/html": [
       "<table class=\"dataframe\">\n",
       "<caption>A tidytable: 45 × 8</caption>\n",
       "<thead>\n",
       "\t<tr><th scope=col>Phylum</th><th scope=col>Class</th><th scope=col>Order</th><th scope=col>Family</th><th scope=col>Genus</th><th scope=col>Species</th><th scope=col>age_group</th><th scope=col>n</th></tr>\n",
       "\t<tr><th scope=col>&lt;chr&gt;</th><th scope=col>&lt;chr&gt;</th><th scope=col>&lt;chr&gt;</th><th scope=col>&lt;chr&gt;</th><th scope=col>&lt;chr&gt;</th><th scope=col>&lt;chr&gt;</th><th scope=col>&lt;chr&gt;</th><th scope=col>&lt;int&gt;</th></tr>\n",
       "</thead>\n",
       "<tbody>\n",
       "\t<tr><td>p__Bacteroidota    </td><td>c__Bacteroidia  </td><td>o__Bacteroidales     </td><td>f__Bacteroidaceae           </td><td>g__Phocaeicola        </td><td>s__Phocaeicola vulgatus           </td><td>adult </td><td>290</td></tr>\n",
       "\t<tr><td>p__Firmicutes_A    </td><td>c__Clostridia   </td><td>o__Lachnospirales    </td><td>f__Lachnospiraceae          </td><td>g__Agathobacter       </td><td>s__Agathobacter rectalis          </td><td>adult </td><td>224</td></tr>\n",
       "\t<tr><td>p__Actinobacteriota</td><td>c__Actinomycetia</td><td>o__Actinomycetales   </td><td>f__Bifidobacteriaceae       </td><td>g__Bifidobacterium    </td><td>s__Bifidobacterium longum         </td><td>adult </td><td>177</td></tr>\n",
       "\t<tr><td>p__Bacteroidota    </td><td>c__Bacteroidia  </td><td>o__Bacteroidales     </td><td>f__Bacteroidaceae           </td><td>g__Prevotella         </td><td>s__Prevotella copri               </td><td>adult </td><td>148</td></tr>\n",
       "\t<tr><td>p__Bacteroidota    </td><td>c__Bacteroidia  </td><td>o__Bacteroidales     </td><td>f__Bacteroidaceae           </td><td>g__Bacteroides        </td><td>s__Bacteroides uniformis          </td><td>adult </td><td>146</td></tr>\n",
       "\t<tr><td>p__Bacteroidota    </td><td>c__Bacteroidia  </td><td>o__Bacteroidales     </td><td>f__Rikenellaceae            </td><td>g__Alistipes          </td><td>s__Alistipes putredinis           </td><td>adult </td><td>117</td></tr>\n",
       "\t<tr><td>p__Firmicutes_A    </td><td>c__Clostridia   </td><td>o__Oscillospirales   </td><td>f__Acutalibacteraceae       </td><td>g__CAG-180            </td><td>s__CAG-180 sp000432435            </td><td>adult </td><td> 87</td></tr>\n",
       "\t<tr><td>p__Firmicutes_A    </td><td>c__Clostridia   </td><td>o__Lachnospirales    </td><td>f__Lachnospiraceae          </td><td>g__Lachnospira        </td><td>s__Lachnospira eligens_B          </td><td>adult </td><td> 85</td></tr>\n",
       "\t<tr><td>p__Firmicutes_A    </td><td>c__Clostridia   </td><td>o__Lachnospirales    </td><td>f__Lachnospiraceae          </td><td>g__Agathobacter       </td><td>s__Agathobacter faecis            </td><td>adult </td><td> 81</td></tr>\n",
       "\t<tr><td>p__Firmicutes_A    </td><td>c__Clostridia   </td><td>o__Lachnospirales    </td><td>f__Lachnospiraceae          </td><td>g__Lachnospira        </td><td>s__Lachnospira rogosae            </td><td>adult </td><td> 67</td></tr>\n",
       "\t<tr><td>p__Firmicutes_A    </td><td>c__Clostridia   </td><td>o__Oscillospirales   </td><td>f__Ruminococcaceae          </td><td>g__Ruminococcus_D     </td><td>s__Ruminococcus_D bicirculans     </td><td>adult </td><td> 66</td></tr>\n",
       "\t<tr><td>p__Bacteroidota    </td><td>c__Bacteroidia  </td><td>o__Bacteroidales     </td><td>f__Tannerellaceae           </td><td>g__Parabacteroides    </td><td>s__Parabacteroides distasonis     </td><td>adult </td><td> 58</td></tr>\n",
       "\t<tr><td>p__Bacteroidota    </td><td>c__Bacteroidia  </td><td>o__Bacteroidales     </td><td>f__Barnesiellaceae          </td><td>g__Barnesiella        </td><td>s__Barnesiella intestinihominis   </td><td>adult </td><td> 54</td></tr>\n",
       "\t<tr><td>p__Bacteroidota    </td><td>c__Bacteroidia  </td><td>o__Bacteroidales     </td><td>f__Bacteroidaceae           </td><td>g__Bacteroides        </td><td>s__Bacteroides ovatus             </td><td>adult </td><td> 42</td></tr>\n",
       "\t<tr><td>p__Firmicutes_A    </td><td>c__Clostridia   </td><td>o__Lachnospirales    </td><td>f__Lachnospiraceae          </td><td>g__Anaerostipes       </td><td>s__Anaerostipes hadrus            </td><td>adult </td><td> 32</td></tr>\n",
       "\t<tr><td>p__Firmicutes_A    </td><td>c__Clostridia   </td><td>o__Oscillospirales   </td><td>f__Acutalibacteraceae       </td><td>g__Eubacterium_R      </td><td>s__Eubacterium_R sp000436835      </td><td>adult </td><td> 30</td></tr>\n",
       "\t<tr><td>p__Firmicutes_A    </td><td>c__Clostridia   </td><td>o__Oscillospirales   </td><td>f__Ruminococcaceae          </td><td>g__Ruminiclostridium_E</td><td>s__Ruminiclostridium_E siraeum    </td><td>adult </td><td> 29</td></tr>\n",
       "\t<tr><td>p__Firmicutes_A    </td><td>c__Clostridia   </td><td>o__Lachnospirales    </td><td>f__Lachnospiraceae          </td><td>g__Fusicatenibacter   </td><td>s__Fusicatenibacter saccharivorans</td><td>adult </td><td> 29</td></tr>\n",
       "\t<tr><td>p__Firmicutes      </td><td>c__Bacilli      </td><td>o__Erysipelotrichales</td><td>f__Erysipelatoclostridiaceae</td><td>g__Catenibacterium    </td><td>s__Catenibacterium mitsuokai      </td><td>adult </td><td> 28</td></tr>\n",
       "\t<tr><td>p__Actinobacteriota</td><td>c__Actinomycetia</td><td>o__Actinomycetales   </td><td>f__Bifidobacteriaceae       </td><td>g__Bifidobacterium    </td><td>s__Bifidobacterium adolescentis   </td><td>adult </td><td> 28</td></tr>\n",
       "\t<tr><td>p__Bacteroidota    </td><td>c__Bacteroidia  </td><td>o__Bacteroidales     </td><td>f__Marinifilaceae           </td><td>g__Odoribacter        </td><td>s__Odoribacter splanchnicus       </td><td>adult </td><td> 23</td></tr>\n",
       "\t<tr><td>p__Bacteroidota    </td><td>c__Bacteroidia  </td><td>o__Bacteroidales     </td><td>f__Tannerellaceae           </td><td>g__Parabacteroides    </td><td>s__Parabacteroides merdae         </td><td>adult </td><td> 22</td></tr>\n",
       "\t<tr><td>p__Bacteroidota    </td><td>c__Bacteroidia  </td><td>o__Bacteroidales     </td><td>f__Bacteroidaceae           </td><td>g__Bacteroides        </td><td>s__Bacteroides thetaiotaomicron   </td><td>adult </td><td> 15</td></tr>\n",
       "\t<tr><td>p__Firmicutes_A    </td><td>c__Clostridia   </td><td>o__Lachnospirales    </td><td>f__Lachnospiraceae          </td><td>g__Roseburia          </td><td>s__Roseburia intestinalis         </td><td>adult </td><td> 13</td></tr>\n",
       "\t<tr><td>p__Bacteroidota    </td><td>c__Bacteroidia  </td><td>o__Bacteroidales     </td><td>f__Bacteroidaceae           </td><td>g__Bacteroides        </td><td>s__Bacteroides xylanisolvens      </td><td>adult </td><td> 13</td></tr>\n",
       "\t<tr><td>p__Bacteroidota    </td><td>c__Bacteroidia  </td><td>o__Bacteroidales     </td><td>f__Bacteroidaceae           </td><td>g__Bacteroides        </td><td>s__Bacteroides caccae             </td><td>adult </td><td> 12</td></tr>\n",
       "\t<tr><td>p__Firmicutes      </td><td>c__Bacilli      </td><td>o__Erysipelotrichales</td><td>f__Erysipelotrichaceae      </td><td>g__Holdemanella       </td><td>s__Holdemanella biformis          </td><td>adult </td><td> 12</td></tr>\n",
       "\t<tr><td>p__Firmicutes_A    </td><td>c__Clostridia   </td><td>o__Lachnospirales    </td><td>f__Lachnospiraceae          </td><td>g__Mediterraneibacter </td><td>s__Mediterraneibacter torques     </td><td>adult </td><td> 10</td></tr>\n",
       "\t<tr><td>p__Firmicutes_A    </td><td>c__Clostridia   </td><td>o__Oscillospirales   </td><td>f__Oscillospiraceae         </td><td>g__CAG-83             </td><td>s__CAG-83 sp000435975             </td><td>adult </td><td>  8</td></tr>\n",
       "\t<tr><td>p__Firmicutes_A    </td><td>c__Clostridia   </td><td>o__Lachnospirales    </td><td>f__Lachnospiraceae          </td><td>g__Bariatricus        </td><td>s__Bariatricus comes              </td><td>adult </td><td>  6</td></tr>\n",
       "\t<tr><td>p__Firmicutes_A    </td><td>c__Clostridia   </td><td>o__Lachnospirales    </td><td>f__Lachnospiraceae          </td><td>g__Anaerobutyricum    </td><td>s__Anaerobutyricum hallii         </td><td>adult </td><td>  6</td></tr>\n",
       "\t<tr><td>p__Firmicutes_A    </td><td>c__Clostridia   </td><td>o__Lachnospirales    </td><td>f__Lachnospiraceae          </td><td>g__Blautia_A          </td><td>s__Blautia_A wexlerae             </td><td>adult </td><td>  1</td></tr>\n",
       "\t<tr><td>p__Bacteroidota    </td><td>c__Bacteroidia  </td><td>o__Bacteroidales     </td><td>f__Bacteroidaceae           </td><td>g__Phocaeicola        </td><td>s__Phocaeicola vulgatus           </td><td>infant</td><td>290</td></tr>\n",
       "\t<tr><td>p__Actinobacteriota</td><td>c__Actinomycetia</td><td>o__Actinomycetales   </td><td>f__Bifidobacteriaceae       </td><td>g__Bifidobacterium    </td><td>s__Bifidobacterium longum         </td><td>infant</td><td>177</td></tr>\n",
       "\t<tr><td>p__Bacteroidota    </td><td>c__Bacteroidia  </td><td>o__Bacteroidales     </td><td>f__Bacteroidaceae           </td><td>g__Prevotella         </td><td>s__Prevotella copri               </td><td>infant</td><td>148</td></tr>\n",
       "\t<tr><td>p__Bacteroidota    </td><td>c__Bacteroidia  </td><td>o__Bacteroidales     </td><td>f__Bacteroidaceae           </td><td>g__Bacteroides        </td><td>s__Bacteroides uniformis          </td><td>infant</td><td>146</td></tr>\n",
       "\t<tr><td>p__Bacteroidota    </td><td>c__Bacteroidia  </td><td>o__Bacteroidales     </td><td>f__Tannerellaceae           </td><td>g__Parabacteroides    </td><td>s__Parabacteroides distasonis     </td><td>infant</td><td> 58</td></tr>\n",
       "\t<tr><td>p__Firmicutes_A    </td><td>c__Clostridia   </td><td>o__Lachnospirales    </td><td>f__Lachnospiraceae          </td><td>g__Ruminococcus_B     </td><td>s__Ruminococcus_B gnavus          </td><td>infant</td><td> 45</td></tr>\n",
       "\t<tr><td>p__Bacteroidota    </td><td>c__Bacteroidia  </td><td>o__Bacteroidales     </td><td>f__Bacteroidaceae           </td><td>g__Bacteroides        </td><td>s__Bacteroides ovatus             </td><td>infant</td><td> 42</td></tr>\n",
       "\t<tr><td>p__Actinobacteriota</td><td>c__Actinomycetia</td><td>o__Actinomycetales   </td><td>f__Bifidobacteriaceae       </td><td>g__Bifidobacterium    </td><td>s__Bifidobacterium bifidum        </td><td>infant</td><td> 40</td></tr>\n",
       "\t<tr><td>p__Actinobacteriota</td><td>c__Actinomycetia</td><td>o__Actinomycetales   </td><td>f__Bifidobacteriaceae       </td><td>g__Bifidobacterium    </td><td>s__Bifidobacterium breve          </td><td>infant</td><td> 35</td></tr>\n",
       "\t<tr><td>p__Bacteroidota    </td><td>c__Bacteroidia  </td><td>o__Bacteroidales     </td><td>f__Bacteroidaceae           </td><td>g__Bacteroides        </td><td>s__Bacteroides thetaiotaomicron   </td><td>infant</td><td> 15</td></tr>\n",
       "\t<tr><td>p__Bacteroidota    </td><td>c__Bacteroidia  </td><td>o__Bacteroidales     </td><td>f__Bacteroidaceae           </td><td>g__Bacteroides        </td><td>s__Bacteroides xylanisolvens      </td><td>infant</td><td> 13</td></tr>\n",
       "\t<tr><td>p__Firmicutes_C    </td><td>c__Negativicutes</td><td>o__Veillonellales    </td><td>f__Veillonellaceae          </td><td>g__Veillonella        </td><td>s__Veillonella atypica            </td><td>infant</td><td>  4</td></tr>\n",
       "\t<tr><td>p__Firmicutes_A    </td><td>c__Clostridia   </td><td>o__Lachnospirales    </td><td>f__Lachnospiraceae          </td><td>g__Blautia_A          </td><td>s__Blautia_A wexlerae             </td><td>infant</td><td>  1</td></tr>\n",
       "</tbody>\n",
       "</table>\n"
      ],
      "text/latex": [
       "A tidytable: 45 × 8\n",
       "\\begin{tabular}{llllllll}\n",
       " Phylum & Class & Order & Family & Genus & Species & age\\_group & n\\\\\n",
       " <chr> & <chr> & <chr> & <chr> & <chr> & <chr> & <chr> & <int>\\\\\n",
       "\\hline\n",
       "\t p\\_\\_Bacteroidota     & c\\_\\_Bacteroidia   & o\\_\\_Bacteroidales      & f\\_\\_Bacteroidaceae            & g\\_\\_Phocaeicola         & s\\_\\_Phocaeicola vulgatus            & adult  & 290\\\\\n",
       "\t p\\_\\_Firmicutes\\_A     & c\\_\\_Clostridia    & o\\_\\_Lachnospirales     & f\\_\\_Lachnospiraceae           & g\\_\\_Agathobacter        & s\\_\\_Agathobacter rectalis           & adult  & 224\\\\\n",
       "\t p\\_\\_Actinobacteriota & c\\_\\_Actinomycetia & o\\_\\_Actinomycetales    & f\\_\\_Bifidobacteriaceae        & g\\_\\_Bifidobacterium     & s\\_\\_Bifidobacterium longum          & adult  & 177\\\\\n",
       "\t p\\_\\_Bacteroidota     & c\\_\\_Bacteroidia   & o\\_\\_Bacteroidales      & f\\_\\_Bacteroidaceae            & g\\_\\_Prevotella          & s\\_\\_Prevotella copri                & adult  & 148\\\\\n",
       "\t p\\_\\_Bacteroidota     & c\\_\\_Bacteroidia   & o\\_\\_Bacteroidales      & f\\_\\_Bacteroidaceae            & g\\_\\_Bacteroides         & s\\_\\_Bacteroides uniformis           & adult  & 146\\\\\n",
       "\t p\\_\\_Bacteroidota     & c\\_\\_Bacteroidia   & o\\_\\_Bacteroidales      & f\\_\\_Rikenellaceae             & g\\_\\_Alistipes           & s\\_\\_Alistipes putredinis            & adult  & 117\\\\\n",
       "\t p\\_\\_Firmicutes\\_A     & c\\_\\_Clostridia    & o\\_\\_Oscillospirales    & f\\_\\_Acutalibacteraceae        & g\\_\\_CAG-180             & s\\_\\_CAG-180 sp000432435             & adult  &  87\\\\\n",
       "\t p\\_\\_Firmicutes\\_A     & c\\_\\_Clostridia    & o\\_\\_Lachnospirales     & f\\_\\_Lachnospiraceae           & g\\_\\_Lachnospira         & s\\_\\_Lachnospira eligens\\_B           & adult  &  85\\\\\n",
       "\t p\\_\\_Firmicutes\\_A     & c\\_\\_Clostridia    & o\\_\\_Lachnospirales     & f\\_\\_Lachnospiraceae           & g\\_\\_Agathobacter        & s\\_\\_Agathobacter faecis             & adult  &  81\\\\\n",
       "\t p\\_\\_Firmicutes\\_A     & c\\_\\_Clostridia    & o\\_\\_Lachnospirales     & f\\_\\_Lachnospiraceae           & g\\_\\_Lachnospira         & s\\_\\_Lachnospira rogosae             & adult  &  67\\\\\n",
       "\t p\\_\\_Firmicutes\\_A     & c\\_\\_Clostridia    & o\\_\\_Oscillospirales    & f\\_\\_Ruminococcaceae           & g\\_\\_Ruminococcus\\_D      & s\\_\\_Ruminococcus\\_D bicirculans      & adult  &  66\\\\\n",
       "\t p\\_\\_Bacteroidota     & c\\_\\_Bacteroidia   & o\\_\\_Bacteroidales      & f\\_\\_Tannerellaceae            & g\\_\\_Parabacteroides     & s\\_\\_Parabacteroides distasonis      & adult  &  58\\\\\n",
       "\t p\\_\\_Bacteroidota     & c\\_\\_Bacteroidia   & o\\_\\_Bacteroidales      & f\\_\\_Barnesiellaceae           & g\\_\\_Barnesiella         & s\\_\\_Barnesiella intestinihominis    & adult  &  54\\\\\n",
       "\t p\\_\\_Bacteroidota     & c\\_\\_Bacteroidia   & o\\_\\_Bacteroidales      & f\\_\\_Bacteroidaceae            & g\\_\\_Bacteroides         & s\\_\\_Bacteroides ovatus              & adult  &  42\\\\\n",
       "\t p\\_\\_Firmicutes\\_A     & c\\_\\_Clostridia    & o\\_\\_Lachnospirales     & f\\_\\_Lachnospiraceae           & g\\_\\_Anaerostipes        & s\\_\\_Anaerostipes hadrus             & adult  &  32\\\\\n",
       "\t p\\_\\_Firmicutes\\_A     & c\\_\\_Clostridia    & o\\_\\_Oscillospirales    & f\\_\\_Acutalibacteraceae        & g\\_\\_Eubacterium\\_R       & s\\_\\_Eubacterium\\_R sp000436835       & adult  &  30\\\\\n",
       "\t p\\_\\_Firmicutes\\_A     & c\\_\\_Clostridia    & o\\_\\_Oscillospirales    & f\\_\\_Ruminococcaceae           & g\\_\\_Ruminiclostridium\\_E & s\\_\\_Ruminiclostridium\\_E siraeum     & adult  &  29\\\\\n",
       "\t p\\_\\_Firmicutes\\_A     & c\\_\\_Clostridia    & o\\_\\_Lachnospirales     & f\\_\\_Lachnospiraceae           & g\\_\\_Fusicatenibacter    & s\\_\\_Fusicatenibacter saccharivorans & adult  &  29\\\\\n",
       "\t p\\_\\_Firmicutes       & c\\_\\_Bacilli       & o\\_\\_Erysipelotrichales & f\\_\\_Erysipelatoclostridiaceae & g\\_\\_Catenibacterium     & s\\_\\_Catenibacterium mitsuokai       & adult  &  28\\\\\n",
       "\t p\\_\\_Actinobacteriota & c\\_\\_Actinomycetia & o\\_\\_Actinomycetales    & f\\_\\_Bifidobacteriaceae        & g\\_\\_Bifidobacterium     & s\\_\\_Bifidobacterium adolescentis    & adult  &  28\\\\\n",
       "\t p\\_\\_Bacteroidota     & c\\_\\_Bacteroidia   & o\\_\\_Bacteroidales      & f\\_\\_Marinifilaceae            & g\\_\\_Odoribacter         & s\\_\\_Odoribacter splanchnicus        & adult  &  23\\\\\n",
       "\t p\\_\\_Bacteroidota     & c\\_\\_Bacteroidia   & o\\_\\_Bacteroidales      & f\\_\\_Tannerellaceae            & g\\_\\_Parabacteroides     & s\\_\\_Parabacteroides merdae          & adult  &  22\\\\\n",
       "\t p\\_\\_Bacteroidota     & c\\_\\_Bacteroidia   & o\\_\\_Bacteroidales      & f\\_\\_Bacteroidaceae            & g\\_\\_Bacteroides         & s\\_\\_Bacteroides thetaiotaomicron    & adult  &  15\\\\\n",
       "\t p\\_\\_Firmicutes\\_A     & c\\_\\_Clostridia    & o\\_\\_Lachnospirales     & f\\_\\_Lachnospiraceae           & g\\_\\_Roseburia           & s\\_\\_Roseburia intestinalis          & adult  &  13\\\\\n",
       "\t p\\_\\_Bacteroidota     & c\\_\\_Bacteroidia   & o\\_\\_Bacteroidales      & f\\_\\_Bacteroidaceae            & g\\_\\_Bacteroides         & s\\_\\_Bacteroides xylanisolvens       & adult  &  13\\\\\n",
       "\t p\\_\\_Bacteroidota     & c\\_\\_Bacteroidia   & o\\_\\_Bacteroidales      & f\\_\\_Bacteroidaceae            & g\\_\\_Bacteroides         & s\\_\\_Bacteroides caccae              & adult  &  12\\\\\n",
       "\t p\\_\\_Firmicutes       & c\\_\\_Bacilli       & o\\_\\_Erysipelotrichales & f\\_\\_Erysipelotrichaceae       & g\\_\\_Holdemanella        & s\\_\\_Holdemanella biformis           & adult  &  12\\\\\n",
       "\t p\\_\\_Firmicutes\\_A     & c\\_\\_Clostridia    & o\\_\\_Lachnospirales     & f\\_\\_Lachnospiraceae           & g\\_\\_Mediterraneibacter  & s\\_\\_Mediterraneibacter torques      & adult  &  10\\\\\n",
       "\t p\\_\\_Firmicutes\\_A     & c\\_\\_Clostridia    & o\\_\\_Oscillospirales    & f\\_\\_Oscillospiraceae          & g\\_\\_CAG-83              & s\\_\\_CAG-83 sp000435975              & adult  &   8\\\\\n",
       "\t p\\_\\_Firmicutes\\_A     & c\\_\\_Clostridia    & o\\_\\_Lachnospirales     & f\\_\\_Lachnospiraceae           & g\\_\\_Bariatricus         & s\\_\\_Bariatricus comes               & adult  &   6\\\\\n",
       "\t p\\_\\_Firmicutes\\_A     & c\\_\\_Clostridia    & o\\_\\_Lachnospirales     & f\\_\\_Lachnospiraceae           & g\\_\\_Anaerobutyricum     & s\\_\\_Anaerobutyricum hallii          & adult  &   6\\\\\n",
       "\t p\\_\\_Firmicutes\\_A     & c\\_\\_Clostridia    & o\\_\\_Lachnospirales     & f\\_\\_Lachnospiraceae           & g\\_\\_Blautia\\_A           & s\\_\\_Blautia\\_A wexlerae              & adult  &   1\\\\\n",
       "\t p\\_\\_Bacteroidota     & c\\_\\_Bacteroidia   & o\\_\\_Bacteroidales      & f\\_\\_Bacteroidaceae            & g\\_\\_Phocaeicola         & s\\_\\_Phocaeicola vulgatus            & infant & 290\\\\\n",
       "\t p\\_\\_Actinobacteriota & c\\_\\_Actinomycetia & o\\_\\_Actinomycetales    & f\\_\\_Bifidobacteriaceae        & g\\_\\_Bifidobacterium     & s\\_\\_Bifidobacterium longum          & infant & 177\\\\\n",
       "\t p\\_\\_Bacteroidota     & c\\_\\_Bacteroidia   & o\\_\\_Bacteroidales      & f\\_\\_Bacteroidaceae            & g\\_\\_Prevotella          & s\\_\\_Prevotella copri                & infant & 148\\\\\n",
       "\t p\\_\\_Bacteroidota     & c\\_\\_Bacteroidia   & o\\_\\_Bacteroidales      & f\\_\\_Bacteroidaceae            & g\\_\\_Bacteroides         & s\\_\\_Bacteroides uniformis           & infant & 146\\\\\n",
       "\t p\\_\\_Bacteroidota     & c\\_\\_Bacteroidia   & o\\_\\_Bacteroidales      & f\\_\\_Tannerellaceae            & g\\_\\_Parabacteroides     & s\\_\\_Parabacteroides distasonis      & infant &  58\\\\\n",
       "\t p\\_\\_Firmicutes\\_A     & c\\_\\_Clostridia    & o\\_\\_Lachnospirales     & f\\_\\_Lachnospiraceae           & g\\_\\_Ruminococcus\\_B      & s\\_\\_Ruminococcus\\_B gnavus           & infant &  45\\\\\n",
       "\t p\\_\\_Bacteroidota     & c\\_\\_Bacteroidia   & o\\_\\_Bacteroidales      & f\\_\\_Bacteroidaceae            & g\\_\\_Bacteroides         & s\\_\\_Bacteroides ovatus              & infant &  42\\\\\n",
       "\t p\\_\\_Actinobacteriota & c\\_\\_Actinomycetia & o\\_\\_Actinomycetales    & f\\_\\_Bifidobacteriaceae        & g\\_\\_Bifidobacterium     & s\\_\\_Bifidobacterium bifidum         & infant &  40\\\\\n",
       "\t p\\_\\_Actinobacteriota & c\\_\\_Actinomycetia & o\\_\\_Actinomycetales    & f\\_\\_Bifidobacteriaceae        & g\\_\\_Bifidobacterium     & s\\_\\_Bifidobacterium breve           & infant &  35\\\\\n",
       "\t p\\_\\_Bacteroidota     & c\\_\\_Bacteroidia   & o\\_\\_Bacteroidales      & f\\_\\_Bacteroidaceae            & g\\_\\_Bacteroides         & s\\_\\_Bacteroides thetaiotaomicron    & infant &  15\\\\\n",
       "\t p\\_\\_Bacteroidota     & c\\_\\_Bacteroidia   & o\\_\\_Bacteroidales      & f\\_\\_Bacteroidaceae            & g\\_\\_Bacteroides         & s\\_\\_Bacteroides xylanisolvens       & infant &  13\\\\\n",
       "\t p\\_\\_Firmicutes\\_C     & c\\_\\_Negativicutes & o\\_\\_Veillonellales     & f\\_\\_Veillonellaceae           & g\\_\\_Veillonella         & s\\_\\_Veillonella atypica             & infant &   4\\\\\n",
       "\t p\\_\\_Firmicutes\\_A     & c\\_\\_Clostridia    & o\\_\\_Lachnospirales     & f\\_\\_Lachnospiraceae           & g\\_\\_Blautia\\_A           & s\\_\\_Blautia\\_A wexlerae              & infant &   1\\\\\n",
       "\\end{tabular}\n"
      ],
      "text/markdown": [
       "\n",
       "A tidytable: 45 × 8\n",
       "\n",
       "| Phylum &lt;chr&gt; | Class &lt;chr&gt; | Order &lt;chr&gt; | Family &lt;chr&gt; | Genus &lt;chr&gt; | Species &lt;chr&gt; | age_group &lt;chr&gt; | n &lt;int&gt; |\n",
       "|---|---|---|---|---|---|---|---|\n",
       "| p__Bacteroidota     | c__Bacteroidia   | o__Bacteroidales      | f__Bacteroidaceae            | g__Phocaeicola         | s__Phocaeicola vulgatus            | adult  | 290 |\n",
       "| p__Firmicutes_A     | c__Clostridia    | o__Lachnospirales     | f__Lachnospiraceae           | g__Agathobacter        | s__Agathobacter rectalis           | adult  | 224 |\n",
       "| p__Actinobacteriota | c__Actinomycetia | o__Actinomycetales    | f__Bifidobacteriaceae        | g__Bifidobacterium     | s__Bifidobacterium longum          | adult  | 177 |\n",
       "| p__Bacteroidota     | c__Bacteroidia   | o__Bacteroidales      | f__Bacteroidaceae            | g__Prevotella          | s__Prevotella copri                | adult  | 148 |\n",
       "| p__Bacteroidota     | c__Bacteroidia   | o__Bacteroidales      | f__Bacteroidaceae            | g__Bacteroides         | s__Bacteroides uniformis           | adult  | 146 |\n",
       "| p__Bacteroidota     | c__Bacteroidia   | o__Bacteroidales      | f__Rikenellaceae             | g__Alistipes           | s__Alistipes putredinis            | adult  | 117 |\n",
       "| p__Firmicutes_A     | c__Clostridia    | o__Oscillospirales    | f__Acutalibacteraceae        | g__CAG-180             | s__CAG-180 sp000432435             | adult  |  87 |\n",
       "| p__Firmicutes_A     | c__Clostridia    | o__Lachnospirales     | f__Lachnospiraceae           | g__Lachnospira         | s__Lachnospira eligens_B           | adult  |  85 |\n",
       "| p__Firmicutes_A     | c__Clostridia    | o__Lachnospirales     | f__Lachnospiraceae           | g__Agathobacter        | s__Agathobacter faecis             | adult  |  81 |\n",
       "| p__Firmicutes_A     | c__Clostridia    | o__Lachnospirales     | f__Lachnospiraceae           | g__Lachnospira         | s__Lachnospira rogosae             | adult  |  67 |\n",
       "| p__Firmicutes_A     | c__Clostridia    | o__Oscillospirales    | f__Ruminococcaceae           | g__Ruminococcus_D      | s__Ruminococcus_D bicirculans      | adult  |  66 |\n",
       "| p__Bacteroidota     | c__Bacteroidia   | o__Bacteroidales      | f__Tannerellaceae            | g__Parabacteroides     | s__Parabacteroides distasonis      | adult  |  58 |\n",
       "| p__Bacteroidota     | c__Bacteroidia   | o__Bacteroidales      | f__Barnesiellaceae           | g__Barnesiella         | s__Barnesiella intestinihominis    | adult  |  54 |\n",
       "| p__Bacteroidota     | c__Bacteroidia   | o__Bacteroidales      | f__Bacteroidaceae            | g__Bacteroides         | s__Bacteroides ovatus              | adult  |  42 |\n",
       "| p__Firmicutes_A     | c__Clostridia    | o__Lachnospirales     | f__Lachnospiraceae           | g__Anaerostipes        | s__Anaerostipes hadrus             | adult  |  32 |\n",
       "| p__Firmicutes_A     | c__Clostridia    | o__Oscillospirales    | f__Acutalibacteraceae        | g__Eubacterium_R       | s__Eubacterium_R sp000436835       | adult  |  30 |\n",
       "| p__Firmicutes_A     | c__Clostridia    | o__Oscillospirales    | f__Ruminococcaceae           | g__Ruminiclostridium_E | s__Ruminiclostridium_E siraeum     | adult  |  29 |\n",
       "| p__Firmicutes_A     | c__Clostridia    | o__Lachnospirales     | f__Lachnospiraceae           | g__Fusicatenibacter    | s__Fusicatenibacter saccharivorans | adult  |  29 |\n",
       "| p__Firmicutes       | c__Bacilli       | o__Erysipelotrichales | f__Erysipelatoclostridiaceae | g__Catenibacterium     | s__Catenibacterium mitsuokai       | adult  |  28 |\n",
       "| p__Actinobacteriota | c__Actinomycetia | o__Actinomycetales    | f__Bifidobacteriaceae        | g__Bifidobacterium     | s__Bifidobacterium adolescentis    | adult  |  28 |\n",
       "| p__Bacteroidota     | c__Bacteroidia   | o__Bacteroidales      | f__Marinifilaceae            | g__Odoribacter         | s__Odoribacter splanchnicus        | adult  |  23 |\n",
       "| p__Bacteroidota     | c__Bacteroidia   | o__Bacteroidales      | f__Tannerellaceae            | g__Parabacteroides     | s__Parabacteroides merdae          | adult  |  22 |\n",
       "| p__Bacteroidota     | c__Bacteroidia   | o__Bacteroidales      | f__Bacteroidaceae            | g__Bacteroides         | s__Bacteroides thetaiotaomicron    | adult  |  15 |\n",
       "| p__Firmicutes_A     | c__Clostridia    | o__Lachnospirales     | f__Lachnospiraceae           | g__Roseburia           | s__Roseburia intestinalis          | adult  |  13 |\n",
       "| p__Bacteroidota     | c__Bacteroidia   | o__Bacteroidales      | f__Bacteroidaceae            | g__Bacteroides         | s__Bacteroides xylanisolvens       | adult  |  13 |\n",
       "| p__Bacteroidota     | c__Bacteroidia   | o__Bacteroidales      | f__Bacteroidaceae            | g__Bacteroides         | s__Bacteroides caccae              | adult  |  12 |\n",
       "| p__Firmicutes       | c__Bacilli       | o__Erysipelotrichales | f__Erysipelotrichaceae       | g__Holdemanella        | s__Holdemanella biformis           | adult  |  12 |\n",
       "| p__Firmicutes_A     | c__Clostridia    | o__Lachnospirales     | f__Lachnospiraceae           | g__Mediterraneibacter  | s__Mediterraneibacter torques      | adult  |  10 |\n",
       "| p__Firmicutes_A     | c__Clostridia    | o__Oscillospirales    | f__Oscillospiraceae          | g__CAG-83              | s__CAG-83 sp000435975              | adult  |   8 |\n",
       "| p__Firmicutes_A     | c__Clostridia    | o__Lachnospirales     | f__Lachnospiraceae           | g__Bariatricus         | s__Bariatricus comes               | adult  |   6 |\n",
       "| p__Firmicutes_A     | c__Clostridia    | o__Lachnospirales     | f__Lachnospiraceae           | g__Anaerobutyricum     | s__Anaerobutyricum hallii          | adult  |   6 |\n",
       "| p__Firmicutes_A     | c__Clostridia    | o__Lachnospirales     | f__Lachnospiraceae           | g__Blautia_A           | s__Blautia_A wexlerae              | adult  |   1 |\n",
       "| p__Bacteroidota     | c__Bacteroidia   | o__Bacteroidales      | f__Bacteroidaceae            | g__Phocaeicola         | s__Phocaeicola vulgatus            | infant | 290 |\n",
       "| p__Actinobacteriota | c__Actinomycetia | o__Actinomycetales    | f__Bifidobacteriaceae        | g__Bifidobacterium     | s__Bifidobacterium longum          | infant | 177 |\n",
       "| p__Bacteroidota     | c__Bacteroidia   | o__Bacteroidales      | f__Bacteroidaceae            | g__Prevotella          | s__Prevotella copri                | infant | 148 |\n",
       "| p__Bacteroidota     | c__Bacteroidia   | o__Bacteroidales      | f__Bacteroidaceae            | g__Bacteroides         | s__Bacteroides uniformis           | infant | 146 |\n",
       "| p__Bacteroidota     | c__Bacteroidia   | o__Bacteroidales      | f__Tannerellaceae            | g__Parabacteroides     | s__Parabacteroides distasonis      | infant |  58 |\n",
       "| p__Firmicutes_A     | c__Clostridia    | o__Lachnospirales     | f__Lachnospiraceae           | g__Ruminococcus_B      | s__Ruminococcus_B gnavus           | infant |  45 |\n",
       "| p__Bacteroidota     | c__Bacteroidia   | o__Bacteroidales      | f__Bacteroidaceae            | g__Bacteroides         | s__Bacteroides ovatus              | infant |  42 |\n",
       "| p__Actinobacteriota | c__Actinomycetia | o__Actinomycetales    | f__Bifidobacteriaceae        | g__Bifidobacterium     | s__Bifidobacterium bifidum         | infant |  40 |\n",
       "| p__Actinobacteriota | c__Actinomycetia | o__Actinomycetales    | f__Bifidobacteriaceae        | g__Bifidobacterium     | s__Bifidobacterium breve           | infant |  35 |\n",
       "| p__Bacteroidota     | c__Bacteroidia   | o__Bacteroidales      | f__Bacteroidaceae            | g__Bacteroides         | s__Bacteroides thetaiotaomicron    | infant |  15 |\n",
       "| p__Bacteroidota     | c__Bacteroidia   | o__Bacteroidales      | f__Bacteroidaceae            | g__Bacteroides         | s__Bacteroides xylanisolvens       | infant |  13 |\n",
       "| p__Firmicutes_C     | c__Negativicutes | o__Veillonellales     | f__Veillonellaceae           | g__Veillonella         | s__Veillonella atypica             | infant |   4 |\n",
       "| p__Firmicutes_A     | c__Clostridia    | o__Lachnospirales     | f__Lachnospiraceae           | g__Blautia_A           | s__Blautia_A wexlerae              | infant |   1 |\n",
       "\n"
      ],
      "text/plain": [
       "   Phylum              Class            Order                \n",
       "1  p__Bacteroidota     c__Bacteroidia   o__Bacteroidales     \n",
       "2  p__Firmicutes_A     c__Clostridia    o__Lachnospirales    \n",
       "3  p__Actinobacteriota c__Actinomycetia o__Actinomycetales   \n",
       "4  p__Bacteroidota     c__Bacteroidia   o__Bacteroidales     \n",
       "5  p__Bacteroidota     c__Bacteroidia   o__Bacteroidales     \n",
       "6  p__Bacteroidota     c__Bacteroidia   o__Bacteroidales     \n",
       "7  p__Firmicutes_A     c__Clostridia    o__Oscillospirales   \n",
       "8  p__Firmicutes_A     c__Clostridia    o__Lachnospirales    \n",
       "9  p__Firmicutes_A     c__Clostridia    o__Lachnospirales    \n",
       "10 p__Firmicutes_A     c__Clostridia    o__Lachnospirales    \n",
       "11 p__Firmicutes_A     c__Clostridia    o__Oscillospirales   \n",
       "12 p__Bacteroidota     c__Bacteroidia   o__Bacteroidales     \n",
       "13 p__Bacteroidota     c__Bacteroidia   o__Bacteroidales     \n",
       "14 p__Bacteroidota     c__Bacteroidia   o__Bacteroidales     \n",
       "15 p__Firmicutes_A     c__Clostridia    o__Lachnospirales    \n",
       "16 p__Firmicutes_A     c__Clostridia    o__Oscillospirales   \n",
       "17 p__Firmicutes_A     c__Clostridia    o__Oscillospirales   \n",
       "18 p__Firmicutes_A     c__Clostridia    o__Lachnospirales    \n",
       "19 p__Firmicutes       c__Bacilli       o__Erysipelotrichales\n",
       "20 p__Actinobacteriota c__Actinomycetia o__Actinomycetales   \n",
       "21 p__Bacteroidota     c__Bacteroidia   o__Bacteroidales     \n",
       "22 p__Bacteroidota     c__Bacteroidia   o__Bacteroidales     \n",
       "23 p__Bacteroidota     c__Bacteroidia   o__Bacteroidales     \n",
       "24 p__Firmicutes_A     c__Clostridia    o__Lachnospirales    \n",
       "25 p__Bacteroidota     c__Bacteroidia   o__Bacteroidales     \n",
       "26 p__Bacteroidota     c__Bacteroidia   o__Bacteroidales     \n",
       "27 p__Firmicutes       c__Bacilli       o__Erysipelotrichales\n",
       "28 p__Firmicutes_A     c__Clostridia    o__Lachnospirales    \n",
       "29 p__Firmicutes_A     c__Clostridia    o__Oscillospirales   \n",
       "30 p__Firmicutes_A     c__Clostridia    o__Lachnospirales    \n",
       "31 p__Firmicutes_A     c__Clostridia    o__Lachnospirales    \n",
       "32 p__Firmicutes_A     c__Clostridia    o__Lachnospirales    \n",
       "33 p__Bacteroidota     c__Bacteroidia   o__Bacteroidales     \n",
       "34 p__Actinobacteriota c__Actinomycetia o__Actinomycetales   \n",
       "35 p__Bacteroidota     c__Bacteroidia   o__Bacteroidales     \n",
       "36 p__Bacteroidota     c__Bacteroidia   o__Bacteroidales     \n",
       "37 p__Bacteroidota     c__Bacteroidia   o__Bacteroidales     \n",
       "38 p__Firmicutes_A     c__Clostridia    o__Lachnospirales    \n",
       "39 p__Bacteroidota     c__Bacteroidia   o__Bacteroidales     \n",
       "40 p__Actinobacteriota c__Actinomycetia o__Actinomycetales   \n",
       "41 p__Actinobacteriota c__Actinomycetia o__Actinomycetales   \n",
       "42 p__Bacteroidota     c__Bacteroidia   o__Bacteroidales     \n",
       "43 p__Bacteroidota     c__Bacteroidia   o__Bacteroidales     \n",
       "44 p__Firmicutes_C     c__Negativicutes o__Veillonellales    \n",
       "45 p__Firmicutes_A     c__Clostridia    o__Lachnospirales    \n",
       "   Family                       Genus                 \n",
       "1  f__Bacteroidaceae            g__Phocaeicola        \n",
       "2  f__Lachnospiraceae           g__Agathobacter       \n",
       "3  f__Bifidobacteriaceae        g__Bifidobacterium    \n",
       "4  f__Bacteroidaceae            g__Prevotella         \n",
       "5  f__Bacteroidaceae            g__Bacteroides        \n",
       "6  f__Rikenellaceae             g__Alistipes          \n",
       "7  f__Acutalibacteraceae        g__CAG-180            \n",
       "8  f__Lachnospiraceae           g__Lachnospira        \n",
       "9  f__Lachnospiraceae           g__Agathobacter       \n",
       "10 f__Lachnospiraceae           g__Lachnospira        \n",
       "11 f__Ruminococcaceae           g__Ruminococcus_D     \n",
       "12 f__Tannerellaceae            g__Parabacteroides    \n",
       "13 f__Barnesiellaceae           g__Barnesiella        \n",
       "14 f__Bacteroidaceae            g__Bacteroides        \n",
       "15 f__Lachnospiraceae           g__Anaerostipes       \n",
       "16 f__Acutalibacteraceae        g__Eubacterium_R      \n",
       "17 f__Ruminococcaceae           g__Ruminiclostridium_E\n",
       "18 f__Lachnospiraceae           g__Fusicatenibacter   \n",
       "19 f__Erysipelatoclostridiaceae g__Catenibacterium    \n",
       "20 f__Bifidobacteriaceae        g__Bifidobacterium    \n",
       "21 f__Marinifilaceae            g__Odoribacter        \n",
       "22 f__Tannerellaceae            g__Parabacteroides    \n",
       "23 f__Bacteroidaceae            g__Bacteroides        \n",
       "24 f__Lachnospiraceae           g__Roseburia          \n",
       "25 f__Bacteroidaceae            g__Bacteroides        \n",
       "26 f__Bacteroidaceae            g__Bacteroides        \n",
       "27 f__Erysipelotrichaceae       g__Holdemanella       \n",
       "28 f__Lachnospiraceae           g__Mediterraneibacter \n",
       "29 f__Oscillospiraceae          g__CAG-83             \n",
       "30 f__Lachnospiraceae           g__Bariatricus        \n",
       "31 f__Lachnospiraceae           g__Anaerobutyricum    \n",
       "32 f__Lachnospiraceae           g__Blautia_A          \n",
       "33 f__Bacteroidaceae            g__Phocaeicola        \n",
       "34 f__Bifidobacteriaceae        g__Bifidobacterium    \n",
       "35 f__Bacteroidaceae            g__Prevotella         \n",
       "36 f__Bacteroidaceae            g__Bacteroides        \n",
       "37 f__Tannerellaceae            g__Parabacteroides    \n",
       "38 f__Lachnospiraceae           g__Ruminococcus_B     \n",
       "39 f__Bacteroidaceae            g__Bacteroides        \n",
       "40 f__Bifidobacteriaceae        g__Bifidobacterium    \n",
       "41 f__Bifidobacteriaceae        g__Bifidobacterium    \n",
       "42 f__Bacteroidaceae            g__Bacteroides        \n",
       "43 f__Bacteroidaceae            g__Bacteroides        \n",
       "44 f__Veillonellaceae           g__Veillonella        \n",
       "45 f__Lachnospiraceae           g__Blautia_A          \n",
       "   Species                            age_group n  \n",
       "1  s__Phocaeicola vulgatus            adult     290\n",
       "2  s__Agathobacter rectalis           adult     224\n",
       "3  s__Bifidobacterium longum          adult     177\n",
       "4  s__Prevotella copri                adult     148\n",
       "5  s__Bacteroides uniformis           adult     146\n",
       "6  s__Alistipes putredinis            adult     117\n",
       "7  s__CAG-180 sp000432435             adult      87\n",
       "8  s__Lachnospira eligens_B           adult      85\n",
       "9  s__Agathobacter faecis             adult      81\n",
       "10 s__Lachnospira rogosae             adult      67\n",
       "11 s__Ruminococcus_D bicirculans      adult      66\n",
       "12 s__Parabacteroides distasonis      adult      58\n",
       "13 s__Barnesiella intestinihominis    adult      54\n",
       "14 s__Bacteroides ovatus              adult      42\n",
       "15 s__Anaerostipes hadrus             adult      32\n",
       "16 s__Eubacterium_R sp000436835       adult      30\n",
       "17 s__Ruminiclostridium_E siraeum     adult      29\n",
       "18 s__Fusicatenibacter saccharivorans adult      29\n",
       "19 s__Catenibacterium mitsuokai       adult      28\n",
       "20 s__Bifidobacterium adolescentis    adult      28\n",
       "21 s__Odoribacter splanchnicus        adult      23\n",
       "22 s__Parabacteroides merdae          adult      22\n",
       "23 s__Bacteroides thetaiotaomicron    adult      15\n",
       "24 s__Roseburia intestinalis          adult      13\n",
       "25 s__Bacteroides xylanisolvens       adult      13\n",
       "26 s__Bacteroides caccae              adult      12\n",
       "27 s__Holdemanella biformis           adult      12\n",
       "28 s__Mediterraneibacter torques      adult      10\n",
       "29 s__CAG-83 sp000435975              adult       8\n",
       "30 s__Bariatricus comes               adult       6\n",
       "31 s__Anaerobutyricum hallii          adult       6\n",
       "32 s__Blautia_A wexlerae              adult       1\n",
       "33 s__Phocaeicola vulgatus            infant    290\n",
       "34 s__Bifidobacterium longum          infant    177\n",
       "35 s__Prevotella copri                infant    148\n",
       "36 s__Bacteroides uniformis           infant    146\n",
       "37 s__Parabacteroides distasonis      infant     58\n",
       "38 s__Ruminococcus_B gnavus           infant     45\n",
       "39 s__Bacteroides ovatus              infant     42\n",
       "40 s__Bifidobacterium bifidum         infant     40\n",
       "41 s__Bifidobacterium breve           infant     35\n",
       "42 s__Bacteroides thetaiotaomicron    infant     15\n",
       "43 s__Bacteroides xylanisolvens       infant     13\n",
       "44 s__Veillonella atypica             infant      4\n",
       "45 s__Blautia_A wexlerae              infant      1"
      ]
     },
     "metadata": {},
     "output_type": "display_data"
    }
   ],
   "source": [
    "# by species\n",
    "df.dims(50)\n",
    "drep_f %>%\n",
    "    mutate.(taxonomy = paste(Phylum, Species, sep=';')) %>%\n",
    "    summarize.(n = n.(),\n",
    "               .by=c(Phylum, Class, Order, Family, Genus, Species, age_group)) %>%\n",
    "    arrange.(age_group, -n)\n",
    "df.dims()"
   ]
  },
  {
   "cell_type": "markdown",
   "metadata": {},
   "source": [
    "# sessionInfo"
   ]
  },
  {
   "cell_type": "code",
   "execution_count": 41,
   "metadata": {
    "ExecuteTime": {
     "end_time": "2021-07-30T11:02:32.166831Z",
     "start_time": "2021-07-30T11:02:32.086Z"
    }
   },
   "outputs": [
    {
     "data": {
      "text/plain": [
       "R version 4.1.0 (2021-05-18)\n",
       "Platform: x86_64-conda-linux-gnu (64-bit)\n",
       "Running under: Ubuntu 18.04.5 LTS\n",
       "\n",
       "Matrix products: default\n",
       "BLAS/LAPACK: /ebio/abt3_projects/Anxiety_Twins_Metagenomes/envs/tidyverse2/lib/libopenblasp-r0.3.12.so\n",
       "\n",
       "locale:\n",
       " [1] LC_CTYPE=en_US.UTF-8       LC_NUMERIC=C              \n",
       " [3] LC_TIME=en_US.UTF-8        LC_COLLATE=en_US.UTF-8    \n",
       " [5] LC_MONETARY=en_US.UTF-8    LC_MESSAGES=en_US.UTF-8   \n",
       " [7] LC_PAPER=en_US.UTF-8       LC_NAME=C                 \n",
       " [9] LC_ADDRESS=C               LC_TELEPHONE=C            \n",
       "[11] LC_MEASUREMENT=en_US.UTF-8 LC_IDENTIFICATION=C       \n",
       "\n",
       "attached base packages:\n",
       "[1] stats     graphics  grDevices utils     datasets  methods   base     \n",
       "\n",
       "other attached packages:\n",
       "[1] LeyLabRMisc_0.1.9 tidytable_0.6.3   data.table_1.14.0 ggplot2_3.3.5    \n",
       "[5] tidyr_1.1.3       dplyr_1.0.7      \n",
       "\n",
       "loaded via a namespace (and not attached):\n",
       " [1] pillar_1.6.1      compiler_4.1.0    base64enc_0.1-3   tools_4.1.0      \n",
       " [5] digest_0.6.27     uuid_0.1-4        jsonlite_1.7.2    evaluate_0.14    \n",
       " [9] lifecycle_1.0.0   tibble_3.1.2      gtable_0.3.0      pkgconfig_2.0.3  \n",
       "[13] rlang_0.4.11      IRdisplay_1.0     IRkernel_1.2      repr_1.1.3       \n",
       "[17] withr_2.4.2       stringr_1.4.0     generics_0.1.0    vctrs_0.3.8      \n",
       "[21] grid_4.1.0        tidyselect_1.1.1  glue_1.4.2        R6_2.5.0         \n",
       "[25] fansi_0.4.2       pbdZMQ_0.3-5      purrr_0.3.4       magrittr_2.0.1   \n",
       "[29] scales_1.1.1      ellipsis_0.3.2    htmltools_0.5.1.1 colorspace_2.0-2 \n",
       "[33] utf8_1.2.1        stringi_1.6.2     munsell_0.5.0     crayon_1.4.1     "
      ]
     },
     "metadata": {},
     "output_type": "display_data"
    }
   ],
   "source": [
    "sessionInfo()"
   ]
  }
 ],
 "metadata": {
  "kernelspec": {
   "display_name": "R [conda env:Anxiety_Twins_Metagenomes-tidyverse2]",
   "language": "R",
   "name": "conda-env-Anxiety_Twins_Metagenomes-tidyverse2-r"
  },
  "language_info": {
   "codemirror_mode": "r",
   "file_extension": ".r",
   "mimetype": "text/x-r-source",
   "name": "R",
   "pygments_lexer": "r",
   "version": "4.1.0"
  },
  "notify_time": "30",
  "toc": {
   "base_numbering": 1,
   "nav_menu": {},
   "number_sections": true,
   "sideBar": true,
   "skip_h1_title": false,
   "title_cell": "Table of Contents",
   "title_sidebar": "Contents",
   "toc_cell": true,
   "toc_position": {},
   "toc_section_display": true,
   "toc_window_display": true
  }
 },
 "nbformat": 4,
 "nbformat_minor": 4
}
