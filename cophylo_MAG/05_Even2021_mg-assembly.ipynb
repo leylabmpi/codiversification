{
 "cells": [
  {
   "cell_type": "markdown",
   "metadata": {
    "toc": true
   },
   "source": [
    "<h1>Table of Contents<span class=\"tocSkip\"></span></h1>\n",
    "<div class=\"toc\"><ul class=\"toc-item\"><li><span><a href=\"#Goal\" data-toc-modified-id=\"Goal-1\"><span class=\"toc-item-num\">1&nbsp;&nbsp;</span>Goal</a></span></li><li><span><a href=\"#Var\" data-toc-modified-id=\"Var-2\"><span class=\"toc-item-num\">2&nbsp;&nbsp;</span>Var</a></span></li><li><span><a href=\"#Init\" data-toc-modified-id=\"Init-3\"><span class=\"toc-item-num\">3&nbsp;&nbsp;</span>Init</a></span></li><li><span><a href=\"#Load\" data-toc-modified-id=\"Load-4\"><span class=\"toc-item-num\">4&nbsp;&nbsp;</span>Load</a></span></li><li><span><a href=\"#LLG-summary\" data-toc-modified-id=\"LLG-summary-5\"><span class=\"toc-item-num\">5&nbsp;&nbsp;</span>LLG summary</a></span><ul class=\"toc-item\"><li><ul class=\"toc-item\"><li><ul class=\"toc-item\"><li><span><a href=\"#Writing-table\" data-toc-modified-id=\"Writing-table-5.0.0.1\"><span class=\"toc-item-num\">5.0.0.1&nbsp;&nbsp;</span>Writing table</a></span></li></ul></li></ul></li></ul></li><li><span><a href=\"#target-species\" data-toc-modified-id=\"target-species-6\"><span class=\"toc-item-num\">6&nbsp;&nbsp;</span>target species</a></span><ul class=\"toc-item\"><li><ul class=\"toc-item\"><li><span><a href=\"#Summary\" data-toc-modified-id=\"Summary-6.0.1\"><span class=\"toc-item-num\">6.0.1&nbsp;&nbsp;</span>Summary</a></span></li></ul></li></ul></li><li><span><a href=\"#sessionInfo\" data-toc-modified-id=\"sessionInfo-7\"><span class=\"toc-item-num\">7&nbsp;&nbsp;</span>sessionInfo</a></span></li></ul></div>"
   ]
  },
  {
   "cell_type": "markdown",
   "metadata": {},
   "source": [
    "# Goal\n",
    "\n",
    "* Summarize Liam's metagenome assembly of the `Even et al 2021` dataset (Cameroon)"
   ]
  },
  {
   "cell_type": "markdown",
   "metadata": {},
   "source": [
    "# Var"
   ]
  },
  {
   "cell_type": "code",
   "execution_count": 26,
   "metadata": {
    "ExecuteTime": {
     "end_time": "2021-07-30T10:49:36.938477Z",
     "start_time": "2021-07-30T10:49:36.895Z"
    }
   },
   "outputs": [],
   "source": [
    "work_dir = '/ebio/abt3_projects/HUBIF_metagenomics/data/pipelines/llg/cophyverttrans/evenetal2021/round1/llg_output/'\n",
    "\n",
    "# target cophylogeny species\n",
    "cophy_dir = '/ebio/abt3_projects/HUBIF_metagenomics/data/pipelines/llg/cophyverttrans/batch2_clusters1-3/round6/'\n",
    "cophylo_adult_spec_file = file.path(cophy_dir, 'cophylo_species', 'AdultBetweenPop_species.tsv')\n",
    "cophylo_infant_spec_file = file.path(cophy_dir, 'cophylo_species', 'InfantResults_species.txt')\n",
    "\n",
    "# params\n",
    "threads = 4"
   ]
  },
  {
   "cell_type": "markdown",
   "metadata": {},
   "source": [
    "# Init"
   ]
  },
  {
   "cell_type": "code",
   "execution_count": 27,
   "metadata": {
    "ExecuteTime": {
     "end_time": "2021-07-30T10:49:37.264244Z",
     "start_time": "2021-07-30T10:49:37.158Z"
    }
   },
   "outputs": [],
   "source": [
    "library(dplyr)\n",
    "library(tidyr)\n",
    "library(ggplot2)\n",
    "library(data.table)\n",
    "library(tidytable)\n",
    "library(LeyLabRMisc)"
   ]
  },
  {
   "cell_type": "code",
   "execution_count": 28,
   "metadata": {
    "ExecuteTime": {
     "end_time": "2021-07-30T10:49:37.288471Z",
     "start_time": "2021-07-30T10:49:37.268Z"
    }
   },
   "outputs": [],
   "source": [
    "df.dims()\n",
    "setDTthreads(threads)"
   ]
  },
  {
   "cell_type": "markdown",
   "metadata": {},
   "source": [
    "# Load"
   ]
  },
  {
   "cell_type": "code",
   "execution_count": 29,
   "metadata": {
    "ExecuteTime": {
     "end_time": "2021-07-30T10:49:37.563893Z",
     "start_time": "2021-07-30T10:49:37.502Z"
    }
   },
   "outputs": [
    {
     "data": {
      "text/html": [
       "<table class=\"dataframe\">\n",
       "<caption>A tidytable: 67 × 12</caption>\n",
       "<thead>\n",
       "\t<tr><th scope=col>ncbi_taxonomy</th><th scope=col>gtdb_taxonomy</th><th scope=col>lca_frac</th><th scope=col>target_tax_level</th><th scope=col>age_group</th><th scope=col>Domain</th><th scope=col>Phylum</th><th scope=col>Class</th><th scope=col>Order</th><th scope=col>Family</th><th scope=col>Genus</th><th scope=col>Species</th></tr>\n",
       "\t<tr><th scope=col>&lt;chr&gt;</th><th scope=col>&lt;chr&gt;</th><th scope=col>&lt;dbl&gt;</th><th scope=col>&lt;chr&gt;</th><th scope=col>&lt;chr&gt;</th><th scope=col>&lt;chr&gt;</th><th scope=col>&lt;chr&gt;</th><th scope=col>&lt;chr&gt;</th><th scope=col>&lt;chr&gt;</th><th scope=col>&lt;chr&gt;</th><th scope=col>&lt;chr&gt;</th><th scope=col>&lt;chr&gt;</th></tr>\n",
       "</thead>\n",
       "<tbody>\n",
       "\t<tr><td>s__Catenibacterium_mitsuokai</td><td>s__Catenibacterium mitsuokai</td><td>1</td><td>species</td><td>adult</td><td>d__bacteria</td><td>p__firmicutes  </td><td>c__bacilli   </td><td>o__erysipelotrichales</td><td>f__erysipelatoclostridiaceae</td><td>g__catenibacterium</td><td>catenibacterium mitsuokai</td></tr>\n",
       "\t<tr><td>s__Eubacterium_sp_CAG_251   </td><td>s__Eubacterium_R sp000436835</td><td>1</td><td>species</td><td>adult</td><td>d__Bacteria</td><td>p__Firmicutes_A</td><td>c__Clostridia</td><td>o__Oscillospirales   </td><td>f__Acutalibacteraceae       </td><td>g__Eubacterium_R  </td><td>Eubacterium_R sp000436835</td></tr>\n",
       "\t<tr><td>⋮</td><td>⋮</td><td>⋮</td><td>⋮</td><td>⋮</td><td>⋮</td><td>⋮</td><td>⋮</td><td>⋮</td><td>⋮</td><td>⋮</td><td>⋮</td></tr>\n",
       "\t<tr><td>s__Escherichia_coli        </td><td>g__Escherichia  </td><td>0.99</td><td>genus</td><td>infant</td><td>d__bacteria</td><td>p__proteobacteria</td><td>c__gammaproteobacteria</td><td>o__enterobacterales</td><td>f__enterobacteriaceae</td><td>g__escherichia  </td><td>NA</td></tr>\n",
       "\t<tr><td>s__Streptococcus_salivarius</td><td>g__Streptococcus</td><td>1.00</td><td>genus</td><td>infant</td><td>d__bacteria</td><td>p__firmicutes    </td><td>c__bacilli            </td><td>o__lactobacillales </td><td>f__streptococcaceae  </td><td>g__streptococcus</td><td>NA</td></tr>\n",
       "</tbody>\n",
       "</table>\n"
      ],
      "text/latex": [
       "A tidytable: 67 × 12\n",
       "\\begin{tabular}{llllllllllll}\n",
       " ncbi\\_taxonomy & gtdb\\_taxonomy & lca\\_frac & target\\_tax\\_level & age\\_group & Domain & Phylum & Class & Order & Family & Genus & Species\\\\\n",
       " <chr> & <chr> & <dbl> & <chr> & <chr> & <chr> & <chr> & <chr> & <chr> & <chr> & <chr> & <chr>\\\\\n",
       "\\hline\n",
       "\t s\\_\\_Catenibacterium\\_mitsuokai & s\\_\\_Catenibacterium mitsuokai & 1 & species & adult & d\\_\\_bacteria & p\\_\\_firmicutes   & c\\_\\_bacilli    & o\\_\\_erysipelotrichales & f\\_\\_erysipelatoclostridiaceae & g\\_\\_catenibacterium & catenibacterium mitsuokai\\\\\n",
       "\t s\\_\\_Eubacterium\\_sp\\_CAG\\_251    & s\\_\\_Eubacterium\\_R sp000436835 & 1 & species & adult & d\\_\\_Bacteria & p\\_\\_Firmicutes\\_A & c\\_\\_Clostridia & o\\_\\_Oscillospirales    & f\\_\\_Acutalibacteraceae        & g\\_\\_Eubacterium\\_R   & Eubacterium\\_R sp000436835\\\\\n",
       "\t ⋮ & ⋮ & ⋮ & ⋮ & ⋮ & ⋮ & ⋮ & ⋮ & ⋮ & ⋮ & ⋮ & ⋮\\\\\n",
       "\t s\\_\\_Escherichia\\_coli         & g\\_\\_Escherichia   & 0.99 & genus & infant & d\\_\\_bacteria & p\\_\\_proteobacteria & c\\_\\_gammaproteobacteria & o\\_\\_enterobacterales & f\\_\\_enterobacteriaceae & g\\_\\_escherichia   & NA\\\\\n",
       "\t s\\_\\_Streptococcus\\_salivarius & g\\_\\_Streptococcus & 1.00 & genus & infant & d\\_\\_bacteria & p\\_\\_firmicutes     & c\\_\\_bacilli             & o\\_\\_lactobacillales  & f\\_\\_streptococcaceae   & g\\_\\_streptococcus & NA\\\\\n",
       "\\end{tabular}\n"
      ],
      "text/markdown": [
       "\n",
       "A tidytable: 67 × 12\n",
       "\n",
       "| ncbi_taxonomy &lt;chr&gt; | gtdb_taxonomy &lt;chr&gt; | lca_frac &lt;dbl&gt; | target_tax_level &lt;chr&gt; | age_group &lt;chr&gt; | Domain &lt;chr&gt; | Phylum &lt;chr&gt; | Class &lt;chr&gt; | Order &lt;chr&gt; | Family &lt;chr&gt; | Genus &lt;chr&gt; | Species &lt;chr&gt; |\n",
       "|---|---|---|---|---|---|---|---|---|---|---|---|\n",
       "| s__Catenibacterium_mitsuokai | s__Catenibacterium mitsuokai | 1 | species | adult | d__bacteria | p__firmicutes   | c__bacilli    | o__erysipelotrichales | f__erysipelatoclostridiaceae | g__catenibacterium | catenibacterium mitsuokai |\n",
       "| s__Eubacterium_sp_CAG_251    | s__Eubacterium_R sp000436835 | 1 | species | adult | d__Bacteria | p__Firmicutes_A | c__Clostridia | o__Oscillospirales    | f__Acutalibacteraceae        | g__Eubacterium_R   | Eubacterium_R sp000436835 |\n",
       "| ⋮ | ⋮ | ⋮ | ⋮ | ⋮ | ⋮ | ⋮ | ⋮ | ⋮ | ⋮ | ⋮ | ⋮ |\n",
       "| s__Escherichia_coli         | g__Escherichia   | 0.99 | genus | infant | d__bacteria | p__proteobacteria | c__gammaproteobacteria | o__enterobacterales | f__enterobacteriaceae | g__escherichia   | NA |\n",
       "| s__Streptococcus_salivarius | g__Streptococcus | 1.00 | genus | infant | d__bacteria | p__firmicutes     | c__bacilli             | o__lactobacillales  | f__streptococcaceae   | g__streptococcus | NA |\n",
       "\n"
      ],
      "text/plain": [
       "   ncbi_taxonomy                gtdb_taxonomy                lca_frac\n",
       "1  s__Catenibacterium_mitsuokai s__Catenibacterium mitsuokai 1       \n",
       "2  s__Eubacterium_sp_CAG_251    s__Eubacterium_R sp000436835 1       \n",
       "⋮  ⋮                            ⋮                            ⋮       \n",
       "66 s__Escherichia_coli          g__Escherichia               0.99    \n",
       "67 s__Streptococcus_salivarius  g__Streptococcus             1.00    \n",
       "   target_tax_level age_group Domain      Phylum           \n",
       "1  species          adult     d__bacteria p__firmicutes    \n",
       "2  species          adult     d__Bacteria p__Firmicutes_A  \n",
       "⋮  ⋮                ⋮         ⋮           ⋮                \n",
       "66 genus            infant    d__bacteria p__proteobacteria\n",
       "67 genus            infant    d__bacteria p__firmicutes    \n",
       "   Class                  Order                 Family                      \n",
       "1  c__bacilli             o__erysipelotrichales f__erysipelatoclostridiaceae\n",
       "2  c__Clostridia          o__Oscillospirales    f__Acutalibacteraceae       \n",
       "⋮  ⋮                      ⋮                     ⋮                           \n",
       "66 c__gammaproteobacteria o__enterobacterales   f__enterobacteriaceae       \n",
       "67 c__bacilli             o__lactobacillales    f__streptococcaceae         \n",
       "   Genus              Species                  \n",
       "1  g__catenibacterium catenibacterium mitsuokai\n",
       "2  g__Eubacterium_R   Eubacterium_R sp000436835\n",
       "⋮  ⋮                  ⋮                        \n",
       "66 g__escherichia     NA                       \n",
       "67 g__streptococcus   NA                       "
      ]
     },
     "metadata": {},
     "output_type": "display_data"
    }
   ],
   "source": [
    "# species\n",
    "cophylo_spec = list(\n",
    "    Fread(cophylo_adult_spec_file) %>%\n",
    "        mutate.(age_group = 'adult'),\n",
    "    Fread(cophylo_infant_spec_file) %>%\n",
    "        mutate.(age_group = 'infant')\n",
    "    ) %>%\n",
    "    rbindlist(use.names=TRUE) %>%\n",
    "    separate.(lineage, taxonomy_levels(), sep=';') %>%\n",
    "    mutate.(Species = gsub('^s__', '', Species))\n",
    "cophylo_spec"
   ]
  },
  {
   "cell_type": "markdown",
   "metadata": {},
   "source": [
    "# LLG summary\n",
    "\n",
    "* Summary of MAG QC & dRep"
   ]
  },
  {
   "cell_type": "code",
   "execution_count": 30,
   "metadata": {
    "ExecuteTime": {
     "end_time": "2021-07-30T10:49:37.867202Z",
     "start_time": "2021-07-30T10:49:37.760Z"
    }
   },
   "outputs": [
    {
     "name": "stdout",
     "output_type": "stream",
     "text": [
      "No. of unique MAGs: 5459 \n"
     ]
    },
    {
     "data": {
      "text/html": [
       "<table class=\"dataframe\">\n",
       "<caption>A tidytable: 5459 × 33</caption>\n",
       "<thead>\n",
       "\t<tr><th scope=col>Bin.Id</th><th scope=col>Marker.lineage</th><th scope=col>X..genomes</th><th scope=col>X..markers</th><th scope=col>X..marker.sets</th><th scope=col>Completeness</th><th scope=col>Contamination</th><th scope=col>Strain.heterogeneity</th><th scope=col>Genome.size..bp.</th><th scope=col>X..ambiguous.bases</th><th scope=col>⋯</th><th scope=col>X0</th><th scope=col>X1</th><th scope=col>X2</th><th scope=col>X3</th><th scope=col>X4</th><th scope=col>X5.</th><th scope=col>assembly.Id</th><th scope=col>assembler.Id</th><th scope=col>taxon.Id</th><th scope=col>File</th></tr>\n",
       "\t<tr><th scope=col>&lt;chr&gt;</th><th scope=col>&lt;chr&gt;</th><th scope=col>&lt;int&gt;</th><th scope=col>&lt;int&gt;</th><th scope=col>&lt;int&gt;</th><th scope=col>&lt;dbl&gt;</th><th scope=col>&lt;dbl&gt;</th><th scope=col>&lt;dbl&gt;</th><th scope=col>&lt;int&gt;</th><th scope=col>&lt;int&gt;</th><th scope=col>⋯</th><th scope=col>&lt;int&gt;</th><th scope=col>&lt;int&gt;</th><th scope=col>&lt;int&gt;</th><th scope=col>&lt;int&gt;</th><th scope=col>&lt;int&gt;</th><th scope=col>&lt;int&gt;</th><th scope=col>&lt;chr&gt;</th><th scope=col>&lt;chr&gt;</th><th scope=col>&lt;lgl&gt;</th><th scope=col>&lt;chr&gt;</th></tr>\n",
       "</thead>\n",
       "<tbody>\n",
       "\t<tr><td>BEB01__maxbin2__Med_042  </td><td>f__Lachnospiraceae (UID1256)</td><td> 33</td><td>333</td><td>171</td><td>74.89</td><td>0.35</td><td> 33.33</td><td>1656525</td><td>0</td><td>⋯</td><td>89</td><td>241</td><td>3</td><td>0</td><td>0</td><td>0</td><td>|ebio|abt3_projects|HUBIF_metagenomics|data|pipelines|llg|cophyverttrans|evenetal2021|round1|llg_output|checkM|1|checkm|markers_qa_summary.tsv.1</td><td>markers_qa_summary.tsv.1</td><td>NA</td><td>/ebio/abt3_projects/HUBIF_metagenomics/data/pipelines/llg/cophyverttrans/evenetal2021/round1/llg_output/checkM/1/checkm/markers_qa_summary.tsv.1</td></tr>\n",
       "\t<tr><td>BEB01__metabat2__High_063</td><td>o__Clostridiales (UID1212)  </td><td>172</td><td>263</td><td>149</td><td>96.73</td><td>1.34</td><td>100.00</td><td>2014676</td><td>0</td><td>⋯</td><td> 8</td><td>253</td><td>2</td><td>0</td><td>0</td><td>0</td><td>|ebio|abt3_projects|HUBIF_metagenomics|data|pipelines|llg|cophyverttrans|evenetal2021|round1|llg_output|checkM|1|checkm|markers_qa_summary.tsv.2</td><td>markers_qa_summary.tsv.2</td><td>NA</td><td>/ebio/abt3_projects/HUBIF_metagenomics/data/pipelines/llg/cophyverttrans/evenetal2021/round1/llg_output/checkM/1/checkm/markers_qa_summary.tsv.2</td></tr>\n",
       "\t<tr><td>⋮</td><td>⋮</td><td>⋮</td><td>⋮</td><td>⋮</td><td>⋮</td><td>⋮</td><td>⋮</td><td>⋮</td><td>⋮</td><td>⋱</td><td>⋮</td><td>⋮</td><td>⋮</td><td>⋮</td><td>⋮</td><td>⋮</td><td>⋮</td><td>⋮</td><td>⋮</td><td>⋮</td></tr>\n",
       "\t<tr><td>BEY32__vamb__Med_084 </td><td>k__Bacteria (UID2982)  </td><td> 88</td><td>230</td><td>148</td><td>86.33</td><td>4.05</td><td>0</td><td>1999384</td><td>0</td><td>⋯</td><td>24</td><td>200</td><td>6</td><td>0</td><td>0</td><td>0</td><td>|ebio|abt3_projects|HUBIF_metagenomics|data|pipelines|llg|cophyverttrans|evenetal2021|round1|llg_output|checkM|10|checkm|markers_qa_summary.tsv.544</td><td>markers_qa_summary.tsv.544</td><td>NA</td><td>/ebio/abt3_projects/HUBIF_metagenomics/data/pipelines/llg/cophyverttrans/evenetal2021/round1/llg_output/checkM/10/checkm/markers_qa_summary.tsv.544</td></tr>\n",
       "\t<tr><td>BEY32__vamb__Med_4734</td><td>c__Clostridia (UID1118)</td><td>387</td><td>223</td><td>124</td><td>86.49</td><td>0.81</td><td>0</td><td>1787297</td><td>0</td><td>⋯</td><td>24</td><td>198</td><td>1</td><td>0</td><td>0</td><td>0</td><td>|ebio|abt3_projects|HUBIF_metagenomics|data|pipelines|llg|cophyverttrans|evenetal2021|round1|llg_output|checkM|10|checkm|markers_qa_summary.tsv.545</td><td>markers_qa_summary.tsv.545</td><td>NA</td><td>/ebio/abt3_projects/HUBIF_metagenomics/data/pipelines/llg/cophyverttrans/evenetal2021/round1/llg_output/checkM/10/checkm/markers_qa_summary.tsv.545</td></tr>\n",
       "</tbody>\n",
       "</table>\n"
      ],
      "text/latex": [
       "A tidytable: 5459 × 33\n",
       "\\begin{tabular}{lllllllllllllllllllll}\n",
       " Bin.Id & Marker.lineage & X..genomes & X..markers & X..marker.sets & Completeness & Contamination & Strain.heterogeneity & Genome.size..bp. & X..ambiguous.bases & ⋯ & X0 & X1 & X2 & X3 & X4 & X5. & assembly.Id & assembler.Id & taxon.Id & File\\\\\n",
       " <chr> & <chr> & <int> & <int> & <int> & <dbl> & <dbl> & <dbl> & <int> & <int> & ⋯ & <int> & <int> & <int> & <int> & <int> & <int> & <chr> & <chr> & <lgl> & <chr>\\\\\n",
       "\\hline\n",
       "\t BEB01\\_\\_maxbin2\\_\\_Med\\_042   & f\\_\\_Lachnospiraceae (UID1256) &  33 & 333 & 171 & 74.89 & 0.35 &  33.33 & 1656525 & 0 & ⋯ & 89 & 241 & 3 & 0 & 0 & 0 & \\textbar{}ebio\\textbar{}abt3\\_projects\\textbar{}HUBIF\\_metagenomics\\textbar{}data\\textbar{}pipelines\\textbar{}llg\\textbar{}cophyverttrans\\textbar{}evenetal2021\\textbar{}round1\\textbar{}llg\\_output\\textbar{}checkM\\textbar{}1\\textbar{}checkm\\textbar{}markers\\_qa\\_summary.tsv.1 & markers\\_qa\\_summary.tsv.1 & NA & /ebio/abt3\\_projects/HUBIF\\_metagenomics/data/pipelines/llg/cophyverttrans/evenetal2021/round1/llg\\_output/checkM/1/checkm/markers\\_qa\\_summary.tsv.1\\\\\n",
       "\t BEB01\\_\\_metabat2\\_\\_High\\_063 & o\\_\\_Clostridiales (UID1212)   & 172 & 263 & 149 & 96.73 & 1.34 & 100.00 & 2014676 & 0 & ⋯ &  8 & 253 & 2 & 0 & 0 & 0 & \\textbar{}ebio\\textbar{}abt3\\_projects\\textbar{}HUBIF\\_metagenomics\\textbar{}data\\textbar{}pipelines\\textbar{}llg\\textbar{}cophyverttrans\\textbar{}evenetal2021\\textbar{}round1\\textbar{}llg\\_output\\textbar{}checkM\\textbar{}1\\textbar{}checkm\\textbar{}markers\\_qa\\_summary.tsv.2 & markers\\_qa\\_summary.tsv.2 & NA & /ebio/abt3\\_projects/HUBIF\\_metagenomics/data/pipelines/llg/cophyverttrans/evenetal2021/round1/llg\\_output/checkM/1/checkm/markers\\_qa\\_summary.tsv.2\\\\\n",
       "\t ⋮ & ⋮ & ⋮ & ⋮ & ⋮ & ⋮ & ⋮ & ⋮ & ⋮ & ⋮ & ⋱ & ⋮ & ⋮ & ⋮ & ⋮ & ⋮ & ⋮ & ⋮ & ⋮ & ⋮ & ⋮\\\\\n",
       "\t BEY32\\_\\_vamb\\_\\_Med\\_084  & k\\_\\_Bacteria (UID2982)   &  88 & 230 & 148 & 86.33 & 4.05 & 0 & 1999384 & 0 & ⋯ & 24 & 200 & 6 & 0 & 0 & 0 & \\textbar{}ebio\\textbar{}abt3\\_projects\\textbar{}HUBIF\\_metagenomics\\textbar{}data\\textbar{}pipelines\\textbar{}llg\\textbar{}cophyverttrans\\textbar{}evenetal2021\\textbar{}round1\\textbar{}llg\\_output\\textbar{}checkM\\textbar{}10\\textbar{}checkm\\textbar{}markers\\_qa\\_summary.tsv.544 & markers\\_qa\\_summary.tsv.544 & NA & /ebio/abt3\\_projects/HUBIF\\_metagenomics/data/pipelines/llg/cophyverttrans/evenetal2021/round1/llg\\_output/checkM/10/checkm/markers\\_qa\\_summary.tsv.544\\\\\n",
       "\t BEY32\\_\\_vamb\\_\\_Med\\_4734 & c\\_\\_Clostridia (UID1118) & 387 & 223 & 124 & 86.49 & 0.81 & 0 & 1787297 & 0 & ⋯ & 24 & 198 & 1 & 0 & 0 & 0 & \\textbar{}ebio\\textbar{}abt3\\_projects\\textbar{}HUBIF\\_metagenomics\\textbar{}data\\textbar{}pipelines\\textbar{}llg\\textbar{}cophyverttrans\\textbar{}evenetal2021\\textbar{}round1\\textbar{}llg\\_output\\textbar{}checkM\\textbar{}10\\textbar{}checkm\\textbar{}markers\\_qa\\_summary.tsv.545 & markers\\_qa\\_summary.tsv.545 & NA & /ebio/abt3\\_projects/HUBIF\\_metagenomics/data/pipelines/llg/cophyverttrans/evenetal2021/round1/llg\\_output/checkM/10/checkm/markers\\_qa\\_summary.tsv.545\\\\\n",
       "\\end{tabular}\n"
      ],
      "text/markdown": [
       "\n",
       "A tidytable: 5459 × 33\n",
       "\n",
       "| Bin.Id &lt;chr&gt; | Marker.lineage &lt;chr&gt; | X..genomes &lt;int&gt; | X..markers &lt;int&gt; | X..marker.sets &lt;int&gt; | Completeness &lt;dbl&gt; | Contamination &lt;dbl&gt; | Strain.heterogeneity &lt;dbl&gt; | Genome.size..bp. &lt;int&gt; | X..ambiguous.bases &lt;int&gt; | ⋯ ⋯ | X0 &lt;int&gt; | X1 &lt;int&gt; | X2 &lt;int&gt; | X3 &lt;int&gt; | X4 &lt;int&gt; | X5. &lt;int&gt; | assembly.Id &lt;chr&gt; | assembler.Id &lt;chr&gt; | taxon.Id &lt;lgl&gt; | File &lt;chr&gt; |\n",
       "|---|---|---|---|---|---|---|---|---|---|---|---|---|---|---|---|---|---|---|---|---|\n",
       "| BEB01__maxbin2__Med_042   | f__Lachnospiraceae (UID1256) |  33 | 333 | 171 | 74.89 | 0.35 |  33.33 | 1656525 | 0 | ⋯ | 89 | 241 | 3 | 0 | 0 | 0 | |ebio|abt3_projects|HUBIF_metagenomics|data|pipelines|llg|cophyverttrans|evenetal2021|round1|llg_output|checkM|1|checkm|markers_qa_summary.tsv.1 | markers_qa_summary.tsv.1 | NA | /ebio/abt3_projects/HUBIF_metagenomics/data/pipelines/llg/cophyverttrans/evenetal2021/round1/llg_output/checkM/1/checkm/markers_qa_summary.tsv.1 |\n",
       "| BEB01__metabat2__High_063 | o__Clostridiales (UID1212)   | 172 | 263 | 149 | 96.73 | 1.34 | 100.00 | 2014676 | 0 | ⋯ |  8 | 253 | 2 | 0 | 0 | 0 | |ebio|abt3_projects|HUBIF_metagenomics|data|pipelines|llg|cophyverttrans|evenetal2021|round1|llg_output|checkM|1|checkm|markers_qa_summary.tsv.2 | markers_qa_summary.tsv.2 | NA | /ebio/abt3_projects/HUBIF_metagenomics/data/pipelines/llg/cophyverttrans/evenetal2021/round1/llg_output/checkM/1/checkm/markers_qa_summary.tsv.2 |\n",
       "| ⋮ | ⋮ | ⋮ | ⋮ | ⋮ | ⋮ | ⋮ | ⋮ | ⋮ | ⋮ | ⋱ | ⋮ | ⋮ | ⋮ | ⋮ | ⋮ | ⋮ | ⋮ | ⋮ | ⋮ | ⋮ |\n",
       "| BEY32__vamb__Med_084  | k__Bacteria (UID2982)   |  88 | 230 | 148 | 86.33 | 4.05 | 0 | 1999384 | 0 | ⋯ | 24 | 200 | 6 | 0 | 0 | 0 | |ebio|abt3_projects|HUBIF_metagenomics|data|pipelines|llg|cophyverttrans|evenetal2021|round1|llg_output|checkM|10|checkm|markers_qa_summary.tsv.544 | markers_qa_summary.tsv.544 | NA | /ebio/abt3_projects/HUBIF_metagenomics/data/pipelines/llg/cophyverttrans/evenetal2021/round1/llg_output/checkM/10/checkm/markers_qa_summary.tsv.544 |\n",
       "| BEY32__vamb__Med_4734 | c__Clostridia (UID1118) | 387 | 223 | 124 | 86.49 | 0.81 | 0 | 1787297 | 0 | ⋯ | 24 | 198 | 1 | 0 | 0 | 0 | |ebio|abt3_projects|HUBIF_metagenomics|data|pipelines|llg|cophyverttrans|evenetal2021|round1|llg_output|checkM|10|checkm|markers_qa_summary.tsv.545 | markers_qa_summary.tsv.545 | NA | /ebio/abt3_projects/HUBIF_metagenomics/data/pipelines/llg/cophyverttrans/evenetal2021/round1/llg_output/checkM/10/checkm/markers_qa_summary.tsv.545 |\n",
       "\n"
      ],
      "text/plain": [
       "     Bin.Id                    Marker.lineage               X..genomes\n",
       "1    BEB01__maxbin2__Med_042   f__Lachnospiraceae (UID1256)  33       \n",
       "2    BEB01__metabat2__High_063 o__Clostridiales (UID1212)   172       \n",
       "⋮    ⋮                         ⋮                            ⋮         \n",
       "5458 BEY32__vamb__Med_084      k__Bacteria (UID2982)         88       \n",
       "5459 BEY32__vamb__Med_4734     c__Clostridia (UID1118)      387       \n",
       "     X..markers X..marker.sets Completeness Contamination Strain.heterogeneity\n",
       "1    333        171            74.89        0.35           33.33              \n",
       "2    263        149            96.73        1.34          100.00              \n",
       "⋮    ⋮          ⋮              ⋮            ⋮             ⋮                   \n",
       "5458 230        148            86.33        4.05          0                   \n",
       "5459 223        124            86.49        0.81          0                   \n",
       "     Genome.size..bp. X..ambiguous.bases ⋯ X0 X1  X2 X3 X4 X5.\n",
       "1    1656525          0                  ⋯ 89 241 3  0  0  0  \n",
       "2    2014676          0                  ⋯  8 253 2  0  0  0  \n",
       "⋮    ⋮                ⋮                  ⋱ ⋮  ⋮   ⋮  ⋮  ⋮  ⋮  \n",
       "5458 1999384          0                  ⋯ 24 200 6  0  0  0  \n",
       "5459 1787297          0                  ⋯ 24 198 1  0  0  0  \n",
       "     assembly.Id                                                                                                                                        \n",
       "1    |ebio|abt3_projects|HUBIF_metagenomics|data|pipelines|llg|cophyverttrans|evenetal2021|round1|llg_output|checkM|1|checkm|markers_qa_summary.tsv.1   \n",
       "2    |ebio|abt3_projects|HUBIF_metagenomics|data|pipelines|llg|cophyverttrans|evenetal2021|round1|llg_output|checkM|1|checkm|markers_qa_summary.tsv.2   \n",
       "⋮    ⋮                                                                                                                                                  \n",
       "5458 |ebio|abt3_projects|HUBIF_metagenomics|data|pipelines|llg|cophyverttrans|evenetal2021|round1|llg_output|checkM|10|checkm|markers_qa_summary.tsv.544\n",
       "5459 |ebio|abt3_projects|HUBIF_metagenomics|data|pipelines|llg|cophyverttrans|evenetal2021|round1|llg_output|checkM|10|checkm|markers_qa_summary.tsv.545\n",
       "     assembler.Id               taxon.Id\n",
       "1    markers_qa_summary.tsv.1   NA      \n",
       "2    markers_qa_summary.tsv.2   NA      \n",
       "⋮    ⋮                          ⋮       \n",
       "5458 markers_qa_summary.tsv.544 NA      \n",
       "5459 markers_qa_summary.tsv.545 NA      \n",
       "     File                                                                                                                                               \n",
       "1    /ebio/abt3_projects/HUBIF_metagenomics/data/pipelines/llg/cophyverttrans/evenetal2021/round1/llg_output/checkM/1/checkm/markers_qa_summary.tsv.1   \n",
       "2    /ebio/abt3_projects/HUBIF_metagenomics/data/pipelines/llg/cophyverttrans/evenetal2021/round1/llg_output/checkM/1/checkm/markers_qa_summary.tsv.2   \n",
       "⋮    ⋮                                                                                                                                                  \n",
       "5458 /ebio/abt3_projects/HUBIF_metagenomics/data/pipelines/llg/cophyverttrans/evenetal2021/round1/llg_output/checkM/10/checkm/markers_qa_summary.tsv.544\n",
       "5459 /ebio/abt3_projects/HUBIF_metagenomics/data/pipelines/llg/cophyverttrans/evenetal2021/round1/llg_output/checkM/10/checkm/markers_qa_summary.tsv.545"
      ]
     },
     "metadata": {},
     "output_type": "display_data"
    }
   ],
   "source": [
    "# checkM output\n",
    "F = file.path(work_dir, 'checkM', 'checkm_qa_summary.tsv')\n",
    "checkm = Fread(F) %>%\n",
    "    mutate.(Bin.Id = gsub('\\\\.', '_', Bin.Id))\n",
    "checkm$Bin.Id %>% unique_n('MAGs')\n",
    "checkm"
   ]
  },
  {
   "cell_type": "code",
   "execution_count": 31,
   "metadata": {
    "ExecuteTime": {
     "end_time": "2021-07-30T10:49:37.971271Z",
     "start_time": "2021-07-30T10:49:37.900Z"
    }
   },
   "outputs": [
    {
     "name": "stdout",
     "output_type": "stream",
     "text": [
      "No. of unique MAGs: 4352 \n"
     ]
    },
    {
     "data": {
      "text/html": [
       "<table class=\"dataframe\">\n",
       "<caption>A tidytable: 4352 × 2</caption>\n",
       "<thead>\n",
       "\t<tr><th scope=col>Name</th><th scope=col>Fasta</th></tr>\n",
       "\t<tr><th scope=col>&lt;chr&gt;</th><th scope=col>&lt;chr&gt;</th></tr>\n",
       "</thead>\n",
       "<tbody>\n",
       "\t<tr><td>BEB01__vamb__Med_020       </td><td>/ebio/abt3_projects/HUBIF_metagenomics/data/pipelines/llg/cophyverttrans/evenetal2021/round1/llg_output/drep/drep/dereplicated_genomes/BEB01__vamb__Med_020.fna       </td></tr>\n",
       "\t<tr><td>BEN02__maxbin2__Low_034_sub</td><td>/ebio/abt3_projects/HUBIF_metagenomics/data/pipelines/llg/cophyverttrans/evenetal2021/round1/llg_output/drep/drep/dereplicated_genomes/BEN02__maxbin2__Low_034_sub.fna</td></tr>\n",
       "\t<tr><td>⋮</td><td>⋮</td></tr>\n",
       "\t<tr><td>BEN13__vamb__High_3322_sub</td><td>/ebio/abt3_projects/HUBIF_metagenomics/data/pipelines/llg/cophyverttrans/evenetal2021/round1/llg_output/drep/drep/dereplicated_genomes/BEN13__vamb__High_3322_sub.fna</td></tr>\n",
       "\t<tr><td>BEN42__metabat2__Low_026  </td><td>/ebio/abt3_projects/HUBIF_metagenomics/data/pipelines/llg/cophyverttrans/evenetal2021/round1/llg_output/drep/drep/dereplicated_genomes/BEN42__metabat2__Low_026.fna  </td></tr>\n",
       "</tbody>\n",
       "</table>\n"
      ],
      "text/latex": [
       "A tidytable: 4352 × 2\n",
       "\\begin{tabular}{ll}\n",
       " Name & Fasta\\\\\n",
       " <chr> & <chr>\\\\\n",
       "\\hline\n",
       "\t BEB01\\_\\_vamb\\_\\_Med\\_020        & /ebio/abt3\\_projects/HUBIF\\_metagenomics/data/pipelines/llg/cophyverttrans/evenetal2021/round1/llg\\_output/drep/drep/dereplicated\\_genomes/BEB01\\_\\_vamb\\_\\_Med\\_020.fna       \\\\\n",
       "\t BEN02\\_\\_maxbin2\\_\\_Low\\_034\\_sub & /ebio/abt3\\_projects/HUBIF\\_metagenomics/data/pipelines/llg/cophyverttrans/evenetal2021/round1/llg\\_output/drep/drep/dereplicated\\_genomes/BEN02\\_\\_maxbin2\\_\\_Low\\_034\\_sub.fna\\\\\n",
       "\t ⋮ & ⋮\\\\\n",
       "\t BEN13\\_\\_vamb\\_\\_High\\_3322\\_sub & /ebio/abt3\\_projects/HUBIF\\_metagenomics/data/pipelines/llg/cophyverttrans/evenetal2021/round1/llg\\_output/drep/drep/dereplicated\\_genomes/BEN13\\_\\_vamb\\_\\_High\\_3322\\_sub.fna\\\\\n",
       "\t BEN42\\_\\_metabat2\\_\\_Low\\_026   & /ebio/abt3\\_projects/HUBIF\\_metagenomics/data/pipelines/llg/cophyverttrans/evenetal2021/round1/llg\\_output/drep/drep/dereplicated\\_genomes/BEN42\\_\\_metabat2\\_\\_Low\\_026.fna  \\\\\n",
       "\\end{tabular}\n"
      ],
      "text/markdown": [
       "\n",
       "A tidytable: 4352 × 2\n",
       "\n",
       "| Name &lt;chr&gt; | Fasta &lt;chr&gt; |\n",
       "|---|---|\n",
       "| BEB01__vamb__Med_020        | /ebio/abt3_projects/HUBIF_metagenomics/data/pipelines/llg/cophyverttrans/evenetal2021/round1/llg_output/drep/drep/dereplicated_genomes/BEB01__vamb__Med_020.fna        |\n",
       "| BEN02__maxbin2__Low_034_sub | /ebio/abt3_projects/HUBIF_metagenomics/data/pipelines/llg/cophyverttrans/evenetal2021/round1/llg_output/drep/drep/dereplicated_genomes/BEN02__maxbin2__Low_034_sub.fna |\n",
       "| ⋮ | ⋮ |\n",
       "| BEN13__vamb__High_3322_sub | /ebio/abt3_projects/HUBIF_metagenomics/data/pipelines/llg/cophyverttrans/evenetal2021/round1/llg_output/drep/drep/dereplicated_genomes/BEN13__vamb__High_3322_sub.fna |\n",
       "| BEN42__metabat2__Low_026   | /ebio/abt3_projects/HUBIF_metagenomics/data/pipelines/llg/cophyverttrans/evenetal2021/round1/llg_output/drep/drep/dereplicated_genomes/BEN42__metabat2__Low_026.fna   |\n",
       "\n"
      ],
      "text/plain": [
       "     Name                       \n",
       "1    BEB01__vamb__Med_020       \n",
       "2    BEN02__maxbin2__Low_034_sub\n",
       "⋮    ⋮                          \n",
       "4351 BEN13__vamb__High_3322_sub \n",
       "4352 BEN42__metabat2__Low_026   \n",
       "     Fasta                                                                                                                                                                 \n",
       "1    /ebio/abt3_projects/HUBIF_metagenomics/data/pipelines/llg/cophyverttrans/evenetal2021/round1/llg_output/drep/drep/dereplicated_genomes/BEB01__vamb__Med_020.fna       \n",
       "2    /ebio/abt3_projects/HUBIF_metagenomics/data/pipelines/llg/cophyverttrans/evenetal2021/round1/llg_output/drep/drep/dereplicated_genomes/BEN02__maxbin2__Low_034_sub.fna\n",
       "⋮    ⋮                                                                                                                                                                     \n",
       "4351 /ebio/abt3_projects/HUBIF_metagenomics/data/pipelines/llg/cophyverttrans/evenetal2021/round1/llg_output/drep/drep/dereplicated_genomes/BEN13__vamb__High_3322_sub.fna \n",
       "4352 /ebio/abt3_projects/HUBIF_metagenomics/data/pipelines/llg/cophyverttrans/evenetal2021/round1/llg_output/drep/drep/dereplicated_genomes/BEN42__metabat2__Low_026.fna   "
      ]
     },
     "metadata": {},
     "output_type": "display_data"
    }
   ],
   "source": [
    "# dRep output\n",
    "F = file.path(work_dir, 'drep', 'dereplicated_genomes.tsv')\n",
    "drep = Fread(F) %>%\n",
    "    mutate.(Name = gsub('\\\\.', '_', Name))\n",
    "drep$Name %>% unique_n('MAGs')\n",
    "drep"
   ]
  },
  {
   "cell_type": "code",
   "execution_count": 32,
   "metadata": {
    "ExecuteTime": {
     "end_time": "2021-07-30T10:49:38.134583Z",
     "start_time": "2021-07-30T10:49:38.006Z"
    }
   },
   "outputs": [
    {
     "data": {
      "text/html": [
       "<table class=\"dataframe\">\n",
       "<caption>A tidytable: 4352 × 8</caption>\n",
       "<thead>\n",
       "\t<tr><th scope=col>user_genome</th><th scope=col>Domain</th><th scope=col>Phylum</th><th scope=col>Class</th><th scope=col>Order</th><th scope=col>Family</th><th scope=col>Genus</th><th scope=col>Species</th></tr>\n",
       "\t<tr><th scope=col>&lt;chr&gt;</th><th scope=col>&lt;chr&gt;</th><th scope=col>&lt;chr&gt;</th><th scope=col>&lt;chr&gt;</th><th scope=col>&lt;chr&gt;</th><th scope=col>&lt;chr&gt;</th><th scope=col>&lt;chr&gt;</th><th scope=col>&lt;chr&gt;</th></tr>\n",
       "</thead>\n",
       "<tbody>\n",
       "\t<tr><td>BEB01__maxbin2__High_038</td><td>d__Bacteria</td><td>p__Actinobacteriota</td><td>c__Actinomycetia</td><td>o__Actinomycetales   </td><td>f__Bifidobacteriaceae       </td><td>g__Bifidobacterium       </td><td>s__Bifidobacterium pseudocatenulatum </td></tr>\n",
       "\t<tr><td>BEB01__maxbin2__Low_022 </td><td>d__Bacteria</td><td>p__Firmicutes      </td><td>c__Bacilli      </td><td>o__Erysipelotrichales</td><td>f__Erysipelatoclostridiaceae</td><td>g__Erysipelatoclostridium</td><td>s__Erysipelatoclostridium sp000752095</td></tr>\n",
       "\t<tr><td>⋮</td><td>⋮</td><td>⋮</td><td>⋮</td><td>⋮</td><td>⋮</td><td>⋮</td><td>⋮</td></tr>\n",
       "\t<tr><td>BEN59__maxbin2__High_010</td><td>d__Archaea</td><td>p__Methanobacteriota</td><td>c__Methanobacteria</td><td>o__Methanobacteriales</td><td>f__Methanobacteriaceae</td><td>g__Methanobrevibacter_A</td><td>s__Methanobrevibacter_A smithii</td></tr>\n",
       "\t<tr><td>BEN07__vamb__Med_803    </td><td>d__Archaea</td><td>p__Methanobacteriota</td><td>c__Methanobacteria</td><td>o__Methanobacteriales</td><td>f__Methanobacteriaceae</td><td>g__Methanobrevibacter_A</td><td>s__Methanobrevibacter_A smithii</td></tr>\n",
       "</tbody>\n",
       "</table>\n"
      ],
      "text/latex": [
       "A tidytable: 4352 × 8\n",
       "\\begin{tabular}{llllllll}\n",
       " user\\_genome & Domain & Phylum & Class & Order & Family & Genus & Species\\\\\n",
       " <chr> & <chr> & <chr> & <chr> & <chr> & <chr> & <chr> & <chr>\\\\\n",
       "\\hline\n",
       "\t BEB01\\_\\_maxbin2\\_\\_High\\_038 & d\\_\\_Bacteria & p\\_\\_Actinobacteriota & c\\_\\_Actinomycetia & o\\_\\_Actinomycetales    & f\\_\\_Bifidobacteriaceae        & g\\_\\_Bifidobacterium        & s\\_\\_Bifidobacterium pseudocatenulatum \\\\\n",
       "\t BEB01\\_\\_maxbin2\\_\\_Low\\_022  & d\\_\\_Bacteria & p\\_\\_Firmicutes       & c\\_\\_Bacilli       & o\\_\\_Erysipelotrichales & f\\_\\_Erysipelatoclostridiaceae & g\\_\\_Erysipelatoclostridium & s\\_\\_Erysipelatoclostridium sp000752095\\\\\n",
       "\t ⋮ & ⋮ & ⋮ & ⋮ & ⋮ & ⋮ & ⋮ & ⋮\\\\\n",
       "\t BEN59\\_\\_maxbin2\\_\\_High\\_010 & d\\_\\_Archaea & p\\_\\_Methanobacteriota & c\\_\\_Methanobacteria & o\\_\\_Methanobacteriales & f\\_\\_Methanobacteriaceae & g\\_\\_Methanobrevibacter\\_A & s\\_\\_Methanobrevibacter\\_A smithii\\\\\n",
       "\t BEN07\\_\\_vamb\\_\\_Med\\_803     & d\\_\\_Archaea & p\\_\\_Methanobacteriota & c\\_\\_Methanobacteria & o\\_\\_Methanobacteriales & f\\_\\_Methanobacteriaceae & g\\_\\_Methanobrevibacter\\_A & s\\_\\_Methanobrevibacter\\_A smithii\\\\\n",
       "\\end{tabular}\n"
      ],
      "text/markdown": [
       "\n",
       "A tidytable: 4352 × 8\n",
       "\n",
       "| user_genome &lt;chr&gt; | Domain &lt;chr&gt; | Phylum &lt;chr&gt; | Class &lt;chr&gt; | Order &lt;chr&gt; | Family &lt;chr&gt; | Genus &lt;chr&gt; | Species &lt;chr&gt; |\n",
       "|---|---|---|---|---|---|---|---|\n",
       "| BEB01__maxbin2__High_038 | d__Bacteria | p__Actinobacteriota | c__Actinomycetia | o__Actinomycetales    | f__Bifidobacteriaceae        | g__Bifidobacterium        | s__Bifidobacterium pseudocatenulatum  |\n",
       "| BEB01__maxbin2__Low_022  | d__Bacteria | p__Firmicutes       | c__Bacilli       | o__Erysipelotrichales | f__Erysipelatoclostridiaceae | g__Erysipelatoclostridium | s__Erysipelatoclostridium sp000752095 |\n",
       "| ⋮ | ⋮ | ⋮ | ⋮ | ⋮ | ⋮ | ⋮ | ⋮ |\n",
       "| BEN59__maxbin2__High_010 | d__Archaea | p__Methanobacteriota | c__Methanobacteria | o__Methanobacteriales | f__Methanobacteriaceae | g__Methanobrevibacter_A | s__Methanobrevibacter_A smithii |\n",
       "| BEN07__vamb__Med_803     | d__Archaea | p__Methanobacteriota | c__Methanobacteria | o__Methanobacteriales | f__Methanobacteriaceae | g__Methanobrevibacter_A | s__Methanobrevibacter_A smithii |\n",
       "\n"
      ],
      "text/plain": [
       "     user_genome              Domain      Phylum              \n",
       "1    BEB01__maxbin2__High_038 d__Bacteria p__Actinobacteriota \n",
       "2    BEB01__maxbin2__Low_022  d__Bacteria p__Firmicutes       \n",
       "⋮    ⋮                        ⋮           ⋮                   \n",
       "4351 BEN59__maxbin2__High_010 d__Archaea  p__Methanobacteriota\n",
       "4352 BEN07__vamb__Med_803     d__Archaea  p__Methanobacteriota\n",
       "     Class              Order                 Family                      \n",
       "1    c__Actinomycetia   o__Actinomycetales    f__Bifidobacteriaceae       \n",
       "2    c__Bacilli         o__Erysipelotrichales f__Erysipelatoclostridiaceae\n",
       "⋮    ⋮                  ⋮                     ⋮                           \n",
       "4351 c__Methanobacteria o__Methanobacteriales f__Methanobacteriaceae      \n",
       "4352 c__Methanobacteria o__Methanobacteriales f__Methanobacteriaceae      \n",
       "     Genus                     Species                              \n",
       "1    g__Bifidobacterium        s__Bifidobacterium pseudocatenulatum \n",
       "2    g__Erysipelatoclostridium s__Erysipelatoclostridium sp000752095\n",
       "⋮    ⋮                         ⋮                                    \n",
       "4351 g__Methanobrevibacter_A   s__Methanobrevibacter_A smithii      \n",
       "4352 g__Methanobrevibacter_A   s__Methanobrevibacter_A smithii      "
      ]
     },
     "metadata": {},
     "output_type": "display_data"
    }
   ],
   "source": [
    "# GTDB-Tk output\n",
    "D = file.path('/ebio/abt3_projects/HUBIF_metagenomics/data/pipelines/llg/cophyverttrans/evenetal2021',\n",
    "              'round2', 'llg_output')\n",
    "F = file.path(D, 'gtdbtk', 'gtdbtk_summary.tsv') \n",
    "tax = Fread(F) %>%\n",
    "    mutate.(user_genome = gsub('\\\\.', '_', user_genome)) %>%\n",
    "    select.(user_genome, classification) %>%\n",
    "    separate.(classification, taxonomy_levels(), sep=';')\n",
    "tax"
   ]
  },
  {
   "cell_type": "code",
   "execution_count": 33,
   "metadata": {
    "ExecuteTime": {
     "end_time": "2021-07-30T10:49:38.427483Z",
     "start_time": "2021-07-30T10:49:38.379Z"
    }
   },
   "outputs": [
    {
     "name": "stdout",
     "output_type": "stream",
     "text": [
      "intersect(x,y): 4352 \n",
      "setdiff(x,y): 0 \n",
      "setdiff(y,x): 1107 \n",
      "union(x,y): 5459 \n",
      "---\n",
      "intersect(x,y): 4352 \n",
      "setdiff(x,y): 0 \n",
      "setdiff(y,x): 0 \n",
      "union(x,y): 4352 \n"
     ]
    }
   ],
   "source": [
    "# merging\n",
    "overlap(drep$Name, checkm$Bin.Id)\n",
    "cat('---\\n')\n",
    "overlap(drep$Name, tax$user_genome)"
   ]
  },
  {
   "cell_type": "code",
   "execution_count": 34,
   "metadata": {
    "ExecuteTime": {
     "end_time": "2021-07-30T10:49:39.534061Z",
     "start_time": "2021-07-30T10:49:39.447Z"
    }
   },
   "outputs": [
    {
     "data": {
      "text/html": [
       "<table class=\"dataframe\">\n",
       "<caption>A tidytable: 4352 × 41</caption>\n",
       "<thead>\n",
       "\t<tr><th scope=col>Name</th><th scope=col>Fasta</th><th scope=col>Marker.lineage</th><th scope=col>X..genomes</th><th scope=col>X..markers</th><th scope=col>X..marker.sets</th><th scope=col>Completeness</th><th scope=col>Contamination</th><th scope=col>Strain.heterogeneity</th><th scope=col>Genome.size..bp.</th><th scope=col>⋯</th><th scope=col>assembler.Id</th><th scope=col>taxon.Id</th><th scope=col>File</th><th scope=col>Domain</th><th scope=col>Phylum</th><th scope=col>Class</th><th scope=col>Order</th><th scope=col>Family</th><th scope=col>Genus</th><th scope=col>Species</th></tr>\n",
       "\t<tr><th scope=col>&lt;chr&gt;</th><th scope=col>&lt;chr&gt;</th><th scope=col>&lt;chr&gt;</th><th scope=col>&lt;int&gt;</th><th scope=col>&lt;int&gt;</th><th scope=col>&lt;int&gt;</th><th scope=col>&lt;dbl&gt;</th><th scope=col>&lt;dbl&gt;</th><th scope=col>&lt;dbl&gt;</th><th scope=col>&lt;int&gt;</th><th scope=col>⋯</th><th scope=col>&lt;chr&gt;</th><th scope=col>&lt;lgl&gt;</th><th scope=col>&lt;chr&gt;</th><th scope=col>&lt;chr&gt;</th><th scope=col>&lt;chr&gt;</th><th scope=col>&lt;chr&gt;</th><th scope=col>&lt;chr&gt;</th><th scope=col>&lt;chr&gt;</th><th scope=col>&lt;chr&gt;</th><th scope=col>&lt;chr&gt;</th></tr>\n",
       "</thead>\n",
       "<tbody>\n",
       "\t<tr><td>BEB01__maxbin2__High_038</td><td>/ebio/abt3_projects/HUBIF_metagenomics/data/pipelines/llg/cophyverttrans/evenetal2021/round1/llg_output/drep/drep/dereplicated_genomes/BEB01__maxbin2__High_038.fna</td><td>f__Bifidobacteriaceae (UID1458)</td><td> 77</td><td>464</td><td>220</td><td>99.55</td><td>0.60</td><td> 50</td><td>2577342</td><td>⋯</td><td>markers_qa_summary.tsv.1</td><td>NA</td><td>/ebio/abt3_projects/HUBIF_metagenomics/data/pipelines/llg/cophyverttrans/evenetal2021/round1/llg_output/checkM/7/checkm/markers_qa_summary.tsv.1</td><td>d__Bacteria</td><td>p__Actinobacteriota</td><td>c__Actinomycetia</td><td>o__Actinomycetales   </td><td>f__Bifidobacteriaceae       </td><td>g__Bifidobacterium       </td><td>s__Bifidobacterium pseudocatenulatum </td></tr>\n",
       "\t<tr><td>BEB01__maxbin2__Low_022 </td><td>/ebio/abt3_projects/HUBIF_metagenomics/data/pipelines/llg/cophyverttrans/evenetal2021/round1/llg_output/drep/drep/dereplicated_genomes/BEB01__maxbin2__Low_022.fna </td><td>k__Bacteria (UID2372)          </td><td>131</td><td>177</td><td>106</td><td>51.88</td><td>0.24</td><td>100</td><td> 635673</td><td>⋯</td><td>markers_qa_summary.tsv.2</td><td>NA</td><td>/ebio/abt3_projects/HUBIF_metagenomics/data/pipelines/llg/cophyverttrans/evenetal2021/round1/llg_output/checkM/8/checkm/markers_qa_summary.tsv.2</td><td>d__Bacteria</td><td>p__Firmicutes      </td><td>c__Bacilli      </td><td>o__Erysipelotrichales</td><td>f__Erysipelatoclostridiaceae</td><td>g__Erysipelatoclostridium</td><td>s__Erysipelatoclostridium sp000752095</td></tr>\n",
       "\t<tr><td>⋮</td><td>⋮</td><td>⋮</td><td>⋮</td><td>⋮</td><td>⋮</td><td>⋮</td><td>⋮</td><td>⋮</td><td>⋮</td><td>⋱</td><td>⋮</td><td>⋮</td><td>⋮</td><td>⋮</td><td>⋮</td><td>⋮</td><td>⋮</td><td>⋮</td><td>⋮</td><td>⋮</td></tr>\n",
       "\t<tr><td>BEN59__maxbin2__High_010</td><td>/ebio/abt3_projects/HUBIF_metagenomics/data/pipelines/llg/cophyverttrans/evenetal2021/round1/llg_output/drep/drep/dereplicated_genomes/BEN59__maxbin2__High_010.fna</td><td>p__Euryarchaeota (UID3)</td><td>148</td><td>188</td><td>125</td><td>71.22</td><td>0.0</td><td>0</td><td>1009258</td><td>⋯</td><td>markers_qa_summary.tsv.314</td><td>NA</td><td>/ebio/abt3_projects/HUBIF_metagenomics/data/pipelines/llg/cophyverttrans/evenetal2021/round1/llg_output/checkM/4/checkm/markers_qa_summary.tsv.314</td><td>d__Archaea</td><td>p__Methanobacteriota</td><td>c__Methanobacteria</td><td>o__Methanobacteriales</td><td>f__Methanobacteriaceae</td><td>g__Methanobrevibacter_A</td><td>s__Methanobrevibacter_A smithii</td></tr>\n",
       "\t<tr><td>BEN07__vamb__Med_803    </td><td>/ebio/abt3_projects/HUBIF_metagenomics/data/pipelines/llg/cophyverttrans/evenetal2021/round1/llg_output/drep/drep/dereplicated_genomes/BEN07__vamb__Med_803.fna    </td><td>p__Euryarchaeota (UID3)</td><td>148</td><td>188</td><td>125</td><td>73.11</td><td>0.4</td><td>0</td><td>1024298</td><td>⋯</td><td>markers_qa_summary.tsv.124</td><td>NA</td><td>/ebio/abt3_projects/HUBIF_metagenomics/data/pipelines/llg/cophyverttrans/evenetal2021/round1/llg_output/checkM/4/checkm/markers_qa_summary.tsv.124</td><td>d__Archaea</td><td>p__Methanobacteriota</td><td>c__Methanobacteria</td><td>o__Methanobacteriales</td><td>f__Methanobacteriaceae</td><td>g__Methanobrevibacter_A</td><td>s__Methanobrevibacter_A smithii</td></tr>\n",
       "</tbody>\n",
       "</table>\n"
      ],
      "text/latex": [
       "A tidytable: 4352 × 41\n",
       "\\begin{tabular}{lllllllllllllllllllll}\n",
       " Name & Fasta & Marker.lineage & X..genomes & X..markers & X..marker.sets & Completeness & Contamination & Strain.heterogeneity & Genome.size..bp. & ⋯ & assembler.Id & taxon.Id & File & Domain & Phylum & Class & Order & Family & Genus & Species\\\\\n",
       " <chr> & <chr> & <chr> & <int> & <int> & <int> & <dbl> & <dbl> & <dbl> & <int> & ⋯ & <chr> & <lgl> & <chr> & <chr> & <chr> & <chr> & <chr> & <chr> & <chr> & <chr>\\\\\n",
       "\\hline\n",
       "\t BEB01\\_\\_maxbin2\\_\\_High\\_038 & /ebio/abt3\\_projects/HUBIF\\_metagenomics/data/pipelines/llg/cophyverttrans/evenetal2021/round1/llg\\_output/drep/drep/dereplicated\\_genomes/BEB01\\_\\_maxbin2\\_\\_High\\_038.fna & f\\_\\_Bifidobacteriaceae (UID1458) &  77 & 464 & 220 & 99.55 & 0.60 &  50 & 2577342 & ⋯ & markers\\_qa\\_summary.tsv.1 & NA & /ebio/abt3\\_projects/HUBIF\\_metagenomics/data/pipelines/llg/cophyverttrans/evenetal2021/round1/llg\\_output/checkM/7/checkm/markers\\_qa\\_summary.tsv.1 & d\\_\\_Bacteria & p\\_\\_Actinobacteriota & c\\_\\_Actinomycetia & o\\_\\_Actinomycetales    & f\\_\\_Bifidobacteriaceae        & g\\_\\_Bifidobacterium        & s\\_\\_Bifidobacterium pseudocatenulatum \\\\\n",
       "\t BEB01\\_\\_maxbin2\\_\\_Low\\_022  & /ebio/abt3\\_projects/HUBIF\\_metagenomics/data/pipelines/llg/cophyverttrans/evenetal2021/round1/llg\\_output/drep/drep/dereplicated\\_genomes/BEB01\\_\\_maxbin2\\_\\_Low\\_022.fna  & k\\_\\_Bacteria (UID2372)           & 131 & 177 & 106 & 51.88 & 0.24 & 100 &  635673 & ⋯ & markers\\_qa\\_summary.tsv.2 & NA & /ebio/abt3\\_projects/HUBIF\\_metagenomics/data/pipelines/llg/cophyverttrans/evenetal2021/round1/llg\\_output/checkM/8/checkm/markers\\_qa\\_summary.tsv.2 & d\\_\\_Bacteria & p\\_\\_Firmicutes       & c\\_\\_Bacilli       & o\\_\\_Erysipelotrichales & f\\_\\_Erysipelatoclostridiaceae & g\\_\\_Erysipelatoclostridium & s\\_\\_Erysipelatoclostridium sp000752095\\\\\n",
       "\t ⋮ & ⋮ & ⋮ & ⋮ & ⋮ & ⋮ & ⋮ & ⋮ & ⋮ & ⋮ & ⋱ & ⋮ & ⋮ & ⋮ & ⋮ & ⋮ & ⋮ & ⋮ & ⋮ & ⋮ & ⋮\\\\\n",
       "\t BEN59\\_\\_maxbin2\\_\\_High\\_010 & /ebio/abt3\\_projects/HUBIF\\_metagenomics/data/pipelines/llg/cophyverttrans/evenetal2021/round1/llg\\_output/drep/drep/dereplicated\\_genomes/BEN59\\_\\_maxbin2\\_\\_High\\_010.fna & p\\_\\_Euryarchaeota (UID3) & 148 & 188 & 125 & 71.22 & 0.0 & 0 & 1009258 & ⋯ & markers\\_qa\\_summary.tsv.314 & NA & /ebio/abt3\\_projects/HUBIF\\_metagenomics/data/pipelines/llg/cophyverttrans/evenetal2021/round1/llg\\_output/checkM/4/checkm/markers\\_qa\\_summary.tsv.314 & d\\_\\_Archaea & p\\_\\_Methanobacteriota & c\\_\\_Methanobacteria & o\\_\\_Methanobacteriales & f\\_\\_Methanobacteriaceae & g\\_\\_Methanobrevibacter\\_A & s\\_\\_Methanobrevibacter\\_A smithii\\\\\n",
       "\t BEN07\\_\\_vamb\\_\\_Med\\_803     & /ebio/abt3\\_projects/HUBIF\\_metagenomics/data/pipelines/llg/cophyverttrans/evenetal2021/round1/llg\\_output/drep/drep/dereplicated\\_genomes/BEN07\\_\\_vamb\\_\\_Med\\_803.fna     & p\\_\\_Euryarchaeota (UID3) & 148 & 188 & 125 & 73.11 & 0.4 & 0 & 1024298 & ⋯ & markers\\_qa\\_summary.tsv.124 & NA & /ebio/abt3\\_projects/HUBIF\\_metagenomics/data/pipelines/llg/cophyverttrans/evenetal2021/round1/llg\\_output/checkM/4/checkm/markers\\_qa\\_summary.tsv.124 & d\\_\\_Archaea & p\\_\\_Methanobacteriota & c\\_\\_Methanobacteria & o\\_\\_Methanobacteriales & f\\_\\_Methanobacteriaceae & g\\_\\_Methanobrevibacter\\_A & s\\_\\_Methanobrevibacter\\_A smithii\\\\\n",
       "\\end{tabular}\n"
      ],
      "text/markdown": [
       "\n",
       "A tidytable: 4352 × 41\n",
       "\n",
       "| Name &lt;chr&gt; | Fasta &lt;chr&gt; | Marker.lineage &lt;chr&gt; | X..genomes &lt;int&gt; | X..markers &lt;int&gt; | X..marker.sets &lt;int&gt; | Completeness &lt;dbl&gt; | Contamination &lt;dbl&gt; | Strain.heterogeneity &lt;dbl&gt; | Genome.size..bp. &lt;int&gt; | ⋯ ⋯ | assembler.Id &lt;chr&gt; | taxon.Id &lt;lgl&gt; | File &lt;chr&gt; | Domain &lt;chr&gt; | Phylum &lt;chr&gt; | Class &lt;chr&gt; | Order &lt;chr&gt; | Family &lt;chr&gt; | Genus &lt;chr&gt; | Species &lt;chr&gt; |\n",
       "|---|---|---|---|---|---|---|---|---|---|---|---|---|---|---|---|---|---|---|---|---|\n",
       "| BEB01__maxbin2__High_038 | /ebio/abt3_projects/HUBIF_metagenomics/data/pipelines/llg/cophyverttrans/evenetal2021/round1/llg_output/drep/drep/dereplicated_genomes/BEB01__maxbin2__High_038.fna | f__Bifidobacteriaceae (UID1458) |  77 | 464 | 220 | 99.55 | 0.60 |  50 | 2577342 | ⋯ | markers_qa_summary.tsv.1 | NA | /ebio/abt3_projects/HUBIF_metagenomics/data/pipelines/llg/cophyverttrans/evenetal2021/round1/llg_output/checkM/7/checkm/markers_qa_summary.tsv.1 | d__Bacteria | p__Actinobacteriota | c__Actinomycetia | o__Actinomycetales    | f__Bifidobacteriaceae        | g__Bifidobacterium        | s__Bifidobacterium pseudocatenulatum  |\n",
       "| BEB01__maxbin2__Low_022  | /ebio/abt3_projects/HUBIF_metagenomics/data/pipelines/llg/cophyverttrans/evenetal2021/round1/llg_output/drep/drep/dereplicated_genomes/BEB01__maxbin2__Low_022.fna  | k__Bacteria (UID2372)           | 131 | 177 | 106 | 51.88 | 0.24 | 100 |  635673 | ⋯ | markers_qa_summary.tsv.2 | NA | /ebio/abt3_projects/HUBIF_metagenomics/data/pipelines/llg/cophyverttrans/evenetal2021/round1/llg_output/checkM/8/checkm/markers_qa_summary.tsv.2 | d__Bacteria | p__Firmicutes       | c__Bacilli       | o__Erysipelotrichales | f__Erysipelatoclostridiaceae | g__Erysipelatoclostridium | s__Erysipelatoclostridium sp000752095 |\n",
       "| ⋮ | ⋮ | ⋮ | ⋮ | ⋮ | ⋮ | ⋮ | ⋮ | ⋮ | ⋮ | ⋱ | ⋮ | ⋮ | ⋮ | ⋮ | ⋮ | ⋮ | ⋮ | ⋮ | ⋮ | ⋮ |\n",
       "| BEN59__maxbin2__High_010 | /ebio/abt3_projects/HUBIF_metagenomics/data/pipelines/llg/cophyverttrans/evenetal2021/round1/llg_output/drep/drep/dereplicated_genomes/BEN59__maxbin2__High_010.fna | p__Euryarchaeota (UID3) | 148 | 188 | 125 | 71.22 | 0.0 | 0 | 1009258 | ⋯ | markers_qa_summary.tsv.314 | NA | /ebio/abt3_projects/HUBIF_metagenomics/data/pipelines/llg/cophyverttrans/evenetal2021/round1/llg_output/checkM/4/checkm/markers_qa_summary.tsv.314 | d__Archaea | p__Methanobacteriota | c__Methanobacteria | o__Methanobacteriales | f__Methanobacteriaceae | g__Methanobrevibacter_A | s__Methanobrevibacter_A smithii |\n",
       "| BEN07__vamb__Med_803     | /ebio/abt3_projects/HUBIF_metagenomics/data/pipelines/llg/cophyverttrans/evenetal2021/round1/llg_output/drep/drep/dereplicated_genomes/BEN07__vamb__Med_803.fna     | p__Euryarchaeota (UID3) | 148 | 188 | 125 | 73.11 | 0.4 | 0 | 1024298 | ⋯ | markers_qa_summary.tsv.124 | NA | /ebio/abt3_projects/HUBIF_metagenomics/data/pipelines/llg/cophyverttrans/evenetal2021/round1/llg_output/checkM/4/checkm/markers_qa_summary.tsv.124 | d__Archaea | p__Methanobacteriota | c__Methanobacteria | o__Methanobacteriales | f__Methanobacteriaceae | g__Methanobrevibacter_A | s__Methanobrevibacter_A smithii |\n",
       "\n"
      ],
      "text/plain": [
       "     Name                    \n",
       "1    BEB01__maxbin2__High_038\n",
       "2    BEB01__maxbin2__Low_022 \n",
       "⋮    ⋮                       \n",
       "4351 BEN59__maxbin2__High_010\n",
       "4352 BEN07__vamb__Med_803    \n",
       "     Fasta                                                                                                                                                              \n",
       "1    /ebio/abt3_projects/HUBIF_metagenomics/data/pipelines/llg/cophyverttrans/evenetal2021/round1/llg_output/drep/drep/dereplicated_genomes/BEB01__maxbin2__High_038.fna\n",
       "2    /ebio/abt3_projects/HUBIF_metagenomics/data/pipelines/llg/cophyverttrans/evenetal2021/round1/llg_output/drep/drep/dereplicated_genomes/BEB01__maxbin2__Low_022.fna \n",
       "⋮    ⋮                                                                                                                                                                  \n",
       "4351 /ebio/abt3_projects/HUBIF_metagenomics/data/pipelines/llg/cophyverttrans/evenetal2021/round1/llg_output/drep/drep/dereplicated_genomes/BEN59__maxbin2__High_010.fna\n",
       "4352 /ebio/abt3_projects/HUBIF_metagenomics/data/pipelines/llg/cophyverttrans/evenetal2021/round1/llg_output/drep/drep/dereplicated_genomes/BEN07__vamb__Med_803.fna    \n",
       "     Marker.lineage                  X..genomes X..markers X..marker.sets\n",
       "1    f__Bifidobacteriaceae (UID1458)  77        464        220           \n",
       "2    k__Bacteria (UID2372)           131        177        106           \n",
       "⋮    ⋮                               ⋮          ⋮          ⋮             \n",
       "4351 p__Euryarchaeota (UID3)         148        188        125           \n",
       "4352 p__Euryarchaeota (UID3)         148        188        125           \n",
       "     Completeness Contamination Strain.heterogeneity Genome.size..bp. ⋯\n",
       "1    99.55        0.60           50                  2577342          ⋯\n",
       "2    51.88        0.24          100                   635673          ⋯\n",
       "⋮    ⋮            ⋮             ⋮                    ⋮                ⋱\n",
       "4351 71.22        0.0           0                    1009258          ⋯\n",
       "4352 73.11        0.4           0                    1024298          ⋯\n",
       "     assembler.Id               taxon.Id\n",
       "1    markers_qa_summary.tsv.1   NA      \n",
       "2    markers_qa_summary.tsv.2   NA      \n",
       "⋮    ⋮                          ⋮       \n",
       "4351 markers_qa_summary.tsv.314 NA      \n",
       "4352 markers_qa_summary.tsv.124 NA      \n",
       "     File                                                                                                                                              \n",
       "1    /ebio/abt3_projects/HUBIF_metagenomics/data/pipelines/llg/cophyverttrans/evenetal2021/round1/llg_output/checkM/7/checkm/markers_qa_summary.tsv.1  \n",
       "2    /ebio/abt3_projects/HUBIF_metagenomics/data/pipelines/llg/cophyverttrans/evenetal2021/round1/llg_output/checkM/8/checkm/markers_qa_summary.tsv.2  \n",
       "⋮    ⋮                                                                                                                                                 \n",
       "4351 /ebio/abt3_projects/HUBIF_metagenomics/data/pipelines/llg/cophyverttrans/evenetal2021/round1/llg_output/checkM/4/checkm/markers_qa_summary.tsv.314\n",
       "4352 /ebio/abt3_projects/HUBIF_metagenomics/data/pipelines/llg/cophyverttrans/evenetal2021/round1/llg_output/checkM/4/checkm/markers_qa_summary.tsv.124\n",
       "     Domain      Phylum               Class              Order                \n",
       "1    d__Bacteria p__Actinobacteriota  c__Actinomycetia   o__Actinomycetales   \n",
       "2    d__Bacteria p__Firmicutes        c__Bacilli         o__Erysipelotrichales\n",
       "⋮    ⋮           ⋮                    ⋮                  ⋮                    \n",
       "4351 d__Archaea  p__Methanobacteriota c__Methanobacteria o__Methanobacteriales\n",
       "4352 d__Archaea  p__Methanobacteriota c__Methanobacteria o__Methanobacteriales\n",
       "     Family                       Genus                    \n",
       "1    f__Bifidobacteriaceae        g__Bifidobacterium       \n",
       "2    f__Erysipelatoclostridiaceae g__Erysipelatoclostridium\n",
       "⋮    ⋮                            ⋮                        \n",
       "4351 f__Methanobacteriaceae       g__Methanobrevibacter_A  \n",
       "4352 f__Methanobacteriaceae       g__Methanobrevibacter_A  \n",
       "     Species                              \n",
       "1    s__Bifidobacterium pseudocatenulatum \n",
       "2    s__Erysipelatoclostridium sp000752095\n",
       "⋮    ⋮                                    \n",
       "4351 s__Methanobrevibacter_A smithii      \n",
       "4352 s__Methanobrevibacter_A smithii      "
      ]
     },
     "metadata": {},
     "output_type": "display_data"
    }
   ],
   "source": [
    "# merging\n",
    "drep = drep %>%\n",
    "    inner_join.(checkm, c('Name'='Bin.Id')) %>%\n",
    "    inner_join.(tax, c('Name'='user_genome'))\n",
    "drep"
   ]
  },
  {
   "cell_type": "markdown",
   "metadata": {},
   "source": [
    "#### Writing table"
   ]
  },
  {
   "cell_type": "code",
   "execution_count": 35,
   "metadata": {
    "ExecuteTime": {
     "end_time": "2021-07-30T10:49:53.042452Z",
     "start_time": "2021-07-30T10:49:52.982Z"
    }
   },
   "outputs": [
    {
     "name": "stdout",
     "output_type": "stream",
     "text": [
      "File written: /ebio/abt3_projects/HUBIF_metagenomics/data/pipelines/llg/cophyverttrans/batch2_clusters1-3/round6/HUBIF-TUK-CAM//Even2021_MAG_meta.tsv \n"
     ]
    }
   ],
   "source": [
    "D = '/ebio/abt3_projects/HUBIF_metagenomics/data/pipelines/llg/cophyverttrans/batch2_clusters1-3/round6/HUBIF-TUK-CAM/'\n",
    "F = file.path(D, 'Even2021_MAG_meta.tsv')\n",
    "write_table(drep, F)"
   ]
  },
  {
   "cell_type": "markdown",
   "metadata": {},
   "source": [
    "# target species"
   ]
  },
  {
   "cell_type": "code",
   "execution_count": 19,
   "metadata": {
    "ExecuteTime": {
     "end_time": "2021-07-30T10:36:33.521081Z",
     "start_time": "2021-07-30T10:36:33.460Z"
    }
   },
   "outputs": [
    {
     "name": "stdout",
     "output_type": "stream",
     "text": [
      "intersect(x,y): 34 \n",
      "setdiff(x,y): 7 \n",
      "setdiff(y,x): 486 \n",
      "union(x,y): 527 \n"
     ]
    }
   ],
   "source": [
    "# checking overlap\n",
    "overlap(stringr::str_to_lower(cophylo_spec$Species), \n",
    "        stringr::str_to_lower(drep$Species) %>% gsub('^s__', '', .))"
   ]
  },
  {
   "cell_type": "code",
   "execution_count": 20,
   "metadata": {
    "ExecuteTime": {
     "end_time": "2021-07-30T10:36:35.458255Z",
     "start_time": "2021-07-30T10:36:35.427Z"
    }
   },
   "outputs": [
    {
     "data": {
      "text/html": [
       "<style>\n",
       ".list-inline {list-style: none; margin:0; padding: 0}\n",
       ".list-inline>li {display: inline-block}\n",
       ".list-inline>li:not(:last-child)::after {content: \"\\00b7\"; padding: 0 .5ex}\n",
       "</style>\n",
       "<ol class=list-inline><li>'anaerobutyricum hallii'</li><li>'bifidobacterium breve'</li><li>'bifidobacterium kashiwanohense'</li><li>'blautia_a wexlerae'</li><li>'dysosmobacter sp001916835'</li><li>'veillonella atypica'</li></ol>\n"
      ],
      "text/latex": [
       "\\begin{enumerate*}\n",
       "\\item 'anaerobutyricum hallii'\n",
       "\\item 'bifidobacterium breve'\n",
       "\\item 'bifidobacterium kashiwanohense'\n",
       "\\item 'blautia\\_a wexlerae'\n",
       "\\item 'dysosmobacter sp001916835'\n",
       "\\item 'veillonella atypica'\n",
       "\\end{enumerate*}\n"
      ],
      "text/markdown": [
       "1. 'anaerobutyricum hallii'\n",
       "2. 'bifidobacterium breve'\n",
       "3. 'bifidobacterium kashiwanohense'\n",
       "4. 'blautia_a wexlerae'\n",
       "5. 'dysosmobacter sp001916835'\n",
       "6. 'veillonella atypica'\n",
       "\n",
       "\n"
      ],
      "text/plain": [
       "[1] \"anaerobutyricum hallii\"         \"bifidobacterium breve\"         \n",
       "[3] \"bifidobacterium kashiwanohense\" \"blautia_a wexlerae\"            \n",
       "[5] \"dysosmobacter sp001916835\"      \"veillonella atypica\"           "
      ]
     },
     "metadata": {},
     "output_type": "display_data"
    }
   ],
   "source": [
    "# which target species not found?\n",
    "overlap(stringr::str_to_lower(cophylo_spec$Species), \n",
    "        stringr::str_to_lower(drep$Species) %>% gsub('^s__', '', .),\n",
    "        diff='x') %>% sort"
   ]
  },
  {
   "cell_type": "code",
   "execution_count": 21,
   "metadata": {
    "ExecuteTime": {
     "end_time": "2021-07-30T10:36:37.686723Z",
     "start_time": "2021-07-30T10:36:37.596Z"
    }
   },
   "outputs": [
    {
     "name": "stdout",
     "output_type": "stream",
     "text": [
      "No. of unique MAGs: 470 \n"
     ]
    },
    {
     "data": {
      "text/html": [
       "<table class=\"dataframe\">\n",
       "<caption>A tidytable: 567 × 43</caption>\n",
       "<thead>\n",
       "\t<tr><th scope=col>genome</th><th scope=col>Fasta</th><th scope=col>Marker.lineage</th><th scope=col>X..genomes</th><th scope=col>X..markers</th><th scope=col>X..marker.sets</th><th scope=col>Completeness</th><th scope=col>Contamination</th><th scope=col>Strain.heterogeneity</th><th scope=col>Genome.size..bp.</th><th scope=col>⋯</th><th scope=col>File</th><th scope=col>Domain</th><th scope=col>Phylum</th><th scope=col>Class</th><th scope=col>Order</th><th scope=col>Family</th><th scope=col>Genus</th><th scope=col>Species</th><th scope=col>spec</th><th scope=col>age_group</th></tr>\n",
       "\t<tr><th scope=col>&lt;chr&gt;</th><th scope=col>&lt;chr&gt;</th><th scope=col>&lt;chr&gt;</th><th scope=col>&lt;int&gt;</th><th scope=col>&lt;int&gt;</th><th scope=col>&lt;int&gt;</th><th scope=col>&lt;dbl&gt;</th><th scope=col>&lt;dbl&gt;</th><th scope=col>&lt;dbl&gt;</th><th scope=col>&lt;int&gt;</th><th scope=col>⋯</th><th scope=col>&lt;chr&gt;</th><th scope=col>&lt;chr&gt;</th><th scope=col>&lt;chr&gt;</th><th scope=col>&lt;chr&gt;</th><th scope=col>&lt;chr&gt;</th><th scope=col>&lt;chr&gt;</th><th scope=col>&lt;chr&gt;</th><th scope=col>&lt;chr&gt;</th><th scope=col>&lt;chr&gt;</th><th scope=col>&lt;chr&gt;</th></tr>\n",
       "</thead>\n",
       "<tbody>\n",
       "\t<tr><td>BEB31__vamb__High_9574      </td><td>/ebio/abt3_projects/HUBIF_metagenomics/data/pipelines/llg/cophyverttrans/evenetal2021/round1/llg_output/drep/drep/dereplicated_genomes/BEB31__vamb__High_9574.fna      </td><td>k__Bacteria (UID2372)</td><td>131</td><td>177</td><td>106</td><td>88.68</td><td>0.00</td><td> 0.00</td><td>1605969</td><td>⋯</td><td>/ebio/abt3_projects/HUBIF_metagenomics/data/pipelines/llg/cophyverttrans/evenetal2021/round1/llg_output/checkM/10/checkm/markers_qa_summary.tsv.85</td><td>d__Bacteria</td><td>p__Firmicutes</td><td>c__Bacilli</td><td>o__Erysipelotrichales</td><td>f__Erysipelatoclostridiaceae</td><td>g__Catenibacterium</td><td>s__Catenibacterium mitsuokai</td><td>catenibacterium mitsuokai</td><td>adult</td></tr>\n",
       "\t<tr><td>BEY19__metabat2__Med_022_sub</td><td>/ebio/abt3_projects/HUBIF_metagenomics/data/pipelines/llg/cophyverttrans/evenetal2021/round1/llg_output/drep/drep/dereplicated_genomes/BEY19__metabat2__Med_022_sub.fna</td><td>k__Bacteria (UID2372)</td><td>131</td><td>177</td><td>106</td><td>72.33</td><td>2.49</td><td>83.33</td><td>1219120</td><td>⋯</td><td>/ebio/abt3_projects/HUBIF_metagenomics/data/pipelines/llg/cophyverttrans/evenetal2021/round1/llg_output/checkM/7/checkm/markers_qa_summary.tsv.488</td><td>d__Bacteria</td><td>p__Firmicutes</td><td>c__Bacilli</td><td>o__Erysipelotrichales</td><td>f__Erysipelatoclostridiaceae</td><td>g__Catenibacterium</td><td>s__Catenibacterium mitsuokai</td><td>catenibacterium mitsuokai</td><td>adult</td></tr>\n",
       "\t<tr><td>⋮</td><td>⋮</td><td>⋮</td><td>⋮</td><td>⋮</td><td>⋮</td><td>⋮</td><td>⋮</td><td>⋮</td><td>⋮</td><td>⋱</td><td>⋮</td><td>⋮</td><td>⋮</td><td>⋮</td><td>⋮</td><td>⋮</td><td>⋮</td><td>⋮</td><td>⋮</td><td>⋮</td></tr>\n",
       "\t<tr><td>BEB33__vamb__Low_142  </td><td>/ebio/abt3_projects/HUBIF_metagenomics/data/pipelines/llg/cophyverttrans/evenetal2021/round1/llg_output/drep/drep/dereplicated_genomes/BEB33__vamb__Low_142.fna  </td><td>o__Bacteroidales (UID2654)</td><td>163</td><td>485</td><td>265</td><td>87.96</td><td>0.88</td><td> 25</td><td>3328635</td><td>⋯</td><td>/ebio/abt3_projects/HUBIF_metagenomics/data/pipelines/llg/cophyverttrans/evenetal2021/round1/llg_output/checkM/2/checkm/markers_qa_summary.tsv.122</td><td>d__Bacteria</td><td>p__Bacteroidota</td><td>c__Bacteroidia</td><td>o__Bacteroidales</td><td>f__Bacteroidaceae</td><td>g__Phocaeicola</td><td>s__Phocaeicola vulgatus</td><td>phocaeicola vulgatus</td><td>infant</td></tr>\n",
       "\t<tr><td>BEY01__vamb__High_2301</td><td>/ebio/abt3_projects/HUBIF_metagenomics/data/pipelines/llg/cophyverttrans/evenetal2021/round1/llg_output/drep/drep/dereplicated_genomes/BEY01__vamb__High_2301.fna</td><td>o__Bacteroidales (UID2654)</td><td>163</td><td>486</td><td>266</td><td>98.62</td><td>0.02</td><td>100</td><td>3964907</td><td>⋯</td><td>/ebio/abt3_projects/HUBIF_metagenomics/data/pipelines/llg/cophyverttrans/evenetal2021/round1/llg_output/checkM/5/checkm/markers_qa_summary.tsv.406</td><td>d__Bacteria</td><td>p__Bacteroidota</td><td>c__Bacteroidia</td><td>o__Bacteroidales</td><td>f__Bacteroidaceae</td><td>g__Phocaeicola</td><td>s__Phocaeicola vulgatus</td><td>phocaeicola vulgatus</td><td>infant</td></tr>\n",
       "</tbody>\n",
       "</table>\n"
      ],
      "text/latex": [
       "A tidytable: 567 × 43\n",
       "\\begin{tabular}{lllllllllllllllllllll}\n",
       " genome & Fasta & Marker.lineage & X..genomes & X..markers & X..marker.sets & Completeness & Contamination & Strain.heterogeneity & Genome.size..bp. & ⋯ & File & Domain & Phylum & Class & Order & Family & Genus & Species & spec & age\\_group\\\\\n",
       " <chr> & <chr> & <chr> & <int> & <int> & <int> & <dbl> & <dbl> & <dbl> & <int> & ⋯ & <chr> & <chr> & <chr> & <chr> & <chr> & <chr> & <chr> & <chr> & <chr> & <chr>\\\\\n",
       "\\hline\n",
       "\t BEB31\\_\\_vamb\\_\\_High\\_9574       & /ebio/abt3\\_projects/HUBIF\\_metagenomics/data/pipelines/llg/cophyverttrans/evenetal2021/round1/llg\\_output/drep/drep/dereplicated\\_genomes/BEB31\\_\\_vamb\\_\\_High\\_9574.fna       & k\\_\\_Bacteria (UID2372) & 131 & 177 & 106 & 88.68 & 0.00 &  0.00 & 1605969 & ⋯ & /ebio/abt3\\_projects/HUBIF\\_metagenomics/data/pipelines/llg/cophyverttrans/evenetal2021/round1/llg\\_output/checkM/10/checkm/markers\\_qa\\_summary.tsv.85 & d\\_\\_Bacteria & p\\_\\_Firmicutes & c\\_\\_Bacilli & o\\_\\_Erysipelotrichales & f\\_\\_Erysipelatoclostridiaceae & g\\_\\_Catenibacterium & s\\_\\_Catenibacterium mitsuokai & catenibacterium mitsuokai & adult\\\\\n",
       "\t BEY19\\_\\_metabat2\\_\\_Med\\_022\\_sub & /ebio/abt3\\_projects/HUBIF\\_metagenomics/data/pipelines/llg/cophyverttrans/evenetal2021/round1/llg\\_output/drep/drep/dereplicated\\_genomes/BEY19\\_\\_metabat2\\_\\_Med\\_022\\_sub.fna & k\\_\\_Bacteria (UID2372) & 131 & 177 & 106 & 72.33 & 2.49 & 83.33 & 1219120 & ⋯ & /ebio/abt3\\_projects/HUBIF\\_metagenomics/data/pipelines/llg/cophyverttrans/evenetal2021/round1/llg\\_output/checkM/7/checkm/markers\\_qa\\_summary.tsv.488 & d\\_\\_Bacteria & p\\_\\_Firmicutes & c\\_\\_Bacilli & o\\_\\_Erysipelotrichales & f\\_\\_Erysipelatoclostridiaceae & g\\_\\_Catenibacterium & s\\_\\_Catenibacterium mitsuokai & catenibacterium mitsuokai & adult\\\\\n",
       "\t ⋮ & ⋮ & ⋮ & ⋮ & ⋮ & ⋮ & ⋮ & ⋮ & ⋮ & ⋮ & ⋱ & ⋮ & ⋮ & ⋮ & ⋮ & ⋮ & ⋮ & ⋮ & ⋮ & ⋮ & ⋮\\\\\n",
       "\t BEB33\\_\\_vamb\\_\\_Low\\_142   & /ebio/abt3\\_projects/HUBIF\\_metagenomics/data/pipelines/llg/cophyverttrans/evenetal2021/round1/llg\\_output/drep/drep/dereplicated\\_genomes/BEB33\\_\\_vamb\\_\\_Low\\_142.fna   & o\\_\\_Bacteroidales (UID2654) & 163 & 485 & 265 & 87.96 & 0.88 &  25 & 3328635 & ⋯ & /ebio/abt3\\_projects/HUBIF\\_metagenomics/data/pipelines/llg/cophyverttrans/evenetal2021/round1/llg\\_output/checkM/2/checkm/markers\\_qa\\_summary.tsv.122 & d\\_\\_Bacteria & p\\_\\_Bacteroidota & c\\_\\_Bacteroidia & o\\_\\_Bacteroidales & f\\_\\_Bacteroidaceae & g\\_\\_Phocaeicola & s\\_\\_Phocaeicola vulgatus & phocaeicola vulgatus & infant\\\\\n",
       "\t BEY01\\_\\_vamb\\_\\_High\\_2301 & /ebio/abt3\\_projects/HUBIF\\_metagenomics/data/pipelines/llg/cophyverttrans/evenetal2021/round1/llg\\_output/drep/drep/dereplicated\\_genomes/BEY01\\_\\_vamb\\_\\_High\\_2301.fna & o\\_\\_Bacteroidales (UID2654) & 163 & 486 & 266 & 98.62 & 0.02 & 100 & 3964907 & ⋯ & /ebio/abt3\\_projects/HUBIF\\_metagenomics/data/pipelines/llg/cophyverttrans/evenetal2021/round1/llg\\_output/checkM/5/checkm/markers\\_qa\\_summary.tsv.406 & d\\_\\_Bacteria & p\\_\\_Bacteroidota & c\\_\\_Bacteroidia & o\\_\\_Bacteroidales & f\\_\\_Bacteroidaceae & g\\_\\_Phocaeicola & s\\_\\_Phocaeicola vulgatus & phocaeicola vulgatus & infant\\\\\n",
       "\\end{tabular}\n"
      ],
      "text/markdown": [
       "\n",
       "A tidytable: 567 × 43\n",
       "\n",
       "| genome &lt;chr&gt; | Fasta &lt;chr&gt; | Marker.lineage &lt;chr&gt; | X..genomes &lt;int&gt; | X..markers &lt;int&gt; | X..marker.sets &lt;int&gt; | Completeness &lt;dbl&gt; | Contamination &lt;dbl&gt; | Strain.heterogeneity &lt;dbl&gt; | Genome.size..bp. &lt;int&gt; | ⋯ ⋯ | File &lt;chr&gt; | Domain &lt;chr&gt; | Phylum &lt;chr&gt; | Class &lt;chr&gt; | Order &lt;chr&gt; | Family &lt;chr&gt; | Genus &lt;chr&gt; | Species &lt;chr&gt; | spec &lt;chr&gt; | age_group &lt;chr&gt; |\n",
       "|---|---|---|---|---|---|---|---|---|---|---|---|---|---|---|---|---|---|---|---|---|\n",
       "| BEB31__vamb__High_9574       | /ebio/abt3_projects/HUBIF_metagenomics/data/pipelines/llg/cophyverttrans/evenetal2021/round1/llg_output/drep/drep/dereplicated_genomes/BEB31__vamb__High_9574.fna       | k__Bacteria (UID2372) | 131 | 177 | 106 | 88.68 | 0.00 |  0.00 | 1605969 | ⋯ | /ebio/abt3_projects/HUBIF_metagenomics/data/pipelines/llg/cophyverttrans/evenetal2021/round1/llg_output/checkM/10/checkm/markers_qa_summary.tsv.85 | d__Bacteria | p__Firmicutes | c__Bacilli | o__Erysipelotrichales | f__Erysipelatoclostridiaceae | g__Catenibacterium | s__Catenibacterium mitsuokai | catenibacterium mitsuokai | adult |\n",
       "| BEY19__metabat2__Med_022_sub | /ebio/abt3_projects/HUBIF_metagenomics/data/pipelines/llg/cophyverttrans/evenetal2021/round1/llg_output/drep/drep/dereplicated_genomes/BEY19__metabat2__Med_022_sub.fna | k__Bacteria (UID2372) | 131 | 177 | 106 | 72.33 | 2.49 | 83.33 | 1219120 | ⋯ | /ebio/abt3_projects/HUBIF_metagenomics/data/pipelines/llg/cophyverttrans/evenetal2021/round1/llg_output/checkM/7/checkm/markers_qa_summary.tsv.488 | d__Bacteria | p__Firmicutes | c__Bacilli | o__Erysipelotrichales | f__Erysipelatoclostridiaceae | g__Catenibacterium | s__Catenibacterium mitsuokai | catenibacterium mitsuokai | adult |\n",
       "| ⋮ | ⋮ | ⋮ | ⋮ | ⋮ | ⋮ | ⋮ | ⋮ | ⋮ | ⋮ | ⋱ | ⋮ | ⋮ | ⋮ | ⋮ | ⋮ | ⋮ | ⋮ | ⋮ | ⋮ | ⋮ |\n",
       "| BEB33__vamb__Low_142   | /ebio/abt3_projects/HUBIF_metagenomics/data/pipelines/llg/cophyverttrans/evenetal2021/round1/llg_output/drep/drep/dereplicated_genomes/BEB33__vamb__Low_142.fna   | o__Bacteroidales (UID2654) | 163 | 485 | 265 | 87.96 | 0.88 |  25 | 3328635 | ⋯ | /ebio/abt3_projects/HUBIF_metagenomics/data/pipelines/llg/cophyverttrans/evenetal2021/round1/llg_output/checkM/2/checkm/markers_qa_summary.tsv.122 | d__Bacteria | p__Bacteroidota | c__Bacteroidia | o__Bacteroidales | f__Bacteroidaceae | g__Phocaeicola | s__Phocaeicola vulgatus | phocaeicola vulgatus | infant |\n",
       "| BEY01__vamb__High_2301 | /ebio/abt3_projects/HUBIF_metagenomics/data/pipelines/llg/cophyverttrans/evenetal2021/round1/llg_output/drep/drep/dereplicated_genomes/BEY01__vamb__High_2301.fna | o__Bacteroidales (UID2654) | 163 | 486 | 266 | 98.62 | 0.02 | 100 | 3964907 | ⋯ | /ebio/abt3_projects/HUBIF_metagenomics/data/pipelines/llg/cophyverttrans/evenetal2021/round1/llg_output/checkM/5/checkm/markers_qa_summary.tsv.406 | d__Bacteria | p__Bacteroidota | c__Bacteroidia | o__Bacteroidales | f__Bacteroidaceae | g__Phocaeicola | s__Phocaeicola vulgatus | phocaeicola vulgatus | infant |\n",
       "\n"
      ],
      "text/plain": [
       "    genome                      \n",
       "1   BEB31__vamb__High_9574      \n",
       "2   BEY19__metabat2__Med_022_sub\n",
       "⋮   ⋮                           \n",
       "566 BEB33__vamb__Low_142        \n",
       "567 BEY01__vamb__High_2301      \n",
       "    Fasta                                                                                                                                                                  \n",
       "1   /ebio/abt3_projects/HUBIF_metagenomics/data/pipelines/llg/cophyverttrans/evenetal2021/round1/llg_output/drep/drep/dereplicated_genomes/BEB31__vamb__High_9574.fna      \n",
       "2   /ebio/abt3_projects/HUBIF_metagenomics/data/pipelines/llg/cophyverttrans/evenetal2021/round1/llg_output/drep/drep/dereplicated_genomes/BEY19__metabat2__Med_022_sub.fna\n",
       "⋮   ⋮                                                                                                                                                                      \n",
       "566 /ebio/abt3_projects/HUBIF_metagenomics/data/pipelines/llg/cophyverttrans/evenetal2021/round1/llg_output/drep/drep/dereplicated_genomes/BEB33__vamb__Low_142.fna        \n",
       "567 /ebio/abt3_projects/HUBIF_metagenomics/data/pipelines/llg/cophyverttrans/evenetal2021/round1/llg_output/drep/drep/dereplicated_genomes/BEY01__vamb__High_2301.fna      \n",
       "    Marker.lineage             X..genomes X..markers X..marker.sets\n",
       "1   k__Bacteria (UID2372)      131        177        106           \n",
       "2   k__Bacteria (UID2372)      131        177        106           \n",
       "⋮   ⋮                          ⋮          ⋮          ⋮             \n",
       "566 o__Bacteroidales (UID2654) 163        485        265           \n",
       "567 o__Bacteroidales (UID2654) 163        486        266           \n",
       "    Completeness Contamination Strain.heterogeneity Genome.size..bp. ⋯\n",
       "1   88.68        0.00           0.00                1605969          ⋯\n",
       "2   72.33        2.49          83.33                1219120          ⋯\n",
       "⋮   ⋮            ⋮             ⋮                    ⋮                ⋱\n",
       "566 87.96        0.88           25                  3328635          ⋯\n",
       "567 98.62        0.02          100                  3964907          ⋯\n",
       "    File                                                                                                                                              \n",
       "1   /ebio/abt3_projects/HUBIF_metagenomics/data/pipelines/llg/cophyverttrans/evenetal2021/round1/llg_output/checkM/10/checkm/markers_qa_summary.tsv.85\n",
       "2   /ebio/abt3_projects/HUBIF_metagenomics/data/pipelines/llg/cophyverttrans/evenetal2021/round1/llg_output/checkM/7/checkm/markers_qa_summary.tsv.488\n",
       "⋮   ⋮                                                                                                                                                 \n",
       "566 /ebio/abt3_projects/HUBIF_metagenomics/data/pipelines/llg/cophyverttrans/evenetal2021/round1/llg_output/checkM/2/checkm/markers_qa_summary.tsv.122\n",
       "567 /ebio/abt3_projects/HUBIF_metagenomics/data/pipelines/llg/cophyverttrans/evenetal2021/round1/llg_output/checkM/5/checkm/markers_qa_summary.tsv.406\n",
       "    Domain      Phylum          Class          Order                \n",
       "1   d__Bacteria p__Firmicutes   c__Bacilli     o__Erysipelotrichales\n",
       "2   d__Bacteria p__Firmicutes   c__Bacilli     o__Erysipelotrichales\n",
       "⋮   ⋮           ⋮               ⋮              ⋮                    \n",
       "566 d__Bacteria p__Bacteroidota c__Bacteroidia o__Bacteroidales     \n",
       "567 d__Bacteria p__Bacteroidota c__Bacteroidia o__Bacteroidales     \n",
       "    Family                       Genus             \n",
       "1   f__Erysipelatoclostridiaceae g__Catenibacterium\n",
       "2   f__Erysipelatoclostridiaceae g__Catenibacterium\n",
       "⋮   ⋮                            ⋮                 \n",
       "566 f__Bacteroidaceae            g__Phocaeicola    \n",
       "567 f__Bacteroidaceae            g__Phocaeicola    \n",
       "    Species                      spec                      age_group\n",
       "1   s__Catenibacterium mitsuokai catenibacterium mitsuokai adult    \n",
       "2   s__Catenibacterium mitsuokai catenibacterium mitsuokai adult    \n",
       "⋮   ⋮                            ⋮                         ⋮        \n",
       "566 s__Phocaeicola vulgatus      phocaeicola vulgatus      infant   \n",
       "567 s__Phocaeicola vulgatus      phocaeicola vulgatus      infant   "
      ]
     },
     "metadata": {},
     "output_type": "display_data"
    }
   ],
   "source": [
    "# filtering to just co-phylo species\n",
    "drep_f = drep %>%\n",
    "    mutate.(spec = stringr::str_to_lower(gsub('^s__', '', Species))) %>%\n",
    "    inner_join.(cophylo_spec %>%\n",
    "                    mutate.(spec = stringr::str_to_lower(Species)) %>%\n",
    "                    distinct.(spec, age_group),\n",
    "               by=c('spec')) %>%\n",
    "    rename.('genome' = Name)\n",
    "drep_f$genome %>% unique_n('MAGs')\n",
    "drep_f"
   ]
  },
  {
   "cell_type": "markdown",
   "metadata": {},
   "source": [
    "### Summary"
   ]
  },
  {
   "cell_type": "code",
   "execution_count": 22,
   "metadata": {
    "ExecuteTime": {
     "end_time": "2021-07-30T10:36:39.620654Z",
     "start_time": "2021-07-30T10:36:39.548Z"
    }
   },
   "outputs": [
    {
     "data": {
      "text/html": [
       "<table class=\"dataframe\">\n",
       "<caption>A matrix: 1 × 8 of type dbl</caption>\n",
       "<thead>\n",
       "\t<tr><th></th><th scope=col>Min.</th><th scope=col>1st Qu.</th><th scope=col>Median</th><th scope=col>Mean</th><th scope=col>3rd Qu.</th><th scope=col>Max.</th><th scope=col>sd</th><th scope=col>sd_err_of_mean</th></tr>\n",
       "</thead>\n",
       "<tbody>\n",
       "\t<tr><th scope=row>Completeness</th><td>51.13</td><td>83.38</td><td>94.74</td><td>88.8727</td><td>97.82</td><td>100</td><td>18.128</td><td>7.401</td></tr>\n",
       "</tbody>\n",
       "</table>\n"
      ],
      "text/latex": [
       "A matrix: 1 × 8 of type dbl\n",
       "\\begin{tabular}{r|llllllll}\n",
       "  & Min. & 1st Qu. & Median & Mean & 3rd Qu. & Max. & sd & sd\\_err\\_of\\_mean\\\\\n",
       "\\hline\n",
       "\tCompleteness & 51.13 & 83.38 & 94.74 & 88.8727 & 97.82 & 100 & 18.128 & 7.401\\\\\n",
       "\\end{tabular}\n"
      ],
      "text/markdown": [
       "\n",
       "A matrix: 1 × 8 of type dbl\n",
       "\n",
       "| <!--/--> | Min. | 1st Qu. | Median | Mean | 3rd Qu. | Max. | sd | sd_err_of_mean |\n",
       "|---|---|---|---|---|---|---|---|---|\n",
       "| Completeness | 51.13 | 83.38 | 94.74 | 88.8727 | 97.82 | 100 | 18.128 | 7.401 |\n",
       "\n"
      ],
      "text/plain": [
       "             Min.  1st Qu. Median Mean    3rd Qu. Max. sd     sd_err_of_mean\n",
       "Completeness 51.13 83.38   94.74  88.8727 97.82   100  18.128 7.401         "
      ]
     },
     "metadata": {},
     "output_type": "display_data"
    },
    {
     "data": {
      "text/html": [
       "<table class=\"dataframe\">\n",
       "<caption>A matrix: 1 × 8 of type dbl</caption>\n",
       "<thead>\n",
       "\t<tr><th></th><th scope=col>Min.</th><th scope=col>1st Qu.</th><th scope=col>Median</th><th scope=col>Mean</th><th scope=col>3rd Qu.</th><th scope=col>Max.</th><th scope=col>sd</th><th scope=col>sd_err_of_mean</th></tr>\n",
       "</thead>\n",
       "<tbody>\n",
       "\t<tr><th scope=row>Contamination</th><td>0</td><td>0.34</td><td>0.92</td><td>1.204586</td><td>1.9</td><td>4.85</td><td>1.755</td><td>0.716</td></tr>\n",
       "</tbody>\n",
       "</table>\n"
      ],
      "text/latex": [
       "A matrix: 1 × 8 of type dbl\n",
       "\\begin{tabular}{r|llllllll}\n",
       "  & Min. & 1st Qu. & Median & Mean & 3rd Qu. & Max. & sd & sd\\_err\\_of\\_mean\\\\\n",
       "\\hline\n",
       "\tContamination & 0 & 0.34 & 0.92 & 1.204586 & 1.9 & 4.85 & 1.755 & 0.716\\\\\n",
       "\\end{tabular}\n"
      ],
      "text/markdown": [
       "\n",
       "A matrix: 1 × 8 of type dbl\n",
       "\n",
       "| <!--/--> | Min. | 1st Qu. | Median | Mean | 3rd Qu. | Max. | sd | sd_err_of_mean |\n",
       "|---|---|---|---|---|---|---|---|---|\n",
       "| Contamination | 0 | 0.34 | 0.92 | 1.204586 | 1.9 | 4.85 | 1.755 | 0.716 |\n",
       "\n"
      ],
      "text/plain": [
       "              Min. 1st Qu. Median Mean     3rd Qu. Max. sd    sd_err_of_mean\n",
       "Contamination 0    0.34    0.92   1.204586 1.9     4.85 1.755 0.716         "
      ]
     },
     "metadata": {},
     "output_type": "display_data"
    },
    {
     "data": {
      "text/html": [
       "<table class=\"dataframe\">\n",
       "<caption>A matrix: 1 × 8 of type dbl</caption>\n",
       "<thead>\n",
       "\t<tr><th></th><th scope=col>Min.</th><th scope=col>1st Qu.</th><th scope=col>Median</th><th scope=col>Mean</th><th scope=col>3rd Qu.</th><th scope=col>Max.</th><th scope=col>sd</th><th scope=col>sd_err_of_mean</th></tr>\n",
       "</thead>\n",
       "<tbody>\n",
       "\t<tr><th scope=row>X..contigs</th><td>17</td><td>152</td><td>319</td><td>349.6332</td><td>495</td><td>1127</td><td>388.395</td><td>158.561</td></tr>\n",
       "</tbody>\n",
       "</table>\n"
      ],
      "text/latex": [
       "A matrix: 1 × 8 of type dbl\n",
       "\\begin{tabular}{r|llllllll}\n",
       "  & Min. & 1st Qu. & Median & Mean & 3rd Qu. & Max. & sd & sd\\_err\\_of\\_mean\\\\\n",
       "\\hline\n",
       "\tX..contigs & 17 & 152 & 319 & 349.6332 & 495 & 1127 & 388.395 & 158.561\\\\\n",
       "\\end{tabular}\n"
      ],
      "text/markdown": [
       "\n",
       "A matrix: 1 × 8 of type dbl\n",
       "\n",
       "| <!--/--> | Min. | 1st Qu. | Median | Mean | 3rd Qu. | Max. | sd | sd_err_of_mean |\n",
       "|---|---|---|---|---|---|---|---|---|\n",
       "| X..contigs | 17 | 152 | 319 | 349.6332 | 495 | 1127 | 388.395 | 158.561 |\n",
       "\n"
      ],
      "text/plain": [
       "           Min. 1st Qu. Median Mean     3rd Qu. Max. sd      sd_err_of_mean\n",
       "X..contigs 17   152     319    349.6332 495     1127 388.395 158.561       "
      ]
     },
     "metadata": {},
     "output_type": "display_data"
    },
    {
     "data": {
      "text/html": [
       "<table class=\"dataframe\">\n",
       "<caption>A matrix: 1 × 8 of type dbl</caption>\n",
       "<thead>\n",
       "\t<tr><th></th><th scope=col>Min.</th><th scope=col>1st Qu.</th><th scope=col>Median</th><th scope=col>Mean</th><th scope=col>3rd Qu.</th><th scope=col>Max.</th><th scope=col>sd</th><th scope=col>sd_err_of_mean</th></tr>\n",
       "</thead>\n",
       "<tbody>\n",
       "\t<tr><th scope=row>N50..contigs.</th><td>2312</td><td>5238.5</td><td>13935</td><td>28058.62</td><td>36619</td><td>334230</td><td>130084.5</td><td>53106.76</td></tr>\n",
       "</tbody>\n",
       "</table>\n"
      ],
      "text/latex": [
       "A matrix: 1 × 8 of type dbl\n",
       "\\begin{tabular}{r|llllllll}\n",
       "  & Min. & 1st Qu. & Median & Mean & 3rd Qu. & Max. & sd & sd\\_err\\_of\\_mean\\\\\n",
       "\\hline\n",
       "\tN50..contigs. & 2312 & 5238.5 & 13935 & 28058.62 & 36619 & 334230 & 130084.5 & 53106.76\\\\\n",
       "\\end{tabular}\n"
      ],
      "text/markdown": [
       "\n",
       "A matrix: 1 × 8 of type dbl\n",
       "\n",
       "| <!--/--> | Min. | 1st Qu. | Median | Mean | 3rd Qu. | Max. | sd | sd_err_of_mean |\n",
       "|---|---|---|---|---|---|---|---|---|\n",
       "| N50..contigs. | 2312 | 5238.5 | 13935 | 28058.62 | 36619 | 334230 | 130084.5 | 53106.76 |\n",
       "\n"
      ],
      "text/plain": [
       "              Min. 1st Qu. Median Mean     3rd Qu. Max.   sd      \n",
       "N50..contigs. 2312 5238.5  13935  28058.62 36619   334230 130084.5\n",
       "              sd_err_of_mean\n",
       "N50..contigs. 53106.76      "
      ]
     },
     "metadata": {},
     "output_type": "display_data"
    }
   ],
   "source": [
    "summary_x(drep_f$Completeness)\n",
    "summary_x(drep_f$Contamination)\n",
    "summary_x(drep_f$X..contigs)\n",
    "summary_x(drep_f$N50..contigs.)"
   ]
  },
  {
   "cell_type": "code",
   "execution_count": 23,
   "metadata": {
    "ExecuteTime": {
     "end_time": "2021-07-30T10:36:40.249485Z",
     "start_time": "2021-07-30T10:36:40.196Z"
    }
   },
   "outputs": [
    {
     "data": {
      "text/html": [
       "<table class=\"dataframe\">\n",
       "<caption>A tidytable: 4 × 2</caption>\n",
       "<thead>\n",
       "\t<tr><th scope=col>taxonomy</th><th scope=col>n</th></tr>\n",
       "\t<tr><th scope=col>&lt;chr&gt;</th><th scope=col>&lt;int&gt;</th></tr>\n",
       "</thead>\n",
       "<tbody>\n",
       "\t<tr><td>p__Firmicutes_A;c__Clostridia       </td><td>278</td></tr>\n",
       "\t<tr><td>p__Bacteroidota;c__Bacteroidia      </td><td>244</td></tr>\n",
       "\t<tr><td>p__Actinobacteriota;c__Actinomycetia</td><td> 29</td></tr>\n",
       "\t<tr><td>p__Firmicutes;c__Bacilli            </td><td> 16</td></tr>\n",
       "</tbody>\n",
       "</table>\n"
      ],
      "text/latex": [
       "A tidytable: 4 × 2\n",
       "\\begin{tabular}{ll}\n",
       " taxonomy & n\\\\\n",
       " <chr> & <int>\\\\\n",
       "\\hline\n",
       "\t p\\_\\_Firmicutes\\_A;c\\_\\_Clostridia        & 278\\\\\n",
       "\t p\\_\\_Bacteroidota;c\\_\\_Bacteroidia       & 244\\\\\n",
       "\t p\\_\\_Actinobacteriota;c\\_\\_Actinomycetia &  29\\\\\n",
       "\t p\\_\\_Firmicutes;c\\_\\_Bacilli             &  16\\\\\n",
       "\\end{tabular}\n"
      ],
      "text/markdown": [
       "\n",
       "A tidytable: 4 × 2\n",
       "\n",
       "| taxonomy &lt;chr&gt; | n &lt;int&gt; |\n",
       "|---|---|\n",
       "| p__Firmicutes_A;c__Clostridia        | 278 |\n",
       "| p__Bacteroidota;c__Bacteroidia       | 244 |\n",
       "| p__Actinobacteriota;c__Actinomycetia |  29 |\n",
       "| p__Firmicutes;c__Bacilli             |  16 |\n",
       "\n"
      ],
      "text/plain": [
       "  taxonomy                             n  \n",
       "1 p__Firmicutes_A;c__Clostridia        278\n",
       "2 p__Bacteroidota;c__Bacteroidia       244\n",
       "3 p__Actinobacteriota;c__Actinomycetia  29\n",
       "4 p__Firmicutes;c__Bacilli              16"
      ]
     },
     "metadata": {},
     "output_type": "display_data"
    }
   ],
   "source": [
    "# by class\n",
    "df.dims(50)\n",
    "drep_f %>%\n",
    "    mutate.(taxonomy = paste(Phylum, Class, sep=';')) %>%\n",
    "    summarize.(n = n.(),\n",
    "               .by=c(taxonomy)) %>%\n",
    "    arrange.(-n)\n",
    "df.dims()"
   ]
  },
  {
   "cell_type": "code",
   "execution_count": 24,
   "metadata": {
    "ExecuteTime": {
     "end_time": "2021-07-30T10:36:40.935454Z",
     "start_time": "2021-07-30T10:36:40.821Z"
    }
   },
   "outputs": [
    {
     "data": {
      "text/html": [
       "<table class=\"dataframe\">\n",
       "<caption>A tidytable: 43 × 8</caption>\n",
       "<thead>\n",
       "\t<tr><th scope=col>Phylum</th><th scope=col>Class</th><th scope=col>Order</th><th scope=col>Family</th><th scope=col>Genus</th><th scope=col>Species</th><th scope=col>age_group</th><th scope=col>n</th></tr>\n",
       "\t<tr><th scope=col>&lt;chr&gt;</th><th scope=col>&lt;chr&gt;</th><th scope=col>&lt;chr&gt;</th><th scope=col>&lt;chr&gt;</th><th scope=col>&lt;chr&gt;</th><th scope=col>&lt;chr&gt;</th><th scope=col>&lt;chr&gt;</th><th scope=col>&lt;int&gt;</th></tr>\n",
       "</thead>\n",
       "<tbody>\n",
       "\t<tr><td>p__Firmicutes_A    </td><td>c__Clostridia   </td><td>o__Lachnospirales    </td><td>f__Lachnospiraceae          </td><td>g__Agathobacter       </td><td>s__Agathobacter rectalis          </td><td>adult </td><td>53</td></tr>\n",
       "\t<tr><td>p__Firmicutes_A    </td><td>c__Clostridia   </td><td>o__Oscillospirales   </td><td>f__Acutalibacteraceae       </td><td>g__CAG-180            </td><td>s__CAG-180 sp000432435            </td><td>adult </td><td>48</td></tr>\n",
       "\t<tr><td>p__Firmicutes_A    </td><td>c__Clostridia   </td><td>o__Lachnospirales    </td><td>f__Lachnospiraceae          </td><td>g__Agathobacter       </td><td>s__Agathobacter faecis            </td><td>adult </td><td>30</td></tr>\n",
       "\t<tr><td>p__Bacteroidota    </td><td>c__Bacteroidia  </td><td>o__Bacteroidales     </td><td>f__Bacteroidaceae           </td><td>g__Phocaeicola        </td><td>s__Phocaeicola vulgatus           </td><td>adult </td><td>27</td></tr>\n",
       "\t<tr><td>p__Firmicutes_A    </td><td>c__Clostridia   </td><td>o__Oscillospirales   </td><td>f__Ruminococcaceae          </td><td>g__Ruminiclostridium_E</td><td>s__Ruminiclostridium_E siraeum    </td><td>adult </td><td>21</td></tr>\n",
       "\t<tr><td>p__Bacteroidota    </td><td>c__Bacteroidia  </td><td>o__Bacteroidales     </td><td>f__Marinifilaceae           </td><td>g__Odoribacter        </td><td>s__Odoribacter splanchnicus       </td><td>adult </td><td>21</td></tr>\n",
       "\t<tr><td>p__Firmicutes_A    </td><td>c__Clostridia   </td><td>o__Lachnospirales    </td><td>f__Lachnospiraceae          </td><td>g__Lachnospira        </td><td>s__Lachnospira eligens_B          </td><td>adult </td><td>20</td></tr>\n",
       "\t<tr><td>p__Bacteroidota    </td><td>c__Bacteroidia  </td><td>o__Bacteroidales     </td><td>f__Rikenellaceae            </td><td>g__Alistipes          </td><td>s__Alistipes putredinis           </td><td>adult </td><td>19</td></tr>\n",
       "\t<tr><td>p__Bacteroidota    </td><td>c__Bacteroidia  </td><td>o__Bacteroidales     </td><td>f__Bacteroidaceae           </td><td>g__Bacteroides        </td><td>s__Bacteroides uniformis          </td><td>adult </td><td>19</td></tr>\n",
       "\t<tr><td>p__Firmicutes_A    </td><td>c__Clostridia   </td><td>o__Oscillospirales   </td><td>f__Acutalibacteraceae       </td><td>g__Eubacterium_R      </td><td>s__Eubacterium_R sp000436835      </td><td>adult </td><td>18</td></tr>\n",
       "\t<tr><td>p__Firmicutes_A    </td><td>c__Clostridia   </td><td>o__Oscillospirales   </td><td>f__Ruminococcaceae          </td><td>g__Ruminococcus_D     </td><td>s__Ruminococcus_D bicirculans     </td><td>adult </td><td>17</td></tr>\n",
       "\t<tr><td>p__Actinobacteriota</td><td>c__Actinomycetia</td><td>o__Actinomycetales   </td><td>f__Bifidobacteriaceae       </td><td>g__Bifidobacterium    </td><td>s__Bifidobacterium adolescentis   </td><td>adult </td><td>16</td></tr>\n",
       "\t<tr><td>p__Bacteroidota    </td><td>c__Bacteroidia  </td><td>o__Bacteroidales     </td><td>f__Bacteroidaceae           </td><td>g__Phocaeicola        </td><td>s__Phocaeicola dorei              </td><td>adult </td><td>15</td></tr>\n",
       "\t<tr><td>p__Firmicutes      </td><td>c__Bacilli      </td><td>o__Erysipelotrichales</td><td>f__Erysipelotrichaceae      </td><td>g__Holdemanella       </td><td>s__Holdemanella biformis          </td><td>adult </td><td>12</td></tr>\n",
       "\t<tr><td>p__Firmicutes_A    </td><td>c__Clostridia   </td><td>o__Lachnospirales    </td><td>f__Lachnospiraceae          </td><td>g__Lachnospira        </td><td>s__Lachnospira rogosae            </td><td>adult </td><td>12</td></tr>\n",
       "\t<tr><td>p__Bacteroidota    </td><td>c__Bacteroidia  </td><td>o__Bacteroidales     </td><td>f__Tannerellaceae           </td><td>g__Parabacteroides    </td><td>s__Parabacteroides distasonis     </td><td>adult </td><td>12</td></tr>\n",
       "\t<tr><td>p__Bacteroidota    </td><td>c__Bacteroidia  </td><td>o__Bacteroidales     </td><td>f__Bacteroidaceae           </td><td>g__Prevotella         </td><td>s__Prevotella copri               </td><td>adult </td><td>11</td></tr>\n",
       "\t<tr><td>p__Firmicutes_A    </td><td>c__Clostridia   </td><td>o__Lachnospirales    </td><td>f__Lachnospiraceae          </td><td>g__Fusicatenibacter   </td><td>s__Fusicatenibacter saccharivorans</td><td>adult </td><td>11</td></tr>\n",
       "\t<tr><td>p__Bacteroidota    </td><td>c__Bacteroidia  </td><td>o__Bacteroidales     </td><td>f__Barnesiellaceae          </td><td>g__Barnesiella        </td><td>s__Barnesiella intestinihominis   </td><td>adult </td><td>11</td></tr>\n",
       "\t<tr><td>p__Firmicutes_A    </td><td>c__Clostridia   </td><td>o__Lachnospirales    </td><td>f__Lachnospiraceae          </td><td>g__Dorea              </td><td>s__Dorea formicigenerans          </td><td>adult </td><td> 9</td></tr>\n",
       "\t<tr><td>p__Firmicutes_A    </td><td>c__Clostridia   </td><td>o__Lachnospirales    </td><td>f__Lachnospiraceae          </td><td>g__Bariatricus        </td><td>s__Bariatricus comes              </td><td>adult </td><td> 8</td></tr>\n",
       "\t<tr><td>p__Firmicutes_A    </td><td>c__Clostridia   </td><td>o__Oscillospirales   </td><td>f__Oscillospiraceae         </td><td>g__CAG-83             </td><td>s__CAG-83 sp000435975             </td><td>adult </td><td> 7</td></tr>\n",
       "\t<tr><td>p__Firmicutes_A    </td><td>c__Clostridia   </td><td>o__Lachnospirales    </td><td>f__Lachnospiraceae          </td><td>g__Anaerostipes       </td><td>s__Anaerostipes hadrus            </td><td>adult </td><td> 7</td></tr>\n",
       "\t<tr><td>p__Firmicutes_A    </td><td>c__Clostridia   </td><td>o__Lachnospirales    </td><td>f__Lachnospiraceae          </td><td>g__Mediterraneibacter </td><td>s__Mediterraneibacter torques     </td><td>adult </td><td> 7</td></tr>\n",
       "\t<tr><td>p__Bacteroidota    </td><td>c__Bacteroidia  </td><td>o__Bacteroidales     </td><td>f__Tannerellaceae           </td><td>g__Parabacteroides    </td><td>s__Parabacteroides merdae         </td><td>adult </td><td> 7</td></tr>\n",
       "\t<tr><td>p__Actinobacteriota</td><td>c__Actinomycetia</td><td>o__Actinomycetales   </td><td>f__Bifidobacteriaceae       </td><td>g__Bifidobacterium    </td><td>s__Bifidobacterium longum         </td><td>adult </td><td> 6</td></tr>\n",
       "\t<tr><td>p__Firmicutes_A    </td><td>c__Clostridia   </td><td>o__Lachnospirales    </td><td>f__Lachnospiraceae          </td><td>g__Roseburia          </td><td>s__Roseburia intestinalis         </td><td>adult </td><td> 5</td></tr>\n",
       "\t<tr><td>p__Firmicutes      </td><td>c__Bacilli      </td><td>o__Erysipelotrichales</td><td>f__Erysipelatoclostridiaceae</td><td>g__Catenibacterium    </td><td>s__Catenibacterium mitsuokai      </td><td>adult </td><td> 4</td></tr>\n",
       "\t<tr><td>p__Bacteroidota    </td><td>c__Bacteroidia  </td><td>o__Bacteroidales     </td><td>f__Bacteroidaceae           </td><td>g__Bacteroides        </td><td>s__Bacteroides caccae             </td><td>adult </td><td> 4</td></tr>\n",
       "\t<tr><td>p__Bacteroidota    </td><td>c__Bacteroidia  </td><td>o__Bacteroidales     </td><td>f__Bacteroidaceae           </td><td>g__Bacteroides        </td><td>s__Bacteroides thetaiotaomicron   </td><td>adult </td><td> 4</td></tr>\n",
       "\t<tr><td>p__Bacteroidota    </td><td>c__Bacteroidia  </td><td>o__Bacteroidales     </td><td>f__Bacteroidaceae           </td><td>g__Bacteroides        </td><td>s__Bacteroides ovatus             </td><td>adult </td><td> 2</td></tr>\n",
       "\t<tr><td>p__Bacteroidota    </td><td>c__Bacteroidia  </td><td>o__Bacteroidales     </td><td>f__Bacteroidaceae           </td><td>g__Bacteroides        </td><td>s__Bacteroides xylanisolvens      </td><td>adult </td><td> 1</td></tr>\n",
       "\t<tr><td>p__Bacteroidota    </td><td>c__Bacteroidia  </td><td>o__Bacteroidales     </td><td>f__Bacteroidaceae           </td><td>g__Phocaeicola        </td><td>s__Phocaeicola vulgatus           </td><td>infant</td><td>27</td></tr>\n",
       "\t<tr><td>p__Bacteroidota    </td><td>c__Bacteroidia  </td><td>o__Bacteroidales     </td><td>f__Bacteroidaceae           </td><td>g__Bacteroides        </td><td>s__Bacteroides uniformis          </td><td>infant</td><td>19</td></tr>\n",
       "\t<tr><td>p__Bacteroidota    </td><td>c__Bacteroidia  </td><td>o__Bacteroidales     </td><td>f__Bacteroidaceae           </td><td>g__Phocaeicola        </td><td>s__Phocaeicola dorei              </td><td>infant</td><td>15</td></tr>\n",
       "\t<tr><td>p__Bacteroidota    </td><td>c__Bacteroidia  </td><td>o__Bacteroidales     </td><td>f__Tannerellaceae           </td><td>g__Parabacteroides    </td><td>s__Parabacteroides distasonis     </td><td>infant</td><td>12</td></tr>\n",
       "\t<tr><td>p__Bacteroidota    </td><td>c__Bacteroidia  </td><td>o__Bacteroidales     </td><td>f__Bacteroidaceae           </td><td>g__Prevotella         </td><td>s__Prevotella copri               </td><td>infant</td><td>11</td></tr>\n",
       "\t<tr><td>p__Actinobacteriota</td><td>c__Actinomycetia</td><td>o__Actinomycetales   </td><td>f__Bifidobacteriaceae       </td><td>g__Bifidobacterium    </td><td>s__Bifidobacterium longum         </td><td>infant</td><td> 6</td></tr>\n",
       "\t<tr><td>p__Firmicutes_A    </td><td>c__Clostridia   </td><td>o__Lachnospirales    </td><td>f__Lachnospiraceae          </td><td>g__Ruminococcus_B     </td><td>s__Ruminococcus_B gnavus          </td><td>infant</td><td> 5</td></tr>\n",
       "\t<tr><td>p__Bacteroidota    </td><td>c__Bacteroidia  </td><td>o__Bacteroidales     </td><td>f__Bacteroidaceae           </td><td>g__Bacteroides        </td><td>s__Bacteroides thetaiotaomicron   </td><td>infant</td><td> 4</td></tr>\n",
       "\t<tr><td>p__Bacteroidota    </td><td>c__Bacteroidia  </td><td>o__Bacteroidales     </td><td>f__Bacteroidaceae           </td><td>g__Bacteroides        </td><td>s__Bacteroides ovatus             </td><td>infant</td><td> 2</td></tr>\n",
       "\t<tr><td>p__Actinobacteriota</td><td>c__Actinomycetia</td><td>o__Actinomycetales   </td><td>f__Bifidobacteriaceae       </td><td>g__Bifidobacterium    </td><td>s__Bifidobacterium bifidum        </td><td>infant</td><td> 1</td></tr>\n",
       "\t<tr><td>p__Bacteroidota    </td><td>c__Bacteroidia  </td><td>o__Bacteroidales     </td><td>f__Bacteroidaceae           </td><td>g__Bacteroides        </td><td>s__Bacteroides xylanisolvens      </td><td>infant</td><td> 1</td></tr>\n",
       "</tbody>\n",
       "</table>\n"
      ],
      "text/latex": [
       "A tidytable: 43 × 8\n",
       "\\begin{tabular}{llllllll}\n",
       " Phylum & Class & Order & Family & Genus & Species & age\\_group & n\\\\\n",
       " <chr> & <chr> & <chr> & <chr> & <chr> & <chr> & <chr> & <int>\\\\\n",
       "\\hline\n",
       "\t p\\_\\_Firmicutes\\_A     & c\\_\\_Clostridia    & o\\_\\_Lachnospirales     & f\\_\\_Lachnospiraceae           & g\\_\\_Agathobacter        & s\\_\\_Agathobacter rectalis           & adult  & 53\\\\\n",
       "\t p\\_\\_Firmicutes\\_A     & c\\_\\_Clostridia    & o\\_\\_Oscillospirales    & f\\_\\_Acutalibacteraceae        & g\\_\\_CAG-180             & s\\_\\_CAG-180 sp000432435             & adult  & 48\\\\\n",
       "\t p\\_\\_Firmicutes\\_A     & c\\_\\_Clostridia    & o\\_\\_Lachnospirales     & f\\_\\_Lachnospiraceae           & g\\_\\_Agathobacter        & s\\_\\_Agathobacter faecis             & adult  & 30\\\\\n",
       "\t p\\_\\_Bacteroidota     & c\\_\\_Bacteroidia   & o\\_\\_Bacteroidales      & f\\_\\_Bacteroidaceae            & g\\_\\_Phocaeicola         & s\\_\\_Phocaeicola vulgatus            & adult  & 27\\\\\n",
       "\t p\\_\\_Firmicutes\\_A     & c\\_\\_Clostridia    & o\\_\\_Oscillospirales    & f\\_\\_Ruminococcaceae           & g\\_\\_Ruminiclostridium\\_E & s\\_\\_Ruminiclostridium\\_E siraeum     & adult  & 21\\\\\n",
       "\t p\\_\\_Bacteroidota     & c\\_\\_Bacteroidia   & o\\_\\_Bacteroidales      & f\\_\\_Marinifilaceae            & g\\_\\_Odoribacter         & s\\_\\_Odoribacter splanchnicus        & adult  & 21\\\\\n",
       "\t p\\_\\_Firmicutes\\_A     & c\\_\\_Clostridia    & o\\_\\_Lachnospirales     & f\\_\\_Lachnospiraceae           & g\\_\\_Lachnospira         & s\\_\\_Lachnospira eligens\\_B           & adult  & 20\\\\\n",
       "\t p\\_\\_Bacteroidota     & c\\_\\_Bacteroidia   & o\\_\\_Bacteroidales      & f\\_\\_Rikenellaceae             & g\\_\\_Alistipes           & s\\_\\_Alistipes putredinis            & adult  & 19\\\\\n",
       "\t p\\_\\_Bacteroidota     & c\\_\\_Bacteroidia   & o\\_\\_Bacteroidales      & f\\_\\_Bacteroidaceae            & g\\_\\_Bacteroides         & s\\_\\_Bacteroides uniformis           & adult  & 19\\\\\n",
       "\t p\\_\\_Firmicutes\\_A     & c\\_\\_Clostridia    & o\\_\\_Oscillospirales    & f\\_\\_Acutalibacteraceae        & g\\_\\_Eubacterium\\_R       & s\\_\\_Eubacterium\\_R sp000436835       & adult  & 18\\\\\n",
       "\t p\\_\\_Firmicutes\\_A     & c\\_\\_Clostridia    & o\\_\\_Oscillospirales    & f\\_\\_Ruminococcaceae           & g\\_\\_Ruminococcus\\_D      & s\\_\\_Ruminococcus\\_D bicirculans      & adult  & 17\\\\\n",
       "\t p\\_\\_Actinobacteriota & c\\_\\_Actinomycetia & o\\_\\_Actinomycetales    & f\\_\\_Bifidobacteriaceae        & g\\_\\_Bifidobacterium     & s\\_\\_Bifidobacterium adolescentis    & adult  & 16\\\\\n",
       "\t p\\_\\_Bacteroidota     & c\\_\\_Bacteroidia   & o\\_\\_Bacteroidales      & f\\_\\_Bacteroidaceae            & g\\_\\_Phocaeicola         & s\\_\\_Phocaeicola dorei               & adult  & 15\\\\\n",
       "\t p\\_\\_Firmicutes       & c\\_\\_Bacilli       & o\\_\\_Erysipelotrichales & f\\_\\_Erysipelotrichaceae       & g\\_\\_Holdemanella        & s\\_\\_Holdemanella biformis           & adult  & 12\\\\\n",
       "\t p\\_\\_Firmicutes\\_A     & c\\_\\_Clostridia    & o\\_\\_Lachnospirales     & f\\_\\_Lachnospiraceae           & g\\_\\_Lachnospira         & s\\_\\_Lachnospira rogosae             & adult  & 12\\\\\n",
       "\t p\\_\\_Bacteroidota     & c\\_\\_Bacteroidia   & o\\_\\_Bacteroidales      & f\\_\\_Tannerellaceae            & g\\_\\_Parabacteroides     & s\\_\\_Parabacteroides distasonis      & adult  & 12\\\\\n",
       "\t p\\_\\_Bacteroidota     & c\\_\\_Bacteroidia   & o\\_\\_Bacteroidales      & f\\_\\_Bacteroidaceae            & g\\_\\_Prevotella          & s\\_\\_Prevotella copri                & adult  & 11\\\\\n",
       "\t p\\_\\_Firmicutes\\_A     & c\\_\\_Clostridia    & o\\_\\_Lachnospirales     & f\\_\\_Lachnospiraceae           & g\\_\\_Fusicatenibacter    & s\\_\\_Fusicatenibacter saccharivorans & adult  & 11\\\\\n",
       "\t p\\_\\_Bacteroidota     & c\\_\\_Bacteroidia   & o\\_\\_Bacteroidales      & f\\_\\_Barnesiellaceae           & g\\_\\_Barnesiella         & s\\_\\_Barnesiella intestinihominis    & adult  & 11\\\\\n",
       "\t p\\_\\_Firmicutes\\_A     & c\\_\\_Clostridia    & o\\_\\_Lachnospirales     & f\\_\\_Lachnospiraceae           & g\\_\\_Dorea               & s\\_\\_Dorea formicigenerans           & adult  &  9\\\\\n",
       "\t p\\_\\_Firmicutes\\_A     & c\\_\\_Clostridia    & o\\_\\_Lachnospirales     & f\\_\\_Lachnospiraceae           & g\\_\\_Bariatricus         & s\\_\\_Bariatricus comes               & adult  &  8\\\\\n",
       "\t p\\_\\_Firmicutes\\_A     & c\\_\\_Clostridia    & o\\_\\_Oscillospirales    & f\\_\\_Oscillospiraceae          & g\\_\\_CAG-83              & s\\_\\_CAG-83 sp000435975              & adult  &  7\\\\\n",
       "\t p\\_\\_Firmicutes\\_A     & c\\_\\_Clostridia    & o\\_\\_Lachnospirales     & f\\_\\_Lachnospiraceae           & g\\_\\_Anaerostipes        & s\\_\\_Anaerostipes hadrus             & adult  &  7\\\\\n",
       "\t p\\_\\_Firmicutes\\_A     & c\\_\\_Clostridia    & o\\_\\_Lachnospirales     & f\\_\\_Lachnospiraceae           & g\\_\\_Mediterraneibacter  & s\\_\\_Mediterraneibacter torques      & adult  &  7\\\\\n",
       "\t p\\_\\_Bacteroidota     & c\\_\\_Bacteroidia   & o\\_\\_Bacteroidales      & f\\_\\_Tannerellaceae            & g\\_\\_Parabacteroides     & s\\_\\_Parabacteroides merdae          & adult  &  7\\\\\n",
       "\t p\\_\\_Actinobacteriota & c\\_\\_Actinomycetia & o\\_\\_Actinomycetales    & f\\_\\_Bifidobacteriaceae        & g\\_\\_Bifidobacterium     & s\\_\\_Bifidobacterium longum          & adult  &  6\\\\\n",
       "\t p\\_\\_Firmicutes\\_A     & c\\_\\_Clostridia    & o\\_\\_Lachnospirales     & f\\_\\_Lachnospiraceae           & g\\_\\_Roseburia           & s\\_\\_Roseburia intestinalis          & adult  &  5\\\\\n",
       "\t p\\_\\_Firmicutes       & c\\_\\_Bacilli       & o\\_\\_Erysipelotrichales & f\\_\\_Erysipelatoclostridiaceae & g\\_\\_Catenibacterium     & s\\_\\_Catenibacterium mitsuokai       & adult  &  4\\\\\n",
       "\t p\\_\\_Bacteroidota     & c\\_\\_Bacteroidia   & o\\_\\_Bacteroidales      & f\\_\\_Bacteroidaceae            & g\\_\\_Bacteroides         & s\\_\\_Bacteroides caccae              & adult  &  4\\\\\n",
       "\t p\\_\\_Bacteroidota     & c\\_\\_Bacteroidia   & o\\_\\_Bacteroidales      & f\\_\\_Bacteroidaceae            & g\\_\\_Bacteroides         & s\\_\\_Bacteroides thetaiotaomicron    & adult  &  4\\\\\n",
       "\t p\\_\\_Bacteroidota     & c\\_\\_Bacteroidia   & o\\_\\_Bacteroidales      & f\\_\\_Bacteroidaceae            & g\\_\\_Bacteroides         & s\\_\\_Bacteroides ovatus              & adult  &  2\\\\\n",
       "\t p\\_\\_Bacteroidota     & c\\_\\_Bacteroidia   & o\\_\\_Bacteroidales      & f\\_\\_Bacteroidaceae            & g\\_\\_Bacteroides         & s\\_\\_Bacteroides xylanisolvens       & adult  &  1\\\\\n",
       "\t p\\_\\_Bacteroidota     & c\\_\\_Bacteroidia   & o\\_\\_Bacteroidales      & f\\_\\_Bacteroidaceae            & g\\_\\_Phocaeicola         & s\\_\\_Phocaeicola vulgatus            & infant & 27\\\\\n",
       "\t p\\_\\_Bacteroidota     & c\\_\\_Bacteroidia   & o\\_\\_Bacteroidales      & f\\_\\_Bacteroidaceae            & g\\_\\_Bacteroides         & s\\_\\_Bacteroides uniformis           & infant & 19\\\\\n",
       "\t p\\_\\_Bacteroidota     & c\\_\\_Bacteroidia   & o\\_\\_Bacteroidales      & f\\_\\_Bacteroidaceae            & g\\_\\_Phocaeicola         & s\\_\\_Phocaeicola dorei               & infant & 15\\\\\n",
       "\t p\\_\\_Bacteroidota     & c\\_\\_Bacteroidia   & o\\_\\_Bacteroidales      & f\\_\\_Tannerellaceae            & g\\_\\_Parabacteroides     & s\\_\\_Parabacteroides distasonis      & infant & 12\\\\\n",
       "\t p\\_\\_Bacteroidota     & c\\_\\_Bacteroidia   & o\\_\\_Bacteroidales      & f\\_\\_Bacteroidaceae            & g\\_\\_Prevotella          & s\\_\\_Prevotella copri                & infant & 11\\\\\n",
       "\t p\\_\\_Actinobacteriota & c\\_\\_Actinomycetia & o\\_\\_Actinomycetales    & f\\_\\_Bifidobacteriaceae        & g\\_\\_Bifidobacterium     & s\\_\\_Bifidobacterium longum          & infant &  6\\\\\n",
       "\t p\\_\\_Firmicutes\\_A     & c\\_\\_Clostridia    & o\\_\\_Lachnospirales     & f\\_\\_Lachnospiraceae           & g\\_\\_Ruminococcus\\_B      & s\\_\\_Ruminococcus\\_B gnavus           & infant &  5\\\\\n",
       "\t p\\_\\_Bacteroidota     & c\\_\\_Bacteroidia   & o\\_\\_Bacteroidales      & f\\_\\_Bacteroidaceae            & g\\_\\_Bacteroides         & s\\_\\_Bacteroides thetaiotaomicron    & infant &  4\\\\\n",
       "\t p\\_\\_Bacteroidota     & c\\_\\_Bacteroidia   & o\\_\\_Bacteroidales      & f\\_\\_Bacteroidaceae            & g\\_\\_Bacteroides         & s\\_\\_Bacteroides ovatus              & infant &  2\\\\\n",
       "\t p\\_\\_Actinobacteriota & c\\_\\_Actinomycetia & o\\_\\_Actinomycetales    & f\\_\\_Bifidobacteriaceae        & g\\_\\_Bifidobacterium     & s\\_\\_Bifidobacterium bifidum         & infant &  1\\\\\n",
       "\t p\\_\\_Bacteroidota     & c\\_\\_Bacteroidia   & o\\_\\_Bacteroidales      & f\\_\\_Bacteroidaceae            & g\\_\\_Bacteroides         & s\\_\\_Bacteroides xylanisolvens       & infant &  1\\\\\n",
       "\\end{tabular}\n"
      ],
      "text/markdown": [
       "\n",
       "A tidytable: 43 × 8\n",
       "\n",
       "| Phylum &lt;chr&gt; | Class &lt;chr&gt; | Order &lt;chr&gt; | Family &lt;chr&gt; | Genus &lt;chr&gt; | Species &lt;chr&gt; | age_group &lt;chr&gt; | n &lt;int&gt; |\n",
       "|---|---|---|---|---|---|---|---|\n",
       "| p__Firmicutes_A     | c__Clostridia    | o__Lachnospirales     | f__Lachnospiraceae           | g__Agathobacter        | s__Agathobacter rectalis           | adult  | 53 |\n",
       "| p__Firmicutes_A     | c__Clostridia    | o__Oscillospirales    | f__Acutalibacteraceae        | g__CAG-180             | s__CAG-180 sp000432435             | adult  | 48 |\n",
       "| p__Firmicutes_A     | c__Clostridia    | o__Lachnospirales     | f__Lachnospiraceae           | g__Agathobacter        | s__Agathobacter faecis             | adult  | 30 |\n",
       "| p__Bacteroidota     | c__Bacteroidia   | o__Bacteroidales      | f__Bacteroidaceae            | g__Phocaeicola         | s__Phocaeicola vulgatus            | adult  | 27 |\n",
       "| p__Firmicutes_A     | c__Clostridia    | o__Oscillospirales    | f__Ruminococcaceae           | g__Ruminiclostridium_E | s__Ruminiclostridium_E siraeum     | adult  | 21 |\n",
       "| p__Bacteroidota     | c__Bacteroidia   | o__Bacteroidales      | f__Marinifilaceae            | g__Odoribacter         | s__Odoribacter splanchnicus        | adult  | 21 |\n",
       "| p__Firmicutes_A     | c__Clostridia    | o__Lachnospirales     | f__Lachnospiraceae           | g__Lachnospira         | s__Lachnospira eligens_B           | adult  | 20 |\n",
       "| p__Bacteroidota     | c__Bacteroidia   | o__Bacteroidales      | f__Rikenellaceae             | g__Alistipes           | s__Alistipes putredinis            | adult  | 19 |\n",
       "| p__Bacteroidota     | c__Bacteroidia   | o__Bacteroidales      | f__Bacteroidaceae            | g__Bacteroides         | s__Bacteroides uniformis           | adult  | 19 |\n",
       "| p__Firmicutes_A     | c__Clostridia    | o__Oscillospirales    | f__Acutalibacteraceae        | g__Eubacterium_R       | s__Eubacterium_R sp000436835       | adult  | 18 |\n",
       "| p__Firmicutes_A     | c__Clostridia    | o__Oscillospirales    | f__Ruminococcaceae           | g__Ruminococcus_D      | s__Ruminococcus_D bicirculans      | adult  | 17 |\n",
       "| p__Actinobacteriota | c__Actinomycetia | o__Actinomycetales    | f__Bifidobacteriaceae        | g__Bifidobacterium     | s__Bifidobacterium adolescentis    | adult  | 16 |\n",
       "| p__Bacteroidota     | c__Bacteroidia   | o__Bacteroidales      | f__Bacteroidaceae            | g__Phocaeicola         | s__Phocaeicola dorei               | adult  | 15 |\n",
       "| p__Firmicutes       | c__Bacilli       | o__Erysipelotrichales | f__Erysipelotrichaceae       | g__Holdemanella        | s__Holdemanella biformis           | adult  | 12 |\n",
       "| p__Firmicutes_A     | c__Clostridia    | o__Lachnospirales     | f__Lachnospiraceae           | g__Lachnospira         | s__Lachnospira rogosae             | adult  | 12 |\n",
       "| p__Bacteroidota     | c__Bacteroidia   | o__Bacteroidales      | f__Tannerellaceae            | g__Parabacteroides     | s__Parabacteroides distasonis      | adult  | 12 |\n",
       "| p__Bacteroidota     | c__Bacteroidia   | o__Bacteroidales      | f__Bacteroidaceae            | g__Prevotella          | s__Prevotella copri                | adult  | 11 |\n",
       "| p__Firmicutes_A     | c__Clostridia    | o__Lachnospirales     | f__Lachnospiraceae           | g__Fusicatenibacter    | s__Fusicatenibacter saccharivorans | adult  | 11 |\n",
       "| p__Bacteroidota     | c__Bacteroidia   | o__Bacteroidales      | f__Barnesiellaceae           | g__Barnesiella         | s__Barnesiella intestinihominis    | adult  | 11 |\n",
       "| p__Firmicutes_A     | c__Clostridia    | o__Lachnospirales     | f__Lachnospiraceae           | g__Dorea               | s__Dorea formicigenerans           | adult  |  9 |\n",
       "| p__Firmicutes_A     | c__Clostridia    | o__Lachnospirales     | f__Lachnospiraceae           | g__Bariatricus         | s__Bariatricus comes               | adult  |  8 |\n",
       "| p__Firmicutes_A     | c__Clostridia    | o__Oscillospirales    | f__Oscillospiraceae          | g__CAG-83              | s__CAG-83 sp000435975              | adult  |  7 |\n",
       "| p__Firmicutes_A     | c__Clostridia    | o__Lachnospirales     | f__Lachnospiraceae           | g__Anaerostipes        | s__Anaerostipes hadrus             | adult  |  7 |\n",
       "| p__Firmicutes_A     | c__Clostridia    | o__Lachnospirales     | f__Lachnospiraceae           | g__Mediterraneibacter  | s__Mediterraneibacter torques      | adult  |  7 |\n",
       "| p__Bacteroidota     | c__Bacteroidia   | o__Bacteroidales      | f__Tannerellaceae            | g__Parabacteroides     | s__Parabacteroides merdae          | adult  |  7 |\n",
       "| p__Actinobacteriota | c__Actinomycetia | o__Actinomycetales    | f__Bifidobacteriaceae        | g__Bifidobacterium     | s__Bifidobacterium longum          | adult  |  6 |\n",
       "| p__Firmicutes_A     | c__Clostridia    | o__Lachnospirales     | f__Lachnospiraceae           | g__Roseburia           | s__Roseburia intestinalis          | adult  |  5 |\n",
       "| p__Firmicutes       | c__Bacilli       | o__Erysipelotrichales | f__Erysipelatoclostridiaceae | g__Catenibacterium     | s__Catenibacterium mitsuokai       | adult  |  4 |\n",
       "| p__Bacteroidota     | c__Bacteroidia   | o__Bacteroidales      | f__Bacteroidaceae            | g__Bacteroides         | s__Bacteroides caccae              | adult  |  4 |\n",
       "| p__Bacteroidota     | c__Bacteroidia   | o__Bacteroidales      | f__Bacteroidaceae            | g__Bacteroides         | s__Bacteroides thetaiotaomicron    | adult  |  4 |\n",
       "| p__Bacteroidota     | c__Bacteroidia   | o__Bacteroidales      | f__Bacteroidaceae            | g__Bacteroides         | s__Bacteroides ovatus              | adult  |  2 |\n",
       "| p__Bacteroidota     | c__Bacteroidia   | o__Bacteroidales      | f__Bacteroidaceae            | g__Bacteroides         | s__Bacteroides xylanisolvens       | adult  |  1 |\n",
       "| p__Bacteroidota     | c__Bacteroidia   | o__Bacteroidales      | f__Bacteroidaceae            | g__Phocaeicola         | s__Phocaeicola vulgatus            | infant | 27 |\n",
       "| p__Bacteroidota     | c__Bacteroidia   | o__Bacteroidales      | f__Bacteroidaceae            | g__Bacteroides         | s__Bacteroides uniformis           | infant | 19 |\n",
       "| p__Bacteroidota     | c__Bacteroidia   | o__Bacteroidales      | f__Bacteroidaceae            | g__Phocaeicola         | s__Phocaeicola dorei               | infant | 15 |\n",
       "| p__Bacteroidota     | c__Bacteroidia   | o__Bacteroidales      | f__Tannerellaceae            | g__Parabacteroides     | s__Parabacteroides distasonis      | infant | 12 |\n",
       "| p__Bacteroidota     | c__Bacteroidia   | o__Bacteroidales      | f__Bacteroidaceae            | g__Prevotella          | s__Prevotella copri                | infant | 11 |\n",
       "| p__Actinobacteriota | c__Actinomycetia | o__Actinomycetales    | f__Bifidobacteriaceae        | g__Bifidobacterium     | s__Bifidobacterium longum          | infant |  6 |\n",
       "| p__Firmicutes_A     | c__Clostridia    | o__Lachnospirales     | f__Lachnospiraceae           | g__Ruminococcus_B      | s__Ruminococcus_B gnavus           | infant |  5 |\n",
       "| p__Bacteroidota     | c__Bacteroidia   | o__Bacteroidales      | f__Bacteroidaceae            | g__Bacteroides         | s__Bacteroides thetaiotaomicron    | infant |  4 |\n",
       "| p__Bacteroidota     | c__Bacteroidia   | o__Bacteroidales      | f__Bacteroidaceae            | g__Bacteroides         | s__Bacteroides ovatus              | infant |  2 |\n",
       "| p__Actinobacteriota | c__Actinomycetia | o__Actinomycetales    | f__Bifidobacteriaceae        | g__Bifidobacterium     | s__Bifidobacterium bifidum         | infant |  1 |\n",
       "| p__Bacteroidota     | c__Bacteroidia   | o__Bacteroidales      | f__Bacteroidaceae            | g__Bacteroides         | s__Bacteroides xylanisolvens       | infant |  1 |\n",
       "\n"
      ],
      "text/plain": [
       "   Phylum              Class            Order                \n",
       "1  p__Firmicutes_A     c__Clostridia    o__Lachnospirales    \n",
       "2  p__Firmicutes_A     c__Clostridia    o__Oscillospirales   \n",
       "3  p__Firmicutes_A     c__Clostridia    o__Lachnospirales    \n",
       "4  p__Bacteroidota     c__Bacteroidia   o__Bacteroidales     \n",
       "5  p__Firmicutes_A     c__Clostridia    o__Oscillospirales   \n",
       "6  p__Bacteroidota     c__Bacteroidia   o__Bacteroidales     \n",
       "7  p__Firmicutes_A     c__Clostridia    o__Lachnospirales    \n",
       "8  p__Bacteroidota     c__Bacteroidia   o__Bacteroidales     \n",
       "9  p__Bacteroidota     c__Bacteroidia   o__Bacteroidales     \n",
       "10 p__Firmicutes_A     c__Clostridia    o__Oscillospirales   \n",
       "11 p__Firmicutes_A     c__Clostridia    o__Oscillospirales   \n",
       "12 p__Actinobacteriota c__Actinomycetia o__Actinomycetales   \n",
       "13 p__Bacteroidota     c__Bacteroidia   o__Bacteroidales     \n",
       "14 p__Firmicutes       c__Bacilli       o__Erysipelotrichales\n",
       "15 p__Firmicutes_A     c__Clostridia    o__Lachnospirales    \n",
       "16 p__Bacteroidota     c__Bacteroidia   o__Bacteroidales     \n",
       "17 p__Bacteroidota     c__Bacteroidia   o__Bacteroidales     \n",
       "18 p__Firmicutes_A     c__Clostridia    o__Lachnospirales    \n",
       "19 p__Bacteroidota     c__Bacteroidia   o__Bacteroidales     \n",
       "20 p__Firmicutes_A     c__Clostridia    o__Lachnospirales    \n",
       "21 p__Firmicutes_A     c__Clostridia    o__Lachnospirales    \n",
       "22 p__Firmicutes_A     c__Clostridia    o__Oscillospirales   \n",
       "23 p__Firmicutes_A     c__Clostridia    o__Lachnospirales    \n",
       "24 p__Firmicutes_A     c__Clostridia    o__Lachnospirales    \n",
       "25 p__Bacteroidota     c__Bacteroidia   o__Bacteroidales     \n",
       "26 p__Actinobacteriota c__Actinomycetia o__Actinomycetales   \n",
       "27 p__Firmicutes_A     c__Clostridia    o__Lachnospirales    \n",
       "28 p__Firmicutes       c__Bacilli       o__Erysipelotrichales\n",
       "29 p__Bacteroidota     c__Bacteroidia   o__Bacteroidales     \n",
       "30 p__Bacteroidota     c__Bacteroidia   o__Bacteroidales     \n",
       "31 p__Bacteroidota     c__Bacteroidia   o__Bacteroidales     \n",
       "32 p__Bacteroidota     c__Bacteroidia   o__Bacteroidales     \n",
       "33 p__Bacteroidota     c__Bacteroidia   o__Bacteroidales     \n",
       "34 p__Bacteroidota     c__Bacteroidia   o__Bacteroidales     \n",
       "35 p__Bacteroidota     c__Bacteroidia   o__Bacteroidales     \n",
       "36 p__Bacteroidota     c__Bacteroidia   o__Bacteroidales     \n",
       "37 p__Bacteroidota     c__Bacteroidia   o__Bacteroidales     \n",
       "38 p__Actinobacteriota c__Actinomycetia o__Actinomycetales   \n",
       "39 p__Firmicutes_A     c__Clostridia    o__Lachnospirales    \n",
       "40 p__Bacteroidota     c__Bacteroidia   o__Bacteroidales     \n",
       "41 p__Bacteroidota     c__Bacteroidia   o__Bacteroidales     \n",
       "42 p__Actinobacteriota c__Actinomycetia o__Actinomycetales   \n",
       "43 p__Bacteroidota     c__Bacteroidia   o__Bacteroidales     \n",
       "   Family                       Genus                 \n",
       "1  f__Lachnospiraceae           g__Agathobacter       \n",
       "2  f__Acutalibacteraceae        g__CAG-180            \n",
       "3  f__Lachnospiraceae           g__Agathobacter       \n",
       "4  f__Bacteroidaceae            g__Phocaeicola        \n",
       "5  f__Ruminococcaceae           g__Ruminiclostridium_E\n",
       "6  f__Marinifilaceae            g__Odoribacter        \n",
       "7  f__Lachnospiraceae           g__Lachnospira        \n",
       "8  f__Rikenellaceae             g__Alistipes          \n",
       "9  f__Bacteroidaceae            g__Bacteroides        \n",
       "10 f__Acutalibacteraceae        g__Eubacterium_R      \n",
       "11 f__Ruminococcaceae           g__Ruminococcus_D     \n",
       "12 f__Bifidobacteriaceae        g__Bifidobacterium    \n",
       "13 f__Bacteroidaceae            g__Phocaeicola        \n",
       "14 f__Erysipelotrichaceae       g__Holdemanella       \n",
       "15 f__Lachnospiraceae           g__Lachnospira        \n",
       "16 f__Tannerellaceae            g__Parabacteroides    \n",
       "17 f__Bacteroidaceae            g__Prevotella         \n",
       "18 f__Lachnospiraceae           g__Fusicatenibacter   \n",
       "19 f__Barnesiellaceae           g__Barnesiella        \n",
       "20 f__Lachnospiraceae           g__Dorea              \n",
       "21 f__Lachnospiraceae           g__Bariatricus        \n",
       "22 f__Oscillospiraceae          g__CAG-83             \n",
       "23 f__Lachnospiraceae           g__Anaerostipes       \n",
       "24 f__Lachnospiraceae           g__Mediterraneibacter \n",
       "25 f__Tannerellaceae            g__Parabacteroides    \n",
       "26 f__Bifidobacteriaceae        g__Bifidobacterium    \n",
       "27 f__Lachnospiraceae           g__Roseburia          \n",
       "28 f__Erysipelatoclostridiaceae g__Catenibacterium    \n",
       "29 f__Bacteroidaceae            g__Bacteroides        \n",
       "30 f__Bacteroidaceae            g__Bacteroides        \n",
       "31 f__Bacteroidaceae            g__Bacteroides        \n",
       "32 f__Bacteroidaceae            g__Bacteroides        \n",
       "33 f__Bacteroidaceae            g__Phocaeicola        \n",
       "34 f__Bacteroidaceae            g__Bacteroides        \n",
       "35 f__Bacteroidaceae            g__Phocaeicola        \n",
       "36 f__Tannerellaceae            g__Parabacteroides    \n",
       "37 f__Bacteroidaceae            g__Prevotella         \n",
       "38 f__Bifidobacteriaceae        g__Bifidobacterium    \n",
       "39 f__Lachnospiraceae           g__Ruminococcus_B     \n",
       "40 f__Bacteroidaceae            g__Bacteroides        \n",
       "41 f__Bacteroidaceae            g__Bacteroides        \n",
       "42 f__Bifidobacteriaceae        g__Bifidobacterium    \n",
       "43 f__Bacteroidaceae            g__Bacteroides        \n",
       "   Species                            age_group n \n",
       "1  s__Agathobacter rectalis           adult     53\n",
       "2  s__CAG-180 sp000432435             adult     48\n",
       "3  s__Agathobacter faecis             adult     30\n",
       "4  s__Phocaeicola vulgatus            adult     27\n",
       "5  s__Ruminiclostridium_E siraeum     adult     21\n",
       "6  s__Odoribacter splanchnicus        adult     21\n",
       "7  s__Lachnospira eligens_B           adult     20\n",
       "8  s__Alistipes putredinis            adult     19\n",
       "9  s__Bacteroides uniformis           adult     19\n",
       "10 s__Eubacterium_R sp000436835       adult     18\n",
       "11 s__Ruminococcus_D bicirculans      adult     17\n",
       "12 s__Bifidobacterium adolescentis    adult     16\n",
       "13 s__Phocaeicola dorei               adult     15\n",
       "14 s__Holdemanella biformis           adult     12\n",
       "15 s__Lachnospira rogosae             adult     12\n",
       "16 s__Parabacteroides distasonis      adult     12\n",
       "17 s__Prevotella copri                adult     11\n",
       "18 s__Fusicatenibacter saccharivorans adult     11\n",
       "19 s__Barnesiella intestinihominis    adult     11\n",
       "20 s__Dorea formicigenerans           adult      9\n",
       "21 s__Bariatricus comes               adult      8\n",
       "22 s__CAG-83 sp000435975              adult      7\n",
       "23 s__Anaerostipes hadrus             adult      7\n",
       "24 s__Mediterraneibacter torques      adult      7\n",
       "25 s__Parabacteroides merdae          adult      7\n",
       "26 s__Bifidobacterium longum          adult      6\n",
       "27 s__Roseburia intestinalis          adult      5\n",
       "28 s__Catenibacterium mitsuokai       adult      4\n",
       "29 s__Bacteroides caccae              adult      4\n",
       "30 s__Bacteroides thetaiotaomicron    adult      4\n",
       "31 s__Bacteroides ovatus              adult      2\n",
       "32 s__Bacteroides xylanisolvens       adult      1\n",
       "33 s__Phocaeicola vulgatus            infant    27\n",
       "34 s__Bacteroides uniformis           infant    19\n",
       "35 s__Phocaeicola dorei               infant    15\n",
       "36 s__Parabacteroides distasonis      infant    12\n",
       "37 s__Prevotella copri                infant    11\n",
       "38 s__Bifidobacterium longum          infant     6\n",
       "39 s__Ruminococcus_B gnavus           infant     5\n",
       "40 s__Bacteroides thetaiotaomicron    infant     4\n",
       "41 s__Bacteroides ovatus              infant     2\n",
       "42 s__Bifidobacterium bifidum         infant     1\n",
       "43 s__Bacteroides xylanisolvens       infant     1"
      ]
     },
     "metadata": {},
     "output_type": "display_data"
    }
   ],
   "source": [
    "# by species\n",
    "df.dims(50)\n",
    "drep_f %>%\n",
    "    mutate.(taxonomy = paste(Phylum, Species, sep=';')) %>%\n",
    "    summarize.(n = n.(),\n",
    "               .by=c(Phylum, Class, Order, Family, Genus, Species, age_group)) %>%\n",
    "    arrange.(age_group, -n)\n",
    "df.dims()"
   ]
  },
  {
   "cell_type": "markdown",
   "metadata": {},
   "source": [
    "# sessionInfo"
   ]
  },
  {
   "cell_type": "code",
   "execution_count": 25,
   "metadata": {
    "ExecuteTime": {
     "end_time": "2021-07-30T10:36:43.674371Z",
     "start_time": "2021-07-30T10:36:43.596Z"
    }
   },
   "outputs": [
    {
     "data": {
      "text/plain": [
       "R version 4.1.0 (2021-05-18)\n",
       "Platform: x86_64-conda-linux-gnu (64-bit)\n",
       "Running under: Ubuntu 18.04.5 LTS\n",
       "\n",
       "Matrix products: default\n",
       "BLAS/LAPACK: /ebio/abt3_projects/Anxiety_Twins_Metagenomes/envs/tidyverse2/lib/libopenblasp-r0.3.12.so\n",
       "\n",
       "locale:\n",
       " [1] LC_CTYPE=en_US.UTF-8       LC_NUMERIC=C              \n",
       " [3] LC_TIME=en_US.UTF-8        LC_COLLATE=en_US.UTF-8    \n",
       " [5] LC_MONETARY=en_US.UTF-8    LC_MESSAGES=en_US.UTF-8   \n",
       " [7] LC_PAPER=en_US.UTF-8       LC_NAME=C                 \n",
       " [9] LC_ADDRESS=C               LC_TELEPHONE=C            \n",
       "[11] LC_MEASUREMENT=en_US.UTF-8 LC_IDENTIFICATION=C       \n",
       "\n",
       "attached base packages:\n",
       "[1] stats     graphics  grDevices utils     datasets  methods   base     \n",
       "\n",
       "other attached packages:\n",
       "[1] LeyLabRMisc_0.1.9 tidytable_0.6.3   data.table_1.14.0 ggplot2_3.3.5    \n",
       "[5] tidyr_1.1.3       dplyr_1.0.7      \n",
       "\n",
       "loaded via a namespace (and not attached):\n",
       " [1] pillar_1.6.1      compiler_4.1.0    base64enc_0.1-3   tools_4.1.0      \n",
       " [5] digest_0.6.27     uuid_0.1-4        jsonlite_1.7.2    evaluate_0.14    \n",
       " [9] lifecycle_1.0.0   tibble_3.1.2      gtable_0.3.0      pkgconfig_2.0.3  \n",
       "[13] rlang_0.4.11      IRdisplay_1.0     IRkernel_1.2      repr_1.1.3       \n",
       "[17] withr_2.4.2       stringr_1.4.0     generics_0.1.0    vctrs_0.3.8      \n",
       "[21] grid_4.1.0        tidyselect_1.1.1  glue_1.4.2        R6_2.5.0         \n",
       "[25] fansi_0.4.2       pbdZMQ_0.3-5      purrr_0.3.4       magrittr_2.0.1   \n",
       "[29] scales_1.1.1      ellipsis_0.3.2    htmltools_0.5.1.1 colorspace_2.0-2 \n",
       "[33] utf8_1.2.1        stringi_1.6.2     munsell_0.5.0     crayon_1.4.1     "
      ]
     },
     "metadata": {},
     "output_type": "display_data"
    }
   ],
   "source": [
    "sessionInfo()"
   ]
  }
 ],
 "metadata": {
  "kernelspec": {
   "display_name": "R [conda env:Anxiety_Twins_Metagenomes-tidyverse2]",
   "language": "R",
   "name": "conda-env-Anxiety_Twins_Metagenomes-tidyverse2-r"
  },
  "language_info": {
   "codemirror_mode": "r",
   "file_extension": ".r",
   "mimetype": "text/x-r-source",
   "name": "R",
   "pygments_lexer": "r",
   "version": "4.1.0"
  },
  "notify_time": "30",
  "toc": {
   "base_numbering": 1,
   "nav_menu": {},
   "number_sections": true,
   "sideBar": true,
   "skip_h1_title": false,
   "title_cell": "Table of Contents",
   "title_sidebar": "Contents",
   "toc_cell": true,
   "toc_position": {},
   "toc_section_display": true,
   "toc_window_display": true
  }
 },
 "nbformat": 4,
 "nbformat_minor": 4
}
