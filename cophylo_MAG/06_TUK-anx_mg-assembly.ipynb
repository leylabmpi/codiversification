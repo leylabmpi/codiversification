{
 "cells": [
  {
   "cell_type": "markdown",
   "metadata": {
    "toc": true
   },
   "source": [
    "<h1>Table of Contents<span class=\"tocSkip\"></span></h1>\n",
    "<div class=\"toc\"><ul class=\"toc-item\"><li><span><a href=\"#Goal\" data-toc-modified-id=\"Goal-1\"><span class=\"toc-item-num\">1&nbsp;&nbsp;</span>Goal</a></span></li><li><span><a href=\"#Var\" data-toc-modified-id=\"Var-2\"><span class=\"toc-item-num\">2&nbsp;&nbsp;</span>Var</a></span></li><li><span><a href=\"#Init\" data-toc-modified-id=\"Init-3\"><span class=\"toc-item-num\">3&nbsp;&nbsp;</span>Init</a></span></li><li><span><a href=\"#Load\" data-toc-modified-id=\"Load-4\"><span class=\"toc-item-num\">4&nbsp;&nbsp;</span>Load</a></span></li><li><span><a href=\"#LLG-summary\" data-toc-modified-id=\"LLG-summary-5\"><span class=\"toc-item-num\">5&nbsp;&nbsp;</span>LLG summary</a></span><ul class=\"toc-item\"><li><ul class=\"toc-item\"><li><ul class=\"toc-item\"><li><span><a href=\"#Writing-table\" data-toc-modified-id=\"Writing-table-5.0.0.1\"><span class=\"toc-item-num\">5.0.0.1&nbsp;&nbsp;</span>Writing table</a></span></li></ul></li></ul></li></ul></li><li><span><a href=\"#target-species\" data-toc-modified-id=\"target-species-6\"><span class=\"toc-item-num\">6&nbsp;&nbsp;</span>target species</a></span><ul class=\"toc-item\"><li><ul class=\"toc-item\"><li><span><a href=\"#Summary\" data-toc-modified-id=\"Summary-6.0.1\"><span class=\"toc-item-num\">6.0.1&nbsp;&nbsp;</span>Summary</a></span></li></ul></li></ul></li><li><span><a href=\"#sessionInfo\" data-toc-modified-id=\"sessionInfo-7\"><span class=\"toc-item-num\">7&nbsp;&nbsp;</span>sessionInfo</a></span></li></ul></div>"
   ]
  },
  {
   "cell_type": "markdown",
   "metadata": {},
   "source": [
    "# Goal\n",
    "\n",
    "* Summarize Liam's metagenome assembly of the `TUK-anx` dataset (Cameroon)"
   ]
  },
  {
   "cell_type": "markdown",
   "metadata": {},
   "source": [
    "# Var"
   ]
  },
  {
   "cell_type": "code",
   "execution_count": 1,
   "metadata": {
    "ExecuteTime": {
     "end_time": "2021-07-30T11:04:55.652576Z",
     "start_time": "2021-07-30T11:04:55.590Z"
    }
   },
   "outputs": [],
   "source": [
    "work_dir = '/ebio/abt3_projects/Anxiety_Twins_Metagenomes/data/metagenome/TUK-5projects/LLMGA/v0.12/LLG/rnd1/'\n",
    "\n",
    "# target cophylogeny species\n",
    "cophy_dir = '/ebio/abt3_projects/HUBIF_metagenomics/data/pipelines/llg/cophyverttrans/batch2_clusters1-3/round6/'\n",
    "cophylo_adult_spec_file = file.path(cophy_dir, 'cophylo_species', 'AdultBetweenPop_species.tsv')\n",
    "cophylo_infant_spec_file = file.path(cophy_dir, 'cophylo_species', 'InfantResults_species.txt')\n",
    "\n",
    "# params\n",
    "threads = 4"
   ]
  },
  {
   "cell_type": "markdown",
   "metadata": {},
   "source": [
    "# Init"
   ]
  },
  {
   "cell_type": "code",
   "execution_count": 5,
   "metadata": {
    "ExecuteTime": {
     "end_time": "2021-07-30T11:04:59.492671Z",
     "start_time": "2021-07-30T11:04:59.461Z"
    }
   },
   "outputs": [],
   "source": [
    "library(dplyr)\n",
    "library(tidyr)\n",
    "library(ggplot2)\n",
    "library(data.table)\n",
    "library(tidytable)\n",
    "library(LeyLabRMisc)"
   ]
  },
  {
   "cell_type": "code",
   "execution_count": 6,
   "metadata": {
    "ExecuteTime": {
     "end_time": "2021-07-30T11:04:59.773618Z",
     "start_time": "2021-07-30T11:04:59.579Z"
    }
   },
   "outputs": [],
   "source": [
    "df.dims()\n",
    "setDTthreads(threads)"
   ]
  },
  {
   "cell_type": "markdown",
   "metadata": {},
   "source": [
    "# Load"
   ]
  },
  {
   "cell_type": "code",
   "execution_count": 7,
   "metadata": {
    "ExecuteTime": {
     "end_time": "2021-07-30T11:04:59.904116Z",
     "start_time": "2021-07-30T11:04:59.848Z"
    }
   },
   "outputs": [
    {
     "data": {
      "text/html": [
       "<table class=\"dataframe\">\n",
       "<caption>A tidytable: 67 × 12</caption>\n",
       "<thead>\n",
       "\t<tr><th scope=col>ncbi_taxonomy</th><th scope=col>gtdb_taxonomy</th><th scope=col>lca_frac</th><th scope=col>target_tax_level</th><th scope=col>age_group</th><th scope=col>Domain</th><th scope=col>Phylum</th><th scope=col>Class</th><th scope=col>Order</th><th scope=col>Family</th><th scope=col>Genus</th><th scope=col>Species</th></tr>\n",
       "\t<tr><th scope=col>&lt;chr&gt;</th><th scope=col>&lt;chr&gt;</th><th scope=col>&lt;dbl&gt;</th><th scope=col>&lt;chr&gt;</th><th scope=col>&lt;chr&gt;</th><th scope=col>&lt;chr&gt;</th><th scope=col>&lt;chr&gt;</th><th scope=col>&lt;chr&gt;</th><th scope=col>&lt;chr&gt;</th><th scope=col>&lt;chr&gt;</th><th scope=col>&lt;chr&gt;</th><th scope=col>&lt;chr&gt;</th></tr>\n",
       "</thead>\n",
       "<tbody>\n",
       "\t<tr><td>s__Catenibacterium_mitsuokai</td><td>s__Catenibacterium mitsuokai</td><td>1</td><td>species</td><td>adult</td><td>d__bacteria</td><td>p__firmicutes  </td><td>c__bacilli   </td><td>o__erysipelotrichales</td><td>f__erysipelatoclostridiaceae</td><td>g__catenibacterium</td><td>catenibacterium mitsuokai</td></tr>\n",
       "\t<tr><td>s__Eubacterium_sp_CAG_251   </td><td>s__Eubacterium_R sp000436835</td><td>1</td><td>species</td><td>adult</td><td>d__Bacteria</td><td>p__Firmicutes_A</td><td>c__Clostridia</td><td>o__Oscillospirales   </td><td>f__Acutalibacteraceae       </td><td>g__Eubacterium_R  </td><td>Eubacterium_R sp000436835</td></tr>\n",
       "\t<tr><td>⋮</td><td>⋮</td><td>⋮</td><td>⋮</td><td>⋮</td><td>⋮</td><td>⋮</td><td>⋮</td><td>⋮</td><td>⋮</td><td>⋮</td><td>⋮</td></tr>\n",
       "\t<tr><td>s__Escherichia_coli        </td><td>g__Escherichia  </td><td>0.99</td><td>genus</td><td>infant</td><td>d__bacteria</td><td>p__proteobacteria</td><td>c__gammaproteobacteria</td><td>o__enterobacterales</td><td>f__enterobacteriaceae</td><td>g__escherichia  </td><td>NA</td></tr>\n",
       "\t<tr><td>s__Streptococcus_salivarius</td><td>g__Streptococcus</td><td>1.00</td><td>genus</td><td>infant</td><td>d__bacteria</td><td>p__firmicutes    </td><td>c__bacilli            </td><td>o__lactobacillales </td><td>f__streptococcaceae  </td><td>g__streptococcus</td><td>NA</td></tr>\n",
       "</tbody>\n",
       "</table>\n"
      ],
      "text/latex": [
       "A tidytable: 67 × 12\n",
       "\\begin{tabular}{llllllllllll}\n",
       " ncbi\\_taxonomy & gtdb\\_taxonomy & lca\\_frac & target\\_tax\\_level & age\\_group & Domain & Phylum & Class & Order & Family & Genus & Species\\\\\n",
       " <chr> & <chr> & <dbl> & <chr> & <chr> & <chr> & <chr> & <chr> & <chr> & <chr> & <chr> & <chr>\\\\\n",
       "\\hline\n",
       "\t s\\_\\_Catenibacterium\\_mitsuokai & s\\_\\_Catenibacterium mitsuokai & 1 & species & adult & d\\_\\_bacteria & p\\_\\_firmicutes   & c\\_\\_bacilli    & o\\_\\_erysipelotrichales & f\\_\\_erysipelatoclostridiaceae & g\\_\\_catenibacterium & catenibacterium mitsuokai\\\\\n",
       "\t s\\_\\_Eubacterium\\_sp\\_CAG\\_251    & s\\_\\_Eubacterium\\_R sp000436835 & 1 & species & adult & d\\_\\_Bacteria & p\\_\\_Firmicutes\\_A & c\\_\\_Clostridia & o\\_\\_Oscillospirales    & f\\_\\_Acutalibacteraceae        & g\\_\\_Eubacterium\\_R   & Eubacterium\\_R sp000436835\\\\\n",
       "\t ⋮ & ⋮ & ⋮ & ⋮ & ⋮ & ⋮ & ⋮ & ⋮ & ⋮ & ⋮ & ⋮ & ⋮\\\\\n",
       "\t s\\_\\_Escherichia\\_coli         & g\\_\\_Escherichia   & 0.99 & genus & infant & d\\_\\_bacteria & p\\_\\_proteobacteria & c\\_\\_gammaproteobacteria & o\\_\\_enterobacterales & f\\_\\_enterobacteriaceae & g\\_\\_escherichia   & NA\\\\\n",
       "\t s\\_\\_Streptococcus\\_salivarius & g\\_\\_Streptococcus & 1.00 & genus & infant & d\\_\\_bacteria & p\\_\\_firmicutes     & c\\_\\_bacilli             & o\\_\\_lactobacillales  & f\\_\\_streptococcaceae   & g\\_\\_streptococcus & NA\\\\\n",
       "\\end{tabular}\n"
      ],
      "text/markdown": [
       "\n",
       "A tidytable: 67 × 12\n",
       "\n",
       "| ncbi_taxonomy &lt;chr&gt; | gtdb_taxonomy &lt;chr&gt; | lca_frac &lt;dbl&gt; | target_tax_level &lt;chr&gt; | age_group &lt;chr&gt; | Domain &lt;chr&gt; | Phylum &lt;chr&gt; | Class &lt;chr&gt; | Order &lt;chr&gt; | Family &lt;chr&gt; | Genus &lt;chr&gt; | Species &lt;chr&gt; |\n",
       "|---|---|---|---|---|---|---|---|---|---|---|---|\n",
       "| s__Catenibacterium_mitsuokai | s__Catenibacterium mitsuokai | 1 | species | adult | d__bacteria | p__firmicutes   | c__bacilli    | o__erysipelotrichales | f__erysipelatoclostridiaceae | g__catenibacterium | catenibacterium mitsuokai |\n",
       "| s__Eubacterium_sp_CAG_251    | s__Eubacterium_R sp000436835 | 1 | species | adult | d__Bacteria | p__Firmicutes_A | c__Clostridia | o__Oscillospirales    | f__Acutalibacteraceae        | g__Eubacterium_R   | Eubacterium_R sp000436835 |\n",
       "| ⋮ | ⋮ | ⋮ | ⋮ | ⋮ | ⋮ | ⋮ | ⋮ | ⋮ | ⋮ | ⋮ | ⋮ |\n",
       "| s__Escherichia_coli         | g__Escherichia   | 0.99 | genus | infant | d__bacteria | p__proteobacteria | c__gammaproteobacteria | o__enterobacterales | f__enterobacteriaceae | g__escherichia   | NA |\n",
       "| s__Streptococcus_salivarius | g__Streptococcus | 1.00 | genus | infant | d__bacteria | p__firmicutes     | c__bacilli             | o__lactobacillales  | f__streptococcaceae   | g__streptococcus | NA |\n",
       "\n"
      ],
      "text/plain": [
       "   ncbi_taxonomy                gtdb_taxonomy                lca_frac\n",
       "1  s__Catenibacterium_mitsuokai s__Catenibacterium mitsuokai 1       \n",
       "2  s__Eubacterium_sp_CAG_251    s__Eubacterium_R sp000436835 1       \n",
       "⋮  ⋮                            ⋮                            ⋮       \n",
       "66 s__Escherichia_coli          g__Escherichia               0.99    \n",
       "67 s__Streptococcus_salivarius  g__Streptococcus             1.00    \n",
       "   target_tax_level age_group Domain      Phylum           \n",
       "1  species          adult     d__bacteria p__firmicutes    \n",
       "2  species          adult     d__Bacteria p__Firmicutes_A  \n",
       "⋮  ⋮                ⋮         ⋮           ⋮                \n",
       "66 genus            infant    d__bacteria p__proteobacteria\n",
       "67 genus            infant    d__bacteria p__firmicutes    \n",
       "   Class                  Order                 Family                      \n",
       "1  c__bacilli             o__erysipelotrichales f__erysipelatoclostridiaceae\n",
       "2  c__Clostridia          o__Oscillospirales    f__Acutalibacteraceae       \n",
       "⋮  ⋮                      ⋮                     ⋮                           \n",
       "66 c__gammaproteobacteria o__enterobacterales   f__enterobacteriaceae       \n",
       "67 c__bacilli             o__lactobacillales    f__streptococcaceae         \n",
       "   Genus              Species                  \n",
       "1  g__catenibacterium catenibacterium mitsuokai\n",
       "2  g__Eubacterium_R   Eubacterium_R sp000436835\n",
       "⋮  ⋮                  ⋮                        \n",
       "66 g__escherichia     NA                       \n",
       "67 g__streptococcus   NA                       "
      ]
     },
     "metadata": {},
     "output_type": "display_data"
    }
   ],
   "source": [
    "# species\n",
    "cophylo_spec = list(\n",
    "    Fread(cophylo_adult_spec_file) %>%\n",
    "        mutate.(age_group = 'adult'),\n",
    "    Fread(cophylo_infant_spec_file) %>%\n",
    "        mutate.(age_group = 'infant')\n",
    "    ) %>%\n",
    "    rbindlist(use.names=TRUE) %>%\n",
    "    separate.(lineage, taxonomy_levels(), sep=';') %>%\n",
    "    mutate.(Species = gsub('^s__', '', Species))\n",
    "cophylo_spec"
   ]
  },
  {
   "cell_type": "markdown",
   "metadata": {},
   "source": [
    "# LLG summary\n",
    "\n",
    "* Summary of MAG QC & dRep"
   ]
  },
  {
   "cell_type": "code",
   "execution_count": 8,
   "metadata": {
    "ExecuteTime": {
     "end_time": "2021-07-30T11:05:01.158517Z",
     "start_time": "2021-07-30T11:05:01.028Z"
    }
   },
   "outputs": [
    {
     "name": "stdout",
     "output_type": "stream",
     "text": [
      "No. of unique MAGs: 14119 \n"
     ]
    },
    {
     "data": {
      "text/html": [
       "<table class=\"dataframe\">\n",
       "<caption>A tidytable: 14119 × 33</caption>\n",
       "<thead>\n",
       "\t<tr><th scope=col>Bin.Id</th><th scope=col>Marker.lineage</th><th scope=col>X..genomes</th><th scope=col>X..markers</th><th scope=col>X..marker.sets</th><th scope=col>Completeness</th><th scope=col>Contamination</th><th scope=col>Strain.heterogeneity</th><th scope=col>Genome.size..bp.</th><th scope=col>X..ambiguous.bases</th><th scope=col>⋯</th><th scope=col>X0</th><th scope=col>X1</th><th scope=col>X2</th><th scope=col>X3</th><th scope=col>X4</th><th scope=col>X5.</th><th scope=col>assembly.Id</th><th scope=col>assembler.Id</th><th scope=col>taxon.Id</th><th scope=col>File</th></tr>\n",
       "\t<tr><th scope=col>&lt;chr&gt;</th><th scope=col>&lt;chr&gt;</th><th scope=col>&lt;int&gt;</th><th scope=col>&lt;int&gt;</th><th scope=col>&lt;int&gt;</th><th scope=col>&lt;dbl&gt;</th><th scope=col>&lt;dbl&gt;</th><th scope=col>&lt;dbl&gt;</th><th scope=col>&lt;int&gt;</th><th scope=col>&lt;int&gt;</th><th scope=col>⋯</th><th scope=col>&lt;int&gt;</th><th scope=col>&lt;int&gt;</th><th scope=col>&lt;int&gt;</th><th scope=col>&lt;int&gt;</th><th scope=col>&lt;int&gt;</th><th scope=col>&lt;int&gt;</th><th scope=col>&lt;chr&gt;</th><th scope=col>&lt;chr&gt;</th><th scope=col>&lt;lgl&gt;</th><th scope=col>&lt;chr&gt;</th></tr>\n",
       "</thead>\n",
       "<tbody>\n",
       "\t<tr><td>1002320__metabat2__HighNoCov_035</td><td>p__Bacteroidetes (UID2605)</td><td>350</td><td>314</td><td>208</td><td> 92.2</td><td>4.61</td><td>7.14</td><td>2261725</td><td>0</td><td>⋯</td><td>20</td><td>280</td><td>14</td><td>0</td><td>0</td><td>0</td><td>|ebio|abt3_projects|Anxiety_Twins_Metagenomes|data|metagenome|TUK-5projects|LLMGA|v0.12|LLG|rnd1|checkM|1|checkm|markers_qa_summary.tsv.1</td><td>markers_qa_summary.tsv.1</td><td>NA</td><td>/ebio/abt3_projects/Anxiety_Twins_Metagenomes/data/metagenome/TUK-5projects/LLMGA/v0.12/LLG/rnd1/checkM/1/checkm/markers_qa_summary.tsv.1</td></tr>\n",
       "\t<tr><td>1002335__maxbin2__High_035      </td><td>p__Bacteroidetes (UID2605)</td><td>350</td><td>314</td><td>208</td><td>100.0</td><td>0.00</td><td>0.00</td><td>2620923</td><td>0</td><td>⋯</td><td> 0</td><td>314</td><td> 0</td><td>0</td><td>0</td><td>0</td><td>|ebio|abt3_projects|Anxiety_Twins_Metagenomes|data|metagenome|TUK-5projects|LLMGA|v0.12|LLG|rnd1|checkM|1|checkm|markers_qa_summary.tsv.2</td><td>markers_qa_summary.tsv.2</td><td>NA</td><td>/ebio/abt3_projects/Anxiety_Twins_Metagenomes/data/metagenome/TUK-5projects/LLMGA/v0.12/LLG/rnd1/checkM/1/checkm/markers_qa_summary.tsv.2</td></tr>\n",
       "\t<tr><td>⋮</td><td>⋮</td><td>⋮</td><td>⋮</td><td>⋮</td><td>⋮</td><td>⋮</td><td>⋮</td><td>⋮</td><td>⋮</td><td>⋱</td><td>⋮</td><td>⋮</td><td>⋮</td><td>⋮</td><td>⋮</td><td>⋮</td><td>⋮</td><td>⋮</td><td>⋮</td><td>⋮</td></tr>\n",
       "\t<tr><td>ERR3451530__vamb__High_213  </td><td>o__Clostridiales (UID1212)</td><td>172</td><td>263</td><td>149</td><td>95.97</td><td> 0.84</td><td>100.00</td><td>2811853</td><td>0</td><td>⋯</td><td> 7</td><td>254</td><td> 2</td><td>0</td><td>0</td><td>0</td><td>|ebio|abt3_projects|Anxiety_Twins_Metagenomes|data|metagenome|TUK-5projects|LLMGA|v0.12|LLG|rnd1|checkM|50|checkm|markers_qa_summary.tsv.281</td><td>markers_qa_summary.tsv.281</td><td>NA</td><td>/ebio/abt3_projects/Anxiety_Twins_Metagenomes/data/metagenome/TUK-5projects/LLMGA/v0.12/LLG/rnd1/checkM/50/checkm/markers_qa_summary.tsv.281</td></tr>\n",
       "\t<tr><td>ERR3645029__maxbin2__Low_043</td><td>o__Bacteroidales (UID2621)</td><td>198</td><td>427</td><td>260</td><td>96.94</td><td>16.34</td><td>  8.06</td><td>4402227</td><td>0</td><td>⋯</td><td>17</td><td>348</td><td>62</td><td>0</td><td>0</td><td>0</td><td>|ebio|abt3_projects|Anxiety_Twins_Metagenomes|data|metagenome|TUK-5projects|LLMGA|v0.12|LLG|rnd1|checkM|50|checkm|markers_qa_summary.tsv.282</td><td>markers_qa_summary.tsv.282</td><td>NA</td><td>/ebio/abt3_projects/Anxiety_Twins_Metagenomes/data/metagenome/TUK-5projects/LLMGA/v0.12/LLG/rnd1/checkM/50/checkm/markers_qa_summary.tsv.282</td></tr>\n",
       "</tbody>\n",
       "</table>\n"
      ],
      "text/latex": [
       "A tidytable: 14119 × 33\n",
       "\\begin{tabular}{lllllllllllllllllllll}\n",
       " Bin.Id & Marker.lineage & X..genomes & X..markers & X..marker.sets & Completeness & Contamination & Strain.heterogeneity & Genome.size..bp. & X..ambiguous.bases & ⋯ & X0 & X1 & X2 & X3 & X4 & X5. & assembly.Id & assembler.Id & taxon.Id & File\\\\\n",
       " <chr> & <chr> & <int> & <int> & <int> & <dbl> & <dbl> & <dbl> & <int> & <int> & ⋯ & <int> & <int> & <int> & <int> & <int> & <int> & <chr> & <chr> & <lgl> & <chr>\\\\\n",
       "\\hline\n",
       "\t 1002320\\_\\_metabat2\\_\\_HighNoCov\\_035 & p\\_\\_Bacteroidetes (UID2605) & 350 & 314 & 208 &  92.2 & 4.61 & 7.14 & 2261725 & 0 & ⋯ & 20 & 280 & 14 & 0 & 0 & 0 & \\textbar{}ebio\\textbar{}abt3\\_projects\\textbar{}Anxiety\\_Twins\\_Metagenomes\\textbar{}data\\textbar{}metagenome\\textbar{}TUK-5projects\\textbar{}LLMGA\\textbar{}v0.12\\textbar{}LLG\\textbar{}rnd1\\textbar{}checkM\\textbar{}1\\textbar{}checkm\\textbar{}markers\\_qa\\_summary.tsv.1 & markers\\_qa\\_summary.tsv.1 & NA & /ebio/abt3\\_projects/Anxiety\\_Twins\\_Metagenomes/data/metagenome/TUK-5projects/LLMGA/v0.12/LLG/rnd1/checkM/1/checkm/markers\\_qa\\_summary.tsv.1\\\\\n",
       "\t 1002335\\_\\_maxbin2\\_\\_High\\_035       & p\\_\\_Bacteroidetes (UID2605) & 350 & 314 & 208 & 100.0 & 0.00 & 0.00 & 2620923 & 0 & ⋯ &  0 & 314 &  0 & 0 & 0 & 0 & \\textbar{}ebio\\textbar{}abt3\\_projects\\textbar{}Anxiety\\_Twins\\_Metagenomes\\textbar{}data\\textbar{}metagenome\\textbar{}TUK-5projects\\textbar{}LLMGA\\textbar{}v0.12\\textbar{}LLG\\textbar{}rnd1\\textbar{}checkM\\textbar{}1\\textbar{}checkm\\textbar{}markers\\_qa\\_summary.tsv.2 & markers\\_qa\\_summary.tsv.2 & NA & /ebio/abt3\\_projects/Anxiety\\_Twins\\_Metagenomes/data/metagenome/TUK-5projects/LLMGA/v0.12/LLG/rnd1/checkM/1/checkm/markers\\_qa\\_summary.tsv.2\\\\\n",
       "\t ⋮ & ⋮ & ⋮ & ⋮ & ⋮ & ⋮ & ⋮ & ⋮ & ⋮ & ⋮ & ⋱ & ⋮ & ⋮ & ⋮ & ⋮ & ⋮ & ⋮ & ⋮ & ⋮ & ⋮ & ⋮\\\\\n",
       "\t ERR3451530\\_\\_vamb\\_\\_High\\_213   & o\\_\\_Clostridiales (UID1212) & 172 & 263 & 149 & 95.97 &  0.84 & 100.00 & 2811853 & 0 & ⋯ &  7 & 254 &  2 & 0 & 0 & 0 & \\textbar{}ebio\\textbar{}abt3\\_projects\\textbar{}Anxiety\\_Twins\\_Metagenomes\\textbar{}data\\textbar{}metagenome\\textbar{}TUK-5projects\\textbar{}LLMGA\\textbar{}v0.12\\textbar{}LLG\\textbar{}rnd1\\textbar{}checkM\\textbar{}50\\textbar{}checkm\\textbar{}markers\\_qa\\_summary.tsv.281 & markers\\_qa\\_summary.tsv.281 & NA & /ebio/abt3\\_projects/Anxiety\\_Twins\\_Metagenomes/data/metagenome/TUK-5projects/LLMGA/v0.12/LLG/rnd1/checkM/50/checkm/markers\\_qa\\_summary.tsv.281\\\\\n",
       "\t ERR3645029\\_\\_maxbin2\\_\\_Low\\_043 & o\\_\\_Bacteroidales (UID2621) & 198 & 427 & 260 & 96.94 & 16.34 &   8.06 & 4402227 & 0 & ⋯ & 17 & 348 & 62 & 0 & 0 & 0 & \\textbar{}ebio\\textbar{}abt3\\_projects\\textbar{}Anxiety\\_Twins\\_Metagenomes\\textbar{}data\\textbar{}metagenome\\textbar{}TUK-5projects\\textbar{}LLMGA\\textbar{}v0.12\\textbar{}LLG\\textbar{}rnd1\\textbar{}checkM\\textbar{}50\\textbar{}checkm\\textbar{}markers\\_qa\\_summary.tsv.282 & markers\\_qa\\_summary.tsv.282 & NA & /ebio/abt3\\_projects/Anxiety\\_Twins\\_Metagenomes/data/metagenome/TUK-5projects/LLMGA/v0.12/LLG/rnd1/checkM/50/checkm/markers\\_qa\\_summary.tsv.282\\\\\n",
       "\\end{tabular}\n"
      ],
      "text/markdown": [
       "\n",
       "A tidytable: 14119 × 33\n",
       "\n",
       "| Bin.Id &lt;chr&gt; | Marker.lineage &lt;chr&gt; | X..genomes &lt;int&gt; | X..markers &lt;int&gt; | X..marker.sets &lt;int&gt; | Completeness &lt;dbl&gt; | Contamination &lt;dbl&gt; | Strain.heterogeneity &lt;dbl&gt; | Genome.size..bp. &lt;int&gt; | X..ambiguous.bases &lt;int&gt; | ⋯ ⋯ | X0 &lt;int&gt; | X1 &lt;int&gt; | X2 &lt;int&gt; | X3 &lt;int&gt; | X4 &lt;int&gt; | X5. &lt;int&gt; | assembly.Id &lt;chr&gt; | assembler.Id &lt;chr&gt; | taxon.Id &lt;lgl&gt; | File &lt;chr&gt; |\n",
       "|---|---|---|---|---|---|---|---|---|---|---|---|---|---|---|---|---|---|---|---|---|\n",
       "| 1002320__metabat2__HighNoCov_035 | p__Bacteroidetes (UID2605) | 350 | 314 | 208 |  92.2 | 4.61 | 7.14 | 2261725 | 0 | ⋯ | 20 | 280 | 14 | 0 | 0 | 0 | |ebio|abt3_projects|Anxiety_Twins_Metagenomes|data|metagenome|TUK-5projects|LLMGA|v0.12|LLG|rnd1|checkM|1|checkm|markers_qa_summary.tsv.1 | markers_qa_summary.tsv.1 | NA | /ebio/abt3_projects/Anxiety_Twins_Metagenomes/data/metagenome/TUK-5projects/LLMGA/v0.12/LLG/rnd1/checkM/1/checkm/markers_qa_summary.tsv.1 |\n",
       "| 1002335__maxbin2__High_035       | p__Bacteroidetes (UID2605) | 350 | 314 | 208 | 100.0 | 0.00 | 0.00 | 2620923 | 0 | ⋯ |  0 | 314 |  0 | 0 | 0 | 0 | |ebio|abt3_projects|Anxiety_Twins_Metagenomes|data|metagenome|TUK-5projects|LLMGA|v0.12|LLG|rnd1|checkM|1|checkm|markers_qa_summary.tsv.2 | markers_qa_summary.tsv.2 | NA | /ebio/abt3_projects/Anxiety_Twins_Metagenomes/data/metagenome/TUK-5projects/LLMGA/v0.12/LLG/rnd1/checkM/1/checkm/markers_qa_summary.tsv.2 |\n",
       "| ⋮ | ⋮ | ⋮ | ⋮ | ⋮ | ⋮ | ⋮ | ⋮ | ⋮ | ⋮ | ⋱ | ⋮ | ⋮ | ⋮ | ⋮ | ⋮ | ⋮ | ⋮ | ⋮ | ⋮ | ⋮ |\n",
       "| ERR3451530__vamb__High_213   | o__Clostridiales (UID1212) | 172 | 263 | 149 | 95.97 |  0.84 | 100.00 | 2811853 | 0 | ⋯ |  7 | 254 |  2 | 0 | 0 | 0 | |ebio|abt3_projects|Anxiety_Twins_Metagenomes|data|metagenome|TUK-5projects|LLMGA|v0.12|LLG|rnd1|checkM|50|checkm|markers_qa_summary.tsv.281 | markers_qa_summary.tsv.281 | NA | /ebio/abt3_projects/Anxiety_Twins_Metagenomes/data/metagenome/TUK-5projects/LLMGA/v0.12/LLG/rnd1/checkM/50/checkm/markers_qa_summary.tsv.281 |\n",
       "| ERR3645029__maxbin2__Low_043 | o__Bacteroidales (UID2621) | 198 | 427 | 260 | 96.94 | 16.34 |   8.06 | 4402227 | 0 | ⋯ | 17 | 348 | 62 | 0 | 0 | 0 | |ebio|abt3_projects|Anxiety_Twins_Metagenomes|data|metagenome|TUK-5projects|LLMGA|v0.12|LLG|rnd1|checkM|50|checkm|markers_qa_summary.tsv.282 | markers_qa_summary.tsv.282 | NA | /ebio/abt3_projects/Anxiety_Twins_Metagenomes/data/metagenome/TUK-5projects/LLMGA/v0.12/LLG/rnd1/checkM/50/checkm/markers_qa_summary.tsv.282 |\n",
       "\n"
      ],
      "text/plain": [
       "      Bin.Id                           Marker.lineage             X..genomes\n",
       "1     1002320__metabat2__HighNoCov_035 p__Bacteroidetes (UID2605) 350       \n",
       "2     1002335__maxbin2__High_035       p__Bacteroidetes (UID2605) 350       \n",
       "⋮     ⋮                                ⋮                          ⋮         \n",
       "14118 ERR3451530__vamb__High_213       o__Clostridiales (UID1212) 172       \n",
       "14119 ERR3645029__maxbin2__Low_043     o__Bacteroidales (UID2621) 198       \n",
       "      X..markers X..marker.sets Completeness Contamination Strain.heterogeneity\n",
       "1     314        208             92.2        4.61          7.14                \n",
       "2     314        208            100.0        0.00          0.00                \n",
       "⋮     ⋮          ⋮              ⋮            ⋮             ⋮                   \n",
       "14118 263        149            95.97         0.84         100.00              \n",
       "14119 427        260            96.94        16.34           8.06              \n",
       "      Genome.size..bp. X..ambiguous.bases ⋯ X0 X1  X2 X3 X4 X5.\n",
       "1     2261725          0                  ⋯ 20 280 14 0  0  0  \n",
       "2     2620923          0                  ⋯  0 314  0 0  0  0  \n",
       "⋮     ⋮                ⋮                  ⋱ ⋮  ⋮   ⋮  ⋮  ⋮  ⋮  \n",
       "14118 2811853          0                  ⋯  7 254  2 0  0  0  \n",
       "14119 4402227          0                  ⋯ 17 348 62 0  0  0  \n",
       "      assembly.Id                                                                                                                                 \n",
       "1     |ebio|abt3_projects|Anxiety_Twins_Metagenomes|data|metagenome|TUK-5projects|LLMGA|v0.12|LLG|rnd1|checkM|1|checkm|markers_qa_summary.tsv.1   \n",
       "2     |ebio|abt3_projects|Anxiety_Twins_Metagenomes|data|metagenome|TUK-5projects|LLMGA|v0.12|LLG|rnd1|checkM|1|checkm|markers_qa_summary.tsv.2   \n",
       "⋮     ⋮                                                                                                                                           \n",
       "14118 |ebio|abt3_projects|Anxiety_Twins_Metagenomes|data|metagenome|TUK-5projects|LLMGA|v0.12|LLG|rnd1|checkM|50|checkm|markers_qa_summary.tsv.281\n",
       "14119 |ebio|abt3_projects|Anxiety_Twins_Metagenomes|data|metagenome|TUK-5projects|LLMGA|v0.12|LLG|rnd1|checkM|50|checkm|markers_qa_summary.tsv.282\n",
       "      assembler.Id               taxon.Id\n",
       "1     markers_qa_summary.tsv.1   NA      \n",
       "2     markers_qa_summary.tsv.2   NA      \n",
       "⋮     ⋮                          ⋮       \n",
       "14118 markers_qa_summary.tsv.281 NA      \n",
       "14119 markers_qa_summary.tsv.282 NA      \n",
       "      File                                                                                                                                        \n",
       "1     /ebio/abt3_projects/Anxiety_Twins_Metagenomes/data/metagenome/TUK-5projects/LLMGA/v0.12/LLG/rnd1/checkM/1/checkm/markers_qa_summary.tsv.1   \n",
       "2     /ebio/abt3_projects/Anxiety_Twins_Metagenomes/data/metagenome/TUK-5projects/LLMGA/v0.12/LLG/rnd1/checkM/1/checkm/markers_qa_summary.tsv.2   \n",
       "⋮     ⋮                                                                                                                                           \n",
       "14118 /ebio/abt3_projects/Anxiety_Twins_Metagenomes/data/metagenome/TUK-5projects/LLMGA/v0.12/LLG/rnd1/checkM/50/checkm/markers_qa_summary.tsv.281\n",
       "14119 /ebio/abt3_projects/Anxiety_Twins_Metagenomes/data/metagenome/TUK-5projects/LLMGA/v0.12/LLG/rnd1/checkM/50/checkm/markers_qa_summary.tsv.282"
      ]
     },
     "metadata": {},
     "output_type": "display_data"
    }
   ],
   "source": [
    "# checkM output\n",
    "F = file.path(work_dir, 'checkM', 'checkm_qa_summary.tsv')\n",
    "checkm = Fread(F) %>%\n",
    "    mutate.(Bin.Id = gsub('\\\\.', '_', Bin.Id))\n",
    "checkm$Bin.Id %>% unique_n('MAGs')\n",
    "checkm"
   ]
  },
  {
   "cell_type": "code",
   "execution_count": 9,
   "metadata": {
    "ExecuteTime": {
     "end_time": "2021-07-30T11:05:03.789489Z",
     "start_time": "2021-07-30T11:05:03.691Z"
    }
   },
   "outputs": [
    {
     "name": "stdout",
     "output_type": "stream",
     "text": [
      "No. of unique MAGs: 12358 \n"
     ]
    },
    {
     "data": {
      "text/html": [
       "<table class=\"dataframe\">\n",
       "<caption>A tidytable: 12358 × 2</caption>\n",
       "<thead>\n",
       "\t<tr><th scope=col>Name</th><th scope=col>Fasta</th></tr>\n",
       "\t<tr><th scope=col>&lt;chr&gt;</th><th scope=col>&lt;chr&gt;</th></tr>\n",
       "</thead>\n",
       "<tbody>\n",
       "\t<tr><td>1003182__maxbin2__Low_025_sub</td><td>/ebio/abt3_projects/Anxiety_Twins_Metagenomes/data/metagenome/TUK-5projects/LLMGA/v0.12/LLG/rnd1/drep/drep/dereplicated_genomes/1003182__maxbin2__Low.025_sub.fna</td></tr>\n",
       "\t<tr><td>1002493__maxbin2__Low_032    </td><td>/ebio/abt3_projects/Anxiety_Twins_Metagenomes/data/metagenome/TUK-5projects/LLMGA/v0.12/LLG/rnd1/drep/drep/dereplicated_genomes/1002493__maxbin2__Low.032.fna    </td></tr>\n",
       "\t<tr><td>⋮</td><td>⋮</td></tr>\n",
       "\t<tr><td>1003454__metabat2__Low_092</td><td>/ebio/abt3_projects/Anxiety_Twins_Metagenomes/data/metagenome/TUK-5projects/LLMGA/v0.12/LLG/rnd1/drep/drep/dereplicated_genomes/1003454__metabat2__Low.092.fna</td></tr>\n",
       "\t<tr><td>1012086__maxbin2__High_003</td><td>/ebio/abt3_projects/Anxiety_Twins_Metagenomes/data/metagenome/TUK-5projects/LLMGA/v0.12/LLG/rnd1/drep/drep/dereplicated_genomes/1012086__maxbin2__High.003.fna</td></tr>\n",
       "</tbody>\n",
       "</table>\n"
      ],
      "text/latex": [
       "A tidytable: 12358 × 2\n",
       "\\begin{tabular}{ll}\n",
       " Name & Fasta\\\\\n",
       " <chr> & <chr>\\\\\n",
       "\\hline\n",
       "\t 1003182\\_\\_maxbin2\\_\\_Low\\_025\\_sub & /ebio/abt3\\_projects/Anxiety\\_Twins\\_Metagenomes/data/metagenome/TUK-5projects/LLMGA/v0.12/LLG/rnd1/drep/drep/dereplicated\\_genomes/1003182\\_\\_maxbin2\\_\\_Low.025\\_sub.fna\\\\\n",
       "\t 1002493\\_\\_maxbin2\\_\\_Low\\_032     & /ebio/abt3\\_projects/Anxiety\\_Twins\\_Metagenomes/data/metagenome/TUK-5projects/LLMGA/v0.12/LLG/rnd1/drep/drep/dereplicated\\_genomes/1002493\\_\\_maxbin2\\_\\_Low.032.fna    \\\\\n",
       "\t ⋮ & ⋮\\\\\n",
       "\t 1003454\\_\\_metabat2\\_\\_Low\\_092 & /ebio/abt3\\_projects/Anxiety\\_Twins\\_Metagenomes/data/metagenome/TUK-5projects/LLMGA/v0.12/LLG/rnd1/drep/drep/dereplicated\\_genomes/1003454\\_\\_metabat2\\_\\_Low.092.fna\\\\\n",
       "\t 1012086\\_\\_maxbin2\\_\\_High\\_003 & /ebio/abt3\\_projects/Anxiety\\_Twins\\_Metagenomes/data/metagenome/TUK-5projects/LLMGA/v0.12/LLG/rnd1/drep/drep/dereplicated\\_genomes/1012086\\_\\_maxbin2\\_\\_High.003.fna\\\\\n",
       "\\end{tabular}\n"
      ],
      "text/markdown": [
       "\n",
       "A tidytable: 12358 × 2\n",
       "\n",
       "| Name &lt;chr&gt; | Fasta &lt;chr&gt; |\n",
       "|---|---|\n",
       "| 1003182__maxbin2__Low_025_sub | /ebio/abt3_projects/Anxiety_Twins_Metagenomes/data/metagenome/TUK-5projects/LLMGA/v0.12/LLG/rnd1/drep/drep/dereplicated_genomes/1003182__maxbin2__Low.025_sub.fna |\n",
       "| 1002493__maxbin2__Low_032     | /ebio/abt3_projects/Anxiety_Twins_Metagenomes/data/metagenome/TUK-5projects/LLMGA/v0.12/LLG/rnd1/drep/drep/dereplicated_genomes/1002493__maxbin2__Low.032.fna     |\n",
       "| ⋮ | ⋮ |\n",
       "| 1003454__metabat2__Low_092 | /ebio/abt3_projects/Anxiety_Twins_Metagenomes/data/metagenome/TUK-5projects/LLMGA/v0.12/LLG/rnd1/drep/drep/dereplicated_genomes/1003454__metabat2__Low.092.fna |\n",
       "| 1012086__maxbin2__High_003 | /ebio/abt3_projects/Anxiety_Twins_Metagenomes/data/metagenome/TUK-5projects/LLMGA/v0.12/LLG/rnd1/drep/drep/dereplicated_genomes/1012086__maxbin2__High.003.fna |\n",
       "\n"
      ],
      "text/plain": [
       "      Name                         \n",
       "1     1003182__maxbin2__Low_025_sub\n",
       "2     1002493__maxbin2__Low_032    \n",
       "⋮     ⋮                            \n",
       "12357 1003454__metabat2__Low_092   \n",
       "12358 1012086__maxbin2__High_003   \n",
       "      Fasta                                                                                                                                                            \n",
       "1     /ebio/abt3_projects/Anxiety_Twins_Metagenomes/data/metagenome/TUK-5projects/LLMGA/v0.12/LLG/rnd1/drep/drep/dereplicated_genomes/1003182__maxbin2__Low.025_sub.fna\n",
       "2     /ebio/abt3_projects/Anxiety_Twins_Metagenomes/data/metagenome/TUK-5projects/LLMGA/v0.12/LLG/rnd1/drep/drep/dereplicated_genomes/1002493__maxbin2__Low.032.fna    \n",
       "⋮     ⋮                                                                                                                                                                \n",
       "12357 /ebio/abt3_projects/Anxiety_Twins_Metagenomes/data/metagenome/TUK-5projects/LLMGA/v0.12/LLG/rnd1/drep/drep/dereplicated_genomes/1003454__metabat2__Low.092.fna   \n",
       "12358 /ebio/abt3_projects/Anxiety_Twins_Metagenomes/data/metagenome/TUK-5projects/LLMGA/v0.12/LLG/rnd1/drep/drep/dereplicated_genomes/1012086__maxbin2__High.003.fna   "
      ]
     },
     "metadata": {},
     "output_type": "display_data"
    }
   ],
   "source": [
    "# dRep output\n",
    "F = file.path(work_dir, 'drep', 'dereplicated_genomes.tsv')\n",
    "drep = Fread(F) %>%\n",
    "    mutate.(Name = gsub('\\\\.', '_', Name))\n",
    "drep$Name %>% unique_n('MAGs')\n",
    "drep"
   ]
  },
  {
   "cell_type": "code",
   "execution_count": 11,
   "metadata": {
    "ExecuteTime": {
     "end_time": "2021-07-30T11:05:18.833260Z",
     "start_time": "2021-07-30T11:05:18.502Z"
    }
   },
   "outputs": [
    {
     "data": {
      "text/html": [
       "<table class=\"dataframe\">\n",
       "<caption>A tidytable: 14119 × 8</caption>\n",
       "<thead>\n",
       "\t<tr><th scope=col>user_genome</th><th scope=col>Domain</th><th scope=col>Phylum</th><th scope=col>Class</th><th scope=col>Order</th><th scope=col>Family</th><th scope=col>Genus</th><th scope=col>Species</th></tr>\n",
       "\t<tr><th scope=col>&lt;chr&gt;</th><th scope=col>&lt;chr&gt;</th><th scope=col>&lt;chr&gt;</th><th scope=col>&lt;chr&gt;</th><th scope=col>&lt;chr&gt;</th><th scope=col>&lt;chr&gt;</th><th scope=col>&lt;chr&gt;</th><th scope=col>&lt;chr&gt;</th></tr>\n",
       "</thead>\n",
       "<tbody>\n",
       "\t<tr><td>1002320__metabat2__HighNoCov_035</td><td>d__Bacteria</td><td>p__Bacteroidota</td><td>c__Bacteroidia</td><td>o__Bacteroidales</td><td>f__Rikenellaceae</td><td>g__Tidjanibacter</td><td>s__Tidjanibacter inops</td></tr>\n",
       "\t<tr><td>1002335__maxbin2__High_035      </td><td>d__Bacteria</td><td>p__Bacteroidota</td><td>c__Bacteroidia</td><td>o__Bacteroidales</td><td>f__Rikenellaceae</td><td>g__Alistipes_A  </td><td>s__Alistipes_A ihumii </td></tr>\n",
       "\t<tr><td>⋮</td><td>⋮</td><td>⋮</td><td>⋮</td><td>⋮</td><td>⋮</td><td>⋮</td><td>⋮</td></tr>\n",
       "\t<tr><td>1006102__vamb__Med_320       </td><td>d__Archaea</td><td>p__Methanobacteriota</td><td>c__Methanobacteria</td><td>o__Methanobacteriales</td><td>f__Methanobacteriaceae</td><td>g__Methanobrevibacter_A</td><td>s__Methanobrevibacter_A smithii</td></tr>\n",
       "\t<tr><td>ERR3450849__maxbin2__High_030</td><td>d__Archaea</td><td>p__Methanobacteriota</td><td>c__Methanobacteria</td><td>o__Methanobacteriales</td><td>f__Methanobacteriaceae</td><td>g__Methanobrevibacter_A</td><td>s__Methanobrevibacter_A smithii</td></tr>\n",
       "</tbody>\n",
       "</table>\n"
      ],
      "text/latex": [
       "A tidytable: 14119 × 8\n",
       "\\begin{tabular}{llllllll}\n",
       " user\\_genome & Domain & Phylum & Class & Order & Family & Genus & Species\\\\\n",
       " <chr> & <chr> & <chr> & <chr> & <chr> & <chr> & <chr> & <chr>\\\\\n",
       "\\hline\n",
       "\t 1002320\\_\\_metabat2\\_\\_HighNoCov\\_035 & d\\_\\_Bacteria & p\\_\\_Bacteroidota & c\\_\\_Bacteroidia & o\\_\\_Bacteroidales & f\\_\\_Rikenellaceae & g\\_\\_Tidjanibacter & s\\_\\_Tidjanibacter inops\\\\\n",
       "\t 1002335\\_\\_maxbin2\\_\\_High\\_035       & d\\_\\_Bacteria & p\\_\\_Bacteroidota & c\\_\\_Bacteroidia & o\\_\\_Bacteroidales & f\\_\\_Rikenellaceae & g\\_\\_Alistipes\\_A   & s\\_\\_Alistipes\\_A ihumii \\\\\n",
       "\t ⋮ & ⋮ & ⋮ & ⋮ & ⋮ & ⋮ & ⋮ & ⋮\\\\\n",
       "\t 1006102\\_\\_vamb\\_\\_Med\\_320        & d\\_\\_Archaea & p\\_\\_Methanobacteriota & c\\_\\_Methanobacteria & o\\_\\_Methanobacteriales & f\\_\\_Methanobacteriaceae & g\\_\\_Methanobrevibacter\\_A & s\\_\\_Methanobrevibacter\\_A smithii\\\\\n",
       "\t ERR3450849\\_\\_maxbin2\\_\\_High\\_030 & d\\_\\_Archaea & p\\_\\_Methanobacteriota & c\\_\\_Methanobacteria & o\\_\\_Methanobacteriales & f\\_\\_Methanobacteriaceae & g\\_\\_Methanobrevibacter\\_A & s\\_\\_Methanobrevibacter\\_A smithii\\\\\n",
       "\\end{tabular}\n"
      ],
      "text/markdown": [
       "\n",
       "A tidytable: 14119 × 8\n",
       "\n",
       "| user_genome &lt;chr&gt; | Domain &lt;chr&gt; | Phylum &lt;chr&gt; | Class &lt;chr&gt; | Order &lt;chr&gt; | Family &lt;chr&gt; | Genus &lt;chr&gt; | Species &lt;chr&gt; |\n",
       "|---|---|---|---|---|---|---|---|\n",
       "| 1002320__metabat2__HighNoCov_035 | d__Bacteria | p__Bacteroidota | c__Bacteroidia | o__Bacteroidales | f__Rikenellaceae | g__Tidjanibacter | s__Tidjanibacter inops |\n",
       "| 1002335__maxbin2__High_035       | d__Bacteria | p__Bacteroidota | c__Bacteroidia | o__Bacteroidales | f__Rikenellaceae | g__Alistipes_A   | s__Alistipes_A ihumii  |\n",
       "| ⋮ | ⋮ | ⋮ | ⋮ | ⋮ | ⋮ | ⋮ | ⋮ |\n",
       "| 1006102__vamb__Med_320        | d__Archaea | p__Methanobacteriota | c__Methanobacteria | o__Methanobacteriales | f__Methanobacteriaceae | g__Methanobrevibacter_A | s__Methanobrevibacter_A smithii |\n",
       "| ERR3450849__maxbin2__High_030 | d__Archaea | p__Methanobacteriota | c__Methanobacteria | o__Methanobacteriales | f__Methanobacteriaceae | g__Methanobrevibacter_A | s__Methanobrevibacter_A smithii |\n",
       "\n"
      ],
      "text/plain": [
       "      user_genome                      Domain      Phylum              \n",
       "1     1002320__metabat2__HighNoCov_035 d__Bacteria p__Bacteroidota     \n",
       "2     1002335__maxbin2__High_035       d__Bacteria p__Bacteroidota     \n",
       "⋮     ⋮                                ⋮           ⋮                   \n",
       "14118 1006102__vamb__Med_320           d__Archaea  p__Methanobacteriota\n",
       "14119 ERR3450849__maxbin2__High_030    d__Archaea  p__Methanobacteriota\n",
       "      Class              Order                 Family                \n",
       "1     c__Bacteroidia     o__Bacteroidales      f__Rikenellaceae      \n",
       "2     c__Bacteroidia     o__Bacteroidales      f__Rikenellaceae      \n",
       "⋮     ⋮                  ⋮                     ⋮                     \n",
       "14118 c__Methanobacteria o__Methanobacteriales f__Methanobacteriaceae\n",
       "14119 c__Methanobacteria o__Methanobacteriales f__Methanobacteriaceae\n",
       "      Genus                   Species                        \n",
       "1     g__Tidjanibacter        s__Tidjanibacter inops         \n",
       "2     g__Alistipes_A          s__Alistipes_A ihumii          \n",
       "⋮     ⋮                       ⋮                              \n",
       "14118 g__Methanobrevibacter_A s__Methanobrevibacter_A smithii\n",
       "14119 g__Methanobrevibacter_A s__Methanobrevibacter_A smithii"
      ]
     },
     "metadata": {},
     "output_type": "display_data"
    }
   ],
   "source": [
    "# GTDB-Tk output\n",
    "F = file.path(work_dir, 'gtdbtk', 'gtdbtk_summary.tsv') \n",
    "tax = Fread(F) %>%\n",
    "    mutate.(user_genome = gsub('\\\\.', '_', user_genome)) %>%\n",
    "    select.(user_genome, classification) %>%\n",
    "    separate.(classification, taxonomy_levels(), sep=';')\n",
    "tax"
   ]
  },
  {
   "cell_type": "code",
   "execution_count": 12,
   "metadata": {
    "ExecuteTime": {
     "end_time": "2021-07-30T11:05:21.225084Z",
     "start_time": "2021-07-30T11:05:21.171Z"
    }
   },
   "outputs": [
    {
     "name": "stdout",
     "output_type": "stream",
     "text": [
      "intersect(x,y): 12358 \n",
      "setdiff(x,y): 0 \n",
      "setdiff(y,x): 1761 \n",
      "union(x,y): 14119 \n",
      "---\n",
      "intersect(x,y): 12358 \n",
      "setdiff(x,y): 0 \n",
      "setdiff(y,x): 1761 \n",
      "union(x,y): 14119 \n"
     ]
    }
   ],
   "source": [
    "# merging\n",
    "overlap(drep$Name, checkm$Bin.Id)\n",
    "cat('---\\n')\n",
    "overlap(drep$Name, tax$user_genome)"
   ]
  },
  {
   "cell_type": "code",
   "execution_count": 13,
   "metadata": {
    "ExecuteTime": {
     "end_time": "2021-07-30T11:05:23.939210Z",
     "start_time": "2021-07-30T11:05:23.819Z"
    }
   },
   "outputs": [
    {
     "data": {
      "text/html": [
       "<table class=\"dataframe\">\n",
       "<caption>A tidytable: 12358 × 41</caption>\n",
       "<thead>\n",
       "\t<tr><th scope=col>Name</th><th scope=col>Fasta</th><th scope=col>Marker.lineage</th><th scope=col>X..genomes</th><th scope=col>X..markers</th><th scope=col>X..marker.sets</th><th scope=col>Completeness</th><th scope=col>Contamination</th><th scope=col>Strain.heterogeneity</th><th scope=col>Genome.size..bp.</th><th scope=col>⋯</th><th scope=col>assembler.Id</th><th scope=col>taxon.Id</th><th scope=col>File</th><th scope=col>Domain</th><th scope=col>Phylum</th><th scope=col>Class</th><th scope=col>Order</th><th scope=col>Family</th><th scope=col>Genus</th><th scope=col>Species</th></tr>\n",
       "\t<tr><th scope=col>&lt;chr&gt;</th><th scope=col>&lt;chr&gt;</th><th scope=col>&lt;chr&gt;</th><th scope=col>&lt;int&gt;</th><th scope=col>&lt;int&gt;</th><th scope=col>&lt;int&gt;</th><th scope=col>&lt;dbl&gt;</th><th scope=col>&lt;dbl&gt;</th><th scope=col>&lt;dbl&gt;</th><th scope=col>&lt;int&gt;</th><th scope=col>⋯</th><th scope=col>&lt;chr&gt;</th><th scope=col>&lt;lgl&gt;</th><th scope=col>&lt;chr&gt;</th><th scope=col>&lt;chr&gt;</th><th scope=col>&lt;chr&gt;</th><th scope=col>&lt;chr&gt;</th><th scope=col>&lt;chr&gt;</th><th scope=col>&lt;chr&gt;</th><th scope=col>&lt;chr&gt;</th><th scope=col>&lt;chr&gt;</th></tr>\n",
       "</thead>\n",
       "<tbody>\n",
       "\t<tr><td>1002320__metabat2__HighNoCov_035</td><td>/ebio/abt3_projects/Anxiety_Twins_Metagenomes/data/metagenome/TUK-5projects/LLMGA/v0.12/LLG/rnd1/drep/drep/dereplicated_genomes/1002320__metabat2__HighNoCov.035.fna</td><td>p__Bacteroidetes (UID2605)</td><td>350</td><td>314</td><td>208</td><td> 92.2</td><td>4.61</td><td>7.14</td><td>2261725</td><td>⋯</td><td>markers_qa_summary.tsv.1</td><td>NA</td><td>/ebio/abt3_projects/Anxiety_Twins_Metagenomes/data/metagenome/TUK-5projects/LLMGA/v0.12/LLG/rnd1/checkM/1/checkm/markers_qa_summary.tsv.1</td><td>d__Bacteria</td><td>p__Bacteroidota</td><td>c__Bacteroidia</td><td>o__Bacteroidales</td><td>f__Rikenellaceae</td><td>g__Tidjanibacter</td><td>s__Tidjanibacter inops</td></tr>\n",
       "\t<tr><td>1002335__maxbin2__High_035      </td><td>/ebio/abt3_projects/Anxiety_Twins_Metagenomes/data/metagenome/TUK-5projects/LLMGA/v0.12/LLG/rnd1/drep/drep/dereplicated_genomes/1002335__maxbin2__High.035.fna      </td><td>p__Bacteroidetes (UID2605)</td><td>350</td><td>314</td><td>208</td><td>100.0</td><td>0.00</td><td>0.00</td><td>2620923</td><td>⋯</td><td>markers_qa_summary.tsv.2</td><td>NA</td><td>/ebio/abt3_projects/Anxiety_Twins_Metagenomes/data/metagenome/TUK-5projects/LLMGA/v0.12/LLG/rnd1/checkM/1/checkm/markers_qa_summary.tsv.2</td><td>d__Bacteria</td><td>p__Bacteroidota</td><td>c__Bacteroidia</td><td>o__Bacteroidales</td><td>f__Rikenellaceae</td><td>g__Alistipes_A  </td><td>s__Alistipes_A ihumii </td></tr>\n",
       "\t<tr><td>⋮</td><td>⋮</td><td>⋮</td><td>⋮</td><td>⋮</td><td>⋮</td><td>⋮</td><td>⋮</td><td>⋮</td><td>⋮</td><td>⋱</td><td>⋮</td><td>⋮</td><td>⋮</td><td>⋮</td><td>⋮</td><td>⋮</td><td>⋮</td><td>⋮</td><td>⋮</td><td>⋮</td></tr>\n",
       "\t<tr><td>1006102__vamb__Med_320       </td><td>/ebio/abt3_projects/Anxiety_Twins_Metagenomes/data/metagenome/TUK-5projects/LLMGA/v0.12/LLG/rnd1/drep/drep/dereplicated_genomes/1006102__vamb__Med.320.fna       </td><td>p__Euryarchaeota (UID3)</td><td>148</td><td>188</td><td>125</td><td> 57.03</td><td>0</td><td>0</td><td> 783316</td><td>⋯</td><td>markers_qa_summary.tsv.172</td><td>NA</td><td>/ebio/abt3_projects/Anxiety_Twins_Metagenomes/data/metagenome/TUK-5projects/LLMGA/v0.12/LLG/rnd1/checkM/49/checkm/markers_qa_summary.tsv.172</td><td>d__Archaea</td><td>p__Methanobacteriota</td><td>c__Methanobacteria</td><td>o__Methanobacteriales</td><td>f__Methanobacteriaceae</td><td>g__Methanobrevibacter_A</td><td>s__Methanobrevibacter_A smithii</td></tr>\n",
       "\t<tr><td>ERR3450849__maxbin2__High_030</td><td>/ebio/abt3_projects/Anxiety_Twins_Metagenomes/data/metagenome/TUK-5projects/LLMGA/v0.12/LLG/rnd1/drep/drep/dereplicated_genomes/ERR3450849__maxbin2__High.030.fna</td><td>p__Euryarchaeota (UID3)</td><td>148</td><td>188</td><td>125</td><td>100.00</td><td>0</td><td>0</td><td>1834039</td><td>⋯</td><td>markers_qa_summary.tsv.220</td><td>NA</td><td>/ebio/abt3_projects/Anxiety_Twins_Metagenomes/data/metagenome/TUK-5projects/LLMGA/v0.12/LLG/rnd1/checkM/50/checkm/markers_qa_summary.tsv.220</td><td>d__Archaea</td><td>p__Methanobacteriota</td><td>c__Methanobacteria</td><td>o__Methanobacteriales</td><td>f__Methanobacteriaceae</td><td>g__Methanobrevibacter_A</td><td>s__Methanobrevibacter_A smithii</td></tr>\n",
       "</tbody>\n",
       "</table>\n"
      ],
      "text/latex": [
       "A tidytable: 12358 × 41\n",
       "\\begin{tabular}{lllllllllllllllllllll}\n",
       " Name & Fasta & Marker.lineage & X..genomes & X..markers & X..marker.sets & Completeness & Contamination & Strain.heterogeneity & Genome.size..bp. & ⋯ & assembler.Id & taxon.Id & File & Domain & Phylum & Class & Order & Family & Genus & Species\\\\\n",
       " <chr> & <chr> & <chr> & <int> & <int> & <int> & <dbl> & <dbl> & <dbl> & <int> & ⋯ & <chr> & <lgl> & <chr> & <chr> & <chr> & <chr> & <chr> & <chr> & <chr> & <chr>\\\\\n",
       "\\hline\n",
       "\t 1002320\\_\\_metabat2\\_\\_HighNoCov\\_035 & /ebio/abt3\\_projects/Anxiety\\_Twins\\_Metagenomes/data/metagenome/TUK-5projects/LLMGA/v0.12/LLG/rnd1/drep/drep/dereplicated\\_genomes/1002320\\_\\_metabat2\\_\\_HighNoCov.035.fna & p\\_\\_Bacteroidetes (UID2605) & 350 & 314 & 208 &  92.2 & 4.61 & 7.14 & 2261725 & ⋯ & markers\\_qa\\_summary.tsv.1 & NA & /ebio/abt3\\_projects/Anxiety\\_Twins\\_Metagenomes/data/metagenome/TUK-5projects/LLMGA/v0.12/LLG/rnd1/checkM/1/checkm/markers\\_qa\\_summary.tsv.1 & d\\_\\_Bacteria & p\\_\\_Bacteroidota & c\\_\\_Bacteroidia & o\\_\\_Bacteroidales & f\\_\\_Rikenellaceae & g\\_\\_Tidjanibacter & s\\_\\_Tidjanibacter inops\\\\\n",
       "\t 1002335\\_\\_maxbin2\\_\\_High\\_035       & /ebio/abt3\\_projects/Anxiety\\_Twins\\_Metagenomes/data/metagenome/TUK-5projects/LLMGA/v0.12/LLG/rnd1/drep/drep/dereplicated\\_genomes/1002335\\_\\_maxbin2\\_\\_High.035.fna       & p\\_\\_Bacteroidetes (UID2605) & 350 & 314 & 208 & 100.0 & 0.00 & 0.00 & 2620923 & ⋯ & markers\\_qa\\_summary.tsv.2 & NA & /ebio/abt3\\_projects/Anxiety\\_Twins\\_Metagenomes/data/metagenome/TUK-5projects/LLMGA/v0.12/LLG/rnd1/checkM/1/checkm/markers\\_qa\\_summary.tsv.2 & d\\_\\_Bacteria & p\\_\\_Bacteroidota & c\\_\\_Bacteroidia & o\\_\\_Bacteroidales & f\\_\\_Rikenellaceae & g\\_\\_Alistipes\\_A   & s\\_\\_Alistipes\\_A ihumii \\\\\n",
       "\t ⋮ & ⋮ & ⋮ & ⋮ & ⋮ & ⋮ & ⋮ & ⋮ & ⋮ & ⋮ & ⋱ & ⋮ & ⋮ & ⋮ & ⋮ & ⋮ & ⋮ & ⋮ & ⋮ & ⋮ & ⋮\\\\\n",
       "\t 1006102\\_\\_vamb\\_\\_Med\\_320        & /ebio/abt3\\_projects/Anxiety\\_Twins\\_Metagenomes/data/metagenome/TUK-5projects/LLMGA/v0.12/LLG/rnd1/drep/drep/dereplicated\\_genomes/1006102\\_\\_vamb\\_\\_Med.320.fna        & p\\_\\_Euryarchaeota (UID3) & 148 & 188 & 125 &  57.03 & 0 & 0 &  783316 & ⋯ & markers\\_qa\\_summary.tsv.172 & NA & /ebio/abt3\\_projects/Anxiety\\_Twins\\_Metagenomes/data/metagenome/TUK-5projects/LLMGA/v0.12/LLG/rnd1/checkM/49/checkm/markers\\_qa\\_summary.tsv.172 & d\\_\\_Archaea & p\\_\\_Methanobacteriota & c\\_\\_Methanobacteria & o\\_\\_Methanobacteriales & f\\_\\_Methanobacteriaceae & g\\_\\_Methanobrevibacter\\_A & s\\_\\_Methanobrevibacter\\_A smithii\\\\\n",
       "\t ERR3450849\\_\\_maxbin2\\_\\_High\\_030 & /ebio/abt3\\_projects/Anxiety\\_Twins\\_Metagenomes/data/metagenome/TUK-5projects/LLMGA/v0.12/LLG/rnd1/drep/drep/dereplicated\\_genomes/ERR3450849\\_\\_maxbin2\\_\\_High.030.fna & p\\_\\_Euryarchaeota (UID3) & 148 & 188 & 125 & 100.00 & 0 & 0 & 1834039 & ⋯ & markers\\_qa\\_summary.tsv.220 & NA & /ebio/abt3\\_projects/Anxiety\\_Twins\\_Metagenomes/data/metagenome/TUK-5projects/LLMGA/v0.12/LLG/rnd1/checkM/50/checkm/markers\\_qa\\_summary.tsv.220 & d\\_\\_Archaea & p\\_\\_Methanobacteriota & c\\_\\_Methanobacteria & o\\_\\_Methanobacteriales & f\\_\\_Methanobacteriaceae & g\\_\\_Methanobrevibacter\\_A & s\\_\\_Methanobrevibacter\\_A smithii\\\\\n",
       "\\end{tabular}\n"
      ],
      "text/markdown": [
       "\n",
       "A tidytable: 12358 × 41\n",
       "\n",
       "| Name &lt;chr&gt; | Fasta &lt;chr&gt; | Marker.lineage &lt;chr&gt; | X..genomes &lt;int&gt; | X..markers &lt;int&gt; | X..marker.sets &lt;int&gt; | Completeness &lt;dbl&gt; | Contamination &lt;dbl&gt; | Strain.heterogeneity &lt;dbl&gt; | Genome.size..bp. &lt;int&gt; | ⋯ ⋯ | assembler.Id &lt;chr&gt; | taxon.Id &lt;lgl&gt; | File &lt;chr&gt; | Domain &lt;chr&gt; | Phylum &lt;chr&gt; | Class &lt;chr&gt; | Order &lt;chr&gt; | Family &lt;chr&gt; | Genus &lt;chr&gt; | Species &lt;chr&gt; |\n",
       "|---|---|---|---|---|---|---|---|---|---|---|---|---|---|---|---|---|---|---|---|---|\n",
       "| 1002320__metabat2__HighNoCov_035 | /ebio/abt3_projects/Anxiety_Twins_Metagenomes/data/metagenome/TUK-5projects/LLMGA/v0.12/LLG/rnd1/drep/drep/dereplicated_genomes/1002320__metabat2__HighNoCov.035.fna | p__Bacteroidetes (UID2605) | 350 | 314 | 208 |  92.2 | 4.61 | 7.14 | 2261725 | ⋯ | markers_qa_summary.tsv.1 | NA | /ebio/abt3_projects/Anxiety_Twins_Metagenomes/data/metagenome/TUK-5projects/LLMGA/v0.12/LLG/rnd1/checkM/1/checkm/markers_qa_summary.tsv.1 | d__Bacteria | p__Bacteroidota | c__Bacteroidia | o__Bacteroidales | f__Rikenellaceae | g__Tidjanibacter | s__Tidjanibacter inops |\n",
       "| 1002335__maxbin2__High_035       | /ebio/abt3_projects/Anxiety_Twins_Metagenomes/data/metagenome/TUK-5projects/LLMGA/v0.12/LLG/rnd1/drep/drep/dereplicated_genomes/1002335__maxbin2__High.035.fna       | p__Bacteroidetes (UID2605) | 350 | 314 | 208 | 100.0 | 0.00 | 0.00 | 2620923 | ⋯ | markers_qa_summary.tsv.2 | NA | /ebio/abt3_projects/Anxiety_Twins_Metagenomes/data/metagenome/TUK-5projects/LLMGA/v0.12/LLG/rnd1/checkM/1/checkm/markers_qa_summary.tsv.2 | d__Bacteria | p__Bacteroidota | c__Bacteroidia | o__Bacteroidales | f__Rikenellaceae | g__Alistipes_A   | s__Alistipes_A ihumii  |\n",
       "| ⋮ | ⋮ | ⋮ | ⋮ | ⋮ | ⋮ | ⋮ | ⋮ | ⋮ | ⋮ | ⋱ | ⋮ | ⋮ | ⋮ | ⋮ | ⋮ | ⋮ | ⋮ | ⋮ | ⋮ | ⋮ |\n",
       "| 1006102__vamb__Med_320        | /ebio/abt3_projects/Anxiety_Twins_Metagenomes/data/metagenome/TUK-5projects/LLMGA/v0.12/LLG/rnd1/drep/drep/dereplicated_genomes/1006102__vamb__Med.320.fna        | p__Euryarchaeota (UID3) | 148 | 188 | 125 |  57.03 | 0 | 0 |  783316 | ⋯ | markers_qa_summary.tsv.172 | NA | /ebio/abt3_projects/Anxiety_Twins_Metagenomes/data/metagenome/TUK-5projects/LLMGA/v0.12/LLG/rnd1/checkM/49/checkm/markers_qa_summary.tsv.172 | d__Archaea | p__Methanobacteriota | c__Methanobacteria | o__Methanobacteriales | f__Methanobacteriaceae | g__Methanobrevibacter_A | s__Methanobrevibacter_A smithii |\n",
       "| ERR3450849__maxbin2__High_030 | /ebio/abt3_projects/Anxiety_Twins_Metagenomes/data/metagenome/TUK-5projects/LLMGA/v0.12/LLG/rnd1/drep/drep/dereplicated_genomes/ERR3450849__maxbin2__High.030.fna | p__Euryarchaeota (UID3) | 148 | 188 | 125 | 100.00 | 0 | 0 | 1834039 | ⋯ | markers_qa_summary.tsv.220 | NA | /ebio/abt3_projects/Anxiety_Twins_Metagenomes/data/metagenome/TUK-5projects/LLMGA/v0.12/LLG/rnd1/checkM/50/checkm/markers_qa_summary.tsv.220 | d__Archaea | p__Methanobacteriota | c__Methanobacteria | o__Methanobacteriales | f__Methanobacteriaceae | g__Methanobrevibacter_A | s__Methanobrevibacter_A smithii |\n",
       "\n"
      ],
      "text/plain": [
       "      Name                            \n",
       "1     1002320__metabat2__HighNoCov_035\n",
       "2     1002335__maxbin2__High_035      \n",
       "⋮     ⋮                               \n",
       "12357 1006102__vamb__Med_320          \n",
       "12358 ERR3450849__maxbin2__High_030   \n",
       "      Fasta                                                                                                                                                               \n",
       "1     /ebio/abt3_projects/Anxiety_Twins_Metagenomes/data/metagenome/TUK-5projects/LLMGA/v0.12/LLG/rnd1/drep/drep/dereplicated_genomes/1002320__metabat2__HighNoCov.035.fna\n",
       "2     /ebio/abt3_projects/Anxiety_Twins_Metagenomes/data/metagenome/TUK-5projects/LLMGA/v0.12/LLG/rnd1/drep/drep/dereplicated_genomes/1002335__maxbin2__High.035.fna      \n",
       "⋮     ⋮                                                                                                                                                                   \n",
       "12357 /ebio/abt3_projects/Anxiety_Twins_Metagenomes/data/metagenome/TUK-5projects/LLMGA/v0.12/LLG/rnd1/drep/drep/dereplicated_genomes/1006102__vamb__Med.320.fna          \n",
       "12358 /ebio/abt3_projects/Anxiety_Twins_Metagenomes/data/metagenome/TUK-5projects/LLMGA/v0.12/LLG/rnd1/drep/drep/dereplicated_genomes/ERR3450849__maxbin2__High.030.fna   \n",
       "      Marker.lineage             X..genomes X..markers X..marker.sets\n",
       "1     p__Bacteroidetes (UID2605) 350        314        208           \n",
       "2     p__Bacteroidetes (UID2605) 350        314        208           \n",
       "⋮     ⋮                          ⋮          ⋮          ⋮             \n",
       "12357 p__Euryarchaeota (UID3)    148        188        125           \n",
       "12358 p__Euryarchaeota (UID3)    148        188        125           \n",
       "      Completeness Contamination Strain.heterogeneity Genome.size..bp. ⋯\n",
       "1      92.2        4.61          7.14                 2261725          ⋯\n",
       "2     100.0        0.00          0.00                 2620923          ⋯\n",
       "⋮     ⋮            ⋮             ⋮                    ⋮                ⋱\n",
       "12357  57.03       0             0                     783316          ⋯\n",
       "12358 100.00       0             0                    1834039          ⋯\n",
       "      assembler.Id               taxon.Id\n",
       "1     markers_qa_summary.tsv.1   NA      \n",
       "2     markers_qa_summary.tsv.2   NA      \n",
       "⋮     ⋮                          ⋮       \n",
       "12357 markers_qa_summary.tsv.172 NA      \n",
       "12358 markers_qa_summary.tsv.220 NA      \n",
       "      File                                                                                                                                        \n",
       "1     /ebio/abt3_projects/Anxiety_Twins_Metagenomes/data/metagenome/TUK-5projects/LLMGA/v0.12/LLG/rnd1/checkM/1/checkm/markers_qa_summary.tsv.1   \n",
       "2     /ebio/abt3_projects/Anxiety_Twins_Metagenomes/data/metagenome/TUK-5projects/LLMGA/v0.12/LLG/rnd1/checkM/1/checkm/markers_qa_summary.tsv.2   \n",
       "⋮     ⋮                                                                                                                                           \n",
       "12357 /ebio/abt3_projects/Anxiety_Twins_Metagenomes/data/metagenome/TUK-5projects/LLMGA/v0.12/LLG/rnd1/checkM/49/checkm/markers_qa_summary.tsv.172\n",
       "12358 /ebio/abt3_projects/Anxiety_Twins_Metagenomes/data/metagenome/TUK-5projects/LLMGA/v0.12/LLG/rnd1/checkM/50/checkm/markers_qa_summary.tsv.220\n",
       "      Domain      Phylum               Class              Order                \n",
       "1     d__Bacteria p__Bacteroidota      c__Bacteroidia     o__Bacteroidales     \n",
       "2     d__Bacteria p__Bacteroidota      c__Bacteroidia     o__Bacteroidales     \n",
       "⋮     ⋮           ⋮                    ⋮                  ⋮                    \n",
       "12357 d__Archaea  p__Methanobacteriota c__Methanobacteria o__Methanobacteriales\n",
       "12358 d__Archaea  p__Methanobacteriota c__Methanobacteria o__Methanobacteriales\n",
       "      Family                 Genus                  \n",
       "1     f__Rikenellaceae       g__Tidjanibacter       \n",
       "2     f__Rikenellaceae       g__Alistipes_A         \n",
       "⋮     ⋮                      ⋮                      \n",
       "12357 f__Methanobacteriaceae g__Methanobrevibacter_A\n",
       "12358 f__Methanobacteriaceae g__Methanobrevibacter_A\n",
       "      Species                        \n",
       "1     s__Tidjanibacter inops         \n",
       "2     s__Alistipes_A ihumii          \n",
       "⋮     ⋮                              \n",
       "12357 s__Methanobrevibacter_A smithii\n",
       "12358 s__Methanobrevibacter_A smithii"
      ]
     },
     "metadata": {},
     "output_type": "display_data"
    }
   ],
   "source": [
    "# merging\n",
    "drep = drep %>%\n",
    "    inner_join.(checkm, c('Name'='Bin.Id')) %>%\n",
    "    inner_join.(tax, c('Name'='user_genome'))\n",
    "drep"
   ]
  },
  {
   "cell_type": "markdown",
   "metadata": {},
   "source": [
    "#### Writing table"
   ]
  },
  {
   "cell_type": "code",
   "execution_count": 14,
   "metadata": {
    "ExecuteTime": {
     "end_time": "2021-07-30T11:05:32.771055Z",
     "start_time": "2021-07-30T11:05:32.700Z"
    }
   },
   "outputs": [
    {
     "name": "stdout",
     "output_type": "stream",
     "text": [
      "File written: /ebio/abt3_projects/HUBIF_metagenomics/data/pipelines/llg/cophyverttrans/batch2_clusters1-3/round6/HUBIF-TUK-CAM//TUK-anx_MAG_meta.tsv \n"
     ]
    }
   ],
   "source": [
    "D = '/ebio/abt3_projects/HUBIF_metagenomics/data/pipelines/llg/cophyverttrans/batch2_clusters1-3/round6/HUBIF-TUK-CAM/'\n",
    "F = file.path(D, 'TUK-anx_MAG_meta.tsv')\n",
    "write_table(drep, F)"
   ]
  },
  {
   "cell_type": "markdown",
   "metadata": {},
   "source": [
    "# target species"
   ]
  },
  {
   "cell_type": "code",
   "execution_count": 15,
   "metadata": {
    "ExecuteTime": {
     "end_time": "2021-07-30T11:05:40.466871Z",
     "start_time": "2021-07-30T11:05:40.404Z"
    }
   },
   "outputs": [
    {
     "name": "stdout",
     "output_type": "stream",
     "text": [
      "intersect(x,y): 37 \n",
      "setdiff(x,y): 4 \n",
      "setdiff(y,x): 854 \n",
      "union(x,y): 895 \n"
     ]
    }
   ],
   "source": [
    "# checking overlap\n",
    "overlap(stringr::str_to_lower(cophylo_spec$Species), \n",
    "        stringr::str_to_lower(drep$Species) %>% gsub('^s__', '', .))"
   ]
  },
  {
   "cell_type": "code",
   "execution_count": 16,
   "metadata": {
    "ExecuteTime": {
     "end_time": "2021-07-30T11:05:41.746908Z",
     "start_time": "2021-07-30T11:05:41.698Z"
    }
   },
   "outputs": [
    {
     "data": {
      "text/html": [
       "<style>\n",
       ".list-inline {list-style: none; margin:0; padding: 0}\n",
       ".list-inline>li {display: inline-block}\n",
       ".list-inline>li:not(:last-child)::after {content: \"\\00b7\"; padding: 0 .5ex}\n",
       "</style>\n",
       "<ol class=list-inline><li>'bifidobacterium kashiwanohense'</li><li>'dysosmobacter sp001916835'</li><li>'veillonella atypica'</li></ol>\n"
      ],
      "text/latex": [
       "\\begin{enumerate*}\n",
       "\\item 'bifidobacterium kashiwanohense'\n",
       "\\item 'dysosmobacter sp001916835'\n",
       "\\item 'veillonella atypica'\n",
       "\\end{enumerate*}\n"
      ],
      "text/markdown": [
       "1. 'bifidobacterium kashiwanohense'\n",
       "2. 'dysosmobacter sp001916835'\n",
       "3. 'veillonella atypica'\n",
       "\n",
       "\n"
      ],
      "text/plain": [
       "[1] \"bifidobacterium kashiwanohense\" \"dysosmobacter sp001916835\"     \n",
       "[3] \"veillonella atypica\"           "
      ]
     },
     "metadata": {},
     "output_type": "display_data"
    }
   ],
   "source": [
    "# which target species not found?\n",
    "overlap(stringr::str_to_lower(cophylo_spec$Species), \n",
    "        stringr::str_to_lower(drep$Species) %>% gsub('^s__', '', .),\n",
    "        diff='x') %>% sort"
   ]
  },
  {
   "cell_type": "code",
   "execution_count": 17,
   "metadata": {
    "ExecuteTime": {
     "end_time": "2021-07-30T11:05:43.414792Z",
     "start_time": "2021-07-30T11:05:43.330Z"
    }
   },
   "outputs": [
    {
     "name": "stdout",
     "output_type": "stream",
     "text": [
      "No. of unique MAGs: 3204 \n"
     ]
    },
    {
     "data": {
      "text/html": [
       "<table class=\"dataframe\">\n",
       "<caption>A tidytable: 4244 × 43</caption>\n",
       "<thead>\n",
       "\t<tr><th scope=col>genome</th><th scope=col>Fasta</th><th scope=col>Marker.lineage</th><th scope=col>X..genomes</th><th scope=col>X..markers</th><th scope=col>X..marker.sets</th><th scope=col>Completeness</th><th scope=col>Contamination</th><th scope=col>Strain.heterogeneity</th><th scope=col>Genome.size..bp.</th><th scope=col>⋯</th><th scope=col>File</th><th scope=col>Domain</th><th scope=col>Phylum</th><th scope=col>Class</th><th scope=col>Order</th><th scope=col>Family</th><th scope=col>Genus</th><th scope=col>Species</th><th scope=col>spec</th><th scope=col>age_group</th></tr>\n",
       "\t<tr><th scope=col>&lt;chr&gt;</th><th scope=col>&lt;chr&gt;</th><th scope=col>&lt;chr&gt;</th><th scope=col>&lt;int&gt;</th><th scope=col>&lt;int&gt;</th><th scope=col>&lt;int&gt;</th><th scope=col>&lt;dbl&gt;</th><th scope=col>&lt;dbl&gt;</th><th scope=col>&lt;dbl&gt;</th><th scope=col>&lt;int&gt;</th><th scope=col>⋯</th><th scope=col>&lt;chr&gt;</th><th scope=col>&lt;chr&gt;</th><th scope=col>&lt;chr&gt;</th><th scope=col>&lt;chr&gt;</th><th scope=col>&lt;chr&gt;</th><th scope=col>&lt;chr&gt;</th><th scope=col>&lt;chr&gt;</th><th scope=col>&lt;chr&gt;</th><th scope=col>&lt;chr&gt;</th><th scope=col>&lt;chr&gt;</th></tr>\n",
       "</thead>\n",
       "<tbody>\n",
       "\t<tr><td>1002525__metabat2__Low_066_sub</td><td>/ebio/abt3_projects/Anxiety_Twins_Metagenomes/data/metagenome/TUK-5projects/LLMGA/v0.12/LLG/rnd1/drep/drep/dereplicated_genomes/1002525__metabat2__Low.066_sub.fna</td><td>k__Bacteria (UID2372)</td><td>131</td><td>177</td><td>106</td><td> 99.06</td><td>0</td><td>0</td><td>2353307</td><td>⋯</td><td>/ebio/abt3_projects/Anxiety_Twins_Metagenomes/data/metagenome/TUK-5projects/LLMGA/v0.12/LLG/rnd1/checkM/5/checkm/markers_qa_summary.tsv.31  </td><td>d__Bacteria</td><td>p__Firmicutes</td><td>c__Bacilli</td><td>o__Erysipelotrichales</td><td>f__Erysipelatoclostridiaceae</td><td>g__Catenibacterium</td><td>s__Catenibacterium mitsuokai</td><td>catenibacterium mitsuokai</td><td>adult</td></tr>\n",
       "\t<tr><td>1003422__vamb__Low_106        </td><td>/ebio/abt3_projects/Anxiety_Twins_Metagenomes/data/metagenome/TUK-5projects/LLMGA/v0.12/LLG/rnd1/drep/drep/dereplicated_genomes/1003422__vamb__Low.106.fna        </td><td>k__Bacteria (UID2372)</td><td>131</td><td>177</td><td>106</td><td>100.00</td><td>0</td><td>0</td><td>2075274</td><td>⋯</td><td>/ebio/abt3_projects/Anxiety_Twins_Metagenomes/data/metagenome/TUK-5projects/LLMGA/v0.12/LLG/rnd1/checkM/11/checkm/markers_qa_summary.tsv.124</td><td>d__Bacteria</td><td>p__Firmicutes</td><td>c__Bacilli</td><td>o__Erysipelotrichales</td><td>f__Erysipelatoclostridiaceae</td><td>g__Catenibacterium</td><td>s__Catenibacterium mitsuokai</td><td>catenibacterium mitsuokai</td><td>adult</td></tr>\n",
       "\t<tr><td>⋮</td><td>⋮</td><td>⋮</td><td>⋮</td><td>⋮</td><td>⋮</td><td>⋮</td><td>⋮</td><td>⋮</td><td>⋮</td><td>⋱</td><td>⋮</td><td>⋮</td><td>⋮</td><td>⋮</td><td>⋮</td><td>⋮</td><td>⋮</td><td>⋮</td><td>⋮</td><td>⋮</td></tr>\n",
       "\t<tr><td>1003504__metabat2__Med_002_sub    </td><td>/ebio/abt3_projects/Anxiety_Twins_Metagenomes/data/metagenome/TUK-5projects/LLMGA/v0.12/LLG/rnd1/drep/drep/dereplicated_genomes/1003504__metabat2__Med.002_sub.fna    </td><td>o__Clostridiales (UID1226)</td><td>155</td><td>278</td><td>158</td><td>98.73</td><td>3.48</td><td>16.67</td><td>3757395</td><td>⋯</td><td>/ebio/abt3_projects/Anxiety_Twins_Metagenomes/data/metagenome/TUK-5projects/LLMGA/v0.12/LLG/rnd1/checkM/49/checkm/markers_qa_summary.tsv.159</td><td>d__Bacteria</td><td>p__Firmicutes_A</td><td>c__Clostridia</td><td>o__Lachnospirales</td><td>f__Lachnospiraceae</td><td>g__Blautia_A</td><td>s__Blautia_A wexlerae</td><td>blautia_a wexlerae</td><td>infant</td></tr>\n",
       "\t<tr><td>ERR3451523__metabat2__High_042_sub</td><td>/ebio/abt3_projects/Anxiety_Twins_Metagenomes/data/metagenome/TUK-5projects/LLMGA/v0.12/LLG/rnd1/drep/drep/dereplicated_genomes/ERR3451523__metabat2__High.042_sub.fna</td><td>o__Clostridiales (UID1226)</td><td>155</td><td>278</td><td>158</td><td>87.18</td><td>1.08</td><td>66.67</td><td>2754096</td><td>⋯</td><td>/ebio/abt3_projects/Anxiety_Twins_Metagenomes/data/metagenome/TUK-5projects/LLMGA/v0.12/LLG/rnd1/checkM/50/checkm/markers_qa_summary.tsv.278</td><td>d__Bacteria</td><td>p__Firmicutes_A</td><td>c__Clostridia</td><td>o__Lachnospirales</td><td>f__Lachnospiraceae</td><td>g__Blautia_A</td><td>s__Blautia_A wexlerae</td><td>blautia_a wexlerae</td><td>infant</td></tr>\n",
       "</tbody>\n",
       "</table>\n"
      ],
      "text/latex": [
       "A tidytable: 4244 × 43\n",
       "\\begin{tabular}{lllllllllllllllllllll}\n",
       " genome & Fasta & Marker.lineage & X..genomes & X..markers & X..marker.sets & Completeness & Contamination & Strain.heterogeneity & Genome.size..bp. & ⋯ & File & Domain & Phylum & Class & Order & Family & Genus & Species & spec & age\\_group\\\\\n",
       " <chr> & <chr> & <chr> & <int> & <int> & <int> & <dbl> & <dbl> & <dbl> & <int> & ⋯ & <chr> & <chr> & <chr> & <chr> & <chr> & <chr> & <chr> & <chr> & <chr> & <chr>\\\\\n",
       "\\hline\n",
       "\t 1002525\\_\\_metabat2\\_\\_Low\\_066\\_sub & /ebio/abt3\\_projects/Anxiety\\_Twins\\_Metagenomes/data/metagenome/TUK-5projects/LLMGA/v0.12/LLG/rnd1/drep/drep/dereplicated\\_genomes/1002525\\_\\_metabat2\\_\\_Low.066\\_sub.fna & k\\_\\_Bacteria (UID2372) & 131 & 177 & 106 &  99.06 & 0 & 0 & 2353307 & ⋯ & /ebio/abt3\\_projects/Anxiety\\_Twins\\_Metagenomes/data/metagenome/TUK-5projects/LLMGA/v0.12/LLG/rnd1/checkM/5/checkm/markers\\_qa\\_summary.tsv.31   & d\\_\\_Bacteria & p\\_\\_Firmicutes & c\\_\\_Bacilli & o\\_\\_Erysipelotrichales & f\\_\\_Erysipelatoclostridiaceae & g\\_\\_Catenibacterium & s\\_\\_Catenibacterium mitsuokai & catenibacterium mitsuokai & adult\\\\\n",
       "\t 1003422\\_\\_vamb\\_\\_Low\\_106         & /ebio/abt3\\_projects/Anxiety\\_Twins\\_Metagenomes/data/metagenome/TUK-5projects/LLMGA/v0.12/LLG/rnd1/drep/drep/dereplicated\\_genomes/1003422\\_\\_vamb\\_\\_Low.106.fna         & k\\_\\_Bacteria (UID2372) & 131 & 177 & 106 & 100.00 & 0 & 0 & 2075274 & ⋯ & /ebio/abt3\\_projects/Anxiety\\_Twins\\_Metagenomes/data/metagenome/TUK-5projects/LLMGA/v0.12/LLG/rnd1/checkM/11/checkm/markers\\_qa\\_summary.tsv.124 & d\\_\\_Bacteria & p\\_\\_Firmicutes & c\\_\\_Bacilli & o\\_\\_Erysipelotrichales & f\\_\\_Erysipelatoclostridiaceae & g\\_\\_Catenibacterium & s\\_\\_Catenibacterium mitsuokai & catenibacterium mitsuokai & adult\\\\\n",
       "\t ⋮ & ⋮ & ⋮ & ⋮ & ⋮ & ⋮ & ⋮ & ⋮ & ⋮ & ⋮ & ⋱ & ⋮ & ⋮ & ⋮ & ⋮ & ⋮ & ⋮ & ⋮ & ⋮ & ⋮ & ⋮\\\\\n",
       "\t 1003504\\_\\_metabat2\\_\\_Med\\_002\\_sub     & /ebio/abt3\\_projects/Anxiety\\_Twins\\_Metagenomes/data/metagenome/TUK-5projects/LLMGA/v0.12/LLG/rnd1/drep/drep/dereplicated\\_genomes/1003504\\_\\_metabat2\\_\\_Med.002\\_sub.fna     & o\\_\\_Clostridiales (UID1226) & 155 & 278 & 158 & 98.73 & 3.48 & 16.67 & 3757395 & ⋯ & /ebio/abt3\\_projects/Anxiety\\_Twins\\_Metagenomes/data/metagenome/TUK-5projects/LLMGA/v0.12/LLG/rnd1/checkM/49/checkm/markers\\_qa\\_summary.tsv.159 & d\\_\\_Bacteria & p\\_\\_Firmicutes\\_A & c\\_\\_Clostridia & o\\_\\_Lachnospirales & f\\_\\_Lachnospiraceae & g\\_\\_Blautia\\_A & s\\_\\_Blautia\\_A wexlerae & blautia\\_a wexlerae & infant\\\\\n",
       "\t ERR3451523\\_\\_metabat2\\_\\_High\\_042\\_sub & /ebio/abt3\\_projects/Anxiety\\_Twins\\_Metagenomes/data/metagenome/TUK-5projects/LLMGA/v0.12/LLG/rnd1/drep/drep/dereplicated\\_genomes/ERR3451523\\_\\_metabat2\\_\\_High.042\\_sub.fna & o\\_\\_Clostridiales (UID1226) & 155 & 278 & 158 & 87.18 & 1.08 & 66.67 & 2754096 & ⋯ & /ebio/abt3\\_projects/Anxiety\\_Twins\\_Metagenomes/data/metagenome/TUK-5projects/LLMGA/v0.12/LLG/rnd1/checkM/50/checkm/markers\\_qa\\_summary.tsv.278 & d\\_\\_Bacteria & p\\_\\_Firmicutes\\_A & c\\_\\_Clostridia & o\\_\\_Lachnospirales & f\\_\\_Lachnospiraceae & g\\_\\_Blautia\\_A & s\\_\\_Blautia\\_A wexlerae & blautia\\_a wexlerae & infant\\\\\n",
       "\\end{tabular}\n"
      ],
      "text/markdown": [
       "\n",
       "A tidytable: 4244 × 43\n",
       "\n",
       "| genome &lt;chr&gt; | Fasta &lt;chr&gt; | Marker.lineage &lt;chr&gt; | X..genomes &lt;int&gt; | X..markers &lt;int&gt; | X..marker.sets &lt;int&gt; | Completeness &lt;dbl&gt; | Contamination &lt;dbl&gt; | Strain.heterogeneity &lt;dbl&gt; | Genome.size..bp. &lt;int&gt; | ⋯ ⋯ | File &lt;chr&gt; | Domain &lt;chr&gt; | Phylum &lt;chr&gt; | Class &lt;chr&gt; | Order &lt;chr&gt; | Family &lt;chr&gt; | Genus &lt;chr&gt; | Species &lt;chr&gt; | spec &lt;chr&gt; | age_group &lt;chr&gt; |\n",
       "|---|---|---|---|---|---|---|---|---|---|---|---|---|---|---|---|---|---|---|---|---|\n",
       "| 1002525__metabat2__Low_066_sub | /ebio/abt3_projects/Anxiety_Twins_Metagenomes/data/metagenome/TUK-5projects/LLMGA/v0.12/LLG/rnd1/drep/drep/dereplicated_genomes/1002525__metabat2__Low.066_sub.fna | k__Bacteria (UID2372) | 131 | 177 | 106 |  99.06 | 0 | 0 | 2353307 | ⋯ | /ebio/abt3_projects/Anxiety_Twins_Metagenomes/data/metagenome/TUK-5projects/LLMGA/v0.12/LLG/rnd1/checkM/5/checkm/markers_qa_summary.tsv.31   | d__Bacteria | p__Firmicutes | c__Bacilli | o__Erysipelotrichales | f__Erysipelatoclostridiaceae | g__Catenibacterium | s__Catenibacterium mitsuokai | catenibacterium mitsuokai | adult |\n",
       "| 1003422__vamb__Low_106         | /ebio/abt3_projects/Anxiety_Twins_Metagenomes/data/metagenome/TUK-5projects/LLMGA/v0.12/LLG/rnd1/drep/drep/dereplicated_genomes/1003422__vamb__Low.106.fna         | k__Bacteria (UID2372) | 131 | 177 | 106 | 100.00 | 0 | 0 | 2075274 | ⋯ | /ebio/abt3_projects/Anxiety_Twins_Metagenomes/data/metagenome/TUK-5projects/LLMGA/v0.12/LLG/rnd1/checkM/11/checkm/markers_qa_summary.tsv.124 | d__Bacteria | p__Firmicutes | c__Bacilli | o__Erysipelotrichales | f__Erysipelatoclostridiaceae | g__Catenibacterium | s__Catenibacterium mitsuokai | catenibacterium mitsuokai | adult |\n",
       "| ⋮ | ⋮ | ⋮ | ⋮ | ⋮ | ⋮ | ⋮ | ⋮ | ⋮ | ⋮ | ⋱ | ⋮ | ⋮ | ⋮ | ⋮ | ⋮ | ⋮ | ⋮ | ⋮ | ⋮ | ⋮ |\n",
       "| 1003504__metabat2__Med_002_sub     | /ebio/abt3_projects/Anxiety_Twins_Metagenomes/data/metagenome/TUK-5projects/LLMGA/v0.12/LLG/rnd1/drep/drep/dereplicated_genomes/1003504__metabat2__Med.002_sub.fna     | o__Clostridiales (UID1226) | 155 | 278 | 158 | 98.73 | 3.48 | 16.67 | 3757395 | ⋯ | /ebio/abt3_projects/Anxiety_Twins_Metagenomes/data/metagenome/TUK-5projects/LLMGA/v0.12/LLG/rnd1/checkM/49/checkm/markers_qa_summary.tsv.159 | d__Bacteria | p__Firmicutes_A | c__Clostridia | o__Lachnospirales | f__Lachnospiraceae | g__Blautia_A | s__Blautia_A wexlerae | blautia_a wexlerae | infant |\n",
       "| ERR3451523__metabat2__High_042_sub | /ebio/abt3_projects/Anxiety_Twins_Metagenomes/data/metagenome/TUK-5projects/LLMGA/v0.12/LLG/rnd1/drep/drep/dereplicated_genomes/ERR3451523__metabat2__High.042_sub.fna | o__Clostridiales (UID1226) | 155 | 278 | 158 | 87.18 | 1.08 | 66.67 | 2754096 | ⋯ | /ebio/abt3_projects/Anxiety_Twins_Metagenomes/data/metagenome/TUK-5projects/LLMGA/v0.12/LLG/rnd1/checkM/50/checkm/markers_qa_summary.tsv.278 | d__Bacteria | p__Firmicutes_A | c__Clostridia | o__Lachnospirales | f__Lachnospiraceae | g__Blautia_A | s__Blautia_A wexlerae | blautia_a wexlerae | infant |\n",
       "\n"
      ],
      "text/plain": [
       "     genome                            \n",
       "1    1002525__metabat2__Low_066_sub    \n",
       "2    1003422__vamb__Low_106            \n",
       "⋮    ⋮                                 \n",
       "4243 1003504__metabat2__Med_002_sub    \n",
       "4244 ERR3451523__metabat2__High_042_sub\n",
       "     Fasta                                                                                                                                                                 \n",
       "1    /ebio/abt3_projects/Anxiety_Twins_Metagenomes/data/metagenome/TUK-5projects/LLMGA/v0.12/LLG/rnd1/drep/drep/dereplicated_genomes/1002525__metabat2__Low.066_sub.fna    \n",
       "2    /ebio/abt3_projects/Anxiety_Twins_Metagenomes/data/metagenome/TUK-5projects/LLMGA/v0.12/LLG/rnd1/drep/drep/dereplicated_genomes/1003422__vamb__Low.106.fna            \n",
       "⋮    ⋮                                                                                                                                                                     \n",
       "4243 /ebio/abt3_projects/Anxiety_Twins_Metagenomes/data/metagenome/TUK-5projects/LLMGA/v0.12/LLG/rnd1/drep/drep/dereplicated_genomes/1003504__metabat2__Med.002_sub.fna    \n",
       "4244 /ebio/abt3_projects/Anxiety_Twins_Metagenomes/data/metagenome/TUK-5projects/LLMGA/v0.12/LLG/rnd1/drep/drep/dereplicated_genomes/ERR3451523__metabat2__High.042_sub.fna\n",
       "     Marker.lineage             X..genomes X..markers X..marker.sets\n",
       "1    k__Bacteria (UID2372)      131        177        106           \n",
       "2    k__Bacteria (UID2372)      131        177        106           \n",
       "⋮    ⋮                          ⋮          ⋮          ⋮             \n",
       "4243 o__Clostridiales (UID1226) 155        278        158           \n",
       "4244 o__Clostridiales (UID1226) 155        278        158           \n",
       "     Completeness Contamination Strain.heterogeneity Genome.size..bp. ⋯\n",
       "1     99.06       0             0                    2353307          ⋯\n",
       "2    100.00       0             0                    2075274          ⋯\n",
       "⋮    ⋮            ⋮             ⋮                    ⋮                ⋱\n",
       "4243 98.73        3.48          16.67                3757395          ⋯\n",
       "4244 87.18        1.08          66.67                2754096          ⋯\n",
       "     File                                                                                                                                        \n",
       "1    /ebio/abt3_projects/Anxiety_Twins_Metagenomes/data/metagenome/TUK-5projects/LLMGA/v0.12/LLG/rnd1/checkM/5/checkm/markers_qa_summary.tsv.31  \n",
       "2    /ebio/abt3_projects/Anxiety_Twins_Metagenomes/data/metagenome/TUK-5projects/LLMGA/v0.12/LLG/rnd1/checkM/11/checkm/markers_qa_summary.tsv.124\n",
       "⋮    ⋮                                                                                                                                           \n",
       "4243 /ebio/abt3_projects/Anxiety_Twins_Metagenomes/data/metagenome/TUK-5projects/LLMGA/v0.12/LLG/rnd1/checkM/49/checkm/markers_qa_summary.tsv.159\n",
       "4244 /ebio/abt3_projects/Anxiety_Twins_Metagenomes/data/metagenome/TUK-5projects/LLMGA/v0.12/LLG/rnd1/checkM/50/checkm/markers_qa_summary.tsv.278\n",
       "     Domain      Phylum          Class         Order                \n",
       "1    d__Bacteria p__Firmicutes   c__Bacilli    o__Erysipelotrichales\n",
       "2    d__Bacteria p__Firmicutes   c__Bacilli    o__Erysipelotrichales\n",
       "⋮    ⋮           ⋮               ⋮             ⋮                    \n",
       "4243 d__Bacteria p__Firmicutes_A c__Clostridia o__Lachnospirales    \n",
       "4244 d__Bacteria p__Firmicutes_A c__Clostridia o__Lachnospirales    \n",
       "     Family                       Genus             \n",
       "1    f__Erysipelatoclostridiaceae g__Catenibacterium\n",
       "2    f__Erysipelatoclostridiaceae g__Catenibacterium\n",
       "⋮    ⋮                            ⋮                 \n",
       "4243 f__Lachnospiraceae           g__Blautia_A      \n",
       "4244 f__Lachnospiraceae           g__Blautia_A      \n",
       "     Species                      spec                      age_group\n",
       "1    s__Catenibacterium mitsuokai catenibacterium mitsuokai adult    \n",
       "2    s__Catenibacterium mitsuokai catenibacterium mitsuokai adult    \n",
       "⋮    ⋮                            ⋮                         ⋮        \n",
       "4243 s__Blautia_A wexlerae        blautia_a wexlerae        infant   \n",
       "4244 s__Blautia_A wexlerae        blautia_a wexlerae        infant   "
      ]
     },
     "metadata": {},
     "output_type": "display_data"
    }
   ],
   "source": [
    "# filtering to just co-phylo species\n",
    "drep_f = drep %>%\n",
    "    mutate.(spec = stringr::str_to_lower(gsub('^s__', '', Species))) %>%\n",
    "    inner_join.(cophylo_spec %>%\n",
    "                    mutate.(spec = stringr::str_to_lower(Species)) %>%\n",
    "                    distinct.(spec, age_group),\n",
    "               by=c('spec')) %>%\n",
    "    rename.('genome' = Name)\n",
    "drep_f$genome %>% unique_n('MAGs')\n",
    "drep_f"
   ]
  },
  {
   "cell_type": "markdown",
   "metadata": {},
   "source": [
    "### Summary"
   ]
  },
  {
   "cell_type": "code",
   "execution_count": 18,
   "metadata": {
    "ExecuteTime": {
     "end_time": "2021-07-30T11:05:45.509119Z",
     "start_time": "2021-07-30T11:05:45.451Z"
    }
   },
   "outputs": [
    {
     "data": {
      "text/html": [
       "<table class=\"dataframe\">\n",
       "<caption>A matrix: 1 × 8 of type dbl</caption>\n",
       "<thead>\n",
       "\t<tr><th></th><th scope=col>Min.</th><th scope=col>1st Qu.</th><th scope=col>Median</th><th scope=col>Mean</th><th scope=col>3rd Qu.</th><th scope=col>Max.</th><th scope=col>sd</th><th scope=col>sd_err_of_mean</th></tr>\n",
       "</thead>\n",
       "<tbody>\n",
       "\t<tr><th scope=row>Completeness</th><td>50.13</td><td>92.11</td><td>97.08</td><td>92.99456</td><td>98.66</td><td>100</td><td>19.05</td><td>7.777</td></tr>\n",
       "</tbody>\n",
       "</table>\n"
      ],
      "text/latex": [
       "A matrix: 1 × 8 of type dbl\n",
       "\\begin{tabular}{r|llllllll}\n",
       "  & Min. & 1st Qu. & Median & Mean & 3rd Qu. & Max. & sd & sd\\_err\\_of\\_mean\\\\\n",
       "\\hline\n",
       "\tCompleteness & 50.13 & 92.11 & 97.08 & 92.99456 & 98.66 & 100 & 19.05 & 7.777\\\\\n",
       "\\end{tabular}\n"
      ],
      "text/markdown": [
       "\n",
       "A matrix: 1 × 8 of type dbl\n",
       "\n",
       "| <!--/--> | Min. | 1st Qu. | Median | Mean | 3rd Qu. | Max. | sd | sd_err_of_mean |\n",
       "|---|---|---|---|---|---|---|---|---|\n",
       "| Completeness | 50.13 | 92.11 | 97.08 | 92.99456 | 98.66 | 100 | 19.05 | 7.777 |\n",
       "\n"
      ],
      "text/plain": [
       "             Min.  1st Qu. Median Mean     3rd Qu. Max. sd    sd_err_of_mean\n",
       "Completeness 50.13 92.11   97.08  92.99456 98.66   100  19.05 7.777         "
      ]
     },
     "metadata": {},
     "output_type": "display_data"
    },
    {
     "data": {
      "text/html": [
       "<table class=\"dataframe\">\n",
       "<caption>A matrix: 1 × 8 of type dbl</caption>\n",
       "<thead>\n",
       "\t<tr><th></th><th scope=col>Min.</th><th scope=col>1st Qu.</th><th scope=col>Median</th><th scope=col>Mean</th><th scope=col>3rd Qu.</th><th scope=col>Max.</th><th scope=col>sd</th><th scope=col>sd_err_of_mean</th></tr>\n",
       "</thead>\n",
       "<tbody>\n",
       "\t<tr><th scope=row>Contamination</th><td>0</td><td>0.32</td><td>0.85</td><td>1.117743</td><td>1.67</td><td>4.99</td><td>1.812</td><td>0.74</td></tr>\n",
       "</tbody>\n",
       "</table>\n"
      ],
      "text/latex": [
       "A matrix: 1 × 8 of type dbl\n",
       "\\begin{tabular}{r|llllllll}\n",
       "  & Min. & 1st Qu. & Median & Mean & 3rd Qu. & Max. & sd & sd\\_err\\_of\\_mean\\\\\n",
       "\\hline\n",
       "\tContamination & 0 & 0.32 & 0.85 & 1.117743 & 1.67 & 4.99 & 1.812 & 0.74\\\\\n",
       "\\end{tabular}\n"
      ],
      "text/markdown": [
       "\n",
       "A matrix: 1 × 8 of type dbl\n",
       "\n",
       "| <!--/--> | Min. | 1st Qu. | Median | Mean | 3rd Qu. | Max. | sd | sd_err_of_mean |\n",
       "|---|---|---|---|---|---|---|---|---|\n",
       "| Contamination | 0 | 0.32 | 0.85 | 1.117743 | 1.67 | 4.99 | 1.812 | 0.74 |\n",
       "\n"
      ],
      "text/plain": [
       "              Min. 1st Qu. Median Mean     3rd Qu. Max. sd    sd_err_of_mean\n",
       "Contamination 0    0.32    0.85   1.117743 1.67    4.99 1.812 0.74          "
      ]
     },
     "metadata": {},
     "output_type": "display_data"
    },
    {
     "data": {
      "text/html": [
       "<table class=\"dataframe\">\n",
       "<caption>A matrix: 1 × 8 of type dbl</caption>\n",
       "<thead>\n",
       "\t<tr><th></th><th scope=col>Min.</th><th scope=col>1st Qu.</th><th scope=col>Median</th><th scope=col>Mean</th><th scope=col>3rd Qu.</th><th scope=col>Max.</th><th scope=col>sd</th><th scope=col>sd_err_of_mean</th></tr>\n",
       "</thead>\n",
       "<tbody>\n",
       "\t<tr><th scope=row>X..contigs</th><td>6</td><td>79</td><td>192</td><td>255.6784</td><td>403</td><td>1156</td><td>419.063</td><td>171.082</td></tr>\n",
       "</tbody>\n",
       "</table>\n"
      ],
      "text/latex": [
       "A matrix: 1 × 8 of type dbl\n",
       "\\begin{tabular}{r|llllllll}\n",
       "  & Min. & 1st Qu. & Median & Mean & 3rd Qu. & Max. & sd & sd\\_err\\_of\\_mean\\\\\n",
       "\\hline\n",
       "\tX..contigs & 6 & 79 & 192 & 255.6784 & 403 & 1156 & 419.063 & 171.082\\\\\n",
       "\\end{tabular}\n"
      ],
      "text/markdown": [
       "\n",
       "A matrix: 1 × 8 of type dbl\n",
       "\n",
       "| <!--/--> | Min. | 1st Qu. | Median | Mean | 3rd Qu. | Max. | sd | sd_err_of_mean |\n",
       "|---|---|---|---|---|---|---|---|---|\n",
       "| X..contigs | 6 | 79 | 192 | 255.6784 | 403 | 1156 | 419.063 | 171.082 |\n",
       "\n"
      ],
      "text/plain": [
       "           Min. 1st Qu. Median Mean     3rd Qu. Max. sd      sd_err_of_mean\n",
       "X..contigs 6    79      192    255.6784 403     1156 419.063 171.082       "
      ]
     },
     "metadata": {},
     "output_type": "display_data"
    },
    {
     "data": {
      "text/html": [
       "<table class=\"dataframe\">\n",
       "<caption>A matrix: 1 × 8 of type dbl</caption>\n",
       "<thead>\n",
       "\t<tr><th></th><th scope=col>Min.</th><th scope=col>1st Qu.</th><th scope=col>Median</th><th scope=col>Mean</th><th scope=col>3rd Qu.</th><th scope=col>Max.</th><th scope=col>sd</th><th scope=col>sd_err_of_mean</th></tr>\n",
       "</thead>\n",
       "<tbody>\n",
       "\t<tr><th scope=row>N50..contigs.</th><td>2558</td><td>9805.75</td><td>29750</td><td>55409.1</td><td>79856.5</td><td>751470</td><td>293717.1</td><td>119909.5</td></tr>\n",
       "</tbody>\n",
       "</table>\n"
      ],
      "text/latex": [
       "A matrix: 1 × 8 of type dbl\n",
       "\\begin{tabular}{r|llllllll}\n",
       "  & Min. & 1st Qu. & Median & Mean & 3rd Qu. & Max. & sd & sd\\_err\\_of\\_mean\\\\\n",
       "\\hline\n",
       "\tN50..contigs. & 2558 & 9805.75 & 29750 & 55409.1 & 79856.5 & 751470 & 293717.1 & 119909.5\\\\\n",
       "\\end{tabular}\n"
      ],
      "text/markdown": [
       "\n",
       "A matrix: 1 × 8 of type dbl\n",
       "\n",
       "| <!--/--> | Min. | 1st Qu. | Median | Mean | 3rd Qu. | Max. | sd | sd_err_of_mean |\n",
       "|---|---|---|---|---|---|---|---|---|\n",
       "| N50..contigs. | 2558 | 9805.75 | 29750 | 55409.1 | 79856.5 | 751470 | 293717.1 | 119909.5 |\n",
       "\n"
      ],
      "text/plain": [
       "              Min. 1st Qu. Median Mean    3rd Qu. Max.   sd      \n",
       "N50..contigs. 2558 9805.75 29750  55409.1 79856.5 751470 293717.1\n",
       "              sd_err_of_mean\n",
       "N50..contigs. 119909.5      "
      ]
     },
     "metadata": {},
     "output_type": "display_data"
    }
   ],
   "source": [
    "summary_x(drep_f$Completeness)\n",
    "summary_x(drep_f$Contamination)\n",
    "summary_x(drep_f$X..contigs)\n",
    "summary_x(drep_f$N50..contigs.)"
   ]
  },
  {
   "cell_type": "code",
   "execution_count": 19,
   "metadata": {
    "ExecuteTime": {
     "end_time": "2021-07-30T11:05:46.205955Z",
     "start_time": "2021-07-30T11:05:46.107Z"
    }
   },
   "outputs": [
    {
     "data": {
      "text/html": [
       "<table class=\"dataframe\">\n",
       "<caption>A tidytable: 4 × 2</caption>\n",
       "<thead>\n",
       "\t<tr><th scope=col>taxonomy</th><th scope=col>n</th></tr>\n",
       "\t<tr><th scope=col>&lt;chr&gt;</th><th scope=col>&lt;int&gt;</th></tr>\n",
       "</thead>\n",
       "<tbody>\n",
       "\t<tr><td>p__Bacteroidota;c__Bacteroidia      </td><td>2109</td></tr>\n",
       "\t<tr><td>p__Firmicutes_A;c__Clostridia       </td><td>1719</td></tr>\n",
       "\t<tr><td>p__Actinobacteriota;c__Actinomycetia</td><td> 405</td></tr>\n",
       "\t<tr><td>p__Firmicutes;c__Bacilli            </td><td>  11</td></tr>\n",
       "</tbody>\n",
       "</table>\n"
      ],
      "text/latex": [
       "A tidytable: 4 × 2\n",
       "\\begin{tabular}{ll}\n",
       " taxonomy & n\\\\\n",
       " <chr> & <int>\\\\\n",
       "\\hline\n",
       "\t p\\_\\_Bacteroidota;c\\_\\_Bacteroidia       & 2109\\\\\n",
       "\t p\\_\\_Firmicutes\\_A;c\\_\\_Clostridia        & 1719\\\\\n",
       "\t p\\_\\_Actinobacteriota;c\\_\\_Actinomycetia &  405\\\\\n",
       "\t p\\_\\_Firmicutes;c\\_\\_Bacilli             &   11\\\\\n",
       "\\end{tabular}\n"
      ],
      "text/markdown": [
       "\n",
       "A tidytable: 4 × 2\n",
       "\n",
       "| taxonomy &lt;chr&gt; | n &lt;int&gt; |\n",
       "|---|---|\n",
       "| p__Bacteroidota;c__Bacteroidia       | 2109 |\n",
       "| p__Firmicutes_A;c__Clostridia        | 1719 |\n",
       "| p__Actinobacteriota;c__Actinomycetia |  405 |\n",
       "| p__Firmicutes;c__Bacilli             |   11 |\n",
       "\n"
      ],
      "text/plain": [
       "  taxonomy                             n   \n",
       "1 p__Bacteroidota;c__Bacteroidia       2109\n",
       "2 p__Firmicutes_A;c__Clostridia        1719\n",
       "3 p__Actinobacteriota;c__Actinomycetia  405\n",
       "4 p__Firmicutes;c__Bacilli               11"
      ]
     },
     "metadata": {},
     "output_type": "display_data"
    }
   ],
   "source": [
    "# by class\n",
    "df.dims(50)\n",
    "drep_f %>%\n",
    "    mutate.(taxonomy = paste(Phylum, Class, sep=';')) %>%\n",
    "    summarize.(n = n.(),\n",
    "               .by=c(taxonomy)) %>%\n",
    "    arrange.(-n)\n",
    "df.dims()"
   ]
  },
  {
   "cell_type": "code",
   "execution_count": 20,
   "metadata": {
    "ExecuteTime": {
     "end_time": "2021-07-30T11:05:47.412084Z",
     "start_time": "2021-07-30T11:05:47.291Z"
    }
   },
   "outputs": [
    {
     "data": {
      "text/html": [
       "<table class=\"dataframe\">\n",
       "<caption>A tidytable: 47 × 8</caption>\n",
       "<thead>\n",
       "\t<tr><th scope=col>Phylum</th><th scope=col>Class</th><th scope=col>Order</th><th scope=col>Family</th><th scope=col>Genus</th><th scope=col>Species</th><th scope=col>age_group</th><th scope=col>n</th></tr>\n",
       "\t<tr><th scope=col>&lt;chr&gt;</th><th scope=col>&lt;chr&gt;</th><th scope=col>&lt;chr&gt;</th><th scope=col>&lt;chr&gt;</th><th scope=col>&lt;chr&gt;</th><th scope=col>&lt;chr&gt;</th><th scope=col>&lt;chr&gt;</th><th scope=col>&lt;int&gt;</th></tr>\n",
       "</thead>\n",
       "<tbody>\n",
       "\t<tr><td>p__Bacteroidota    </td><td>c__Bacteroidia  </td><td>o__Bacteroidales     </td><td>f__Bacteroidaceae           </td><td>g__Bacteroides        </td><td>s__Bacteroides uniformis          </td><td>adult </td><td>260</td></tr>\n",
       "\t<tr><td>p__Firmicutes_A    </td><td>c__Clostridia   </td><td>o__Lachnospirales    </td><td>f__Lachnospiraceae          </td><td>g__Agathobacter       </td><td>s__Agathobacter rectalis          </td><td>adult </td><td>210</td></tr>\n",
       "\t<tr><td>p__Bacteroidota    </td><td>c__Bacteroidia  </td><td>o__Bacteroidales     </td><td>f__Rikenellaceae            </td><td>g__Alistipes          </td><td>s__Alistipes putredinis           </td><td>adult </td><td>202</td></tr>\n",
       "\t<tr><td>p__Bacteroidota    </td><td>c__Bacteroidia  </td><td>o__Bacteroidales     </td><td>f__Bacteroidaceae           </td><td>g__Phocaeicola        </td><td>s__Phocaeicola vulgatus           </td><td>adult </td><td>197</td></tr>\n",
       "\t<tr><td>p__Firmicutes_A    </td><td>c__Clostridia   </td><td>o__Lachnospirales    </td><td>f__Lachnospiraceae          </td><td>g__Anaerostipes       </td><td>s__Anaerostipes hadrus            </td><td>adult </td><td>153</td></tr>\n",
       "\t<tr><td>p__Bacteroidota    </td><td>c__Bacteroidia  </td><td>o__Bacteroidales     </td><td>f__Barnesiellaceae          </td><td>g__Barnesiella        </td><td>s__Barnesiella intestinihominis   </td><td>adult </td><td>153</td></tr>\n",
       "\t<tr><td>p__Firmicutes_A    </td><td>c__Clostridia   </td><td>o__Lachnospirales    </td><td>f__Lachnospiraceae          </td><td>g__Fusicatenibacter   </td><td>s__Fusicatenibacter saccharivorans</td><td>adult </td><td>142</td></tr>\n",
       "\t<tr><td>p__Firmicutes_A    </td><td>c__Clostridia   </td><td>o__Lachnospirales    </td><td>f__Lachnospiraceae          </td><td>g__Blautia_A          </td><td>s__Blautia_A wexlerae             </td><td>adult </td><td>139</td></tr>\n",
       "\t<tr><td>p__Actinobacteriota</td><td>c__Actinomycetia</td><td>o__Actinomycetales   </td><td>f__Bifidobacteriaceae       </td><td>g__Bifidobacterium    </td><td>s__Bifidobacterium longum         </td><td>adult </td><td>130</td></tr>\n",
       "\t<tr><td>p__Firmicutes_A    </td><td>c__Clostridia   </td><td>o__Oscillospirales   </td><td>f__Ruminococcaceae          </td><td>g__Ruminococcus_D     </td><td>s__Ruminococcus_D bicirculans     </td><td>adult </td><td>125</td></tr>\n",
       "\t<tr><td>p__Bacteroidota    </td><td>c__Bacteroidia  </td><td>o__Bacteroidales     </td><td>f__Tannerellaceae           </td><td>g__Parabacteroides    </td><td>s__Parabacteroides distasonis     </td><td>adult </td><td>120</td></tr>\n",
       "\t<tr><td>p__Firmicutes_A    </td><td>c__Clostridia   </td><td>o__Lachnospirales    </td><td>f__Lachnospiraceae          </td><td>g__Anaerobutyricum    </td><td>s__Anaerobutyricum hallii         </td><td>adult </td><td>112</td></tr>\n",
       "\t<tr><td>p__Actinobacteriota</td><td>c__Actinomycetia</td><td>o__Actinomycetales   </td><td>f__Bifidobacteriaceae       </td><td>g__Bifidobacterium    </td><td>s__Bifidobacterium adolescentis   </td><td>adult </td><td>108</td></tr>\n",
       "\t<tr><td>p__Firmicutes_A    </td><td>c__Clostridia   </td><td>o__Lachnospirales    </td><td>f__Lachnospiraceae          </td><td>g__Lachnospira        </td><td>s__Lachnospira eligens_B          </td><td>adult </td><td> 94</td></tr>\n",
       "\t<tr><td>p__Firmicutes_A    </td><td>c__Clostridia   </td><td>o__Lachnospirales    </td><td>f__Lachnospiraceae          </td><td>g__Agathobacter       </td><td>s__Agathobacter faecis            </td><td>adult </td><td> 89</td></tr>\n",
       "\t<tr><td>p__Bacteroidota    </td><td>c__Bacteroidia  </td><td>o__Bacteroidales     </td><td>f__Marinifilaceae           </td><td>g__Odoribacter        </td><td>s__Odoribacter splanchnicus       </td><td>adult </td><td> 88</td></tr>\n",
       "\t<tr><td>p__Bacteroidota    </td><td>c__Bacteroidia  </td><td>o__Bacteroidales     </td><td>f__Tannerellaceae           </td><td>g__Parabacteroides    </td><td>s__Parabacteroides merdae         </td><td>adult </td><td> 88</td></tr>\n",
       "\t<tr><td>p__Firmicutes_A    </td><td>c__Clostridia   </td><td>o__Oscillospirales   </td><td>f__Ruminococcaceae          </td><td>g__Ruminiclostridium_E</td><td>s__Ruminiclostridium_E siraeum    </td><td>adult </td><td> 84</td></tr>\n",
       "\t<tr><td>p__Firmicutes_A    </td><td>c__Clostridia   </td><td>o__Oscillospirales   </td><td>f__Acutalibacteraceae       </td><td>g__CAG-180            </td><td>s__CAG-180 sp000432435            </td><td>adult </td><td> 80</td></tr>\n",
       "\t<tr><td>p__Bacteroidota    </td><td>c__Bacteroidia  </td><td>o__Bacteroidales     </td><td>f__Bacteroidaceae           </td><td>g__Phocaeicola        </td><td>s__Phocaeicola dorei              </td><td>adult </td><td> 80</td></tr>\n",
       "\t<tr><td>p__Firmicutes_A    </td><td>c__Clostridia   </td><td>o__Lachnospirales    </td><td>f__Lachnospiraceae          </td><td>g__Mediterraneibacter </td><td>s__Mediterraneibacter torques     </td><td>adult </td><td> 78</td></tr>\n",
       "\t<tr><td>p__Firmicutes_A    </td><td>c__Clostridia   </td><td>o__Lachnospirales    </td><td>f__Lachnospiraceae          </td><td>g__Bariatricus        </td><td>s__Bariatricus comes              </td><td>adult </td><td> 76</td></tr>\n",
       "\t<tr><td>p__Firmicutes_A    </td><td>c__Clostridia   </td><td>o__Oscillospirales   </td><td>f__Acutalibacteraceae       </td><td>g__Eubacterium_R      </td><td>s__Eubacterium_R sp000436835      </td><td>adult </td><td> 59</td></tr>\n",
       "\t<tr><td>p__Bacteroidota    </td><td>c__Bacteroidia  </td><td>o__Bacteroidales     </td><td>f__Bacteroidaceae           </td><td>g__Bacteroides        </td><td>s__Bacteroides ovatus             </td><td>adult </td><td> 51</td></tr>\n",
       "\t<tr><td>p__Firmicutes_A    </td><td>c__Clostridia   </td><td>o__Lachnospirales    </td><td>f__Lachnospiraceae          </td><td>g__Lachnospira        </td><td>s__Lachnospira rogosae            </td><td>adult </td><td> 41</td></tr>\n",
       "\t<tr><td>p__Bacteroidota    </td><td>c__Bacteroidia  </td><td>o__Bacteroidales     </td><td>f__Bacteroidaceae           </td><td>g__Prevotella         </td><td>s__Prevotella copri               </td><td>adult </td><td> 40</td></tr>\n",
       "\t<tr><td>p__Bacteroidota    </td><td>c__Bacteroidia  </td><td>o__Bacteroidales     </td><td>f__Bacteroidaceae           </td><td>g__Bacteroides        </td><td>s__Bacteroides caccae             </td><td>adult </td><td> 36</td></tr>\n",
       "\t<tr><td>p__Firmicutes_A    </td><td>c__Clostridia   </td><td>o__Lachnospirales    </td><td>f__Lachnospiraceae          </td><td>g__Roseburia          </td><td>s__Roseburia intestinalis         </td><td>adult </td><td> 34</td></tr>\n",
       "\t<tr><td>p__Firmicutes_A    </td><td>c__Clostridia   </td><td>o__Oscillospirales   </td><td>f__Oscillospiraceae         </td><td>g__CAG-83             </td><td>s__CAG-83 sp000435975             </td><td>adult </td><td> 29</td></tr>\n",
       "\t<tr><td>p__Bacteroidota    </td><td>c__Bacteroidia  </td><td>o__Bacteroidales     </td><td>f__Bacteroidaceae           </td><td>g__Bacteroides        </td><td>s__Bacteroides xylanisolvens      </td><td>adult </td><td> 13</td></tr>\n",
       "\t<tr><td>p__Bacteroidota    </td><td>c__Bacteroidia  </td><td>o__Bacteroidales     </td><td>f__Bacteroidaceae           </td><td>g__Bacteroides        </td><td>s__Bacteroides thetaiotaomicron   </td><td>adult </td><td> 10</td></tr>\n",
       "\t<tr><td>p__Firmicutes_A    </td><td>c__Clostridia   </td><td>o__Lachnospirales    </td><td>f__Lachnospiraceae          </td><td>g__Dorea              </td><td>s__Dorea formicigenerans          </td><td>adult </td><td>  9</td></tr>\n",
       "\t<tr><td>p__Firmicutes      </td><td>c__Bacilli      </td><td>o__Erysipelotrichales</td><td>f__Erysipelotrichaceae      </td><td>g__Holdemanella       </td><td>s__Holdemanella biformis          </td><td>adult </td><td>  7</td></tr>\n",
       "\t<tr><td>p__Firmicutes      </td><td>c__Bacilli      </td><td>o__Erysipelotrichales</td><td>f__Erysipelatoclostridiaceae</td><td>g__Catenibacterium    </td><td>s__Catenibacterium mitsuokai      </td><td>adult </td><td>  4</td></tr>\n",
       "\t<tr><td>p__Bacteroidota    </td><td>c__Bacteroidia  </td><td>o__Bacteroidales     </td><td>f__Bacteroidaceae           </td><td>g__Bacteroides        </td><td>s__Bacteroides uniformis          </td><td>infant</td><td>260</td></tr>\n",
       "\t<tr><td>p__Bacteroidota    </td><td>c__Bacteroidia  </td><td>o__Bacteroidales     </td><td>f__Bacteroidaceae           </td><td>g__Phocaeicola        </td><td>s__Phocaeicola vulgatus           </td><td>infant</td><td>197</td></tr>\n",
       "\t<tr><td>p__Firmicutes_A    </td><td>c__Clostridia   </td><td>o__Lachnospirales    </td><td>f__Lachnospiraceae          </td><td>g__Blautia_A          </td><td>s__Blautia_A wexlerae             </td><td>infant</td><td>139</td></tr>\n",
       "\t<tr><td>p__Actinobacteriota</td><td>c__Actinomycetia</td><td>o__Actinomycetales   </td><td>f__Bifidobacteriaceae       </td><td>g__Bifidobacterium    </td><td>s__Bifidobacterium longum         </td><td>infant</td><td>130</td></tr>\n",
       "\t<tr><td>p__Bacteroidota    </td><td>c__Bacteroidia  </td><td>o__Bacteroidales     </td><td>f__Tannerellaceae           </td><td>g__Parabacteroides    </td><td>s__Parabacteroides distasonis     </td><td>infant</td><td>120</td></tr>\n",
       "\t<tr><td>p__Bacteroidota    </td><td>c__Bacteroidia  </td><td>o__Bacteroidales     </td><td>f__Bacteroidaceae           </td><td>g__Phocaeicola        </td><td>s__Phocaeicola dorei              </td><td>infant</td><td> 80</td></tr>\n",
       "\t<tr><td>p__Bacteroidota    </td><td>c__Bacteroidia  </td><td>o__Bacteroidales     </td><td>f__Bacteroidaceae           </td><td>g__Bacteroides        </td><td>s__Bacteroides ovatus             </td><td>infant</td><td> 51</td></tr>\n",
       "\t<tr><td>p__Bacteroidota    </td><td>c__Bacteroidia  </td><td>o__Bacteroidales     </td><td>f__Bacteroidaceae           </td><td>g__Prevotella         </td><td>s__Prevotella copri               </td><td>infant</td><td> 40</td></tr>\n",
       "\t<tr><td>p__Actinobacteriota</td><td>c__Actinomycetia</td><td>o__Actinomycetales   </td><td>f__Bifidobacteriaceae       </td><td>g__Bifidobacterium    </td><td>s__Bifidobacterium bifidum        </td><td>infant</td><td> 36</td></tr>\n",
       "\t<tr><td>p__Firmicutes_A    </td><td>c__Clostridia   </td><td>o__Lachnospirales    </td><td>f__Lachnospiraceae          </td><td>g__Ruminococcus_B     </td><td>s__Ruminococcus_B gnavus          </td><td>infant</td><td> 26</td></tr>\n",
       "\t<tr><td>p__Bacteroidota    </td><td>c__Bacteroidia  </td><td>o__Bacteroidales     </td><td>f__Bacteroidaceae           </td><td>g__Bacteroides        </td><td>s__Bacteroides xylanisolvens      </td><td>infant</td><td> 13</td></tr>\n",
       "\t<tr><td>p__Bacteroidota    </td><td>c__Bacteroidia  </td><td>o__Bacteroidales     </td><td>f__Bacteroidaceae           </td><td>g__Bacteroides        </td><td>s__Bacteroides thetaiotaomicron   </td><td>infant</td><td> 10</td></tr>\n",
       "\t<tr><td>p__Actinobacteriota</td><td>c__Actinomycetia</td><td>o__Actinomycetales   </td><td>f__Bifidobacteriaceae       </td><td>g__Bifidobacterium    </td><td>s__Bifidobacterium breve          </td><td>infant</td><td>  1</td></tr>\n",
       "</tbody>\n",
       "</table>\n"
      ],
      "text/latex": [
       "A tidytable: 47 × 8\n",
       "\\begin{tabular}{llllllll}\n",
       " Phylum & Class & Order & Family & Genus & Species & age\\_group & n\\\\\n",
       " <chr> & <chr> & <chr> & <chr> & <chr> & <chr> & <chr> & <int>\\\\\n",
       "\\hline\n",
       "\t p\\_\\_Bacteroidota     & c\\_\\_Bacteroidia   & o\\_\\_Bacteroidales      & f\\_\\_Bacteroidaceae            & g\\_\\_Bacteroides         & s\\_\\_Bacteroides uniformis           & adult  & 260\\\\\n",
       "\t p\\_\\_Firmicutes\\_A     & c\\_\\_Clostridia    & o\\_\\_Lachnospirales     & f\\_\\_Lachnospiraceae           & g\\_\\_Agathobacter        & s\\_\\_Agathobacter rectalis           & adult  & 210\\\\\n",
       "\t p\\_\\_Bacteroidota     & c\\_\\_Bacteroidia   & o\\_\\_Bacteroidales      & f\\_\\_Rikenellaceae             & g\\_\\_Alistipes           & s\\_\\_Alistipes putredinis            & adult  & 202\\\\\n",
       "\t p\\_\\_Bacteroidota     & c\\_\\_Bacteroidia   & o\\_\\_Bacteroidales      & f\\_\\_Bacteroidaceae            & g\\_\\_Phocaeicola         & s\\_\\_Phocaeicola vulgatus            & adult  & 197\\\\\n",
       "\t p\\_\\_Firmicutes\\_A     & c\\_\\_Clostridia    & o\\_\\_Lachnospirales     & f\\_\\_Lachnospiraceae           & g\\_\\_Anaerostipes        & s\\_\\_Anaerostipes hadrus             & adult  & 153\\\\\n",
       "\t p\\_\\_Bacteroidota     & c\\_\\_Bacteroidia   & o\\_\\_Bacteroidales      & f\\_\\_Barnesiellaceae           & g\\_\\_Barnesiella         & s\\_\\_Barnesiella intestinihominis    & adult  & 153\\\\\n",
       "\t p\\_\\_Firmicutes\\_A     & c\\_\\_Clostridia    & o\\_\\_Lachnospirales     & f\\_\\_Lachnospiraceae           & g\\_\\_Fusicatenibacter    & s\\_\\_Fusicatenibacter saccharivorans & adult  & 142\\\\\n",
       "\t p\\_\\_Firmicutes\\_A     & c\\_\\_Clostridia    & o\\_\\_Lachnospirales     & f\\_\\_Lachnospiraceae           & g\\_\\_Blautia\\_A           & s\\_\\_Blautia\\_A wexlerae              & adult  & 139\\\\\n",
       "\t p\\_\\_Actinobacteriota & c\\_\\_Actinomycetia & o\\_\\_Actinomycetales    & f\\_\\_Bifidobacteriaceae        & g\\_\\_Bifidobacterium     & s\\_\\_Bifidobacterium longum          & adult  & 130\\\\\n",
       "\t p\\_\\_Firmicutes\\_A     & c\\_\\_Clostridia    & o\\_\\_Oscillospirales    & f\\_\\_Ruminococcaceae           & g\\_\\_Ruminococcus\\_D      & s\\_\\_Ruminococcus\\_D bicirculans      & adult  & 125\\\\\n",
       "\t p\\_\\_Bacteroidota     & c\\_\\_Bacteroidia   & o\\_\\_Bacteroidales      & f\\_\\_Tannerellaceae            & g\\_\\_Parabacteroides     & s\\_\\_Parabacteroides distasonis      & adult  & 120\\\\\n",
       "\t p\\_\\_Firmicutes\\_A     & c\\_\\_Clostridia    & o\\_\\_Lachnospirales     & f\\_\\_Lachnospiraceae           & g\\_\\_Anaerobutyricum     & s\\_\\_Anaerobutyricum hallii          & adult  & 112\\\\\n",
       "\t p\\_\\_Actinobacteriota & c\\_\\_Actinomycetia & o\\_\\_Actinomycetales    & f\\_\\_Bifidobacteriaceae        & g\\_\\_Bifidobacterium     & s\\_\\_Bifidobacterium adolescentis    & adult  & 108\\\\\n",
       "\t p\\_\\_Firmicutes\\_A     & c\\_\\_Clostridia    & o\\_\\_Lachnospirales     & f\\_\\_Lachnospiraceae           & g\\_\\_Lachnospira         & s\\_\\_Lachnospira eligens\\_B           & adult  &  94\\\\\n",
       "\t p\\_\\_Firmicutes\\_A     & c\\_\\_Clostridia    & o\\_\\_Lachnospirales     & f\\_\\_Lachnospiraceae           & g\\_\\_Agathobacter        & s\\_\\_Agathobacter faecis             & adult  &  89\\\\\n",
       "\t p\\_\\_Bacteroidota     & c\\_\\_Bacteroidia   & o\\_\\_Bacteroidales      & f\\_\\_Marinifilaceae            & g\\_\\_Odoribacter         & s\\_\\_Odoribacter splanchnicus        & adult  &  88\\\\\n",
       "\t p\\_\\_Bacteroidota     & c\\_\\_Bacteroidia   & o\\_\\_Bacteroidales      & f\\_\\_Tannerellaceae            & g\\_\\_Parabacteroides     & s\\_\\_Parabacteroides merdae          & adult  &  88\\\\\n",
       "\t p\\_\\_Firmicutes\\_A     & c\\_\\_Clostridia    & o\\_\\_Oscillospirales    & f\\_\\_Ruminococcaceae           & g\\_\\_Ruminiclostridium\\_E & s\\_\\_Ruminiclostridium\\_E siraeum     & adult  &  84\\\\\n",
       "\t p\\_\\_Firmicutes\\_A     & c\\_\\_Clostridia    & o\\_\\_Oscillospirales    & f\\_\\_Acutalibacteraceae        & g\\_\\_CAG-180             & s\\_\\_CAG-180 sp000432435             & adult  &  80\\\\\n",
       "\t p\\_\\_Bacteroidota     & c\\_\\_Bacteroidia   & o\\_\\_Bacteroidales      & f\\_\\_Bacteroidaceae            & g\\_\\_Phocaeicola         & s\\_\\_Phocaeicola dorei               & adult  &  80\\\\\n",
       "\t p\\_\\_Firmicutes\\_A     & c\\_\\_Clostridia    & o\\_\\_Lachnospirales     & f\\_\\_Lachnospiraceae           & g\\_\\_Mediterraneibacter  & s\\_\\_Mediterraneibacter torques      & adult  &  78\\\\\n",
       "\t p\\_\\_Firmicutes\\_A     & c\\_\\_Clostridia    & o\\_\\_Lachnospirales     & f\\_\\_Lachnospiraceae           & g\\_\\_Bariatricus         & s\\_\\_Bariatricus comes               & adult  &  76\\\\\n",
       "\t p\\_\\_Firmicutes\\_A     & c\\_\\_Clostridia    & o\\_\\_Oscillospirales    & f\\_\\_Acutalibacteraceae        & g\\_\\_Eubacterium\\_R       & s\\_\\_Eubacterium\\_R sp000436835       & adult  &  59\\\\\n",
       "\t p\\_\\_Bacteroidota     & c\\_\\_Bacteroidia   & o\\_\\_Bacteroidales      & f\\_\\_Bacteroidaceae            & g\\_\\_Bacteroides         & s\\_\\_Bacteroides ovatus              & adult  &  51\\\\\n",
       "\t p\\_\\_Firmicutes\\_A     & c\\_\\_Clostridia    & o\\_\\_Lachnospirales     & f\\_\\_Lachnospiraceae           & g\\_\\_Lachnospira         & s\\_\\_Lachnospira rogosae             & adult  &  41\\\\\n",
       "\t p\\_\\_Bacteroidota     & c\\_\\_Bacteroidia   & o\\_\\_Bacteroidales      & f\\_\\_Bacteroidaceae            & g\\_\\_Prevotella          & s\\_\\_Prevotella copri                & adult  &  40\\\\\n",
       "\t p\\_\\_Bacteroidota     & c\\_\\_Bacteroidia   & o\\_\\_Bacteroidales      & f\\_\\_Bacteroidaceae            & g\\_\\_Bacteroides         & s\\_\\_Bacteroides caccae              & adult  &  36\\\\\n",
       "\t p\\_\\_Firmicutes\\_A     & c\\_\\_Clostridia    & o\\_\\_Lachnospirales     & f\\_\\_Lachnospiraceae           & g\\_\\_Roseburia           & s\\_\\_Roseburia intestinalis          & adult  &  34\\\\\n",
       "\t p\\_\\_Firmicutes\\_A     & c\\_\\_Clostridia    & o\\_\\_Oscillospirales    & f\\_\\_Oscillospiraceae          & g\\_\\_CAG-83              & s\\_\\_CAG-83 sp000435975              & adult  &  29\\\\\n",
       "\t p\\_\\_Bacteroidota     & c\\_\\_Bacteroidia   & o\\_\\_Bacteroidales      & f\\_\\_Bacteroidaceae            & g\\_\\_Bacteroides         & s\\_\\_Bacteroides xylanisolvens       & adult  &  13\\\\\n",
       "\t p\\_\\_Bacteroidota     & c\\_\\_Bacteroidia   & o\\_\\_Bacteroidales      & f\\_\\_Bacteroidaceae            & g\\_\\_Bacteroides         & s\\_\\_Bacteroides thetaiotaomicron    & adult  &  10\\\\\n",
       "\t p\\_\\_Firmicutes\\_A     & c\\_\\_Clostridia    & o\\_\\_Lachnospirales     & f\\_\\_Lachnospiraceae           & g\\_\\_Dorea               & s\\_\\_Dorea formicigenerans           & adult  &   9\\\\\n",
       "\t p\\_\\_Firmicutes       & c\\_\\_Bacilli       & o\\_\\_Erysipelotrichales & f\\_\\_Erysipelotrichaceae       & g\\_\\_Holdemanella        & s\\_\\_Holdemanella biformis           & adult  &   7\\\\\n",
       "\t p\\_\\_Firmicutes       & c\\_\\_Bacilli       & o\\_\\_Erysipelotrichales & f\\_\\_Erysipelatoclostridiaceae & g\\_\\_Catenibacterium     & s\\_\\_Catenibacterium mitsuokai       & adult  &   4\\\\\n",
       "\t p\\_\\_Bacteroidota     & c\\_\\_Bacteroidia   & o\\_\\_Bacteroidales      & f\\_\\_Bacteroidaceae            & g\\_\\_Bacteroides         & s\\_\\_Bacteroides uniformis           & infant & 260\\\\\n",
       "\t p\\_\\_Bacteroidota     & c\\_\\_Bacteroidia   & o\\_\\_Bacteroidales      & f\\_\\_Bacteroidaceae            & g\\_\\_Phocaeicola         & s\\_\\_Phocaeicola vulgatus            & infant & 197\\\\\n",
       "\t p\\_\\_Firmicutes\\_A     & c\\_\\_Clostridia    & o\\_\\_Lachnospirales     & f\\_\\_Lachnospiraceae           & g\\_\\_Blautia\\_A           & s\\_\\_Blautia\\_A wexlerae              & infant & 139\\\\\n",
       "\t p\\_\\_Actinobacteriota & c\\_\\_Actinomycetia & o\\_\\_Actinomycetales    & f\\_\\_Bifidobacteriaceae        & g\\_\\_Bifidobacterium     & s\\_\\_Bifidobacterium longum          & infant & 130\\\\\n",
       "\t p\\_\\_Bacteroidota     & c\\_\\_Bacteroidia   & o\\_\\_Bacteroidales      & f\\_\\_Tannerellaceae            & g\\_\\_Parabacteroides     & s\\_\\_Parabacteroides distasonis      & infant & 120\\\\\n",
       "\t p\\_\\_Bacteroidota     & c\\_\\_Bacteroidia   & o\\_\\_Bacteroidales      & f\\_\\_Bacteroidaceae            & g\\_\\_Phocaeicola         & s\\_\\_Phocaeicola dorei               & infant &  80\\\\\n",
       "\t p\\_\\_Bacteroidota     & c\\_\\_Bacteroidia   & o\\_\\_Bacteroidales      & f\\_\\_Bacteroidaceae            & g\\_\\_Bacteroides         & s\\_\\_Bacteroides ovatus              & infant &  51\\\\\n",
       "\t p\\_\\_Bacteroidota     & c\\_\\_Bacteroidia   & o\\_\\_Bacteroidales      & f\\_\\_Bacteroidaceae            & g\\_\\_Prevotella          & s\\_\\_Prevotella copri                & infant &  40\\\\\n",
       "\t p\\_\\_Actinobacteriota & c\\_\\_Actinomycetia & o\\_\\_Actinomycetales    & f\\_\\_Bifidobacteriaceae        & g\\_\\_Bifidobacterium     & s\\_\\_Bifidobacterium bifidum         & infant &  36\\\\\n",
       "\t p\\_\\_Firmicutes\\_A     & c\\_\\_Clostridia    & o\\_\\_Lachnospirales     & f\\_\\_Lachnospiraceae           & g\\_\\_Ruminococcus\\_B      & s\\_\\_Ruminococcus\\_B gnavus           & infant &  26\\\\\n",
       "\t p\\_\\_Bacteroidota     & c\\_\\_Bacteroidia   & o\\_\\_Bacteroidales      & f\\_\\_Bacteroidaceae            & g\\_\\_Bacteroides         & s\\_\\_Bacteroides xylanisolvens       & infant &  13\\\\\n",
       "\t p\\_\\_Bacteroidota     & c\\_\\_Bacteroidia   & o\\_\\_Bacteroidales      & f\\_\\_Bacteroidaceae            & g\\_\\_Bacteroides         & s\\_\\_Bacteroides thetaiotaomicron    & infant &  10\\\\\n",
       "\t p\\_\\_Actinobacteriota & c\\_\\_Actinomycetia & o\\_\\_Actinomycetales    & f\\_\\_Bifidobacteriaceae        & g\\_\\_Bifidobacterium     & s\\_\\_Bifidobacterium breve           & infant &   1\\\\\n",
       "\\end{tabular}\n"
      ],
      "text/markdown": [
       "\n",
       "A tidytable: 47 × 8\n",
       "\n",
       "| Phylum &lt;chr&gt; | Class &lt;chr&gt; | Order &lt;chr&gt; | Family &lt;chr&gt; | Genus &lt;chr&gt; | Species &lt;chr&gt; | age_group &lt;chr&gt; | n &lt;int&gt; |\n",
       "|---|---|---|---|---|---|---|---|\n",
       "| p__Bacteroidota     | c__Bacteroidia   | o__Bacteroidales      | f__Bacteroidaceae            | g__Bacteroides         | s__Bacteroides uniformis           | adult  | 260 |\n",
       "| p__Firmicutes_A     | c__Clostridia    | o__Lachnospirales     | f__Lachnospiraceae           | g__Agathobacter        | s__Agathobacter rectalis           | adult  | 210 |\n",
       "| p__Bacteroidota     | c__Bacteroidia   | o__Bacteroidales      | f__Rikenellaceae             | g__Alistipes           | s__Alistipes putredinis            | adult  | 202 |\n",
       "| p__Bacteroidota     | c__Bacteroidia   | o__Bacteroidales      | f__Bacteroidaceae            | g__Phocaeicola         | s__Phocaeicola vulgatus            | adult  | 197 |\n",
       "| p__Firmicutes_A     | c__Clostridia    | o__Lachnospirales     | f__Lachnospiraceae           | g__Anaerostipes        | s__Anaerostipes hadrus             | adult  | 153 |\n",
       "| p__Bacteroidota     | c__Bacteroidia   | o__Bacteroidales      | f__Barnesiellaceae           | g__Barnesiella         | s__Barnesiella intestinihominis    | adult  | 153 |\n",
       "| p__Firmicutes_A     | c__Clostridia    | o__Lachnospirales     | f__Lachnospiraceae           | g__Fusicatenibacter    | s__Fusicatenibacter saccharivorans | adult  | 142 |\n",
       "| p__Firmicutes_A     | c__Clostridia    | o__Lachnospirales     | f__Lachnospiraceae           | g__Blautia_A           | s__Blautia_A wexlerae              | adult  | 139 |\n",
       "| p__Actinobacteriota | c__Actinomycetia | o__Actinomycetales    | f__Bifidobacteriaceae        | g__Bifidobacterium     | s__Bifidobacterium longum          | adult  | 130 |\n",
       "| p__Firmicutes_A     | c__Clostridia    | o__Oscillospirales    | f__Ruminococcaceae           | g__Ruminococcus_D      | s__Ruminococcus_D bicirculans      | adult  | 125 |\n",
       "| p__Bacteroidota     | c__Bacteroidia   | o__Bacteroidales      | f__Tannerellaceae            | g__Parabacteroides     | s__Parabacteroides distasonis      | adult  | 120 |\n",
       "| p__Firmicutes_A     | c__Clostridia    | o__Lachnospirales     | f__Lachnospiraceae           | g__Anaerobutyricum     | s__Anaerobutyricum hallii          | adult  | 112 |\n",
       "| p__Actinobacteriota | c__Actinomycetia | o__Actinomycetales    | f__Bifidobacteriaceae        | g__Bifidobacterium     | s__Bifidobacterium adolescentis    | adult  | 108 |\n",
       "| p__Firmicutes_A     | c__Clostridia    | o__Lachnospirales     | f__Lachnospiraceae           | g__Lachnospira         | s__Lachnospira eligens_B           | adult  |  94 |\n",
       "| p__Firmicutes_A     | c__Clostridia    | o__Lachnospirales     | f__Lachnospiraceae           | g__Agathobacter        | s__Agathobacter faecis             | adult  |  89 |\n",
       "| p__Bacteroidota     | c__Bacteroidia   | o__Bacteroidales      | f__Marinifilaceae            | g__Odoribacter         | s__Odoribacter splanchnicus        | adult  |  88 |\n",
       "| p__Bacteroidota     | c__Bacteroidia   | o__Bacteroidales      | f__Tannerellaceae            | g__Parabacteroides     | s__Parabacteroides merdae          | adult  |  88 |\n",
       "| p__Firmicutes_A     | c__Clostridia    | o__Oscillospirales    | f__Ruminococcaceae           | g__Ruminiclostridium_E | s__Ruminiclostridium_E siraeum     | adult  |  84 |\n",
       "| p__Firmicutes_A     | c__Clostridia    | o__Oscillospirales    | f__Acutalibacteraceae        | g__CAG-180             | s__CAG-180 sp000432435             | adult  |  80 |\n",
       "| p__Bacteroidota     | c__Bacteroidia   | o__Bacteroidales      | f__Bacteroidaceae            | g__Phocaeicola         | s__Phocaeicola dorei               | adult  |  80 |\n",
       "| p__Firmicutes_A     | c__Clostridia    | o__Lachnospirales     | f__Lachnospiraceae           | g__Mediterraneibacter  | s__Mediterraneibacter torques      | adult  |  78 |\n",
       "| p__Firmicutes_A     | c__Clostridia    | o__Lachnospirales     | f__Lachnospiraceae           | g__Bariatricus         | s__Bariatricus comes               | adult  |  76 |\n",
       "| p__Firmicutes_A     | c__Clostridia    | o__Oscillospirales    | f__Acutalibacteraceae        | g__Eubacterium_R       | s__Eubacterium_R sp000436835       | adult  |  59 |\n",
       "| p__Bacteroidota     | c__Bacteroidia   | o__Bacteroidales      | f__Bacteroidaceae            | g__Bacteroides         | s__Bacteroides ovatus              | adult  |  51 |\n",
       "| p__Firmicutes_A     | c__Clostridia    | o__Lachnospirales     | f__Lachnospiraceae           | g__Lachnospira         | s__Lachnospira rogosae             | adult  |  41 |\n",
       "| p__Bacteroidota     | c__Bacteroidia   | o__Bacteroidales      | f__Bacteroidaceae            | g__Prevotella          | s__Prevotella copri                | adult  |  40 |\n",
       "| p__Bacteroidota     | c__Bacteroidia   | o__Bacteroidales      | f__Bacteroidaceae            | g__Bacteroides         | s__Bacteroides caccae              | adult  |  36 |\n",
       "| p__Firmicutes_A     | c__Clostridia    | o__Lachnospirales     | f__Lachnospiraceae           | g__Roseburia           | s__Roseburia intestinalis          | adult  |  34 |\n",
       "| p__Firmicutes_A     | c__Clostridia    | o__Oscillospirales    | f__Oscillospiraceae          | g__CAG-83              | s__CAG-83 sp000435975              | adult  |  29 |\n",
       "| p__Bacteroidota     | c__Bacteroidia   | o__Bacteroidales      | f__Bacteroidaceae            | g__Bacteroides         | s__Bacteroides xylanisolvens       | adult  |  13 |\n",
       "| p__Bacteroidota     | c__Bacteroidia   | o__Bacteroidales      | f__Bacteroidaceae            | g__Bacteroides         | s__Bacteroides thetaiotaomicron    | adult  |  10 |\n",
       "| p__Firmicutes_A     | c__Clostridia    | o__Lachnospirales     | f__Lachnospiraceae           | g__Dorea               | s__Dorea formicigenerans           | adult  |   9 |\n",
       "| p__Firmicutes       | c__Bacilli       | o__Erysipelotrichales | f__Erysipelotrichaceae       | g__Holdemanella        | s__Holdemanella biformis           | adult  |   7 |\n",
       "| p__Firmicutes       | c__Bacilli       | o__Erysipelotrichales | f__Erysipelatoclostridiaceae | g__Catenibacterium     | s__Catenibacterium mitsuokai       | adult  |   4 |\n",
       "| p__Bacteroidota     | c__Bacteroidia   | o__Bacteroidales      | f__Bacteroidaceae            | g__Bacteroides         | s__Bacteroides uniformis           | infant | 260 |\n",
       "| p__Bacteroidota     | c__Bacteroidia   | o__Bacteroidales      | f__Bacteroidaceae            | g__Phocaeicola         | s__Phocaeicola vulgatus            | infant | 197 |\n",
       "| p__Firmicutes_A     | c__Clostridia    | o__Lachnospirales     | f__Lachnospiraceae           | g__Blautia_A           | s__Blautia_A wexlerae              | infant | 139 |\n",
       "| p__Actinobacteriota | c__Actinomycetia | o__Actinomycetales    | f__Bifidobacteriaceae        | g__Bifidobacterium     | s__Bifidobacterium longum          | infant | 130 |\n",
       "| p__Bacteroidota     | c__Bacteroidia   | o__Bacteroidales      | f__Tannerellaceae            | g__Parabacteroides     | s__Parabacteroides distasonis      | infant | 120 |\n",
       "| p__Bacteroidota     | c__Bacteroidia   | o__Bacteroidales      | f__Bacteroidaceae            | g__Phocaeicola         | s__Phocaeicola dorei               | infant |  80 |\n",
       "| p__Bacteroidota     | c__Bacteroidia   | o__Bacteroidales      | f__Bacteroidaceae            | g__Bacteroides         | s__Bacteroides ovatus              | infant |  51 |\n",
       "| p__Bacteroidota     | c__Bacteroidia   | o__Bacteroidales      | f__Bacteroidaceae            | g__Prevotella          | s__Prevotella copri                | infant |  40 |\n",
       "| p__Actinobacteriota | c__Actinomycetia | o__Actinomycetales    | f__Bifidobacteriaceae        | g__Bifidobacterium     | s__Bifidobacterium bifidum         | infant |  36 |\n",
       "| p__Firmicutes_A     | c__Clostridia    | o__Lachnospirales     | f__Lachnospiraceae           | g__Ruminococcus_B      | s__Ruminococcus_B gnavus           | infant |  26 |\n",
       "| p__Bacteroidota     | c__Bacteroidia   | o__Bacteroidales      | f__Bacteroidaceae            | g__Bacteroides         | s__Bacteroides xylanisolvens       | infant |  13 |\n",
       "| p__Bacteroidota     | c__Bacteroidia   | o__Bacteroidales      | f__Bacteroidaceae            | g__Bacteroides         | s__Bacteroides thetaiotaomicron    | infant |  10 |\n",
       "| p__Actinobacteriota | c__Actinomycetia | o__Actinomycetales    | f__Bifidobacteriaceae        | g__Bifidobacterium     | s__Bifidobacterium breve           | infant |   1 |\n",
       "\n"
      ],
      "text/plain": [
       "   Phylum              Class            Order                \n",
       "1  p__Bacteroidota     c__Bacteroidia   o__Bacteroidales     \n",
       "2  p__Firmicutes_A     c__Clostridia    o__Lachnospirales    \n",
       "3  p__Bacteroidota     c__Bacteroidia   o__Bacteroidales     \n",
       "4  p__Bacteroidota     c__Bacteroidia   o__Bacteroidales     \n",
       "5  p__Firmicutes_A     c__Clostridia    o__Lachnospirales    \n",
       "6  p__Bacteroidota     c__Bacteroidia   o__Bacteroidales     \n",
       "7  p__Firmicutes_A     c__Clostridia    o__Lachnospirales    \n",
       "8  p__Firmicutes_A     c__Clostridia    o__Lachnospirales    \n",
       "9  p__Actinobacteriota c__Actinomycetia o__Actinomycetales   \n",
       "10 p__Firmicutes_A     c__Clostridia    o__Oscillospirales   \n",
       "11 p__Bacteroidota     c__Bacteroidia   o__Bacteroidales     \n",
       "12 p__Firmicutes_A     c__Clostridia    o__Lachnospirales    \n",
       "13 p__Actinobacteriota c__Actinomycetia o__Actinomycetales   \n",
       "14 p__Firmicutes_A     c__Clostridia    o__Lachnospirales    \n",
       "15 p__Firmicutes_A     c__Clostridia    o__Lachnospirales    \n",
       "16 p__Bacteroidota     c__Bacteroidia   o__Bacteroidales     \n",
       "17 p__Bacteroidota     c__Bacteroidia   o__Bacteroidales     \n",
       "18 p__Firmicutes_A     c__Clostridia    o__Oscillospirales   \n",
       "19 p__Firmicutes_A     c__Clostridia    o__Oscillospirales   \n",
       "20 p__Bacteroidota     c__Bacteroidia   o__Bacteroidales     \n",
       "21 p__Firmicutes_A     c__Clostridia    o__Lachnospirales    \n",
       "22 p__Firmicutes_A     c__Clostridia    o__Lachnospirales    \n",
       "23 p__Firmicutes_A     c__Clostridia    o__Oscillospirales   \n",
       "24 p__Bacteroidota     c__Bacteroidia   o__Bacteroidales     \n",
       "25 p__Firmicutes_A     c__Clostridia    o__Lachnospirales    \n",
       "26 p__Bacteroidota     c__Bacteroidia   o__Bacteroidales     \n",
       "27 p__Bacteroidota     c__Bacteroidia   o__Bacteroidales     \n",
       "28 p__Firmicutes_A     c__Clostridia    o__Lachnospirales    \n",
       "29 p__Firmicutes_A     c__Clostridia    o__Oscillospirales   \n",
       "30 p__Bacteroidota     c__Bacteroidia   o__Bacteroidales     \n",
       "31 p__Bacteroidota     c__Bacteroidia   o__Bacteroidales     \n",
       "32 p__Firmicutes_A     c__Clostridia    o__Lachnospirales    \n",
       "33 p__Firmicutes       c__Bacilli       o__Erysipelotrichales\n",
       "34 p__Firmicutes       c__Bacilli       o__Erysipelotrichales\n",
       "35 p__Bacteroidota     c__Bacteroidia   o__Bacteroidales     \n",
       "36 p__Bacteroidota     c__Bacteroidia   o__Bacteroidales     \n",
       "37 p__Firmicutes_A     c__Clostridia    o__Lachnospirales    \n",
       "38 p__Actinobacteriota c__Actinomycetia o__Actinomycetales   \n",
       "39 p__Bacteroidota     c__Bacteroidia   o__Bacteroidales     \n",
       "40 p__Bacteroidota     c__Bacteroidia   o__Bacteroidales     \n",
       "41 p__Bacteroidota     c__Bacteroidia   o__Bacteroidales     \n",
       "42 p__Bacteroidota     c__Bacteroidia   o__Bacteroidales     \n",
       "43 p__Actinobacteriota c__Actinomycetia o__Actinomycetales   \n",
       "44 p__Firmicutes_A     c__Clostridia    o__Lachnospirales    \n",
       "45 p__Bacteroidota     c__Bacteroidia   o__Bacteroidales     \n",
       "46 p__Bacteroidota     c__Bacteroidia   o__Bacteroidales     \n",
       "47 p__Actinobacteriota c__Actinomycetia o__Actinomycetales   \n",
       "   Family                       Genus                 \n",
       "1  f__Bacteroidaceae            g__Bacteroides        \n",
       "2  f__Lachnospiraceae           g__Agathobacter       \n",
       "3  f__Rikenellaceae             g__Alistipes          \n",
       "4  f__Bacteroidaceae            g__Phocaeicola        \n",
       "5  f__Lachnospiraceae           g__Anaerostipes       \n",
       "6  f__Barnesiellaceae           g__Barnesiella        \n",
       "7  f__Lachnospiraceae           g__Fusicatenibacter   \n",
       "8  f__Lachnospiraceae           g__Blautia_A          \n",
       "9  f__Bifidobacteriaceae        g__Bifidobacterium    \n",
       "10 f__Ruminococcaceae           g__Ruminococcus_D     \n",
       "11 f__Tannerellaceae            g__Parabacteroides    \n",
       "12 f__Lachnospiraceae           g__Anaerobutyricum    \n",
       "13 f__Bifidobacteriaceae        g__Bifidobacterium    \n",
       "14 f__Lachnospiraceae           g__Lachnospira        \n",
       "15 f__Lachnospiraceae           g__Agathobacter       \n",
       "16 f__Marinifilaceae            g__Odoribacter        \n",
       "17 f__Tannerellaceae            g__Parabacteroides    \n",
       "18 f__Ruminococcaceae           g__Ruminiclostridium_E\n",
       "19 f__Acutalibacteraceae        g__CAG-180            \n",
       "20 f__Bacteroidaceae            g__Phocaeicola        \n",
       "21 f__Lachnospiraceae           g__Mediterraneibacter \n",
       "22 f__Lachnospiraceae           g__Bariatricus        \n",
       "23 f__Acutalibacteraceae        g__Eubacterium_R      \n",
       "24 f__Bacteroidaceae            g__Bacteroides        \n",
       "25 f__Lachnospiraceae           g__Lachnospira        \n",
       "26 f__Bacteroidaceae            g__Prevotella         \n",
       "27 f__Bacteroidaceae            g__Bacteroides        \n",
       "28 f__Lachnospiraceae           g__Roseburia          \n",
       "29 f__Oscillospiraceae          g__CAG-83             \n",
       "30 f__Bacteroidaceae            g__Bacteroides        \n",
       "31 f__Bacteroidaceae            g__Bacteroides        \n",
       "32 f__Lachnospiraceae           g__Dorea              \n",
       "33 f__Erysipelotrichaceae       g__Holdemanella       \n",
       "34 f__Erysipelatoclostridiaceae g__Catenibacterium    \n",
       "35 f__Bacteroidaceae            g__Bacteroides        \n",
       "36 f__Bacteroidaceae            g__Phocaeicola        \n",
       "37 f__Lachnospiraceae           g__Blautia_A          \n",
       "38 f__Bifidobacteriaceae        g__Bifidobacterium    \n",
       "39 f__Tannerellaceae            g__Parabacteroides    \n",
       "40 f__Bacteroidaceae            g__Phocaeicola        \n",
       "41 f__Bacteroidaceae            g__Bacteroides        \n",
       "42 f__Bacteroidaceae            g__Prevotella         \n",
       "43 f__Bifidobacteriaceae        g__Bifidobacterium    \n",
       "44 f__Lachnospiraceae           g__Ruminococcus_B     \n",
       "45 f__Bacteroidaceae            g__Bacteroides        \n",
       "46 f__Bacteroidaceae            g__Bacteroides        \n",
       "47 f__Bifidobacteriaceae        g__Bifidobacterium    \n",
       "   Species                            age_group n  \n",
       "1  s__Bacteroides uniformis           adult     260\n",
       "2  s__Agathobacter rectalis           adult     210\n",
       "3  s__Alistipes putredinis            adult     202\n",
       "4  s__Phocaeicola vulgatus            adult     197\n",
       "5  s__Anaerostipes hadrus             adult     153\n",
       "6  s__Barnesiella intestinihominis    adult     153\n",
       "7  s__Fusicatenibacter saccharivorans adult     142\n",
       "8  s__Blautia_A wexlerae              adult     139\n",
       "9  s__Bifidobacterium longum          adult     130\n",
       "10 s__Ruminococcus_D bicirculans      adult     125\n",
       "11 s__Parabacteroides distasonis      adult     120\n",
       "12 s__Anaerobutyricum hallii          adult     112\n",
       "13 s__Bifidobacterium adolescentis    adult     108\n",
       "14 s__Lachnospira eligens_B           adult      94\n",
       "15 s__Agathobacter faecis             adult      89\n",
       "16 s__Odoribacter splanchnicus        adult      88\n",
       "17 s__Parabacteroides merdae          adult      88\n",
       "18 s__Ruminiclostridium_E siraeum     adult      84\n",
       "19 s__CAG-180 sp000432435             adult      80\n",
       "20 s__Phocaeicola dorei               adult      80\n",
       "21 s__Mediterraneibacter torques      adult      78\n",
       "22 s__Bariatricus comes               adult      76\n",
       "23 s__Eubacterium_R sp000436835       adult      59\n",
       "24 s__Bacteroides ovatus              adult      51\n",
       "25 s__Lachnospira rogosae             adult      41\n",
       "26 s__Prevotella copri                adult      40\n",
       "27 s__Bacteroides caccae              adult      36\n",
       "28 s__Roseburia intestinalis          adult      34\n",
       "29 s__CAG-83 sp000435975              adult      29\n",
       "30 s__Bacteroides xylanisolvens       adult      13\n",
       "31 s__Bacteroides thetaiotaomicron    adult      10\n",
       "32 s__Dorea formicigenerans           adult       9\n",
       "33 s__Holdemanella biformis           adult       7\n",
       "34 s__Catenibacterium mitsuokai       adult       4\n",
       "35 s__Bacteroides uniformis           infant    260\n",
       "36 s__Phocaeicola vulgatus            infant    197\n",
       "37 s__Blautia_A wexlerae              infant    139\n",
       "38 s__Bifidobacterium longum          infant    130\n",
       "39 s__Parabacteroides distasonis      infant    120\n",
       "40 s__Phocaeicola dorei               infant     80\n",
       "41 s__Bacteroides ovatus              infant     51\n",
       "42 s__Prevotella copri                infant     40\n",
       "43 s__Bifidobacterium bifidum         infant     36\n",
       "44 s__Ruminococcus_B gnavus           infant     26\n",
       "45 s__Bacteroides xylanisolvens       infant     13\n",
       "46 s__Bacteroides thetaiotaomicron    infant     10\n",
       "47 s__Bifidobacterium breve           infant      1"
      ]
     },
     "metadata": {},
     "output_type": "display_data"
    }
   ],
   "source": [
    "# by species\n",
    "df.dims(50)\n",
    "drep_f %>%\n",
    "    mutate.(taxonomy = paste(Phylum, Species, sep=';')) %>%\n",
    "    summarize.(n = n.(),\n",
    "               .by=c(Phylum, Class, Order, Family, Genus, Species, age_group)) %>%\n",
    "    arrange.(age_group, -n)\n",
    "df.dims()"
   ]
  },
  {
   "cell_type": "markdown",
   "metadata": {},
   "source": [
    "# sessionInfo"
   ]
  },
  {
   "cell_type": "code",
   "execution_count": 21,
   "metadata": {
    "ExecuteTime": {
     "end_time": "2021-07-30T11:05:48.596547Z",
     "start_time": "2021-07-30T11:05:48.539Z"
    }
   },
   "outputs": [
    {
     "data": {
      "text/plain": [
       "R version 4.1.0 (2021-05-18)\n",
       "Platform: x86_64-conda-linux-gnu (64-bit)\n",
       "Running under: Ubuntu 18.04.5 LTS\n",
       "\n",
       "Matrix products: default\n",
       "BLAS/LAPACK: /ebio/abt3_projects/Anxiety_Twins_Metagenomes/envs/tidyverse2/lib/libopenblasp-r0.3.12.so\n",
       "\n",
       "locale:\n",
       " [1] LC_CTYPE=en_US.UTF-8       LC_NUMERIC=C              \n",
       " [3] LC_TIME=en_US.UTF-8        LC_COLLATE=en_US.UTF-8    \n",
       " [5] LC_MONETARY=en_US.UTF-8    LC_MESSAGES=en_US.UTF-8   \n",
       " [7] LC_PAPER=en_US.UTF-8       LC_NAME=C                 \n",
       " [9] LC_ADDRESS=C               LC_TELEPHONE=C            \n",
       "[11] LC_MEASUREMENT=en_US.UTF-8 LC_IDENTIFICATION=C       \n",
       "\n",
       "attached base packages:\n",
       "[1] stats     graphics  grDevices utils     datasets  methods   base     \n",
       "\n",
       "other attached packages:\n",
       "[1] LeyLabRMisc_0.1.9 tidytable_0.6.3   data.table_1.14.0 ggplot2_3.3.5    \n",
       "[5] tidyr_1.1.3       dplyr_1.0.7      \n",
       "\n",
       "loaded via a namespace (and not attached):\n",
       " [1] pillar_1.6.1      compiler_4.1.0    base64enc_0.1-3   tools_4.1.0      \n",
       " [5] digest_0.6.27     uuid_0.1-4        jsonlite_1.7.2    evaluate_0.14    \n",
       " [9] lifecycle_1.0.0   tibble_3.1.2      gtable_0.3.0      pkgconfig_2.0.3  \n",
       "[13] rlang_0.4.11      IRdisplay_1.0     IRkernel_1.2      repr_1.1.3       \n",
       "[17] withr_2.4.2       stringr_1.4.0     generics_0.1.0    vctrs_0.3.8      \n",
       "[21] grid_4.1.0        tidyselect_1.1.1  glue_1.4.2        R6_2.5.0         \n",
       "[25] fansi_0.4.2       pbdZMQ_0.3-5      purrr_0.3.4       magrittr_2.0.1   \n",
       "[29] scales_1.1.1      ellipsis_0.3.2    htmltools_0.5.1.1 colorspace_2.0-2 \n",
       "[33] utf8_1.2.1        stringi_1.6.2     munsell_0.5.0     crayon_1.4.1     "
      ]
     },
     "metadata": {},
     "output_type": "display_data"
    }
   ],
   "source": [
    "sessionInfo()"
   ]
  },
  {
   "cell_type": "code",
   "execution_count": null,
   "metadata": {},
   "outputs": [],
   "source": []
  }
 ],
 "metadata": {
  "kernelspec": {
   "display_name": "R [conda env:Anxiety_Twins_Metagenomes-tidyverse2]",
   "language": "R",
   "name": "conda-env-Anxiety_Twins_Metagenomes-tidyverse2-r"
  },
  "language_info": {
   "codemirror_mode": "r",
   "file_extension": ".r",
   "mimetype": "text/x-r-source",
   "name": "R",
   "pygments_lexer": "r",
   "version": "4.1.0"
  },
  "notify_time": "30",
  "toc": {
   "base_numbering": 1,
   "nav_menu": {},
   "number_sections": true,
   "sideBar": true,
   "skip_h1_title": false,
   "title_cell": "Table of Contents",
   "title_sidebar": "Contents",
   "toc_cell": true,
   "toc_position": {},
   "toc_section_display": true,
   "toc_window_display": true
  }
 },
 "nbformat": 4,
 "nbformat_minor": 4
}
